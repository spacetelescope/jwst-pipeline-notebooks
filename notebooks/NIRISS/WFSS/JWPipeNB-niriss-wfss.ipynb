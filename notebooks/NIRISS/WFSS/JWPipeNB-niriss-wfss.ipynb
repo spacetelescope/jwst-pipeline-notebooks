{
 "cells": [
  {
   "cell_type": "markdown",
   "id": "2904b3c4-177a-4462-b15a-2f7e18d8be31",
   "metadata": {},
   "source": [
    "<img style=\"float: center;\" src='https://github.com/spacetelescope/jwst-pipeline-notebooks/raw/main/_static/stsci_header.png' alt=\"stsci_logo\" width=\"900px\"/> "
   ]
  },
  {
   "cell_type": "markdown",
   "id": "d5382792-7180-4bfb-907e-1e5757dd8727",
   "metadata": {},
   "source": [
    "# NIRISS Wide Field Slitless Spectroscopy (WFSS) Pipeline Notebook\n",
    "\n",
    "**Authors**: R. Plesha<br>\n",
    "**Last Updated**: August 13, 2025<br>\n",
    "**Pipeline Version**: 1.19.1 (Build 12.0)"
   ]
  },
  {
   "cell_type": "markdown",
   "id": "c92487e8-9a90-40db-9336-da4b8f6bb823",
   "metadata": {},
   "source": [
    "# **Purpose**:\n",
    "\n",
    "This notebook provides a framework for processing generic Near-Infrared Imager and Slitless Spectrograph (NIRISS) wide field slitless spectroscopy (WFSS) data through the James Webb Space Telescope (JWST) pipeline.  Data is assumed to be located in one observation folder according to paths set up below. It should not be necessary to edit any cells other than in the [Configuration](#1.-Configuration) section unless modifying the standard pipeline processing options. Additional notebooks showing how to optimize and modify sources being extracted for NIRISS WFSS data can be found on the [JDAT notebooks github](https://github.com/spacetelescope/jdat_notebooks/tree/main/notebooks/NIRISS/NIRISS_WFSS_advanced).\n",
    "\n",
    "**Data**:\n",
    "This example uses data from the [Program ID 2079](https://www.stsci.edu/jwst/science-execution/program-information?program=2079) observation 004 (PI: Finkelstein) observing the Hubble Ultra Deep Field (HUDF). The observations are in three [NIRISS filters](https://jwst-docs.stsci.edu/jwst-near-infrared-imager-and-slitless-spectrograph/niriss-instrumentation/niriss-pupil-and-filter-wheels): F115W, F150W, and F200W use both GR150R and GR150C [grisms](https://jwst-docs.stsci.edu/jwst-near-infrared-imager-and-slitless-spectrograph/niriss-instrumentation/niriss-gr150-grisms). In this example we are only looking at data using the F200W filter. A [NIRISS WFSS observation sequence](https://jwst-docs.stsci.edu/jwst-near-infrared-imager-and-slitless-spectrograph/niriss-observing-strategies/niriss-wfss-recommended-strategies) typically consists of a direct image followed by a grism observation in the same blocking filter to help identify the sources in the field. In program 2079, the exposure sequence follows the pattern: direct image -> GR150R -> direct image -> GR150C -> direct image.\n",
    "\n",
    "Example input data to use will be downloaded automatically unless disabled (i.e., to use local files instead).\n",
    "\n",
    "**JWST pipeline version and CRDS context** This notebook was written for the calibration pipeline version given above. The JWST Calibration Reference Data System (CRDS) context used is associated with the pipeline version as listed [here](https://jwst-crds.stsci.edu/display_build_contexts/). If you use different pipeline version or CRDS context, please read the relevant release notes ([here for pipeline](https://github.com/spacetelescope/jwst), [here for CRDS](https://jwst-crds.stsci.edu/)) for possibly relevant changes.<BR>\n",
    "\n",
    "**Updates**:\n",
    "This notebook is regularly updated as improvements are made to the pipeline. Find the most up to date version of this notebook at: https://github.com/spacetelescope/jwst-pipeline-notebooks/\n",
    "\n",
    "**Recent Changes**:<br>\n",
    "August 13, 2025: original notebook released<br>"
   ]
  },
  {
   "cell_type": "markdown",
   "id": "3ff20aae-383e-4799-a667-8291b249b08f",
   "metadata": {},
   "source": [
    "<hr style=\"border:1px solid gray\"> </hr>"
   ]
  },
  {
   "cell_type": "markdown",
   "id": "7ce7afd0-ce14-43f5-8fad-82d471465e8d",
   "metadata": {},
   "source": [
    "## Table of Contents\n",
    "1. [Configuration](#1.-Configuration) \n",
    "2. [Package Imports](#2.-Package-Imports)\n",
    "3. [Demo Mode Setup](#3.-Demo-Mode-Setup)\n",
    "4. [Detector 1 Pipeline](#4.-Detector1-Pipeline)\n",
    "5. [Image2 Pipeline](#5.-Image2-Pipeline)\n",
    "6. [Image3 Pipeline](#6.-Image3-Pipeline)\n",
    "7. [Spec2 Pipeline](#7.-Spec2-Pipeline)\n",
    "8. [Spec3 Pipeline](#8.-Spec3-Pipeline)"
   ]
  },
  {
   "cell_type": "markdown",
   "id": "7f34701d-f980-4bc4-93f6-94f8db4c39f3",
   "metadata": {},
   "source": [
    "<hr style=\"border:1px solid gray\"> </hr>"
   ]
  },
  {
   "cell_type": "markdown",
   "id": "d9b817ff-06c6-44c3-b8dd-4ace478df95c",
   "metadata": {},
   "source": [
    "## 1. Configuration\n",
    "------------------\n",
    "Set basic configuration for running notebook."
   ]
  },
  {
   "cell_type": "markdown",
   "id": "d05157d9-a3ba-41aa-9118-0d9df5b03c8a",
   "metadata": {},
   "source": [
    "#### Install dependencies and parameters"
   ]
  },
  {
   "cell_type": "markdown",
   "id": "3c1c0246-4681-405e-82f4-bb448615cb9f",
   "metadata": {},
   "source": [
    "To make sure that the pipeline version is compatabile with the steps\n",
    "discussed below and the required dependencies and packages are installed,\n",
    "you can create a fresh conda environment and install the provided\n",
    "`requirements.txt` file:\n",
    "```\n",
    "conda create -n niriss_wfss_pipeline python=3.11\n",
    "conda activate niriss_wfss_pipeline\n",
    "pip install -r requirements.txt\n",
    "```\n",
    "\n",
    "Set the basic parameters to use with this notebook. These will affect\n",
    "what data is used, where data is located (if already in disk), and\n",
    "pipeline modules run in this data. The list of parameters are:\n",
    "\n",
    "* demo_mode\n",
    "* sci_dir (directory where the data is / will be)\n",
    "* pipeline modules:\n",
    "  * dodet1\n",
    "  * doimage2\n",
    "  * doimage3\n",
    "  * dospec2\n",
    "  * dospec3\n",
    "* doviz (show visualizations of the data within the notebook)"
   ]
  },
  {
   "cell_type": "code",
   "execution_count": null,
   "id": "d57829d6-848d-45eb-8988-2f73b869524d",
   "metadata": {},
   "outputs": [],
   "source": [
    "# Basic import necessary for configuration\n",
    "import os"
   ]
  },
  {
   "cell_type": "markdown",
   "id": "7c83f50b-5797-4252-9d58-5a69d45af8ae",
   "metadata": {},
   "source": [
    "<div class=\"alert alert-block alert-warning\">\n",
    "Adjust any parameters in the cell directly below this before running to ensure <code>demo_mode</code> runs correctly.\n",
    "</div>\n",
    "\n",
    "Set <code>demo_mode = True</code> to run in demonstration mode. In this mode this notebook will download example data from the Barbara A.\n",
    "Mikulski Archive for Space Telescopes (MAST) and process everything through the pipeline. This will all happen in a local directory unless modified in [Section 3](#3.-Demo-Mode-Setup) below.\n",
    "\n",
    "Set <code>demo_mode = False</code> if you want to process your own data that has already been downloaded and provide the location of the data in the `sci_dir` variable in the cell below.<br>"
   ]
  },
  {
   "cell_type": "code",
   "execution_count": null,
   "id": "a5906221-f721-49ac-b55d-6ea7e602c7e6",
   "metadata": {},
   "outputs": [],
   "source": [
    "# Set parameters for demo_mode, channel, band, data mode directories, and \n",
    "# processing steps.\n",
    "\n",
    "# -----------------------------Demo Mode---------------------------------\n",
    "demo_mode = True\n",
    "\n",
    "if demo_mode:\n",
    "    print('Running in demonstration mode using online example data!')\n",
    "\n",
    "# --------------------------User Mode Directories------------------------\n",
    "# If demo_mode = False, look for user data in these paths\n",
    "if not demo_mode:\n",
    "    # Set directory paths for processing specific data; these will need\n",
    "    # to be changed to your local directory setup (below are given as\n",
    "    # examples)\n",
    "    user_home_dir = os.path.expanduser('~')\n",
    "\n",
    "    # Point to where science observation data are\n",
    "    # Assumes uncalibrated data in sci_dir/uncal/ and results in stage1,\n",
    "    # stage2, stage3 directories\n",
    "    sci_dir = os.path.join(user_home_dir, 'nis_wfss_demo_data/2079/obs004/')\n",
    "\n",
    "    print(f'Running using user input data from: {sci_dir}')\n",
    "\n",
    "cwd = os.getcwd()\n",
    "# --------------------------Set Processing Steps--------------------------\n",
    "# Individual pipeline stages can be turned on/off here.  Note that a later\n",
    "# stage won't be able to run unless data products have already been\n",
    "# produced from the prior stage.\n",
    "\n",
    "# Science processing\n",
    "dodet1 = True  # calwebb_detector1\n",
    "doimage2 = True  # calwebb_image2\n",
    "doimage3 = True  # calwebb_image3\n",
    "dospec2 = True # calwebb_spec2\n",
    "dospec3 = True # calwebb_spec3\n",
    "doviz = True # Visualize outputs"
   ]
  },
  {
   "cell_type": "markdown",
   "id": "9692c95f-46fa-4275-baab-41082d7e3473",
   "metadata": {},
   "source": [
    "### Set CRDS context and server\n",
    "Before importing <code>CRDS</code> and <code>JWST</code> modules, we need to configure our environment. This includes defining a CRDS cache directory in which to keep the reference files that will be used by the calibration pipeline. The pipeline will fetch and download the needed reference files to this directory.\n",
    "\n",
    "If the root directory for the local CRDS cache directory has not been set already, it will be set to create one in the home directory."
   ]
  },
  {
   "cell_type": "code",
   "execution_count": null,
   "id": "d97a5f1a-5888-4836-b4b1-68e172627207",
   "metadata": {},
   "outputs": [],
   "source": [
    "# ------------------------Set CRDS context and paths----------------------\n",
    "\n",
    "# Set CRDS context (if overriding to use a specific version of reference\n",
    "# files; leave commented out to use latest reference files by default)\n",
    "#%env CRDS_CONTEXT  jwst_1413.pmap\n",
    "\n",
    "# Check whether the local CRDS cache directory has been set.\n",
    "# If not, set it to the user home directory\n",
    "if (os.getenv('CRDS_PATH') is None):\n",
    "    os.environ['CRDS_PATH'] = os.path.join(os.path.expanduser('~'), 'crds')\n",
    "# Check whether the CRDS server URL has been set.  If not, set it.\n",
    "if (os.getenv('CRDS_SERVER_URL') is None):\n",
    "    os.environ['CRDS_SERVER_URL'] = 'https://jwst-crds.stsci.edu'\n",
    "\n",
    "# Echo CRDS path in use\n",
    "print(f\"CRDS local filepath: {os.environ['CRDS_PATH']}\")\n",
    "print(f\"CRDS file server: {os.environ['CRDS_SERVER_URL']}\")"
   ]
  },
  {
   "cell_type": "markdown",
   "id": "a4ca8bb0-dd9f-4bfb-9b6a-588bbb077a66",
   "metadata": {},
   "source": [
    "<hr style=\"border:1px solid gray\"> </hr>"
   ]
  },
  {
   "cell_type": "markdown",
   "id": "dbb23955-6cda-4eab-aabc-0093fdfe5aed",
   "metadata": {},
   "source": [
    "## 2. Package Imports\n",
    "------------------"
   ]
  },
  {
   "cell_type": "code",
   "execution_count": null,
   "id": "f7f9ad1b-0b15-48a2-8cac-b3a95f2433e3",
   "metadata": {},
   "outputs": [],
   "source": [
    "# Basic system utilities for interacting with files\n",
    "# ----------------------General Imports------------------------------------\n",
    "import glob\n",
    "import time\n",
    "import json\n",
    "\n",
    "# Data calculations and manipulation\n",
    "import numpy as np\n",
    "import pandas as pd\n",
    "\n",
    "# -----------------------Plotting Imports----------------------------------\n",
    "from matplotlib import pyplot as plt\n",
    "# interactive plots within the notebook\n",
    "%matplotlib inline\n",
    "\n",
    "# -----------------------Astronomy Imports--------------------------------\n",
    "# ASCII files, and downloading demo files\n",
    "from astroquery.mast import MastMissions\n",
    "\n",
    "# Astropy routines for visualizing detected sources:\n",
    "from astropy.io import fits\n",
    "from astropy.table import Table\n",
    "\n",
    "# for JWST calibration pipeline\n",
    "import jwst\n",
    "import crds\n",
    "\n",
    "from jwst.pipeline import Detector1Pipeline\n",
    "from jwst.pipeline import Image2Pipeline\n",
    "from jwst.pipeline import Image3Pipeline\n",
    "from jwst.pipeline import Spec2Pipeline\n",
    "from jwst.pipeline import Spec3Pipeline\n",
    "\n",
    "# JWST pipeline utilities\n",
    "from jwst import datamodels\n",
    "\n",
    "# Echo pipeline version and CRDS context in use\n",
    "print(f\"JWST Calibration Pipeline Version: {jwst.__version__}\")\n",
    "print(f\"Using CRDS Context: {crds.get_context_name('jwst')}\")"
   ]
  },
  {
   "cell_type": "markdown",
   "id": "2b75c9a4-c030-436e-af5f-c1f291d73f77",
   "metadata": {},
   "source": [
    "### Define convenience functions"
   ]
  },
  {
   "cell_type": "markdown",
   "id": "ded0b979-53b1-48f6-bf07-3cc5d6f98693",
   "metadata": {},
   "source": [
    "#### Plotting Spec2 & Spec3 convenience functions"
   ]
  },
  {
   "cell_type": "code",
   "execution_count": null,
   "id": "a10ee940-d127-4842-bfe5-e1073a5dfaf6",
   "metadata": {},
   "outputs": [],
   "source": [
    "# this function will be used to plot the i2d image for a specific source as well as the catalog x/y centroid for that source\n",
    "def plot_i2d_plus_source(catname, source_id, ax):\n",
    "    # open the i2d & catalog and find the associated source number            \n",
    "    i2dname = catname.replace('cat.ecsv', 'i2d.fits')\n",
    "    \n",
    "    cat = Table.read(catname)\n",
    "    cat_line = cat[cat['label'] == source_id]\n",
    "    \n",
    "    # plot the image\n",
    "    with fits.open(i2dname) as i2d:\n",
    "        ax_i2d.imshow(i2d[1].data, vmin=0, vmax=0.3, origin='lower', cmap='gist_gray')\n",
    "    \n",
    "    # plot up the source catalog\n",
    "    xcentroid = cat_line['xcentroid'][0]\n",
    "    ycentroid = cat_line['ycentroid'][0]\n",
    "    ax.set_xlim(xcentroid-20, xcentroid+20)\n",
    "    ax.set_ylim(ycentroid-20, ycentroid+20)\n",
    "    ax.scatter(xcentroid, ycentroid, s=20, facecolors='None', edgecolors='black', alpha=0.9)\n",
    "    ax.annotate(source_id, \n",
    "                (xcentroid+0.5, ycentroid+0.5), \n",
    "                fontsize=10,\n",
    "                color='black')\n",
    "    \n",
    "    return ax"
   ]
  },
  {
   "cell_type": "code",
   "execution_count": null,
   "id": "e77dc1ca-196f-452f-846d-a02ff68e5130",
   "metadata": {},
   "outputs": [],
   "source": [
    "# this function is used to plot the wavelength vs. flux values for x1d & c1d spectra for a specific source\n",
    "def plot_spectrum(specfile, source_fluxes, ax, sci_dir, ext=1, wavemin=1.75, wavemax=2.2, legend=True):\n",
    "    \n",
    "    with fits.open(specfile) as spec:\n",
    "\n",
    "        # pull out relevant keywords\n",
    "        grism = spec[0].header['FILTER']\n",
    "        catname = os.path.join(sci_dir, spec[0].header['SCATFILE'])\n",
    "        try:\n",
    "            label = f\"{grism} dither {spec[0].header['DIT_PATT']}\"\n",
    "        except KeyError:\n",
    "            label = f\"{grism}\" # there is no dither in the c1d files\n",
    "\n",
    "        # find where in the file the source data are\n",
    "        wh_spec_source = np.where(spec[ext].data['SOURCE_ID'] == source_id)[0]\n",
    "        \n",
    "        # if the source isn't in the file, then return a blank axis\n",
    "        if not len(wh_spec_source):\n",
    "            print(f'Source {source_id} not found in {specfile}')\n",
    "            return ax, catname, source_fluxes, grism\n",
    "                  \n",
    "        # grab the wavelength & flux data and trim off the edges for visalization purposes\n",
    "        wave = spec[ext].data['WAVELENGTH'][wh_spec_source]\n",
    "        flux = spec[ext].data['FLUX'][wh_spec_source]\n",
    "        \n",
    "        wh_wave = np.where((wave >= wavemin) & (wave <= wavemax)) # cutting off the edges\n",
    "        wave = wave[wh_wave]\n",
    "        flux = flux[wh_wave]\n",
    "        \n",
    "        source_fluxes.extend(flux) # keep the flux to set the limits of the plot later\n",
    "    \n",
    "    if grism == 'GR150R':\n",
    "        linestyle = '-'\n",
    "    else:\n",
    "        linestyle = '--'\n",
    "\n",
    "    ax.plot(wave, flux, label=label, ls=linestyle)\n",
    "    if legend:\n",
    "        ax.legend(bbox_to_anchor=(1,1))\n",
    "\n",
    "    return ax, catname, source_fluxes, grism"
   ]
  },
  {
   "cell_type": "code",
   "execution_count": null,
   "id": "89f40d98-37b5-42f8-bf39-8bc6bdcf071f",
   "metadata": {},
   "outputs": [],
   "source": [
    "# this plots the 2-D spectra for a single source. It flips the data & axes so that it appears that dispersion is increasing to the right\n",
    "def plot_spec2_cal(x1dfile, source_id, ax, transpose=False, vmin=0, vmax=10):\n",
    "\n",
    "    cal_file = x1dfile.replace('x1d.fits', 'cal.fits')\n",
    "    with fits.open(cal_file) as cal_hdu:\n",
    "        wh_cal = find_source_ext(cal_hdu, source_id)\n",
    "\n",
    "         # if the source isn't in the file, then return a blank axis\n",
    "        if wh_cal == -999:\n",
    "            print(f'Source {source_id} not found in {cal_file}')\n",
    "            return ax\n",
    "            \n",
    "        if transpose is True:\n",
    "            # we flip the GR150R data so that we can look at the two cal images along the same dispersion axis\n",
    "            cal_data = np.transpose(cal_hdu[wh_cal].data)\n",
    "        else:\n",
    "            cal_data = cal_hdu[wh_cal].data\n",
    "\n",
    "        if np.nanmedian(cal_data) > vmax:\n",
    "            vmax = np.nanmedian(cal_data) + np.nanmedian(cal_data)*0.2\n",
    "            \n",
    "        ax.imshow(cal_data, vmin=vmin, vmax=vmax, origin='lower', aspect='auto')\n",
    "\n",
    "        # the dispersion is in the -x direction, so flip the axis for ease in visualization\n",
    "        ax.invert_xaxis()\n",
    "\n",
    "                \n",
    "    return ax"
   ]
  },
  {
   "cell_type": "markdown",
   "id": "718f0502-3b8f-4c3b-832c-78b76bc832fc",
   "metadata": {},
   "source": [
    "#### Other convienence functions"
   ]
  },
  {
   "cell_type": "code",
   "execution_count": null,
   "id": "d190bf7d-8a3c-4c95-8a94-1c682e2c9af6",
   "metadata": {},
   "outputs": [],
   "source": [
    "# this function will print out the pipeline steps run on a given file\n",
    "def check_steps_run(filename):\n",
    "    \n",
    "    # Read in file as datamodel\n",
    "    dm = datamodels.open(filename)\n",
    "    \n",
    "    # Check which steps were run\n",
    "    print(f\"{dm.meta.filename} - {dm.meta.exposure.type}\")\n",
    "    for step, status in dm.meta.cal_step.instance.items():\n",
    "        print(f\"{step}: {status}\")\n",
    "    print()"
   ]
  },
  {
   "cell_type": "code",
   "execution_count": null,
   "id": "61641d4d-6604-40b6-b3fb-b3ac345927ab",
   "metadata": {},
   "outputs": [],
   "source": [
    "# this function will print out the reference files used on a given file\n",
    "def check_ref_file_used(filename):\n",
    "\n",
    "    # Read in file as datamodel\n",
    "    dm = datamodels.open(filename)\n",
    "\n",
    "    # Check which reference files were used\n",
    "    print(f\"{dm.meta.filename} - {dm.meta.exposure.type}\")\n",
    "    for step, status in dm.meta.ref_file.instance.items():\n",
    "        print(f\"{step}: {status}\")\n",
    "    print()"
   ]
  },
  {
   "cell_type": "code",
   "execution_count": null,
   "id": "18b98772-82c0-4a18-bff2-d2b6e521b226",
   "metadata": {},
   "outputs": [],
   "source": [
    "# a function to use to find the extension the source is located in the cal files\n",
    "def find_source_ext(cal_hdu, source_id, info=True):    \n",
    "    # look for cal extension, too, but only in the SCI extension; \n",
    "    # fill in with a source ID of -999 for all other extensions to get the right extension value\n",
    "    cal_source_ids = np.array([cal_hdu[ext].header['SOURCEID'] if cal_hdu[ext].header['EXTNAME'] == 'SCI'\n",
    "                               else -999 for ext in range(len(cal_hdu))[1:-1]]) \n",
    "\n",
    "    try:\n",
    "        wh_cal = np.where(cal_source_ids == source_id)[0][0] + 1 # need to add 1 for the primary header\n",
    "    except IndexError:\n",
    "        # this source doesn't exist\n",
    "        return -999\n",
    "\n",
    "    if info:\n",
    "        print(f\"Extension {wh_cal} in {cal_hdu[0].header['FILENAME']} contains the data for source {source_id} from our catalog\")\n",
    "\n",
    "    return wh_cal"
   ]
  },
  {
   "cell_type": "markdown",
   "id": "0747bd62-32b6-464b-8cad-45494e86b92c",
   "metadata": {},
   "source": [
    "<hr style=\"border:1px solid gray\"> </hr>"
   ]
  },
  {
   "cell_type": "markdown",
   "id": "694d43e3-69e2-47c4-a4e5-c6c1f23fa366",
   "metadata": {},
   "source": [
    "## 3. Demo Mode Setup\n",
    "#### (skip if not using demo data)\n",
    "------------------\n",
    "\n",
    "If running in demonstration mode, set up the program information to retrieve the uncalibrated data automatically from MAST using [astroquery](https://astroquery.readthedocs.io/en/latest/mast/mast.html). Here we will be using the [MastMissions](https://spacetelescope.github.io/mast_notebooks/notebooks/multi_mission/missions_mast_search/missions_mast_search.html) interface which allows for flexibility in search criteria, and is equivalent to using the [JWST mission specific search](https://mast.stsci.edu/search/ui/#/jwst) on MAST. <br>\n",
    "\n",
    "For illustrative purposes, we focus on data taken through the NIRISS [F200W filter](https://jwst-docs.stsci.edu/jwst-near-infrared-imager-and-slitless-spectrograph/niriss-instrumentation/niriss-filters) and start with uncalibrated data products. To search for additional filters, update the `niriss_pupil` field in `query_criteria` to be a comma separated list of filters in a single string value, i.e. \"F200W, F115W\". To search for a specific grism used, add the `opticalElements` field in `query_criteria`, setting the value equal to \"GR150R\" or \"GR150C\". Note that searching based on a specific grism will not download the associated direct images.\n",
    "\n",
    "Information about the JWST file naming conventions can be found at: https://jwst-pipeline.readthedocs.io/en/latest/jwst/data_products/file_naming.html"
   ]
  },
  {
   "cell_type": "code",
   "execution_count": null,
   "id": "c1411bfa-7698-4c6e-893d-819462a7fa5f",
   "metadata": {},
   "outputs": [],
   "source": [
    "time_download_start = time.perf_counter()"
   ]
  },
  {
   "cell_type": "code",
   "execution_count": null,
   "id": "bd348fdc-b5f3-44f4-ba46-19c939b1c234",
   "metadata": {},
   "outputs": [],
   "source": [
    "# Set up the program information and paths for demo program\n",
    "if demo_mode:\n",
    "    print('Running in demonstration mode and will download example data from MAST')\n",
    "    program = 2079\n",
    "    sci_observtn = '004'\n",
    "    \n",
    "    # creating a directory for the data called \"nis_wfss_demo_data\" \n",
    "    #   located in the directory you are currently in\n",
    "    data_dir = os.path.join(cwd, 'nis_wfss_demo_data')\n",
    "    sci_dir = os.path.join(data_dir, f\"{program}/obs{sci_observtn}\")\n",
    "\n",
    "    # Create the directories if they do not exist\n",
    "    os.makedirs(sci_dir, exist_ok=True)"
   ]
  },
  {
   "cell_type": "markdown",
   "id": "3634f5a6-600a-41e8-ab9d-a58edf8973ef",
   "metadata": {},
   "source": [
    "<div class=\"alert alert-block alert-warning\">\n",
    "This demo selects only filter <b>F200W</b> data by default; this observation contains data for the F115W and F150W filters, too\n",
    "</div>"
   ]
  },
  {
   "cell_type": "code",
   "execution_count": null,
   "id": "c93a407f-0b9a-4139-8534-19896b58148b",
   "metadata": {},
   "outputs": [],
   "source": [
    "if demo_mode:\n",
    "    print(f'Using the Missions MAST interface to find data for Program {program} observation {sci_observtn}:')\n",
    "    missions = MastMissions(mission='jwst')\n",
    "\n",
    "    # query the data; sometimes this step can take a bit of time\n",
    "    datasets = missions.query_criteria(instrume='NIRISS',  # From Near-Infrared Imager and Slitless Spectrograph\n",
    "                                       #opticalElements='GR150R', # uncomment to filter on only GR150R grism data (no direct images)\n",
    "                                       niriss_pupil='F200W',  # Download only the F200W filter data for this example\n",
    "                                       program=program,  # Proposal number 2079\n",
    "                                       observtn=sci_observtn, # observation 004\n",
    "                                      )\n",
    "    products = missions.get_unique_product_list(datasets)\n",
    "    print(f'Total number of unique products found: {len(products)}')\n",
    "\n",
    "    # filter down to only the files that we need from MAST\n",
    "    files_to_download = missions.filter_products(products, file_suffix=['_uncal'])\n",
    "    asns_to_download = missions.filter_products(products, file_suffix=['_asn']) # '_pool' to download the pool.csv file instead\n",
    "    \n",
    "    print(f'Total number of uncal files to download: {len(files_to_download)}')\n",
    "    print(f'Total number of associations to download: {len(asns_to_download)}')"
   ]
  },
  {
   "cell_type": "markdown",
   "id": "e7dcf963-3590-4252-9000-b6ef054d6287",
   "metadata": {},
   "source": [
    "Download all the uncal and association files for the provided program, observation, and filter.\n",
    "\n",
    "<div class=\"alert alert-block alert-warning\">\n",
    "Warning: If this notebook is halted during this step the downloaded file\n",
    "may be incomplete, and cause crashes later on!\n",
    "</div>"
   ]
  },
  {
   "cell_type": "code",
   "execution_count": null,
   "id": "7e3b669f-e0db-4c00-8a08-fe4296fa25ab",
   "metadata": {
    "scrolled": true
   },
   "outputs": [],
   "source": [
    "if demo_mode:\n",
    "    print('Downloading the data:')\n",
    "    # download uncal file\n",
    "    manifest = missions.download_products(files_to_download, flat=True, download_dir=sci_dir)\n",
    "    \n",
    "    # download the association files to the top level science directory to move around in the directory setup\n",
    "    asns_manifest = missions.download_products(asns_to_download, flat=True, download_dir=sci_dir)"
   ]
  },
  {
   "cell_type": "markdown",
   "id": "b150bd71-2e10-4d86-875f-9b1221ee1c13",
   "metadata": {},
   "source": [
    "There is currently a bug in the downloading through the MAST missions interface where all filters are downloaded for level 3 products, so we temporarily remove the F115W and F150W image3 and spec3 association files that were downloaded so that we do not see crashes when running the image3 pipeline and spec3 pipeline."
   ]
  },
  {
   "cell_type": "code",
   "execution_count": null,
   "id": "528a59cb-823c-44f9-b62c-1c3965dda5c6",
   "metadata": {},
   "outputs": [],
   "source": [
    "if demo_mode:\n",
    "    for spec3_asn in glob.glob(os.path.join(sci_dir, '*spec3*_asn.json')) + glob.glob(os.path.join(sci_dir, '*image3*_asn.json')):\n",
    "        temp_asn = json.load(open(spec3_asn))\n",
    "        # check the associations to see which have the F200W filter in the output product name\n",
    "        #   we look at what is in a spec3 association file later in the notebook\n",
    "        if 'f200w' not in temp_asn['products'][0]['name']:\n",
    "            os.remove(spec3_asn)"
   ]
  },
  {
   "cell_type": "code",
   "execution_count": null,
   "id": "7dba42ef-bce9-4c36-a62c-d6c98cc6fb0a",
   "metadata": {},
   "outputs": [],
   "source": [
    "# Print out the time benchmark\n",
    "time_download_end = time.perf_counter()\n",
    "print(f\"Runtime for Detector1: {(time_download_end - time_download_start)/60:0.0f} minutes\")"
   ]
  },
  {
   "cell_type": "markdown",
   "id": "677ab8d1-675a-41dc-8f89-70d5500fdcfb",
   "metadata": {},
   "source": [
    "<hr style=\"border:1px solid gray\"> </hr>"
   ]
  },
  {
   "cell_type": "markdown",
   "id": "e0fb4e97-7072-4bdf-ac14-9119221f4fab",
   "metadata": {},
   "source": [
    "## 4. Detector1 Pipeline\n",
    "In this section we run the `*_uncal.fits` files through the [Detector1](https://jwst-docs.stsci.edu/jwst-science-calibration-pipeline-overview/stages-of-jwst-data-processing/calwebb_detector1) stage of the pipeline to apply detector level calibrations and create a countrate data product where slopes are fit to the integration ramps. These `*_rate.fits` products are 2D (nrows x ncols), averaged over all integrations. 3D countrate data products (`*_rateints.fits`) are also created (nintegrations x nrows x ncols) which have the fitted ramp slopes for each integration."
   ]
  },
  {
   "cell_type": "code",
   "execution_count": null,
   "id": "5664b833-5228-446b-8d89-43a72eff7190",
   "metadata": {},
   "outputs": [],
   "source": [
    "time_det1_start = time.perf_counter()"
   ]
  },
  {
   "cell_type": "code",
   "execution_count": null,
   "id": "a9f3dd5d-a3a1-43b3-b75a-3eac5c3c58fa",
   "metadata": {
    "scrolled": true
   },
   "outputs": [],
   "source": [
    "uncal_files = sorted(glob.glob(os.path.join(sci_dir, '*_uncal.fits')))\n",
    "\n",
    "# Run Detector1 stage of pipeline, specifying:\n",
    "#   output directory to save *_rateints.fits files\n",
    "#   save_results flag set to True so the files are saved locally\n",
    "if dodet1:\n",
    "    for uncal in uncal_files:\n",
    "        rate_result = Detector1Pipeline.call(uncal,\n",
    "                                             output_dir=sci_dir,\n",
    "                                             save_results=True)\n",
    "else:\n",
    "    print('Skipping Detector1 processing')"
   ]
  },
  {
   "cell_type": "markdown",
   "id": "5e52569f-0aa2-4f5a-a0f9-d4d83f369701",
   "metadata": {},
   "source": [
    "### Inspect Level 1 Output Products\n",
    "Below we look at the `*_rate.fits` file outputs of the Detector1Pipeline. If there are no modifications to the steps at this stage needed, you can also save time by downloading these `*_rate.fits` files directly from MAST and starting at stage2. However, it is best to ensure that you are using the same pipeline version as MAST which can be checked in the `CAL_VER` header keyword. \n",
    "\n",
    "In stage1, both the direct images (`EXP_TYPE=NIS_IMAGE`) and dispersed grism images (`EXP_TYPE=NIS_WFSS`) were calibrated. In addition to the `EXP_TYPE` keyword, the keyword `FILTER` can be used to distinguish exposure types for NIRISS WFSS data. `FILTER=CLEAR` indicates a direct image while `FILTER=GR150R` or `FILTER=GR150C` indicates a dispersed image. The keyword `PUPIL` is the blocking filter used in both direct images and dispersed images. We can also use the `PATT_NUM`, `XOFFSET`, and `YOFFSET` header keywords to see the dither pattern that was used for both the direct images and the dispersed images. The multiple direct image dithers will be combined in image3, while the multiple dithers in the dispersed images are combined as individual sources after extraction in spec3. "
   ]
  },
  {
   "cell_type": "code",
   "execution_count": null,
   "id": "12fc30d3-561b-4507-9363-a3e443efad49",
   "metadata": {},
   "outputs": [],
   "source": [
    "# first look for all of the rate files you have downloaded\n",
    "rate_files = sorted(glob.glob(os.path.join(sci_dir, \"*rate.fits\")))\n",
    "\n",
    "for file_num, ratefile in enumerate(rate_files):\n",
    "\n",
    "    rate_hdr = fits.getheader(ratefile) # Primary header for each rate file\n",
    "\n",
    "    # information we want to store that might be useful to us later for evaluating the data\n",
    "    temp_hdr_dict = {\"PATHNAME\": ratefile, # full path to the filename to be used later\n",
    "                     \"FILENAME\": rate_hdr['FILENAME'],\n",
    "                     \"FILTER\": [rate_hdr[\"FILTER\"]], # Grism; GR150R/GR150C\n",
    "                     \"PUPIL\": [rate_hdr[\"PUPIL\"]], # Filter used; F090W, F115W, F140M, F150W F158M, F200W\n",
    "                     \"EXPSTART\": [rate_hdr['EXPSTART']], # Exposure start time (MJD)\n",
    "                     \"PATT_NUM\": [rate_hdr[\"PATT_NUM\"]], # Position number within dither pattern for WFSS\n",
    "                     \"NUMDTHPT\": [rate_hdr[\"NUMDTHPT\"]], # Total number of points in entire dither pattern\n",
    "                     \"XOFFSET\": [rate_hdr[\"XOFFSET\"]], # X offset from pattern starting position for NIRISS (arcsec)\n",
    "                     \"YOFFSET\": [rate_hdr[\"YOFFSET\"]], # Y offset from pattern starting position for NIRISS (arcsec)\n",
    "                     \"CAL_VER\": [rate_hdr[\"CAL_VER\"]], # JWST pipeline calibration version\n",
    "                     }\n",
    "\n",
    "    # Turn the dictionary into a pandas dataframe to make it easier to read\n",
    "    if file_num == 0:\n",
    "        # if this is the first file, make an initial dataframe\n",
    "        rate_df = pd.DataFrame(temp_hdr_dict)\n",
    "    else:\n",
    "        # otherwise, append to the dataframe for each file\n",
    "        new_data_df = pd.DataFrame(temp_hdr_dict)\n",
    "\n",
    "        # merge the two dataframes together to create a dataframe with all \n",
    "        rate_df = pd.concat([rate_df, new_data_df], ignore_index=True, axis=0)\n",
    "\n",
    "rate_dfsort = rate_df.sort_values('EXPSTART', ignore_index=False)\n",
    "\n",
    "# Look at the resulting dataframe\n",
    "rate_dfsort[['FILENAME', 'FILTER', 'PUPIL', 'EXPSTART', 'PATT_NUM', 'NUMDTHPT', 'XOFFSET', 'YOFFSET', 'CAL_VER']]"
   ]
  },
  {
   "cell_type": "markdown",
   "id": "c681b0d6-4353-4e1a-beed-b16d62de963c",
   "metadata": {},
   "source": [
    "Shown below are the rate files to give an idea of the above sequence visually. Grid lines are shown as a visual guide for the dithers"
   ]
  },
  {
   "cell_type": "code",
   "execution_count": null,
   "id": "00bc561b-4115-443b-8233-d4ee3da93cc8",
   "metadata": {},
   "outputs": [],
   "source": [
    "if doviz:\n",
    "    \n",
    "    # plot set up\n",
    "    fig = plt.figure(figsize=(20, 35))\n",
    "    cols = 3\n",
    "    rows = int(np.ceil(len(rate_dfsort['PATHNAME']) / cols))\n",
    "    \n",
    "    # loop over the rate files and plot them\n",
    "    for plt_num, rf in enumerate(rate_dfsort['PATHNAME']):\n",
    "    \n",
    "        # determine where the subplot should be\n",
    "        xpos = (plt_num % 40) % cols\n",
    "        ypos = ((plt_num % 40) // cols) # // to make it an int.\n",
    "    \n",
    "        # make the subplot\n",
    "        ax = plt.subplot2grid((rows, cols), (ypos, xpos))\n",
    "    \n",
    "        # open the data and plot it\n",
    "        with fits.open(rf) as hdu:\n",
    "            data = hdu[1].data\n",
    "            data[np.isnan(data)] = 0 # filling in nan data with 0s to help with the matplotlib color scale.\n",
    "            \n",
    "            ax.imshow(data, vmin=0, vmax=1.5, origin='lower')\n",
    "    \n",
    "            # adding in grid lines as a visual aid\n",
    "            for gridline in [500, 1000, 1500]:\n",
    "                ax.axhline(gridline, color='black', alpha=0.5)\n",
    "                ax.axvline(gridline, color='black', alpha=0.5)\n",
    "    \n",
    "            ax.set_title(f\"#{plt_num+1}: {hdu[0].header['FILTER']} {hdu[0].header['PUPIL']} Dither{hdu[0].header['PATT_NUM']}\")"
   ]
  },
  {
   "cell_type": "markdown",
   "id": "e5520d99-70a0-48d3-8b83-40268583fb24",
   "metadata": {},
   "source": [
    "Additionally, you can look into what steps were performed and reference files used during the Detector1 stage of the pipeline"
   ]
  },
  {
   "cell_type": "code",
   "execution_count": null,
   "id": "b951c860-9ac0-4ebf-8ae1-dbb4a051c8a7",
   "metadata": {
    "scrolled": true
   },
   "outputs": [],
   "source": [
    "# first look at the direct images\n",
    "dir_img_rate = rate_dfsort[rate_dfsort['FILTER'] == 'CLEAR']['PATHNAME'].iloc[0]\n",
    "check_steps_run(dir_img_rate)\n",
    "\n",
    "# then look at the dispersed, grism images\n",
    "grism_img_rate = rate_dfsort[rate_dfsort['FILTER'] == 'GR150C']['PATHNAME'].iloc[0]\n",
    "check_steps_run(grism_img_rate)"
   ]
  },
  {
   "cell_type": "markdown",
   "id": "fc042634-c315-47ea-a433-9b61470bcbbb",
   "metadata": {},
   "source": [
    "You can also check which reference files were used to calibrate the dataset:"
   ]
  },
  {
   "cell_type": "code",
   "execution_count": null,
   "id": "48aea964-1b82-4ff0-940e-70564db51ee3",
   "metadata": {
    "scrolled": true
   },
   "outputs": [],
   "source": [
    "check_ref_file_used(dir_img_rate) # direct image\n",
    "check_ref_file_used(grism_img_rate) # dispersed image"
   ]
  },
  {
   "cell_type": "code",
   "execution_count": null,
   "id": "c8f0cfdc-5477-407a-9612-b02fff8ec30f",
   "metadata": {},
   "outputs": [],
   "source": [
    "# Print out the time benchmark\n",
    "time_det1_end = time.perf_counter()\n",
    "print(f\"Runtime for Detector1: {(time_det1_end - time_det1_start)/60:0.0f} minutes\")"
   ]
  },
  {
   "cell_type": "markdown",
   "id": "d1ad1036-ad28-4afe-892a-d2b63b7a4fe8",
   "metadata": {},
   "source": [
    "<hr style=\"border:1px solid gray\"> </hr>"
   ]
  },
  {
   "cell_type": "markdown",
   "id": "d8e00a63-7cba-4eb9-8a43-3cbbb20592cd",
   "metadata": {},
   "source": [
    "## 5. Image2 Pipeline\n",
    "\n",
    "This section focuses only on calibrating only the direct images in order to obtain a source catalog and segmentation mapping of the field to use as input into the Spec2 stage later. \n",
    "\n",
    "In the [Image2 stage of the pipeline](https://jwst-pipeline.readthedocs.io/en/latest/jwst/pipeline/calwebb_image2.html), calibrated unrectified data products are created (`*_cal.fits` files). \n",
    "\n",
    "In this pipeline processing stage, the [world coordinate system (WCS)](https://jwst-pipeline.readthedocs.io/en/latest/jwst/assign_wcs/index.html#assign-wcs-step) is assigned, the data are [flat fielded](https://jwst-pipeline.readthedocs.io/en/latest/jwst/flatfield/index.html#flatfield-step), and a [photometric calibration](https://jwst-pipeline.readthedocs.io/en/latest/jwst/photom/index.html#photom-step) is applied to convert from units of countrate (ADU/s) to surface brightness (MJy/sr).\n",
    "\n",
    "By default, the [background subtraction step](https://jwst-pipeline.readthedocs.io/en/latest/jwst/background_step/index.html#background-step)\n",
    "and the [resampling step](https://jwst-pipeline.readthedocs.io/en/latest/jwst/resample/index.html#resample-step) are not performed for NIRISS at this stage of the pipeline. The background subtraction is turned off since there is no background template for the imaging mode and the local background is removed during the background correction for photometric measurements around individual sources. The resampling step occurs during the `Image3` stage by default. While the resampling step can be turned on during the `Image2` stage to, e.g., generate a source catalog for each image, the data quality from the `Image3` stage will be better since the bad pixels, which adversely affect\n",
    "both the centroids and photometry in individual images, will be mostly removed."
   ]
  },
  {
   "cell_type": "code",
   "execution_count": null,
   "id": "27d40ae0-c21a-4720-9f9b-e242218e9804",
   "metadata": {},
   "outputs": [],
   "source": [
    "time_image2 = time.perf_counter()"
   ]
  },
  {
   "cell_type": "markdown",
   "id": "e9f8c189-c92e-4908-8830-ad4549282381",
   "metadata": {},
   "source": [
    "### Image2 Association Files\n",
    "\n",
    "First, we will take a look inside the association files to better understand everything that is contained in them. For image2 association files, there should be one asn file for each dither position in an observing sequence which is set by the [exposure strategy](https://jwst-docs.stsci.edu/jwst-near-infrared-imager-and-slitless-spectrograph/niriss-observing-strategies/niriss-wfss-recommended-strategies). In this case, that should match the number of direct images (`FILTER=CLEAR`) in `rate_df` because each direct image is at a unique dither position (XOFFSET, YOFFSET) within an observing sequence. For this program and observation, there is one direct image with only one dither before the grism images, another direct image with four dithers between the change in grisms, and a direct image with three dithers at the end of a blocking filter sequence. This leads to a total of eight images per observing sequence, with five observing sequences in the observation using the blocking filters F115W -> F115W -> F150W -> F150W -> F200W. In demo mode, we have only downloaded the final observing sequence with F200W."
   ]
  },
  {
   "cell_type": "code",
   "execution_count": null,
   "id": "39b1f5c3-24a7-4d79-89a3-4a27d9fecf99",
   "metadata": {},
   "outputs": [],
   "source": [
    "if doimage2:\n",
    "    \n",
    "    image2_asns = glob.glob(os.path.join(sci_dir, \"*image2*_asn.json\"))\n",
    "\n",
    "    # Verify the number of associations\n",
    "    print(len(image2_asns), 'Image2 ASN files') # there should be 8 asn files for image2 in demo mode\n",
    "    # the number of association files should match the number of direct image rate files\n",
    "    print(len(rate_df[rate_df['FILTER'] == 'CLEAR']), 'Direct Image rate files')"
   ]
  },
  {
   "cell_type": "code",
   "execution_count": null,
   "id": "a5321823-fa4f-44d4-9424-ba0c6375f7a2",
   "metadata": {},
   "outputs": [],
   "source": [
    "if doimage2:\n",
    "    # look at one of the association files\n",
    "    image2_asn_data = json.load(open(image2_asns[0]))\n",
    "    for key, data in image2_asn_data.items():\n",
    "        print(f\"{key} : {data}\")"
   ]
  },
  {
   "cell_type": "markdown",
   "id": "32a53425-e5c5-425c-b272-e7fa6911802f",
   "metadata": {},
   "source": [
    "From this association, we can tell many things about the observation:\n",
    "1. From `asn_type` and `asn_rule`, we can see that this is an image2 association\n",
    "2. From `code_version` we can see what version of the code this association was created with. If this does not match the version of the pipeline you are currently using, you are encouraged to create new associations directly from the [pool file](https://jwst-pipeline.readthedocs.io/en/latest/jwst/associations/asn_generate.html) or by providing [a list of exposures](https://jwst-pipeline.readthedocs.io/en/latest/jwst/associations/asn_from_list.html) and their associated exposure type to ensure there are no errors downstream in the pipeline.\n",
    "3. From `degraded_status` we can see that there are no exposures to not be included in the calibration.\n",
    "4. From `constraints`, we can see this is not a time series observation (TSO), the observation is part of program 2079, observed with NIRISS with the CLEAR (i.e. imaging for WFSS) and F200W blocking filter.\n",
    "5. From `products` we can see there is only one exposure associated. This is typical for image2 where there is usually only one exposure per dither per observing sequence.\n",
    "\n",
    "We can also take a closer look at the products section of the association to better understand the types of files and the members associated together. For NIRISS images at the image2 stage, this will only be one `*_rate.fits` file."
   ]
  },
  {
   "cell_type": "code",
   "execution_count": null,
   "id": "a2311f9b-cf96-46ed-be7e-9279014aefb3",
   "metadata": {},
   "outputs": [],
   "source": [
    "if doimage2:\n",
    "    print(f'asn_type : {image2_asn_data[\"asn_type\"]}')\n",
    "    print(f'code_version : {image2_asn_data[\"code_version\"]}')\n",
    "    \n",
    "    # in particular, take a closer look at the product filenames with the association file:\n",
    "    for product in image2_asn_data['products']:\n",
    "        for key, value in product.items():\n",
    "            if key == 'members':\n",
    "                print(f\"{key}:\")\n",
    "                for member in value:\n",
    "                    print(f\"    {member['expname']} {member['exptype']}\")\n",
    "            else:\n",
    "                print(f\"{key}: {value}\")"
   ]
  },
  {
   "cell_type": "markdown",
   "id": "8a197a2e-fa2f-420e-8b4e-8944fd31b9e5",
   "metadata": {},
   "source": [
    "### Run Image2\n",
    "\n",
    "The `*_rate.fits` products will be calibrated into `*_cal.fits` files. More information about the steps performed in the Image2 part of the pipeline can be found in the [Image2 pipeline documentation](https://jwst-pipeline.readthedocs.io/en/latest/jwst/pipeline/calwebb_image2.html)."
   ]
  },
  {
   "cell_type": "code",
   "execution_count": null,
   "id": "a28d1edd-7f5b-4d77-a2cb-7de3ccb5c3f6",
   "metadata": {
    "scrolled": true
   },
   "outputs": [],
   "source": [
    "if doimage2:    \n",
    "    os.chdir(sci_dir)\n",
    "    for img2_asn in image2_asns:\n",
    "        # calibrate with the image2 pipeline\n",
    "        img2 = Image2Pipeline.call(img2_asn, \n",
    "                                   output_dir=sci_dir,\n",
    "                                   save_results=True)\n",
    "    os.chdir(cwd)"
   ]
  },
  {
   "cell_type": "markdown",
   "id": "c18858ff-e261-4f4e-b5de-bc0966353eae",
   "metadata": {},
   "source": [
    "We can look at which steps were turned on and which reference files were used on the direct images up to the Image2 stage of the pipeline."
   ]
  },
  {
   "cell_type": "code",
   "execution_count": null,
   "id": "d78ad281-fae5-4c3c-834a-0df513c8a2d1",
   "metadata": {
    "scrolled": true
   },
   "outputs": [],
   "source": [
    "# we take a look at the same direct image rate file that is now a *_cal.fits file\n",
    "img2_filename = dir_img_rate.replace('rate', 'cal')\n",
    "check_steps_run(img2_filename)\n",
    "check_ref_file_used(img2_filename)"
   ]
  },
  {
   "cell_type": "code",
   "execution_count": null,
   "id": "700dff41-2446-4f76-9304-716d6e420bc1",
   "metadata": {},
   "outputs": [],
   "source": [
    "# Print out the time benchmark\n",
    "time_image2_end = time.perf_counter()\n",
    "print(f\"Runtime for Image2: {(time_image2_end - time_image2)/60:0.0f} minutes\")"
   ]
  },
  {
   "cell_type": "markdown",
   "id": "5f016ae0-deb1-4f8b-b7f7-f68c391b24c7",
   "metadata": {},
   "source": [
    "<hr style=\"border:1px solid gray\"> </hr>"
   ]
  },
  {
   "cell_type": "markdown",
   "id": "690c0aa6-017c-464b-a8b0-992c2a0849d2",
   "metadata": {},
   "source": [
    "## 6. Image3 Pipeline\n",
    "\n",
    "In this section we continue calibrating the direct images with the Image3 stage of the pipeline to obtain a source catalog and segmentation mapping of the field to use as input into the Spec2 stage later. In the [Image3 stage of the pipeline](https://jwst-pipeline.readthedocs.io/en/latest/jwst/pipeline/calwebb_image3.html), the individual `*_cal.fits` files for each of the dither positions are combined to one single distortion corrected image (`*_i2d.fits` files).\n",
    "\n",
    "By default, the Image3 stage of the pipeline performs the following steps on NIRISS data:\n",
    "* [tweakreg](https://jwst-pipeline.readthedocs.io/en/latest/jwst/tweakreg/README.html) - creates source catalogs of pointlike sources for each input image. The source catalog for each input image is compared to each other to derive coordinate transforms to align the images relative to each other.\n",
    "* As of CRDS context jwst_1156.pmap and later, the pars-tweakreg parameter reference file for NIRISS performs an absolute astrometric correction to GAIA data release 3 by default (i.e., the abs_refcat parameter is set to GAIADR3). Though this default correction generally improves results compared with not doing this alignment, it could potentially result in poor performance in crowded or sparse fields, so users are encouraged to check astrometric accuracy and revisit this step if necessary.\n",
    "* As of pipeline version 1.14.0, the default source finding algorithm for NIRISS is IRAFStarFinder which testing shows returns good accuracy for undersampled NIRISS PSFs at short wavelengths ([Goudfrooij 2022](https://www.stsci.edu/files/live/sites/www/files/home/jwst/documentation/technical-documents/_documents/JWST-STScI-008324.pdf)).\n",
    "* [skymatch](https://jwst-pipeline.readthedocs.io/en/latest/jwst/skymatch/description.html) - measures the background level from the sky to use as input into the subsequent outlier detection and resample steps.\n",
    "* outlier detection - flags any remaining cosmic rays, bad pixels, or other artifacts not already flagged during the detector1 stage of the pipeline, using all input images to create a median image so that outliers in individual images can be identified.\n",
    "* [resample](https://jwst-pipeline.readthedocs.io/en/latest/jwst/resample/main.html) - resamples each input image based on its WCS and distortion information and creates a single undistorted image.\n",
    "* [source catalog](https://jwst-pipeline.readthedocs.io/en/latest/jwst/source_catalog/main.html) - creates a catalog of detected sources along with measured photometries and morphologies (i.e., point-like vs extended). Useful for quicklooks, but optimization is likely needed for specific science cases, which is an on-going investigation for the NIRISS team. Users may wish to experiment with changing the snr_threshold and deblend options. Modifications to the following parameters will not significantly improve data quality and it is advised to keep them at their default values: aperture_ee1, aperture_ee2, aperture_ee3, ci1_star_threshold, ci2_star_threshold."
   ]
  },
  {
   "cell_type": "code",
   "execution_count": null,
   "id": "35830689-c30f-4c3d-b7fd-64209fce6a0f",
   "metadata": {},
   "outputs": [],
   "source": [
    "time_image3 = time.perf_counter()"
   ]
  },
  {
   "cell_type": "markdown",
   "id": "e34f650c-d1e2-491e-91e6-08ba0d51f057",
   "metadata": {},
   "source": [
    "### Image3 Association Files\n",
    "The contents of image3 association files are quite similar to image2, but notice now that there are many more members that are associated together, and they use the individual pointing cal files from image2. Image3 resamples and combines images of the same blocking filter (PUPIL for NIRISS WFSS) from all dither and observing sequences to form a single image."
   ]
  },
  {
   "cell_type": "code",
   "execution_count": null,
   "id": "dbf3f43c-7ff6-41b6-a4ab-7bec9a472b99",
   "metadata": {},
   "outputs": [],
   "source": [
    "if doimage3:\n",
    "    image3_asns = glob.glob(os.path.join(sci_dir, \"*image3*_asn.json\"))\n",
    "    print(len(image3_asns), 'Image3 ASN files') # there should be 1 image3 association files\n",
    "\n",
    "    # the number of image3 association files should match the number of unique blocking filters used\n",
    "    uniq_filters = np.unique(rate_df[rate_df['FILTER'] == 'CLEAR']['PUPIL'])\n",
    "    print(f\"{len(uniq_filters)} unique filter(s) used: {uniq_filters}\")"
   ]
  },
  {
   "cell_type": "code",
   "execution_count": null,
   "id": "85262de4-a225-43bc-9685-8379772b8bc0",
   "metadata": {},
   "outputs": [],
   "source": [
    "if doimage3:\n",
    "    # open the image3 association to look at\n",
    "    image3_asn_data = json.load(open(image3_asns[0]))\n",
    "    print(f'asn_type : {image3_asn_data[\"asn_type\"]}')\n",
    "    print(f'code_version : {image3_asn_data[\"code_version\"]}')\n",
    "    \n",
    "    # in particular, take a closer look at the product filenames with the association file:\n",
    "    for product in image3_asn_data['products']:\n",
    "        for key, value in product.items():\n",
    "            if key == 'members':\n",
    "                print(f\"{key}:\")\n",
    "                for member in value:\n",
    "                    print(f\"    {member['expname']} {member['exptype']}\")\n",
    "            else:\n",
    "                print(f\"{key}: {value}\")"
   ]
  },
  {
   "cell_type": "markdown",
   "id": "0edfe205-a451-4349-8128-2160091b8cf8",
   "metadata": {},
   "source": [
    "### Run Image3\n",
    "\n",
    "In Image3, the `*_cal.fits` individual pointing files will be calibrated into a single combined `*_i2d.fits` image. More information about the steps performed in the Image3 part of the pipeline can be found in the [Image3 pipeline documentation](https://jwst-pipeline.readthedocs.io/en/latest/jwst/pipeline/calwebb_image3.html).\n",
    "\n",
    "Provided are some commented out parameters that can be tweaked to optimize your Image3 outputs for your particular data. The full list of parameters can be found in the [tweakreg](https://jwst-pipeline.readthedocs.io/en/latest/jwst/tweakreg/README.html) and [sourcecatalog](https://jwst-pipeline.readthedocs.io/en/latest/jwst/source_catalog/main.html) documentation."
   ]
  },
  {
   "cell_type": "code",
   "execution_count": null,
   "id": "72fa6236-30c5-44d3-bae1-29610958dbd1",
   "metadata": {
    "scrolled": true
   },
   "outputs": [],
   "source": [
    "if doimage3:    \n",
    "    os.chdir(sci_dir)\n",
    "    for img3_asn in image3_asns:\n",
    "        # calibrate with the image3 pipeline\n",
    "        img3 = Image3Pipeline.call(img3_asn, \n",
    "                                   output_dir=sci_dir,\n",
    "                                   # steps={'source_catalog': {'kernel_fwhm': 5.0,\n",
    "                                   #                           'snr_threshold': 10.0,\n",
    "                                   #                           'npixels': 50,\n",
    "                                   #                           'deblend': True,\n",
    "                                   #                          },\n",
    "                                   #        'tweakreg': {'snr_threshold': 20,\n",
    "                                   #                     'abs_refcat': 'GAIADR3',\n",
    "                                   #                     'searchrad': 3.0,\n",
    "                                   #                     'kernel_fwhm': 2.302,\n",
    "                                   #                     'fitgeometry': 'shift',\n",
    "                                   #                     },\n",
    "                                   #       },\n",
    "                                   save_results=True)\n",
    "    os.chdir(cwd)"
   ]
  },
  {
   "cell_type": "markdown",
   "id": "9c583c2d-9f43-48f1-ad27-c87c61a50478",
   "metadata": {},
   "source": [
    "Checking all steps run and reference files used on the direct images"
   ]
  },
  {
   "cell_type": "code",
   "execution_count": null,
   "id": "527b6043-d3ba-404f-8426-d334f5c85fc0",
   "metadata": {
    "scrolled": true
   },
   "outputs": [],
   "source": [
    "# look at an i2d file to see the steps & reference files used\n",
    "img3_filename = glob.glob(os.path.join(sci_dir, '*i2d.fits'))[0]\n",
    "check_steps_run(img3_filename)\n",
    "check_ref_file_used(img3_filename)"
   ]
  },
  {
   "cell_type": "markdown",
   "id": "65ea0c45-6634-4749-a406-a727bba33284",
   "metadata": {},
   "source": [
    "### Inspect Image3 Output Products\n",
    "\n",
    "Using the `*_i2d.fits` combined image and the source catalog produced by Image3, we can visually inspect if we're happy with where the pipeline found the sources to use in the Spec2 stage of the pipeline. In the following figures, what has been defined as an extended source by the pipeline is shown in orange-red, and what has been defined as a point source by the pipeline is shown in grey. This definition affects the extraction box in the WFSS images as well as in the contamination correction step of the pipeline."
   ]
  },
  {
   "cell_type": "code",
   "execution_count": null,
   "id": "b95bff28-7dc2-4f09-8c91-1d85726c5e6d",
   "metadata": {},
   "outputs": [],
   "source": [
    "# These are all resuts from the Image3 pipeline\n",
    "image3_i2d = sorted(glob.glob(os.path.join(sci_dir, '*i2d.fits'))) # combined image over multiple dithers/mosaic\n",
    "image3_segm = sorted(glob.glob(os.path.join(sci_dir, '*segm.fits'))) # segmentation map that defines the extent of a source\n",
    "image3_cat = sorted(glob.glob(os.path.join(sci_dir, '*cat.ecsv'))) # Source catalog that defines the RA/Dec of a source at a particular pixel"
   ]
  },
  {
   "cell_type": "markdown",
   "id": "fbd62201-234e-405a-8e04-bb4ae31b033b",
   "metadata": {},
   "source": [
    "#### i2d & segementation mapping\n",
    "The segmentation maps are also a product of the Image3 pipeline, and they are used the help determine the source catalog. Let's take a look at those to ensure we are happy with what it is defining as a source.\n",
    "\n",
    "In the segmentation map on the figure to the right, each blue blob should correspond to a physical target. There are cases where sources can be blended, in which case the parameters for making the semgentation map and source catalog should be changed. An example of this can be seen below in the observation 004 F200W filter image where two galaxies at ~(1600, 1300) have been blended into one source. This is discussed in more detail in the custom Image3 run in the [NIRISS WFSS JDAT notebooks](https://github.com/spacetelescope/jdat_notebooks/tree/main/notebooks/NIRISS/NIRISS_WFSS_advanced)."
   ]
  },
  {
   "cell_type": "code",
   "execution_count": null,
   "id": "b12e9b0a-3844-44a5-9a94-a759f0826994",
   "metadata": {},
   "outputs": [],
   "source": [
    "if doviz:            \n",
    "    cols = 2\n",
    "    rows = len(image3_i2d)\n",
    "    \n",
    "    fig = plt.figure(figsize=(15, 15*(rows/2)))\n",
    "    \n",
    "    for plt_num, img in enumerate(np.sort(np.concatenate([image3_segm, image3_i2d]))):\n",
    "    \n",
    "        # determine where the subplot should be\n",
    "        xpos = (plt_num % 40) % cols\n",
    "        ypos = ((plt_num % 40) // cols) # // to make it an int.\n",
    "    \n",
    "        # make the subplot\n",
    "        ax = plt.subplot2grid((rows, cols), (ypos, xpos))\n",
    "    \n",
    "        if 'i2d' in img:\n",
    "            cat = Table.read(img.replace('i2d.fits', 'cat.ecsv'))\n",
    "            cmap = 'gist_gray'\n",
    "        else:\n",
    "            cmap = 'tab20c_r'\n",
    "            \n",
    "        # plot the image\n",
    "        with fits.open(img) as hdu:\n",
    "            ax.imshow(hdu[1].data, vmin=0, vmax=0.3, origin='lower', cmap=cmap)\n",
    "            title = f\"{hdu[0].header['PUPIL']}\"\n",
    "    \n",
    "        # also plot the associated catalog\n",
    "        extended_sources = cat[cat['is_extended'] == 1] # 1 is True; i.e. is extended\n",
    "        point_sources = cat[cat['is_extended'] == 0] # 0 is False; i.e. is a point source\n",
    "        \n",
    "        for color, sources, source_type in zip(['maroon', 'black'], [extended_sources, point_sources], ['Extended Source', 'Point Source']):\n",
    "            # plotting the sources\n",
    "            ax.scatter(sources['xcentroid'], sources['ycentroid'], s=20, facecolors='None', edgecolors=color, alpha=0.9)\n",
    "    \n",
    "            # adding source labels \n",
    "            for i, source_num in enumerate(sources['label']):\n",
    "                ax.annotate(source_num, \n",
    "                            (sources['xcentroid'][i]+0.5, sources['ycentroid'][i]+0.5), \n",
    "                            fontsize=10,\n",
    "                            color=color)\n",
    "            ax.scatter(-999, -999, label=source_type, s=20, facecolors='None', edgecolors=color, alpha=0.9)\n",
    "        if 'i2d' in img:\n",
    "            ax.set_title(f\"{title} combined image\\n(i2d)\")\n",
    "        else:\n",
    "            ax.set_title(f\"{title} segmentation map\\n(segm)\")\n",
    "        \n",
    "        # zooming in on a smaller region\n",
    "        ax.set_xlim(1250, 1750)\n",
    "        ax.set_ylim(1250, 1750)\n",
    "\n",
    "        ax.legend(framealpha=0.3)\n",
    "    \n",
    "    # Helps to make the axes not overlap ; you can also set this manually if this doesn't work\n",
    "    plt.tight_layout()"
   ]
  },
  {
   "cell_type": "markdown",
   "id": "a1b4c778-a6d7-4007-a6ba-3b6c56952c74",
   "metadata": {},
   "source": [
    "#### Source Catalog\n",
    "\n",
    "In addition to the segmentation mapping, the source catalog itself can be useful to look at to examine the source centroids, calculated fluxes, and source extents"
   ]
  },
  {
   "cell_type": "code",
   "execution_count": null,
   "id": "38946dad-6c63-4a89-a367-96002f29f439",
   "metadata": {},
   "outputs": [],
   "source": [
    "# first, look at the current, custom source catalog for the F200W filter\n",
    "cat = Table.read(image3_cat[0])\n",
    "cat"
   ]
  },
  {
   "cell_type": "markdown",
   "id": "11ad8b21-a896-4277-bc4d-d448a3de4066",
   "metadata": {},
   "source": [
    "In all likelihood, you will need to rerun Image3 with different parameters in order to return an optimal source catalog to use with your NIRISS WFSS data. You can additionally refine the source catalog so that Spec2 and Spec3 only run on the sources that you care most about. Some examples of this can be found in the [NIRISS WFSS JDAT notebooks](https://github.com/spacetelescope/jdat_notebooks/tree/main/notebooks/NIRISS/NIRISS_WFSS_advanced)."
   ]
  },
  {
   "cell_type": "code",
   "execution_count": null,
   "id": "67663c9b-2aa0-4fdc-81ad-1c334bfe58ee",
   "metadata": {},
   "outputs": [],
   "source": [
    "# Print out the time benchmark\n",
    "time_image3_end = time.perf_counter()\n",
    "print(f\"Runtime for Image3: {(time_image3_end - time_image3)/60:0.0f} minutes\")"
   ]
  },
  {
   "cell_type": "markdown",
   "id": "b8bbd2d7-a11c-431f-9440-8751a97a4ff8",
   "metadata": {},
   "source": [
    "<hr style=\"border:1px solid gray\"> </hr>"
   ]
  },
  {
   "cell_type": "markdown",
   "id": "dada80c4-b305-405a-8f34-45f7d0188f0d",
   "metadata": {},
   "source": [
    "## 7. Spec2 Pipeline\n",
    "\n",
    "After running Image3 and thus getting the the segmentation map and source catalog, the [Spec2 pipeline](https://jwst-pipeline.readthedocs.io/en/latest/jwst/pipeline/calwebb_spec2.html#calwebb-spec2) is ready to be run. The spec2 pipeline first runs [assign_wcs](https://jwst-pipeline.readthedocs.io/en/latest/jwst/assign_wcs/main.html), [background](https://jwst-pipeline.readthedocs.io/en/latest/jwst/background_subtraction/description.html), and [flat_field](https://jwst-pipeline.readthedocs.io/en/latest/jwst/flatfield/main.html) corrections first on the full-frame `*_rate.fits` files. The [srctype](https://jwst-pipeline.readthedocs.io/en/latest/jwst/srctype/description.html) step is run to determine the extent of the extraction box size before the [extract_2d](https://jwst-pipeline.readthedocs.io/en/latest/jwst/extract_2d/main.html) step is run, producing individual cutouts for the brightest 100 sources defined in the Image3 source catalog. The [wfss_contam](https://jwst-pipeline.readthedocs.io/en/latest/jwst/wfss_contam/description.html) step is run towards the end of the [extract_2d](https://jwst-pipeline.readthedocs.io/en/latest/jwst/extract_2d/main.html) step and is currently not on by default as the step is being improved. The [photom](https://jwst-pipeline.readthedocs.io/en/latest/jwst/photom/main.html) step is then run on the cutouts, producing flux calibrated 2-D spectral (`*_cal.fits`) files. The [extract_1d](https://jwst-pipeline.readthedocs.io/en/latest/jwst/extract_1d/description.html) step is run last, producing level 2 `*_x1d.fits` files."
   ]
  },
  {
   "cell_type": "code",
   "execution_count": null,
   "id": "7383f1b0-45d6-4ab3-a1ea-803f5cce4495",
   "metadata": {},
   "outputs": [],
   "source": [
    "time_spec2 = time.perf_counter()"
   ]
  },
  {
   "cell_type": "markdown",
   "id": "84aa5242-8987-4e57-81af-1dbecfe51026",
   "metadata": {},
   "source": [
    "<a id=\"spec2_asn\"></a>\n",
    "### Spec2 Association Files\n",
    "\n",
    "As with the imaging part of the pipeline, there are association files for spec2. These are a bit more complex in that they need to have the science (WFSS) data, direct image, source catalog, and segmentation map included as members. For the science data, the rate files are used as inputs, similarly to Image2. Also like Image2, there should be one association file for each dispersed image dither position in an observing sequence. In this case, that should match the number of rate files where `FILTER=GR150R` or `FILTER=GR150C`. For this program and observation, there are three dithers per grism, and both GR150R and GR150C are used, totaling six exposures per observing sequence with five observing sequences in the observation using the blocking filters F115W -> F115W -> F150W -> F150W -> F200W."
   ]
  },
  {
   "cell_type": "code",
   "execution_count": null,
   "id": "4ee3adfd-fd89-4b7d-be6a-53bc8036d382",
   "metadata": {},
   "outputs": [],
   "source": [
    "if dospec2:\n",
    "    spec2_asns = glob.glob(os.path.join(sci_dir, \"*spec2*_asn.json\"))\n",
    "\n",
    "    # the number of spec2 association files should match the number of grism image rate files\n",
    "    print(len(spec2_asns), 'Spec2 ASN files')\n",
    "    print(len(rate_df[(rate_df['FILTER'] == 'GR150R') | (rate_df['FILTER'] == 'GR150C')]), 'Dispersed image rate files')\n",
    "    "
   ]
  },
  {
   "cell_type": "markdown",
   "id": "3288a30b-f484-4d0a-9e9e-bb3b2730cf9b",
   "metadata": {},
   "source": [
    "Each individual exposure within a spec2 association contains a science image, a direct image, a source catalog, and a segmentation map all to be used within spec2."
   ]
  },
  {
   "cell_type": "code",
   "execution_count": null,
   "id": "82de9ad1-2d2c-4981-b6b2-d65fb6b6e79e",
   "metadata": {},
   "outputs": [],
   "source": [
    "if dospec2:\n",
    "    # look at one of the association files\n",
    "    asn_data = json.load(open(spec2_asns[0]))\n",
    "    print(f'asn_type : {asn_data[\"asn_type\"]}')\n",
    "    print(f'code_version : {asn_data[\"code_version\"]}')\n",
    "    \n",
    "    # in particular, take a closer look at the product filenames with the association file:\n",
    "    for product in asn_data['products']:\n",
    "        for key, value in product.items():\n",
    "            if key == 'members':\n",
    "                print(f\"{key}:\")\n",
    "                for member in value:\n",
    "                    print(f\"    {member['expname']} : {member['exptype']}\")\n",
    "            else:\n",
    "                print(f\"{key}: {value}\")"
   ]
  },
  {
   "cell_type": "markdown",
   "id": "bea05618-8dad-4bb7-9004-68e84cc2ae65",
   "metadata": {},
   "source": [
    "<a id=\"spec2_run\"></a>\n",
    "### Run spec2\n",
    "In Spec2, the `*_rate.fits` files run through various corrections before using the source catalog to extract the 100 brightest sources into 1-D spectra (level 2 `*_x1d.fits` files). More information about the steps performed during the spec2 stage of the pipeline can be found in the [Spec2 pipeline documentation](https://jwst-pipeline.readthedocs.io/en/latest/jwst/pipeline/calwebb_spec2.html).\n",
    "\n",
    "We also show the option of how to turn on the contamination step as an option, although there are several known bugs still with this stage as of pipeline version 1.19.1, so we caution use of this step currently. We also show how to save the background subtracted full-frame file as an intermediate product (`*_bsub.fits`) as well as the flat-fielded and background subtracted full-frame images as an intermediate product (`*_flat_field.fits`) which is the last step performed before the individual source cutouts are created."
   ]
  },
  {
   "cell_type": "code",
   "execution_count": null,
   "id": "666c9bb4-62a7-40e1-9661-9b2f0c06296c",
   "metadata": {
    "scrolled": true
   },
   "outputs": [],
   "source": [
    "if dospec2:\n",
    "    for spec2_asn in spec2_asns:\n",
    "        os.chdir(sci_dir)\n",
    "        # calibrate with spec2 pipeline\n",
    "        spec2 = Spec2Pipeline.call(spec2_asn,\n",
    "                                   output_dir=sci_dir,\n",
    "                                   steps={'bkg_subtract' : {'save_results' : True}, # save background subtracted full-frame images\n",
    "                                          #'flat_field' : {'save_results' : True}, # save bkg subtracted & flat-fielded full-frame images\n",
    "                                          #'wfss_contam' : {'skip' : False}, # uncomment to turn on contamination correction\n",
    "                                          },\n",
    "                                   save_results=True)\n",
    "        os.chdir(cwd)"
   ]
  },
  {
   "cell_type": "markdown",
   "id": "9f43d756-06b5-4695-8995-43e8e8db099b",
   "metadata": {},
   "source": [
    "Again, we can check the steps that are run up through the spec2 pipeline and the corresponding reference files used."
   ]
  },
  {
   "cell_type": "code",
   "execution_count": null,
   "id": "e49344a6-5b7b-4c96-968b-e99acb197b47",
   "metadata": {
    "scrolled": true
   },
   "outputs": [],
   "source": [
    "example_x1d = glob.glob(os.path.join(sci_dir, '*nis_x1d.fits'))[0]\n",
    "check_steps_run(example_x1d) # direct image\n",
    "check_ref_file_used(example_x1d) # dispersed image"
   ]
  },
  {
   "cell_type": "markdown",
   "id": "4341e74b-bb34-4c1b-a9b1-443ac148e94c",
   "metadata": {},
   "source": [
    "<a id=\"spec2_examine\"></a>\n",
    "### Examining the Outputs of Spec2\n",
    "\n",
    "The outputs of spec2 are `*_cal.fits` and `*_x1d.fits` files. Here we do a quick look into some important parts of these files.\n",
    "- [_cal.fits file format further reading](https://jwst-pipeline.readthedocs.io/en/latest/jwst/data_products/science_products.html#calibrated-data-cal-and-calints)\n",
    "- [_x1d.fits file format further reading](https://jwst-pipeline.readthedocs.io/en/latest/jwst/data_products/science_products.html#extracted-1-d-spectroscopic-data-x1d-and-x1dints)\n",
    "\n",
    "As of build 1.19.1, the level 2 `*_x1d.fits` files contain all extracted sources for a single exposure in a single extension for each order extracted. Only the sources that were extracted in that exposure are included in the level 2 products, unlike the level 3 products which will be discussed later. Additional information about the extraction of the sources are provided as columns within the data extension.\n",
    "\n",
    "In the `*_cal.fits` files, the 0th and final extension in each file do not contain science data, but the remaining extensions correspond to each extracted source. The `*_cal.fits` files contain the 2D cutout information for each source in seven extensions for each source (SCI, DQ, ERR, WAVELENGTH, VAR_POISSON, VAR_RNOISE, VAR_FLAT).\n",
    "\n",
    "Notice that there are more sources in the source catalog than there are extensions in the files. This is because the pipeline defaults to only extracting the 100 brightest sources. To change this behavior, supply the pipeline with the paramter `wfss_nbright`."
   ]
  },
  {
   "cell_type": "code",
   "execution_count": null,
   "id": "6e5c1bb2-cd3c-442f-8765-0bab58b16b10",
   "metadata": {
    "scrolled": true
   },
   "outputs": [],
   "source": [
    "spec2_x1ds = sorted(glob.glob(os.path.join(sci_dir, \"*nis_x1d.fits\")))\n",
    "spec2_sample_x1d = fits.open(spec2_x1ds[0])\n",
    "\n",
    "print(\"***Format of the level 2 x1d file:\")\n",
    "print(spec2_sample_x1d.info())\n",
    "\n",
    "print(\"\\n***Columns contained in each extension of the level 2 x1d file:\")\n",
    "print(spec2_sample_x1d[1].data.columns)\n",
    "\n",
    "print(f\"\\n***Sources extracted for order 1 in the level 2 x1d file {spec2_sample_x1d[0].header['FILENAME']}:\")\n",
    "print(spec2_sample_x1d[1].data['SOURCE_ID'])"
   ]
  },
  {
   "cell_type": "raw",
   "id": "b358ae01-d143-4687-b70e-ff7a2a4f8b3f",
   "metadata": {},
   "source": [
    "# Note that this shows the format for all 702 of the extensions of the `*_cal.fits` file, so it is turned off in this notebook by default. \n",
    "#   Switch the mode from \"raw\" to \"code\" to run this cell\n",
    "\n",
    "spec2_sample_cal = fits.open(spec2_x1ds[0].replace('_x1d', '_cal'))\n",
    "\n",
    "print(\"***Format of the level 2 cal file:\")\n",
    "print(spec2_sample_cal.info())"
   ]
  },
  {
   "cell_type": "markdown",
   "id": "79a9b02a-5e9c-4885-9b16-f430cf033f77",
   "metadata": {},
   "source": [
    "In NIRISS WFSS data there are many sources of interest to look at. In this visualization we look at, for five selected sources, the source as it appears in the i2d image, two example grism `*_cal.fits` 2-D spectral cutouts, and the level 2 `*_x1d.fits` 1-D extracted spectra for all grism dithers. With the contamination step currently turned off, the contamination can be easily visible when comparing the 1-D and 2-D spectra of the two grisms, especially for source 505 where you can see an order 0 contaminant in the GR150C example `*_cal.fits` image at ~(75, 5), which appears as a large emission line for the GR150C 1-D spectrum.\n",
    "\n",
    "Note that the `*_cal.fits` data for GR150R are transposed so that the dispersion direction is along the -x axis. For both GR150R and GR150C `*_cal.fits` files, the axis is then flipped for visualization purposes."
   ]
  },
  {
   "cell_type": "code",
   "execution_count": null,
   "id": "c61efac3-d45d-4652-8a71-ead0bac1a94f",
   "metadata": {},
   "outputs": [],
   "source": [
    "# make sure you have run the cells defined convienence functions section: plot_i2d_plus_source, plot_spec2_cal, & plot_spectrum\n",
    "# here we look at the source as identified by the source catalog in the i2d image, the two grism cal files, and the x1d files\n",
    "if doviz:\n",
    "    # grab the spec2 x1d output products\n",
    "    spec2_x1d_files = sorted(glob.glob(os.path.join(sci_dir, '*nis_x1d.fits*')))\n",
    "\n",
    "    # define some cool sources to look at\n",
    "    sources = [417, 422, 505, 1296, 606]\n",
    "    nsources = len(sources)\n",
    "    \n",
    "    # or grab some sources from the first x1d file\n",
    "    # nsources = 4 # 100 sources are extracted by default\n",
    "    # source_offset = 10 # offsetting what nsources to plot\n",
    "    # with fits.open(spec2_x1d_files[0]) as temp_x1d:\n",
    "    #     sources = temp_x1d[1].data['SOURCE_ID'][source_offset:nsources+source_offset]\n",
    "\n",
    "    # setting up the figure\n",
    "    cols = 4\n",
    "    rows = nsources\n",
    "    fig = plt.figure(figsize=(15, 4*(rows/2)))\n",
    "    \n",
    "    # looping through the different sources to plot; one per row\n",
    "    for nsource, source_id in enumerate(sources):\n",
    "        # we are only plotting a single cal file cutout for each grism\n",
    "        plot_gr150r = True\n",
    "        plot_gr150c = True\n",
    "\n",
    "        # setting up the subplots for a single source\n",
    "        ypos = nsource\n",
    "        ax_i2d = plt.subplot2grid((rows, cols), (ypos, 0)) \n",
    "        ax_cal_r = plt.subplot2grid((rows, cols), (ypos, 1)) \n",
    "        ax_cal_c = plt.subplot2grid((rows, cols), (ypos, 2)) \n",
    "        ax_x1d = plt.subplot2grid((rows, cols), (ypos, 3))\n",
    "    \n",
    "        source_fluxes = [] # save the source flux to set the plot limits\n",
    "                \n",
    "        # plot all of the 1-D spectra from the x1d files\n",
    "        for nfile, x1dfile in enumerate(spec2_x1d_files):\n",
    "\n",
    "            ax_x1d, catname, source_fluxes, grism = plot_spectrum(x1dfile, source_fluxes, ax_x1d, sci_dir)\n",
    "            \n",
    "            # plot the direct image of the source based on the source number from the source catalog\n",
    "            if nfile == 0:\n",
    "                \n",
    "                ax_i2d = plot_i2d_plus_source(catname, source_id, ax_i2d)\n",
    "            \n",
    "            # plot one example cal image from the GR150R grism, transposed to disperse in the same direction as GR150C\n",
    "            if plot_gr150r and grism == 'GR150R':\n",
    "                ax_cal_r = plot_spec2_cal(x1dfile, source_id, ax_cal_r, transpose=True)\n",
    "                plot_gr150r = False\n",
    "                \n",
    "            # plot one example cal image from the GR150C grism\n",
    "            if plot_gr150c and grism == 'GR150C':\n",
    "                ax_cal_c = plot_spec2_cal(x1dfile, source_id, ax_cal_c)\n",
    "                plot_gr150c = False\n",
    "\n",
    "        if len(source_fluxes):\n",
    "            # there may not have been data to extract if everything was saturated\n",
    "            ax_x1d.set_ylim(np.nanmin(source_fluxes), np.nanmax(source_fluxes))\n",
    "            ax_x1d.legend(bbox_to_anchor=(1,1))\n",
    "        \n",
    "        # Add labels to the subplots\n",
    "        if nsource == 0:\n",
    "            ax_cal_r.set_title('Example Transposed GR150R cutout\\n(cal)')\n",
    "            ax_cal_c.set_title('Example GR150C cutout\\n(cal)')\n",
    "            ax_i2d.set_title('Direct Image\\n(i2d)')\n",
    "            ax_x1d.set_title('All Collapsed 1-D Spectrum\\n(level 2 x1d)')\n",
    "        ax_i2d.set_ylabel(f'Source\\n{source_id}', fontsize=15)\n",
    "\n",
    "            \n",
    "    fig.tight_layout()\n",
    "    fig.show()"
   ]
  },
  {
   "cell_type": "code",
   "execution_count": null,
   "id": "7d1a9be3-5cfb-4e2d-8e27-3e9d86b84387",
   "metadata": {},
   "outputs": [],
   "source": [
    "# Print out the time benchmark\n",
    "time_spec2_end = time.perf_counter()\n",
    "print(f\"Runtime for Spec2: {(time_spec2_end - time_spec2)/60:0.0f} minutes\")"
   ]
  },
  {
   "cell_type": "markdown",
   "id": "84eb37a1-1da0-4482-a879-2b96a056767f",
   "metadata": {},
   "source": [
    "<hr style=\"border:1px solid gray\"> </hr>"
   ]
  },
  {
   "cell_type": "markdown",
   "id": "094ad37f-16d4-43f0-85b7-e02fe62b8ee2",
   "metadata": {},
   "source": [
    "## 8. Spec3 Pipeline\n",
    "\n",
    "NIRISS WFSS data are minimally processed through the [Spec3 stage of the pipeline](https://jwst-pipeline.readthedocs.io/en/latest/jwst/pipeline/calwebb_spec3.html) to combine calibrated data from multiple dithers within an observation. The spec3 products are unique for a specific grism and blocking filter combination; the different grism data are not combined by default. As of pipeline version 1.19.1, the level 3 source-based `*_cal.fits` files created in this step in the [exp_to_source](https://jwst-pipeline.readthedocs.io/en/latest/jwst/exp_to_source/main.html) step are no longer saved by default, and the `*_x1d.fits` files created in the [extract_1d](https://jwst-pipeline.readthedocs.io/en/latest/jwst/extract_1d/description.html) and the `*_c1d.fits` files created in the [combine_1d](https://jwst-pipeline.readthedocs.io/en/latest/jwst/combine_1d/description.html) step are now saved as a single file per grism and filter combination with all of the extracted sources contained within that file."
   ]
  },
  {
   "cell_type": "code",
   "execution_count": null,
   "id": "42224838-d40f-4372-94a0-935ed9f2bf95",
   "metadata": {},
   "outputs": [],
   "source": [
    "time_spec3 = time.perf_counter()"
   ]
  },
  {
   "cell_type": "markdown",
   "id": "83b88335-0219-426c-9354-d9a35c3a05f3",
   "metadata": {},
   "source": [
    "### Spec3 Association Files\n",
    "\n",
    "There will be one spec3 association per blocking filter and grism combination, in which all of the extracted 1-D spectra within an observation with that filter and grism combination are coadded into a single spectrum for each source. In the demo case, we are looking at only one blocking filter (F200W) with both grisms (GR150R & GR150C), so we would expect two spec3 association files. There are three dithered exposures per grism for the F200W observation, so each spec3 association file will contain those three `*_cal.fits` files to combine."
   ]
  },
  {
   "cell_type": "code",
   "execution_count": null,
   "id": "108990b3-65ac-4c46-b7de-7c4817434825",
   "metadata": {},
   "outputs": [],
   "source": [
    "if dospec3:\n",
    "        spec3_asns = glob.glob(os.path.join(sci_dir, \"*spec3*_asn.json\"))\n",
    "    \n",
    "        # the number of spec3 association files should match the number of grism + filter combinations\n",
    "        print(len(spec3_asns), 'Spec3 ASN files')\n",
    "        grism_df = rate_df[(rate_df['FILTER'] == 'GR150R') | (rate_df['FILTER'] == 'GR150C')]\n",
    "        grism_filter = grism_df['FILTER'] + grism_df['PUPIL']\n",
    "        print(len(np.unique(grism_filter)), 'unique filter+grism combinations') "
   ]
  },
  {
   "cell_type": "code",
   "execution_count": null,
   "id": "72541713-85de-442d-a69e-2db60f4bfc1f",
   "metadata": {},
   "outputs": [],
   "source": [
    "if dospec3:\n",
    "    # look at one of the association files\n",
    "    asn_data = json.load(open(spec3_asns[1]))\n",
    "    print(f'asn_type : {asn_data[\"asn_type\"]}')\n",
    "    print(f'code_version : {asn_data[\"code_version\"]}')\n",
    "\n",
    "    # in particular, take a closer look at the product filenames with the association file:\n",
    "    for product in asn_data['products']:\n",
    "        for key, value in product.items():\n",
    "            if key == 'members':\n",
    "                print(f\"{key}:\")\n",
    "                for member in value:\n",
    "                    print(f\"    {member['expname']} : {member['exptype']}\")\n",
    "            else:\n",
    "                print(f\"{key}: {value}\")"
   ]
  },
  {
   "cell_type": "markdown",
   "id": "32b3dc6b-2420-42cb-9935-584372c1114c",
   "metadata": {},
   "source": [
    "### Run spec3\n",
    "\n",
    "In Spec3, the `*_cal.fits` files are reorganized based on source number from the Image3 Pipeline's source catalog, extracted into level 3 `*_x1d.fits` files, and then combined into a single 1-D spectrum (`*_c1d.fits` files) for each source. More information about the steps performed during the spec3 stage of the pipeline can be found in the [Spec3 pipeline documentation](https://jwst-pipeline.readthedocs.io/en/latest/jwst/pipeline/calwebb_spec3.html)."
   ]
  },
  {
   "cell_type": "code",
   "execution_count": null,
   "id": "9e11f35c-fae2-464f-bc24-f26b81caa18f",
   "metadata": {
    "scrolled": true
   },
   "outputs": [],
   "source": [
    "if dospec3:\n",
    "    os.chdir(sci_dir)\n",
    "    for spec3_asn in spec3_asns:\n",
    "        # calibrate with spec3 pipeline\n",
    "        spec2 = Spec3Pipeline.call(spec3_asn, save_results=True)\n",
    "    os.chdir(cwd)"
   ]
  },
  {
   "cell_type": "markdown",
   "id": "8d12a7cc-398f-4f80-a09d-a90c7afac221",
   "metadata": {},
   "source": [
    "We can look at the steps run and the corresponding reference files used for the Spec3 c1d output files."
   ]
  },
  {
   "cell_type": "code",
   "execution_count": null,
   "id": "5eb9ff42-144c-4cea-96f8-4f90db85dddf",
   "metadata": {
    "scrolled": true
   },
   "outputs": [],
   "source": [
    "example_c1d = glob.glob(os.path.join(sci_dir, '*c1d.fits'))[0]\n",
    "check_steps_run(example_c1d) # direct image\n",
    "check_ref_file_used(example_c1d) # dispersed image"
   ]
  },
  {
   "cell_type": "markdown",
   "id": "c3a99265-6274-4f37-9fc3-24a94798a7c7",
   "metadata": {},
   "source": [
    "<a id=\"spec3_examine\"></a>\n",
    "### Examining the Outputs of Spec3\n",
    "\n",
    "The outputs of spec3 are `*_x1d.fits` and `*_c1d.fits` files. Here we do a quick look into some important parts of these files."
   ]
  },
  {
   "cell_type": "markdown",
   "id": "9381e29c-33ed-433e-9774-78e6866477f2",
   "metadata": {},
   "source": [
    "### File Structure \n",
    "\n",
    "Each extension of the spec3 `*_x1d.fits` files contains the extracted, 1-D spectra for an individual dither for a single grism, filter, and extracted order combination. The specific filenames and extracted order can be verified with the `FILENAME` and `SPORDER` keywords in the header of each extension respectively. Within the extension, each of the extracted sources across all dithers are listed, with the values being empty if the particular dither did not contain data for that source. Also contained within each extension is information related to the extraction of a particular source, including the extents and starting size of the extraction box in the full reference frame. More information about the columns contained withing the `*_x1d.fits` files can be found in the [x1d filetype documentation](https://jwst-pipeline.readthedocs.io/en/latest/jwst/data_products/science_products.html#extracted-1-d-spectroscopic-data-x1d-and-x1dints)."
   ]
  },
  {
   "cell_type": "code",
   "execution_count": null,
   "id": "f9aab189-ddea-41e5-b631-c9b1a52a9c7a",
   "metadata": {
    "scrolled": true
   },
   "outputs": [],
   "source": [
    "dospec3\n",
    "# the level 3 products have a different naming scheme\n",
    "spec3_x1ds = sorted(glob.glob(os.path.join(sci_dir, \"jw?????-o???_*x1d.fits\")))\n",
    "sample_x1d = fits.open(spec3_x1ds[0])\n",
    "\n",
    "print(\"***Format of the level 3 x1d file:\")\n",
    "sample_x1d.info()\n",
    "\n",
    "print(\"\\n***Files contained in the level 3 x1d file:\")\n",
    "for ext in range(len(sample_x1d))[1:-1]:\n",
    "    print(f\"Extension {ext}: {sample_x1d[ext].header['FILENAME']}, order {sample_x1d[ext].header['SPORDER']}\")\n",
    "\n",
    "print(\"\\n***Columns contained in each extension of the level 3 x1d file:\")\n",
    "sample_x1d[1].data.columns"
   ]
  },
  {
   "cell_type": "markdown",
   "id": "36a6a541-e1f7-41cd-a0d8-7db221fd9fb5",
   "metadata": {},
   "source": [
    "The `*_c1d.fits` files contain combined extensions of the same order in the spec3 `*_x1d.fits` files into a single file. The source numbers in the `*_c1d.fits` match those in the level 3 `*_x1d.fits` files. More information about the columns contained withing the `*_c1d.fits` files can be found in the [c1d filetype documentation](https://jwst-pipeline.readthedocs.io/en/latest/jwst/data_products/science_products.html#combined-1-d-spectroscopic-data-c1d)."
   ]
  },
  {
   "cell_type": "code",
   "execution_count": null,
   "id": "96e28edf-9c77-4773-88a6-2ba6cc7d1c81",
   "metadata": {
    "scrolled": true
   },
   "outputs": [],
   "source": [
    "# the level 3 products have a different naming scheme\n",
    "spec3_c1ds = sorted(glob.glob(os.path.join(sci_dir, \"jw?????-o???_*c1d.fits\")))\n",
    "sample_c1d = fits.open(spec3_c1ds[0])\n",
    "\n",
    "print(\"***Format of the c1d file:\")\n",
    "sample_c1d.info()\n",
    "\n",
    "print(\"\\n***Files contained in the c1d file:\")\n",
    "for ext in range(len(sample_c1d))[1:-1]:\n",
    "    print(f\"Extension {ext}: order {sample_c1d[ext].header['SPORDER']}\")\n",
    "    \n",
    "print(\"\\n***Columns contained in each extension of the c1d file:\")\n",
    "sample_c1d[1].data.columns"
   ]
  },
  {
   "cell_type": "markdown",
   "id": "bba332b3-8dd4-4225-bce0-8698b36055de",
   "metadata": {},
   "source": [
    "Digging a little bit further into the different source IDs and how those are handled, you can see that in each extension the source IDs are now identical.  "
   ]
  },
  {
   "cell_type": "code",
   "execution_count": null,
   "id": "2ad065fa-3399-480d-a981-4ec7a2a7f3fe",
   "metadata": {},
   "outputs": [],
   "source": [
    "for ext in np.arange(len(sample_x1d))[1:-1]:\n",
    "    print(f\"Extension {ext}: {sample_x1d[ext].header['FILENAME']}, Order {sample_x1d[ext].header['SPORDER']}\")\n",
    "    print(\"  Sources:\\n\", sample_x1d[ext].data['SOURCE_ID'])"
   ]
  },
  {
   "cell_type": "markdown",
   "id": "033df817-d2c3-4479-92ec-4c1a9df39ce1",
   "metadata": {},
   "source": [
    "If a source wasn't extracted for a file, the values will be filled in with a value of \"0\" or \"nan\". In this example, we look at where the column `N_ALONGDISP` is zero to find which sources aren't extracted in certain files. `N_ALONGDISP` represents the number of pixels in the trace along the dispersion direction, so if it is zero, no pixels were used."
   ]
  },
  {
   "cell_type": "code",
   "execution_count": null,
   "id": "74d10c92-56cf-404c-93d7-759de3217167",
   "metadata": {},
   "outputs": [],
   "source": [
    "# looking at extension 1 (first file) as an example of what a source looks like if it's not extracted\n",
    "ext = 1\n",
    "wh_no_source = np.where(sample_x1d[ext].data['N_ALONGDISP'] == 0)[0]\n",
    "if len(wh_no_source) > 0:\n",
    "    print(f\"{sample_x1d[ext].header['FILENAME']} does not extract the following sources:\")\n",
    "    print(f\"  {sample_x1d[ext].data['SOURCE_ID'][wh_no_source]}\")\n",
    "    print(\"Unique values in the different columns:\")\n",
    "    for colname in sample_x1d[ext].data.names:\n",
    "        print(f\"  {colname} : {np.unique(sample_x1d[ext].data[colname][wh_no_source[0]])}\")"
   ]
  },
  {
   "cell_type": "markdown",
   "id": "51cb6db0-c924-47e9-bbde-dbc162bbd166",
   "metadata": {},
   "source": [
    "### Spec3 Visualization\n",
    "\n",
    "To compare with the Spec2 output products above, we look at the same sources, plotting instead the final `*_c1d.fits` files for each grism. In the figure below, we again show the `*_i2d.fits` image for a specific source, followed by the level 3 `*_x1d.fits` individual spectra for each of the two grisms, followed by the `*_c1d.fits` combined spectrum for each of the grisms."
   ]
  },
  {
   "cell_type": "code",
   "execution_count": null,
   "id": "6b0829d0-c072-436f-8500-04b105cfbcd8",
   "metadata": {},
   "outputs": [],
   "source": [
    "# make sure you have run the cells defined convienence functions section: plot_i2d_plus_source & plot_spectrum\n",
    "# this cell looks at the i2d images, the level 3 x1d spectra, and the combined c1d spectra for both grisms for several sources\n",
    "if doviz:\n",
    "\n",
    "    spec3_c1ds = sorted(glob.glob(os.path.join(sci_dir, \"jw?????-o???_*c1d.fits\")))\n",
    "\n",
    "    # define some cool sources to look at\n",
    "    sources = [417, 422, 505, 1296, 606]\n",
    "    nsources = len(sources)\n",
    "    \n",
    "    # or grab some sources from the first x1d file\n",
    "    # nsources = 4 # 100 sources are extracted by default\n",
    "    # source_offset = 10 # offsetting what nsources to plot\n",
    "    # with fits.open(spec3_c1ds[0]) as temp_c1d:\n",
    "    #     sources = temp_c1d[1].data['SOURCE_ID'][source_offset:nsources+source_offset]\n",
    "\n",
    "    # setting up the figure\n",
    "    cols = 4\n",
    "    rows = nsources\n",
    "    fig_c1d = plt.figure(figsize=(15, 4*(rows/2)))\n",
    "\n",
    "    # looping through the different sources to plot; one per row\n",
    "    for nsource, source_id in enumerate(sources):\n",
    "\n",
    "        # setting up the subplots for a single source\n",
    "        ypos = nsource\n",
    "        ax_i2d = plt.subplot2grid((rows, cols), (ypos, 0)) \n",
    "        ax_x1d_r = plt.subplot2grid((rows, cols), (ypos, 1))\n",
    "        ax_x1d_c = plt.subplot2grid((rows, cols), (ypos, 2))\n",
    "        ax_c1d = plt.subplot2grid((rows, cols), (ypos, 3))\n",
    "    \n",
    "        source_fluxes = [] # save the source flux to set the plot limits\n",
    "\n",
    "        # plot all of the 1-D combined spectra from the c1d files\n",
    "        for nfile, c1dfile in enumerate(spec3_c1ds):\n",
    "            \n",
    "            # plotting the c1d spectra\n",
    "            ax_c1d, catname, source_fluxes, grism = plot_spectrum(c1dfile, source_fluxes, ax_c1d, sci_dir)\n",
    "                \n",
    "            # plot the level 3 x1d files\n",
    "            x1dfile = c1dfile.replace('c1d', 'x1d')\n",
    "            with fits.open(x1dfile) as x1d:\n",
    "                for ext in range(len(x1d))[1:-1]:\n",
    "                    if grism == 'GR150R':\n",
    "                        ax_x1d_r, catname, source_fluxes, grism = plot_spectrum(x1dfile, source_fluxes, ax_x1d_r, sci_dir, ext=ext, legend=False)\n",
    "                    else:\n",
    "                        ax_x1d_c, catname, source_fluxes, grism = plot_spectrum(x1dfile, source_fluxes, ax_x1d_c, sci_dir, ext=ext, legend=False)\n",
    "            \n",
    "            # plot the direct image of the source based on the source number from the source catalog\n",
    "            if nfile == 0:\n",
    "                ax_i2d = plot_i2d_plus_source(catname, source_id, ax_i2d)\n",
    "\n",
    "        # plot labels and such\n",
    "        if len(source_fluxes):\n",
    "            # there may not have been data to extract if everything was saturated\n",
    "            ax_c1d.set_ylim(np.nanmin(source_fluxes), np.nanmax(source_fluxes))\n",
    "        \n",
    "        # Add labels to the subplots\n",
    "        if nsource == 0:\n",
    "            ax_i2d.set_title('Direct Image\\n(i2d)')\n",
    "            ax_x1d_r.set_title('Individual GR150R 1-D Spectrum\\n(level 3 x1d)')\n",
    "            ax_x1d_c.set_title('Individual GR150C 1-D Spectrum\\n(level 3 x1d)')\n",
    "            ax_c1d.set_title('Combined 1-D Spectrum\\n(c1d)')\n",
    "        ax_i2d.set_ylabel(f'Source\\n{source_id}', fontsize=15)\n",
    "\n",
    "            \n",
    "    fig_c1d.tight_layout()\n",
    "    fig_c1d.show()"
   ]
  },
  {
   "cell_type": "code",
   "execution_count": null,
   "id": "02e38813-421e-42ac-b7e4-5856e652894d",
   "metadata": {},
   "outputs": [],
   "source": [
    "# Print out the time benchmark\n",
    "time_spec3_end = time.perf_counter()\n",
    "print(f\"Runtime for Spec3: {(time_spec3_end - time_spec3)/60:0.0f} minutes\")"
   ]
  },
  {
   "cell_type": "markdown",
   "id": "19d9e5b7-8baf-4d0f-99ee-de674ecb06b4",
   "metadata": {},
   "source": [
    "<hr style=\"border:1px solid gray\"> </hr>"
   ]
  }
 ],
 "metadata": {
  "kernelspec": {
   "display_name": "Python 3 (ipykernel)",
   "language": "python",
   "name": "python3"
  },
  "language_info": {
   "codemirror_mode": {
    "name": "ipython",
    "version": 3
   },
   "file_extension": ".py",
   "mimetype": "text/x-python",
   "name": "python",
   "nbconvert_exporter": "python",
   "pygments_lexer": "ipython3",
   "version": "3.11.7"
  }
 },
 "nbformat": 4,
 "nbformat_minor": 5
}
