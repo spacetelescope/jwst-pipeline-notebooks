{
 "cells": [
  {
   "cell_type": "markdown",
   "id": "82982978",
   "metadata": {},
   "source": [
    "<img style=\"float: center;\" src='https://github.com/spacetelescope/jwst-pipeline-notebooks/raw/main/_static/stsci_header.png' alt=\"stsci_logo\" width=\"900px\"/> "
   ]
  },
  {
   "cell_type": "markdown",
   "id": "a68d1b6b",
   "metadata": {},
   "source": [
    "<a id=\"title_ID\"></a>\n",
    "# MIRI LRS Slitless Mode TSO Pipeline Notebook #"
   ]
  },
  {
   "cell_type": "markdown",
   "id": "74bbb55c",
   "metadata": {},
   "source": [
    "**Authors**: Ian Wong; MIRI branch<br>\n",
    "**Last Updated**: May 5, 2025<br>\n",
    "**Pipeline Version**: 1.18.1 (Build 11.3)"
   ]
  },
  {
   "cell_type": "markdown",
   "id": "243c6347",
   "metadata": {},
   "source": [
    "**Purpose**:<br>\n",
    "This notebook provides a framework for processing generic Mid-Infrared\n",
    "Instrument (MIRI) Low Resolution Spectroscopy (LRS) slitless mode time series observations (TSO) data through all\n",
    "three James Webb Space Telescope (JWST) pipeline stages.  The data are assumed\n",
    "to be located in the observation directory located in the path set up below. \n",
    "It should not be necessary to edit any cells other than in the [Configuration](#1.-Configuration) section unless modifying the standard pipeline processing options.<br>\n",
    "\n",
    "A significant portion of the data processing workflow for LRS slitless TSOs is identical to the methods used to process (non-TSO) LRS slit mode observations, and much of this notebook mirrors the corresponding steps shown in the MIRI slit mode notebook.\n",
    "\n",
    "**Data**:<br>\n",
    "This example is set up to use observations of the A-type standard star HD 2811, which were obtained as part of the Cycle 2 JWST flux calibration campaign by Proposal ID (PID) 4496 Observations 4 and 5. The first of these observations is of the target, while the second is a linked dedicated background observation that will be used to remove the background flux contribution from the target exposures. No dithering is carried out for standard LRS slitless mode observations. It is common for LRS slitless TSOs to lack dedicated background observations, and this notebook allows for the user to turn off the background subtraction step. The example uncalibrated data will be downloaded automatically unless disabled (i.e., to run with user-supplied local files instead).<br>\n",
    "\n",
    "Most TSOs consist of a long series of integrations, sometimes lasting more than 10 hours, and are designed to capture transient events (e.g., exoplanet transits, phase curves). This example uses a shorter observation in order to facilitate quick execution of the full data processing workflow, while demonstrating the basic functionality of the JWST pipeline for TSOs.\n",
    "\n",
    "\n",
    "**JWST pipeline version and CRDS context**:<br>\n",
    "This notebook was written for the above-specified pipeline version and associated build context for this version of the JWST Calibration Pipeline. Information about this and other contexts can be found in the JWST Calibration Reference Data System (CRDS [server](https://jwst-crds.stsci.edu/)). If you use different pipeline versions, please refer to the table [here](https://jwst-crds.stsci.edu/display_build_contexts/) to determine what context to use. To learn more about the differences for the pipeline, read the relevant [documentation](https://jwst-docs.stsci.edu/jwst-science-calibration-pipeline/jwst-operations-pipeline-build-information#references).\n",
    "\n",
    "Please note that pipeline software development is a continuous process, so results in some cases may be slightly different if a subsequent version is used. **For optimal results, users are strongly encouraged to reprocess their data using the most recent pipeline version and [associated CRDS context](https://jwst-crds.stsci.edu/display_build_contexts/), taking advantage of bug fixes and algorithm improvements.** Any [known issues](https://jwst-docs.stsci.edu/known-issues-with-jwst-data/nirspec-known-issues/nirspec-ifu-known-issues#gsc.tab=0) for this build are noted in the notebook.<BR>\n",
    "\n",
    "**Updates**:<br>\n",
    "This notebook is regularly updated as improvements are made to the\n",
    "pipeline. Find the most up to date version of this notebook at:\n",
    "https://github.com/spacetelescope/jwst-pipeline-notebooks/\n",
    "\n",
    "**Recent Changes**:<br>\n",
    "Feb 1 2025: Notebook created.<br>\n",
    "May 5, 2025: Updated to jwst 1.18.0 (no significant changes)"
   ]
  },
  {
   "cell_type": "markdown",
   "id": "44864703",
   "metadata": {},
   "source": [
    "<hr style=\"border:1px solid gray\"> </hr>"
   ]
  },
  {
   "cell_type": "markdown",
   "id": "054b4801",
   "metadata": {},
   "source": [
    "## Table of Contents\n",
    "\n",
    "1. [Configuration](#1.-Configuration)\n",
    "2. [Package Imports](#2.-Package-Imports)\n",
    "3. [Demo Mode Setup](#3.-Demo-Mode-Setup-(ignore-if-not-using-demo-data))\n",
    "4. [Directory Setup](#4.-Directory-Setup)\n",
    "5. [Detector1 Pipeline](#5.-Detector1-Pipeline)\n",
    "6. [Spec2 Pipeline](#6.-Spec2-Pipeline)\n",
    "7. [Spec3 Pipeline](#7.-Spec3-Pipeline) \n",
    "8. [Plot white-light curve](#8.-Plot-white-light-curve)\n",
    "9. [Plot spectroscopic light curves](#9.-Plot-spectroscopic-light-curves)"
   ]
  },
  {
   "cell_type": "markdown",
   "id": "e944b039",
   "metadata": {},
   "source": [
    "<hr style=\"border:1px solid gray\"> </hr>"
   ]
  },
  {
   "cell_type": "markdown",
   "id": "9b0eaabd",
   "metadata": {},
   "source": [
    "## 1.-Configuration\n",
    "\n",
    "### Install dependencies\n",
    "To make sure that the pipeline version is compatabile with this notebook and the required dependencies and packages are installed,\n",
    "it is recommended that users create a new dedicated conda environment and install the provided\n",
    "`requirements.txt` file before starting this notebook: <br>\n",
    "```\n",
    "conda create -n lrs_demo python=3.11\n",
    "conda activate lrs_demo\n",
    "pip install -r requirements.txt\n",
    "```\n",
    "\n",
    "### Set run parameters\n",
    "Set basic parameters to use with the notebook. These will affect\n",
    "what observation is used, where the uncalibrated data are located (if already on disk), which\n",
    "pipeline modules to run on the data, and whether background subtraction is carried out. The list of parameters are:\n",
    "\n",
    "Set the basic parameters to configure the notebook. These parameters determine what data gets used and where the data is located (if already on disk). The list of parameters includes:\n",
    "\n",
    "* `demo_mode`:\n",
    "    * Determines what data is used in the notebook.\n",
    "* **Directories with data**:\n",
    "    * `sci_dir`: Directory where science observation data is stored.\n",
    "    * `bkg_dir`: Directory where background observation data is stored.\n",
    "* **pipeline modules**:\n",
    "    * `do_det1 = True` runs the Detector1 module on the selected data.\n",
    "    * `do_spec2 = True` runs calwebb_spec2 module on the selected data.\n",
    "    * `do_tso3 = True` runs calwebb_tso3 module on the selected data.\n",
    "    * `do_viz = True` Creates plots to visualize calwebb_tso3 results.\n",
    "\n",
    "* **bkg_sub**:\n",
    "    * `bkg_data = True` set to False if not carrying out background substraction\n",
    "    * `bkg_sub = True` instructs the pipeline whether to carry out dedicated background subtraction."
   ]
  },
  {
   "cell_type": "code",
   "execution_count": 1,
   "id": "5303cb4b",
   "metadata": {
    "execution": {
     "iopub.execute_input": "2025-06-16T19:20:14.517782Z",
     "iopub.status.busy": "2025-06-16T19:20:14.517587Z",
     "iopub.status.idle": "2025-06-16T19:20:14.522797Z",
     "shell.execute_reply": "2025-06-16T19:20:14.522339Z"
    }
   },
   "outputs": [],
   "source": [
    "# Basic import necessary for configuration\n",
    "import os"
   ]
  },
  {
   "cell_type": "markdown",
   "id": "9f8508f3",
   "metadata": {},
   "source": [
    "<div class=\"alert alert-block alert-warning\">\n",
    "Note that <code>demo_mode</code> must be set appropriately below.\n",
    "</div>\n",
    "\n",
    "Set <code>demo_mode = True </code> to run in demonstration mode. In this mode, this\n",
    "notebook will download the example data from the\n",
    "Barbara A. Mikulski Archive for Space Telescopes ([MAST](https://archive.stsci.edu/)) and process them through the pipeline.\n",
    "All input and output data will be stored in the local directory unless modified\n",
    "in [Section 3](#3.-Demo-Mode-Setup-(ignore-if-not-using-demo-data)) below. \n",
    "\n",
    "Set <code>demo_mode = False</code> to process user-specified data that have already\n",
    "been downloaded and provide the location of the data.<br>"
   ]
  },
  {
   "cell_type": "code",
   "execution_count": 2,
   "id": "05351b95",
   "metadata": {
    "execution": {
     "iopub.execute_input": "2025-06-16T19:20:14.524495Z",
     "iopub.status.busy": "2025-06-16T19:20:14.524328Z",
     "iopub.status.idle": "2025-06-16T19:20:14.528493Z",
     "shell.execute_reply": "2025-06-16T19:20:14.528006Z"
    }
   },
   "outputs": [
    {
     "name": "stdout",
     "output_type": "stream",
     "text": [
      "Running in demonstration mode using online example data!\n"
     ]
    }
   ],
   "source": [
    "# Set parameters for demo_mode, data directory, and processing steps\n",
    "\n",
    "# -----------------------------Demo Mode---------------------------------\n",
    "demo_mode = True\n",
    "\n",
    "if demo_mode:\n",
    "    print('Running in demonstration mode using online example data!')\n",
    "\n",
    "# --------------------------User Mode Directories------------------------\n",
    "# If demo_mode = False, look for user data in these paths\n",
    "if not demo_mode:\n",
    "    # Set directory paths for processing specific data; these will need\n",
    "    # to be changed to the user's local directory setup (paths below are given as\n",
    "    # examples).\n",
    "    basedir = os.path.join(os.getcwd(), 'lrs_tso_demo_data')\n",
    "\n",
    "    # Point to where the observation data are stored.\n",
    "    # Assumes uncalibrated data in sci_dir/uncal/ and bkg_dir/uncal/, with the results stored in stage1,\n",
    "    # stage2, stage3 directories.\n",
    "    sci_dir = os.path.join(basedir, 'PID04496Obs004/')\n",
    "    bkg_dir = os.path.join(basedir, 'PID04496Obs005/')\n",
    "\n",
    "# --------------------------Set Processing Steps--------------------------\n",
    "# Individual pipeline stages can be turned on/off here.  Note that a later\n",
    "# stage won't be able to run unless data products have already been\n",
    "# produced from the prior stage.\n",
    "\n",
    "# Pipeline processing\n",
    "do_det1 = True  # calwebb_detector1\n",
    "do_spec2 = True  # calwebb_spec2\n",
    "do_tso3 = True  # calwebb_tso3\n",
    "do_viz = True  # Visualize calwebb_tso3 results\n",
    "\n",
    "# Background subtraction\n",
    "bkg_data = True  # Set as true if using background data\n",
    "bkg_sub = True  # Set as true to carry out dedicated background removal"
   ]
  },
  {
   "cell_type": "markdown",
   "id": "cb7c90aa",
   "metadata": {},
   "source": [
    "### Set CRDS context and server\n",
    "Before importing <code>CRDS</code> and <code>JWST</code> modules, we need to configure our environment. This includes defining a CRDS cache directory in which to keep the reference files that will be used by the calibration pipeline.\n",
    "\n",
    "If the root directory for the local CRDS cache directory has not been set already, it will be automatically created in the home directory."
   ]
  },
  {
   "cell_type": "code",
   "execution_count": 3,
   "id": "a0ce6867",
   "metadata": {
    "execution": {
     "iopub.execute_input": "2025-06-16T19:20:14.530070Z",
     "iopub.status.busy": "2025-06-16T19:20:14.529904Z",
     "iopub.status.idle": "2025-06-16T19:20:14.534323Z",
     "shell.execute_reply": "2025-06-16T19:20:14.533881Z"
    }
   },
   "outputs": [
    {
     "name": "stdout",
     "output_type": "stream",
     "text": [
      "CRDS local filepath: /home/runner/crds\n",
      "CRDS file server: https://jwst-crds.stsci.edu\n"
     ]
    }
   ],
   "source": [
    "# ------------------------Set CRDS context and paths------------------------\n",
    "# Each version of the calibration pipeline is associated with a specific CRDS\n",
    "# context file. The pipeline will select the appropriate context file behind\n",
    "# the scenes while running. However, if you wish to override the default context\n",
    "# file and run the pipeline with a different context, you can set that using\n",
    "# the CRDS_CONTEXT environment variable. Here we show how this is done,\n",
    "# although we leave the line commented out in order to use the default context.\n",
    "# If you wish to specify a different context, uncomment the line below.\n",
    "#os.environ['CRDS_CONTEXT'] = 'jwst_1322.pmap'  # CRDS context for 1.17.1\n",
    "\n",
    "# Check whether the local CRDS cache directory has been set.\n",
    "# If not, set it to the user home directory.\n",
    "if (os.getenv('CRDS_PATH') is None):\n",
    "    os.environ['CRDS_PATH'] = os.path.join(os.path.expanduser('~'), 'crds')\n",
    "\n",
    "# Check whether the CRDS server URL has been set.  If not, set it.\n",
    "if (os.getenv('CRDS_SERVER_URL') is None):\n",
    "    os.environ['CRDS_SERVER_URL'] = 'https://jwst-crds.stsci.edu'\n",
    "\n",
    "# Print out CRDS path and context that will be used\n",
    "print('CRDS local filepath:', os.environ['CRDS_PATH'])\n",
    "print('CRDS file server:', os.environ['CRDS_SERVER_URL'])"
   ]
  },
  {
   "cell_type": "markdown",
   "id": "521abfd1",
   "metadata": {},
   "source": [
    "<hr style=\"border:1px solid gray\"> </hr>"
   ]
  },
  {
   "cell_type": "markdown",
   "id": "696294f6",
   "metadata": {},
   "source": [
    "## 2.-Package Imports"
   ]
  },
  {
   "cell_type": "markdown",
   "id": "1be23f16",
   "metadata": {},
   "source": [
    "Automatically import necessary Python packages for use in the data processing and visualization."
   ]
  },
  {
   "cell_type": "code",
   "execution_count": 4,
   "id": "faa7660f",
   "metadata": {
    "execution": {
     "iopub.execute_input": "2025-06-16T19:20:14.535963Z",
     "iopub.status.busy": "2025-06-16T19:20:14.535803Z",
     "iopub.status.idle": "2025-06-16T19:20:14.541205Z",
     "shell.execute_reply": "2025-06-16T19:20:14.540770Z"
    }
   },
   "outputs": [
    {
     "data": {
      "text/html": [
       "<style>.container { width:95% !important; }</style>"
      ],
      "text/plain": [
       "<IPython.core.display.HTML object>"
      ]
     },
     "metadata": {},
     "output_type": "display_data"
    }
   ],
   "source": [
    "# Use the entire available screen width for this notebook\n",
    "from IPython.display import display, HTML\n",
    "display(HTML(\"<style>.container { width:95% !important; }</style>\"))"
   ]
  },
  {
   "cell_type": "markdown",
   "id": "717a088b",
   "metadata": {},
   "source": [
    "import system utilities and other packages"
   ]
  },
  {
   "cell_type": "code",
   "execution_count": 5,
   "id": "4ca96f7d",
   "metadata": {
    "execution": {
     "iopub.execute_input": "2025-06-16T19:20:14.542791Z",
     "iopub.status.busy": "2025-06-16T19:20:14.542616Z",
     "iopub.status.idle": "2025-06-16T19:20:15.766999Z",
     "shell.execute_reply": "2025-06-16T19:20:15.766291Z"
    }
   },
   "outputs": [],
   "source": [
    "# Basic system utilities for interacting with files\n",
    "# ----------------------General Imports------------------------------------\n",
    "import glob\n",
    "import time\n",
    "from pathlib import Path\n",
    "\n",
    "# Numpy for doing calculations\n",
    "import numpy as np\n",
    "\n",
    "# -----------------------Astropy Imports-----------------------------------\n",
    "# Astropy utilities for opening FITS and ASCII files and downloading demo files\n",
    "from astropy.io import fits, ascii\n",
    "from astroquery.mast import Observations\n",
    "\n",
    "# -----------------------Plotting Imports----------------------------------\n",
    "# Matplotlib for making plots\n",
    "import matplotlib.pyplot as plt\n",
    "from matplotlib import rc"
   ]
  },
  {
   "cell_type": "code",
   "execution_count": 6,
   "id": "cf2d1204",
   "metadata": {
    "execution": {
     "iopub.execute_input": "2025-06-16T19:20:15.769413Z",
     "iopub.status.busy": "2025-06-16T19:20:15.768870Z",
     "iopub.status.idle": "2025-06-16T19:20:17.354736Z",
     "shell.execute_reply": "2025-06-16T19:20:17.354122Z"
    }
   },
   "outputs": [
    {
     "name": "stdout",
     "output_type": "stream",
     "text": [
      "JWST Calibration Pipeline Version = 1.18.1\n"
     ]
    },
    {
     "name": "stderr",
     "output_type": "stream",
     "text": [
      "CRDS - INFO -  Calibration SW Found: jwst 1.18.1 (/opt/hostedtoolcache/Python/3.11.13/x64/lib/python3.11/site-packages/jwst-1.18.1.dist-info)\n"
     ]
    },
    {
     "name": "stdout",
     "output_type": "stream",
     "text": [
      "Using CRDS Context = jwst_1364.pmap\n"
     ]
    }
   ],
   "source": [
    "# --------------JWST Calibration Pipeline Imports---------------------------\n",
    "# Import the base JWST and calibration reference data packages\n",
    "import jwst\n",
    "import crds\n",
    "\n",
    "# JWST pipelines (each encompassing many steps)\n",
    "from jwst.pipeline import Detector1Pipeline\n",
    "from jwst.pipeline import Spec2Pipeline\n",
    "from jwst.pipeline import Tso3Pipeline\n",
    "\n",
    "# JWST pipeline utilities\n",
    "from jwst.associations import asn_from_list as afl  # Tools for creating association files\n",
    "from jwst.associations.lib.rules_level2_base import DMSLevel2bBase  # Definition of a Lvl2 association file\n",
    "from jwst.associations.lib.rules_level3_base import DMS_Level3_Base  # Definition of a Lvl3 association file\n",
    "\n",
    "# Print out pipeline version and CRDS context that will be used\n",
    "print(\"JWST Calibration Pipeline Version = {}\".format(jwst.__version__))\n",
    "print(\"Using CRDS Context = {}\".format(crds.get_context_name('jwst')))"
   ]
  },
  {
   "cell_type": "code",
   "execution_count": 7,
   "id": "e181ba6e",
   "metadata": {
    "execution": {
     "iopub.execute_input": "2025-06-16T19:20:17.356964Z",
     "iopub.status.busy": "2025-06-16T19:20:17.356442Z",
     "iopub.status.idle": "2025-06-16T19:20:17.359441Z",
     "shell.execute_reply": "2025-06-16T19:20:17.358987Z"
    }
   },
   "outputs": [],
   "source": [
    "# Start a timer to keep track of runtime\n",
    "time0 = time.perf_counter()"
   ]
  },
  {
   "cell_type": "markdown",
   "id": "aa4be7f3",
   "metadata": {},
   "source": [
    "<hr style=\"border:1px solid gray\"> </hr>"
   ]
  },
  {
   "cell_type": "markdown",
   "id": "235c05aa",
   "metadata": {},
   "source": [
    "## 3.-Demo Mode Setup (ignore if not using demo data)\n",
    "\n",
    "If running in demonstration mode, set up the program information to\n",
    "retrieve the uncalibrated data automatically from MAST using\n",
    "[astroquery](https://astroquery.readthedocs.io/en/latest/mast/mast.html).\n",
    "MAST allows for flexibility of searching by the proposal ID and the\n",
    "observation ID instead of just filenames.<br>\n",
    "\n",
    "More information about the JWST file naming conventions can be found at:\n",
    "https://jwst-pipeline.readthedocs.io/en/latest/jwst/data_products/file_naming.html"
   ]
  },
  {
   "cell_type": "code",
   "execution_count": 8,
   "id": "e9db3700",
   "metadata": {
    "execution": {
     "iopub.execute_input": "2025-06-16T19:20:17.361204Z",
     "iopub.status.busy": "2025-06-16T19:20:17.360930Z",
     "iopub.status.idle": "2025-06-16T19:20:17.366937Z",
     "shell.execute_reply": "2025-06-16T19:20:17.366484Z"
    }
   },
   "outputs": [
    {
     "name": "stdout",
     "output_type": "stream",
     "text": [
      "Science data will be background subtracted\n"
     ]
    }
   ],
   "source": [
    "# Set up the program information and paths for demo program\n",
    "if demo_mode:\n",
    "    program = \"04496\"\n",
    "    sci_obs = \"004\"\n",
    "    bkg_obs = \"005\"  # bkg_obs = \"\" if no background observations \n",
    "    basedir = os.path.join('.', 'lrs_tso_demo_data')\n",
    "    sci_dir = os.path.join(basedir, 'PID' + program + 'Obs' + sci_obs)\n",
    "    uncal_dir = os.path.join(sci_dir, 'uncal')\n",
    "    if bkg_obs and bkg_data:\n",
    "        bkg_dir = os.path.join(basedir, 'PID' + program + 'Obs' + bkg_obs)\n",
    "        uncal_bkgdir = os.path.join(bkg_dir, 'uncal')\n",
    "        print('Science data will be background subtracted')\n",
    "    elif bkg_sub:\n",
    "        if not bkg_data or not bkg_obs:\n",
    "            raise ValueError('bkg_data is set to False or directory for background observations not set')\n",
    "    else:\n",
    "        bkg_dir = ''\n",
    "        print('No background observations will be used')\n",
    "\n",
    "    # Ensure filepaths for input data exists\n",
    "    os.makedirs(uncal_dir, exist_ok=True)\n",
    "    if bkg_data:\n",
    "        os.makedirs(uncal_bkgdir, exist_ok=True)"
   ]
  },
  {
   "cell_type": "markdown",
   "id": "e158aaa4",
   "metadata": {},
   "source": [
    "Identify the list of uncalibrated files associated with the science and background observations."
   ]
  },
  {
   "cell_type": "code",
   "execution_count": 9,
   "id": "a4ff90fb",
   "metadata": {
    "execution": {
     "iopub.execute_input": "2025-06-16T19:20:17.368569Z",
     "iopub.status.busy": "2025-06-16T19:20:17.368404Z",
     "iopub.status.idle": "2025-06-16T19:20:17.889332Z",
     "shell.execute_reply": "2025-06-16T19:20:17.888794Z"
    }
   },
   "outputs": [],
   "source": [
    "# Obtain a list of observation IDs for the specified demo program\n",
    "if demo_mode:\n",
    "    sci_obs_id_table = Observations.query_criteria(instrument_name=[\"MIRI/SLITLESS\"],\n",
    "                                                   provenance_name=[\"CALJWST\"],  # Executed observations\n",
    "                                                   obs_id=['jw' + program + '-o' + sci_obs + '*']\n",
    "                                                   )\n",
    "\n",
    "    if bkg_data:\n",
    "        bkg_obs_id_table = Observations.query_criteria(instrument_name=[\"MIRI/SLITLESS\"],\n",
    "                                                       provenance_name=[\"CALJWST\"],  # Executed observations\n",
    "                                                       obs_id=['jw' + program + bkg_obs + '*']\n",
    "                                                       )"
   ]
  },
  {
   "cell_type": "code",
   "execution_count": 10,
   "id": "8ae87ef2",
   "metadata": {
    "execution": {
     "iopub.execute_input": "2025-06-16T19:20:17.891139Z",
     "iopub.status.busy": "2025-06-16T19:20:17.890975Z",
     "iopub.status.idle": "2025-06-16T19:20:21.666503Z",
     "shell.execute_reply": "2025-06-16T19:20:21.665960Z"
    }
   },
   "outputs": [
    {
     "name": "stdout",
     "output_type": "stream",
     "text": [
      "Number of science files selected for downloading:  3\n",
      "Number of background files selected for downloading:  1\n"
     ]
    }
   ],
   "source": [
    "# Turn the list of observations into a list of uncalibrated data files\n",
    "if demo_mode:\n",
    "    # Define types of files to select\n",
    "    file_dict = {'uncal': {'product_type': 'SCIENCE', \n",
    "                           'productSubGroupDescription': 'UNCAL', \n",
    "                           'calib_level': [1]}}\n",
    "\n",
    "    # Science files\n",
    "    sci_files_to_download = []\n",
    "    # Loop over visits identifying uncalibrated files that are associated with them\n",
    "    for exposure in (sci_obs_id_table):\n",
    "        products = Observations.get_product_list(exposure)\n",
    "        for filetype, query_dict in file_dict.items():\n",
    "            filtered_products = Observations.filter_products(products, productType=query_dict['product_type'],\n",
    "                                                             productSubGroupDescription=query_dict['productSubGroupDescription'],\n",
    "                                                             calib_level=query_dict['calib_level'])\n",
    "            sci_files_to_download.extend(filtered_products['dataURI'])\n",
    "\n",
    "    # Background files\n",
    "    if bkg_data:\n",
    "        bkg_files_to_download = []\n",
    "        # Loop over visits identifying uncalibrated files that are associated with them\n",
    "        for exposure in (bkg_obs_id_table):\n",
    "            products = Observations.get_product_list(exposure)\n",
    "            for filetype, query_dict in file_dict.items():\n",
    "                filtered_products = Observations.filter_products(products, productType=query_dict['product_type'],\n",
    "                                                                 productSubGroupDescription=query_dict['productSubGroupDescription'],\n",
    "                                                                 calib_level=query_dict['calib_level'])\n",
    "                bkg_files_to_download.extend(filtered_products['dataURI'])\n",
    "\n",
    "    print(\"Number of science files selected for downloading: \", len(sci_files_to_download))\n",
    "    if bkg_data:\n",
    "        print(\"Number of background files selected for downloading: \", len(bkg_files_to_download))"
   ]
  },
  {
   "cell_type": "markdown",
   "id": "f556ba8d",
   "metadata": {},
   "source": [
    "Download all the uncal files and place them into the appropriate directories.\n",
    "\n",
    "<div class=\"alert alert-block alert-warning\">\n",
    "Warning: If this notebook is halted during this step, the downloaded files may be incomplete and cause crashes later on!\n",
    "</div>"
   ]
  },
  {
   "cell_type": "code",
   "execution_count": 11,
   "id": "dc769f1b",
   "metadata": {
    "execution": {
     "iopub.execute_input": "2025-06-16T19:20:21.668496Z",
     "iopub.status.busy": "2025-06-16T19:20:21.668132Z",
     "iopub.status.idle": "2025-06-16T19:20:25.424617Z",
     "shell.execute_reply": "2025-06-16T19:20:25.424137Z"
    },
    "tags": [
     "scroll-output"
    ]
   },
   "outputs": [
    {
     "name": "stdout",
     "output_type": "stream",
     "text": [
      "Downloading URL https://mast.stsci.edu/api/v0.1/Download/file?uri=mast:JWST/product/jw04496004001_03102_00001-seg001_mirimage_uncal.fits to ./lrs_tso_demo_data/PID04496Obs004/uncal/jw04496004001_03102_00001-seg001_mirimage_uncal.fits ..."
     ]
    },
    {
     "name": "stdout",
     "output_type": "stream",
     "text": [
      " [Done]\n"
     ]
    },
    {
     "name": "stdout",
     "output_type": "stream",
     "text": [
      "Downloading URL https://mast.stsci.edu/api/v0.1/Download/file?uri=mast:JWST/product/jw04496004001_03103_00001-seg001_mirimage_uncal.fits to ./lrs_tso_demo_data/PID04496Obs004/uncal/jw04496004001_03103_00001-seg001_mirimage_uncal.fits ..."
     ]
    },
    {
     "name": "stdout",
     "output_type": "stream",
     "text": [
      " [Done]\n"
     ]
    },
    {
     "name": "stdout",
     "output_type": "stream",
     "text": [
      "Downloading URL https://mast.stsci.edu/api/v0.1/Download/file?uri=mast:JWST/product/jw04496004001_02101_00001-seg001_mirimage_uncal.fits to ./lrs_tso_demo_data/PID04496Obs004/uncal/jw04496004001_02101_00001-seg001_mirimage_uncal.fits ..."
     ]
    },
    {
     "name": "stdout",
     "output_type": "stream",
     "text": [
      " [Done]\n"
     ]
    },
    {
     "name": "stdout",
     "output_type": "stream",
     "text": [
      "Downloading URL https://mast.stsci.edu/api/v0.1/Download/file?uri=mast:JWST/product/jw04496005001_03102_00001-seg001_mirimage_uncal.fits to ./lrs_tso_demo_data/PID04496Obs005/uncal/jw04496005001_03102_00001-seg001_mirimage_uncal.fits ..."
     ]
    },
    {
     "name": "stdout",
     "output_type": "stream",
     "text": [
      " [Done]\n"
     ]
    }
   ],
   "source": [
    "if demo_mode:\n",
    "    for filename in sci_files_to_download:\n",
    "        obs_manifest = Observations.download_file(filename, local_path=os.path.join(uncal_dir, Path(filename).name))\n",
    "\n",
    "    if bkg_data:\n",
    "        for filename in bkg_files_to_download:\n",
    "            obs_manifest = Observations.download_file(filename, local_path=os.path.join(uncal_bkgdir, Path(filename).name))"
   ]
  },
  {
   "cell_type": "markdown",
   "id": "4716f347",
   "metadata": {},
   "source": [
    "<hr style=\"border:1px solid gray\"> </hr>"
   ]
  },
  {
   "cell_type": "markdown",
   "id": "bc43839c",
   "metadata": {},
   "source": [
    "## 4.-Directory Setup\n",
    "\n",
    "Set up detailed paths to input/output stages here. When running this notebook outside of demo mode, the uncalibrated pipeline input files must be placed into the appropriate directories before proceeding to the JWST pipeline processing."
   ]
  },
  {
   "cell_type": "code",
   "execution_count": 12,
   "id": "e04641a7",
   "metadata": {
    "execution": {
     "iopub.execute_input": "2025-06-16T19:20:25.426469Z",
     "iopub.status.busy": "2025-06-16T19:20:25.426279Z",
     "iopub.status.idle": "2025-06-16T19:20:25.431014Z",
     "shell.execute_reply": "2025-06-16T19:20:25.430548Z"
    }
   },
   "outputs": [],
   "source": [
    "# Define output subdirectories to keep science data products organized\n",
    "uncal_dir = os.path.join(sci_dir, 'uncal')     # Uncalibrated pipeline inputs should be here\n",
    "det1_dir = os.path.join(sci_dir, 'stage1')     # calwebb_detector1 pipeline outputs will go here\n",
    "spec2_dir = os.path.join(sci_dir, 'stage2')    # calwebb_spec2 pipeline outputs will go here\n",
    "tso3_dir = os.path.join(sci_dir, 'stage3')     # calwebb_tso3 pipeline outputs will go here\n",
    "\n",
    "# Output subdirectories to keep background data products organized\n",
    "if bkg_data:\n",
    "    uncal_bkgdir = os.path.join(bkg_dir, 'uncal')  # Uncalibrated pipeline inputs should be here\n",
    "    det1_bkgdir = os.path.join(bkg_dir, 'stage1')  # calwebb_detector1 pipeline outputs will go here\n",
    "\n",
    "    # Create desired output directories, if needed\n",
    "    os.makedirs(det1_bkgdir, exist_ok=True)\n",
    "\n",
    "# Create desired output directories, if needed\n",
    "os.makedirs(det1_dir, exist_ok=True)\n",
    "os.makedirs(spec2_dir, exist_ok=True)\n",
    "os.makedirs(tso3_dir, exist_ok=True)"
   ]
  },
  {
   "cell_type": "markdown",
   "id": "2048f37d",
   "metadata": {},
   "source": [
    "<hr style=\"border:1px solid gray\"> </hr>"
   ]
  },
  {
   "cell_type": "markdown",
   "id": "5eebd9f8",
   "metadata": {},
   "source": [
    "## 5.-Detector1 Pipeline\n",
    "\n",
    "In this section, the uncalibrated data are processed through the Detector1\n",
    "pipeline to create Stage 1 data products, which include 2D countrate\n",
    "images that have been averaged over all integrations (`*_rate.fits` files) and 3D cubes containing fitted ramp slopes for each integration (`*_rateints.fits` files).  For TSOs, the integrations must be calibrated separately in the subsequent stages, so the `*_rateints.fits` files are the relevant outputs. The Stage 1 data products have units of DN/s.<br>\n",
    "    \n",
    "Unlike in the case of MIRI LRS slit mode observations, the `firstframe` and `rscd` steps are skipped by default of TSOs.<br>\n",
    "\n",
    "See https://jwst-docs.stsci.edu/jwst-science-calibration-pipeline/stages-of-jwst-data-processing/calwebb_detector1 for a detailed overview of the various pipeline steps that comprise Detector1."
   ]
  },
  {
   "cell_type": "markdown",
   "id": "520c5cfa",
   "metadata": {},
   "source": [
    "<div class=\"alert alert-block alert-warning\">\n",
    "To override certain steps and reference files, use the examples provided below.<br>\n",
    "E.g., turn on detection of cosmic ray showers.\n",
    "</div>\n",
    "\n",
    "Set up a dictionary to define how the Detector1 pipeline should be configured."
   ]
  },
  {
   "cell_type": "code",
   "execution_count": 13,
   "id": "6c0fc278",
   "metadata": {
    "execution": {
     "iopub.execute_input": "2025-06-16T19:20:25.432792Z",
     "iopub.status.busy": "2025-06-16T19:20:25.432594Z",
     "iopub.status.idle": "2025-06-16T19:20:25.435162Z",
     "shell.execute_reply": "2025-06-16T19:20:25.434704Z"
    }
   },
   "outputs": [],
   "source": [
    "time_det1 = time.perf_counter()"
   ]
  },
  {
   "cell_type": "code",
   "execution_count": 14,
   "id": "ebcb2862",
   "metadata": {
    "execution": {
     "iopub.execute_input": "2025-06-16T19:20:25.436783Z",
     "iopub.status.busy": "2025-06-16T19:20:25.436589Z",
     "iopub.status.idle": "2025-06-16T19:20:25.440941Z",
     "shell.execute_reply": "2025-06-16T19:20:25.440479Z"
    }
   },
   "outputs": [],
   "source": [
    "# Boilerplate dictionary setup\n",
    "det1dict = {}\n",
    "det1dict['group_scale'], det1dict['dq_init'], det1dict['emicorr'], det1dict['saturation'], det1dict['ipc'] = {}, {}, {}, {}, {}\n",
    "det1dict['firstframe'], det1dict['lastframe'], det1dict['reset'], det1dict['linearity'], det1dict['rscd'] = {}, {}, {}, {}, {}\n",
    "det1dict['dark_current'], det1dict['refpix'], det1dict['charge_migration'], det1dict['jump'], det1dict['ramp_fit'] = {}, {}, {}, {}, {}\n",
    "det1dict['gain_scale'] = {}\n",
    "\n",
    "# Overrides for whether or not certain steps should be skipped (example)\n",
    "#det1dict['emicorr']['skip'] = True\n",
    "\n",
    "# Overrides for various reference files.\n",
    "# If the files are not in the base local directory, provide full path.\n",
    "#det1dict['dq_init']['override_mask'] = 'myfile.fits' # Bad pixel mask\n",
    "#det1dict['saturation']['override_saturation'] = 'myfile.fits' # Saturation\n",
    "#det1dict['reset']['override_reset'] = 'myfile.fits' # Reset\n",
    "#det1dict['linearity']['override_linearity'] = 'myfile.fits' # Linearity\n",
    "#det1dict['rscd']['override_rscd'] = 'myfile.fits' # RSCD\n",
    "#det1dict['dark_current']['override_dark'] = 'myfile.fits' # Dark current subtraction\n",
    "#det1dict['jump']['override_gain'] = 'myfile.fits' # Gain used by jump step\n",
    "#det1dict['ramp_fit']['override_gain'] = 'myfile.fits' # Gain used by ramp fitting step\n",
    "#det1dict['jump']['override_readnoise'] = 'myfile.fits' # Read noise used by jump step\n",
    "#det1dict['ramp_fit']['override_readnoise'] = 'myfile.fits' # Read noise used by ramp fitting step\n",
    "\n",
    "# Turn on multi-core processing for jump step (off by default).  Choose what fraction of cores to use (quarter, half, or all)\n",
    "#det1dict['jump']['maximum_cores'] = 'half'\n",
    "\n",
    "# Turn on detection of cosmic ray showers if desired (off by default)\n",
    "det1dict['jump']['find_showers'] = True\n",
    "\n",
    "# Adjust the flagging threshold for cosmic rays (default is 3.0)\n",
    "det1dict['jump']['rejection_threshold'] = 5.0"
   ]
  },
  {
   "cell_type": "markdown",
   "id": "254b1274",
   "metadata": {},
   "source": [
    "### Processing Science Files\n",
    "\n",
    "Select for only the science data from the target observation, excluding target acquisition and/or pointing verification exposures. For the demo example, there should be only one file, corresponding to a contiguous segment of time-resolved integrations, but for longer TSOs, the full series of exposures may be split into several segments due to file size constraints."
   ]
  },
  {
   "cell_type": "code",
   "execution_count": 15,
   "id": "900e8bdf",
   "metadata": {
    "execution": {
     "iopub.execute_input": "2025-06-16T19:20:25.442504Z",
     "iopub.status.busy": "2025-06-16T19:20:25.442335Z",
     "iopub.status.idle": "2025-06-16T19:20:25.450186Z",
     "shell.execute_reply": "2025-06-16T19:20:25.449706Z"
    }
   },
   "outputs": [
    {
     "name": "stdout",
     "output_type": "stream",
     "text": [
      "Found 1 science uncal files\n"
     ]
    }
   ],
   "source": [
    "# Grab all downloaded uncal files\n",
    "uncal_files = sorted(glob.glob(os.path.join(uncal_dir, '*_uncal.fits')))\n",
    "\n",
    "# Only choose science exposures, which have the exposure type setting 'MIR_LRS-FIXEDSLIT'\n",
    "input_files = np.array([fi for fi in uncal_files if fits.getheader(fi, 'PRIMARY')['EXP_TYPE'] == 'MIR_LRS-SLITLESS'])\n",
    "\n",
    "print('Found ' + str(len(input_files)) + ' science uncal files')"
   ]
  },
  {
   "cell_type": "markdown",
   "id": "1669b4b1",
   "metadata": {},
   "source": [
    "Run the Detector1 pipeline on the selected uncalibrated data using the call method. This process may take several minutes per file."
   ]
  },
  {
   "cell_type": "code",
   "execution_count": 16,
   "id": "abcc1cbb",
   "metadata": {
    "execution": {
     "iopub.execute_input": "2025-06-16T19:20:25.451747Z",
     "iopub.status.busy": "2025-06-16T19:20:25.451567Z",
     "iopub.status.idle": "2025-06-16T19:21:50.069838Z",
     "shell.execute_reply": "2025-06-16T19:21:50.069228Z"
    }
   },
   "outputs": [
    {
     "name": "stderr",
     "output_type": "stream",
     "text": [
      "2025-06-16 19:20:26,608 - CRDS - INFO -  Fetching  /home/runner/crds/mappings/jwst/jwst_system_datalvl_0002.rmap      694 bytes  (1 / 204 files) (0 / 741.0 K bytes)\n"
     ]
    },
    {
     "name": "stderr",
     "output_type": "stream",
     "text": [
      "2025-06-16 19:20:26,700 - CRDS - INFO -  Fetching  /home/runner/crds/mappings/jwst/jwst_system_calver_0048.rmap    5.3 K bytes  (2 / 204 files) (694 / 741.0 K bytes)\n"
     ]
    },
    {
     "name": "stderr",
     "output_type": "stream",
     "text": [
      "2025-06-16 19:20:26,875 - CRDS - INFO -  Fetching  /home/runner/crds/mappings/jwst/jwst_system_0047.imap        385 bytes  (3 / 204 files) (6.0 K / 741.0 K bytes)\n"
     ]
    },
    {
     "name": "stderr",
     "output_type": "stream",
     "text": [
      "2025-06-16 19:20:27,026 - CRDS - INFO -  Fetching  /home/runner/crds/mappings/jwst/jwst_nirspec_wavelengthrange_0024.rmap    1.4 K bytes  (4 / 204 files) (6.4 K / 741.0 K bytes)\n"
     ]
    },
    {
     "name": "stderr",
     "output_type": "stream",
     "text": [
      "2025-06-16 19:20:27,099 - CRDS - INFO -  Fetching  /home/runner/crds/mappings/jwst/jwst_nirspec_wavecorr_0005.rmap      884 bytes  (5 / 204 files) (7.8 K / 741.0 K bytes)\n"
     ]
    },
    {
     "name": "stderr",
     "output_type": "stream",
     "text": [
      "2025-06-16 19:20:27,232 - CRDS - INFO -  Fetching  /home/runner/crds/mappings/jwst/jwst_nirspec_superbias_0079.rmap   36.0 K bytes  (6 / 204 files) (8.6 K / 741.0 K bytes)\n"
     ]
    },
    {
     "name": "stderr",
     "output_type": "stream",
     "text": [
      "2025-06-16 19:20:27,404 - CRDS - INFO -  Fetching  /home/runner/crds/mappings/jwst/jwst_nirspec_sirskernel_0001.rmap      630 bytes  (7 / 204 files) (44.6 K / 741.0 K bytes)\n"
     ]
    },
    {
     "name": "stderr",
     "output_type": "stream",
     "text": [
      "2025-06-16 19:20:27,484 - CRDS - INFO -  Fetching  /home/runner/crds/mappings/jwst/jwst_nirspec_sflat_0026.rmap   20.6 K bytes  (8 / 204 files) (45.3 K / 741.0 K bytes)\n"
     ]
    },
    {
     "name": "stderr",
     "output_type": "stream",
     "text": [
      "2025-06-16 19:20:27,622 - CRDS - INFO -  Fetching  /home/runner/crds/mappings/jwst/jwst_nirspec_saturation_0018.rmap    2.0 K bytes  (9 / 204 files) (65.9 K / 741.0 K bytes)\n"
     ]
    },
    {
     "name": "stderr",
     "output_type": "stream",
     "text": [
      "2025-06-16 19:20:27,696 - CRDS - INFO -  Fetching  /home/runner/crds/mappings/jwst/jwst_nirspec_refpix_0015.rmap    1.6 K bytes  (10 / 204 files) (67.9 K / 741.0 K bytes)\n"
     ]
    },
    {
     "name": "stderr",
     "output_type": "stream",
     "text": [
      "2025-06-16 19:20:27,811 - CRDS - INFO -  Fetching  /home/runner/crds/mappings/jwst/jwst_nirspec_readnoise_0025.rmap    2.6 K bytes  (11 / 204 files) (69.5 K / 741.0 K bytes)\n"
     ]
    },
    {
     "name": "stderr",
     "output_type": "stream",
     "text": [
      "2025-06-16 19:20:27,903 - CRDS - INFO -  Fetching  /home/runner/crds/mappings/jwst/jwst_nirspec_pictureframe_0001.rmap      675 bytes  (12 / 204 files) (72.0 K / 741.0 K bytes)\n"
     ]
    },
    {
     "name": "stderr",
     "output_type": "stream",
     "text": [
      "2025-06-16 19:20:28,030 - CRDS - INFO -  Fetching  /home/runner/crds/mappings/jwst/jwst_nirspec_photom_0013.rmap      958 bytes  (13 / 204 files) (72.7 K / 741.0 K bytes)\n"
     ]
    },
    {
     "name": "stderr",
     "output_type": "stream",
     "text": [
      "2025-06-16 19:20:28,223 - CRDS - INFO -  Fetching  /home/runner/crds/mappings/jwst/jwst_nirspec_pathloss_0008.rmap    1.2 K bytes  (14 / 204 files) (73.7 K / 741.0 K bytes)\n"
     ]
    },
    {
     "name": "stderr",
     "output_type": "stream",
     "text": [
      "2025-06-16 19:20:28,297 - CRDS - INFO -  Fetching  /home/runner/crds/mappings/jwst/jwst_nirspec_pars-whitelightstep_0001.rmap      777 bytes  (15 / 204 files) (74.9 K / 741.0 K bytes)\n"
     ]
    },
    {
     "name": "stderr",
     "output_type": "stream",
     "text": [
      "2025-06-16 19:20:28,378 - CRDS - INFO -  Fetching  /home/runner/crds/mappings/jwst/jwst_nirspec_pars-spec2pipeline_0013.rmap    2.1 K bytes  (16 / 204 files) (75.6 K / 741.0 K bytes)\n"
     ]
    },
    {
     "name": "stderr",
     "output_type": "stream",
     "text": [
      "2025-06-16 19:20:28,459 - CRDS - INFO -  Fetching  /home/runner/crds/mappings/jwst/jwst_nirspec_pars-resamplespecstep_0002.rmap      709 bytes  (17 / 204 files) (77.8 K / 741.0 K bytes)\n"
     ]
    },
    {
     "name": "stderr",
     "output_type": "stream",
     "text": [
      "2025-06-16 19:20:28,540 - CRDS - INFO -  Fetching  /home/runner/crds/mappings/jwst/jwst_nirspec_pars-outlierdetectionstep_0005.rmap    1.1 K bytes  (18 / 204 files) (78.5 K / 741.0 K bytes)\n"
     ]
    },
    {
     "name": "stderr",
     "output_type": "stream",
     "text": [
      "2025-06-16 19:20:28,625 - CRDS - INFO -  Fetching  /home/runner/crds/mappings/jwst/jwst_nirspec_pars-jumpstep_0005.rmap      810 bytes  (19 / 204 files) (79.6 K / 741.0 K bytes)\n"
     ]
    },
    {
     "name": "stderr",
     "output_type": "stream",
     "text": [
      "2025-06-16 19:20:28,730 - CRDS - INFO -  Fetching  /home/runner/crds/mappings/jwst/jwst_nirspec_pars-image2pipeline_0008.rmap    1.0 K bytes  (20 / 204 files) (80.4 K / 741.0 K bytes)\n"
     ]
    },
    {
     "name": "stderr",
     "output_type": "stream",
     "text": [
      "2025-06-16 19:20:28,807 - CRDS - INFO -  Fetching  /home/runner/crds/mappings/jwst/jwst_nirspec_pars-detector1pipeline_0003.rmap    1.1 K bytes  (21 / 204 files) (81.4 K / 741.0 K bytes)\n"
     ]
    },
    {
     "name": "stderr",
     "output_type": "stream",
     "text": [
      "2025-06-16 19:20:28,888 - CRDS - INFO -  Fetching  /home/runner/crds/mappings/jwst/jwst_nirspec_pars-darkpipeline_0003.rmap      872 bytes  (22 / 204 files) (82.5 K / 741.0 K bytes)\n"
     ]
    },
    {
     "name": "stderr",
     "output_type": "stream",
     "text": [
      "2025-06-16 19:20:29,061 - CRDS - INFO -  Fetching  /home/runner/crds/mappings/jwst/jwst_nirspec_pars-darkcurrentstep_0003.rmap    1.8 K bytes  (23 / 204 files) (83.4 K / 741.0 K bytes)\n"
     ]
    },
    {
     "name": "stderr",
     "output_type": "stream",
     "text": [
      "2025-06-16 19:20:29,139 - CRDS - INFO -  Fetching  /home/runner/crds/mappings/jwst/jwst_nirspec_ote_0030.rmap    1.3 K bytes  (24 / 204 files) (85.2 K / 741.0 K bytes)\n"
     ]
    },
    {
     "name": "stderr",
     "output_type": "stream",
     "text": [
      "2025-06-16 19:20:29,226 - CRDS - INFO -  Fetching  /home/runner/crds/mappings/jwst/jwst_nirspec_msaoper_0016.rmap    1.5 K bytes  (25 / 204 files) (86.4 K / 741.0 K bytes)\n"
     ]
    },
    {
     "name": "stderr",
     "output_type": "stream",
     "text": [
      "2025-06-16 19:20:29,303 - CRDS - INFO -  Fetching  /home/runner/crds/mappings/jwst/jwst_nirspec_msa_0027.rmap    1.3 K bytes  (26 / 204 files) (87.9 K / 741.0 K bytes)\n"
     ]
    },
    {
     "name": "stderr",
     "output_type": "stream",
     "text": [
      "2025-06-16 19:20:29,409 - CRDS - INFO -  Fetching  /home/runner/crds/mappings/jwst/jwst_nirspec_mask_0043.rmap    3.5 K bytes  (27 / 204 files) (89.2 K / 741.0 K bytes)\n"
     ]
    },
    {
     "name": "stderr",
     "output_type": "stream",
     "text": [
      "2025-06-16 19:20:29,486 - CRDS - INFO -  Fetching  /home/runner/crds/mappings/jwst/jwst_nirspec_linearity_0017.rmap    1.6 K bytes  (28 / 204 files) (92.7 K / 741.0 K bytes)\n"
     ]
    },
    {
     "name": "stderr",
     "output_type": "stream",
     "text": [
      "2025-06-16 19:20:29,611 - CRDS - INFO -  Fetching  /home/runner/crds/mappings/jwst/jwst_nirspec_ipc_0006.rmap      876 bytes  (29 / 204 files) (94.3 K / 741.0 K bytes)\n"
     ]
    },
    {
     "name": "stderr",
     "output_type": "stream",
     "text": [
      "2025-06-16 19:20:29,691 - CRDS - INFO -  Fetching  /home/runner/crds/mappings/jwst/jwst_nirspec_ifuslicer_0017.rmap    1.5 K bytes  (30 / 204 files) (95.2 K / 741.0 K bytes)\n"
     ]
    },
    {
     "name": "stderr",
     "output_type": "stream",
     "text": [
      "2025-06-16 19:20:29,768 - CRDS - INFO -  Fetching  /home/runner/crds/mappings/jwst/jwst_nirspec_ifupost_0019.rmap    1.5 K bytes  (31 / 204 files) (96.7 K / 741.0 K bytes)\n"
     ]
    },
    {
     "name": "stderr",
     "output_type": "stream",
     "text": [
      "2025-06-16 19:20:29,848 - CRDS - INFO -  Fetching  /home/runner/crds/mappings/jwst/jwst_nirspec_ifufore_0017.rmap    1.5 K bytes  (32 / 204 files) (98.2 K / 741.0 K bytes)\n"
     ]
    },
    {
     "name": "stderr",
     "output_type": "stream",
     "text": [
      "2025-06-16 19:20:29,929 - CRDS - INFO -  Fetching  /home/runner/crds/mappings/jwst/jwst_nirspec_gain_0023.rmap    1.8 K bytes  (33 / 204 files) (99.7 K / 741.0 K bytes)\n"
     ]
    },
    {
     "name": "stderr",
     "output_type": "stream",
     "text": [
      "2025-06-16 19:20:30,009 - CRDS - INFO -  Fetching  /home/runner/crds/mappings/jwst/jwst_nirspec_fpa_0028.rmap    1.3 K bytes  (34 / 204 files) (101.5 K / 741.0 K bytes)\n"
     ]
    },
    {
     "name": "stderr",
     "output_type": "stream",
     "text": [
      "2025-06-16 19:20:30,137 - CRDS - INFO -  Fetching  /home/runner/crds/mappings/jwst/jwst_nirspec_fore_0026.rmap    5.0 K bytes  (35 / 204 files) (102.7 K / 741.0 K bytes)\n"
     ]
    },
    {
     "name": "stderr",
     "output_type": "stream",
     "text": [
      "2025-06-16 19:20:30,213 - CRDS - INFO -  Fetching  /home/runner/crds/mappings/jwst/jwst_nirspec_flat_0015.rmap    3.8 K bytes  (36 / 204 files) (107.7 K / 741.0 K bytes)\n"
     ]
    },
    {
     "name": "stderr",
     "output_type": "stream",
     "text": [
      "2025-06-16 19:20:30,290 - CRDS - INFO -  Fetching  /home/runner/crds/mappings/jwst/jwst_nirspec_fflat_0026.rmap    7.2 K bytes  (37 / 204 files) (111.5 K / 741.0 K bytes)\n"
     ]
    },
    {
     "name": "stderr",
     "output_type": "stream",
     "text": [
      "2025-06-16 19:20:30,406 - CRDS - INFO -  Fetching  /home/runner/crds/mappings/jwst/jwst_nirspec_extract1d_0018.rmap    2.3 K bytes  (38 / 204 files) (118.7 K / 741.0 K bytes)\n"
     ]
    },
    {
     "name": "stderr",
     "output_type": "stream",
     "text": [
      "2025-06-16 19:20:30,481 - CRDS - INFO -  Fetching  /home/runner/crds/mappings/jwst/jwst_nirspec_disperser_0028.rmap    5.7 K bytes  (39 / 204 files) (121.0 K / 741.0 K bytes)\n"
     ]
    },
    {
     "name": "stderr",
     "output_type": "stream",
     "text": [
      "2025-06-16 19:20:30,560 - CRDS - INFO -  Fetching  /home/runner/crds/mappings/jwst/jwst_nirspec_dflat_0007.rmap    1.1 K bytes  (40 / 204 files) (126.7 K / 741.0 K bytes)\n"
     ]
    },
    {
     "name": "stderr",
     "output_type": "stream",
     "text": [
      "2025-06-16 19:20:30,640 - CRDS - INFO -  Fetching  /home/runner/crds/mappings/jwst/jwst_nirspec_dark_0074.rmap   34.2 K bytes  (41 / 204 files) (127.9 K / 741.0 K bytes)\n"
     ]
    },
    {
     "name": "stderr",
     "output_type": "stream",
     "text": [
      "2025-06-16 19:20:30,744 - CRDS - INFO -  Fetching  /home/runner/crds/mappings/jwst/jwst_nirspec_cubepar_0015.rmap      966 bytes  (42 / 204 files) (162.1 K / 741.0 K bytes)\n"
     ]
    },
    {
     "name": "stderr",
     "output_type": "stream",
     "text": [
      "2025-06-16 19:20:30,835 - CRDS - INFO -  Fetching  /home/runner/crds/mappings/jwst/jwst_nirspec_collimator_0026.rmap    1.3 K bytes  (43 / 204 files) (163.1 K / 741.0 K bytes)\n"
     ]
    },
    {
     "name": "stderr",
     "output_type": "stream",
     "text": [
      "2025-06-16 19:20:30,910 - CRDS - INFO -  Fetching  /home/runner/crds/mappings/jwst/jwst_nirspec_camera_0026.rmap    1.3 K bytes  (44 / 204 files) (164.4 K / 741.0 K bytes)\n"
     ]
    },
    {
     "name": "stderr",
     "output_type": "stream",
     "text": [
      "2025-06-16 19:20:30,996 - CRDS - INFO -  Fetching  /home/runner/crds/mappings/jwst/jwst_nirspec_barshadow_0007.rmap    1.8 K bytes  (45 / 204 files) (165.7 K / 741.0 K bytes)\n"
     ]
    },
    {
     "name": "stderr",
     "output_type": "stream",
     "text": [
      "2025-06-16 19:20:31,071 - CRDS - INFO -  Fetching  /home/runner/crds/mappings/jwst/jwst_nirspec_area_0018.rmap    6.3 K bytes  (46 / 204 files) (167.5 K / 741.0 K bytes)\n"
     ]
    },
    {
     "name": "stderr",
     "output_type": "stream",
     "text": [
      "2025-06-16 19:20:31,160 - CRDS - INFO -  Fetching  /home/runner/crds/mappings/jwst/jwst_nirspec_apcorr_0009.rmap    5.6 K bytes  (47 / 204 files) (173.8 K / 741.0 K bytes)\n"
     ]
    },
    {
     "name": "stderr",
     "output_type": "stream",
     "text": [
      "2025-06-16 19:20:31,240 - CRDS - INFO -  Fetching  /home/runner/crds/mappings/jwst/jwst_nirspec_0398.imap     5.8 K bytes  (48 / 204 files) (179.3 K / 741.0 K bytes)\n"
     ]
    },
    {
     "name": "stderr",
     "output_type": "stream",
     "text": [
      "2025-06-16 19:20:31,319 - CRDS - INFO -  Fetching  /home/runner/crds/mappings/jwst/jwst_niriss_wfssbkg_0010.rmap    3.1 K bytes  (49 / 204 files) (185.1 K / 741.0 K bytes)\n"
     ]
    },
    {
     "name": "stderr",
     "output_type": "stream",
     "text": [
      "2025-06-16 19:20:31,408 - CRDS - INFO -  Fetching  /home/runner/crds/mappings/jwst/jwst_niriss_wavelengthrange_0006.rmap      862 bytes  (50 / 204 files) (188.2 K / 741.0 K bytes)\n"
     ]
    },
    {
     "name": "stderr",
     "output_type": "stream",
     "text": [
      "2025-06-16 19:20:31,481 - CRDS - INFO -  Fetching  /home/runner/crds/mappings/jwst/jwst_niriss_trappars_0004.rmap      753 bytes  (51 / 204 files) (189.1 K / 741.0 K bytes)\n"
     ]
    },
    {
     "name": "stderr",
     "output_type": "stream",
     "text": [
      "2025-06-16 19:20:31,571 - CRDS - INFO -  Fetching  /home/runner/crds/mappings/jwst/jwst_niriss_trapdensity_0005.rmap      705 bytes  (52 / 204 files) (189.9 K / 741.0 K bytes)\n"
     ]
    },
    {
     "name": "stderr",
     "output_type": "stream",
     "text": [
      "2025-06-16 19:20:31,657 - CRDS - INFO -  Fetching  /home/runner/crds/mappings/jwst/jwst_niriss_throughput_0005.rmap    1.3 K bytes  (53 / 204 files) (190.6 K / 741.0 K bytes)\n"
     ]
    },
    {
     "name": "stderr",
     "output_type": "stream",
     "text": [
      "2025-06-16 19:20:31,731 - CRDS - INFO -  Fetching  /home/runner/crds/mappings/jwst/jwst_niriss_superbias_0030.rmap    7.4 K bytes  (54 / 204 files) (191.8 K / 741.0 K bytes)\n"
     ]
    },
    {
     "name": "stderr",
     "output_type": "stream",
     "text": [
      "2025-06-16 19:20:31,805 - CRDS - INFO -  Fetching  /home/runner/crds/mappings/jwst/jwst_niriss_specwcs_0014.rmap    3.1 K bytes  (55 / 204 files) (199.2 K / 741.0 K bytes)\n"
     ]
    },
    {
     "name": "stderr",
     "output_type": "stream",
     "text": [
      "2025-06-16 19:20:31,879 - CRDS - INFO -  Fetching  /home/runner/crds/mappings/jwst/jwst_niriss_specprofile_0008.rmap    2.4 K bytes  (56 / 204 files) (202.4 K / 741.0 K bytes)\n"
     ]
    },
    {
     "name": "stderr",
     "output_type": "stream",
     "text": [
      "2025-06-16 19:20:31,968 - CRDS - INFO -  Fetching  /home/runner/crds/mappings/jwst/jwst_niriss_speckernel_0006.rmap    1.0 K bytes  (57 / 204 files) (204.7 K / 741.0 K bytes)\n"
     ]
    },
    {
     "name": "stderr",
     "output_type": "stream",
     "text": [
      "2025-06-16 19:20:32,043 - CRDS - INFO -  Fetching  /home/runner/crds/mappings/jwst/jwst_niriss_sirskernel_0001.rmap      627 bytes  (58 / 204 files) (205.8 K / 741.0 K bytes)\n"
     ]
    },
    {
     "name": "stderr",
     "output_type": "stream",
     "text": [
      "2025-06-16 19:20:32,130 - CRDS - INFO -  Fetching  /home/runner/crds/mappings/jwst/jwst_niriss_saturation_0015.rmap      829 bytes  (59 / 204 files) (206.4 K / 741.0 K bytes)\n"
     ]
    },
    {
     "name": "stderr",
     "output_type": "stream",
     "text": [
      "2025-06-16 19:20:32,214 - CRDS - INFO -  Fetching  /home/runner/crds/mappings/jwst/jwst_niriss_readnoise_0011.rmap      987 bytes  (60 / 204 files) (207.2 K / 741.0 K bytes)\n"
     ]
    },
    {
     "name": "stderr",
     "output_type": "stream",
     "text": [
      "2025-06-16 19:20:32,288 - CRDS - INFO -  Fetching  /home/runner/crds/mappings/jwst/jwst_niriss_photom_0036.rmap    1.3 K bytes  (61 / 204 files) (208.2 K / 741.0 K bytes)\n"
     ]
    },
    {
     "name": "stderr",
     "output_type": "stream",
     "text": [
      "2025-06-16 19:20:32,366 - CRDS - INFO -  Fetching  /home/runner/crds/mappings/jwst/jwst_niriss_persat_0007.rmap      674 bytes  (62 / 204 files) (209.5 K / 741.0 K bytes)\n"
     ]
    },
    {
     "name": "stderr",
     "output_type": "stream",
     "text": [
      "2025-06-16 19:20:32,453 - CRDS - INFO -  Fetching  /home/runner/crds/mappings/jwst/jwst_niriss_pathloss_0003.rmap      758 bytes  (63 / 204 files) (210.1 K / 741.0 K bytes)\n"
     ]
    },
    {
     "name": "stderr",
     "output_type": "stream",
     "text": [
      "2025-06-16 19:20:32,543 - CRDS - INFO -  Fetching  /home/runner/crds/mappings/jwst/jwst_niriss_pastasoss_0004.rmap      818 bytes  (64 / 204 files) (210.9 K / 741.0 K bytes)\n"
     ]
    },
    {
     "name": "stderr",
     "output_type": "stream",
     "text": [
      "2025-06-16 19:20:32,621 - CRDS - INFO -  Fetching  /home/runner/crds/mappings/jwst/jwst_niriss_pars-undersamplecorrectionstep_0001.rmap      904 bytes  (65 / 204 files) (211.7 K / 741.0 K bytes)\n"
     ]
    },
    {
     "name": "stderr",
     "output_type": "stream",
     "text": [
      "2025-06-16 19:20:32,707 - CRDS - INFO -  Fetching  /home/runner/crds/mappings/jwst/jwst_niriss_pars-tweakregstep_0012.rmap    3.1 K bytes  (66 / 204 files) (212.6 K / 741.0 K bytes)\n"
     ]
    },
    {
     "name": "stderr",
     "output_type": "stream",
     "text": [
      "2025-06-16 19:20:32,795 - CRDS - INFO -  Fetching  /home/runner/crds/mappings/jwst/jwst_niriss_pars-spec2pipeline_0008.rmap      984 bytes  (67 / 204 files) (215.8 K / 741.0 K bytes)\n"
     ]
    },
    {
     "name": "stderr",
     "output_type": "stream",
     "text": [
      "2025-06-16 19:20:32,878 - CRDS - INFO -  Fetching  /home/runner/crds/mappings/jwst/jwst_niriss_pars-sourcecatalogstep_0002.rmap    2.3 K bytes  (68 / 204 files) (216.7 K / 741.0 K bytes)\n"
     ]
    },
    {
     "name": "stderr",
     "output_type": "stream",
     "text": [
      "2025-06-16 19:20:32,956 - CRDS - INFO -  Fetching  /home/runner/crds/mappings/jwst/jwst_niriss_pars-resamplestep_0002.rmap      687 bytes  (69 / 204 files) (219.1 K / 741.0 K bytes)\n"
     ]
    },
    {
     "name": "stderr",
     "output_type": "stream",
     "text": [
      "2025-06-16 19:20:33,045 - CRDS - INFO -  Fetching  /home/runner/crds/mappings/jwst/jwst_niriss_pars-outlierdetectionstep_0004.rmap    2.7 K bytes  (70 / 204 files) (219.7 K / 741.0 K bytes)\n"
     ]
    },
    {
     "name": "stderr",
     "output_type": "stream",
     "text": [
      "2025-06-16 19:20:33,131 - CRDS - INFO -  Fetching  /home/runner/crds/mappings/jwst/jwst_niriss_pars-jumpstep_0007.rmap    6.4 K bytes  (71 / 204 files) (222.4 K / 741.0 K bytes)\n"
     ]
    },
    {
     "name": "stderr",
     "output_type": "stream",
     "text": [
      "2025-06-16 19:20:33,221 - CRDS - INFO -  Fetching  /home/runner/crds/mappings/jwst/jwst_niriss_pars-image2pipeline_0005.rmap    1.0 K bytes  (72 / 204 files) (228.8 K / 741.0 K bytes)\n"
     ]
    },
    {
     "name": "stderr",
     "output_type": "stream",
     "text": [
      "2025-06-16 19:20:33,294 - CRDS - INFO -  Fetching  /home/runner/crds/mappings/jwst/jwst_niriss_pars-detector1pipeline_0002.rmap    1.0 K bytes  (73 / 204 files) (229.8 K / 741.0 K bytes)\n"
     ]
    },
    {
     "name": "stderr",
     "output_type": "stream",
     "text": [
      "2025-06-16 19:20:33,372 - CRDS - INFO -  Fetching  /home/runner/crds/mappings/jwst/jwst_niriss_pars-darkpipeline_0002.rmap      868 bytes  (74 / 204 files) (230.8 K / 741.0 K bytes)\n"
     ]
    },
    {
     "name": "stderr",
     "output_type": "stream",
     "text": [
      "2025-06-16 19:20:33,460 - CRDS - INFO -  Fetching  /home/runner/crds/mappings/jwst/jwst_niriss_pars-darkcurrentstep_0001.rmap      591 bytes  (75 / 204 files) (231.7 K / 741.0 K bytes)\n"
     ]
    },
    {
     "name": "stderr",
     "output_type": "stream",
     "text": [
      "2025-06-16 19:20:33,536 - CRDS - INFO -  Fetching  /home/runner/crds/mappings/jwst/jwst_niriss_pars-chargemigrationstep_0004.rmap    5.7 K bytes  (76 / 204 files) (232.3 K / 741.0 K bytes)\n"
     ]
    },
    {
     "name": "stderr",
     "output_type": "stream",
     "text": [
      "2025-06-16 19:20:33,613 - CRDS - INFO -  Fetching  /home/runner/crds/mappings/jwst/jwst_niriss_nrm_0005.rmap      663 bytes  (77 / 204 files) (237.9 K / 741.0 K bytes)\n"
     ]
    },
    {
     "name": "stderr",
     "output_type": "stream",
     "text": [
      "2025-06-16 19:20:33,692 - CRDS - INFO -  Fetching  /home/runner/crds/mappings/jwst/jwst_niriss_mask_0022.rmap    1.3 K bytes  (78 / 204 files) (238.6 K / 741.0 K bytes)\n"
     ]
    },
    {
     "name": "stderr",
     "output_type": "stream",
     "text": [
      "2025-06-16 19:20:33,770 - CRDS - INFO -  Fetching  /home/runner/crds/mappings/jwst/jwst_niriss_linearity_0022.rmap      961 bytes  (79 / 204 files) (239.9 K / 741.0 K bytes)\n"
     ]
    },
    {
     "name": "stderr",
     "output_type": "stream",
     "text": [
      "2025-06-16 19:20:33,849 - CRDS - INFO -  Fetching  /home/runner/crds/mappings/jwst/jwst_niriss_ipc_0007.rmap      651 bytes  (80 / 204 files) (240.9 K / 741.0 K bytes)\n"
     ]
    },
    {
     "name": "stderr",
     "output_type": "stream",
     "text": [
      "2025-06-16 19:20:33,929 - CRDS - INFO -  Fetching  /home/runner/crds/mappings/jwst/jwst_niriss_gain_0011.rmap      797 bytes  (81 / 204 files) (241.5 K / 741.0 K bytes)\n"
     ]
    },
    {
     "name": "stderr",
     "output_type": "stream",
     "text": [
      "2025-06-16 19:20:34,012 - CRDS - INFO -  Fetching  /home/runner/crds/mappings/jwst/jwst_niriss_flat_0023.rmap    5.9 K bytes  (82 / 204 files) (242.3 K / 741.0 K bytes)\n"
     ]
    },
    {
     "name": "stderr",
     "output_type": "stream",
     "text": [
      "2025-06-16 19:20:34,091 - CRDS - INFO -  Fetching  /home/runner/crds/mappings/jwst/jwst_niriss_filteroffset_0010.rmap      853 bytes  (83 / 204 files) (248.2 K / 741.0 K bytes)\n"
     ]
    },
    {
     "name": "stderr",
     "output_type": "stream",
     "text": [
      "2025-06-16 19:20:34,180 - CRDS - INFO -  Fetching  /home/runner/crds/mappings/jwst/jwst_niriss_extract1d_0007.rmap      905 bytes  (84 / 204 files) (249.0 K / 741.0 K bytes)\n"
     ]
    },
    {
     "name": "stderr",
     "output_type": "stream",
     "text": [
      "2025-06-16 19:20:34,262 - CRDS - INFO -  Fetching  /home/runner/crds/mappings/jwst/jwst_niriss_drizpars_0004.rmap      519 bytes  (85 / 204 files) (249.9 K / 741.0 K bytes)\n"
     ]
    },
    {
     "name": "stderr",
     "output_type": "stream",
     "text": [
      "2025-06-16 19:20:34,338 - CRDS - INFO -  Fetching  /home/runner/crds/mappings/jwst/jwst_niriss_distortion_0025.rmap    3.4 K bytes  (86 / 204 files) (250.4 K / 741.0 K bytes)\n"
     ]
    },
    {
     "name": "stderr",
     "output_type": "stream",
     "text": [
      "2025-06-16 19:20:34,412 - CRDS - INFO -  Fetching  /home/runner/crds/mappings/jwst/jwst_niriss_dark_0034.rmap    7.5 K bytes  (87 / 204 files) (253.9 K / 741.0 K bytes)\n"
     ]
    },
    {
     "name": "stderr",
     "output_type": "stream",
     "text": [
      "2025-06-16 19:20:34,488 - CRDS - INFO -  Fetching  /home/runner/crds/mappings/jwst/jwst_niriss_bkg_0002.rmap    2.9 K bytes  (88 / 204 files) (261.4 K / 741.0 K bytes)\n"
     ]
    },
    {
     "name": "stderr",
     "output_type": "stream",
     "text": [
      "2025-06-16 19:20:34,578 - CRDS - INFO -  Fetching  /home/runner/crds/mappings/jwst/jwst_niriss_area_0014.rmap    2.7 K bytes  (89 / 204 files) (264.3 K / 741.0 K bytes)\n"
     ]
    },
    {
     "name": "stderr",
     "output_type": "stream",
     "text": [
      "2025-06-16 19:20:34,672 - CRDS - INFO -  Fetching  /home/runner/crds/mappings/jwst/jwst_niriss_apcorr_0010.rmap    4.3 K bytes  (90 / 204 files) (267.0 K / 741.0 K bytes)\n"
     ]
    },
    {
     "name": "stderr",
     "output_type": "stream",
     "text": [
      "2025-06-16 19:20:34,746 - CRDS - INFO -  Fetching  /home/runner/crds/mappings/jwst/jwst_niriss_abvegaoffset_0004.rmap    1.4 K bytes  (91 / 204 files) (271.3 K / 741.0 K bytes)\n"
     ]
    },
    {
     "name": "stderr",
     "output_type": "stream",
     "text": [
      "2025-06-16 19:20:34,840 - CRDS - INFO -  Fetching  /home/runner/crds/mappings/jwst/jwst_niriss_0272.imap      5.8 K bytes  (92 / 204 files) (272.7 K / 741.0 K bytes)\n"
     ]
    },
    {
     "name": "stderr",
     "output_type": "stream",
     "text": [
      "2025-06-16 19:20:34,926 - CRDS - INFO -  Fetching  /home/runner/crds/mappings/jwst/jwst_nircam_wfssbkg_0004.rmap    7.2 K bytes  (93 / 204 files) (278.5 K / 741.0 K bytes)\n"
     ]
    },
    {
     "name": "stderr",
     "output_type": "stream",
     "text": [
      "2025-06-16 19:20:34,999 - CRDS - INFO -  Fetching  /home/runner/crds/mappings/jwst/jwst_nircam_wavelengthrange_0010.rmap      996 bytes  (94 / 204 files) (285.7 K / 741.0 K bytes)\n"
     ]
    },
    {
     "name": "stderr",
     "output_type": "stream",
     "text": [
      "2025-06-16 19:20:35,070 - CRDS - INFO -  Fetching  /home/runner/crds/mappings/jwst/jwst_nircam_tsophot_0003.rmap      896 bytes  (95 / 204 files) (286.7 K / 741.0 K bytes)\n"
     ]
    },
    {
     "name": "stderr",
     "output_type": "stream",
     "text": [
      "2025-06-16 19:20:35,163 - CRDS - INFO -  Fetching  /home/runner/crds/mappings/jwst/jwst_nircam_trappars_0003.rmap    1.6 K bytes  (96 / 204 files) (287.6 K / 741.0 K bytes)\n"
     ]
    },
    {
     "name": "stderr",
     "output_type": "stream",
     "text": [
      "2025-06-16 19:20:35,245 - CRDS - INFO -  Fetching  /home/runner/crds/mappings/jwst/jwst_nircam_trapdensity_0003.rmap    1.6 K bytes  (97 / 204 files) (289.2 K / 741.0 K bytes)\n"
     ]
    },
    {
     "name": "stderr",
     "output_type": "stream",
     "text": [
      "2025-06-16 19:20:35,319 - CRDS - INFO -  Fetching  /home/runner/crds/mappings/jwst/jwst_nircam_superbias_0019.rmap   18.9 K bytes  (98 / 204 files) (290.8 K / 741.0 K bytes)\n"
     ]
    },
    {
     "name": "stderr",
     "output_type": "stream",
     "text": [
      "2025-06-16 19:20:35,406 - CRDS - INFO -  Fetching  /home/runner/crds/mappings/jwst/jwst_nircam_specwcs_0022.rmap    7.1 K bytes  (99 / 204 files) (309.7 K / 741.0 K bytes)\n"
     ]
    },
    {
     "name": "stderr",
     "output_type": "stream",
     "text": [
      "2025-06-16 19:20:35,488 - CRDS - INFO -  Fetching  /home/runner/crds/mappings/jwst/jwst_nircam_sirskernel_0002.rmap      671 bytes  (100 / 204 files) (316.8 K / 741.0 K bytes)\n"
     ]
    },
    {
     "name": "stderr",
     "output_type": "stream",
     "text": [
      "2025-06-16 19:20:35,564 - CRDS - INFO -  Fetching  /home/runner/crds/mappings/jwst/jwst_nircam_saturation_0011.rmap    2.8 K bytes  (101 / 204 files) (317.5 K / 741.0 K bytes)\n"
     ]
    },
    {
     "name": "stderr",
     "output_type": "stream",
     "text": [
      "2025-06-16 19:20:35,652 - CRDS - INFO -  Fetching  /home/runner/crds/mappings/jwst/jwst_nircam_readnoise_0026.rmap   25.9 K bytes  (102 / 204 files) (320.3 K / 741.0 K bytes)\n"
     ]
    },
    {
     "name": "stderr",
     "output_type": "stream",
     "text": [
      "2025-06-16 19:20:35,741 - CRDS - INFO -  Fetching  /home/runner/crds/mappings/jwst/jwst_nircam_psfmask_0008.rmap   28.4 K bytes  (103 / 204 files) (346.2 K / 741.0 K bytes)\n"
     ]
    },
    {
     "name": "stderr",
     "output_type": "stream",
     "text": [
      "2025-06-16 19:20:35,833 - CRDS - INFO -  Fetching  /home/runner/crds/mappings/jwst/jwst_nircam_photom_0028.rmap    3.4 K bytes  (104 / 204 files) (374.6 K / 741.0 K bytes)\n"
     ]
    },
    {
     "name": "stderr",
     "output_type": "stream",
     "text": [
      "2025-06-16 19:20:35,908 - CRDS - INFO -  Fetching  /home/runner/crds/mappings/jwst/jwst_nircam_persat_0005.rmap    1.6 K bytes  (105 / 204 files) (377.9 K / 741.0 K bytes)\n"
     ]
    },
    {
     "name": "stderr",
     "output_type": "stream",
     "text": [
      "2025-06-16 19:20:35,981 - CRDS - INFO -  Fetching  /home/runner/crds/mappings/jwst/jwst_nircam_pars-whitelightstep_0004.rmap    2.0 K bytes  (106 / 204 files) (379.5 K / 741.0 K bytes)\n"
     ]
    },
    {
     "name": "stderr",
     "output_type": "stream",
     "text": [
      "2025-06-16 19:20:36,059 - CRDS - INFO -  Fetching  /home/runner/crds/mappings/jwst/jwst_nircam_pars-tweakregstep_0003.rmap    4.5 K bytes  (107 / 204 files) (381.5 K / 741.0 K bytes)\n"
     ]
    },
    {
     "name": "stderr",
     "output_type": "stream",
     "text": [
      "2025-06-16 19:20:36,183 - CRDS - INFO -  Fetching  /home/runner/crds/mappings/jwst/jwst_nircam_pars-spec2pipeline_0008.rmap      984 bytes  (108 / 204 files) (386.0 K / 741.0 K bytes)\n"
     ]
    },
    {
     "name": "stderr",
     "output_type": "stream",
     "text": [
      "2025-06-16 19:20:36,264 - CRDS - INFO -  Fetching  /home/runner/crds/mappings/jwst/jwst_nircam_pars-sourcecatalogstep_0002.rmap    4.6 K bytes  (109 / 204 files) (387.0 K / 741.0 K bytes)\n"
     ]
    },
    {
     "name": "stderr",
     "output_type": "stream",
     "text": [
      "2025-06-16 19:20:36,343 - CRDS - INFO -  Fetching  /home/runner/crds/mappings/jwst/jwst_nircam_pars-resamplestep_0002.rmap      687 bytes  (110 / 204 files) (391.6 K / 741.0 K bytes)\n"
     ]
    },
    {
     "name": "stderr",
     "output_type": "stream",
     "text": [
      "2025-06-16 19:20:36,431 - CRDS - INFO -  Fetching  /home/runner/crds/mappings/jwst/jwst_nircam_pars-outlierdetectionstep_0003.rmap      940 bytes  (111 / 204 files) (392.3 K / 741.0 K bytes)\n"
     ]
    },
    {
     "name": "stderr",
     "output_type": "stream",
     "text": [
      "2025-06-16 19:20:36,507 - CRDS - INFO -  Fetching  /home/runner/crds/mappings/jwst/jwst_nircam_pars-jumpstep_0005.rmap      806 bytes  (112 / 204 files) (393.2 K / 741.0 K bytes)\n"
     ]
    },
    {
     "name": "stderr",
     "output_type": "stream",
     "text": [
      "2025-06-16 19:20:36,580 - CRDS - INFO -  Fetching  /home/runner/crds/mappings/jwst/jwst_nircam_pars-image2pipeline_0004.rmap    1.1 K bytes  (113 / 204 files) (394.0 K / 741.0 K bytes)\n"
     ]
    },
    {
     "name": "stderr",
     "output_type": "stream",
     "text": [
      "2025-06-16 19:20:36,669 - CRDS - INFO -  Fetching  /home/runner/crds/mappings/jwst/jwst_nircam_pars-detector1pipeline_0005.rmap    1.3 K bytes  (114 / 204 files) (395.2 K / 741.0 K bytes)\n"
     ]
    },
    {
     "name": "stderr",
     "output_type": "stream",
     "text": [
      "2025-06-16 19:20:36,740 - CRDS - INFO -  Fetching  /home/runner/crds/mappings/jwst/jwst_nircam_pars-darkpipeline_0002.rmap      868 bytes  (115 / 204 files) (396.4 K / 741.0 K bytes)\n"
     ]
    },
    {
     "name": "stderr",
     "output_type": "stream",
     "text": [
      "2025-06-16 19:20:36,815 - CRDS - INFO -  Fetching  /home/runner/crds/mappings/jwst/jwst_nircam_pars-darkcurrentstep_0001.rmap      618 bytes  (116 / 204 files) (397.3 K / 741.0 K bytes)\n"
     ]
    },
    {
     "name": "stderr",
     "output_type": "stream",
     "text": [
      "2025-06-16 19:20:36,891 - CRDS - INFO -  Fetching  /home/runner/crds/mappings/jwst/jwst_nircam_mask_0012.rmap    4.1 K bytes  (117 / 204 files) (397.9 K / 741.0 K bytes)\n"
     ]
    },
    {
     "name": "stderr",
     "output_type": "stream",
     "text": [
      "2025-06-16 19:20:36,981 - CRDS - INFO -  Fetching  /home/runner/crds/mappings/jwst/jwst_nircam_linearity_0011.rmap    2.4 K bytes  (118 / 204 files) (402.1 K / 741.0 K bytes)\n"
     ]
    },
    {
     "name": "stderr",
     "output_type": "stream",
     "text": [
      "2025-06-16 19:20:37,068 - CRDS - INFO -  Fetching  /home/runner/crds/mappings/jwst/jwst_nircam_ipc_0003.rmap    2.0 K bytes  (119 / 204 files) (404.5 K / 741.0 K bytes)\n"
     ]
    },
    {
     "name": "stderr",
     "output_type": "stream",
     "text": [
      "2025-06-16 19:20:37,146 - CRDS - INFO -  Fetching  /home/runner/crds/mappings/jwst/jwst_nircam_gain_0016.rmap    2.1 K bytes  (120 / 204 files) (406.4 K / 741.0 K bytes)\n"
     ]
    },
    {
     "name": "stderr",
     "output_type": "stream",
     "text": [
      "2025-06-16 19:20:37,217 - CRDS - INFO -  Fetching  /home/runner/crds/mappings/jwst/jwst_nircam_flat_0028.rmap   51.7 K bytes  (121 / 204 files) (408.6 K / 741.0 K bytes)\n"
     ]
    },
    {
     "name": "stderr",
     "output_type": "stream",
     "text": [
      "2025-06-16 19:20:37,309 - CRDS - INFO -  Fetching  /home/runner/crds/mappings/jwst/jwst_nircam_filteroffset_0004.rmap    1.4 K bytes  (122 / 204 files) (460.2 K / 741.0 K bytes)\n"
     ]
    },
    {
     "name": "stderr",
     "output_type": "stream",
     "text": [
      "2025-06-16 19:20:37,382 - CRDS - INFO -  Fetching  /home/runner/crds/mappings/jwst/jwst_nircam_extract1d_0005.rmap    1.2 K bytes  (123 / 204 files) (461.7 K / 741.0 K bytes)\n"
     ]
    },
    {
     "name": "stderr",
     "output_type": "stream",
     "text": [
      "2025-06-16 19:20:37,455 - CRDS - INFO -  Fetching  /home/runner/crds/mappings/jwst/jwst_nircam_drizpars_0001.rmap      519 bytes  (124 / 204 files) (462.9 K / 741.0 K bytes)\n"
     ]
    },
    {
     "name": "stderr",
     "output_type": "stream",
     "text": [
      "2025-06-16 19:20:37,530 - CRDS - INFO -  Fetching  /home/runner/crds/mappings/jwst/jwst_nircam_distortion_0033.rmap   53.4 K bytes  (125 / 204 files) (463.4 K / 741.0 K bytes)\n"
     ]
    },
    {
     "name": "stderr",
     "output_type": "stream",
     "text": [
      "2025-06-16 19:20:37,632 - CRDS - INFO -  Fetching  /home/runner/crds/mappings/jwst/jwst_nircam_dark_0047.rmap   29.0 K bytes  (126 / 204 files) (516.7 K / 741.0 K bytes)\n"
     ]
    },
    {
     "name": "stderr",
     "output_type": "stream",
     "text": [
      "2025-06-16 19:20:37,723 - CRDS - INFO -  Fetching  /home/runner/crds/mappings/jwst/jwst_nircam_area_0012.rmap   33.5 K bytes  (127 / 204 files) (545.7 K / 741.0 K bytes)\n"
     ]
    },
    {
     "name": "stderr",
     "output_type": "stream",
     "text": [
      "2025-06-16 19:20:37,824 - CRDS - INFO -  Fetching  /home/runner/crds/mappings/jwst/jwst_nircam_apcorr_0008.rmap    4.3 K bytes  (128 / 204 files) (579.2 K / 741.0 K bytes)\n"
     ]
    },
    {
     "name": "stderr",
     "output_type": "stream",
     "text": [
      "2025-06-16 19:20:37,912 - CRDS - INFO -  Fetching  /home/runner/crds/mappings/jwst/jwst_nircam_abvegaoffset_0003.rmap    1.3 K bytes  (129 / 204 files) (583.5 K / 741.0 K bytes)\n"
     ]
    },
    {
     "name": "stderr",
     "output_type": "stream",
     "text": [
      "2025-06-16 19:20:38,004 - CRDS - INFO -  Fetching  /home/runner/crds/mappings/jwst/jwst_nircam_0314.imap      5.6 K bytes  (130 / 204 files) (584.8 K / 741.0 K bytes)\n"
     ]
    },
    {
     "name": "stderr",
     "output_type": "stream",
     "text": [
      "2025-06-16 19:20:38,086 - CRDS - INFO -  Fetching  /home/runner/crds/mappings/jwst/jwst_miri_wavelengthrange_0027.rmap      929 bytes  (131 / 204 files) (590.4 K / 741.0 K bytes)\n"
     ]
    },
    {
     "name": "stderr",
     "output_type": "stream",
     "text": [
      "2025-06-16 19:20:38,182 - CRDS - INFO -  Fetching  /home/runner/crds/mappings/jwst/jwst_miri_tsophot_0004.rmap      882 bytes  (132 / 204 files) (591.3 K / 741.0 K bytes)\n"
     ]
    },
    {
     "name": "stderr",
     "output_type": "stream",
     "text": [
      "2025-06-16 19:20:38,261 - CRDS - INFO -  Fetching  /home/runner/crds/mappings/jwst/jwst_miri_straymask_0009.rmap      987 bytes  (133 / 204 files) (592.2 K / 741.0 K bytes)\n"
     ]
    },
    {
     "name": "stderr",
     "output_type": "stream",
     "text": [
      "2025-06-16 19:20:38,352 - CRDS - INFO -  Fetching  /home/runner/crds/mappings/jwst/jwst_miri_specwcs_0043.rmap    5.8 K bytes  (134 / 204 files) (593.2 K / 741.0 K bytes)\n"
     ]
    },
    {
     "name": "stderr",
     "output_type": "stream",
     "text": [
      "2025-06-16 19:20:38,443 - CRDS - INFO -  Fetching  /home/runner/crds/mappings/jwst/jwst_miri_saturation_0015.rmap    1.2 K bytes  (135 / 204 files) (599.0 K / 741.0 K bytes)\n"
     ]
    },
    {
     "name": "stderr",
     "output_type": "stream",
     "text": [
      "2025-06-16 19:20:38,547 - CRDS - INFO -  Fetching  /home/runner/crds/mappings/jwst/jwst_miri_rscd_0008.rmap    1.0 K bytes  (136 / 204 files) (600.1 K / 741.0 K bytes)\n"
     ]
    },
    {
     "name": "stderr",
     "output_type": "stream",
     "text": [
      "2025-06-16 19:20:38,638 - CRDS - INFO -  Fetching  /home/runner/crds/mappings/jwst/jwst_miri_resol_0006.rmap      790 bytes  (137 / 204 files) (601.2 K / 741.0 K bytes)\n"
     ]
    },
    {
     "name": "stderr",
     "output_type": "stream",
     "text": [
      "2025-06-16 19:20:38,719 - CRDS - INFO -  Fetching  /home/runner/crds/mappings/jwst/jwst_miri_reset_0026.rmap    3.9 K bytes  (138 / 204 files) (602.0 K / 741.0 K bytes)\n"
     ]
    },
    {
     "name": "stderr",
     "output_type": "stream",
     "text": [
      "2025-06-16 19:20:38,814 - CRDS - INFO -  Fetching  /home/runner/crds/mappings/jwst/jwst_miri_regions_0034.rmap    5.2 K bytes  (139 / 204 files) (605.8 K / 741.0 K bytes)\n"
     ]
    },
    {
     "name": "stderr",
     "output_type": "stream",
     "text": [
      "2025-06-16 19:20:38,891 - CRDS - INFO -  Fetching  /home/runner/crds/mappings/jwst/jwst_miri_readnoise_0023.rmap    1.6 K bytes  (140 / 204 files) (611.0 K / 741.0 K bytes)\n"
     ]
    },
    {
     "name": "stderr",
     "output_type": "stream",
     "text": [
      "2025-06-16 19:20:38,984 - CRDS - INFO -  Fetching  /home/runner/crds/mappings/jwst/jwst_miri_psfmask_0009.rmap    2.1 K bytes  (141 / 204 files) (612.7 K / 741.0 K bytes)\n"
     ]
    },
    {
     "name": "stderr",
     "output_type": "stream",
     "text": [
      "2025-06-16 19:20:39,073 - CRDS - INFO -  Fetching  /home/runner/crds/mappings/jwst/jwst_miri_psf_0003.rmap      839 bytes  (142 / 204 files) (614.8 K / 741.0 K bytes)\n"
     ]
    },
    {
     "name": "stderr",
     "output_type": "stream",
     "text": [
      "2025-06-16 19:20:39,149 - CRDS - INFO -  Fetching  /home/runner/crds/mappings/jwst/jwst_miri_photom_0056.rmap    3.7 K bytes  (143 / 204 files) (615.6 K / 741.0 K bytes)\n"
     ]
    },
    {
     "name": "stderr",
     "output_type": "stream",
     "text": [
      "2025-06-16 19:20:39,226 - CRDS - INFO -  Fetching  /home/runner/crds/mappings/jwst/jwst_miri_pathloss_0005.rmap      866 bytes  (144 / 204 files) (619.4 K / 741.0 K bytes)\n"
     ]
    },
    {
     "name": "stderr",
     "output_type": "stream",
     "text": [
      "2025-06-16 19:20:39,300 - CRDS - INFO -  Fetching  /home/runner/crds/mappings/jwst/jwst_miri_pars-whitelightstep_0003.rmap      912 bytes  (145 / 204 files) (620.2 K / 741.0 K bytes)\n"
     ]
    },
    {
     "name": "stderr",
     "output_type": "stream",
     "text": [
      "2025-06-16 19:20:39,378 - CRDS - INFO -  Fetching  /home/runner/crds/mappings/jwst/jwst_miri_pars-tweakregstep_0003.rmap    1.8 K bytes  (146 / 204 files) (621.2 K / 741.0 K bytes)\n"
     ]
    },
    {
     "name": "stderr",
     "output_type": "stream",
     "text": [
      "2025-06-16 19:20:39,454 - CRDS - INFO -  Fetching  /home/runner/crds/mappings/jwst/jwst_miri_pars-spec3pipeline_0009.rmap      816 bytes  (147 / 204 files) (623.0 K / 741.0 K bytes)\n"
     ]
    },
    {
     "name": "stderr",
     "output_type": "stream",
     "text": [
      "2025-06-16 19:20:39,530 - CRDS - INFO -  Fetching  /home/runner/crds/mappings/jwst/jwst_miri_pars-spec2pipeline_0012.rmap    1.3 K bytes  (148 / 204 files) (623.8 K / 741.0 K bytes)\n"
     ]
    },
    {
     "name": "stderr",
     "output_type": "stream",
     "text": [
      "2025-06-16 19:20:39,628 - CRDS - INFO -  Fetching  /home/runner/crds/mappings/jwst/jwst_miri_pars-sourcecatalogstep_0003.rmap    1.9 K bytes  (149 / 204 files) (625.1 K / 741.0 K bytes)\n"
     ]
    },
    {
     "name": "stderr",
     "output_type": "stream",
     "text": [
      "2025-06-16 19:20:39,719 - CRDS - INFO -  Fetching  /home/runner/crds/mappings/jwst/jwst_miri_pars-resamplestep_0002.rmap      677 bytes  (150 / 204 files) (627.0 K / 741.0 K bytes)\n"
     ]
    },
    {
     "name": "stderr",
     "output_type": "stream",
     "text": [
      "2025-06-16 19:20:39,795 - CRDS - INFO -  Fetching  /home/runner/crds/mappings/jwst/jwst_miri_pars-resamplespecstep_0002.rmap      706 bytes  (151 / 204 files) (627.7 K / 741.0 K bytes)\n"
     ]
    },
    {
     "name": "stderr",
     "output_type": "stream",
     "text": [
      "2025-06-16 19:20:39,873 - CRDS - INFO -  Fetching  /home/runner/crds/mappings/jwst/jwst_miri_pars-outlierdetectionstep_0020.rmap    3.4 K bytes  (152 / 204 files) (628.4 K / 741.0 K bytes)\n"
     ]
    },
    {
     "name": "stderr",
     "output_type": "stream",
     "text": [
      "2025-06-16 19:20:39,968 - CRDS - INFO -  Fetching  /home/runner/crds/mappings/jwst/jwst_miri_pars-jumpstep_0011.rmap    1.6 K bytes  (153 / 204 files) (631.8 K / 741.0 K bytes)\n"
     ]
    },
    {
     "name": "stderr",
     "output_type": "stream",
     "text": [
      "2025-06-16 19:20:40,051 - CRDS - INFO -  Fetching  /home/runner/crds/mappings/jwst/jwst_miri_pars-image2pipeline_0010.rmap    1.1 K bytes  (154 / 204 files) (633.4 K / 741.0 K bytes)\n"
     ]
    },
    {
     "name": "stderr",
     "output_type": "stream",
     "text": [
      "2025-06-16 19:20:40,133 - CRDS - INFO -  Fetching  /home/runner/crds/mappings/jwst/jwst_miri_pars-extract1dstep_0003.rmap      807 bytes  (155 / 204 files) (634.5 K / 741.0 K bytes)\n"
     ]
    },
    {
     "name": "stderr",
     "output_type": "stream",
     "text": [
      "2025-06-16 19:20:40,214 - CRDS - INFO -  Fetching  /home/runner/crds/mappings/jwst/jwst_miri_pars-emicorrstep_0003.rmap      796 bytes  (156 / 204 files) (635.3 K / 741.0 K bytes)\n"
     ]
    },
    {
     "name": "stderr",
     "output_type": "stream",
     "text": [
      "2025-06-16 19:20:40,294 - CRDS - INFO -  Fetching  /home/runner/crds/mappings/jwst/jwst_miri_pars-detector1pipeline_0010.rmap    1.6 K bytes  (157 / 204 files) (636.1 K / 741.0 K bytes)\n"
     ]
    },
    {
     "name": "stderr",
     "output_type": "stream",
     "text": [
      "2025-06-16 19:20:40,376 - CRDS - INFO -  Fetching  /home/runner/crds/mappings/jwst/jwst_miri_pars-darkpipeline_0002.rmap      860 bytes  (158 / 204 files) (637.7 K / 741.0 K bytes)\n"
     ]
    },
    {
     "name": "stderr",
     "output_type": "stream",
     "text": [
      "2025-06-16 19:20:40,452 - CRDS - INFO -  Fetching  /home/runner/crds/mappings/jwst/jwst_miri_pars-darkcurrentstep_0002.rmap      683 bytes  (159 / 204 files) (638.5 K / 741.0 K bytes)\n"
     ]
    },
    {
     "name": "stderr",
     "output_type": "stream",
     "text": [
      "2025-06-16 19:20:40,532 - CRDS - INFO -  Fetching  /home/runner/crds/mappings/jwst/jwst_miri_mrsxartcorr_0002.rmap    2.2 K bytes  (160 / 204 files) (639.2 K / 741.0 K bytes)\n"
     ]
    },
    {
     "name": "stderr",
     "output_type": "stream",
     "text": [
      "2025-06-16 19:20:40,630 - CRDS - INFO -  Fetching  /home/runner/crds/mappings/jwst/jwst_miri_mrsptcorr_0005.rmap    2.0 K bytes  (161 / 204 files) (641.4 K / 741.0 K bytes)\n"
     ]
    },
    {
     "name": "stderr",
     "output_type": "stream",
     "text": [
      "2025-06-16 19:20:40,721 - CRDS - INFO -  Fetching  /home/runner/crds/mappings/jwst/jwst_miri_mask_0026.rmap    4.3 K bytes  (162 / 204 files) (643.3 K / 741.0 K bytes)\n"
     ]
    },
    {
     "name": "stderr",
     "output_type": "stream",
     "text": [
      "2025-06-16 19:20:40,814 - CRDS - INFO -  Fetching  /home/runner/crds/mappings/jwst/jwst_miri_linearity_0018.rmap    2.8 K bytes  (163 / 204 files) (647.6 K / 741.0 K bytes)\n"
     ]
    },
    {
     "name": "stderr",
     "output_type": "stream",
     "text": [
      "2025-06-16 19:20:40,893 - CRDS - INFO -  Fetching  /home/runner/crds/mappings/jwst/jwst_miri_ipc_0008.rmap      700 bytes  (164 / 204 files) (650.4 K / 741.0 K bytes)\n"
     ]
    },
    {
     "name": "stderr",
     "output_type": "stream",
     "text": [
      "2025-06-16 19:20:40,993 - CRDS - INFO -  Fetching  /home/runner/crds/mappings/jwst/jwst_miri_gain_0013.rmap    3.9 K bytes  (165 / 204 files) (651.1 K / 741.0 K bytes)\n"
     ]
    },
    {
     "name": "stderr",
     "output_type": "stream",
     "text": [
      "2025-06-16 19:20:41,073 - CRDS - INFO -  Fetching  /home/runner/crds/mappings/jwst/jwst_miri_fringefreq_0003.rmap    1.4 K bytes  (166 / 204 files) (655.0 K / 741.0 K bytes)\n"
     ]
    },
    {
     "name": "stderr",
     "output_type": "stream",
     "text": [
      "2025-06-16 19:20:41,155 - CRDS - INFO -  Fetching  /home/runner/crds/mappings/jwst/jwst_miri_fringe_0019.rmap    3.9 K bytes  (167 / 204 files) (656.5 K / 741.0 K bytes)\n"
     ]
    },
    {
     "name": "stderr",
     "output_type": "stream",
     "text": [
      "2025-06-16 19:20:41,240 - CRDS - INFO -  Fetching  /home/runner/crds/mappings/jwst/jwst_miri_flat_0066.rmap   15.7 K bytes  (168 / 204 files) (660.4 K / 741.0 K bytes)\n"
     ]
    },
    {
     "name": "stderr",
     "output_type": "stream",
     "text": [
      "2025-06-16 19:20:41,322 - CRDS - INFO -  Fetching  /home/runner/crds/mappings/jwst/jwst_miri_filteroffset_0025.rmap    2.5 K bytes  (169 / 204 files) (676.1 K / 741.0 K bytes)\n"
     ]
    },
    {
     "name": "stderr",
     "output_type": "stream",
     "text": [
      "2025-06-16 19:20:41,400 - CRDS - INFO -  Fetching  /home/runner/crds/mappings/jwst/jwst_miri_extract1d_0020.rmap    1.4 K bytes  (170 / 204 files) (678.6 K / 741.0 K bytes)\n"
     ]
    },
    {
     "name": "stderr",
     "output_type": "stream",
     "text": [
      "2025-06-16 19:20:41,490 - CRDS - INFO -  Fetching  /home/runner/crds/mappings/jwst/jwst_miri_emicorr_0003.rmap      663 bytes  (171 / 204 files) (679.9 K / 741.0 K bytes)\n"
     ]
    },
    {
     "name": "stderr",
     "output_type": "stream",
     "text": [
      "2025-06-16 19:20:41,577 - CRDS - INFO -  Fetching  /home/runner/crds/mappings/jwst/jwst_miri_drizpars_0002.rmap      511 bytes  (172 / 204 files) (680.6 K / 741.0 K bytes)\n"
     ]
    },
    {
     "name": "stderr",
     "output_type": "stream",
     "text": [
      "2025-06-16 19:20:41,663 - CRDS - INFO -  Fetching  /home/runner/crds/mappings/jwst/jwst_miri_distortion_0040.rmap    4.9 K bytes  (173 / 204 files) (681.1 K / 741.0 K bytes)\n"
     ]
    },
    {
     "name": "stderr",
     "output_type": "stream",
     "text": [
      "2025-06-16 19:20:41,741 - CRDS - INFO -  Fetching  /home/runner/crds/mappings/jwst/jwst_miri_dark_0036.rmap    4.4 K bytes  (174 / 204 files) (686.0 K / 741.0 K bytes)\n"
     ]
    },
    {
     "name": "stderr",
     "output_type": "stream",
     "text": [
      "2025-06-16 19:20:41,832 - CRDS - INFO -  Fetching  /home/runner/crds/mappings/jwst/jwst_miri_cubepar_0017.rmap      800 bytes  (175 / 204 files) (690.4 K / 741.0 K bytes)\n"
     ]
    },
    {
     "name": "stderr",
     "output_type": "stream",
     "text": [
      "2025-06-16 19:20:41,906 - CRDS - INFO -  Fetching  /home/runner/crds/mappings/jwst/jwst_miri_area_0015.rmap      866 bytes  (176 / 204 files) (691.2 K / 741.0 K bytes)\n"
     ]
    },
    {
     "name": "stderr",
     "output_type": "stream",
     "text": [
      "2025-06-16 19:20:41,987 - CRDS - INFO -  Fetching  /home/runner/crds/mappings/jwst/jwst_miri_apcorr_0019.rmap    5.0 K bytes  (177 / 204 files) (692.0 K / 741.0 K bytes)\n"
     ]
    },
    {
     "name": "stderr",
     "output_type": "stream",
     "text": [
      "2025-06-16 19:20:42,067 - CRDS - INFO -  Fetching  /home/runner/crds/mappings/jwst/jwst_miri_abvegaoffset_0003.rmap    1.3 K bytes  (178 / 204 files) (697.0 K / 741.0 K bytes)\n"
     ]
    },
    {
     "name": "stderr",
     "output_type": "stream",
     "text": [
      "2025-06-16 19:20:42,160 - CRDS - INFO -  Fetching  /home/runner/crds/mappings/jwst/jwst_miri_0437.imap        5.8 K bytes  (179 / 204 files) (698.3 K / 741.0 K bytes)\n"
     ]
    },
    {
     "name": "stderr",
     "output_type": "stream",
     "text": [
      "2025-06-16 19:20:42,240 - CRDS - INFO -  Fetching  /home/runner/crds/mappings/jwst/jwst_fgs_trappars_0004.rmap      903 bytes  (180 / 204 files) (704.1 K / 741.0 K bytes)\n"
     ]
    },
    {
     "name": "stderr",
     "output_type": "stream",
     "text": [
      "2025-06-16 19:20:42,319 - CRDS - INFO -  Fetching  /home/runner/crds/mappings/jwst/jwst_fgs_trapdensity_0006.rmap      930 bytes  (181 / 204 files) (705.0 K / 741.0 K bytes)\n"
     ]
    },
    {
     "name": "stderr",
     "output_type": "stream",
     "text": [
      "2025-06-16 19:20:42,395 - CRDS - INFO -  Fetching  /home/runner/crds/mappings/jwst/jwst_fgs_superbias_0017.rmap    3.8 K bytes  (182 / 204 files) (706.0 K / 741.0 K bytes)\n"
     ]
    },
    {
     "name": "stderr",
     "output_type": "stream",
     "text": [
      "2025-06-16 19:20:42,482 - CRDS - INFO -  Fetching  /home/runner/crds/mappings/jwst/jwst_fgs_saturation_0009.rmap      779 bytes  (183 / 204 files) (709.7 K / 741.0 K bytes)\n"
     ]
    },
    {
     "name": "stderr",
     "output_type": "stream",
     "text": [
      "2025-06-16 19:20:42,569 - CRDS - INFO -  Fetching  /home/runner/crds/mappings/jwst/jwst_fgs_readnoise_0014.rmap    1.3 K bytes  (184 / 204 files) (710.5 K / 741.0 K bytes)\n"
     ]
    },
    {
     "name": "stderr",
     "output_type": "stream",
     "text": [
      "2025-06-16 19:20:42,646 - CRDS - INFO -  Fetching  /home/runner/crds/mappings/jwst/jwst_fgs_photom_0014.rmap    1.1 K bytes  (185 / 204 files) (711.8 K / 741.0 K bytes)\n"
     ]
    },
    {
     "name": "stderr",
     "output_type": "stream",
     "text": [
      "2025-06-16 19:20:42,728 - CRDS - INFO -  Fetching  /home/runner/crds/mappings/jwst/jwst_fgs_persat_0006.rmap      884 bytes  (186 / 204 files) (712.9 K / 741.0 K bytes)\n"
     ]
    },
    {
     "name": "stderr",
     "output_type": "stream",
     "text": [
      "2025-06-16 19:20:42,812 - CRDS - INFO -  Fetching  /home/runner/crds/mappings/jwst/jwst_fgs_pars-tweakregstep_0002.rmap      850 bytes  (187 / 204 files) (713.8 K / 741.0 K bytes)\n"
     ]
    },
    {
     "name": "stderr",
     "output_type": "stream",
     "text": [
      "2025-06-16 19:20:42,885 - CRDS - INFO -  Fetching  /home/runner/crds/mappings/jwst/jwst_fgs_pars-sourcecatalogstep_0001.rmap      636 bytes  (188 / 204 files) (714.6 K / 741.0 K bytes)\n"
     ]
    },
    {
     "name": "stderr",
     "output_type": "stream",
     "text": [
      "2025-06-16 19:20:42,975 - CRDS - INFO -  Fetching  /home/runner/crds/mappings/jwst/jwst_fgs_pars-outlierdetectionstep_0001.rmap      654 bytes  (189 / 204 files) (715.3 K / 741.0 K bytes)\n"
     ]
    },
    {
     "name": "stderr",
     "output_type": "stream",
     "text": [
      "2025-06-16 19:20:43,050 - CRDS - INFO -  Fetching  /home/runner/crds/mappings/jwst/jwst_fgs_pars-image2pipeline_0005.rmap      974 bytes  (190 / 204 files) (715.9 K / 741.0 K bytes)\n"
     ]
    },
    {
     "name": "stderr",
     "output_type": "stream",
     "text": [
      "2025-06-16 19:20:43,125 - CRDS - INFO -  Fetching  /home/runner/crds/mappings/jwst/jwst_fgs_pars-detector1pipeline_0002.rmap    1.0 K bytes  (191 / 204 files) (716.9 K / 741.0 K bytes)\n"
     ]
    },
    {
     "name": "stderr",
     "output_type": "stream",
     "text": [
      "2025-06-16 19:20:43,216 - CRDS - INFO -  Fetching  /home/runner/crds/mappings/jwst/jwst_fgs_pars-darkpipeline_0002.rmap      856 bytes  (192 / 204 files) (717.9 K / 741.0 K bytes)\n"
     ]
    },
    {
     "name": "stderr",
     "output_type": "stream",
     "text": [
      "2025-06-16 19:20:43,288 - CRDS - INFO -  Fetching  /home/runner/crds/mappings/jwst/jwst_fgs_mask_0023.rmap    1.1 K bytes  (193 / 204 files) (718.8 K / 741.0 K bytes)\n"
     ]
    },
    {
     "name": "stderr",
     "output_type": "stream",
     "text": [
      "2025-06-16 19:20:43,364 - CRDS - INFO -  Fetching  /home/runner/crds/mappings/jwst/jwst_fgs_linearity_0015.rmap      925 bytes  (194 / 204 files) (719.8 K / 741.0 K bytes)\n"
     ]
    },
    {
     "name": "stderr",
     "output_type": "stream",
     "text": [
      "2025-06-16 19:20:43,435 - CRDS - INFO -  Fetching  /home/runner/crds/mappings/jwst/jwst_fgs_ipc_0003.rmap       614 bytes  (195 / 204 files) (720.8 K / 741.0 K bytes)\n"
     ]
    },
    {
     "name": "stderr",
     "output_type": "stream",
     "text": [
      "2025-06-16 19:20:43,525 - CRDS - INFO -  Fetching  /home/runner/crds/mappings/jwst/jwst_fgs_gain_0010.rmap      890 bytes  (196 / 204 files) (721.4 K / 741.0 K bytes)\n"
     ]
    },
    {
     "name": "stderr",
     "output_type": "stream",
     "text": [
      "2025-06-16 19:20:43,615 - CRDS - INFO -  Fetching  /home/runner/crds/mappings/jwst/jwst_fgs_flat_0009.rmap    1.1 K bytes  (197 / 204 files) (722.3 K / 741.0 K bytes)\n"
     ]
    },
    {
     "name": "stderr",
     "output_type": "stream",
     "text": [
      "2025-06-16 19:20:43,689 - CRDS - INFO -  Fetching  /home/runner/crds/mappings/jwst/jwst_fgs_distortion_0011.rmap    1.2 K bytes  (198 / 204 files) (723.4 K / 741.0 K bytes)\n"
     ]
    },
    {
     "name": "stderr",
     "output_type": "stream",
     "text": [
      "2025-06-16 19:20:43,762 - CRDS - INFO -  Fetching  /home/runner/crds/mappings/jwst/jwst_fgs_dark_0017.rmap    4.3 K bytes  (199 / 204 files) (724.6 K / 741.0 K bytes)\n"
     ]
    },
    {
     "name": "stderr",
     "output_type": "stream",
     "text": [
      "2025-06-16 19:20:43,838 - CRDS - INFO -  Fetching  /home/runner/crds/mappings/jwst/jwst_fgs_area_0010.rmap    1.2 K bytes  (200 / 204 files) (728.9 K / 741.0 K bytes)\n"
     ]
    },
    {
     "name": "stderr",
     "output_type": "stream",
     "text": [
      "2025-06-16 19:20:43,928 - CRDS - INFO -  Fetching  /home/runner/crds/mappings/jwst/jwst_fgs_apcorr_0004.rmap    4.0 K bytes  (201 / 204 files) (730.1 K / 741.0 K bytes)\n"
     ]
    },
    {
     "name": "stderr",
     "output_type": "stream",
     "text": [
      "2025-06-16 19:20:44,001 - CRDS - INFO -  Fetching  /home/runner/crds/mappings/jwst/jwst_fgs_abvegaoffset_0002.rmap    1.3 K bytes  (202 / 204 files) (734.0 K / 741.0 K bytes)\n"
     ]
    },
    {
     "name": "stderr",
     "output_type": "stream",
     "text": [
      "2025-06-16 19:20:44,081 - CRDS - INFO -  Fetching  /home/runner/crds/mappings/jwst/jwst_fgs_0123.imap         5.1 K bytes  (203 / 204 files) (735.3 K / 741.0 K bytes)\n"
     ]
    },
    {
     "name": "stderr",
     "output_type": "stream",
     "text": [
      "2025-06-16 19:20:44,172 - CRDS - INFO -  Fetching  /home/runner/crds/mappings/jwst/jwst_1364.pmap               580 bytes  (204 / 204 files) (740.4 K / 741.0 K bytes)\n"
     ]
    },
    {
     "name": "stderr",
     "output_type": "stream",
     "text": [
      "2025-06-16 19:20:44,432 - CRDS - INFO -  Fetching  /home/runner/crds/references/jwst/miri/jwst_miri_pars-emicorrstep_0003.asdf    1.0 K bytes  (1 / 1 files) (0 / 1.0 K bytes)\n"
     ]
    },
    {
     "name": "stderr",
     "output_type": "stream",
     "text": [
      "2025-06-16 19:20:44,514 - stpipe - INFO - PARS-EMICORRSTEP parameters found: /home/runner/crds/references/jwst/miri/jwst_miri_pars-emicorrstep_0003.asdf\n"
     ]
    },
    {
     "name": "stderr",
     "output_type": "stream",
     "text": [
      "2025-06-16 19:20:44,531 - CRDS - INFO -  Fetching  /home/runner/crds/references/jwst/miri/jwst_miri_pars-darkcurrentstep_0001.asdf      936 bytes  (1 / 1 files) (0 / 936 bytes)\n"
     ]
    },
    {
     "name": "stderr",
     "output_type": "stream",
     "text": [
      "2025-06-16 19:20:44,608 - stpipe - INFO - PARS-DARKCURRENTSTEP parameters found: /home/runner/crds/references/jwst/miri/jwst_miri_pars-darkcurrentstep_0001.asdf\n"
     ]
    },
    {
     "name": "stderr",
     "output_type": "stream",
     "text": [
      "2025-06-16 19:20:44,618 - CRDS - INFO -  Fetching  /home/runner/crds/references/jwst/miri/jwst_miri_pars-jumpstep_0004.asdf    1.9 K bytes  (1 / 1 files) (0 / 1.9 K bytes)\n"
     ]
    },
    {
     "name": "stderr",
     "output_type": "stream",
     "text": [
      "2025-06-16 19:20:44,703 - stpipe - INFO - PARS-JUMPSTEP parameters found: /home/runner/crds/references/jwst/miri/jwst_miri_pars-jumpstep_0004.asdf\n"
     ]
    },
    {
     "name": "stderr",
     "output_type": "stream",
     "text": [
      "2025-06-16 19:20:44,715 - CRDS - INFO -  Fetching  /home/runner/crds/references/jwst/miri/jwst_miri_pars-detector1pipeline_0006.asdf    2.0 K bytes  (1 / 1 files) (0 / 2.0 K bytes)\n"
     ]
    },
    {
     "name": "stderr",
     "output_type": "stream",
     "text": [
      "2025-06-16 19:20:44,792 - stpipe - INFO - PARS-DETECTOR1PIPELINE parameters found: /home/runner/crds/references/jwst/miri/jwst_miri_pars-detector1pipeline_0006.asdf\n"
     ]
    },
    {
     "name": "stderr",
     "output_type": "stream",
     "text": [
      "2025-06-16 19:20:44,814 - stpipe.Detector1Pipeline - INFO - Detector1Pipeline instance created.\n"
     ]
    },
    {
     "name": "stderr",
     "output_type": "stream",
     "text": [
      "2025-06-16 19:20:44,815 - stpipe.Detector1Pipeline.group_scale - INFO - GroupScaleStep instance created.\n"
     ]
    },
    {
     "name": "stderr",
     "output_type": "stream",
     "text": [
      "2025-06-16 19:20:44,816 - stpipe.Detector1Pipeline.dq_init - INFO - DQInitStep instance created.\n"
     ]
    },
    {
     "name": "stderr",
     "output_type": "stream",
     "text": [
      "2025-06-16 19:20:44,817 - stpipe.Detector1Pipeline.emicorr - INFO - EmiCorrStep instance created.\n"
     ]
    },
    {
     "name": "stderr",
     "output_type": "stream",
     "text": [
      "2025-06-16 19:20:44,818 - stpipe.Detector1Pipeline.saturation - INFO - SaturationStep instance created.\n"
     ]
    },
    {
     "name": "stderr",
     "output_type": "stream",
     "text": [
      "2025-06-16 19:20:44,819 - stpipe.Detector1Pipeline.ipc - INFO - IPCStep instance created.\n"
     ]
    },
    {
     "name": "stderr",
     "output_type": "stream",
     "text": [
      "2025-06-16 19:20:44,820 - stpipe.Detector1Pipeline.superbias - INFO - SuperBiasStep instance created.\n"
     ]
    },
    {
     "name": "stderr",
     "output_type": "stream",
     "text": [
      "2025-06-16 19:20:44,821 - stpipe.Detector1Pipeline.refpix - INFO - RefPixStep instance created.\n"
     ]
    },
    {
     "name": "stderr",
     "output_type": "stream",
     "text": [
      "2025-06-16 19:20:44,822 - stpipe.Detector1Pipeline.rscd - INFO - RscdStep instance created.\n"
     ]
    },
    {
     "name": "stderr",
     "output_type": "stream",
     "text": [
      "2025-06-16 19:20:44,823 - stpipe.Detector1Pipeline.firstframe - INFO - FirstFrameStep instance created.\n"
     ]
    },
    {
     "name": "stderr",
     "output_type": "stream",
     "text": [
      "2025-06-16 19:20:44,824 - stpipe.Detector1Pipeline.lastframe - INFO - LastFrameStep instance created.\n"
     ]
    },
    {
     "name": "stderr",
     "output_type": "stream",
     "text": [
      "2025-06-16 19:20:44,826 - stpipe.Detector1Pipeline.linearity - INFO - LinearityStep instance created.\n"
     ]
    },
    {
     "name": "stderr",
     "output_type": "stream",
     "text": [
      "2025-06-16 19:20:44,827 - stpipe.Detector1Pipeline.dark_current - INFO - DarkCurrentStep instance created.\n"
     ]
    },
    {
     "name": "stderr",
     "output_type": "stream",
     "text": [
      "2025-06-16 19:20:44,828 - stpipe.Detector1Pipeline.reset - INFO - ResetStep instance created.\n"
     ]
    },
    {
     "name": "stderr",
     "output_type": "stream",
     "text": [
      "2025-06-16 19:20:44,829 - stpipe.Detector1Pipeline.persistence - INFO - PersistenceStep instance created.\n"
     ]
    },
    {
     "name": "stderr",
     "output_type": "stream",
     "text": [
      "2025-06-16 19:20:44,830 - stpipe.Detector1Pipeline.charge_migration - INFO - ChargeMigrationStep instance created.\n"
     ]
    },
    {
     "name": "stderr",
     "output_type": "stream",
     "text": [
      "2025-06-16 19:20:44,832 - stpipe.Detector1Pipeline.jump - INFO - JumpStep instance created.\n"
     ]
    },
    {
     "name": "stderr",
     "output_type": "stream",
     "text": [
      "2025-06-16 19:20:44,833 - stpipe.Detector1Pipeline.clean_flicker_noise - INFO - CleanFlickerNoiseStep instance created.\n"
     ]
    },
    {
     "name": "stderr",
     "output_type": "stream",
     "text": [
      "2025-06-16 19:20:44,835 - stpipe.Detector1Pipeline.ramp_fit - INFO - RampFitStep instance created.\n"
     ]
    },
    {
     "name": "stderr",
     "output_type": "stream",
     "text": [
      "2025-06-16 19:20:44,836 - stpipe.Detector1Pipeline.gain_scale - INFO - GainScaleStep instance created.\n"
     ]
    },
    {
     "name": "stderr",
     "output_type": "stream",
     "text": [
      "2025-06-16 19:20:44,928 - stpipe.Detector1Pipeline - INFO - Step Detector1Pipeline running with args (np.str_('./lrs_tso_demo_data/PID04496Obs004/uncal/jw04496004001_03103_00001-seg001_mirimage_uncal.fits'),).\n"
     ]
    },
    {
     "name": "stderr",
     "output_type": "stream",
     "text": [
      "2025-06-16 19:20:44,952 - stpipe.Detector1Pipeline - INFO - Step Detector1Pipeline parameters are:\n",
      "  pre_hooks: []\n",
      "  post_hooks: []\n",
      "  output_file: None\n",
      "  output_dir: ./lrs_tso_demo_data/PID04496Obs004/stage1\n",
      "  output_ext: .fits\n",
      "  output_use_model: False\n",
      "  output_use_index: True\n",
      "  save_results: True\n",
      "  skip: False\n",
      "  suffix: None\n",
      "  search_output_file: True\n",
      "  input_dir: ''\n",
      "  save_calibrated_ramp: True\n",
      "  steps:\n",
      "    group_scale:\n",
      "      pre_hooks: []\n",
      "      post_hooks: []\n",
      "      output_file: None\n",
      "      output_dir: None\n",
      "      output_ext: .fits\n",
      "      output_use_model: False\n",
      "      output_use_index: True\n",
      "      save_results: False\n",
      "      skip: False\n",
      "      suffix: None\n",
      "      search_output_file: True\n",
      "      input_dir: ''\n",
      "    dq_init:\n",
      "      pre_hooks: []\n",
      "      post_hooks: []\n",
      "      output_file: None\n",
      "      output_dir: None\n",
      "      output_ext: .fits\n",
      "      output_use_model: False\n",
      "      output_use_index: True\n",
      "      save_results: False\n",
      "      skip: False\n",
      "      suffix: None\n",
      "      search_output_file: True\n",
      "      input_dir: ''\n",
      "    emicorr:\n",
      "      pre_hooks: []\n",
      "      post_hooks: []\n",
      "      output_file: None\n",
      "      output_dir: None\n",
      "      output_ext: .fits\n",
      "      output_use_model: False\n",
      "      output_use_index: True\n",
      "      save_results: False\n",
      "      skip: False\n",
      "      suffix: None\n",
      "      search_output_file: True\n",
      "      input_dir: ''\n",
      "      algorithm: sequential\n",
      "      nints_to_phase: None\n",
      "      nbins: None\n",
      "      scale_reference: True\n",
      "      onthefly_corr_freq: None\n",
      "      use_n_cycles: 3\n",
      "      fit_ints_separately: False\n",
      "      user_supplied_reffile: None\n",
      "      save_intermediate_results: False\n",
      "    saturation:\n",
      "      pre_hooks: []\n",
      "      post_hooks: []\n",
      "      output_file: None\n",
      "      output_dir: None\n",
      "      output_ext: .fits\n",
      "      output_use_model: False\n",
      "      output_use_index: True\n",
      "      save_results: False\n",
      "      skip: False\n",
      "      suffix: None\n",
      "      search_output_file: True\n",
      "      input_dir: ''\n",
      "      n_pix_grow_sat: 1\n",
      "      use_readpatt: True\n",
      "    ipc:\n",
      "      pre_hooks: []\n",
      "      post_hooks: []\n",
      "      output_file: None\n",
      "      output_dir: None\n",
      "      output_ext: .fits\n",
      "      output_use_model: False\n",
      "      output_use_index: True\n",
      "      save_results: False\n",
      "      skip: True\n",
      "      suffix: None\n",
      "      search_output_file: True\n",
      "      input_dir: ''\n",
      "    superbias:\n",
      "      pre_hooks: []\n",
      "      post_hooks: []\n",
      "      output_file: None\n",
      "      output_dir: None\n",
      "      output_ext: .fits\n",
      "      output_use_model: False\n",
      "      output_use_index: True\n",
      "      save_results: False\n",
      "      skip: False\n",
      "      suffix: None\n",
      "      search_output_file: True\n",
      "      input_dir: ''\n",
      "    refpix:\n",
      "      pre_hooks: []\n",
      "      post_hooks: []\n",
      "      output_file: None\n",
      "      output_dir: None\n",
      "      output_ext: .fits\n",
      "      output_use_model: False\n",
      "      output_use_index: True\n",
      "      save_results: False\n",
      "      skip: False\n",
      "      suffix: None\n",
      "      search_output_file: True\n",
      "      input_dir: ''\n",
      "      odd_even_columns: True\n",
      "      use_side_ref_pixels: True\n",
      "      side_smoothing_length: 11\n",
      "      side_gain: 1.0\n",
      "      odd_even_rows: True\n",
      "      ovr_corr_mitigation_ftr: 3.0\n",
      "      preserve_irs2_refpix: False\n",
      "      irs2_mean_subtraction: False\n",
      "      refpix_algorithm: median\n",
      "      sigreject: 4.0\n",
      "      gaussmooth: 1.0\n",
      "      halfwidth: 30\n",
      "    rscd:\n",
      "      pre_hooks: []\n",
      "      post_hooks: []\n",
      "      output_file: None\n",
      "      output_dir: None\n",
      "      output_ext: .fits\n",
      "      output_use_model: False\n",
      "      output_use_index: True\n",
      "      save_results: False\n",
      "      skip: True\n",
      "      suffix: None\n",
      "      search_output_file: True\n",
      "      input_dir: ''\n",
      "      type: baseline\n",
      "    firstframe:\n",
      "      pre_hooks: []\n",
      "      post_hooks: []\n",
      "      output_file: None\n",
      "      output_dir: None\n",
      "      output_ext: .fits\n",
      "      output_use_model: False\n",
      "      output_use_index: True\n",
      "      save_results: False\n",
      "      skip: True\n",
      "      suffix: None\n",
      "      search_output_file: True\n",
      "      input_dir: ''\n",
      "      bright_use_group1: False\n",
      "    lastframe:\n",
      "      pre_hooks: []\n",
      "      post_hooks: []\n",
      "      output_file: None\n",
      "      output_dir: None\n",
      "      output_ext: .fits\n",
      "      output_use_model: False\n",
      "      output_use_index: True\n",
      "      save_results: False\n",
      "      skip: False\n",
      "      suffix: None\n",
      "      search_output_file: True\n",
      "      input_dir: ''\n",
      "    linearity:\n",
      "      pre_hooks: []\n",
      "      post_hooks: []\n",
      "      output_file: None\n",
      "      output_dir: None\n",
      "      output_ext: .fits\n",
      "      output_use_model: False\n",
      "      output_use_index: True\n",
      "      save_results: False\n",
      "      skip: False\n",
      "      suffix: None\n",
      "      search_output_file: True\n",
      "      input_dir: ''\n",
      "    dark_current:\n",
      "      pre_hooks: []\n",
      "      post_hooks: []\n",
      "      output_file: None\n",
      "      output_dir: None\n",
      "      output_ext: .fits\n",
      "      output_use_model: False\n",
      "      output_use_index: True\n",
      "      save_results: False\n",
      "      skip: False\n",
      "      suffix: None\n",
      "      search_output_file: True\n",
      "      input_dir: ''\n",
      "      dark_output: None\n",
      "      average_dark_current: 1.0\n",
      "    reset:\n",
      "      pre_hooks: []\n",
      "      post_hooks: []\n",
      "      output_file: None\n",
      "      output_dir: None\n",
      "      output_ext: .fits\n",
      "      output_use_model: False\n",
      "      output_use_index: True\n",
      "      save_results: False\n",
      "      skip: False\n",
      "      suffix: None\n",
      "      search_output_file: True\n",
      "      input_dir: ''\n",
      "    persistence:\n",
      "      pre_hooks: []\n",
      "      post_hooks: []\n",
      "      output_file: None\n",
      "      output_dir: None\n",
      "      output_ext: .fits\n",
      "      output_use_model: False\n",
      "      output_use_index: True\n",
      "      save_results: False\n",
      "      skip: True\n",
      "      suffix: None\n",
      "      search_output_file: True\n",
      "      input_dir: ''\n",
      "      input_trapsfilled: ''\n",
      "      flag_pers_cutoff: 40.0\n",
      "      save_persistence: False\n",
      "      save_trapsfilled: True\n",
      "      modify_input: False\n",
      "    charge_migration:\n",
      "      pre_hooks: []\n",
      "      post_hooks: []\n",
      "      output_file: None\n",
      "      output_dir: None\n",
      "      output_ext: .fits\n",
      "      output_use_model: False\n",
      "      output_use_index: True\n",
      "      save_results: False\n",
      "      skip: True\n",
      "      suffix: None\n",
      "      search_output_file: True\n",
      "      input_dir: ''\n",
      "      signal_threshold: 25000.0\n",
      "    jump:\n",
      "      pre_hooks: []\n",
      "      post_hooks: []\n",
      "      output_file: None\n",
      "      output_dir: None\n",
      "      output_ext: .fits\n",
      "      output_use_model: False\n",
      "      output_use_index: True\n",
      "      save_results: False\n",
      "      skip: False\n",
      "      suffix: None\n",
      "      search_output_file: True\n",
      "      input_dir: ''\n",
      "      rejection_threshold: 5.0\n",
      "      three_group_rejection_threshold: 6.0\n",
      "      four_group_rejection_threshold: 5.0\n",
      "      maximum_cores: '1'\n",
      "      flag_4_neighbors: True\n",
      "      max_jump_to_flag_neighbors: 1000\n",
      "      min_jump_to_flag_neighbors: 30\n",
      "      after_jump_flag_dn1: 500\n",
      "      after_jump_flag_time1: 15\n",
      "      after_jump_flag_dn2: 1000\n",
      "      after_jump_flag_time2: 3000\n",
      "      expand_large_events: False\n",
      "      min_sat_area: 1\n",
      "      min_jump_area: 0\n",
      "      expand_factor: 0\n",
      "      use_ellipses: False\n",
      "      sat_required_snowball: False\n",
      "      min_sat_radius_extend: 0.0\n",
      "      sat_expand: 0\n",
      "      edge_size: 0\n",
      "      mask_snowball_core_next_int: True\n",
      "      snowball_time_masked_next_int: 4000\n",
      "      find_showers: True\n",
      "      max_shower_amplitude: 4.0\n",
      "      extend_snr_threshold: 3.0\n",
      "      extend_min_area: 50\n",
      "      extend_inner_radius: 1\n",
      "      extend_outer_radius: 2.6\n",
      "      extend_ellipse_expand_ratio: 1.1\n",
      "      time_masked_after_shower: 30\n",
      "      min_diffs_single_pass: 10\n",
      "      max_extended_radius: 200\n",
      "      minimum_groups: 3\n",
      "      minimum_sigclip_groups: 100\n",
      "      only_use_ints: True\n",
      "    clean_flicker_noise:\n",
      "      pre_hooks: []\n",
      "      post_hooks: []\n",
      "      output_file: None\n",
      "      output_dir: None\n",
      "      output_ext: .fits\n",
      "      output_use_model: False\n",
      "      output_use_index: True\n",
      "      save_results: False\n",
      "      skip: True\n",
      "      suffix: None\n",
      "      search_output_file: True\n",
      "      input_dir: ''\n",
      "      fit_method: median\n",
      "      fit_by_channel: False\n",
      "      background_method: median\n",
      "      background_box_size: None\n",
      "      mask_science_regions: False\n",
      "      apply_flat_field: False\n",
      "      n_sigma: 2.0\n",
      "      fit_histogram: False\n",
      "      single_mask: True\n",
      "      user_mask: None\n",
      "      save_mask: False\n",
      "      save_background: False\n",
      "      save_noise: False\n",
      "    ramp_fit:\n",
      "      pre_hooks: []\n",
      "      post_hooks: []\n",
      "      output_file: None\n",
      "      output_dir: None\n",
      "      output_ext: .fits\n",
      "      output_use_model: False\n",
      "      output_use_index: True\n",
      "      save_results: False\n",
      "      skip: False\n",
      "      suffix: None\n",
      "      search_output_file: True\n",
      "      input_dir: ''\n",
      "      algorithm: OLS_C\n",
      "      int_name: ''\n",
      "      save_opt: False\n",
      "      opt_name: ''\n",
      "      suppress_one_group: True\n",
      "      firstgroup: None\n",
      "      lastgroup: None\n",
      "      maximum_cores: '1'\n",
      "    gain_scale:\n",
      "      pre_hooks: []\n",
      "      post_hooks: []\n",
      "      output_file: None\n",
      "      output_dir: None\n",
      "      output_ext: .fits\n",
      "      output_use_model: False\n",
      "      output_use_index: True\n",
      "      save_results: False\n",
      "      skip: False\n",
      "      suffix: None\n",
      "      search_output_file: True\n",
      "      input_dir: ''\n"
     ]
    },
    {
     "name": "stderr",
     "output_type": "stream",
     "text": [
      "2025-06-16 19:20:45,127 - stpipe.Detector1Pipeline - INFO - Prefetching reference files for dataset: 'jw04496004001_03103_00001-seg001_mirimage_uncal.fits' reftypes = ['dark', 'emicorr', 'gain', 'linearity', 'mask', 'readnoise', 'refpix', 'reset', 'saturation', 'sirskernel', 'superbias']\n"
     ]
    },
    {
     "name": "stderr",
     "output_type": "stream",
     "text": [
      "2025-06-16 19:20:45,130 - CRDS - INFO -  Fetching  /home/runner/crds/references/jwst/miri/jwst_miri_dark_0102.fits  252.0 M bytes  (1 / 8 files) (0 / 307.8 M bytes)\n"
     ]
    },
    {
     "name": "stderr",
     "output_type": "stream",
     "text": [
      "2025-06-16 19:21:01,316 - CRDS - INFO -  Fetching  /home/runner/crds/references/jwst/miri/jwst_miri_emicorr_0002.asdf   16.9 K bytes  (2 / 8 files) (252.0 M / 307.8 M bytes)\n"
     ]
    },
    {
     "name": "stderr",
     "output_type": "stream",
     "text": [
      "2025-06-16 19:21:01,429 - CRDS - INFO -  Fetching  /home/runner/crds/references/jwst/miri/jwst_miri_gain_0042.fits    8.5 M bytes  (3 / 8 files) (252.0 M / 307.8 M bytes)\n"
     ]
    },
    {
     "name": "stderr",
     "output_type": "stream",
     "text": [
      "2025-06-16 19:21:01,677 - CRDS - INFO -  Fetching  /home/runner/crds/references/jwst/miri/jwst_miri_linearity_0032.fits   25.4 M bytes  (4 / 8 files) (260.5 M / 307.8 M bytes)\n"
     ]
    },
    {
     "name": "stderr",
     "output_type": "stream",
     "text": [
      "2025-06-16 19:21:02,125 - CRDS - INFO -  Fetching  /home/runner/crds/references/jwst/miri/jwst_miri_mask_0036.fits    4.3 M bytes  (5 / 8 files) (285.9 M / 307.8 M bytes)\n"
     ]
    },
    {
     "name": "stderr",
     "output_type": "stream",
     "text": [
      "2025-06-16 19:21:02,574 - CRDS - INFO -  Fetching  /home/runner/crds/references/jwst/miri/jwst_miri_readnoise_0085.fits    4.2 M bytes  (6 / 8 files) (290.1 M / 307.8 M bytes)\n"
     ]
    },
    {
     "name": "stderr",
     "output_type": "stream",
     "text": [
      "2025-06-16 19:21:02,865 - CRDS - INFO -  Fetching  /home/runner/crds/references/jwst/miri/jwst_miri_reset_0080.fits    4.9 M bytes  (7 / 8 files) (294.3 M / 307.8 M bytes)\n"
     ]
    },
    {
     "name": "stderr",
     "output_type": "stream",
     "text": [
      "2025-06-16 19:21:03,238 - CRDS - INFO -  Fetching  /home/runner/crds/references/jwst/miri/jwst_miri_saturation_0034.fits    8.5 M bytes  (8 / 8 files) (299.3 M / 307.8 M bytes)\n"
     ]
    },
    {
     "name": "stderr",
     "output_type": "stream",
     "text": [
      "2025-06-16 19:21:03,882 - stpipe.Detector1Pipeline - INFO - Prefetch for DARK reference file is '/home/runner/crds/references/jwst/miri/jwst_miri_dark_0102.fits'.\n"
     ]
    },
    {
     "name": "stderr",
     "output_type": "stream",
     "text": [
      "2025-06-16 19:21:03,883 - stpipe.Detector1Pipeline - INFO - Prefetch for EMICORR reference file is '/home/runner/crds/references/jwst/miri/jwst_miri_emicorr_0002.asdf'.\n"
     ]
    },
    {
     "name": "stderr",
     "output_type": "stream",
     "text": [
      "2025-06-16 19:21:03,883 - stpipe.Detector1Pipeline - INFO - Prefetch for GAIN reference file is '/home/runner/crds/references/jwst/miri/jwst_miri_gain_0042.fits'.\n"
     ]
    },
    {
     "name": "stderr",
     "output_type": "stream",
     "text": [
      "2025-06-16 19:21:03,884 - stpipe.Detector1Pipeline - INFO - Prefetch for LINEARITY reference file is '/home/runner/crds/references/jwst/miri/jwst_miri_linearity_0032.fits'.\n"
     ]
    },
    {
     "name": "stderr",
     "output_type": "stream",
     "text": [
      "2025-06-16 19:21:03,884 - stpipe.Detector1Pipeline - INFO - Prefetch for MASK reference file is '/home/runner/crds/references/jwst/miri/jwst_miri_mask_0036.fits'.\n"
     ]
    },
    {
     "name": "stderr",
     "output_type": "stream",
     "text": [
      "2025-06-16 19:21:03,885 - stpipe.Detector1Pipeline - INFO - Prefetch for READNOISE reference file is '/home/runner/crds/references/jwst/miri/jwst_miri_readnoise_0085.fits'.\n"
     ]
    },
    {
     "name": "stderr",
     "output_type": "stream",
     "text": [
      "2025-06-16 19:21:03,885 - stpipe.Detector1Pipeline - INFO - Prefetch for REFPIX reference file is 'N/A'.\n"
     ]
    },
    {
     "name": "stderr",
     "output_type": "stream",
     "text": [
      "2025-06-16 19:21:03,886 - stpipe.Detector1Pipeline - INFO - Prefetch for RESET reference file is '/home/runner/crds/references/jwst/miri/jwst_miri_reset_0080.fits'.\n"
     ]
    },
    {
     "name": "stderr",
     "output_type": "stream",
     "text": [
      "2025-06-16 19:21:03,886 - stpipe.Detector1Pipeline - INFO - Prefetch for SATURATION reference file is '/home/runner/crds/references/jwst/miri/jwst_miri_saturation_0034.fits'.\n"
     ]
    },
    {
     "name": "stderr",
     "output_type": "stream",
     "text": [
      "2025-06-16 19:21:03,887 - stpipe.Detector1Pipeline - INFO - Prefetch for SIRSKERNEL reference file is 'N/A'.\n"
     ]
    },
    {
     "name": "stderr",
     "output_type": "stream",
     "text": [
      "2025-06-16 19:21:03,887 - stpipe.Detector1Pipeline - INFO - Prefetch for SUPERBIAS reference file is 'N/A'.\n"
     ]
    },
    {
     "name": "stderr",
     "output_type": "stream",
     "text": [
      "2025-06-16 19:21:03,890 - stpipe.Detector1Pipeline - INFO - Starting calwebb_detector1 ...\n"
     ]
    },
    {
     "name": "stderr",
     "output_type": "stream",
     "text": [
      "2025-06-16 19:21:04,279 - stpipe.Detector1Pipeline.group_scale - INFO - Step group_scale running with args (<RampModel(288, 10, 416, 72) from jw04496004001_03103_00001-seg001_mirimage_uncal.fits>,).\n"
     ]
    },
    {
     "name": "stderr",
     "output_type": "stream",
     "text": [
      "2025-06-16 19:21:04,287 - stpipe.Detector1Pipeline.group_scale - INFO - NFRAMES and FRMDIVSR are equal; correction not needed\n"
     ]
    },
    {
     "name": "stderr",
     "output_type": "stream",
     "text": [
      "2025-06-16 19:21:04,288 - stpipe.Detector1Pipeline.group_scale - INFO - Step will be skipped\n"
     ]
    },
    {
     "name": "stderr",
     "output_type": "stream",
     "text": [
      "2025-06-16 19:21:04,289 - stpipe.Detector1Pipeline.group_scale - INFO - Step group_scale done\n"
     ]
    },
    {
     "name": "stderr",
     "output_type": "stream",
     "text": [
      "2025-06-16 19:21:04,386 - stpipe.Detector1Pipeline.dq_init - INFO - Step dq_init running with args (<RampModel(288, 10, 416, 72) from jw04496004001_03103_00001-seg001_mirimage_uncal.fits>,).\n"
     ]
    },
    {
     "name": "stderr",
     "output_type": "stream",
     "text": [
      "2025-06-16 19:21:04,404 - stpipe.Detector1Pipeline.dq_init - INFO - Using MASK reference file /home/runner/crds/references/jwst/miri/jwst_miri_mask_0036.fits\n"
     ]
    },
    {
     "name": "stderr",
     "output_type": "stream",
     "text": [
      "2025-06-16 19:21:04,516 - stpipe.Detector1Pipeline.dq_init - WARNING - Keyword RESERVED_4 does not correspond to an existing DQ mnemonic, so will be ignored\n"
     ]
    },
    {
     "name": "stderr",
     "output_type": "stream",
     "text": [
      "2025-06-16 19:21:04,530 - stpipe.Detector1Pipeline.dq_init - WARNING - Keyword UNRELIABLE_RESET does not correspond to an existing DQ mnemonic, so will be ignored\n"
     ]
    },
    {
     "name": "stderr",
     "output_type": "stream",
     "text": [
      "2025-06-16 19:21:04,534 - stpipe.Detector1Pipeline.dq_init - INFO - Extracting mask subarray to match science data\n"
     ]
    },
    {
     "name": "stderr",
     "output_type": "stream",
     "text": [
      "2025-06-16 19:21:04,620 - CRDS - INFO -  Calibration SW Found: jwst 1.18.1 (/opt/hostedtoolcache/Python/3.11.13/x64/lib/python3.11/site-packages/jwst-1.18.1.dist-info)\n"
     ]
    },
    {
     "name": "stderr",
     "output_type": "stream",
     "text": [
      "2025-06-16 19:21:04,712 - stpipe.Detector1Pipeline.dq_init - INFO - Step dq_init done\n"
     ]
    },
    {
     "name": "stderr",
     "output_type": "stream",
     "text": [
      "2025-06-16 19:21:04,817 - stpipe.Detector1Pipeline.emicorr - INFO - Step emicorr running with args (<RampModel(288, 10, 416, 72) from jw04496004001_03103_00001-seg001_mirimage_uncal.fits>,).\n"
     ]
    },
    {
     "name": "stderr",
     "output_type": "stream",
     "text": [
      "2025-06-16 19:21:04,917 - stpipe.Detector1Pipeline.emicorr - INFO - Using CRDS reference file: /home/runner/crds/references/jwst/miri/jwst_miri_emicorr_0002.asdf\n"
     ]
    },
    {
     "name": "stderr",
     "output_type": "stream",
     "text": [
      "2025-06-16 19:21:04,936 - stpipe.Detector1Pipeline.emicorr - INFO - Using reference file to get subarray case.\n"
     ]
    },
    {
     "name": "stderr",
     "output_type": "stream",
     "text": [
      "2025-06-16 19:21:04,936 - stpipe.Detector1Pipeline.emicorr - INFO - With configuration: Subarray=SLITLESSPRISM, Read_pattern=FASTR1, Detector=MIRIMAGE\n"
     ]
    },
    {
     "name": "stderr",
     "output_type": "stream",
     "text": [
      "2025-06-16 19:21:04,937 - stpipe.Detector1Pipeline.emicorr - INFO - Will correct data for the following 2 frequencies: \n"
     ]
    },
    {
     "name": "stderr",
     "output_type": "stream",
     "text": [
      "2025-06-16 19:21:04,938 - stpipe.Detector1Pipeline.emicorr - INFO -    ['Hz390', 'Hz10']\n"
     ]
    },
    {
     "name": "stderr",
     "output_type": "stream",
     "text": [
      "2025-06-16 19:21:04,938 - stpipe.Detector1Pipeline.emicorr - INFO - Running EMI fit with algorithm = 'sequential'.\n"
     ]
    },
    {
     "name": "stderr",
     "output_type": "stream",
     "text": [
      "2025-06-16 19:21:04,939 - stpipe.Detector1Pipeline.emicorr - INFO - Correcting for frequency: 390.625 Hz  (1 out of 2)\n"
     ]
    },
    {
     "name": "stderr",
     "output_type": "stream",
     "text": [
      "2025-06-16 19:21:04,940 - stpipe.Detector1Pipeline.emicorr - INFO - Subtracting self-superbias from each group of each integration\n"
     ]
    },
    {
     "name": "stderr",
     "output_type": "stream",
     "text": [
      "2025-06-16 19:21:04,941 - stpipe.Detector1Pipeline.emicorr - INFO - Doing phase calculation per integration\n"
     ]
    },
    {
     "name": "stderr",
     "output_type": "stream",
     "text": [
      "2025-06-16 19:21:11,171 - stpipe.Detector1Pipeline.emicorr - INFO - Calculating the phase amplitude for 128 bins\n"
     ]
    },
    {
     "name": "stderr",
     "output_type": "stream",
     "text": [
      "2025-06-16 19:21:11,264 - stpipe.Detector1Pipeline.emicorr - INFO - Using reference file to measure phase shift\n"
     ]
    },
    {
     "name": "stderr",
     "output_type": "stream",
     "text": [
      "2025-06-16 19:21:11,285 - stpipe.Detector1Pipeline.emicorr - INFO - Creating phased-matched noise model to subtract from data\n"
     ]
    },
    {
     "name": "stderr",
     "output_type": "stream",
     "text": [
      "2025-06-16 19:21:11,391 - stpipe.Detector1Pipeline.emicorr - INFO - Subtracting EMI noise from data\n"
     ]
    },
    {
     "name": "stderr",
     "output_type": "stream",
     "text": [
      "2025-06-16 19:21:11,528 - stpipe.Detector1Pipeline.emicorr - INFO - Correcting for frequency: 10.039216 Hz  (2 out of 2)\n"
     ]
    },
    {
     "name": "stderr",
     "output_type": "stream",
     "text": [
      "2025-06-16 19:21:11,529 - stpipe.Detector1Pipeline.emicorr - INFO - Subtracting self-superbias from each group of each integration\n"
     ]
    },
    {
     "name": "stderr",
     "output_type": "stream",
     "text": [
      "2025-06-16 19:21:11,530 - stpipe.Detector1Pipeline.emicorr - INFO - Doing phase calculation per integration\n"
     ]
    },
    {
     "name": "stderr",
     "output_type": "stream",
     "text": [
      "2025-06-16 19:21:17,830 - stpipe.Detector1Pipeline.emicorr - INFO - Calculating the phase amplitude for 500 bins\n"
     ]
    },
    {
     "name": "stderr",
     "output_type": "stream",
     "text": [
      "2025-06-16 19:21:18,134 - stpipe.Detector1Pipeline.emicorr - INFO - Using reference file to measure phase shift\n"
     ]
    },
    {
     "name": "stderr",
     "output_type": "stream",
     "text": [
      "2025-06-16 19:21:18,174 - stpipe.Detector1Pipeline.emicorr - INFO - Creating phased-matched noise model to subtract from data\n"
     ]
    },
    {
     "name": "stderr",
     "output_type": "stream",
     "text": [
      "2025-06-16 19:21:18,270 - stpipe.Detector1Pipeline.emicorr - INFO - Subtracting EMI noise from data\n"
     ]
    },
    {
     "name": "stderr",
     "output_type": "stream",
     "text": [
      "2025-06-16 19:21:18,414 - stpipe.Detector1Pipeline.emicorr - INFO - Step emicorr done\n"
     ]
    },
    {
     "name": "stderr",
     "output_type": "stream",
     "text": [
      "2025-06-16 19:21:18,511 - stpipe.Detector1Pipeline.saturation - INFO - Step saturation running with args (<RampModel(288, 10, 416, 72) from jw04496004001_03103_00001-seg001_mirimage_uncal.fits>,).\n"
     ]
    },
    {
     "name": "stderr",
     "output_type": "stream",
     "text": [
      "2025-06-16 19:21:18,807 - stpipe.Detector1Pipeline.saturation - INFO - Using SATURATION reference file /home/runner/crds/references/jwst/miri/jwst_miri_saturation_0034.fits\n"
     ]
    },
    {
     "name": "stderr",
     "output_type": "stream",
     "text": [
      "2025-06-16 19:21:18,832 - stpipe.Detector1Pipeline.saturation - WARNING - Keyword RESERVED_4 does not correspond to an existing DQ mnemonic, so will be ignored\n"
     ]
    },
    {
     "name": "stderr",
     "output_type": "stream",
     "text": [
      "2025-06-16 19:21:18,842 - stpipe.Detector1Pipeline.saturation - WARNING - Keyword UNRELIABLE_RESET does not correspond to an existing DQ mnemonic, so will be ignored\n"
     ]
    },
    {
     "name": "stderr",
     "output_type": "stream",
     "text": [
      "2025-06-16 19:21:18,921 - stpipe.Detector1Pipeline.saturation - INFO - Extracting reference file subarray to match science data\n"
     ]
    },
    {
     "name": "stderr",
     "output_type": "stream",
     "text": [
      "2025-06-16 19:21:18,930 - stpipe.Detector1Pipeline.saturation - INFO - Using read_pattern with nframes 1\n"
     ]
    },
    {
     "name": "stderr",
     "output_type": "stream",
     "text": [
      "2025-06-16 19:21:20,005 - stpipe.Detector1Pipeline.saturation - INFO - Detected 63 saturated pixels\n"
     ]
    },
    {
     "name": "stderr",
     "output_type": "stream",
     "text": [
      "2025-06-16 19:21:20,025 - stpipe.Detector1Pipeline.saturation - INFO - Detected 0 A/D floor pixels\n"
     ]
    },
    {
     "name": "stderr",
     "output_type": "stream",
     "text": [
      "2025-06-16 19:21:20,029 - stpipe.Detector1Pipeline.saturation - INFO - Step saturation done\n"
     ]
    },
    {
     "name": "stderr",
     "output_type": "stream",
     "text": [
      "2025-06-16 19:21:20,135 - stpipe.Detector1Pipeline.ipc - INFO - Step ipc running with args (<RampModel(288, 10, 416, 72) from jw04496004001_03103_00001-seg001_mirimage_uncal.fits>,).\n"
     ]
    },
    {
     "name": "stderr",
     "output_type": "stream",
     "text": [
      "2025-06-16 19:21:20,135 - stpipe.Detector1Pipeline.ipc - INFO - Step skipped.\n"
     ]
    },
    {
     "name": "stderr",
     "output_type": "stream",
     "text": [
      "2025-06-16 19:21:20,223 - stpipe.Detector1Pipeline.firstframe - INFO - Step firstframe running with args (<RampModel(288, 10, 416, 72) from jw04496004001_03103_00001-seg001_mirimage_uncal.fits>,).\n"
     ]
    },
    {
     "name": "stderr",
     "output_type": "stream",
     "text": [
      "2025-06-16 19:21:20,224 - stpipe.Detector1Pipeline.firstframe - INFO - Step skipped.\n"
     ]
    },
    {
     "name": "stderr",
     "output_type": "stream",
     "text": [
      "2025-06-16 19:21:20,313 - stpipe.Detector1Pipeline.lastframe - INFO - Step lastframe running with args (<RampModel(288, 10, 416, 72) from jw04496004001_03103_00001-seg001_mirimage_uncal.fits>,).\n"
     ]
    },
    {
     "name": "stderr",
     "output_type": "stream",
     "text": [
      "2025-06-16 19:21:20,400 - stpipe.Detector1Pipeline.lastframe - INFO - Step lastframe done\n"
     ]
    },
    {
     "name": "stderr",
     "output_type": "stream",
     "text": [
      "2025-06-16 19:21:20,497 - stpipe.Detector1Pipeline.reset - INFO - Step reset running with args (<RampModel(288, 10, 416, 72) from jw04496004001_03103_00001-seg001_mirimage_uncal.fits>,).\n"
     ]
    },
    {
     "name": "stderr",
     "output_type": "stream",
     "text": [
      "2025-06-16 19:21:20,527 - stpipe.Detector1Pipeline.reset - INFO - Using RESET reference file /home/runner/crds/references/jwst/miri/jwst_miri_reset_0080.fits\n"
     ]
    },
    {
     "name": "stderr",
     "output_type": "stream",
     "text": [
      "2025-06-16 19:21:20,550 - stpipe.Detector1Pipeline.reset - WARNING - Keyword RESERVED_4 does not correspond to an existing DQ mnemonic, so will be ignored\n"
     ]
    },
    {
     "name": "stderr",
     "output_type": "stream",
     "text": [
      "2025-06-16 19:21:20,553 - stpipe.Detector1Pipeline.reset - WARNING - Keyword UNRELIABLE_RESET does not correspond to an existing DQ mnemonic, so will be ignored\n"
     ]
    },
    {
     "name": "stderr",
     "output_type": "stream",
     "text": [
      "2025-06-16 19:21:20,805 - stpipe.Detector1Pipeline.reset - INFO - Step reset done\n"
     ]
    },
    {
     "name": "stderr",
     "output_type": "stream",
     "text": [
      "2025-06-16 19:21:20,904 - stpipe.Detector1Pipeline.linearity - INFO - Step linearity running with args (<RampModel(288, 10, 416, 72) from jw04496004001_03103_00001-seg001_mirimage_uncal.fits>,).\n"
     ]
    },
    {
     "name": "stderr",
     "output_type": "stream",
     "text": [
      "2025-06-16 19:21:20,927 - stpipe.Detector1Pipeline.linearity - INFO - Using Linearity reference file /home/runner/crds/references/jwst/miri/jwst_miri_linearity_0032.fits\n"
     ]
    },
    {
     "name": "stderr",
     "output_type": "stream",
     "text": [
      "2025-06-16 19:21:20,958 - stpipe.Detector1Pipeline.linearity - WARNING - Keyword RESERVED_4 does not correspond to an existing DQ mnemonic, so will be ignored\n"
     ]
    },
    {
     "name": "stderr",
     "output_type": "stream",
     "text": [
      "2025-06-16 19:21:20,968 - stpipe.Detector1Pipeline.linearity - WARNING - Keyword UNRELIABLE_RESET does not correspond to an existing DQ mnemonic, so will be ignored\n"
     ]
    },
    {
     "name": "stderr",
     "output_type": "stream",
     "text": [
      "2025-06-16 19:21:21,447 - stpipe.Detector1Pipeline.linearity - INFO - Step linearity done\n"
     ]
    },
    {
     "name": "stderr",
     "output_type": "stream",
     "text": [
      "2025-06-16 19:21:21,550 - stpipe.Detector1Pipeline.rscd - INFO - Step rscd running with args (<RampModel(288, 10, 416, 72) from jw04496004001_03103_00001-seg001_mirimage_uncal.fits>,).\n"
     ]
    },
    {
     "name": "stderr",
     "output_type": "stream",
     "text": [
      "2025-06-16 19:21:21,550 - stpipe.Detector1Pipeline.rscd - INFO - Step skipped.\n"
     ]
    },
    {
     "name": "stderr",
     "output_type": "stream",
     "text": [
      "2025-06-16 19:21:21,638 - stpipe.Detector1Pipeline.dark_current - INFO - Step dark_current running with args (<RampModel(288, 10, 416, 72) from jw04496004001_03103_00001-seg001_mirimage_uncal.fits>,).\n"
     ]
    },
    {
     "name": "stderr",
     "output_type": "stream",
     "text": [
      "2025-06-16 19:21:21,663 - stpipe.Detector1Pipeline.dark_current - INFO - Using DARK reference file /home/runner/crds/references/jwst/miri/jwst_miri_dark_0102.fits\n"
     ]
    },
    {
     "name": "stderr",
     "output_type": "stream",
     "text": [
      "2025-06-16 19:21:21,809 - stpipe.Detector1Pipeline.dark_current - INFO - Using Poisson noise from average dark current 1.0 e-/sec\n"
     ]
    },
    {
     "name": "stderr",
     "output_type": "stream",
     "text": [
      "2025-06-16 19:21:21,810 - stpipe.Detector1Pipeline.dark_current - INFO - Science data nints=288, ngroups=10, nframes=1, groupgap=0\n"
     ]
    },
    {
     "name": "stderr",
     "output_type": "stream",
     "text": [
      "2025-06-16 19:21:21,810 - stpipe.Detector1Pipeline.dark_current - INFO - Dark data nints=3, ngroups=350, nframes=1, groupgap=0\n"
     ]
    },
    {
     "name": "stderr",
     "output_type": "stream",
     "text": [
      "2025-06-16 19:21:21,942 - stpipe.Detector1Pipeline.dark_current - INFO - Step dark_current done\n"
     ]
    },
    {
     "name": "stderr",
     "output_type": "stream",
     "text": [
      "2025-06-16 19:21:22,038 - stpipe.Detector1Pipeline.refpix - INFO - Step refpix running with args (<RampModel(288, 10, 416, 72) from jw04496004001_03103_00001-seg001_mirimage_uncal.fits>,).\n"
     ]
    },
    {
     "name": "stderr",
     "output_type": "stream",
     "text": [
      "2025-06-16 19:21:22,123 - stpipe.Detector1Pipeline.refpix - WARNING - Refpix correction skipped for MIRI subarrays\n"
     ]
    },
    {
     "name": "stderr",
     "output_type": "stream",
     "text": [
      "2025-06-16 19:21:22,125 - stpipe.Detector1Pipeline.refpix - INFO - Step refpix done\n"
     ]
    },
    {
     "name": "stderr",
     "output_type": "stream",
     "text": [
      "2025-06-16 19:21:22,227 - stpipe.Detector1Pipeline.charge_migration - INFO - Step charge_migration running with args (<RampModel(288, 10, 416, 72) from jw04496004001_03103_00001-seg001_mirimage_uncal.fits>,).\n"
     ]
    },
    {
     "name": "stderr",
     "output_type": "stream",
     "text": [
      "2025-06-16 19:21:22,228 - stpipe.Detector1Pipeline.charge_migration - INFO - Step skipped.\n"
     ]
    },
    {
     "name": "stderr",
     "output_type": "stream",
     "text": [
      "2025-06-16 19:21:22,319 - stpipe.Detector1Pipeline.jump - INFO - Step jump running with args (<RampModel(288, 10, 416, 72) from jw04496004001_03103_00001-seg001_mirimage_uncal.fits>,).\n"
     ]
    },
    {
     "name": "stderr",
     "output_type": "stream",
     "text": [
      "2025-06-16 19:21:22,327 - stpipe.Detector1Pipeline.jump - INFO - CR rejection threshold = 5 sigma\n"
     ]
    },
    {
     "name": "stderr",
     "output_type": "stream",
     "text": [
      "2025-06-16 19:21:22,327 - stpipe.Detector1Pipeline.jump - INFO - Maximum cores to use = 1\n"
     ]
    },
    {
     "name": "stderr",
     "output_type": "stream",
     "text": [
      "2025-06-16 19:21:22,425 - stpipe.Detector1Pipeline.jump - INFO - Using GAIN reference file: /home/runner/crds/references/jwst/miri/jwst_miri_gain_0042.fits\n"
     ]
    },
    {
     "name": "stderr",
     "output_type": "stream",
     "text": [
      "2025-06-16 19:21:22,437 - stpipe.Detector1Pipeline.jump - INFO - Using READNOISE reference file: /home/runner/crds/references/jwst/miri/jwst_miri_readnoise_0085.fits\n"
     ]
    },
    {
     "name": "stderr",
     "output_type": "stream",
     "text": [
      "2025-06-16 19:21:22,465 - stpipe.Detector1Pipeline.jump - INFO - Extracting gain subarray to match science data\n"
     ]
    },
    {
     "name": "stderr",
     "output_type": "stream",
     "text": [
      "2025-06-16 19:21:22,471 - stpipe.Detector1Pipeline.jump - INFO - Extracting readnoise subarray to match science data\n"
     ]
    },
    {
     "name": "stderr",
     "output_type": "stream",
     "text": [
      "2025-06-16 19:21:22,539 - stpipe.Detector1Pipeline.jump - INFO - Executing two-point difference method\n"
     ]
    },
    {
     "name": "stderr",
     "output_type": "stream",
     "text": [
      "2025-06-16 19:21:24,816 - stpipe.Detector1Pipeline.jump - INFO -  Jump Step using sigma clip 2592 greater than 100, rejection threshold 5.0\n"
     ]
    },
    {
     "name": "stderr",
     "output_type": "stream",
     "text": [
      "2025-06-16 19:21:26,951 - stpipe.Detector1Pipeline.jump - INFO - Flagging Showers\n"
     ]
    },
    {
     "name": "stderr",
     "output_type": "stream",
     "text": [
      "2025-06-16 19:21:43,097 - stpipe.Detector1Pipeline.jump - INFO - Total showers= 0\n"
     ]
    },
    {
     "name": "stderr",
     "output_type": "stream",
     "text": [
      "2025-06-16 19:21:43,098 - stpipe.Detector1Pipeline.jump - INFO - Total elapsed time = 20.558 sec\n"
     ]
    },
    {
     "name": "stderr",
     "output_type": "stream",
     "text": [
      "2025-06-16 19:21:43,155 - stpipe.Detector1Pipeline.jump - INFO - The execution time in seconds: 20.828030\n"
     ]
    },
    {
     "name": "stderr",
     "output_type": "stream",
     "text": [
      "2025-06-16 19:21:43,158 - stpipe.Detector1Pipeline.jump - INFO - Step jump done\n"
     ]
    },
    {
     "name": "stderr",
     "output_type": "stream",
     "text": [
      "2025-06-16 19:21:43,255 - stpipe.Detector1Pipeline.clean_flicker_noise - INFO - Step clean_flicker_noise running with args (<RampModel(288, 10, 416, 72) from jw04496004001_03103_00001-seg001_mirimage_uncal.fits>,).\n"
     ]
    },
    {
     "name": "stderr",
     "output_type": "stream",
     "text": [
      "2025-06-16 19:21:43,255 - stpipe.Detector1Pipeline.clean_flicker_noise - INFO - Step skipped.\n"
     ]
    },
    {
     "name": "stderr",
     "output_type": "stream",
     "text": [
      "2025-06-16 19:21:43,682 - stpipe.Detector1Pipeline - INFO - Saved model in ./lrs_tso_demo_data/PID04496Obs004/stage1/jw04496004001_03103_00001-seg001_mirimage_ramp.fits\n"
     ]
    },
    {
     "name": "stderr",
     "output_type": "stream",
     "text": [
      "2025-06-16 19:21:43,779 - stpipe.Detector1Pipeline.ramp_fit - INFO - Step ramp_fit running with args (<RampModel(288, 10, 416, 72) from jw04496004001_03103_00001-seg001_mirimage_ramp.fits>,).\n"
     ]
    },
    {
     "name": "stderr",
     "output_type": "stream",
     "text": [
      "2025-06-16 19:21:43,904 - stpipe.Detector1Pipeline.ramp_fit - INFO - Using READNOISE reference file: /home/runner/crds/references/jwst/miri/jwst_miri_readnoise_0085.fits\n"
     ]
    },
    {
     "name": "stderr",
     "output_type": "stream",
     "text": [
      "2025-06-16 19:21:43,905 - stpipe.Detector1Pipeline.ramp_fit - INFO - Using GAIN reference file: /home/runner/crds/references/jwst/miri/jwst_miri_gain_0042.fits\n"
     ]
    },
    {
     "name": "stderr",
     "output_type": "stream",
     "text": [
      "2025-06-16 19:21:43,932 - stpipe.Detector1Pipeline.ramp_fit - INFO - Extracting gain subarray to match science data\n"
     ]
    },
    {
     "name": "stderr",
     "output_type": "stream",
     "text": [
      "2025-06-16 19:21:43,939 - stpipe.Detector1Pipeline.ramp_fit - INFO - Extracting readnoise subarray to match science data\n"
     ]
    },
    {
     "name": "stderr",
     "output_type": "stream",
     "text": [
      "2025-06-16 19:21:43,945 - stpipe.Detector1Pipeline.ramp_fit - INFO - Using algorithm = OLS_C\n"
     ]
    },
    {
     "name": "stderr",
     "output_type": "stream",
     "text": [
      "2025-06-16 19:21:43,946 - stpipe.Detector1Pipeline.ramp_fit - INFO - Using weighting = optimal\n"
     ]
    },
    {
     "name": "stderr",
     "output_type": "stream",
     "text": [
      "2025-06-16 19:21:44,588 - stpipe.Detector1Pipeline.ramp_fit - INFO - Number of multiprocessing slices: 1\n"
     ]
    },
    {
     "name": "stderr",
     "output_type": "stream",
     "text": [
      "2025-06-16 19:21:44,590 - stpipe.Detector1Pipeline.ramp_fit - INFO - Number of leading groups that are flagged as DO_NOT_USE: 0\n"
     ]
    },
    {
     "name": "stderr",
     "output_type": "stream",
     "text": [
      "2025-06-16 19:21:44,592 - stpipe.Detector1Pipeline.ramp_fit - INFO - MIRI dataset has all pixels in the final group flagged as DO_NOT_USE.\n"
     ]
    },
    {
     "name": "stderr",
     "output_type": "stream",
     "text": [
      "2025-06-16 19:21:49,489 - stpipe.Detector1Pipeline.ramp_fit - INFO - Ramp Fitting C Time: 4.895890712738037\n"
     ]
    },
    {
     "name": "stderr",
     "output_type": "stream",
     "text": [
      "2025-06-16 19:21:49,545 - stpipe.Detector1Pipeline.ramp_fit - INFO - Step ramp_fit done\n"
     ]
    },
    {
     "name": "stderr",
     "output_type": "stream",
     "text": [
      "2025-06-16 19:21:49,641 - stpipe.Detector1Pipeline.gain_scale - INFO - Step gain_scale running with args (<ImageModel(416, 72) from jw04496004001_03103_00001-seg001_mirimage_ramp.fits>,).\n"
     ]
    },
    {
     "name": "stderr",
     "output_type": "stream",
     "text": [
      "2025-06-16 19:21:49,678 - stpipe.Detector1Pipeline.gain_scale - INFO - GAINFACT not found in gain reference file\n"
     ]
    },
    {
     "name": "stderr",
     "output_type": "stream",
     "text": [
      "2025-06-16 19:21:49,679 - stpipe.Detector1Pipeline.gain_scale - INFO - Step will be skipped\n"
     ]
    },
    {
     "name": "stderr",
     "output_type": "stream",
     "text": [
      "2025-06-16 19:21:49,681 - stpipe.Detector1Pipeline.gain_scale - INFO - Step gain_scale done\n"
     ]
    },
    {
     "name": "stderr",
     "output_type": "stream",
     "text": [
      "2025-06-16 19:21:49,776 - stpipe.Detector1Pipeline.gain_scale - INFO - Step gain_scale running with args (<CubeModel(288, 416, 72) from jw04496004001_03103_00001-seg001_mirimage_ramp.fits>,).\n"
     ]
    },
    {
     "name": "stderr",
     "output_type": "stream",
     "text": [
      "2025-06-16 19:21:49,805 - stpipe.Detector1Pipeline.gain_scale - INFO - GAINFACT not found in gain reference file\n"
     ]
    },
    {
     "name": "stderr",
     "output_type": "stream",
     "text": [
      "2025-06-16 19:21:49,806 - stpipe.Detector1Pipeline.gain_scale - INFO - Step will be skipped\n"
     ]
    },
    {
     "name": "stderr",
     "output_type": "stream",
     "text": [
      "2025-06-16 19:21:49,809 - stpipe.Detector1Pipeline.gain_scale - INFO - Step gain_scale done\n"
     ]
    },
    {
     "name": "stderr",
     "output_type": "stream",
     "text": [
      "2025-06-16 19:21:49,984 - stpipe.Detector1Pipeline - INFO - Saved model in ./lrs_tso_demo_data/PID04496Obs004/stage1/jw04496004001_03103_00001-seg001_mirimage_rateints.fits\n"
     ]
    },
    {
     "name": "stderr",
     "output_type": "stream",
     "text": [
      "2025-06-16 19:21:49,985 - stpipe.Detector1Pipeline - INFO - ... ending calwebb_detector1\n"
     ]
    },
    {
     "name": "stderr",
     "output_type": "stream",
     "text": [
      "2025-06-16 19:21:49,987 - stpipe.Detector1Pipeline - INFO - Results used CRDS context: jwst_1364.pmap\n"
     ]
    },
    {
     "name": "stderr",
     "output_type": "stream",
     "text": [
      "2025-06-16 19:21:50,066 - stpipe.Detector1Pipeline - INFO - Saved model in ./lrs_tso_demo_data/PID04496Obs004/stage1/jw04496004001_03103_00001-seg001_mirimage_rate.fits\n"
     ]
    },
    {
     "name": "stderr",
     "output_type": "stream",
     "text": [
      "2025-06-16 19:21:50,066 - stpipe.Detector1Pipeline - INFO - Step Detector1Pipeline done\n"
     ]
    },
    {
     "name": "stderr",
     "output_type": "stream",
     "text": [
      "2025-06-16 19:21:50,067 - stpipe - INFO - Results used jwst version: 1.18.1\n"
     ]
    }
   ],
   "source": [
    "# Run the pipeline on the selected input files one by one with the custom parameter dictionary \n",
    "if do_det1:\n",
    "    for file in input_files:\n",
    "        Detector1Pipeline.call(file, steps=det1dict, save_results=True, output_dir=det1_dir)\n",
    "else:\n",
    "    print('Skipping Detector1 processing...')"
   ]
  },
  {
   "cell_type": "markdown",
   "id": "034cd83e",
   "metadata": {},
   "source": [
    "### Processing Background Files\n",
    "\n",
    "Select for only the science data from the dedicated background observation, excluding target acquisition and/or pointing verification exposures."
   ]
  },
  {
   "cell_type": "code",
   "execution_count": 17,
   "id": "08d770e1",
   "metadata": {
    "execution": {
     "iopub.execute_input": "2025-06-16T19:21:50.071668Z",
     "iopub.status.busy": "2025-06-16T19:21:50.071497Z",
     "iopub.status.idle": "2025-06-16T19:21:50.076612Z",
     "shell.execute_reply": "2025-06-16T19:21:50.076151Z"
    }
   },
   "outputs": [
    {
     "name": "stdout",
     "output_type": "stream",
     "text": [
      "Found 1 background uncal files\n"
     ]
    }
   ],
   "source": [
    "if bkg_data:\n",
    "    # Grab all downloaded uncal files\n",
    "    uncal_files = sorted(glob.glob(os.path.join(uncal_bkgdir, '*_uncal.fits')))\n",
    "\n",
    "    # Only choose science exposures, which have the exposure type setting 'MIR_LRS-FIXEDSLIT'\n",
    "    input_files = np.array([fi for fi in uncal_files if fits.getheader(fi, 'PRIMARY')['EXP_TYPE'] == 'MIR_LRS-SLITLESS'])\n",
    "\n",
    "    print('Found ' + str(len(input_files)) + ' background uncal files')\n",
    "else:\n",
    "    print('No background data provided')"
   ]
  },
  {
   "cell_type": "markdown",
   "id": "279d4a16",
   "metadata": {},
   "source": [
    "Run the Detector1 pipeline on the selected uncalibrated backgtound data using the call method. "
   ]
  },
  {
   "cell_type": "code",
   "execution_count": 18,
   "id": "9a9cef98",
   "metadata": {
    "execution": {
     "iopub.execute_input": "2025-06-16T19:21:50.078180Z",
     "iopub.status.busy": "2025-06-16T19:21:50.078020Z",
     "iopub.status.idle": "2025-06-16T19:22:32.017758Z",
     "shell.execute_reply": "2025-06-16T19:22:32.017244Z"
    },
    "tags": [
     "scroll-output"
    ]
   },
   "outputs": [
    {
     "name": "stderr",
     "output_type": "stream",
     "text": [
      "2025-06-16 19:21:50,162 - stpipe - INFO - PARS-EMICORRSTEP parameters found: /home/runner/crds/references/jwst/miri/jwst_miri_pars-emicorrstep_0003.asdf\n"
     ]
    },
    {
     "name": "stderr",
     "output_type": "stream",
     "text": [
      "2025-06-16 19:21:50,176 - stpipe - INFO - PARS-DARKCURRENTSTEP parameters found: /home/runner/crds/references/jwst/miri/jwst_miri_pars-darkcurrentstep_0001.asdf\n"
     ]
    },
    {
     "name": "stderr",
     "output_type": "stream",
     "text": [
      "2025-06-16 19:21:50,187 - stpipe - INFO - PARS-JUMPSTEP parameters found: /home/runner/crds/references/jwst/miri/jwst_miri_pars-jumpstep_0004.asdf\n"
     ]
    },
    {
     "name": "stderr",
     "output_type": "stream",
     "text": [
      "2025-06-16 19:21:50,199 - stpipe - INFO - PARS-DETECTOR1PIPELINE parameters found: /home/runner/crds/references/jwst/miri/jwst_miri_pars-detector1pipeline_0006.asdf\n"
     ]
    },
    {
     "name": "stderr",
     "output_type": "stream",
     "text": [
      "2025-06-16 19:21:50,218 - stpipe.Detector1Pipeline - INFO - Detector1Pipeline instance created.\n"
     ]
    },
    {
     "name": "stderr",
     "output_type": "stream",
     "text": [
      "2025-06-16 19:21:50,220 - stpipe.Detector1Pipeline.group_scale - INFO - GroupScaleStep instance created.\n"
     ]
    },
    {
     "name": "stderr",
     "output_type": "stream",
     "text": [
      "2025-06-16 19:21:50,221 - stpipe.Detector1Pipeline.dq_init - INFO - DQInitStep instance created.\n"
     ]
    },
    {
     "name": "stderr",
     "output_type": "stream",
     "text": [
      "2025-06-16 19:21:50,222 - stpipe.Detector1Pipeline.emicorr - INFO - EmiCorrStep instance created.\n"
     ]
    },
    {
     "name": "stderr",
     "output_type": "stream",
     "text": [
      "2025-06-16 19:21:50,223 - stpipe.Detector1Pipeline.saturation - INFO - SaturationStep instance created.\n"
     ]
    },
    {
     "name": "stderr",
     "output_type": "stream",
     "text": [
      "2025-06-16 19:21:50,224 - stpipe.Detector1Pipeline.ipc - INFO - IPCStep instance created.\n"
     ]
    },
    {
     "name": "stderr",
     "output_type": "stream",
     "text": [
      "2025-06-16 19:21:50,225 - stpipe.Detector1Pipeline.superbias - INFO - SuperBiasStep instance created.\n"
     ]
    },
    {
     "name": "stderr",
     "output_type": "stream",
     "text": [
      "2025-06-16 19:21:50,227 - stpipe.Detector1Pipeline.refpix - INFO - RefPixStep instance created.\n"
     ]
    },
    {
     "name": "stderr",
     "output_type": "stream",
     "text": [
      "2025-06-16 19:21:50,228 - stpipe.Detector1Pipeline.rscd - INFO - RscdStep instance created.\n"
     ]
    },
    {
     "name": "stderr",
     "output_type": "stream",
     "text": [
      "2025-06-16 19:21:50,229 - stpipe.Detector1Pipeline.firstframe - INFO - FirstFrameStep instance created.\n"
     ]
    },
    {
     "name": "stderr",
     "output_type": "stream",
     "text": [
      "2025-06-16 19:21:50,230 - stpipe.Detector1Pipeline.lastframe - INFO - LastFrameStep instance created.\n"
     ]
    },
    {
     "name": "stderr",
     "output_type": "stream",
     "text": [
      "2025-06-16 19:21:50,231 - stpipe.Detector1Pipeline.linearity - INFO - LinearityStep instance created.\n"
     ]
    },
    {
     "name": "stderr",
     "output_type": "stream",
     "text": [
      "2025-06-16 19:21:50,232 - stpipe.Detector1Pipeline.dark_current - INFO - DarkCurrentStep instance created.\n"
     ]
    },
    {
     "name": "stderr",
     "output_type": "stream",
     "text": [
      "2025-06-16 19:21:50,233 - stpipe.Detector1Pipeline.reset - INFO - ResetStep instance created.\n"
     ]
    },
    {
     "name": "stderr",
     "output_type": "stream",
     "text": [
      "2025-06-16 19:21:50,235 - stpipe.Detector1Pipeline.persistence - INFO - PersistenceStep instance created.\n"
     ]
    },
    {
     "name": "stderr",
     "output_type": "stream",
     "text": [
      "2025-06-16 19:21:50,236 - stpipe.Detector1Pipeline.charge_migration - INFO - ChargeMigrationStep instance created.\n"
     ]
    },
    {
     "name": "stderr",
     "output_type": "stream",
     "text": [
      "2025-06-16 19:21:50,238 - stpipe.Detector1Pipeline.jump - INFO - JumpStep instance created.\n"
     ]
    },
    {
     "name": "stderr",
     "output_type": "stream",
     "text": [
      "2025-06-16 19:21:50,239 - stpipe.Detector1Pipeline.clean_flicker_noise - INFO - CleanFlickerNoiseStep instance created.\n"
     ]
    },
    {
     "name": "stderr",
     "output_type": "stream",
     "text": [
      "2025-06-16 19:21:50,240 - stpipe.Detector1Pipeline.ramp_fit - INFO - RampFitStep instance created.\n"
     ]
    },
    {
     "name": "stderr",
     "output_type": "stream",
     "text": [
      "2025-06-16 19:21:50,241 - stpipe.Detector1Pipeline.gain_scale - INFO - GainScaleStep instance created.\n"
     ]
    },
    {
     "name": "stderr",
     "output_type": "stream",
     "text": [
      "2025-06-16 19:21:50,341 - stpipe.Detector1Pipeline - INFO - Step Detector1Pipeline running with args (np.str_('./lrs_tso_demo_data/PID04496Obs005/uncal/jw04496005001_03102_00001-seg001_mirimage_uncal.fits'),).\n"
     ]
    },
    {
     "name": "stderr",
     "output_type": "stream",
     "text": [
      "2025-06-16 19:21:50,363 - stpipe.Detector1Pipeline - INFO - Step Detector1Pipeline parameters are:\n",
      "  pre_hooks: []\n",
      "  post_hooks: []\n",
      "  output_file: None\n",
      "  output_dir: ./lrs_tso_demo_data/PID04496Obs005/stage1\n",
      "  output_ext: .fits\n",
      "  output_use_model: False\n",
      "  output_use_index: True\n",
      "  save_results: True\n",
      "  skip: False\n",
      "  suffix: None\n",
      "  search_output_file: True\n",
      "  input_dir: ''\n",
      "  save_calibrated_ramp: True\n",
      "  steps:\n",
      "    group_scale:\n",
      "      pre_hooks: []\n",
      "      post_hooks: []\n",
      "      output_file: None\n",
      "      output_dir: None\n",
      "      output_ext: .fits\n",
      "      output_use_model: False\n",
      "      output_use_index: True\n",
      "      save_results: False\n",
      "      skip: False\n",
      "      suffix: None\n",
      "      search_output_file: True\n",
      "      input_dir: ''\n",
      "    dq_init:\n",
      "      pre_hooks: []\n",
      "      post_hooks: []\n",
      "      output_file: None\n",
      "      output_dir: None\n",
      "      output_ext: .fits\n",
      "      output_use_model: False\n",
      "      output_use_index: True\n",
      "      save_results: False\n",
      "      skip: False\n",
      "      suffix: None\n",
      "      search_output_file: True\n",
      "      input_dir: ''\n",
      "    emicorr:\n",
      "      pre_hooks: []\n",
      "      post_hooks: []\n",
      "      output_file: None\n",
      "      output_dir: None\n",
      "      output_ext: .fits\n",
      "      output_use_model: False\n",
      "      output_use_index: True\n",
      "      save_results: False\n",
      "      skip: False\n",
      "      suffix: None\n",
      "      search_output_file: True\n",
      "      input_dir: ''\n",
      "      algorithm: sequential\n",
      "      nints_to_phase: None\n",
      "      nbins: None\n",
      "      scale_reference: True\n",
      "      onthefly_corr_freq: None\n",
      "      use_n_cycles: 3\n",
      "      fit_ints_separately: False\n",
      "      user_supplied_reffile: None\n",
      "      save_intermediate_results: False\n",
      "    saturation:\n",
      "      pre_hooks: []\n",
      "      post_hooks: []\n",
      "      output_file: None\n",
      "      output_dir: None\n",
      "      output_ext: .fits\n",
      "      output_use_model: False\n",
      "      output_use_index: True\n",
      "      save_results: False\n",
      "      skip: False\n",
      "      suffix: None\n",
      "      search_output_file: True\n",
      "      input_dir: ''\n",
      "      n_pix_grow_sat: 1\n",
      "      use_readpatt: True\n",
      "    ipc:\n",
      "      pre_hooks: []\n",
      "      post_hooks: []\n",
      "      output_file: None\n",
      "      output_dir: None\n",
      "      output_ext: .fits\n",
      "      output_use_model: False\n",
      "      output_use_index: True\n",
      "      save_results: False\n",
      "      skip: True\n",
      "      suffix: None\n",
      "      search_output_file: True\n",
      "      input_dir: ''\n",
      "    superbias:\n",
      "      pre_hooks: []\n",
      "      post_hooks: []\n",
      "      output_file: None\n",
      "      output_dir: None\n",
      "      output_ext: .fits\n",
      "      output_use_model: False\n",
      "      output_use_index: True\n",
      "      save_results: False\n",
      "      skip: False\n",
      "      suffix: None\n",
      "      search_output_file: True\n",
      "      input_dir: ''\n",
      "    refpix:\n",
      "      pre_hooks: []\n",
      "      post_hooks: []\n",
      "      output_file: None\n",
      "      output_dir: None\n",
      "      output_ext: .fits\n",
      "      output_use_model: False\n",
      "      output_use_index: True\n",
      "      save_results: False\n",
      "      skip: False\n",
      "      suffix: None\n",
      "      search_output_file: True\n",
      "      input_dir: ''\n",
      "      odd_even_columns: True\n",
      "      use_side_ref_pixels: True\n",
      "      side_smoothing_length: 11\n",
      "      side_gain: 1.0\n",
      "      odd_even_rows: True\n",
      "      ovr_corr_mitigation_ftr: 3.0\n",
      "      preserve_irs2_refpix: False\n",
      "      irs2_mean_subtraction: False\n",
      "      refpix_algorithm: median\n",
      "      sigreject: 4.0\n",
      "      gaussmooth: 1.0\n",
      "      halfwidth: 30\n",
      "    rscd:\n",
      "      pre_hooks: []\n",
      "      post_hooks: []\n",
      "      output_file: None\n",
      "      output_dir: None\n",
      "      output_ext: .fits\n",
      "      output_use_model: False\n",
      "      output_use_index: True\n",
      "      save_results: False\n",
      "      skip: True\n",
      "      suffix: None\n",
      "      search_output_file: True\n",
      "      input_dir: ''\n",
      "      type: baseline\n",
      "    firstframe:\n",
      "      pre_hooks: []\n",
      "      post_hooks: []\n",
      "      output_file: None\n",
      "      output_dir: None\n",
      "      output_ext: .fits\n",
      "      output_use_model: False\n",
      "      output_use_index: True\n",
      "      save_results: False\n",
      "      skip: True\n",
      "      suffix: None\n",
      "      search_output_file: True\n",
      "      input_dir: ''\n",
      "      bright_use_group1: False\n",
      "    lastframe:\n",
      "      pre_hooks: []\n",
      "      post_hooks: []\n",
      "      output_file: None\n",
      "      output_dir: None\n",
      "      output_ext: .fits\n",
      "      output_use_model: False\n",
      "      output_use_index: True\n",
      "      save_results: False\n",
      "      skip: False\n",
      "      suffix: None\n",
      "      search_output_file: True\n",
      "      input_dir: ''\n",
      "    linearity:\n",
      "      pre_hooks: []\n",
      "      post_hooks: []\n",
      "      output_file: None\n",
      "      output_dir: None\n",
      "      output_ext: .fits\n",
      "      output_use_model: False\n",
      "      output_use_index: True\n",
      "      save_results: False\n",
      "      skip: False\n",
      "      suffix: None\n",
      "      search_output_file: True\n",
      "      input_dir: ''\n",
      "    dark_current:\n",
      "      pre_hooks: []\n",
      "      post_hooks: []\n",
      "      output_file: None\n",
      "      output_dir: None\n",
      "      output_ext: .fits\n",
      "      output_use_model: False\n",
      "      output_use_index: True\n",
      "      save_results: False\n",
      "      skip: False\n",
      "      suffix: None\n",
      "      search_output_file: True\n",
      "      input_dir: ''\n",
      "      dark_output: None\n",
      "      average_dark_current: 1.0\n",
      "    reset:\n",
      "      pre_hooks: []\n",
      "      post_hooks: []\n",
      "      output_file: None\n",
      "      output_dir: None\n",
      "      output_ext: .fits\n",
      "      output_use_model: False\n",
      "      output_use_index: True\n",
      "      save_results: False\n",
      "      skip: False\n",
      "      suffix: None\n",
      "      search_output_file: True\n",
      "      input_dir: ''\n",
      "    persistence:\n",
      "      pre_hooks: []\n",
      "      post_hooks: []\n",
      "      output_file: None\n",
      "      output_dir: None\n",
      "      output_ext: .fits\n",
      "      output_use_model: False\n",
      "      output_use_index: True\n",
      "      save_results: False\n",
      "      skip: True\n",
      "      suffix: None\n",
      "      search_output_file: True\n",
      "      input_dir: ''\n",
      "      input_trapsfilled: ''\n",
      "      flag_pers_cutoff: 40.0\n",
      "      save_persistence: False\n",
      "      save_trapsfilled: True\n",
      "      modify_input: False\n",
      "    charge_migration:\n",
      "      pre_hooks: []\n",
      "      post_hooks: []\n",
      "      output_file: None\n",
      "      output_dir: None\n",
      "      output_ext: .fits\n",
      "      output_use_model: False\n",
      "      output_use_index: True\n",
      "      save_results: False\n",
      "      skip: True\n",
      "      suffix: None\n",
      "      search_output_file: True\n",
      "      input_dir: ''\n",
      "      signal_threshold: 25000.0\n",
      "    jump:\n",
      "      pre_hooks: []\n",
      "      post_hooks: []\n",
      "      output_file: None\n",
      "      output_dir: None\n",
      "      output_ext: .fits\n",
      "      output_use_model: False\n",
      "      output_use_index: True\n",
      "      save_results: False\n",
      "      skip: False\n",
      "      suffix: None\n",
      "      search_output_file: True\n",
      "      input_dir: ''\n",
      "      rejection_threshold: 5.0\n",
      "      three_group_rejection_threshold: 6.0\n",
      "      four_group_rejection_threshold: 5.0\n",
      "      maximum_cores: '1'\n",
      "      flag_4_neighbors: True\n",
      "      max_jump_to_flag_neighbors: 1000\n",
      "      min_jump_to_flag_neighbors: 30\n",
      "      after_jump_flag_dn1: 500\n",
      "      after_jump_flag_time1: 15\n",
      "      after_jump_flag_dn2: 1000\n",
      "      after_jump_flag_time2: 3000\n",
      "      expand_large_events: False\n",
      "      min_sat_area: 1\n",
      "      min_jump_area: 0\n",
      "      expand_factor: 0\n",
      "      use_ellipses: False\n",
      "      sat_required_snowball: False\n",
      "      min_sat_radius_extend: 0.0\n",
      "      sat_expand: 0\n",
      "      edge_size: 0\n",
      "      mask_snowball_core_next_int: True\n",
      "      snowball_time_masked_next_int: 4000\n",
      "      find_showers: True\n",
      "      max_shower_amplitude: 4.0\n",
      "      extend_snr_threshold: 3.0\n",
      "      extend_min_area: 50\n",
      "      extend_inner_radius: 1\n",
      "      extend_outer_radius: 2.6\n",
      "      extend_ellipse_expand_ratio: 1.1\n",
      "      time_masked_after_shower: 30\n",
      "      min_diffs_single_pass: 10\n",
      "      max_extended_radius: 200\n",
      "      minimum_groups: 3\n",
      "      minimum_sigclip_groups: 100\n",
      "      only_use_ints: True\n",
      "    clean_flicker_noise:\n",
      "      pre_hooks: []\n",
      "      post_hooks: []\n",
      "      output_file: None\n",
      "      output_dir: None\n",
      "      output_ext: .fits\n",
      "      output_use_model: False\n",
      "      output_use_index: True\n",
      "      save_results: False\n",
      "      skip: True\n",
      "      suffix: None\n",
      "      search_output_file: True\n",
      "      input_dir: ''\n",
      "      fit_method: median\n",
      "      fit_by_channel: False\n",
      "      background_method: median\n",
      "      background_box_size: None\n",
      "      mask_science_regions: False\n",
      "      apply_flat_field: False\n",
      "      n_sigma: 2.0\n",
      "      fit_histogram: False\n",
      "      single_mask: True\n",
      "      user_mask: None\n",
      "      save_mask: False\n",
      "      save_background: False\n",
      "      save_noise: False\n",
      "    ramp_fit:\n",
      "      pre_hooks: []\n",
      "      post_hooks: []\n",
      "      output_file: None\n",
      "      output_dir: None\n",
      "      output_ext: .fits\n",
      "      output_use_model: False\n",
      "      output_use_index: True\n",
      "      save_results: False\n",
      "      skip: False\n",
      "      suffix: None\n",
      "      search_output_file: True\n",
      "      input_dir: ''\n",
      "      algorithm: OLS_C\n",
      "      int_name: ''\n",
      "      save_opt: False\n",
      "      opt_name: ''\n",
      "      suppress_one_group: True\n",
      "      firstgroup: None\n",
      "      lastgroup: None\n",
      "      maximum_cores: '1'\n",
      "    gain_scale:\n",
      "      pre_hooks: []\n",
      "      post_hooks: []\n",
      "      output_file: None\n",
      "      output_dir: None\n",
      "      output_ext: .fits\n",
      "      output_use_model: False\n",
      "      output_use_index: True\n",
      "      save_results: False\n",
      "      skip: False\n",
      "      suffix: None\n",
      "      search_output_file: True\n",
      "      input_dir: ''\n"
     ]
    },
    {
     "name": "stderr",
     "output_type": "stream",
     "text": [
      "2025-06-16 19:21:50,449 - stpipe.Detector1Pipeline - INFO - Prefetching reference files for dataset: 'jw04496005001_03102_00001-seg001_mirimage_uncal.fits' reftypes = ['dark', 'emicorr', 'gain', 'linearity', 'mask', 'readnoise', 'refpix', 'reset', 'saturation', 'sirskernel', 'superbias']\n"
     ]
    },
    {
     "name": "stderr",
     "output_type": "stream",
     "text": [
      "2025-06-16 19:21:50,452 - stpipe.Detector1Pipeline - INFO - Prefetch for DARK reference file is '/home/runner/crds/references/jwst/miri/jwst_miri_dark_0102.fits'.\n"
     ]
    },
    {
     "name": "stderr",
     "output_type": "stream",
     "text": [
      "2025-06-16 19:21:50,453 - stpipe.Detector1Pipeline - INFO - Prefetch for EMICORR reference file is '/home/runner/crds/references/jwst/miri/jwst_miri_emicorr_0002.asdf'.\n"
     ]
    },
    {
     "name": "stderr",
     "output_type": "stream",
     "text": [
      "2025-06-16 19:21:50,453 - stpipe.Detector1Pipeline - INFO - Prefetch for GAIN reference file is '/home/runner/crds/references/jwst/miri/jwst_miri_gain_0042.fits'.\n"
     ]
    },
    {
     "name": "stderr",
     "output_type": "stream",
     "text": [
      "2025-06-16 19:21:50,454 - stpipe.Detector1Pipeline - INFO - Prefetch for LINEARITY reference file is '/home/runner/crds/references/jwst/miri/jwst_miri_linearity_0032.fits'.\n"
     ]
    },
    {
     "name": "stderr",
     "output_type": "stream",
     "text": [
      "2025-06-16 19:21:50,454 - stpipe.Detector1Pipeline - INFO - Prefetch for MASK reference file is '/home/runner/crds/references/jwst/miri/jwst_miri_mask_0036.fits'.\n"
     ]
    },
    {
     "name": "stderr",
     "output_type": "stream",
     "text": [
      "2025-06-16 19:21:50,455 - stpipe.Detector1Pipeline - INFO - Prefetch for READNOISE reference file is '/home/runner/crds/references/jwst/miri/jwst_miri_readnoise_0085.fits'.\n"
     ]
    },
    {
     "name": "stderr",
     "output_type": "stream",
     "text": [
      "2025-06-16 19:21:50,455 - stpipe.Detector1Pipeline - INFO - Prefetch for REFPIX reference file is 'N/A'.\n"
     ]
    },
    {
     "name": "stderr",
     "output_type": "stream",
     "text": [
      "2025-06-16 19:21:50,456 - stpipe.Detector1Pipeline - INFO - Prefetch for RESET reference file is '/home/runner/crds/references/jwst/miri/jwst_miri_reset_0080.fits'.\n"
     ]
    },
    {
     "name": "stderr",
     "output_type": "stream",
     "text": [
      "2025-06-16 19:21:50,456 - stpipe.Detector1Pipeline - INFO - Prefetch for SATURATION reference file is '/home/runner/crds/references/jwst/miri/jwst_miri_saturation_0034.fits'.\n"
     ]
    },
    {
     "name": "stderr",
     "output_type": "stream",
     "text": [
      "2025-06-16 19:21:50,457 - stpipe.Detector1Pipeline - INFO - Prefetch for SIRSKERNEL reference file is 'N/A'.\n"
     ]
    },
    {
     "name": "stderr",
     "output_type": "stream",
     "text": [
      "2025-06-16 19:21:50,457 - stpipe.Detector1Pipeline - INFO - Prefetch for SUPERBIAS reference file is 'N/A'.\n"
     ]
    },
    {
     "name": "stderr",
     "output_type": "stream",
     "text": [
      "2025-06-16 19:21:50,459 - stpipe.Detector1Pipeline - INFO - Starting calwebb_detector1 ...\n"
     ]
    },
    {
     "name": "stderr",
     "output_type": "stream",
     "text": [
      "2025-06-16 19:21:50,714 - stpipe.Detector1Pipeline.group_scale - INFO - Step group_scale running with args (<RampModel(72, 10, 416, 72) from jw04496005001_03102_00001-seg001_mirimage_uncal.fits>,).\n"
     ]
    },
    {
     "name": "stderr",
     "output_type": "stream",
     "text": [
      "2025-06-16 19:21:50,723 - stpipe.Detector1Pipeline.group_scale - INFO - NFRAMES and FRMDIVSR are equal; correction not needed\n"
     ]
    },
    {
     "name": "stderr",
     "output_type": "stream",
     "text": [
      "2025-06-16 19:21:50,723 - stpipe.Detector1Pipeline.group_scale - INFO - Step will be skipped\n"
     ]
    },
    {
     "name": "stderr",
     "output_type": "stream",
     "text": [
      "2025-06-16 19:21:50,725 - stpipe.Detector1Pipeline.group_scale - INFO - Step group_scale done\n"
     ]
    },
    {
     "name": "stderr",
     "output_type": "stream",
     "text": [
      "2025-06-16 19:21:50,817 - stpipe.Detector1Pipeline.dq_init - INFO - Step dq_init running with args (<RampModel(72, 10, 416, 72) from jw04496005001_03102_00001-seg001_mirimage_uncal.fits>,).\n"
     ]
    },
    {
     "name": "stderr",
     "output_type": "stream",
     "text": [
      "2025-06-16 19:21:50,833 - stpipe.Detector1Pipeline.dq_init - INFO - Using MASK reference file /home/runner/crds/references/jwst/miri/jwst_miri_mask_0036.fits\n"
     ]
    },
    {
     "name": "stderr",
     "output_type": "stream",
     "text": [
      "2025-06-16 19:21:50,888 - stpipe.Detector1Pipeline.dq_init - WARNING - Keyword RESERVED_4 does not correspond to an existing DQ mnemonic, so will be ignored\n"
     ]
    },
    {
     "name": "stderr",
     "output_type": "stream",
     "text": [
      "2025-06-16 19:21:50,903 - stpipe.Detector1Pipeline.dq_init - WARNING - Keyword UNRELIABLE_RESET does not correspond to an existing DQ mnemonic, so will be ignored\n"
     ]
    },
    {
     "name": "stderr",
     "output_type": "stream",
     "text": [
      "2025-06-16 19:21:50,906 - stpipe.Detector1Pipeline.dq_init - INFO - Extracting mask subarray to match science data\n"
     ]
    },
    {
     "name": "stderr",
     "output_type": "stream",
     "text": [
      "2025-06-16 19:21:50,935 - stpipe.Detector1Pipeline.dq_init - INFO - Step dq_init done\n"
     ]
    },
    {
     "name": "stderr",
     "output_type": "stream",
     "text": [
      "2025-06-16 19:21:51,032 - stpipe.Detector1Pipeline.emicorr - INFO - Step emicorr running with args (<RampModel(72, 10, 416, 72) from jw04496005001_03102_00001-seg001_mirimage_uncal.fits>,).\n"
     ]
    },
    {
     "name": "stderr",
     "output_type": "stream",
     "text": [
      "2025-06-16 19:21:51,074 - stpipe.Detector1Pipeline.emicorr - INFO - Using CRDS reference file: /home/runner/crds/references/jwst/miri/jwst_miri_emicorr_0002.asdf\n"
     ]
    },
    {
     "name": "stderr",
     "output_type": "stream",
     "text": [
      "2025-06-16 19:21:51,093 - stpipe.Detector1Pipeline.emicorr - INFO - Using reference file to get subarray case.\n"
     ]
    },
    {
     "name": "stderr",
     "output_type": "stream",
     "text": [
      "2025-06-16 19:21:51,093 - stpipe.Detector1Pipeline.emicorr - INFO - With configuration: Subarray=SLITLESSPRISM, Read_pattern=FASTR1, Detector=MIRIMAGE\n"
     ]
    },
    {
     "name": "stderr",
     "output_type": "stream",
     "text": [
      "2025-06-16 19:21:51,094 - stpipe.Detector1Pipeline.emicorr - INFO - Will correct data for the following 2 frequencies: \n"
     ]
    },
    {
     "name": "stderr",
     "output_type": "stream",
     "text": [
      "2025-06-16 19:21:51,095 - stpipe.Detector1Pipeline.emicorr - INFO -    ['Hz390', 'Hz10']\n"
     ]
    },
    {
     "name": "stderr",
     "output_type": "stream",
     "text": [
      "2025-06-16 19:21:51,095 - stpipe.Detector1Pipeline.emicorr - INFO - Running EMI fit with algorithm = 'sequential'.\n"
     ]
    },
    {
     "name": "stderr",
     "output_type": "stream",
     "text": [
      "2025-06-16 19:21:51,096 - stpipe.Detector1Pipeline.emicorr - INFO - Correcting for frequency: 390.625 Hz  (1 out of 2)\n"
     ]
    },
    {
     "name": "stderr",
     "output_type": "stream",
     "text": [
      "2025-06-16 19:21:51,096 - stpipe.Detector1Pipeline.emicorr - INFO - Subtracting self-superbias from each group of each integration\n"
     ]
    },
    {
     "name": "stderr",
     "output_type": "stream",
     "text": [
      "2025-06-16 19:21:51,097 - stpipe.Detector1Pipeline.emicorr - INFO - Doing phase calculation per integration\n"
     ]
    },
    {
     "name": "stderr",
     "output_type": "stream",
     "text": [
      "2025-06-16 19:21:52,667 - stpipe.Detector1Pipeline.emicorr - INFO - Calculating the phase amplitude for 128 bins\n"
     ]
    },
    {
     "name": "stderr",
     "output_type": "stream",
     "text": [
      "2025-06-16 19:21:52,760 - stpipe.Detector1Pipeline.emicorr - INFO - Using reference file to measure phase shift\n"
     ]
    },
    {
     "name": "stderr",
     "output_type": "stream",
     "text": [
      "2025-06-16 19:21:52,780 - stpipe.Detector1Pipeline.emicorr - INFO - Creating phased-matched noise model to subtract from data\n"
     ]
    },
    {
     "name": "stderr",
     "output_type": "stream",
     "text": [
      "2025-06-16 19:21:52,806 - stpipe.Detector1Pipeline.emicorr - INFO - Subtracting EMI noise from data\n"
     ]
    },
    {
     "name": "stderr",
     "output_type": "stream",
     "text": [
      "2025-06-16 19:21:52,840 - stpipe.Detector1Pipeline.emicorr - INFO - Correcting for frequency: 10.039216 Hz  (2 out of 2)\n"
     ]
    },
    {
     "name": "stderr",
     "output_type": "stream",
     "text": [
      "2025-06-16 19:21:52,840 - stpipe.Detector1Pipeline.emicorr - INFO - Subtracting self-superbias from each group of each integration\n"
     ]
    },
    {
     "name": "stderr",
     "output_type": "stream",
     "text": [
      "2025-06-16 19:21:52,841 - stpipe.Detector1Pipeline.emicorr - INFO - Doing phase calculation per integration\n"
     ]
    },
    {
     "name": "stderr",
     "output_type": "stream",
     "text": [
      "2025-06-16 19:21:54,411 - stpipe.Detector1Pipeline.emicorr - INFO - Calculating the phase amplitude for 500 bins\n"
     ]
    },
    {
     "name": "stderr",
     "output_type": "stream",
     "text": [
      "2025-06-16 19:21:54,700 - stpipe.Detector1Pipeline.emicorr - INFO - Using reference file to measure phase shift\n"
     ]
    },
    {
     "name": "stderr",
     "output_type": "stream",
     "text": [
      "2025-06-16 19:21:54,739 - stpipe.Detector1Pipeline.emicorr - INFO - Creating phased-matched noise model to subtract from data\n"
     ]
    },
    {
     "name": "stderr",
     "output_type": "stream",
     "text": [
      "2025-06-16 19:21:54,766 - stpipe.Detector1Pipeline.emicorr - INFO - Subtracting EMI noise from data\n"
     ]
    },
    {
     "name": "stderr",
     "output_type": "stream",
     "text": [
      "2025-06-16 19:21:54,804 - stpipe.Detector1Pipeline.emicorr - INFO - Step emicorr done\n"
     ]
    },
    {
     "name": "stderr",
     "output_type": "stream",
     "text": [
      "2025-06-16 19:21:54,907 - stpipe.Detector1Pipeline.saturation - INFO - Step saturation running with args (<RampModel(72, 10, 416, 72) from jw04496005001_03102_00001-seg001_mirimage_uncal.fits>,).\n"
     ]
    },
    {
     "name": "stderr",
     "output_type": "stream",
     "text": [
      "2025-06-16 19:21:54,925 - stpipe.Detector1Pipeline.saturation - INFO - Using SATURATION reference file /home/runner/crds/references/jwst/miri/jwst_miri_saturation_0034.fits\n"
     ]
    },
    {
     "name": "stderr",
     "output_type": "stream",
     "text": [
      "2025-06-16 19:21:54,948 - stpipe.Detector1Pipeline.saturation - WARNING - Keyword RESERVED_4 does not correspond to an existing DQ mnemonic, so will be ignored\n"
     ]
    },
    {
     "name": "stderr",
     "output_type": "stream",
     "text": [
      "2025-06-16 19:21:54,957 - stpipe.Detector1Pipeline.saturation - WARNING - Keyword UNRELIABLE_RESET does not correspond to an existing DQ mnemonic, so will be ignored\n"
     ]
    },
    {
     "name": "stderr",
     "output_type": "stream",
     "text": [
      "2025-06-16 19:21:54,988 - stpipe.Detector1Pipeline.saturation - INFO - Extracting reference file subarray to match science data\n"
     ]
    },
    {
     "name": "stderr",
     "output_type": "stream",
     "text": [
      "2025-06-16 19:21:54,997 - stpipe.Detector1Pipeline.saturation - INFO - Using read_pattern with nframes 1\n"
     ]
    },
    {
     "name": "stderr",
     "output_type": "stream",
     "text": [
      "2025-06-16 19:21:55,269 - stpipe.Detector1Pipeline.saturation - INFO - Detected 96 saturated pixels\n"
     ]
    },
    {
     "name": "stderr",
     "output_type": "stream",
     "text": [
      "2025-06-16 19:21:55,272 - stpipe.Detector1Pipeline.saturation - INFO - Detected 0 A/D floor pixels\n"
     ]
    },
    {
     "name": "stderr",
     "output_type": "stream",
     "text": [
      "2025-06-16 19:21:55,276 - stpipe.Detector1Pipeline.saturation - INFO - Step saturation done\n"
     ]
    },
    {
     "name": "stderr",
     "output_type": "stream",
     "text": [
      "2025-06-16 19:21:55,378 - stpipe.Detector1Pipeline.ipc - INFO - Step ipc running with args (<RampModel(72, 10, 416, 72) from jw04496005001_03102_00001-seg001_mirimage_uncal.fits>,).\n"
     ]
    },
    {
     "name": "stderr",
     "output_type": "stream",
     "text": [
      "2025-06-16 19:21:55,379 - stpipe.Detector1Pipeline.ipc - INFO - Step skipped.\n"
     ]
    },
    {
     "name": "stderr",
     "output_type": "stream",
     "text": [
      "2025-06-16 19:21:55,483 - stpipe.Detector1Pipeline.firstframe - INFO - Step firstframe running with args (<RampModel(72, 10, 416, 72) from jw04496005001_03102_00001-seg001_mirimage_uncal.fits>,).\n"
     ]
    },
    {
     "name": "stderr",
     "output_type": "stream",
     "text": [
      "2025-06-16 19:21:55,484 - stpipe.Detector1Pipeline.firstframe - INFO - Step skipped.\n"
     ]
    },
    {
     "name": "stderr",
     "output_type": "stream",
     "text": [
      "2025-06-16 19:21:55,581 - stpipe.Detector1Pipeline.lastframe - INFO - Step lastframe running with args (<RampModel(72, 10, 416, 72) from jw04496005001_03102_00001-seg001_mirimage_uncal.fits>,).\n"
     ]
    },
    {
     "name": "stderr",
     "output_type": "stream",
     "text": [
      "2025-06-16 19:21:55,616 - stpipe.Detector1Pipeline.lastframe - INFO - Step lastframe done\n"
     ]
    },
    {
     "name": "stderr",
     "output_type": "stream",
     "text": [
      "2025-06-16 19:21:55,724 - stpipe.Detector1Pipeline.reset - INFO - Step reset running with args (<RampModel(72, 10, 416, 72) from jw04496005001_03102_00001-seg001_mirimage_uncal.fits>,).\n"
     ]
    },
    {
     "name": "stderr",
     "output_type": "stream",
     "text": [
      "2025-06-16 19:21:55,742 - stpipe.Detector1Pipeline.reset - INFO - Using RESET reference file /home/runner/crds/references/jwst/miri/jwst_miri_reset_0080.fits\n"
     ]
    },
    {
     "name": "stderr",
     "output_type": "stream",
     "text": [
      "2025-06-16 19:21:55,765 - stpipe.Detector1Pipeline.reset - WARNING - Keyword RESERVED_4 does not correspond to an existing DQ mnemonic, so will be ignored\n"
     ]
    },
    {
     "name": "stderr",
     "output_type": "stream",
     "text": [
      "2025-06-16 19:21:55,768 - stpipe.Detector1Pipeline.reset - WARNING - Keyword UNRELIABLE_RESET does not correspond to an existing DQ mnemonic, so will be ignored\n"
     ]
    },
    {
     "name": "stderr",
     "output_type": "stream",
     "text": [
      "2025-06-16 19:21:55,844 - stpipe.Detector1Pipeline.reset - INFO - Step reset done\n"
     ]
    },
    {
     "name": "stderr",
     "output_type": "stream",
     "text": [
      "2025-06-16 19:21:55,942 - stpipe.Detector1Pipeline.linearity - INFO - Step linearity running with args (<RampModel(72, 10, 416, 72) from jw04496005001_03102_00001-seg001_mirimage_uncal.fits>,).\n"
     ]
    },
    {
     "name": "stderr",
     "output_type": "stream",
     "text": [
      "2025-06-16 19:21:55,960 - stpipe.Detector1Pipeline.linearity - INFO - Using Linearity reference file /home/runner/crds/references/jwst/miri/jwst_miri_linearity_0032.fits\n"
     ]
    },
    {
     "name": "stderr",
     "output_type": "stream",
     "text": [
      "2025-06-16 19:21:55,985 - stpipe.Detector1Pipeline.linearity - WARNING - Keyword RESERVED_4 does not correspond to an existing DQ mnemonic, so will be ignored\n"
     ]
    },
    {
     "name": "stderr",
     "output_type": "stream",
     "text": [
      "2025-06-16 19:21:55,995 - stpipe.Detector1Pipeline.linearity - WARNING - Keyword UNRELIABLE_RESET does not correspond to an existing DQ mnemonic, so will be ignored\n"
     ]
    },
    {
     "name": "stderr",
     "output_type": "stream",
     "text": [
      "2025-06-16 19:21:56,138 - stpipe.Detector1Pipeline.linearity - INFO - Step linearity done\n"
     ]
    },
    {
     "name": "stderr",
     "output_type": "stream",
     "text": [
      "2025-06-16 19:21:56,247 - stpipe.Detector1Pipeline.rscd - INFO - Step rscd running with args (<RampModel(72, 10, 416, 72) from jw04496005001_03102_00001-seg001_mirimage_uncal.fits>,).\n"
     ]
    },
    {
     "name": "stderr",
     "output_type": "stream",
     "text": [
      "2025-06-16 19:21:56,248 - stpipe.Detector1Pipeline.rscd - INFO - Step skipped.\n"
     ]
    },
    {
     "name": "stderr",
     "output_type": "stream",
     "text": [
      "2025-06-16 19:21:56,343 - stpipe.Detector1Pipeline.dark_current - INFO - Step dark_current running with args (<RampModel(72, 10, 416, 72) from jw04496005001_03102_00001-seg001_mirimage_uncal.fits>,).\n"
     ]
    },
    {
     "name": "stderr",
     "output_type": "stream",
     "text": [
      "2025-06-16 19:21:56,361 - stpipe.Detector1Pipeline.dark_current - INFO - Using DARK reference file /home/runner/crds/references/jwst/miri/jwst_miri_dark_0102.fits\n"
     ]
    },
    {
     "name": "stderr",
     "output_type": "stream",
     "text": [
      "2025-06-16 19:21:56,450 - stpipe.Detector1Pipeline.dark_current - INFO - Using Poisson noise from average dark current 1.0 e-/sec\n"
     ]
    },
    {
     "name": "stderr",
     "output_type": "stream",
     "text": [
      "2025-06-16 19:21:56,451 - stpipe.Detector1Pipeline.dark_current - INFO - Science data nints=72, ngroups=10, nframes=1, groupgap=0\n"
     ]
    },
    {
     "name": "stderr",
     "output_type": "stream",
     "text": [
      "2025-06-16 19:21:56,451 - stpipe.Detector1Pipeline.dark_current - INFO - Dark data nints=3, ngroups=350, nframes=1, groupgap=0\n"
     ]
    },
    {
     "name": "stderr",
     "output_type": "stream",
     "text": [
      "2025-06-16 19:21:56,502 - stpipe.Detector1Pipeline.dark_current - INFO - Step dark_current done\n"
     ]
    },
    {
     "name": "stderr",
     "output_type": "stream",
     "text": [
      "2025-06-16 19:21:56,601 - stpipe.Detector1Pipeline.refpix - INFO - Step refpix running with args (<RampModel(72, 10, 416, 72) from jw04496005001_03102_00001-seg001_mirimage_uncal.fits>,).\n"
     ]
    },
    {
     "name": "stderr",
     "output_type": "stream",
     "text": [
      "2025-06-16 19:21:56,625 - stpipe.Detector1Pipeline.refpix - WARNING - Refpix correction skipped for MIRI subarrays\n"
     ]
    },
    {
     "name": "stderr",
     "output_type": "stream",
     "text": [
      "2025-06-16 19:21:56,627 - stpipe.Detector1Pipeline.refpix - INFO - Step refpix done\n"
     ]
    },
    {
     "name": "stderr",
     "output_type": "stream",
     "text": [
      "2025-06-16 19:21:56,723 - stpipe.Detector1Pipeline.charge_migration - INFO - Step charge_migration running with args (<RampModel(72, 10, 416, 72) from jw04496005001_03102_00001-seg001_mirimage_uncal.fits>,).\n"
     ]
    },
    {
     "name": "stderr",
     "output_type": "stream",
     "text": [
      "2025-06-16 19:21:56,724 - stpipe.Detector1Pipeline.charge_migration - INFO - Step skipped.\n"
     ]
    },
    {
     "name": "stderr",
     "output_type": "stream",
     "text": [
      "2025-06-16 19:21:56,816 - stpipe.Detector1Pipeline.jump - INFO - Step jump running with args (<RampModel(72, 10, 416, 72) from jw04496005001_03102_00001-seg001_mirimage_uncal.fits>,).\n"
     ]
    },
    {
     "name": "stderr",
     "output_type": "stream",
     "text": [
      "2025-06-16 19:21:56,824 - stpipe.Detector1Pipeline.jump - INFO - CR rejection threshold = 5 sigma\n"
     ]
    },
    {
     "name": "stderr",
     "output_type": "stream",
     "text": [
      "2025-06-16 19:21:56,825 - stpipe.Detector1Pipeline.jump - INFO - Maximum cores to use = 1\n"
     ]
    },
    {
     "name": "stderr",
     "output_type": "stream",
     "text": [
      "2025-06-16 19:21:56,860 - stpipe.Detector1Pipeline.jump - INFO - Using GAIN reference file: /home/runner/crds/references/jwst/miri/jwst_miri_gain_0042.fits\n"
     ]
    },
    {
     "name": "stderr",
     "output_type": "stream",
     "text": [
      "2025-06-16 19:21:56,870 - stpipe.Detector1Pipeline.jump - INFO - Using READNOISE reference file: /home/runner/crds/references/jwst/miri/jwst_miri_readnoise_0085.fits\n"
     ]
    },
    {
     "name": "stderr",
     "output_type": "stream",
     "text": [
      "2025-06-16 19:21:56,898 - stpipe.Detector1Pipeline.jump - INFO - Extracting gain subarray to match science data\n"
     ]
    },
    {
     "name": "stderr",
     "output_type": "stream",
     "text": [
      "2025-06-16 19:21:56,904 - stpipe.Detector1Pipeline.jump - INFO - Extracting readnoise subarray to match science data\n"
     ]
    },
    {
     "name": "stderr",
     "output_type": "stream",
     "text": [
      "2025-06-16 19:21:56,926 - stpipe.Detector1Pipeline.jump - INFO - Executing two-point difference method\n"
     ]
    },
    {
     "name": "stderr",
     "output_type": "stream",
     "text": [
      "2025-06-16 19:22:26,736 - stpipe.Detector1Pipeline.jump - INFO - Flagging Showers\n"
     ]
    },
    {
     "name": "stderr",
     "output_type": "stream",
     "text": [
      "2025-06-16 19:22:29,719 - stpipe.Detector1Pipeline.jump - INFO - Total showers= 1\n"
     ]
    },
    {
     "name": "stderr",
     "output_type": "stream",
     "text": [
      "2025-06-16 19:22:29,720 - stpipe.Detector1Pipeline.jump - INFO - Total elapsed time = 32.7935 sec\n"
     ]
    },
    {
     "name": "stderr",
     "output_type": "stream",
     "text": [
      "2025-06-16 19:22:29,737 - stpipe.Detector1Pipeline.jump - INFO - The execution time in seconds: 32.912053\n"
     ]
    },
    {
     "name": "stderr",
     "output_type": "stream",
     "text": [
      "2025-06-16 19:22:29,740 - stpipe.Detector1Pipeline.jump - INFO - Step jump done\n"
     ]
    },
    {
     "name": "stderr",
     "output_type": "stream",
     "text": [
      "2025-06-16 19:22:29,832 - stpipe.Detector1Pipeline.clean_flicker_noise - INFO - Step clean_flicker_noise running with args (<RampModel(72, 10, 416, 72) from jw04496005001_03102_00001-seg001_mirimage_uncal.fits>,).\n"
     ]
    },
    {
     "name": "stderr",
     "output_type": "stream",
     "text": [
      "2025-06-16 19:22:29,833 - stpipe.Detector1Pipeline.clean_flicker_noise - INFO - Step skipped.\n"
     ]
    },
    {
     "name": "stderr",
     "output_type": "stream",
     "text": [
      "2025-06-16 19:22:29,989 - stpipe.Detector1Pipeline - INFO - Saved model in ./lrs_tso_demo_data/PID04496Obs005/stage1/jw04496005001_03102_00001-seg001_mirimage_ramp.fits\n"
     ]
    },
    {
     "name": "stderr",
     "output_type": "stream",
     "text": [
      "2025-06-16 19:22:30,084 - stpipe.Detector1Pipeline.ramp_fit - INFO - Step ramp_fit running with args (<RampModel(72, 10, 416, 72) from jw04496005001_03102_00001-seg001_mirimage_ramp.fits>,).\n"
     ]
    },
    {
     "name": "stderr",
     "output_type": "stream",
     "text": [
      "2025-06-16 19:22:30,128 - stpipe.Detector1Pipeline.ramp_fit - INFO - Using READNOISE reference file: /home/runner/crds/references/jwst/miri/jwst_miri_readnoise_0085.fits\n"
     ]
    },
    {
     "name": "stderr",
     "output_type": "stream",
     "text": [
      "2025-06-16 19:22:30,129 - stpipe.Detector1Pipeline.ramp_fit - INFO - Using GAIN reference file: /home/runner/crds/references/jwst/miri/jwst_miri_gain_0042.fits\n"
     ]
    },
    {
     "name": "stderr",
     "output_type": "stream",
     "text": [
      "2025-06-16 19:22:30,156 - stpipe.Detector1Pipeline.ramp_fit - INFO - Extracting gain subarray to match science data\n"
     ]
    },
    {
     "name": "stderr",
     "output_type": "stream",
     "text": [
      "2025-06-16 19:22:30,162 - stpipe.Detector1Pipeline.ramp_fit - INFO - Extracting readnoise subarray to match science data\n"
     ]
    },
    {
     "name": "stderr",
     "output_type": "stream",
     "text": [
      "2025-06-16 19:22:30,168 - stpipe.Detector1Pipeline.ramp_fit - INFO - Using algorithm = OLS_C\n"
     ]
    },
    {
     "name": "stderr",
     "output_type": "stream",
     "text": [
      "2025-06-16 19:22:30,169 - stpipe.Detector1Pipeline.ramp_fit - INFO - Using weighting = optimal\n"
     ]
    },
    {
     "name": "stderr",
     "output_type": "stream",
     "text": [
      "2025-06-16 19:22:30,339 - stpipe.Detector1Pipeline.ramp_fit - INFO - Number of multiprocessing slices: 1\n"
     ]
    },
    {
     "name": "stderr",
     "output_type": "stream",
     "text": [
      "2025-06-16 19:22:30,340 - stpipe.Detector1Pipeline.ramp_fit - INFO - Number of leading groups that are flagged as DO_NOT_USE: 0\n"
     ]
    },
    {
     "name": "stderr",
     "output_type": "stream",
     "text": [
      "2025-06-16 19:22:30,341 - stpipe.Detector1Pipeline.ramp_fit - INFO - MIRI dataset has all pixels in the final group flagged as DO_NOT_USE.\n"
     ]
    },
    {
     "name": "stderr",
     "output_type": "stream",
     "text": [
      "2025-06-16 19:22:31,552 - stpipe.Detector1Pipeline.ramp_fit - INFO - Ramp Fitting C Time: 1.2106013298034668\n"
     ]
    },
    {
     "name": "stderr",
     "output_type": "stream",
     "text": [
      "2025-06-16 19:22:31,600 - stpipe.Detector1Pipeline.ramp_fit - INFO - Step ramp_fit done\n"
     ]
    },
    {
     "name": "stderr",
     "output_type": "stream",
     "text": [
      "2025-06-16 19:22:31,705 - stpipe.Detector1Pipeline.gain_scale - INFO - Step gain_scale running with args (<ImageModel(416, 72) from jw04496005001_03102_00001-seg001_mirimage_ramp.fits>,).\n"
     ]
    },
    {
     "name": "stderr",
     "output_type": "stream",
     "text": [
      "2025-06-16 19:22:31,733 - stpipe.Detector1Pipeline.gain_scale - INFO - GAINFACT not found in gain reference file\n"
     ]
    },
    {
     "name": "stderr",
     "output_type": "stream",
     "text": [
      "2025-06-16 19:22:31,734 - stpipe.Detector1Pipeline.gain_scale - INFO - Step will be skipped\n"
     ]
    },
    {
     "name": "stderr",
     "output_type": "stream",
     "text": [
      "2025-06-16 19:22:31,737 - stpipe.Detector1Pipeline.gain_scale - INFO - Step gain_scale done\n"
     ]
    },
    {
     "name": "stderr",
     "output_type": "stream",
     "text": [
      "2025-06-16 19:22:31,827 - stpipe.Detector1Pipeline.gain_scale - INFO - Step gain_scale running with args (<CubeModel(72, 416, 72) from jw04496005001_03102_00001-seg001_mirimage_ramp.fits>,).\n"
     ]
    },
    {
     "name": "stderr",
     "output_type": "stream",
     "text": [
      "2025-06-16 19:22:31,856 - stpipe.Detector1Pipeline.gain_scale - INFO - GAINFACT not found in gain reference file\n"
     ]
    },
    {
     "name": "stderr",
     "output_type": "stream",
     "text": [
      "2025-06-16 19:22:31,856 - stpipe.Detector1Pipeline.gain_scale - INFO - Step will be skipped\n"
     ]
    },
    {
     "name": "stderr",
     "output_type": "stream",
     "text": [
      "2025-06-16 19:22:31,859 - stpipe.Detector1Pipeline.gain_scale - INFO - Step gain_scale done\n"
     ]
    },
    {
     "name": "stderr",
     "output_type": "stream",
     "text": [
      "2025-06-16 19:22:31,948 - stpipe.Detector1Pipeline - INFO - Saved model in ./lrs_tso_demo_data/PID04496Obs005/stage1/jw04496005001_03102_00001-seg001_mirimage_rateints.fits\n"
     ]
    },
    {
     "name": "stderr",
     "output_type": "stream",
     "text": [
      "2025-06-16 19:22:31,949 - stpipe.Detector1Pipeline - INFO - ... ending calwebb_detector1\n"
     ]
    },
    {
     "name": "stderr",
     "output_type": "stream",
     "text": [
      "2025-06-16 19:22:31,952 - stpipe.Detector1Pipeline - INFO - Results used CRDS context: jwst_1364.pmap\n"
     ]
    },
    {
     "name": "stderr",
     "output_type": "stream",
     "text": [
      "2025-06-16 19:22:32,013 - stpipe.Detector1Pipeline - INFO - Saved model in ./lrs_tso_demo_data/PID04496Obs005/stage1/jw04496005001_03102_00001-seg001_mirimage_rate.fits\n"
     ]
    },
    {
     "name": "stderr",
     "output_type": "stream",
     "text": [
      "2025-06-16 19:22:32,014 - stpipe.Detector1Pipeline - INFO - Step Detector1Pipeline done\n"
     ]
    },
    {
     "name": "stderr",
     "output_type": "stream",
     "text": [
      "2025-06-16 19:22:32,014 - stpipe - INFO - Results used jwst version: 1.18.1\n"
     ]
    }
   ],
   "source": [
    "# Run the pipeline on the selected input files one by one with the custom parameter dictionary \n",
    "if do_det1 and bkg_data:\n",
    "    for file in input_files:\n",
    "        Detector1Pipeline.call(file, steps=det1dict, save_results=True, output_dir=det1_bkgdir)\n",
    "else:\n",
    "    print('Skipping Detector1 for background files')"
   ]
  },
  {
   "cell_type": "code",
   "execution_count": 19,
   "id": "6050b1db",
   "metadata": {
    "execution": {
     "iopub.execute_input": "2025-06-16T19:22:32.019742Z",
     "iopub.status.busy": "2025-06-16T19:22:32.019374Z",
     "iopub.status.idle": "2025-06-16T19:22:32.022553Z",
     "shell.execute_reply": "2025-06-16T19:22:32.022110Z"
    }
   },
   "outputs": [
    {
     "name": "stdout",
     "output_type": "stream",
     "text": [
      "Runtime so far: 134.6629 seconds\n",
      "Runtime for Detector1: 126.58717207700002 seconds\n"
     ]
    }
   ],
   "source": [
    "# Print out the time benchmark\n",
    "time1 = time.perf_counter()\n",
    "print(f\"Runtime so far: {time1 - time0:0.4f} seconds\")\n",
    "print(f\"Runtime for Detector1: {time1 - time_det1} seconds\")"
   ]
  },
  {
   "cell_type": "markdown",
   "id": "474f7f15",
   "metadata": {},
   "source": [
    "<hr style=\"border:1px solid gray\"> </hr>"
   ]
  },
  {
   "cell_type": "markdown",
   "id": "0904ccc5",
   "metadata": {},
   "source": [
    "6.<font color='white'>-</font>Spec2 Pipeline<a class=\"anchor\" id=\"spec2\"></a>\n",
    "------------------\n",
    "\n",
    "This stage of the pipeline passes the per-integration countrate (ramp slope) images (`*_rateints.fits` files) previously generated from\n",
    "Detector1 through the Spec2 (calwebb_spec2) pipeline to yield Stage 2\n",
    "data products (i.e., flux-calibrated flat-fielded subarray images `*_calints.fits` and quick-look 1D extracted spectra `*_x1dints.fits`) for each exposure.  These data products have units of MJy/sr.\n",
    "\n",
    "If <code>bkg_sub = True</code>, an association file will be created that pairs each science file with the dedicated background files, and the `bkg_subtract` step will be activated to carry out pixel-by-pixel background subtraction. Otherwise, the countrate files will be passed directly through the Spec2 pipeline.\n",
    "\n",
    "See https://jwst-docs.stsci.edu/jwst-science-calibration-pipeline/stages-of-jwst-data-processing/calwebb_spec2 for a detailed overview of the various pipeline steps that comprise Spec2.\n",
    "\n",
    "<div class=\"alert alert-block alert-warning\">\n",
    "To override certain steps and reference files, use the examples below.\n",
    "</div>"
   ]
  },
  {
   "cell_type": "code",
   "execution_count": 20,
   "id": "ecdc0b25",
   "metadata": {
    "execution": {
     "iopub.execute_input": "2025-06-16T19:22:32.024173Z",
     "iopub.status.busy": "2025-06-16T19:22:32.024021Z",
     "iopub.status.idle": "2025-06-16T19:22:32.026339Z",
     "shell.execute_reply": "2025-06-16T19:22:32.025911Z"
    }
   },
   "outputs": [],
   "source": [
    "time_spec2 = time.perf_counter()"
   ]
  },
  {
   "cell_type": "code",
   "execution_count": 21,
   "id": "7ca0da51",
   "metadata": {
    "execution": {
     "iopub.execute_input": "2025-06-16T19:22:32.027950Z",
     "iopub.status.busy": "2025-06-16T19:22:32.027799Z",
     "iopub.status.idle": "2025-06-16T19:22:32.031848Z",
     "shell.execute_reply": "2025-06-16T19:22:32.031414Z"
    }
   },
   "outputs": [],
   "source": [
    "# Set up a dictionary to define how the Spec2 pipeline should be configured\n",
    "\n",
    "# Boilerplate dictionary setup\n",
    "spec2dict = {}\n",
    "spec2dict['assign_wcs'], spec2dict['badpix_selfcal'], spec2dict['bkg_subtract'], spec2dict['flat_field'], spec2dict['srctype'] = {}, {}, {}, {}, {}\n",
    "spec2dict['straylight'], spec2dict['fringe'], spec2dict['photom'], spec2dict['residual_fringe'], spec2dict['pixel_replace'] = {}, {}, {}, {}, {}\n",
    "spec2dict['cube_build'], spec2dict['extract_1d'] = {}, {}\n",
    "\n",
    "# Activate dedicated background subtraction, if requested\n",
    "if (bkg_sub is True) and bkg_data:\n",
    "    spec2dict['bkg_subtract']['skip'] = False\n",
    "else:\n",
    "    spec2dict['bkg_subtract']['skip'] = True\n",
    "\n",
    "# Overrides for whether or not certain steps should be skipped (example)\n",
    "#spec2dict['straylight']['skip'] = True\n",
    "\n",
    "# Overrides for various reference files\n",
    "# Files should be in the base local directory or provide full path\n",
    "#spec2dict['assign_wcs']['override_distortion'] = 'myfile.asdf' # Spatial distortion (ASDF file)\n",
    "#spec2dict['assign_wcs']['override_specwcs'] = 'myfile.asdf' # Spectral distortion (ASDF file)\n",
    "#spec2dict['flat_field']['override_flat'] = 'myfile.fits' # Pixel flatfield\n",
    "#spec2dict['photom']['override_photom'] = 'myfile.fits' # Photometric calibration array\n",
    "#spec2dict['extract_1d']['override_extract1d'] = 'myfile.asdf' # Spectral extraction parameters (ASDF file)\n",
    "#spec2dict['extract_1d']['override_apcorr'] = 'myfile.asdf' # Aperture correction parameters (ASDF file)"
   ]
  },
  {
   "cell_type": "markdown",
   "id": "31e24c77",
   "metadata": {},
   "source": [
    "Define a function that creates an association file to enable pixel-based background subtraction within Spec2."
   ]
  },
  {
   "cell_type": "code",
   "execution_count": 22,
   "id": "bfde3421",
   "metadata": {
    "execution": {
     "iopub.execute_input": "2025-06-16T19:22:32.033353Z",
     "iopub.status.busy": "2025-06-16T19:22:32.033202Z",
     "iopub.status.idle": "2025-06-16T19:22:32.036583Z",
     "shell.execute_reply": "2025-06-16T19:22:32.036149Z"
    }
   },
   "outputs": [],
   "source": [
    "def writel2asn(scifile, bkgfiles, asnfile):\n",
    "    # Define the basic association of the science exposure\n",
    "    asn = afl.asn_from_list([scifile], rule=DMSLevel2bBase)  # Wrap in array since input is single exposure\n",
    "\n",
    "    # Add the background exposure\n",
    "    for file in bkgfiles:\n",
    "        asn['products'][0]['members'].append({'expname': file, 'exptype': 'background'})              \n",
    "\n",
    "    # Write the association to a json file\n",
    "    _, serialized = asn.dump()\n",
    "    with open(asnfile, 'w') as outfile:\n",
    "        outfile.write(serialized)"
   ]
  },
  {
   "cell_type": "markdown",
   "id": "6fb0dd85",
   "metadata": {},
   "source": [
    "Construct lists of science rate files and corresponding background exposures, ensuring the use of absolute paths."
   ]
  },
  {
   "cell_type": "code",
   "execution_count": 23,
   "id": "1c355906",
   "metadata": {
    "execution": {
     "iopub.execute_input": "2025-06-16T19:22:32.038167Z",
     "iopub.status.busy": "2025-06-16T19:22:32.038003Z",
     "iopub.status.idle": "2025-06-16T19:22:32.042439Z",
     "shell.execute_reply": "2025-06-16T19:22:32.041883Z"
    }
   },
   "outputs": [],
   "source": [
    "# Get science rate files from the Detector1 output folder\n",
    "sci_files = sorted(glob.glob(os.path.join(det1_dir, '*rateints.fits')))\n",
    "\n",
    "# Use the absolute file paths\n",
    "for ii in range(len(sci_files)):\n",
    "    sci_files[ii] = os.path.abspath(sci_files[ii])\n",
    "sci_files = np.array(sci_files)\n",
    "\n",
    "# Get background rate files\n",
    "if bkg_data:\n",
    "    bkg_files = sorted(glob.glob(os.path.join(det1_bkgdir, '*rateints.fits')))\n",
    "\n",
    "    # Use the absolute file paths\n",
    "    for ii in range(len(bkg_files)):\n",
    "        bkg_files[ii] = os.path.abspath(bkg_files[ii])\n",
    "    bkg_files = np.array(bkg_files)"
   ]
  },
  {
   "cell_type": "markdown",
   "id": "345159b8",
   "metadata": {},
   "source": [
    "Run the Stage 1 rate files through the Spec2 pipeline. Create ASN files if <code>bkg_sub = True</code>."
   ]
  },
  {
   "cell_type": "code",
   "execution_count": 24,
   "id": "7b0f21dc",
   "metadata": {
    "execution": {
     "iopub.execute_input": "2025-06-16T19:22:32.044151Z",
     "iopub.status.busy": "2025-06-16T19:22:32.043986Z",
     "iopub.status.idle": "2025-06-16T19:26:58.733273Z",
     "shell.execute_reply": "2025-06-16T19:26:58.732805Z"
    },
    "tags": [
     "scroll-output"
    ]
   },
   "outputs": [
    {
     "name": "stderr",
     "output_type": "stream",
     "text": [
      "2025-06-16 19:22:32,047 - stpipe - WARNING - /opt/hostedtoolcache/Python/3.11.13/x64/lib/python3.11/site-packages/jwst/associations/association.py:215: UserWarning: Input association file contains path information; note that this can complicate usage and/or sharing of such files.\n",
      "  warnings.warn(err_str, UserWarning)\n",
      "\n"
     ]
    },
    {
     "name": "stderr",
     "output_type": "stream",
     "text": [
      "2025-06-16 19:22:32,153 - CRDS - INFO -  Fetching  /home/runner/crds/references/jwst/miri/jwst_miri_pars-resamplespecstep_0001.asdf      965 bytes  (1 / 1 files) (0 / 965 bytes)\n"
     ]
    },
    {
     "name": "stderr",
     "output_type": "stream",
     "text": [
      "2025-06-16 19:22:32,231 - stpipe - INFO - PARS-RESAMPLESPECSTEP parameters found: /home/runner/crds/references/jwst/miri/jwst_miri_pars-resamplespecstep_0001.asdf\n"
     ]
    },
    {
     "name": "stderr",
     "output_type": "stream",
     "text": [
      "2025-06-16 19:22:32,249 - stpipe - INFO - PARS-RESAMPLESPECSTEP parameters found: /home/runner/crds/references/jwst/miri/jwst_miri_pars-resamplespecstep_0001.asdf\n"
     ]
    },
    {
     "name": "stderr",
     "output_type": "stream",
     "text": [
      "2025-06-16 19:22:32,259 - CRDS - INFO -  Fetching  /home/runner/crds/references/jwst/miri/jwst_miri_pars-spec2pipeline_0007.asdf    2.0 K bytes  (1 / 1 files) (0 / 2.0 K bytes)\n"
     ]
    },
    {
     "name": "stderr",
     "output_type": "stream",
     "text": [
      "2025-06-16 19:22:32,339 - stpipe - INFO - PARS-SPEC2PIPELINE parameters found: /home/runner/crds/references/jwst/miri/jwst_miri_pars-spec2pipeline_0007.asdf\n"
     ]
    },
    {
     "name": "stderr",
     "output_type": "stream",
     "text": [
      "2025-06-16 19:22:32,365 - stpipe.Spec2Pipeline - INFO - Spec2Pipeline instance created.\n"
     ]
    },
    {
     "name": "stderr",
     "output_type": "stream",
     "text": [
      "2025-06-16 19:22:32,366 - stpipe.Spec2Pipeline.assign_wcs - INFO - AssignWcsStep instance created.\n"
     ]
    },
    {
     "name": "stderr",
     "output_type": "stream",
     "text": [
      "2025-06-16 19:22:32,367 - stpipe.Spec2Pipeline.badpix_selfcal - INFO - BadpixSelfcalStep instance created.\n"
     ]
    },
    {
     "name": "stderr",
     "output_type": "stream",
     "text": [
      "2025-06-16 19:22:32,368 - stpipe.Spec2Pipeline.msa_flagging - INFO - MSAFlagOpenStep instance created.\n"
     ]
    },
    {
     "name": "stderr",
     "output_type": "stream",
     "text": [
      "2025-06-16 19:22:32,369 - stpipe.Spec2Pipeline.nsclean - INFO - NSCleanStep instance created.\n"
     ]
    },
    {
     "name": "stderr",
     "output_type": "stream",
     "text": [
      "2025-06-16 19:22:32,370 - stpipe.Spec2Pipeline.bkg_subtract - INFO - BackgroundStep instance created.\n"
     ]
    },
    {
     "name": "stderr",
     "output_type": "stream",
     "text": [
      "2025-06-16 19:22:32,371 - stpipe.Spec2Pipeline.imprint_subtract - INFO - ImprintStep instance created.\n"
     ]
    },
    {
     "name": "stderr",
     "output_type": "stream",
     "text": [
      "2025-06-16 19:22:32,372 - stpipe.Spec2Pipeline.extract_2d - INFO - Extract2dStep instance created.\n"
     ]
    },
    {
     "name": "stderr",
     "output_type": "stream",
     "text": [
      "2025-06-16 19:22:32,377 - stpipe.Spec2Pipeline.master_background_mos - INFO - MasterBackgroundMosStep instance created.\n"
     ]
    },
    {
     "name": "stderr",
     "output_type": "stream",
     "text": [
      "2025-06-16 19:22:32,378 - stpipe.Spec2Pipeline.master_background_mos.flat_field - INFO - FlatFieldStep instance created.\n"
     ]
    },
    {
     "name": "stderr",
     "output_type": "stream",
     "text": [
      "2025-06-16 19:22:32,379 - stpipe.Spec2Pipeline.master_background_mos.pathloss - INFO - PathLossStep instance created.\n"
     ]
    },
    {
     "name": "stderr",
     "output_type": "stream",
     "text": [
      "2025-06-16 19:22:32,380 - stpipe.Spec2Pipeline.master_background_mos.barshadow - INFO - BarShadowStep instance created.\n"
     ]
    },
    {
     "name": "stderr",
     "output_type": "stream",
     "text": [
      "2025-06-16 19:22:32,381 - stpipe.Spec2Pipeline.master_background_mos.photom - INFO - PhotomStep instance created.\n"
     ]
    },
    {
     "name": "stderr",
     "output_type": "stream",
     "text": [
      "2025-06-16 19:22:32,382 - stpipe.Spec2Pipeline.master_background_mos.pixel_replace - INFO - PixelReplaceStep instance created.\n"
     ]
    },
    {
     "name": "stderr",
     "output_type": "stream",
     "text": [
      "2025-06-16 19:22:32,383 - stpipe.Spec2Pipeline.master_background_mos.resample_spec - INFO - ResampleSpecStep instance created.\n"
     ]
    },
    {
     "name": "stderr",
     "output_type": "stream",
     "text": [
      "2025-06-16 19:22:32,384 - stpipe.Spec2Pipeline.master_background_mos.extract_1d - INFO - Extract1dStep instance created.\n"
     ]
    },
    {
     "name": "stderr",
     "output_type": "stream",
     "text": [
      "2025-06-16 19:22:32,386 - stpipe.Spec2Pipeline.wavecorr - INFO - WavecorrStep instance created.\n"
     ]
    },
    {
     "name": "stderr",
     "output_type": "stream",
     "text": [
      "2025-06-16 19:22:32,387 - stpipe.Spec2Pipeline.flat_field - INFO - FlatFieldStep instance created.\n"
     ]
    },
    {
     "name": "stderr",
     "output_type": "stream",
     "text": [
      "2025-06-16 19:22:32,387 - stpipe.Spec2Pipeline.srctype - INFO - SourceTypeStep instance created.\n"
     ]
    },
    {
     "name": "stderr",
     "output_type": "stream",
     "text": [
      "2025-06-16 19:22:32,389 - stpipe.Spec2Pipeline.straylight - INFO - StraylightStep instance created.\n"
     ]
    },
    {
     "name": "stderr",
     "output_type": "stream",
     "text": [
      "2025-06-16 19:22:32,389 - stpipe.Spec2Pipeline.fringe - INFO - FringeStep instance created.\n"
     ]
    },
    {
     "name": "stderr",
     "output_type": "stream",
     "text": [
      "2025-06-16 19:22:32,390 - stpipe.Spec2Pipeline.residual_fringe - INFO - ResidualFringeStep instance created.\n"
     ]
    },
    {
     "name": "stderr",
     "output_type": "stream",
     "text": [
      "2025-06-16 19:22:32,391 - stpipe.Spec2Pipeline.pathloss - INFO - PathLossStep instance created.\n"
     ]
    },
    {
     "name": "stderr",
     "output_type": "stream",
     "text": [
      "2025-06-16 19:22:32,392 - stpipe.Spec2Pipeline.barshadow - INFO - BarShadowStep instance created.\n"
     ]
    },
    {
     "name": "stderr",
     "output_type": "stream",
     "text": [
      "2025-06-16 19:22:32,393 - stpipe.Spec2Pipeline.wfss_contam - INFO - WfssContamStep instance created.\n"
     ]
    },
    {
     "name": "stderr",
     "output_type": "stream",
     "text": [
      "2025-06-16 19:22:32,394 - stpipe.Spec2Pipeline.photom - INFO - PhotomStep instance created.\n"
     ]
    },
    {
     "name": "stderr",
     "output_type": "stream",
     "text": [
      "2025-06-16 19:22:32,395 - stpipe.Spec2Pipeline.pixel_replace - INFO - PixelReplaceStep instance created.\n"
     ]
    },
    {
     "name": "stderr",
     "output_type": "stream",
     "text": [
      "2025-06-16 19:22:32,397 - stpipe.Spec2Pipeline.resample_spec - INFO - ResampleSpecStep instance created.\n"
     ]
    },
    {
     "name": "stderr",
     "output_type": "stream",
     "text": [
      "2025-06-16 19:22:32,398 - stpipe.Spec2Pipeline.cube_build - INFO - CubeBuildStep instance created.\n"
     ]
    },
    {
     "name": "stderr",
     "output_type": "stream",
     "text": [
      "2025-06-16 19:22:32,400 - stpipe.Spec2Pipeline.extract_1d - INFO - Extract1dStep instance created.\n"
     ]
    },
    {
     "name": "stderr",
     "output_type": "stream",
     "text": [
      "2025-06-16 19:22:32,503 - stpipe.Spec2Pipeline - INFO - Step Spec2Pipeline running with args ('./lrs_tso_demo_data/PID04496Obs004/stage1/jw04496004001_03103_00001-seg001_mirimage_rateints_asn.json',).\n"
     ]
    },
    {
     "name": "stderr",
     "output_type": "stream",
     "text": [
      "2025-06-16 19:22:32,542 - stpipe.Spec2Pipeline - INFO - Step Spec2Pipeline parameters are:\n",
      "  pre_hooks: []\n",
      "  post_hooks: []\n",
      "  output_file: None\n",
      "  output_dir: ./lrs_tso_demo_data/PID04496Obs004/stage2\n",
      "  output_ext: .fits\n",
      "  output_use_model: False\n",
      "  output_use_index: True\n",
      "  save_results: True\n",
      "  skip: False\n",
      "  suffix: None\n",
      "  search_output_file: True\n",
      "  input_dir: ''\n",
      "  save_bsub: False\n",
      "  fail_on_exception: True\n",
      "  save_wfss_esec: False\n",
      "  steps:\n",
      "    assign_wcs:\n",
      "      pre_hooks: []\n",
      "      post_hooks: []\n",
      "      output_file: None\n",
      "      output_dir: None\n",
      "      output_ext: .fits\n",
      "      output_use_model: False\n",
      "      output_use_index: True\n",
      "      save_results: False\n",
      "      skip: False\n",
      "      suffix: None\n",
      "      search_output_file: True\n",
      "      input_dir: ''\n",
      "      sip_approx: True\n",
      "      sip_max_pix_error: 0.01\n",
      "      sip_degree: None\n",
      "      sip_max_inv_pix_error: 0.01\n",
      "      sip_inv_degree: None\n",
      "      sip_npoints: 12\n",
      "      slit_y_low: -0.55\n",
      "      slit_y_high: 0.55\n",
      "    badpix_selfcal:\n",
      "      pre_hooks: []\n",
      "      post_hooks: []\n",
      "      output_file: None\n",
      "      output_dir: None\n",
      "      output_ext: .fits\n",
      "      output_use_model: False\n",
      "      output_use_index: True\n",
      "      save_results: False\n",
      "      skip: True\n",
      "      suffix: None\n",
      "      search_output_file: True\n",
      "      input_dir: ''\n",
      "      flagfrac_lower: 0.001\n",
      "      flagfrac_upper: 0.001\n",
      "      kernel_size: 15\n",
      "      force_single: False\n",
      "      save_flagged_bkg: False\n",
      "    msa_flagging:\n",
      "      pre_hooks: []\n",
      "      post_hooks: []\n",
      "      output_file: None\n",
      "      output_dir: None\n",
      "      output_ext: .fits\n",
      "      output_use_model: False\n",
      "      output_use_index: True\n",
      "      save_results: False\n",
      "      skip: False\n",
      "      suffix: None\n",
      "      search_output_file: True\n",
      "      input_dir: ''\n",
      "    nsclean:\n",
      "      pre_hooks: []\n",
      "      post_hooks: []\n",
      "      output_file: None\n",
      "      output_dir: None\n",
      "      output_ext: .fits\n",
      "      output_use_model: False\n",
      "      output_use_index: True\n",
      "      save_results: False\n",
      "      skip: True\n",
      "      suffix: None\n",
      "      search_output_file: True\n",
      "      input_dir: ''\n",
      "      fit_method: fft\n",
      "      fit_by_channel: False\n",
      "      background_method: None\n",
      "      background_box_size: None\n",
      "      mask_spectral_regions: True\n",
      "      n_sigma: 5.0\n",
      "      fit_histogram: False\n",
      "      single_mask: False\n",
      "      user_mask: None\n",
      "      save_mask: False\n",
      "      save_background: False\n",
      "      save_noise: False\n",
      "    bkg_subtract:\n",
      "      pre_hooks: []\n",
      "      post_hooks: []\n",
      "      output_file: None\n",
      "      output_dir: None\n",
      "      output_ext: .fits\n",
      "      output_use_model: False\n",
      "      output_use_index: True\n",
      "      save_results: False\n",
      "      skip: False\n",
      "      suffix: None\n",
      "      search_output_file: True\n",
      "      input_dir: ''\n",
      "      save_combined_background: False\n",
      "      sigma: 3.0\n",
      "      maxiters: None\n",
      "      wfss_mmag_extract: None\n",
      "      wfss_maxiter: 5\n",
      "      wfss_rms_stop: 0.0\n",
      "      wfss_outlier_percent: 1.0\n",
      "    imprint_subtract:\n",
      "      pre_hooks: []\n",
      "      post_hooks: []\n",
      "      output_file: None\n",
      "      output_dir: None\n",
      "      output_ext: .fits\n",
      "      output_use_model: False\n",
      "      output_use_index: True\n",
      "      save_results: False\n",
      "      skip: False\n",
      "      suffix: None\n",
      "      search_output_file: True\n",
      "      input_dir: ''\n",
      "    extract_2d:\n",
      "      pre_hooks: []\n",
      "      post_hooks: []\n",
      "      output_file: None\n",
      "      output_dir: None\n",
      "      output_ext: .fits\n",
      "      output_use_model: False\n",
      "      output_use_index: True\n",
      "      save_results: False\n",
      "      skip: False\n",
      "      suffix: None\n",
      "      search_output_file: True\n",
      "      input_dir: ''\n",
      "      slit_names: None\n",
      "      source_ids: None\n",
      "      extract_orders: None\n",
      "      grism_objects: None\n",
      "      tsgrism_extract_height: None\n",
      "      wfss_extract_half_height: 5\n",
      "      wfss_mmag_extract: None\n",
      "      wfss_nbright: 1000\n",
      "    master_background_mos:\n",
      "      pre_hooks: []\n",
      "      post_hooks: []\n",
      "      output_file: None\n",
      "      output_dir: None\n",
      "      output_ext: .fits\n",
      "      output_use_model: True\n",
      "      output_use_index: True\n",
      "      save_results: False\n",
      "      skip: False\n",
      "      suffix: None\n",
      "      search_output_file: True\n",
      "      input_dir: ''\n",
      "      sigma_clip: 3.0\n",
      "      median_kernel: 1\n",
      "      force_subtract: False\n",
      "      save_background: False\n",
      "      user_background: None\n",
      "      inverse: False\n",
      "      steps:\n",
      "        flat_field:\n",
      "          pre_hooks: []\n",
      "          post_hooks: []\n",
      "          output_file: None\n",
      "          output_dir: None\n",
      "          output_ext: .fits\n",
      "          output_use_model: False\n",
      "          output_use_index: True\n",
      "          save_results: False\n",
      "          skip: False\n",
      "          suffix: None\n",
      "          search_output_file: True\n",
      "          input_dir: ''\n",
      "          save_interpolated_flat: False\n",
      "          user_supplied_flat: None\n",
      "          inverse: False\n",
      "        pathloss:\n",
      "          pre_hooks: []\n",
      "          post_hooks: []\n",
      "          output_file: None\n",
      "          output_dir: None\n",
      "          output_ext: .fits\n",
      "          output_use_model: False\n",
      "          output_use_index: True\n",
      "          save_results: False\n",
      "          skip: False\n",
      "          suffix: None\n",
      "          search_output_file: True\n",
      "          input_dir: ''\n",
      "          inverse: False\n",
      "          source_type: None\n",
      "          user_slit_loc: None\n",
      "        barshadow:\n",
      "          pre_hooks: []\n",
      "          post_hooks: []\n",
      "          output_file: None\n",
      "          output_dir: None\n",
      "          output_ext: .fits\n",
      "          output_use_model: False\n",
      "          output_use_index: True\n",
      "          save_results: False\n",
      "          skip: False\n",
      "          suffix: None\n",
      "          search_output_file: True\n",
      "          input_dir: ''\n",
      "          inverse: False\n",
      "          source_type: None\n",
      "        photom:\n",
      "          pre_hooks: []\n",
      "          post_hooks: []\n",
      "          output_file: None\n",
      "          output_dir: None\n",
      "          output_ext: .fits\n",
      "          output_use_model: False\n",
      "          output_use_index: True\n",
      "          save_results: False\n",
      "          skip: False\n",
      "          suffix: None\n",
      "          search_output_file: True\n",
      "          input_dir: ''\n",
      "          inverse: False\n",
      "          source_type: None\n",
      "          mrs_time_correction: True\n",
      "        pixel_replace:\n",
      "          pre_hooks: []\n",
      "          post_hooks: []\n",
      "          output_file: None\n",
      "          output_dir: None\n",
      "          output_ext: .fits\n",
      "          output_use_model: True\n",
      "          output_use_index: True\n",
      "          save_results: False\n",
      "          skip: True\n",
      "          suffix: None\n",
      "          search_output_file: True\n",
      "          input_dir: ''\n",
      "          algorithm: fit_profile\n",
      "          n_adjacent_cols: 3\n",
      "        resample_spec:\n",
      "          pre_hooks: []\n",
      "          post_hooks: []\n",
      "          output_file: None\n",
      "          output_dir: None\n",
      "          output_ext: .fits\n",
      "          output_use_model: False\n",
      "          output_use_index: True\n",
      "          save_results: False\n",
      "          skip: False\n",
      "          suffix: None\n",
      "          search_output_file: True\n",
      "          input_dir: ''\n",
      "          pixfrac: 1.0\n",
      "          kernel: square\n",
      "          fillval: NAN\n",
      "          weight_type: exptime\n",
      "          output_shape: None\n",
      "          pixel_scale_ratio: 1.0\n",
      "          pixel_scale: None\n",
      "          output_wcs: ''\n",
      "          single: False\n",
      "          blendheaders: True\n",
      "          in_memory: True\n",
      "        extract_1d:\n",
      "          pre_hooks: []\n",
      "          post_hooks: []\n",
      "          output_file: None\n",
      "          output_dir: None\n",
      "          output_ext: .fits\n",
      "          output_use_model: False\n",
      "          output_use_index: True\n",
      "          save_results: False\n",
      "          skip: False\n",
      "          suffix: None\n",
      "          search_output_file: True\n",
      "          input_dir: ''\n",
      "          subtract_background: None\n",
      "          apply_apcorr: True\n",
      "          extraction_type: box\n",
      "          use_source_posn: None\n",
      "          position_offset: 0.0\n",
      "          model_nod_pair: True\n",
      "          optimize_psf_location: True\n",
      "          smoothing_length: None\n",
      "          bkg_fit: None\n",
      "          bkg_order: None\n",
      "          log_increment: 50\n",
      "          save_profile: False\n",
      "          save_scene_model: False\n",
      "          save_residual_image: False\n",
      "          center_xy: None\n",
      "          ifu_autocen: False\n",
      "          bkg_sigma_clip: 3.0\n",
      "          ifu_rfcorr: True\n",
      "          ifu_set_srctype: None\n",
      "          ifu_rscale: None\n",
      "          ifu_covar_scale: 1.0\n",
      "          soss_atoca: True\n",
      "          soss_threshold: 0.01\n",
      "          soss_n_os: 2\n",
      "          soss_wave_grid_in: None\n",
      "          soss_wave_grid_out: None\n",
      "          soss_estimate: None\n",
      "          soss_rtol: 0.0001\n",
      "          soss_max_grid_size: 20000\n",
      "          soss_tikfac: None\n",
      "          soss_width: 40.0\n",
      "          soss_bad_pix: masking\n",
      "          soss_modelname: None\n",
      "    wavecorr:\n",
      "      pre_hooks: []\n",
      "      post_hooks: []\n",
      "      output_file: None\n",
      "      output_dir: None\n",
      "      output_ext: .fits\n",
      "      output_use_model: False\n",
      "      output_use_index: True\n",
      "      save_results: False\n",
      "      skip: False\n",
      "      suffix: None\n",
      "      search_output_file: True\n",
      "      input_dir: ''\n",
      "    flat_field:\n",
      "      pre_hooks: []\n",
      "      post_hooks: []\n",
      "      output_file: None\n",
      "      output_dir: None\n",
      "      output_ext: .fits\n",
      "      output_use_model: False\n",
      "      output_use_index: True\n",
      "      save_results: False\n",
      "      skip: False\n",
      "      suffix: None\n",
      "      search_output_file: True\n",
      "      input_dir: ''\n",
      "      save_interpolated_flat: False\n",
      "      user_supplied_flat: None\n",
      "      inverse: False\n",
      "    srctype:\n",
      "      pre_hooks: []\n",
      "      post_hooks: []\n",
      "      output_file: None\n",
      "      output_dir: None\n",
      "      output_ext: .fits\n",
      "      output_use_model: False\n",
      "      output_use_index: True\n",
      "      save_results: False\n",
      "      skip: False\n",
      "      suffix: None\n",
      "      search_output_file: True\n",
      "      input_dir: ''\n",
      "      source_type: None\n",
      "    straylight:\n",
      "      pre_hooks: []\n",
      "      post_hooks: []\n",
      "      output_file: None\n",
      "      output_dir: None\n",
      "      output_ext: .fits\n",
      "      output_use_model: False\n",
      "      output_use_index: True\n",
      "      save_results: False\n",
      "      skip: False\n",
      "      suffix: None\n",
      "      search_output_file: True\n",
      "      input_dir: ''\n",
      "      clean_showers: False\n",
      "      shower_plane: 3\n",
      "      shower_x_stddev: 18.0\n",
      "      shower_y_stddev: 5.0\n",
      "      shower_low_reject: 0.1\n",
      "      shower_high_reject: 99.9\n",
      "    fringe:\n",
      "      pre_hooks: []\n",
      "      post_hooks: []\n",
      "      output_file: None\n",
      "      output_dir: None\n",
      "      output_ext: .fits\n",
      "      output_use_model: False\n",
      "      output_use_index: True\n",
      "      save_results: False\n",
      "      skip: False\n",
      "      suffix: None\n",
      "      search_output_file: True\n",
      "      input_dir: ''\n",
      "    residual_fringe:\n",
      "      pre_hooks: []\n",
      "      post_hooks: []\n",
      "      output_file: None\n",
      "      output_dir: None\n",
      "      output_ext: .fits\n",
      "      output_use_model: False\n",
      "      output_use_index: True\n",
      "      save_results: False\n",
      "      skip: True\n",
      "      suffix: residual_fringe\n",
      "      search_output_file: False\n",
      "      input_dir: ''\n",
      "      save_intermediate_results: False\n",
      "      ignore_region_min: None\n",
      "      ignore_region_max: None\n",
      "    pathloss:\n",
      "      pre_hooks: []\n",
      "      post_hooks: []\n",
      "      output_file: None\n",
      "      output_dir: None\n",
      "      output_ext: .fits\n",
      "      output_use_model: False\n",
      "      output_use_index: True\n",
      "      save_results: False\n",
      "      skip: False\n",
      "      suffix: None\n",
      "      search_output_file: True\n",
      "      input_dir: ''\n",
      "      inverse: False\n",
      "      source_type: None\n",
      "      user_slit_loc: None\n",
      "    barshadow:\n",
      "      pre_hooks: []\n",
      "      post_hooks: []\n",
      "      output_file: None\n",
      "      output_dir: None\n",
      "      output_ext: .fits\n",
      "      output_use_model: False\n",
      "      output_use_index: True\n",
      "      save_results: False\n",
      "      skip: False\n",
      "      suffix: None\n",
      "      search_output_file: True\n",
      "      input_dir: ''\n",
      "      inverse: False\n",
      "      source_type: None\n",
      "    wfss_contam:\n",
      "      pre_hooks: []\n",
      "      post_hooks: []\n",
      "      output_file: None\n",
      "      output_dir: None\n",
      "      output_ext: .fits\n",
      "      output_use_model: False\n",
      "      output_use_index: True\n",
      "      save_results: False\n",
      "      skip: True\n",
      "      suffix: None\n",
      "      search_output_file: True\n",
      "      input_dir: ''\n",
      "      save_simulated_image: False\n",
      "      save_contam_images: False\n",
      "      maximum_cores: none\n",
      "    photom:\n",
      "      pre_hooks: []\n",
      "      post_hooks: []\n",
      "      output_file: None\n",
      "      output_dir: None\n",
      "      output_ext: .fits\n",
      "      output_use_model: False\n",
      "      output_use_index: True\n",
      "      save_results: False\n",
      "      skip: False\n",
      "      suffix: None\n",
      "      search_output_file: True\n",
      "      input_dir: ''\n",
      "      inverse: False\n",
      "      source_type: None\n",
      "      mrs_time_correction: True\n",
      "    pixel_replace:\n",
      "      pre_hooks: []\n",
      "      post_hooks: []\n",
      "      output_file: None\n",
      "      output_dir: None\n",
      "      output_ext: .fits\n",
      "      output_use_model: True\n",
      "      output_use_index: True\n",
      "      save_results: False\n",
      "      skip: False\n",
      "      suffix: None\n",
      "      search_output_file: True\n",
      "      input_dir: ''\n",
      "      algorithm: fit_profile\n",
      "      n_adjacent_cols: 3\n",
      "    resample_spec:\n",
      "      pre_hooks: []\n",
      "      post_hooks: []\n",
      "      output_file: None\n",
      "      output_dir: None\n",
      "      output_ext: .fits\n",
      "      output_use_model: False\n",
      "      output_use_index: True\n",
      "      save_results: False\n",
      "      skip: False\n",
      "      suffix: None\n",
      "      search_output_file: True\n",
      "      input_dir: ''\n",
      "      pixfrac: 1.0\n",
      "      kernel: square\n",
      "      fillval: NAN\n",
      "      weight_type: exptime\n",
      "      output_shape: None\n",
      "      pixel_scale_ratio: 1.0\n",
      "      pixel_scale: None\n",
      "      output_wcs: ''\n",
      "      single: False\n",
      "      blendheaders: True\n",
      "      in_memory: True\n",
      "    cube_build:\n",
      "      pre_hooks: []\n",
      "      post_hooks: []\n",
      "      output_file: None\n",
      "      output_dir: None\n",
      "      output_ext: .fits\n",
      "      output_use_model: True\n",
      "      output_use_index: True\n",
      "      save_results: False\n",
      "      skip: False\n",
      "      suffix: s3d\n",
      "      search_output_file: False\n",
      "      input_dir: ''\n",
      "      channel: all\n",
      "      band: all\n",
      "      grating: all\n",
      "      filter: all\n",
      "      output_type: None\n",
      "      scalexy: 0.0\n",
      "      scalew: 0.0\n",
      "      weighting: drizzle\n",
      "      coord_system: skyalign\n",
      "      ra_center: None\n",
      "      dec_center: None\n",
      "      cube_pa: None\n",
      "      nspax_x: None\n",
      "      nspax_y: None\n",
      "      rois: 0.0\n",
      "      roiw: 0.0\n",
      "      weight_power: 2.0\n",
      "      wavemin: None\n",
      "      wavemax: None\n",
      "      single: False\n",
      "      skip_dqflagging: False\n",
      "      offset_file: None\n",
      "      debug_spaxel: -1 -1 -1\n",
      "    extract_1d:\n",
      "      pre_hooks: []\n",
      "      post_hooks: []\n",
      "      output_file: None\n",
      "      output_dir: None\n",
      "      output_ext: .fits\n",
      "      output_use_model: False\n",
      "      output_use_index: True\n",
      "      save_results: False\n",
      "      skip: False\n",
      "      suffix: None\n",
      "      search_output_file: True\n",
      "      input_dir: ''\n",
      "      subtract_background: None\n",
      "      apply_apcorr: True\n",
      "      extraction_type: box\n",
      "      use_source_posn: None\n",
      "      position_offset: 0.0\n",
      "      model_nod_pair: True\n",
      "      optimize_psf_location: True\n",
      "      smoothing_length: None\n",
      "      bkg_fit: None\n",
      "      bkg_order: None\n",
      "      log_increment: 50\n",
      "      save_profile: False\n",
      "      save_scene_model: False\n",
      "      save_residual_image: False\n",
      "      center_xy: None\n",
      "      ifu_autocen: False\n",
      "      bkg_sigma_clip: 3.0\n",
      "      ifu_rfcorr: True\n",
      "      ifu_set_srctype: None\n",
      "      ifu_rscale: None\n",
      "      ifu_covar_scale: 1.0\n",
      "      soss_atoca: True\n",
      "      soss_threshold: 0.01\n",
      "      soss_n_os: 2\n",
      "      soss_wave_grid_in: None\n",
      "      soss_wave_grid_out: None\n",
      "      soss_estimate: None\n",
      "      soss_rtol: 0.0001\n",
      "      soss_max_grid_size: 20000\n",
      "      soss_tikfac: None\n",
      "      soss_width: 40.0\n",
      "      soss_bad_pix: masking\n",
      "      soss_modelname: None\n"
     ]
    },
    {
     "name": "stderr",
     "output_type": "stream",
     "text": [
      "2025-06-16 19:22:32,553 - stpipe.Spec2Pipeline - WARNING - /opt/hostedtoolcache/Python/3.11.13/x64/lib/python3.11/site-packages/jwst/associations/association.py:215: UserWarning: Input association file contains path information; note that this can complicate usage and/or sharing of such files.\n",
      "  warnings.warn(err_str, UserWarning)\n",
      "\n"
     ]
    },
    {
     "name": "stderr",
     "output_type": "stream",
     "text": [
      "2025-06-16 19:22:32,630 - stpipe.Spec2Pipeline - INFO - Prefetching reference files for dataset: 'jw04496004001_03103_00001-seg001_mirimage_rateints.fits' reftypes = ['apcorr', 'area', 'barshadow', 'camera', 'collimator', 'cubepar', 'dflat', 'disperser', 'distortion', 'extract1d', 'fflat', 'filteroffset', 'flat', 'fore', 'fpa', 'fringe', 'ifufore', 'ifupost', 'ifuslicer', 'mrsxartcorr', 'msa', 'msaoper', 'ote', 'pastasoss', 'pathloss', 'photom', 'psf', 'regions', 'sflat', 'speckernel', 'specprofile', 'specwcs', 'wavecorr', 'wavelengthrange', 'wfssbkg']\n"
     ]
    },
    {
     "name": "stderr",
     "output_type": "stream",
     "text": [
      "2025-06-16 19:22:32,635 - CRDS - INFO -  Fetching  /home/runner/crds/references/jwst/miri/jwst_miri_apcorr_0013.fits  259.2 K bytes  (1 / 6 files) (0 / 718.8 K bytes)\n"
     ]
    },
    {
     "name": "stderr",
     "output_type": "stream",
     "text": [
      "2025-06-16 19:22:32,768 - CRDS - INFO -  Fetching  /home/runner/crds/references/jwst/miri/jwst_miri_distortion_0047.asdf   12.4 K bytes  (2 / 6 files) (259.2 K / 718.8 K bytes)\n"
     ]
    },
    {
     "name": "stderr",
     "output_type": "stream",
     "text": [
      "2025-06-16 19:22:32,848 - CRDS - INFO -  Fetching  /home/runner/crds/references/jwst/miri/jwst_miri_extract1d_0006.json      814 bytes  (3 / 6 files) (271.6 K / 718.8 K bytes)\n"
     ]
    },
    {
     "name": "stderr",
     "output_type": "stream",
     "text": [
      "2025-06-16 19:22:32,927 - CRDS - INFO -  Fetching  /home/runner/crds/references/jwst/miri/jwst_miri_flat_0789.fits  385.9 K bytes  (4 / 6 files) (272.4 K / 718.8 K bytes)\n"
     ]
    },
    {
     "name": "stderr",
     "output_type": "stream",
     "text": [
      "2025-06-16 19:22:33,105 - CRDS - INFO -  Fetching  /home/runner/crds/references/jwst/miri/jwst_miri_photom_0217.fits   14.4 K bytes  (5 / 6 files) (658.3 K / 718.8 K bytes)\n"
     ]
    },
    {
     "name": "stderr",
     "output_type": "stream",
     "text": [
      "2025-06-16 19:22:33,184 - CRDS - INFO -  Fetching  /home/runner/crds/references/jwst/miri/jwst_miri_specwcs_0009.fits   46.1 K bytes  (6 / 6 files) (672.7 K / 718.8 K bytes)\n"
     ]
    },
    {
     "name": "stderr",
     "output_type": "stream",
     "text": [
      "2025-06-16 19:22:33,289 - stpipe.Spec2Pipeline - INFO - Prefetch for APCORR reference file is '/home/runner/crds/references/jwst/miri/jwst_miri_apcorr_0013.fits'.\n"
     ]
    },
    {
     "name": "stderr",
     "output_type": "stream",
     "text": [
      "2025-06-16 19:22:33,290 - stpipe.Spec2Pipeline - INFO - Prefetch for AREA reference file is 'N/A'.\n"
     ]
    },
    {
     "name": "stderr",
     "output_type": "stream",
     "text": [
      "2025-06-16 19:22:33,290 - stpipe.Spec2Pipeline - INFO - Prefetch for BARSHADOW reference file is 'N/A'.\n"
     ]
    },
    {
     "name": "stderr",
     "output_type": "stream",
     "text": [
      "2025-06-16 19:22:33,291 - stpipe.Spec2Pipeline - INFO - Prefetch for CAMERA reference file is 'N/A'.\n"
     ]
    },
    {
     "name": "stderr",
     "output_type": "stream",
     "text": [
      "2025-06-16 19:22:33,291 - stpipe.Spec2Pipeline - INFO - Prefetch for COLLIMATOR reference file is 'N/A'.\n"
     ]
    },
    {
     "name": "stderr",
     "output_type": "stream",
     "text": [
      "2025-06-16 19:22:33,292 - stpipe.Spec2Pipeline - INFO - Prefetch for CUBEPAR reference file is 'N/A'.\n"
     ]
    },
    {
     "name": "stderr",
     "output_type": "stream",
     "text": [
      "2025-06-16 19:22:33,292 - stpipe.Spec2Pipeline - INFO - Prefetch for DFLAT reference file is 'N/A'.\n"
     ]
    },
    {
     "name": "stderr",
     "output_type": "stream",
     "text": [
      "2025-06-16 19:22:33,293 - stpipe.Spec2Pipeline - INFO - Prefetch for DISPERSER reference file is 'N/A'.\n"
     ]
    },
    {
     "name": "stderr",
     "output_type": "stream",
     "text": [
      "2025-06-16 19:22:33,294 - stpipe.Spec2Pipeline - INFO - Prefetch for DISTORTION reference file is '/home/runner/crds/references/jwst/miri/jwst_miri_distortion_0047.asdf'.\n"
     ]
    },
    {
     "name": "stderr",
     "output_type": "stream",
     "text": [
      "2025-06-16 19:22:33,294 - stpipe.Spec2Pipeline - INFO - Prefetch for EXTRACT1D reference file is '/home/runner/crds/references/jwst/miri/jwst_miri_extract1d_0006.json'.\n"
     ]
    },
    {
     "name": "stderr",
     "output_type": "stream",
     "text": [
      "2025-06-16 19:22:33,295 - stpipe.Spec2Pipeline - INFO - Prefetch for FFLAT reference file is 'N/A'.\n"
     ]
    },
    {
     "name": "stderr",
     "output_type": "stream",
     "text": [
      "2025-06-16 19:22:33,296 - stpipe.Spec2Pipeline - INFO - Prefetch for FILTEROFFSET reference file is 'N/A'.\n"
     ]
    },
    {
     "name": "stderr",
     "output_type": "stream",
     "text": [
      "2025-06-16 19:22:33,296 - stpipe.Spec2Pipeline - INFO - Prefetch for FLAT reference file is '/home/runner/crds/references/jwst/miri/jwst_miri_flat_0789.fits'.\n"
     ]
    },
    {
     "name": "stderr",
     "output_type": "stream",
     "text": [
      "2025-06-16 19:22:33,297 - stpipe.Spec2Pipeline - INFO - Prefetch for FORE reference file is 'N/A'.\n"
     ]
    },
    {
     "name": "stderr",
     "output_type": "stream",
     "text": [
      "2025-06-16 19:22:33,297 - stpipe.Spec2Pipeline - INFO - Prefetch for FPA reference file is 'N/A'.\n"
     ]
    },
    {
     "name": "stderr",
     "output_type": "stream",
     "text": [
      "2025-06-16 19:22:33,297 - stpipe.Spec2Pipeline - INFO - Prefetch for FRINGE reference file is 'N/A'.\n"
     ]
    },
    {
     "name": "stderr",
     "output_type": "stream",
     "text": [
      "2025-06-16 19:22:33,298 - stpipe.Spec2Pipeline - INFO - Prefetch for IFUFORE reference file is 'N/A'.\n"
     ]
    },
    {
     "name": "stderr",
     "output_type": "stream",
     "text": [
      "2025-06-16 19:22:33,298 - stpipe.Spec2Pipeline - INFO - Prefetch for IFUPOST reference file is 'N/A'.\n"
     ]
    },
    {
     "name": "stderr",
     "output_type": "stream",
     "text": [
      "2025-06-16 19:22:33,299 - stpipe.Spec2Pipeline - INFO - Prefetch for IFUSLICER reference file is 'N/A'.\n"
     ]
    },
    {
     "name": "stderr",
     "output_type": "stream",
     "text": [
      "2025-06-16 19:22:33,299 - stpipe.Spec2Pipeline - INFO - Prefetch for MRSXARTCORR reference file is 'N/A'.\n"
     ]
    },
    {
     "name": "stderr",
     "output_type": "stream",
     "text": [
      "2025-06-16 19:22:33,300 - stpipe.Spec2Pipeline - INFO - Prefetch for MSA reference file is 'N/A'.\n"
     ]
    },
    {
     "name": "stderr",
     "output_type": "stream",
     "text": [
      "2025-06-16 19:22:33,300 - stpipe.Spec2Pipeline - INFO - Prefetch for MSAOPER reference file is 'N/A'.\n"
     ]
    },
    {
     "name": "stderr",
     "output_type": "stream",
     "text": [
      "2025-06-16 19:22:33,301 - stpipe.Spec2Pipeline - INFO - Prefetch for OTE reference file is 'N/A'.\n"
     ]
    },
    {
     "name": "stderr",
     "output_type": "stream",
     "text": [
      "2025-06-16 19:22:33,301 - stpipe.Spec2Pipeline - INFO - Prefetch for PASTASOSS reference file is 'N/A'.\n"
     ]
    },
    {
     "name": "stderr",
     "output_type": "stream",
     "text": [
      "2025-06-16 19:22:33,302 - stpipe.Spec2Pipeline - INFO - Prefetch for PATHLOSS reference file is 'N/A'.\n"
     ]
    },
    {
     "name": "stderr",
     "output_type": "stream",
     "text": [
      "2025-06-16 19:22:33,302 - stpipe.Spec2Pipeline - INFO - Prefetch for PHOTOM reference file is '/home/runner/crds/references/jwst/miri/jwst_miri_photom_0217.fits'.\n"
     ]
    },
    {
     "name": "stderr",
     "output_type": "stream",
     "text": [
      "2025-06-16 19:22:33,304 - stpipe.Spec2Pipeline - INFO - Prefetch for PSF reference file is 'N/A'.\n"
     ]
    },
    {
     "name": "stderr",
     "output_type": "stream",
     "text": [
      "2025-06-16 19:22:33,305 - stpipe.Spec2Pipeline - INFO - Prefetch for REGIONS reference file is 'N/A'.\n"
     ]
    },
    {
     "name": "stderr",
     "output_type": "stream",
     "text": [
      "2025-06-16 19:22:33,305 - stpipe.Spec2Pipeline - INFO - Prefetch for SFLAT reference file is 'N/A'.\n"
     ]
    },
    {
     "name": "stderr",
     "output_type": "stream",
     "text": [
      "2025-06-16 19:22:33,306 - stpipe.Spec2Pipeline - INFO - Prefetch for SPECKERNEL reference file is 'N/A'.\n"
     ]
    },
    {
     "name": "stderr",
     "output_type": "stream",
     "text": [
      "2025-06-16 19:22:33,306 - stpipe.Spec2Pipeline - INFO - Prefetch for SPECPROFILE reference file is 'N/A'.\n"
     ]
    },
    {
     "name": "stderr",
     "output_type": "stream",
     "text": [
      "2025-06-16 19:22:33,307 - stpipe.Spec2Pipeline - INFO - Prefetch for SPECWCS reference file is '/home/runner/crds/references/jwst/miri/jwst_miri_specwcs_0009.fits'.\n"
     ]
    },
    {
     "name": "stderr",
     "output_type": "stream",
     "text": [
      "2025-06-16 19:22:33,308 - stpipe.Spec2Pipeline - INFO - Prefetch for WAVECORR reference file is 'N/A'.\n"
     ]
    },
    {
     "name": "stderr",
     "output_type": "stream",
     "text": [
      "2025-06-16 19:22:33,309 - stpipe.Spec2Pipeline - INFO - Prefetch for WAVELENGTHRANGE reference file is 'N/A'.\n"
     ]
    },
    {
     "name": "stderr",
     "output_type": "stream",
     "text": [
      "2025-06-16 19:22:33,309 - stpipe.Spec2Pipeline - INFO - Prefetch for WFSSBKG reference file is 'N/A'.\n"
     ]
    },
    {
     "name": "stderr",
     "output_type": "stream",
     "text": [
      "2025-06-16 19:22:33,310 - stpipe.Spec2Pipeline - INFO - Starting calwebb_spec2 ...\n"
     ]
    },
    {
     "name": "stderr",
     "output_type": "stream",
     "text": [
      "2025-06-16 19:22:33,317 - stpipe.Spec2Pipeline - WARNING - /opt/hostedtoolcache/Python/3.11.13/x64/lib/python3.11/site-packages/jwst/associations/association.py:215: UserWarning: Input association file contains path information; note that this can complicate usage and/or sharing of such files.\n",
      "  warnings.warn(err_str, UserWarning)\n",
      "\n"
     ]
    },
    {
     "name": "stderr",
     "output_type": "stream",
     "text": [
      "2025-06-16 19:22:33,318 - stpipe.Spec2Pipeline - INFO - Processing product /home/runner/work/jwst-pipeline-notebooks/jwst-pipeline-notebooks/notebooks/MIRI/LRS-slitless-TSO/lrs_tso_demo_data/PID04496Obs004/stage1/jw04496004001_03103_00001-seg001_mirimage\n"
     ]
    },
    {
     "name": "stderr",
     "output_type": "stream",
     "text": [
      "2025-06-16 19:22:33,318 - stpipe.Spec2Pipeline - INFO - Working on input /home/runner/work/jwst-pipeline-notebooks/jwst-pipeline-notebooks/notebooks/MIRI/LRS-slitless-TSO/lrs_tso_demo_data/PID04496Obs004/stage1/jw04496004001_03103_00001-seg001_mirimage_rateints.fits ...\n"
     ]
    },
    {
     "name": "stderr",
     "output_type": "stream",
     "text": [
      "2025-06-16 19:22:33,492 - stpipe.Spec2Pipeline.assign_wcs - INFO - Step assign_wcs running with args (<CubeModel(288, 416, 72) from jw04496004001_03103_00001-seg001_mirimage_rateints.fits>,).\n"
     ]
    },
    {
     "name": "stderr",
     "output_type": "stream",
     "text": [
      "2025-06-16 19:22:33,700 - stpipe.Spec2Pipeline.assign_wcs - INFO - Applied Barycentric velocity correction : 0.9999338258965862\n"
     ]
    },
    {
     "name": "stderr",
     "output_type": "stream",
     "text": [
      "2025-06-16 19:22:33,790 - stpipe.Spec2Pipeline.assign_wcs - INFO - Created a MIRI mir_lrs-slitless pipeline with references {'distortion': '/home/runner/crds/references/jwst/miri/jwst_miri_distortion_0047.asdf', 'filteroffset': None, 'specwcs': '/home/runner/crds/references/jwst/miri/jwst_miri_specwcs_0009.fits', 'regions': None, 'wavelengthrange': None, 'camera': None, 'collimator': None, 'disperser': None, 'fore': None, 'fpa': None, 'msa': None, 'ote': None, 'ifupost': None, 'ifufore': None, 'ifuslicer': None}\n"
     ]
    },
    {
     "name": "stderr",
     "output_type": "stream",
     "text": [
      "2025-06-16 19:22:33,914 - stpipe.Spec2Pipeline.assign_wcs - INFO - There are NaNs in s_region, S_REGION not updated.\n"
     ]
    },
    {
     "name": "stderr",
     "output_type": "stream",
     "text": [
      "2025-06-16 19:22:33,915 - stpipe.Spec2Pipeline.assign_wcs - INFO - assign_wcs updated S_REGION to POLYGON ICRS  7.820434825 -43.614484923 7.818045727 -43.613123733 7.828845242 -43.603015959 7.831219933 -43.604380097\n"
     ]
    },
    {
     "name": "stderr",
     "output_type": "stream",
     "text": [
      "2025-06-16 19:22:33,927 - stpipe.Spec2Pipeline.assign_wcs - INFO - COMPLETED assign_wcs\n"
     ]
    },
    {
     "name": "stderr",
     "output_type": "stream",
     "text": [
      "2025-06-16 19:22:33,933 - stpipe.Spec2Pipeline.assign_wcs - INFO - Step assign_wcs done\n"
     ]
    },
    {
     "name": "stderr",
     "output_type": "stream",
     "text": [
      "2025-06-16 19:22:34,047 - stpipe.Spec2Pipeline.badpix_selfcal - INFO - Step badpix_selfcal running with args (<CubeModel(288, 416, 72) from jw04496004001_03103_00001-seg001_mirimage_rateints.fits>, [], ['/home/runner/work/jwst-pipeline-notebooks/jwst-pipeline-notebooks/notebooks/MIRI/LRS-slitless-TSO/lrs_tso_demo_data/PID04496Obs005/stage1/jw04496005001_03102_00001-seg001_mirimage_rateints.fits']).\n"
     ]
    },
    {
     "name": "stderr",
     "output_type": "stream",
     "text": [
      "2025-06-16 19:22:34,048 - stpipe.Spec2Pipeline.badpix_selfcal - INFO - Step skipped.\n"
     ]
    },
    {
     "name": "stderr",
     "output_type": "stream",
     "text": [
      "2025-06-16 19:22:34,155 - stpipe.Spec2Pipeline.msa_flagging - INFO - Step msa_flagging running with args (<CubeModel(288, 416, 72) from jw04496004001_03103_00001-seg001_mirimage_rateints.fits>,).\n"
     ]
    },
    {
     "name": "stderr",
     "output_type": "stream",
     "text": [
      "2025-06-16 19:22:34,156 - stpipe.Spec2Pipeline.msa_flagging - INFO - Step skipped.\n"
     ]
    },
    {
     "name": "stderr",
     "output_type": "stream",
     "text": [
      "2025-06-16 19:22:34,281 - stpipe.Spec2Pipeline.nsclean - INFO - Step nsclean running with args (<CubeModel(288, 416, 72) from jw04496004001_03103_00001-seg001_mirimage_rateints.fits>,).\n"
     ]
    },
    {
     "name": "stderr",
     "output_type": "stream",
     "text": [
      "2025-06-16 19:22:34,282 - stpipe.Spec2Pipeline.nsclean - INFO - Step skipped.\n"
     ]
    },
    {
     "name": "stderr",
     "output_type": "stream",
     "text": [
      "2025-06-16 19:22:34,393 - stpipe.Spec2Pipeline.imprint_subtract - INFO - Step imprint_subtract running with args (<CubeModel(288, 416, 72) from jw04496004001_03103_00001-seg001_mirimage_rateints.fits>, []).\n"
     ]
    },
    {
     "name": "stderr",
     "output_type": "stream",
     "text": [
      "2025-06-16 19:22:34,394 - stpipe.Spec2Pipeline.imprint_subtract - INFO - Step skipped.\n"
     ]
    },
    {
     "name": "stderr",
     "output_type": "stream",
     "text": [
      "2025-06-16 19:22:34,492 - stpipe.Spec2Pipeline.imprint_subtract - INFO - Step imprint_subtract running with args ('/home/runner/work/jwst-pipeline-notebooks/jwst-pipeline-notebooks/notebooks/MIRI/LRS-slitless-TSO/lrs_tso_demo_data/PID04496Obs005/stage1/jw04496005001_03102_00001-seg001_mirimage_rateints.fits', []).\n"
     ]
    },
    {
     "name": "stderr",
     "output_type": "stream",
     "text": [
      "2025-06-16 19:22:34,492 - stpipe.Spec2Pipeline.imprint_subtract - INFO - Step skipped.\n"
     ]
    },
    {
     "name": "stderr",
     "output_type": "stream",
     "text": [
      "2025-06-16 19:22:34,584 - stpipe.Spec2Pipeline.bkg_subtract - INFO - Step bkg_subtract running with args (<CubeModel(288, 416, 72) from jw04496004001_03103_00001-seg001_mirimage_rateints.fits>, ['/home/runner/work/jwst-pipeline-notebooks/jwst-pipeline-notebooks/notebooks/MIRI/LRS-slitless-TSO/lrs_tso_demo_data/PID04496Obs005/stage1/jw04496005001_03102_00001-seg001_mirimage_rateints.fits']).\n"
     ]
    },
    {
     "name": "stderr",
     "output_type": "stream",
     "text": [
      "2025-06-16 19:22:34,606 - stpipe.Spec2Pipeline.bkg_subtract - INFO - Accumulate bkg from /home/runner/work/jwst-pipeline-notebooks/jwst-pipeline-notebooks/notebooks/MIRI/LRS-slitless-TSO/lrs_tso_demo_data/PID04496Obs005/stage1/jw04496005001_03102_00001-seg001_mirimage_rateints.fits\n"
     ]
    },
    {
     "name": "stderr",
     "output_type": "stream",
     "text": [
      "2025-06-16 19:22:34,771 - stpipe.Spec2Pipeline.bkg_subtract - INFO - Subtracting avg bkg from jw04496004001_03103_00001-seg001_mirimage_rateints.fits\n"
     ]
    },
    {
     "name": "stderr",
     "output_type": "stream",
     "text": [
      "2025-06-16 19:22:34,856 - stpipe.Spec2Pipeline.bkg_subtract - INFO - Step bkg_subtract done\n"
     ]
    },
    {
     "name": "stderr",
     "output_type": "stream",
     "text": [
      "2025-06-16 19:22:34,979 - stpipe.Spec2Pipeline.srctype - INFO - Step srctype running with args (<CubeModel(288, 416, 72) from jw04496004001_03103_00001-seg001_mirimage_rateints.fits>,).\n"
     ]
    },
    {
     "name": "stderr",
     "output_type": "stream",
     "text": [
      "2025-06-16 19:22:34,988 - stpipe.Spec2Pipeline.srctype - INFO - Input EXP_TYPE is MIR_LRS-SLITLESS\n"
     ]
    },
    {
     "name": "stderr",
     "output_type": "stream",
     "text": [
      "2025-06-16 19:22:34,988 - stpipe.Spec2Pipeline.srctype - INFO - Input SRCTYAPT = POINT\n"
     ]
    },
    {
     "name": "stderr",
     "output_type": "stream",
     "text": [
      "2025-06-16 19:22:34,989 - stpipe.Spec2Pipeline.srctype - INFO - Input is a TSO exposure; setting SRCTYPE = POINT\n"
     ]
    },
    {
     "name": "stderr",
     "output_type": "stream",
     "text": [
      "2025-06-16 19:22:34,991 - stpipe.Spec2Pipeline.srctype - INFO - Step srctype done\n"
     ]
    },
    {
     "name": "stderr",
     "output_type": "stream",
     "text": [
      "2025-06-16 19:22:35,105 - stpipe.Spec2Pipeline.straylight - INFO - Step straylight running with args (<CubeModel(288, 416, 72) from jw04496004001_03103_00001-seg001_mirimage_rateints.fits>,).\n"
     ]
    },
    {
     "name": "stderr",
     "output_type": "stream",
     "text": [
      "2025-06-16 19:22:35,106 - stpipe.Spec2Pipeline.straylight - INFO - Step skipped.\n"
     ]
    },
    {
     "name": "stderr",
     "output_type": "stream",
     "text": [
      "2025-06-16 19:22:35,214 - stpipe.Spec2Pipeline.flat_field - INFO - Step flat_field running with args (<CubeModel(288, 416, 72) from jw04496004001_03103_00001-seg001_mirimage_rateints.fits>,).\n"
     ]
    },
    {
     "name": "stderr",
     "output_type": "stream",
     "text": [
      "2025-06-16 19:22:35,292 - stpipe.Spec2Pipeline.flat_field - WARNING - Keyword CDP_PARTIAL_DATA does not correspond to an existing DQ mnemonic, so will be ignored\n"
     ]
    },
    {
     "name": "stderr",
     "output_type": "stream",
     "text": [
      "2025-06-16 19:22:35,293 - stpipe.Spec2Pipeline.flat_field - WARNING - Keyword CDP_LOW_QUAL does not correspond to an existing DQ mnemonic, so will be ignored\n"
     ]
    },
    {
     "name": "stderr",
     "output_type": "stream",
     "text": [
      "2025-06-16 19:22:35,294 - stpipe.Spec2Pipeline.flat_field - WARNING - Keyword CDP_UNRELIABLE_ERROR does not correspond to an existing DQ mnemonic, so will be ignored\n"
     ]
    },
    {
     "name": "stderr",
     "output_type": "stream",
     "text": [
      "2025-06-16 19:22:35,294 - stpipe.Spec2Pipeline.flat_field - WARNING - Keyword DIFF_PATTERN does not correspond to an existing DQ mnemonic, so will be ignored\n"
     ]
    },
    {
     "name": "stderr",
     "output_type": "stream",
     "text": [
      "2025-06-16 19:22:35,296 - stpipe.Spec2Pipeline.flat_field - INFO - Using FLAT reference file: /home/runner/crds/references/jwst/miri/jwst_miri_flat_0789.fits\n"
     ]
    },
    {
     "name": "stderr",
     "output_type": "stream",
     "text": [
      "2025-06-16 19:22:35,297 - stpipe.Spec2Pipeline.flat_field - INFO - No reference found for type FFLAT\n"
     ]
    },
    {
     "name": "stderr",
     "output_type": "stream",
     "text": [
      "2025-06-16 19:22:35,297 - stpipe.Spec2Pipeline.flat_field - INFO - No reference found for type SFLAT\n"
     ]
    },
    {
     "name": "stderr",
     "output_type": "stream",
     "text": [
      "2025-06-16 19:22:35,298 - stpipe.Spec2Pipeline.flat_field - INFO - No reference found for type DFLAT\n"
     ]
    },
    {
     "name": "stderr",
     "output_type": "stream",
     "text": [
      "2025-06-16 19:22:35,507 - stpipe.Spec2Pipeline.flat_field - INFO - Step flat_field done\n"
     ]
    },
    {
     "name": "stderr",
     "output_type": "stream",
     "text": [
      "2025-06-16 19:22:35,617 - stpipe.Spec2Pipeline.fringe - INFO - Step fringe running with args (<CubeModel(288, 416, 72) from jw04496004001_03103_00001-seg001_mirimage_rateints.fits>,).\n"
     ]
    },
    {
     "name": "stderr",
     "output_type": "stream",
     "text": [
      "2025-06-16 19:22:35,618 - stpipe.Spec2Pipeline.fringe - INFO - Step skipped.\n"
     ]
    },
    {
     "name": "stderr",
     "output_type": "stream",
     "text": [
      "2025-06-16 19:22:35,725 - stpipe.Spec2Pipeline.pathloss - INFO - Step pathloss running with args (<CubeModel(288, 416, 72) from jw04496004001_03103_00001-seg001_mirimage_rateints.fits>,).\n"
     ]
    },
    {
     "name": "stderr",
     "output_type": "stream",
     "text": [
      "2025-06-16 19:22:35,726 - stpipe.Spec2Pipeline.pathloss - INFO - Step skipped.\n"
     ]
    },
    {
     "name": "stderr",
     "output_type": "stream",
     "text": [
      "2025-06-16 19:22:35,821 - stpipe.Spec2Pipeline.barshadow - INFO - Step barshadow running with args (<CubeModel(288, 416, 72) from jw04496004001_03103_00001-seg001_mirimage_rateints.fits>,).\n"
     ]
    },
    {
     "name": "stderr",
     "output_type": "stream",
     "text": [
      "2025-06-16 19:22:35,822 - stpipe.Spec2Pipeline.barshadow - INFO - Step skipped.\n"
     ]
    },
    {
     "name": "stderr",
     "output_type": "stream",
     "text": [
      "2025-06-16 19:22:35,914 - stpipe.Spec2Pipeline.photom - INFO - Step photom running with args (<CubeModel(288, 416, 72) from jw04496004001_03103_00001-seg001_mirimage_rateints.fits>,).\n"
     ]
    },
    {
     "name": "stderr",
     "output_type": "stream",
     "text": [
      "2025-06-16 19:22:35,947 - stpipe.Spec2Pipeline.photom - INFO - Using photom reference file: /home/runner/crds/references/jwst/miri/jwst_miri_photom_0217.fits\n"
     ]
    },
    {
     "name": "stderr",
     "output_type": "stream",
     "text": [
      "2025-06-16 19:22:35,947 - stpipe.Spec2Pipeline.photom - INFO - Using area reference file: N/A\n"
     ]
    },
    {
     "name": "stderr",
     "output_type": "stream",
     "text": [
      "2025-06-16 19:22:36,027 - stpipe.Spec2Pipeline.photom - INFO - Using instrument: MIRI\n"
     ]
    },
    {
     "name": "stderr",
     "output_type": "stream",
     "text": [
      "2025-06-16 19:22:36,028 - stpipe.Spec2Pipeline.photom - INFO -  detector: MIRIMAGE\n"
     ]
    },
    {
     "name": "stderr",
     "output_type": "stream",
     "text": [
      "2025-06-16 19:22:36,028 - stpipe.Spec2Pipeline.photom - INFO -  exp_type: MIR_LRS-SLITLESS\n"
     ]
    },
    {
     "name": "stderr",
     "output_type": "stream",
     "text": [
      "2025-06-16 19:22:36,029 - stpipe.Spec2Pipeline.photom - INFO -  filter: P750L\n"
     ]
    },
    {
     "name": "stderr",
     "output_type": "stream",
     "text": [
      "2025-06-16 19:22:36,048 - stpipe.Spec2Pipeline.photom - INFO - Attempting to obtain PIXAR_SR and PIXAR_A2 values from PHOTOM reference file.\n"
     ]
    },
    {
     "name": "stderr",
     "output_type": "stream",
     "text": [
      "2025-06-16 19:22:36,049 - stpipe.Spec2Pipeline.photom - INFO - Values for PIXAR_SR and PIXAR_A2 obtained from PHOTOM reference file.\n"
     ]
    },
    {
     "name": "stderr",
     "output_type": "stream",
     "text": [
      "2025-06-16 19:22:36,050 - stpipe.Spec2Pipeline.photom - INFO -  subarray: SLITLESSPRISM\n"
     ]
    },
    {
     "name": "stderr",
     "output_type": "stream",
     "text": [
      "2025-06-16 19:22:36,051 - stpipe.Spec2Pipeline.photom - INFO -  Skipping MIRI imager time correction. Extension not found in the reference file.\n"
     ]
    },
    {
     "name": "stderr",
     "output_type": "stream",
     "text": [
      "2025-06-16 19:22:36,052 - stpipe.Spec2Pipeline.photom - INFO - PHOTMJSR value: 12.535\n"
     ]
    },
    {
     "name": "stderr",
     "output_type": "stream",
     "text": [
      "2025-06-16 19:22:36,066 - stpipe.Spec2Pipeline.photom - WARNING - /opt/hostedtoolcache/Python/3.11.13/x64/lib/python3.11/site-packages/jwst/photom/photom.py:986: RuntimeWarning: invalid value encountered in multiply\n",
      "  self.input.err *= conversion\n",
      "\n"
     ]
    },
    {
     "name": "stderr",
     "output_type": "stream",
     "text": [
      "2025-06-16 19:22:36,099 - stpipe.Spec2Pipeline.photom - WARNING - /opt/hostedtoolcache/Python/3.11.13/x64/lib/python3.11/site-packages/jwst/photom/photom.py:992: RuntimeWarning: invalid value encountered in multiply\n",
      "  self.input.var_flat *= conversion**2\n",
      "\n"
     ]
    },
    {
     "name": "stderr",
     "output_type": "stream",
     "text": [
      "2025-06-16 19:22:36,171 - stpipe.Spec2Pipeline.photom - INFO - Step photom done\n"
     ]
    },
    {
     "name": "stderr",
     "output_type": "stream",
     "text": [
      "2025-06-16 19:22:36,278 - stpipe.Spec2Pipeline.residual_fringe - INFO - Step residual_fringe running with args (<CubeModel(288, 416, 72) from jw04496004001_03103_00001-seg001_mirimage_rateints.fits>,).\n"
     ]
    },
    {
     "name": "stderr",
     "output_type": "stream",
     "text": [
      "2025-06-16 19:22:36,279 - stpipe.Spec2Pipeline.residual_fringe - INFO - Step skipped.\n"
     ]
    },
    {
     "name": "stderr",
     "output_type": "stream",
     "text": [
      "2025-06-16 19:22:36,459 - stpipe.Spec2Pipeline.pixel_replace - INFO - Step pixel_replace running with args (<CubeModel(288, 416, 72) from ./lrs_tso_demo_data/PID04496Obs004/stage2/jw04496004001_03103_00001-seg001_mirimage_calints.fits>,).\n"
     ]
    },
    {
     "name": "stderr",
     "output_type": "stream",
     "text": [
      "2025-06-16 19:22:37,027 - stpipe.Spec2Pipeline.pixel_replace - INFO - Input TSO integration 0 had 192 pixels replaced.\n"
     ]
    },
    {
     "name": "stderr",
     "output_type": "stream",
     "text": [
      "2025-06-16 19:22:37,421 - stpipe.Spec2Pipeline.pixel_replace - INFO - Input TSO integration 1 had 193 pixels replaced.\n"
     ]
    },
    {
     "name": "stderr",
     "output_type": "stream",
     "text": [
      "2025-06-16 19:22:37,815 - stpipe.Spec2Pipeline.pixel_replace - INFO - Input TSO integration 2 had 192 pixels replaced.\n"
     ]
    },
    {
     "name": "stderr",
     "output_type": "stream",
     "text": [
      "2025-06-16 19:22:38,208 - stpipe.Spec2Pipeline.pixel_replace - INFO - Input TSO integration 3 had 192 pixels replaced.\n"
     ]
    },
    {
     "name": "stderr",
     "output_type": "stream",
     "text": [
      "2025-06-16 19:22:38,605 - stpipe.Spec2Pipeline.pixel_replace - INFO - Input TSO integration 4 had 192 pixels replaced.\n"
     ]
    },
    {
     "name": "stderr",
     "output_type": "stream",
     "text": [
      "2025-06-16 19:22:39,003 - stpipe.Spec2Pipeline.pixel_replace - INFO - Input TSO integration 5 had 192 pixels replaced.\n"
     ]
    },
    {
     "name": "stderr",
     "output_type": "stream",
     "text": [
      "2025-06-16 19:22:39,399 - stpipe.Spec2Pipeline.pixel_replace - INFO - Input TSO integration 6 had 192 pixels replaced.\n"
     ]
    },
    {
     "name": "stderr",
     "output_type": "stream",
     "text": [
      "2025-06-16 19:22:39,794 - stpipe.Spec2Pipeline.pixel_replace - INFO - Input TSO integration 7 had 192 pixels replaced.\n"
     ]
    },
    {
     "name": "stderr",
     "output_type": "stream",
     "text": [
      "2025-06-16 19:22:40,189 - stpipe.Spec2Pipeline.pixel_replace - INFO - Input TSO integration 8 had 196 pixels replaced.\n"
     ]
    },
    {
     "name": "stderr",
     "output_type": "stream",
     "text": [
      "2025-06-16 19:22:40,581 - stpipe.Spec2Pipeline.pixel_replace - INFO - Input TSO integration 9 had 192 pixels replaced.\n"
     ]
    },
    {
     "name": "stderr",
     "output_type": "stream",
     "text": [
      "2025-06-16 19:22:40,978 - stpipe.Spec2Pipeline.pixel_replace - INFO - Input TSO integration 10 had 192 pixels replaced.\n"
     ]
    },
    {
     "name": "stderr",
     "output_type": "stream",
     "text": [
      "2025-06-16 19:22:41,374 - stpipe.Spec2Pipeline.pixel_replace - INFO - Input TSO integration 11 had 192 pixels replaced.\n"
     ]
    },
    {
     "name": "stderr",
     "output_type": "stream",
     "text": [
      "2025-06-16 19:22:41,771 - stpipe.Spec2Pipeline.pixel_replace - INFO - Input TSO integration 12 had 192 pixels replaced.\n"
     ]
    },
    {
     "name": "stderr",
     "output_type": "stream",
     "text": [
      "2025-06-16 19:22:42,171 - stpipe.Spec2Pipeline.pixel_replace - INFO - Input TSO integration 13 had 193 pixels replaced.\n"
     ]
    },
    {
     "name": "stderr",
     "output_type": "stream",
     "text": [
      "2025-06-16 19:22:42,563 - stpipe.Spec2Pipeline.pixel_replace - INFO - Input TSO integration 14 had 192 pixels replaced.\n"
     ]
    },
    {
     "name": "stderr",
     "output_type": "stream",
     "text": [
      "2025-06-16 19:22:42,953 - stpipe.Spec2Pipeline.pixel_replace - INFO - Input TSO integration 15 had 192 pixels replaced.\n"
     ]
    },
    {
     "name": "stderr",
     "output_type": "stream",
     "text": [
      "2025-06-16 19:22:43,353 - stpipe.Spec2Pipeline.pixel_replace - INFO - Input TSO integration 16 had 195 pixels replaced.\n"
     ]
    },
    {
     "name": "stderr",
     "output_type": "stream",
     "text": [
      "2025-06-16 19:22:43,748 - stpipe.Spec2Pipeline.pixel_replace - INFO - Input TSO integration 17 had 193 pixels replaced.\n"
     ]
    },
    {
     "name": "stderr",
     "output_type": "stream",
     "text": [
      "2025-06-16 19:22:44,145 - stpipe.Spec2Pipeline.pixel_replace - INFO - Input TSO integration 18 had 192 pixels replaced.\n"
     ]
    },
    {
     "name": "stderr",
     "output_type": "stream",
     "text": [
      "2025-06-16 19:22:44,539 - stpipe.Spec2Pipeline.pixel_replace - INFO - Input TSO integration 19 had 192 pixels replaced.\n"
     ]
    },
    {
     "name": "stderr",
     "output_type": "stream",
     "text": [
      "2025-06-16 19:22:44,938 - stpipe.Spec2Pipeline.pixel_replace - INFO - Input TSO integration 20 had 192 pixels replaced.\n"
     ]
    },
    {
     "name": "stderr",
     "output_type": "stream",
     "text": [
      "2025-06-16 19:22:45,334 - stpipe.Spec2Pipeline.pixel_replace - INFO - Input TSO integration 21 had 194 pixels replaced.\n"
     ]
    },
    {
     "name": "stderr",
     "output_type": "stream",
     "text": [
      "2025-06-16 19:22:45,725 - stpipe.Spec2Pipeline.pixel_replace - INFO - Input TSO integration 22 had 192 pixels replaced.\n"
     ]
    },
    {
     "name": "stderr",
     "output_type": "stream",
     "text": [
      "2025-06-16 19:22:46,116 - stpipe.Spec2Pipeline.pixel_replace - INFO - Input TSO integration 23 had 192 pixels replaced.\n"
     ]
    },
    {
     "name": "stderr",
     "output_type": "stream",
     "text": [
      "2025-06-16 19:22:46,505 - stpipe.Spec2Pipeline.pixel_replace - INFO - Input TSO integration 24 had 192 pixels replaced.\n"
     ]
    },
    {
     "name": "stderr",
     "output_type": "stream",
     "text": [
      "2025-06-16 19:22:46,897 - stpipe.Spec2Pipeline.pixel_replace - INFO - Input TSO integration 25 had 192 pixels replaced.\n"
     ]
    },
    {
     "name": "stderr",
     "output_type": "stream",
     "text": [
      "2025-06-16 19:22:47,288 - stpipe.Spec2Pipeline.pixel_replace - INFO - Input TSO integration 26 had 192 pixels replaced.\n"
     ]
    },
    {
     "name": "stderr",
     "output_type": "stream",
     "text": [
      "2025-06-16 19:22:47,678 - stpipe.Spec2Pipeline.pixel_replace - INFO - Input TSO integration 27 had 192 pixels replaced.\n"
     ]
    },
    {
     "name": "stderr",
     "output_type": "stream",
     "text": [
      "2025-06-16 19:22:48,068 - stpipe.Spec2Pipeline.pixel_replace - INFO - Input TSO integration 28 had 192 pixels replaced.\n"
     ]
    },
    {
     "name": "stderr",
     "output_type": "stream",
     "text": [
      "2025-06-16 19:22:48,458 - stpipe.Spec2Pipeline.pixel_replace - INFO - Input TSO integration 29 had 192 pixels replaced.\n"
     ]
    },
    {
     "name": "stderr",
     "output_type": "stream",
     "text": [
      "2025-06-16 19:22:48,856 - stpipe.Spec2Pipeline.pixel_replace - INFO - Input TSO integration 30 had 192 pixels replaced.\n"
     ]
    },
    {
     "name": "stderr",
     "output_type": "stream",
     "text": [
      "2025-06-16 19:22:49,250 - stpipe.Spec2Pipeline.pixel_replace - INFO - Input TSO integration 31 had 192 pixels replaced.\n"
     ]
    },
    {
     "name": "stderr",
     "output_type": "stream",
     "text": [
      "2025-06-16 19:22:49,640 - stpipe.Spec2Pipeline.pixel_replace - INFO - Input TSO integration 32 had 192 pixels replaced.\n"
     ]
    },
    {
     "name": "stderr",
     "output_type": "stream",
     "text": [
      "2025-06-16 19:22:50,031 - stpipe.Spec2Pipeline.pixel_replace - INFO - Input TSO integration 33 had 192 pixels replaced.\n"
     ]
    },
    {
     "name": "stderr",
     "output_type": "stream",
     "text": [
      "2025-06-16 19:22:50,420 - stpipe.Spec2Pipeline.pixel_replace - INFO - Input TSO integration 34 had 192 pixels replaced.\n"
     ]
    },
    {
     "name": "stderr",
     "output_type": "stream",
     "text": [
      "2025-06-16 19:22:50,812 - stpipe.Spec2Pipeline.pixel_replace - INFO - Input TSO integration 35 had 192 pixels replaced.\n"
     ]
    },
    {
     "name": "stderr",
     "output_type": "stream",
     "text": [
      "2025-06-16 19:22:51,201 - stpipe.Spec2Pipeline.pixel_replace - INFO - Input TSO integration 36 had 192 pixels replaced.\n"
     ]
    },
    {
     "name": "stderr",
     "output_type": "stream",
     "text": [
      "2025-06-16 19:22:51,592 - stpipe.Spec2Pipeline.pixel_replace - INFO - Input TSO integration 37 had 192 pixels replaced.\n"
     ]
    },
    {
     "name": "stderr",
     "output_type": "stream",
     "text": [
      "2025-06-16 19:22:51,990 - stpipe.Spec2Pipeline.pixel_replace - INFO - Input TSO integration 38 had 192 pixels replaced.\n"
     ]
    },
    {
     "name": "stderr",
     "output_type": "stream",
     "text": [
      "2025-06-16 19:22:52,378 - stpipe.Spec2Pipeline.pixel_replace - INFO - Input TSO integration 39 had 192 pixels replaced.\n"
     ]
    },
    {
     "name": "stderr",
     "output_type": "stream",
     "text": [
      "2025-06-16 19:22:52,773 - stpipe.Spec2Pipeline.pixel_replace - INFO - Input TSO integration 40 had 192 pixels replaced.\n"
     ]
    },
    {
     "name": "stderr",
     "output_type": "stream",
     "text": [
      "2025-06-16 19:22:53,164 - stpipe.Spec2Pipeline.pixel_replace - INFO - Input TSO integration 41 had 192 pixels replaced.\n"
     ]
    },
    {
     "name": "stderr",
     "output_type": "stream",
     "text": [
      "2025-06-16 19:22:53,555 - stpipe.Spec2Pipeline.pixel_replace - INFO - Input TSO integration 42 had 192 pixels replaced.\n"
     ]
    },
    {
     "name": "stderr",
     "output_type": "stream",
     "text": [
      "2025-06-16 19:22:53,950 - stpipe.Spec2Pipeline.pixel_replace - INFO - Input TSO integration 43 had 192 pixels replaced.\n"
     ]
    },
    {
     "name": "stderr",
     "output_type": "stream",
     "text": [
      "2025-06-16 19:22:54,346 - stpipe.Spec2Pipeline.pixel_replace - INFO - Input TSO integration 44 had 192 pixels replaced.\n"
     ]
    },
    {
     "name": "stderr",
     "output_type": "stream",
     "text": [
      "2025-06-16 19:22:54,737 - stpipe.Spec2Pipeline.pixel_replace - INFO - Input TSO integration 45 had 192 pixels replaced.\n"
     ]
    },
    {
     "name": "stderr",
     "output_type": "stream",
     "text": [
      "2025-06-16 19:22:55,131 - stpipe.Spec2Pipeline.pixel_replace - INFO - Input TSO integration 46 had 192 pixels replaced.\n"
     ]
    },
    {
     "name": "stderr",
     "output_type": "stream",
     "text": [
      "2025-06-16 19:22:55,521 - stpipe.Spec2Pipeline.pixel_replace - INFO - Input TSO integration 47 had 192 pixels replaced.\n"
     ]
    },
    {
     "name": "stderr",
     "output_type": "stream",
     "text": [
      "2025-06-16 19:22:55,915 - stpipe.Spec2Pipeline.pixel_replace - INFO - Input TSO integration 48 had 192 pixels replaced.\n"
     ]
    },
    {
     "name": "stderr",
     "output_type": "stream",
     "text": [
      "2025-06-16 19:22:56,311 - stpipe.Spec2Pipeline.pixel_replace - INFO - Input TSO integration 49 had 192 pixels replaced.\n"
     ]
    },
    {
     "name": "stderr",
     "output_type": "stream",
     "text": [
      "2025-06-16 19:22:56,705 - stpipe.Spec2Pipeline.pixel_replace - INFO - Input TSO integration 50 had 192 pixels replaced.\n"
     ]
    },
    {
     "name": "stderr",
     "output_type": "stream",
     "text": [
      "2025-06-16 19:22:57,098 - stpipe.Spec2Pipeline.pixel_replace - INFO - Input TSO integration 51 had 192 pixels replaced.\n"
     ]
    },
    {
     "name": "stderr",
     "output_type": "stream",
     "text": [
      "2025-06-16 19:22:57,489 - stpipe.Spec2Pipeline.pixel_replace - INFO - Input TSO integration 52 had 192 pixels replaced.\n"
     ]
    },
    {
     "name": "stderr",
     "output_type": "stream",
     "text": [
      "2025-06-16 19:22:57,884 - stpipe.Spec2Pipeline.pixel_replace - INFO - Input TSO integration 53 had 192 pixels replaced.\n"
     ]
    },
    {
     "name": "stderr",
     "output_type": "stream",
     "text": [
      "2025-06-16 19:22:58,274 - stpipe.Spec2Pipeline.pixel_replace - INFO - Input TSO integration 54 had 192 pixels replaced.\n"
     ]
    },
    {
     "name": "stderr",
     "output_type": "stream",
     "text": [
      "2025-06-16 19:22:58,668 - stpipe.Spec2Pipeline.pixel_replace - INFO - Input TSO integration 55 had 192 pixels replaced.\n"
     ]
    },
    {
     "name": "stderr",
     "output_type": "stream",
     "text": [
      "2025-06-16 19:22:59,060 - stpipe.Spec2Pipeline.pixel_replace - INFO - Input TSO integration 56 had 192 pixels replaced.\n"
     ]
    },
    {
     "name": "stderr",
     "output_type": "stream",
     "text": [
      "2025-06-16 19:22:59,450 - stpipe.Spec2Pipeline.pixel_replace - INFO - Input TSO integration 57 had 192 pixels replaced.\n"
     ]
    },
    {
     "name": "stderr",
     "output_type": "stream",
     "text": [
      "2025-06-16 19:22:59,841 - stpipe.Spec2Pipeline.pixel_replace - INFO - Input TSO integration 58 had 192 pixels replaced.\n"
     ]
    },
    {
     "name": "stderr",
     "output_type": "stream",
     "text": [
      "2025-06-16 19:23:00,231 - stpipe.Spec2Pipeline.pixel_replace - INFO - Input TSO integration 59 had 192 pixels replaced.\n"
     ]
    },
    {
     "name": "stderr",
     "output_type": "stream",
     "text": [
      "2025-06-16 19:23:00,620 - stpipe.Spec2Pipeline.pixel_replace - INFO - Input TSO integration 60 had 192 pixels replaced.\n"
     ]
    },
    {
     "name": "stderr",
     "output_type": "stream",
     "text": [
      "2025-06-16 19:23:01,010 - stpipe.Spec2Pipeline.pixel_replace - INFO - Input TSO integration 61 had 192 pixels replaced.\n"
     ]
    },
    {
     "name": "stderr",
     "output_type": "stream",
     "text": [
      "2025-06-16 19:23:01,399 - stpipe.Spec2Pipeline.pixel_replace - INFO - Input TSO integration 62 had 192 pixels replaced.\n"
     ]
    },
    {
     "name": "stderr",
     "output_type": "stream",
     "text": [
      "2025-06-16 19:23:01,793 - stpipe.Spec2Pipeline.pixel_replace - INFO - Input TSO integration 63 had 192 pixels replaced.\n"
     ]
    },
    {
     "name": "stderr",
     "output_type": "stream",
     "text": [
      "2025-06-16 19:23:02,186 - stpipe.Spec2Pipeline.pixel_replace - INFO - Input TSO integration 64 had 192 pixels replaced.\n"
     ]
    },
    {
     "name": "stderr",
     "output_type": "stream",
     "text": [
      "2025-06-16 19:23:02,581 - stpipe.Spec2Pipeline.pixel_replace - INFO - Input TSO integration 65 had 192 pixels replaced.\n"
     ]
    },
    {
     "name": "stderr",
     "output_type": "stream",
     "text": [
      "2025-06-16 19:23:02,972 - stpipe.Spec2Pipeline.pixel_replace - INFO - Input TSO integration 66 had 192 pixels replaced.\n"
     ]
    },
    {
     "name": "stderr",
     "output_type": "stream",
     "text": [
      "2025-06-16 19:23:03,361 - stpipe.Spec2Pipeline.pixel_replace - INFO - Input TSO integration 67 had 192 pixels replaced.\n"
     ]
    },
    {
     "name": "stderr",
     "output_type": "stream",
     "text": [
      "2025-06-16 19:23:03,754 - stpipe.Spec2Pipeline.pixel_replace - INFO - Input TSO integration 68 had 192 pixels replaced.\n"
     ]
    },
    {
     "name": "stderr",
     "output_type": "stream",
     "text": [
      "2025-06-16 19:23:04,145 - stpipe.Spec2Pipeline.pixel_replace - INFO - Input TSO integration 69 had 193 pixels replaced.\n"
     ]
    },
    {
     "name": "stderr",
     "output_type": "stream",
     "text": [
      "2025-06-16 19:23:04,535 - stpipe.Spec2Pipeline.pixel_replace - INFO - Input TSO integration 70 had 192 pixels replaced.\n"
     ]
    },
    {
     "name": "stderr",
     "output_type": "stream",
     "text": [
      "2025-06-16 19:23:04,933 - stpipe.Spec2Pipeline.pixel_replace - INFO - Input TSO integration 71 had 192 pixels replaced.\n"
     ]
    },
    {
     "name": "stderr",
     "output_type": "stream",
     "text": [
      "2025-06-16 19:23:05,327 - stpipe.Spec2Pipeline.pixel_replace - INFO - Input TSO integration 72 had 192 pixels replaced.\n"
     ]
    },
    {
     "name": "stderr",
     "output_type": "stream",
     "text": [
      "2025-06-16 19:23:05,717 - stpipe.Spec2Pipeline.pixel_replace - INFO - Input TSO integration 73 had 192 pixels replaced.\n"
     ]
    },
    {
     "name": "stderr",
     "output_type": "stream",
     "text": [
      "2025-06-16 19:23:06,107 - stpipe.Spec2Pipeline.pixel_replace - INFO - Input TSO integration 74 had 192 pixels replaced.\n"
     ]
    },
    {
     "name": "stderr",
     "output_type": "stream",
     "text": [
      "2025-06-16 19:23:06,498 - stpipe.Spec2Pipeline.pixel_replace - INFO - Input TSO integration 75 had 192 pixels replaced.\n"
     ]
    },
    {
     "name": "stderr",
     "output_type": "stream",
     "text": [
      "2025-06-16 19:23:06,894 - stpipe.Spec2Pipeline.pixel_replace - INFO - Input TSO integration 76 had 192 pixels replaced.\n"
     ]
    },
    {
     "name": "stderr",
     "output_type": "stream",
     "text": [
      "2025-06-16 19:23:07,290 - stpipe.Spec2Pipeline.pixel_replace - INFO - Input TSO integration 77 had 193 pixels replaced.\n"
     ]
    },
    {
     "name": "stderr",
     "output_type": "stream",
     "text": [
      "2025-06-16 19:23:07,686 - stpipe.Spec2Pipeline.pixel_replace - INFO - Input TSO integration 78 had 192 pixels replaced.\n"
     ]
    },
    {
     "name": "stderr",
     "output_type": "stream",
     "text": [
      "2025-06-16 19:23:08,083 - stpipe.Spec2Pipeline.pixel_replace - INFO - Input TSO integration 79 had 192 pixels replaced.\n"
     ]
    },
    {
     "name": "stderr",
     "output_type": "stream",
     "text": [
      "2025-06-16 19:23:08,479 - stpipe.Spec2Pipeline.pixel_replace - INFO - Input TSO integration 80 had 192 pixels replaced.\n"
     ]
    },
    {
     "name": "stderr",
     "output_type": "stream",
     "text": [
      "2025-06-16 19:23:08,874 - stpipe.Spec2Pipeline.pixel_replace - INFO - Input TSO integration 81 had 192 pixels replaced.\n"
     ]
    },
    {
     "name": "stderr",
     "output_type": "stream",
     "text": [
      "2025-06-16 19:23:09,270 - stpipe.Spec2Pipeline.pixel_replace - INFO - Input TSO integration 82 had 192 pixels replaced.\n"
     ]
    },
    {
     "name": "stderr",
     "output_type": "stream",
     "text": [
      "2025-06-16 19:23:09,662 - stpipe.Spec2Pipeline.pixel_replace - INFO - Input TSO integration 83 had 192 pixels replaced.\n"
     ]
    },
    {
     "name": "stderr",
     "output_type": "stream",
     "text": [
      "2025-06-16 19:23:10,053 - stpipe.Spec2Pipeline.pixel_replace - INFO - Input TSO integration 84 had 192 pixels replaced.\n"
     ]
    },
    {
     "name": "stderr",
     "output_type": "stream",
     "text": [
      "2025-06-16 19:23:10,443 - stpipe.Spec2Pipeline.pixel_replace - INFO - Input TSO integration 85 had 192 pixels replaced.\n"
     ]
    },
    {
     "name": "stderr",
     "output_type": "stream",
     "text": [
      "2025-06-16 19:23:10,837 - stpipe.Spec2Pipeline.pixel_replace - INFO - Input TSO integration 86 had 192 pixels replaced.\n"
     ]
    },
    {
     "name": "stderr",
     "output_type": "stream",
     "text": [
      "2025-06-16 19:23:11,228 - stpipe.Spec2Pipeline.pixel_replace - INFO - Input TSO integration 87 had 192 pixels replaced.\n"
     ]
    },
    {
     "name": "stderr",
     "output_type": "stream",
     "text": [
      "2025-06-16 19:23:11,622 - stpipe.Spec2Pipeline.pixel_replace - INFO - Input TSO integration 88 had 192 pixels replaced.\n"
     ]
    },
    {
     "name": "stderr",
     "output_type": "stream",
     "text": [
      "2025-06-16 19:23:12,012 - stpipe.Spec2Pipeline.pixel_replace - INFO - Input TSO integration 89 had 192 pixels replaced.\n"
     ]
    },
    {
     "name": "stderr",
     "output_type": "stream",
     "text": [
      "2025-06-16 19:23:12,401 - stpipe.Spec2Pipeline.pixel_replace - INFO - Input TSO integration 90 had 192 pixels replaced.\n"
     ]
    },
    {
     "name": "stderr",
     "output_type": "stream",
     "text": [
      "2025-06-16 19:23:12,793 - stpipe.Spec2Pipeline.pixel_replace - INFO - Input TSO integration 91 had 192 pixels replaced.\n"
     ]
    },
    {
     "name": "stderr",
     "output_type": "stream",
     "text": [
      "2025-06-16 19:23:13,183 - stpipe.Spec2Pipeline.pixel_replace - INFO - Input TSO integration 92 had 192 pixels replaced.\n"
     ]
    },
    {
     "name": "stderr",
     "output_type": "stream",
     "text": [
      "2025-06-16 19:23:13,574 - stpipe.Spec2Pipeline.pixel_replace - INFO - Input TSO integration 93 had 192 pixels replaced.\n"
     ]
    },
    {
     "name": "stderr",
     "output_type": "stream",
     "text": [
      "2025-06-16 19:23:13,969 - stpipe.Spec2Pipeline.pixel_replace - INFO - Input TSO integration 94 had 192 pixels replaced.\n"
     ]
    },
    {
     "name": "stderr",
     "output_type": "stream",
     "text": [
      "2025-06-16 19:23:14,365 - stpipe.Spec2Pipeline.pixel_replace - INFO - Input TSO integration 95 had 192 pixels replaced.\n"
     ]
    },
    {
     "name": "stderr",
     "output_type": "stream",
     "text": [
      "2025-06-16 19:23:14,760 - stpipe.Spec2Pipeline.pixel_replace - INFO - Input TSO integration 96 had 192 pixels replaced.\n"
     ]
    },
    {
     "name": "stderr",
     "output_type": "stream",
     "text": [
      "2025-06-16 19:23:15,151 - stpipe.Spec2Pipeline.pixel_replace - INFO - Input TSO integration 97 had 192 pixels replaced.\n"
     ]
    },
    {
     "name": "stderr",
     "output_type": "stream",
     "text": [
      "2025-06-16 19:23:15,547 - stpipe.Spec2Pipeline.pixel_replace - INFO - Input TSO integration 98 had 192 pixels replaced.\n"
     ]
    },
    {
     "name": "stderr",
     "output_type": "stream",
     "text": [
      "2025-06-16 19:23:15,939 - stpipe.Spec2Pipeline.pixel_replace - INFO - Input TSO integration 99 had 192 pixels replaced.\n"
     ]
    },
    {
     "name": "stderr",
     "output_type": "stream",
     "text": [
      "2025-06-16 19:23:16,329 - stpipe.Spec2Pipeline.pixel_replace - INFO - Input TSO integration 100 had 192 pixels replaced.\n"
     ]
    },
    {
     "name": "stderr",
     "output_type": "stream",
     "text": [
      "2025-06-16 19:23:16,724 - stpipe.Spec2Pipeline.pixel_replace - INFO - Input TSO integration 101 had 192 pixels replaced.\n"
     ]
    },
    {
     "name": "stderr",
     "output_type": "stream",
     "text": [
      "2025-06-16 19:23:17,112 - stpipe.Spec2Pipeline.pixel_replace - INFO - Input TSO integration 102 had 192 pixels replaced.\n"
     ]
    },
    {
     "name": "stderr",
     "output_type": "stream",
     "text": [
      "2025-06-16 19:23:17,505 - stpipe.Spec2Pipeline.pixel_replace - INFO - Input TSO integration 103 had 192 pixels replaced.\n"
     ]
    },
    {
     "name": "stderr",
     "output_type": "stream",
     "text": [
      "2025-06-16 19:23:17,900 - stpipe.Spec2Pipeline.pixel_replace - INFO - Input TSO integration 104 had 192 pixels replaced.\n"
     ]
    },
    {
     "name": "stderr",
     "output_type": "stream",
     "text": [
      "2025-06-16 19:23:18,413 - stpipe.Spec2Pipeline.pixel_replace - INFO - Input TSO integration 105 had 192 pixels replaced.\n"
     ]
    },
    {
     "name": "stderr",
     "output_type": "stream",
     "text": [
      "2025-06-16 19:23:18,807 - stpipe.Spec2Pipeline.pixel_replace - INFO - Input TSO integration 106 had 192 pixels replaced.\n"
     ]
    },
    {
     "name": "stderr",
     "output_type": "stream",
     "text": [
      "2025-06-16 19:23:19,200 - stpipe.Spec2Pipeline.pixel_replace - INFO - Input TSO integration 107 had 192 pixels replaced.\n"
     ]
    },
    {
     "name": "stderr",
     "output_type": "stream",
     "text": [
      "2025-06-16 19:23:19,591 - stpipe.Spec2Pipeline.pixel_replace - INFO - Input TSO integration 108 had 192 pixels replaced.\n"
     ]
    },
    {
     "name": "stderr",
     "output_type": "stream",
     "text": [
      "2025-06-16 19:23:19,982 - stpipe.Spec2Pipeline.pixel_replace - INFO - Input TSO integration 109 had 192 pixels replaced.\n"
     ]
    },
    {
     "name": "stderr",
     "output_type": "stream",
     "text": [
      "2025-06-16 19:23:20,371 - stpipe.Spec2Pipeline.pixel_replace - INFO - Input TSO integration 110 had 192 pixels replaced.\n"
     ]
    },
    {
     "name": "stderr",
     "output_type": "stream",
     "text": [
      "2025-06-16 19:23:20,765 - stpipe.Spec2Pipeline.pixel_replace - INFO - Input TSO integration 111 had 192 pixels replaced.\n"
     ]
    },
    {
     "name": "stderr",
     "output_type": "stream",
     "text": [
      "2025-06-16 19:23:21,156 - stpipe.Spec2Pipeline.pixel_replace - INFO - Input TSO integration 112 had 192 pixels replaced.\n"
     ]
    },
    {
     "name": "stderr",
     "output_type": "stream",
     "text": [
      "2025-06-16 19:23:21,546 - stpipe.Spec2Pipeline.pixel_replace - INFO - Input TSO integration 113 had 192 pixels replaced.\n"
     ]
    },
    {
     "name": "stderr",
     "output_type": "stream",
     "text": [
      "2025-06-16 19:23:21,941 - stpipe.Spec2Pipeline.pixel_replace - INFO - Input TSO integration 114 had 192 pixels replaced.\n"
     ]
    },
    {
     "name": "stderr",
     "output_type": "stream",
     "text": [
      "2025-06-16 19:23:22,329 - stpipe.Spec2Pipeline.pixel_replace - INFO - Input TSO integration 115 had 192 pixels replaced.\n"
     ]
    },
    {
     "name": "stderr",
     "output_type": "stream",
     "text": [
      "2025-06-16 19:23:22,722 - stpipe.Spec2Pipeline.pixel_replace - INFO - Input TSO integration 116 had 192 pixels replaced.\n"
     ]
    },
    {
     "name": "stderr",
     "output_type": "stream",
     "text": [
      "2025-06-16 19:23:23,118 - stpipe.Spec2Pipeline.pixel_replace - INFO - Input TSO integration 117 had 192 pixels replaced.\n"
     ]
    },
    {
     "name": "stderr",
     "output_type": "stream",
     "text": [
      "2025-06-16 19:23:23,514 - stpipe.Spec2Pipeline.pixel_replace - INFO - Input TSO integration 118 had 192 pixels replaced.\n"
     ]
    },
    {
     "name": "stderr",
     "output_type": "stream",
     "text": [
      "2025-06-16 19:23:23,907 - stpipe.Spec2Pipeline.pixel_replace - INFO - Input TSO integration 119 had 192 pixels replaced.\n"
     ]
    },
    {
     "name": "stderr",
     "output_type": "stream",
     "text": [
      "2025-06-16 19:23:24,306 - stpipe.Spec2Pipeline.pixel_replace - INFO - Input TSO integration 120 had 192 pixels replaced.\n"
     ]
    },
    {
     "name": "stderr",
     "output_type": "stream",
     "text": [
      "2025-06-16 19:23:24,699 - stpipe.Spec2Pipeline.pixel_replace - INFO - Input TSO integration 121 had 192 pixels replaced.\n"
     ]
    },
    {
     "name": "stderr",
     "output_type": "stream",
     "text": [
      "2025-06-16 19:23:25,093 - stpipe.Spec2Pipeline.pixel_replace - INFO - Input TSO integration 122 had 192 pixels replaced.\n"
     ]
    },
    {
     "name": "stderr",
     "output_type": "stream",
     "text": [
      "2025-06-16 19:23:25,483 - stpipe.Spec2Pipeline.pixel_replace - INFO - Input TSO integration 123 had 192 pixels replaced.\n"
     ]
    },
    {
     "name": "stderr",
     "output_type": "stream",
     "text": [
      "2025-06-16 19:23:25,872 - stpipe.Spec2Pipeline.pixel_replace - INFO - Input TSO integration 124 had 192 pixels replaced.\n"
     ]
    },
    {
     "name": "stderr",
     "output_type": "stream",
     "text": [
      "2025-06-16 19:23:26,262 - stpipe.Spec2Pipeline.pixel_replace - INFO - Input TSO integration 125 had 192 pixels replaced.\n"
     ]
    },
    {
     "name": "stderr",
     "output_type": "stream",
     "text": [
      "2025-06-16 19:23:26,651 - stpipe.Spec2Pipeline.pixel_replace - INFO - Input TSO integration 126 had 192 pixels replaced.\n"
     ]
    },
    {
     "name": "stderr",
     "output_type": "stream",
     "text": [
      "2025-06-16 19:23:27,045 - stpipe.Spec2Pipeline.pixel_replace - INFO - Input TSO integration 127 had 192 pixels replaced.\n"
     ]
    },
    {
     "name": "stderr",
     "output_type": "stream",
     "text": [
      "2025-06-16 19:23:27,434 - stpipe.Spec2Pipeline.pixel_replace - INFO - Input TSO integration 128 had 192 pixels replaced.\n"
     ]
    },
    {
     "name": "stderr",
     "output_type": "stream",
     "text": [
      "2025-06-16 19:23:27,824 - stpipe.Spec2Pipeline.pixel_replace - INFO - Input TSO integration 129 had 192 pixels replaced.\n"
     ]
    },
    {
     "name": "stderr",
     "output_type": "stream",
     "text": [
      "2025-06-16 19:23:28,217 - stpipe.Spec2Pipeline.pixel_replace - INFO - Input TSO integration 130 had 192 pixels replaced.\n"
     ]
    },
    {
     "name": "stderr",
     "output_type": "stream",
     "text": [
      "2025-06-16 19:23:28,608 - stpipe.Spec2Pipeline.pixel_replace - INFO - Input TSO integration 131 had 192 pixels replaced.\n"
     ]
    },
    {
     "name": "stderr",
     "output_type": "stream",
     "text": [
      "2025-06-16 19:23:28,998 - stpipe.Spec2Pipeline.pixel_replace - INFO - Input TSO integration 132 had 192 pixels replaced.\n"
     ]
    },
    {
     "name": "stderr",
     "output_type": "stream",
     "text": [
      "2025-06-16 19:23:29,391 - stpipe.Spec2Pipeline.pixel_replace - INFO - Input TSO integration 133 had 192 pixels replaced.\n"
     ]
    },
    {
     "name": "stderr",
     "output_type": "stream",
     "text": [
      "2025-06-16 19:23:29,780 - stpipe.Spec2Pipeline.pixel_replace - INFO - Input TSO integration 134 had 192 pixels replaced.\n"
     ]
    },
    {
     "name": "stderr",
     "output_type": "stream",
     "text": [
      "2025-06-16 19:23:30,169 - stpipe.Spec2Pipeline.pixel_replace - INFO - Input TSO integration 135 had 192 pixels replaced.\n"
     ]
    },
    {
     "name": "stderr",
     "output_type": "stream",
     "text": [
      "2025-06-16 19:23:30,560 - stpipe.Spec2Pipeline.pixel_replace - INFO - Input TSO integration 136 had 192 pixels replaced.\n"
     ]
    },
    {
     "name": "stderr",
     "output_type": "stream",
     "text": [
      "2025-06-16 19:23:30,950 - stpipe.Spec2Pipeline.pixel_replace - INFO - Input TSO integration 137 had 192 pixels replaced.\n"
     ]
    },
    {
     "name": "stderr",
     "output_type": "stream",
     "text": [
      "2025-06-16 19:23:31,341 - stpipe.Spec2Pipeline.pixel_replace - INFO - Input TSO integration 138 had 192 pixels replaced.\n"
     ]
    },
    {
     "name": "stderr",
     "output_type": "stream",
     "text": [
      "2025-06-16 19:23:31,732 - stpipe.Spec2Pipeline.pixel_replace - INFO - Input TSO integration 139 had 192 pixels replaced.\n"
     ]
    },
    {
     "name": "stderr",
     "output_type": "stream",
     "text": [
      "2025-06-16 19:23:32,122 - stpipe.Spec2Pipeline.pixel_replace - INFO - Input TSO integration 140 had 192 pixels replaced.\n"
     ]
    },
    {
     "name": "stderr",
     "output_type": "stream",
     "text": [
      "2025-06-16 19:23:32,513 - stpipe.Spec2Pipeline.pixel_replace - INFO - Input TSO integration 141 had 192 pixels replaced.\n"
     ]
    },
    {
     "name": "stderr",
     "output_type": "stream",
     "text": [
      "2025-06-16 19:23:32,903 - stpipe.Spec2Pipeline.pixel_replace - INFO - Input TSO integration 142 had 192 pixels replaced.\n"
     ]
    },
    {
     "name": "stderr",
     "output_type": "stream",
     "text": [
      "2025-06-16 19:23:33,293 - stpipe.Spec2Pipeline.pixel_replace - INFO - Input TSO integration 143 had 192 pixels replaced.\n"
     ]
    },
    {
     "name": "stderr",
     "output_type": "stream",
     "text": [
      "2025-06-16 19:23:33,686 - stpipe.Spec2Pipeline.pixel_replace - INFO - Input TSO integration 144 had 192 pixels replaced.\n"
     ]
    },
    {
     "name": "stderr",
     "output_type": "stream",
     "text": [
      "2025-06-16 19:23:34,084 - stpipe.Spec2Pipeline.pixel_replace - INFO - Input TSO integration 145 had 192 pixels replaced.\n"
     ]
    },
    {
     "name": "stderr",
     "output_type": "stream",
     "text": [
      "2025-06-16 19:23:34,478 - stpipe.Spec2Pipeline.pixel_replace - INFO - Input TSO integration 146 had 192 pixels replaced.\n"
     ]
    },
    {
     "name": "stderr",
     "output_type": "stream",
     "text": [
      "2025-06-16 19:23:34,871 - stpipe.Spec2Pipeline.pixel_replace - INFO - Input TSO integration 147 had 192 pixels replaced.\n"
     ]
    },
    {
     "name": "stderr",
     "output_type": "stream",
     "text": [
      "2025-06-16 19:23:35,266 - stpipe.Spec2Pipeline.pixel_replace - INFO - Input TSO integration 148 had 192 pixels replaced.\n"
     ]
    },
    {
     "name": "stderr",
     "output_type": "stream",
     "text": [
      "2025-06-16 19:23:35,658 - stpipe.Spec2Pipeline.pixel_replace - INFO - Input TSO integration 149 had 192 pixels replaced.\n"
     ]
    },
    {
     "name": "stderr",
     "output_type": "stream",
     "text": [
      "2025-06-16 19:23:36,049 - stpipe.Spec2Pipeline.pixel_replace - INFO - Input TSO integration 150 had 192 pixels replaced.\n"
     ]
    },
    {
     "name": "stderr",
     "output_type": "stream",
     "text": [
      "2025-06-16 19:23:36,444 - stpipe.Spec2Pipeline.pixel_replace - INFO - Input TSO integration 151 had 192 pixels replaced.\n"
     ]
    },
    {
     "name": "stderr",
     "output_type": "stream",
     "text": [
      "2025-06-16 19:23:36,840 - stpipe.Spec2Pipeline.pixel_replace - INFO - Input TSO integration 152 had 192 pixels replaced.\n"
     ]
    },
    {
     "name": "stderr",
     "output_type": "stream",
     "text": [
      "2025-06-16 19:23:37,238 - stpipe.Spec2Pipeline.pixel_replace - INFO - Input TSO integration 153 had 192 pixels replaced.\n"
     ]
    },
    {
     "name": "stderr",
     "output_type": "stream",
     "text": [
      "2025-06-16 19:23:37,627 - stpipe.Spec2Pipeline.pixel_replace - INFO - Input TSO integration 154 had 192 pixels replaced.\n"
     ]
    },
    {
     "name": "stderr",
     "output_type": "stream",
     "text": [
      "2025-06-16 19:23:38,015 - stpipe.Spec2Pipeline.pixel_replace - INFO - Input TSO integration 155 had 192 pixels replaced.\n"
     ]
    },
    {
     "name": "stderr",
     "output_type": "stream",
     "text": [
      "2025-06-16 19:23:38,411 - stpipe.Spec2Pipeline.pixel_replace - INFO - Input TSO integration 156 had 192 pixels replaced.\n"
     ]
    },
    {
     "name": "stderr",
     "output_type": "stream",
     "text": [
      "2025-06-16 19:23:38,808 - stpipe.Spec2Pipeline.pixel_replace - INFO - Input TSO integration 157 had 192 pixels replaced.\n"
     ]
    },
    {
     "name": "stderr",
     "output_type": "stream",
     "text": [
      "2025-06-16 19:23:39,208 - stpipe.Spec2Pipeline.pixel_replace - INFO - Input TSO integration 158 had 201 pixels replaced.\n"
     ]
    },
    {
     "name": "stderr",
     "output_type": "stream",
     "text": [
      "2025-06-16 19:23:39,607 - stpipe.Spec2Pipeline.pixel_replace - INFO - Input TSO integration 159 had 192 pixels replaced.\n"
     ]
    },
    {
     "name": "stderr",
     "output_type": "stream",
     "text": [
      "2025-06-16 19:23:39,998 - stpipe.Spec2Pipeline.pixel_replace - INFO - Input TSO integration 160 had 192 pixels replaced.\n"
     ]
    },
    {
     "name": "stderr",
     "output_type": "stream",
     "text": [
      "2025-06-16 19:23:40,391 - stpipe.Spec2Pipeline.pixel_replace - INFO - Input TSO integration 161 had 192 pixels replaced.\n"
     ]
    },
    {
     "name": "stderr",
     "output_type": "stream",
     "text": [
      "2025-06-16 19:23:40,783 - stpipe.Spec2Pipeline.pixel_replace - INFO - Input TSO integration 162 had 192 pixels replaced.\n"
     ]
    },
    {
     "name": "stderr",
     "output_type": "stream",
     "text": [
      "2025-06-16 19:23:41,182 - stpipe.Spec2Pipeline.pixel_replace - INFO - Input TSO integration 163 had 192 pixels replaced.\n"
     ]
    },
    {
     "name": "stderr",
     "output_type": "stream",
     "text": [
      "2025-06-16 19:23:41,574 - stpipe.Spec2Pipeline.pixel_replace - INFO - Input TSO integration 164 had 192 pixels replaced.\n"
     ]
    },
    {
     "name": "stderr",
     "output_type": "stream",
     "text": [
      "2025-06-16 19:23:41,967 - stpipe.Spec2Pipeline.pixel_replace - INFO - Input TSO integration 165 had 192 pixels replaced.\n"
     ]
    },
    {
     "name": "stderr",
     "output_type": "stream",
     "text": [
      "2025-06-16 19:23:42,359 - stpipe.Spec2Pipeline.pixel_replace - INFO - Input TSO integration 166 had 192 pixels replaced.\n"
     ]
    },
    {
     "name": "stderr",
     "output_type": "stream",
     "text": [
      "2025-06-16 19:23:42,754 - stpipe.Spec2Pipeline.pixel_replace - INFO - Input TSO integration 167 had 192 pixels replaced.\n"
     ]
    },
    {
     "name": "stderr",
     "output_type": "stream",
     "text": [
      "2025-06-16 19:23:43,149 - stpipe.Spec2Pipeline.pixel_replace - INFO - Input TSO integration 168 had 192 pixels replaced.\n"
     ]
    },
    {
     "name": "stderr",
     "output_type": "stream",
     "text": [
      "2025-06-16 19:23:43,543 - stpipe.Spec2Pipeline.pixel_replace - INFO - Input TSO integration 169 had 192 pixels replaced.\n"
     ]
    },
    {
     "name": "stderr",
     "output_type": "stream",
     "text": [
      "2025-06-16 19:23:43,939 - stpipe.Spec2Pipeline.pixel_replace - INFO - Input TSO integration 170 had 195 pixels replaced.\n"
     ]
    },
    {
     "name": "stderr",
     "output_type": "stream",
     "text": [
      "2025-06-16 19:23:44,333 - stpipe.Spec2Pipeline.pixel_replace - INFO - Input TSO integration 171 had 192 pixels replaced.\n"
     ]
    },
    {
     "name": "stderr",
     "output_type": "stream",
     "text": [
      "2025-06-16 19:23:44,724 - stpipe.Spec2Pipeline.pixel_replace - INFO - Input TSO integration 172 had 192 pixels replaced.\n"
     ]
    },
    {
     "name": "stderr",
     "output_type": "stream",
     "text": [
      "2025-06-16 19:23:45,113 - stpipe.Spec2Pipeline.pixel_replace - INFO - Input TSO integration 173 had 192 pixels replaced.\n"
     ]
    },
    {
     "name": "stderr",
     "output_type": "stream",
     "text": [
      "2025-06-16 19:23:45,506 - stpipe.Spec2Pipeline.pixel_replace - INFO - Input TSO integration 174 had 192 pixels replaced.\n"
     ]
    },
    {
     "name": "stderr",
     "output_type": "stream",
     "text": [
      "2025-06-16 19:23:45,901 - stpipe.Spec2Pipeline.pixel_replace - INFO - Input TSO integration 175 had 192 pixels replaced.\n"
     ]
    },
    {
     "name": "stderr",
     "output_type": "stream",
     "text": [
      "2025-06-16 19:23:46,297 - stpipe.Spec2Pipeline.pixel_replace - INFO - Input TSO integration 176 had 192 pixels replaced.\n"
     ]
    },
    {
     "name": "stderr",
     "output_type": "stream",
     "text": [
      "2025-06-16 19:23:46,686 - stpipe.Spec2Pipeline.pixel_replace - INFO - Input TSO integration 177 had 192 pixels replaced.\n"
     ]
    },
    {
     "name": "stderr",
     "output_type": "stream",
     "text": [
      "2025-06-16 19:23:47,077 - stpipe.Spec2Pipeline.pixel_replace - INFO - Input TSO integration 178 had 192 pixels replaced.\n"
     ]
    },
    {
     "name": "stderr",
     "output_type": "stream",
     "text": [
      "2025-06-16 19:23:47,473 - stpipe.Spec2Pipeline.pixel_replace - INFO - Input TSO integration 179 had 194 pixels replaced.\n"
     ]
    },
    {
     "name": "stderr",
     "output_type": "stream",
     "text": [
      "2025-06-16 19:23:47,868 - stpipe.Spec2Pipeline.pixel_replace - INFO - Input TSO integration 180 had 192 pixels replaced.\n"
     ]
    },
    {
     "name": "stderr",
     "output_type": "stream",
     "text": [
      "2025-06-16 19:23:48,263 - stpipe.Spec2Pipeline.pixel_replace - INFO - Input TSO integration 181 had 192 pixels replaced.\n"
     ]
    },
    {
     "name": "stderr",
     "output_type": "stream",
     "text": [
      "2025-06-16 19:23:48,658 - stpipe.Spec2Pipeline.pixel_replace - INFO - Input TSO integration 182 had 192 pixels replaced.\n"
     ]
    },
    {
     "name": "stderr",
     "output_type": "stream",
     "text": [
      "2025-06-16 19:23:49,052 - stpipe.Spec2Pipeline.pixel_replace - INFO - Input TSO integration 183 had 192 pixels replaced.\n"
     ]
    },
    {
     "name": "stderr",
     "output_type": "stream",
     "text": [
      "2025-06-16 19:23:49,448 - stpipe.Spec2Pipeline.pixel_replace - INFO - Input TSO integration 184 had 192 pixels replaced.\n"
     ]
    },
    {
     "name": "stderr",
     "output_type": "stream",
     "text": [
      "2025-06-16 19:23:49,840 - stpipe.Spec2Pipeline.pixel_replace - INFO - Input TSO integration 185 had 192 pixels replaced.\n"
     ]
    },
    {
     "name": "stderr",
     "output_type": "stream",
     "text": [
      "2025-06-16 19:23:50,229 - stpipe.Spec2Pipeline.pixel_replace - INFO - Input TSO integration 186 had 192 pixels replaced.\n"
     ]
    },
    {
     "name": "stderr",
     "output_type": "stream",
     "text": [
      "2025-06-16 19:23:50,623 - stpipe.Spec2Pipeline.pixel_replace - INFO - Input TSO integration 187 had 192 pixels replaced.\n"
     ]
    },
    {
     "name": "stderr",
     "output_type": "stream",
     "text": [
      "2025-06-16 19:23:51,017 - stpipe.Spec2Pipeline.pixel_replace - INFO - Input TSO integration 188 had 192 pixels replaced.\n"
     ]
    },
    {
     "name": "stderr",
     "output_type": "stream",
     "text": [
      "2025-06-16 19:23:51,411 - stpipe.Spec2Pipeline.pixel_replace - INFO - Input TSO integration 189 had 192 pixels replaced.\n"
     ]
    },
    {
     "name": "stderr",
     "output_type": "stream",
     "text": [
      "2025-06-16 19:23:51,805 - stpipe.Spec2Pipeline.pixel_replace - INFO - Input TSO integration 190 had 192 pixels replaced.\n"
     ]
    },
    {
     "name": "stderr",
     "output_type": "stream",
     "text": [
      "2025-06-16 19:23:52,199 - stpipe.Spec2Pipeline.pixel_replace - INFO - Input TSO integration 191 had 192 pixels replaced.\n"
     ]
    },
    {
     "name": "stderr",
     "output_type": "stream",
     "text": [
      "2025-06-16 19:23:52,595 - stpipe.Spec2Pipeline.pixel_replace - INFO - Input TSO integration 192 had 192 pixels replaced.\n"
     ]
    },
    {
     "name": "stderr",
     "output_type": "stream",
     "text": [
      "2025-06-16 19:23:52,988 - stpipe.Spec2Pipeline.pixel_replace - INFO - Input TSO integration 193 had 192 pixels replaced.\n"
     ]
    },
    {
     "name": "stderr",
     "output_type": "stream",
     "text": [
      "2025-06-16 19:23:53,385 - stpipe.Spec2Pipeline.pixel_replace - INFO - Input TSO integration 194 had 192 pixels replaced.\n"
     ]
    },
    {
     "name": "stderr",
     "output_type": "stream",
     "text": [
      "2025-06-16 19:23:53,776 - stpipe.Spec2Pipeline.pixel_replace - INFO - Input TSO integration 195 had 192 pixels replaced.\n"
     ]
    },
    {
     "name": "stderr",
     "output_type": "stream",
     "text": [
      "2025-06-16 19:23:54,173 - stpipe.Spec2Pipeline.pixel_replace - INFO - Input TSO integration 196 had 194 pixels replaced.\n"
     ]
    },
    {
     "name": "stderr",
     "output_type": "stream",
     "text": [
      "2025-06-16 19:23:54,569 - stpipe.Spec2Pipeline.pixel_replace - INFO - Input TSO integration 197 had 192 pixels replaced.\n"
     ]
    },
    {
     "name": "stderr",
     "output_type": "stream",
     "text": [
      "2025-06-16 19:23:54,963 - stpipe.Spec2Pipeline.pixel_replace - INFO - Input TSO integration 198 had 192 pixels replaced.\n"
     ]
    },
    {
     "name": "stderr",
     "output_type": "stream",
     "text": [
      "2025-06-16 19:23:55,356 - stpipe.Spec2Pipeline.pixel_replace - INFO - Input TSO integration 199 had 192 pixels replaced.\n"
     ]
    },
    {
     "name": "stderr",
     "output_type": "stream",
     "text": [
      "2025-06-16 19:23:55,753 - stpipe.Spec2Pipeline.pixel_replace - INFO - Input TSO integration 200 had 192 pixels replaced.\n"
     ]
    },
    {
     "name": "stderr",
     "output_type": "stream",
     "text": [
      "2025-06-16 19:23:56,149 - stpipe.Spec2Pipeline.pixel_replace - INFO - Input TSO integration 201 had 192 pixels replaced.\n"
     ]
    },
    {
     "name": "stderr",
     "output_type": "stream",
     "text": [
      "2025-06-16 19:23:56,543 - stpipe.Spec2Pipeline.pixel_replace - INFO - Input TSO integration 202 had 193 pixels replaced.\n"
     ]
    },
    {
     "name": "stderr",
     "output_type": "stream",
     "text": [
      "2025-06-16 19:23:56,939 - stpipe.Spec2Pipeline.pixel_replace - INFO - Input TSO integration 203 had 192 pixels replaced.\n"
     ]
    },
    {
     "name": "stderr",
     "output_type": "stream",
     "text": [
      "2025-06-16 19:23:57,335 - stpipe.Spec2Pipeline.pixel_replace - INFO - Input TSO integration 204 had 192 pixels replaced.\n"
     ]
    },
    {
     "name": "stderr",
     "output_type": "stream",
     "text": [
      "2025-06-16 19:23:57,726 - stpipe.Spec2Pipeline.pixel_replace - INFO - Input TSO integration 205 had 192 pixels replaced.\n"
     ]
    },
    {
     "name": "stderr",
     "output_type": "stream",
     "text": [
      "2025-06-16 19:23:58,120 - stpipe.Spec2Pipeline.pixel_replace - INFO - Input TSO integration 206 had 195 pixels replaced.\n"
     ]
    },
    {
     "name": "stderr",
     "output_type": "stream",
     "text": [
      "2025-06-16 19:23:58,517 - stpipe.Spec2Pipeline.pixel_replace - INFO - Input TSO integration 207 had 192 pixels replaced.\n"
     ]
    },
    {
     "name": "stderr",
     "output_type": "stream",
     "text": [
      "2025-06-16 19:23:58,908 - stpipe.Spec2Pipeline.pixel_replace - INFO - Input TSO integration 208 had 192 pixels replaced.\n"
     ]
    },
    {
     "name": "stderr",
     "output_type": "stream",
     "text": [
      "2025-06-16 19:23:59,299 - stpipe.Spec2Pipeline.pixel_replace - INFO - Input TSO integration 209 had 192 pixels replaced.\n"
     ]
    },
    {
     "name": "stderr",
     "output_type": "stream",
     "text": [
      "2025-06-16 19:23:59,690 - stpipe.Spec2Pipeline.pixel_replace - INFO - Input TSO integration 210 had 192 pixels replaced.\n"
     ]
    },
    {
     "name": "stderr",
     "output_type": "stream",
     "text": [
      "2025-06-16 19:24:00,080 - stpipe.Spec2Pipeline.pixel_replace - INFO - Input TSO integration 211 had 192 pixels replaced.\n"
     ]
    },
    {
     "name": "stderr",
     "output_type": "stream",
     "text": [
      "2025-06-16 19:24:00,474 - stpipe.Spec2Pipeline.pixel_replace - INFO - Input TSO integration 212 had 192 pixels replaced.\n"
     ]
    },
    {
     "name": "stderr",
     "output_type": "stream",
     "text": [
      "2025-06-16 19:24:00,864 - stpipe.Spec2Pipeline.pixel_replace - INFO - Input TSO integration 213 had 192 pixels replaced.\n"
     ]
    },
    {
     "name": "stderr",
     "output_type": "stream",
     "text": [
      "2025-06-16 19:24:01,255 - stpipe.Spec2Pipeline.pixel_replace - INFO - Input TSO integration 214 had 192 pixels replaced.\n"
     ]
    },
    {
     "name": "stderr",
     "output_type": "stream",
     "text": [
      "2025-06-16 19:24:01,648 - stpipe.Spec2Pipeline.pixel_replace - INFO - Input TSO integration 215 had 192 pixels replaced.\n"
     ]
    },
    {
     "name": "stderr",
     "output_type": "stream",
     "text": [
      "2025-06-16 19:24:02,041 - stpipe.Spec2Pipeline.pixel_replace - INFO - Input TSO integration 216 had 192 pixels replaced.\n"
     ]
    },
    {
     "name": "stderr",
     "output_type": "stream",
     "text": [
      "2025-06-16 19:24:02,435 - stpipe.Spec2Pipeline.pixel_replace - INFO - Input TSO integration 217 had 192 pixels replaced.\n"
     ]
    },
    {
     "name": "stderr",
     "output_type": "stream",
     "text": [
      "2025-06-16 19:24:02,824 - stpipe.Spec2Pipeline.pixel_replace - INFO - Input TSO integration 218 had 192 pixels replaced.\n"
     ]
    },
    {
     "name": "stderr",
     "output_type": "stream",
     "text": [
      "2025-06-16 19:24:03,216 - stpipe.Spec2Pipeline.pixel_replace - INFO - Input TSO integration 219 had 192 pixels replaced.\n"
     ]
    },
    {
     "name": "stderr",
     "output_type": "stream",
     "text": [
      "2025-06-16 19:24:03,611 - stpipe.Spec2Pipeline.pixel_replace - INFO - Input TSO integration 220 had 192 pixels replaced.\n"
     ]
    },
    {
     "name": "stderr",
     "output_type": "stream",
     "text": [
      "2025-06-16 19:24:04,006 - stpipe.Spec2Pipeline.pixel_replace - INFO - Input TSO integration 221 had 192 pixels replaced.\n"
     ]
    },
    {
     "name": "stderr",
     "output_type": "stream",
     "text": [
      "2025-06-16 19:24:04,403 - stpipe.Spec2Pipeline.pixel_replace - INFO - Input TSO integration 222 had 192 pixels replaced.\n"
     ]
    },
    {
     "name": "stderr",
     "output_type": "stream",
     "text": [
      "2025-06-16 19:24:04,794 - stpipe.Spec2Pipeline.pixel_replace - INFO - Input TSO integration 223 had 192 pixels replaced.\n"
     ]
    },
    {
     "name": "stderr",
     "output_type": "stream",
     "text": [
      "2025-06-16 19:24:05,188 - stpipe.Spec2Pipeline.pixel_replace - INFO - Input TSO integration 224 had 192 pixels replaced.\n"
     ]
    },
    {
     "name": "stderr",
     "output_type": "stream",
     "text": [
      "2025-06-16 19:24:05,579 - stpipe.Spec2Pipeline.pixel_replace - INFO - Input TSO integration 225 had 192 pixels replaced.\n"
     ]
    },
    {
     "name": "stderr",
     "output_type": "stream",
     "text": [
      "2025-06-16 19:24:05,972 - stpipe.Spec2Pipeline.pixel_replace - INFO - Input TSO integration 226 had 192 pixels replaced.\n"
     ]
    },
    {
     "name": "stderr",
     "output_type": "stream",
     "text": [
      "2025-06-16 19:24:06,365 - stpipe.Spec2Pipeline.pixel_replace - INFO - Input TSO integration 227 had 192 pixels replaced.\n"
     ]
    },
    {
     "name": "stderr",
     "output_type": "stream",
     "text": [
      "2025-06-16 19:24:06,756 - stpipe.Spec2Pipeline.pixel_replace - INFO - Input TSO integration 228 had 192 pixels replaced.\n"
     ]
    },
    {
     "name": "stderr",
     "output_type": "stream",
     "text": [
      "2025-06-16 19:24:07,151 - stpipe.Spec2Pipeline.pixel_replace - INFO - Input TSO integration 229 had 192 pixels replaced.\n"
     ]
    },
    {
     "name": "stderr",
     "output_type": "stream",
     "text": [
      "2025-06-16 19:24:07,660 - stpipe.Spec2Pipeline.pixel_replace - INFO - Input TSO integration 230 had 192 pixels replaced.\n"
     ]
    },
    {
     "name": "stderr",
     "output_type": "stream",
     "text": [
      "2025-06-16 19:24:08,052 - stpipe.Spec2Pipeline.pixel_replace - INFO - Input TSO integration 231 had 192 pixels replaced.\n"
     ]
    },
    {
     "name": "stderr",
     "output_type": "stream",
     "text": [
      "2025-06-16 19:24:08,444 - stpipe.Spec2Pipeline.pixel_replace - INFO - Input TSO integration 232 had 192 pixels replaced.\n"
     ]
    },
    {
     "name": "stderr",
     "output_type": "stream",
     "text": [
      "2025-06-16 19:24:08,839 - stpipe.Spec2Pipeline.pixel_replace - INFO - Input TSO integration 233 had 192 pixels replaced.\n"
     ]
    },
    {
     "name": "stderr",
     "output_type": "stream",
     "text": [
      "2025-06-16 19:24:09,233 - stpipe.Spec2Pipeline.pixel_replace - INFO - Input TSO integration 234 had 192 pixels replaced.\n"
     ]
    },
    {
     "name": "stderr",
     "output_type": "stream",
     "text": [
      "2025-06-16 19:24:09,626 - stpipe.Spec2Pipeline.pixel_replace - INFO - Input TSO integration 235 had 192 pixels replaced.\n"
     ]
    },
    {
     "name": "stderr",
     "output_type": "stream",
     "text": [
      "2025-06-16 19:24:10,015 - stpipe.Spec2Pipeline.pixel_replace - INFO - Input TSO integration 236 had 192 pixels replaced.\n"
     ]
    },
    {
     "name": "stderr",
     "output_type": "stream",
     "text": [
      "2025-06-16 19:24:10,404 - stpipe.Spec2Pipeline.pixel_replace - INFO - Input TSO integration 237 had 192 pixels replaced.\n"
     ]
    },
    {
     "name": "stderr",
     "output_type": "stream",
     "text": [
      "2025-06-16 19:24:10,794 - stpipe.Spec2Pipeline.pixel_replace - INFO - Input TSO integration 238 had 192 pixels replaced.\n"
     ]
    },
    {
     "name": "stderr",
     "output_type": "stream",
     "text": [
      "2025-06-16 19:24:11,188 - stpipe.Spec2Pipeline.pixel_replace - INFO - Input TSO integration 239 had 192 pixels replaced.\n"
     ]
    },
    {
     "name": "stderr",
     "output_type": "stream",
     "text": [
      "2025-06-16 19:24:11,580 - stpipe.Spec2Pipeline.pixel_replace - INFO - Input TSO integration 240 had 192 pixels replaced.\n"
     ]
    },
    {
     "name": "stderr",
     "output_type": "stream",
     "text": [
      "2025-06-16 19:24:11,973 - stpipe.Spec2Pipeline.pixel_replace - INFO - Input TSO integration 241 had 192 pixels replaced.\n"
     ]
    },
    {
     "name": "stderr",
     "output_type": "stream",
     "text": [
      "2025-06-16 19:24:12,364 - stpipe.Spec2Pipeline.pixel_replace - INFO - Input TSO integration 242 had 192 pixels replaced.\n"
     ]
    },
    {
     "name": "stderr",
     "output_type": "stream",
     "text": [
      "2025-06-16 19:24:12,754 - stpipe.Spec2Pipeline.pixel_replace - INFO - Input TSO integration 243 had 192 pixels replaced.\n"
     ]
    },
    {
     "name": "stderr",
     "output_type": "stream",
     "text": [
      "2025-06-16 19:24:13,146 - stpipe.Spec2Pipeline.pixel_replace - INFO - Input TSO integration 244 had 192 pixels replaced.\n"
     ]
    },
    {
     "name": "stderr",
     "output_type": "stream",
     "text": [
      "2025-06-16 19:24:13,540 - stpipe.Spec2Pipeline.pixel_replace - INFO - Input TSO integration 245 had 192 pixels replaced.\n"
     ]
    },
    {
     "name": "stderr",
     "output_type": "stream",
     "text": [
      "2025-06-16 19:24:13,931 - stpipe.Spec2Pipeline.pixel_replace - INFO - Input TSO integration 246 had 192 pixels replaced.\n"
     ]
    },
    {
     "name": "stderr",
     "output_type": "stream",
     "text": [
      "2025-06-16 19:24:14,322 - stpipe.Spec2Pipeline.pixel_replace - INFO - Input TSO integration 247 had 192 pixels replaced.\n"
     ]
    },
    {
     "name": "stderr",
     "output_type": "stream",
     "text": [
      "2025-06-16 19:24:14,715 - stpipe.Spec2Pipeline.pixel_replace - INFO - Input TSO integration 248 had 192 pixels replaced.\n"
     ]
    },
    {
     "name": "stderr",
     "output_type": "stream",
     "text": [
      "2025-06-16 19:24:15,105 - stpipe.Spec2Pipeline.pixel_replace - INFO - Input TSO integration 249 had 192 pixels replaced.\n"
     ]
    },
    {
     "name": "stderr",
     "output_type": "stream",
     "text": [
      "2025-06-16 19:24:15,496 - stpipe.Spec2Pipeline.pixel_replace - INFO - Input TSO integration 250 had 194 pixels replaced.\n"
     ]
    },
    {
     "name": "stderr",
     "output_type": "stream",
     "text": [
      "2025-06-16 19:24:15,887 - stpipe.Spec2Pipeline.pixel_replace - INFO - Input TSO integration 251 had 192 pixels replaced.\n"
     ]
    },
    {
     "name": "stderr",
     "output_type": "stream",
     "text": [
      "2025-06-16 19:24:16,278 - stpipe.Spec2Pipeline.pixel_replace - INFO - Input TSO integration 252 had 192 pixels replaced.\n"
     ]
    },
    {
     "name": "stderr",
     "output_type": "stream",
     "text": [
      "2025-06-16 19:24:16,671 - stpipe.Spec2Pipeline.pixel_replace - INFO - Input TSO integration 253 had 192 pixels replaced.\n"
     ]
    },
    {
     "name": "stderr",
     "output_type": "stream",
     "text": [
      "2025-06-16 19:24:17,062 - stpipe.Spec2Pipeline.pixel_replace - INFO - Input TSO integration 254 had 192 pixels replaced.\n"
     ]
    },
    {
     "name": "stderr",
     "output_type": "stream",
     "text": [
      "2025-06-16 19:24:17,457 - stpipe.Spec2Pipeline.pixel_replace - INFO - Input TSO integration 255 had 192 pixels replaced.\n"
     ]
    },
    {
     "name": "stderr",
     "output_type": "stream",
     "text": [
      "2025-06-16 19:24:17,851 - stpipe.Spec2Pipeline.pixel_replace - INFO - Input TSO integration 256 had 192 pixels replaced.\n"
     ]
    },
    {
     "name": "stderr",
     "output_type": "stream",
     "text": [
      "2025-06-16 19:24:18,242 - stpipe.Spec2Pipeline.pixel_replace - INFO - Input TSO integration 257 had 192 pixels replaced.\n"
     ]
    },
    {
     "name": "stderr",
     "output_type": "stream",
     "text": [
      "2025-06-16 19:24:18,637 - stpipe.Spec2Pipeline.pixel_replace - INFO - Input TSO integration 258 had 192 pixels replaced.\n"
     ]
    },
    {
     "name": "stderr",
     "output_type": "stream",
     "text": [
      "2025-06-16 19:24:19,027 - stpipe.Spec2Pipeline.pixel_replace - INFO - Input TSO integration 259 had 192 pixels replaced.\n"
     ]
    },
    {
     "name": "stderr",
     "output_type": "stream",
     "text": [
      "2025-06-16 19:24:19,418 - stpipe.Spec2Pipeline.pixel_replace - INFO - Input TSO integration 260 had 192 pixels replaced.\n"
     ]
    },
    {
     "name": "stderr",
     "output_type": "stream",
     "text": [
      "2025-06-16 19:24:19,809 - stpipe.Spec2Pipeline.pixel_replace - INFO - Input TSO integration 261 had 192 pixels replaced.\n"
     ]
    },
    {
     "name": "stderr",
     "output_type": "stream",
     "text": [
      "2025-06-16 19:24:20,200 - stpipe.Spec2Pipeline.pixel_replace - INFO - Input TSO integration 262 had 192 pixels replaced.\n"
     ]
    },
    {
     "name": "stderr",
     "output_type": "stream",
     "text": [
      "2025-06-16 19:24:20,594 - stpipe.Spec2Pipeline.pixel_replace - INFO - Input TSO integration 263 had 192 pixels replaced.\n"
     ]
    },
    {
     "name": "stderr",
     "output_type": "stream",
     "text": [
      "2025-06-16 19:24:20,985 - stpipe.Spec2Pipeline.pixel_replace - INFO - Input TSO integration 264 had 192 pixels replaced.\n"
     ]
    },
    {
     "name": "stderr",
     "output_type": "stream",
     "text": [
      "2025-06-16 19:24:21,377 - stpipe.Spec2Pipeline.pixel_replace - INFO - Input TSO integration 265 had 192 pixels replaced.\n"
     ]
    },
    {
     "name": "stderr",
     "output_type": "stream",
     "text": [
      "2025-06-16 19:24:21,772 - stpipe.Spec2Pipeline.pixel_replace - INFO - Input TSO integration 266 had 192 pixels replaced.\n"
     ]
    },
    {
     "name": "stderr",
     "output_type": "stream",
     "text": [
      "2025-06-16 19:24:22,164 - stpipe.Spec2Pipeline.pixel_replace - INFO - Input TSO integration 267 had 192 pixels replaced.\n"
     ]
    },
    {
     "name": "stderr",
     "output_type": "stream",
     "text": [
      "2025-06-16 19:24:22,556 - stpipe.Spec2Pipeline.pixel_replace - INFO - Input TSO integration 268 had 192 pixels replaced.\n"
     ]
    },
    {
     "name": "stderr",
     "output_type": "stream",
     "text": [
      "2025-06-16 19:24:22,947 - stpipe.Spec2Pipeline.pixel_replace - INFO - Input TSO integration 269 had 192 pixels replaced.\n"
     ]
    },
    {
     "name": "stderr",
     "output_type": "stream",
     "text": [
      "2025-06-16 19:24:23,337 - stpipe.Spec2Pipeline.pixel_replace - INFO - Input TSO integration 270 had 192 pixels replaced.\n"
     ]
    },
    {
     "name": "stderr",
     "output_type": "stream",
     "text": [
      "2025-06-16 19:24:23,728 - stpipe.Spec2Pipeline.pixel_replace - INFO - Input TSO integration 271 had 192 pixels replaced.\n"
     ]
    },
    {
     "name": "stderr",
     "output_type": "stream",
     "text": [
      "2025-06-16 19:24:24,120 - stpipe.Spec2Pipeline.pixel_replace - INFO - Input TSO integration 272 had 192 pixels replaced.\n"
     ]
    },
    {
     "name": "stderr",
     "output_type": "stream",
     "text": [
      "2025-06-16 19:24:24,511 - stpipe.Spec2Pipeline.pixel_replace - INFO - Input TSO integration 273 had 192 pixels replaced.\n"
     ]
    },
    {
     "name": "stderr",
     "output_type": "stream",
     "text": [
      "2025-06-16 19:24:24,906 - stpipe.Spec2Pipeline.pixel_replace - INFO - Input TSO integration 274 had 192 pixels replaced.\n"
     ]
    },
    {
     "name": "stderr",
     "output_type": "stream",
     "text": [
      "2025-06-16 19:24:25,297 - stpipe.Spec2Pipeline.pixel_replace - INFO - Input TSO integration 275 had 192 pixels replaced.\n"
     ]
    },
    {
     "name": "stderr",
     "output_type": "stream",
     "text": [
      "2025-06-16 19:24:25,693 - stpipe.Spec2Pipeline.pixel_replace - INFO - Input TSO integration 276 had 192 pixels replaced.\n"
     ]
    },
    {
     "name": "stderr",
     "output_type": "stream",
     "text": [
      "2025-06-16 19:24:26,086 - stpipe.Spec2Pipeline.pixel_replace - INFO - Input TSO integration 277 had 192 pixels replaced.\n"
     ]
    },
    {
     "name": "stderr",
     "output_type": "stream",
     "text": [
      "2025-06-16 19:24:26,479 - stpipe.Spec2Pipeline.pixel_replace - INFO - Input TSO integration 278 had 192 pixels replaced.\n"
     ]
    },
    {
     "name": "stderr",
     "output_type": "stream",
     "text": [
      "2025-06-16 19:24:26,870 - stpipe.Spec2Pipeline.pixel_replace - INFO - Input TSO integration 279 had 192 pixels replaced.\n"
     ]
    },
    {
     "name": "stderr",
     "output_type": "stream",
     "text": [
      "2025-06-16 19:24:27,266 - stpipe.Spec2Pipeline.pixel_replace - INFO - Input TSO integration 280 had 192 pixels replaced.\n"
     ]
    },
    {
     "name": "stderr",
     "output_type": "stream",
     "text": [
      "2025-06-16 19:24:27,656 - stpipe.Spec2Pipeline.pixel_replace - INFO - Input TSO integration 281 had 192 pixels replaced.\n"
     ]
    },
    {
     "name": "stderr",
     "output_type": "stream",
     "text": [
      "2025-06-16 19:24:28,049 - stpipe.Spec2Pipeline.pixel_replace - INFO - Input TSO integration 282 had 192 pixels replaced.\n"
     ]
    },
    {
     "name": "stderr",
     "output_type": "stream",
     "text": [
      "2025-06-16 19:24:28,441 - stpipe.Spec2Pipeline.pixel_replace - INFO - Input TSO integration 283 had 192 pixels replaced.\n"
     ]
    },
    {
     "name": "stderr",
     "output_type": "stream",
     "text": [
      "2025-06-16 19:24:28,832 - stpipe.Spec2Pipeline.pixel_replace - INFO - Input TSO integration 284 had 192 pixels replaced.\n"
     ]
    },
    {
     "name": "stderr",
     "output_type": "stream",
     "text": [
      "2025-06-16 19:24:29,223 - stpipe.Spec2Pipeline.pixel_replace - INFO - Input TSO integration 285 had 192 pixels replaced.\n"
     ]
    },
    {
     "name": "stderr",
     "output_type": "stream",
     "text": [
      "2025-06-16 19:24:29,617 - stpipe.Spec2Pipeline.pixel_replace - INFO - Input TSO integration 286 had 192 pixels replaced.\n"
     ]
    },
    {
     "name": "stderr",
     "output_type": "stream",
     "text": [
      "2025-06-16 19:24:30,012 - stpipe.Spec2Pipeline.pixel_replace - INFO - Input TSO integration 287 had 192 pixels replaced.\n"
     ]
    },
    {
     "name": "stderr",
     "output_type": "stream",
     "text": [
      "2025-06-16 19:24:31,469 - stpipe.Spec2Pipeline.pixel_replace - INFO - Step pixel_replace done\n"
     ]
    },
    {
     "name": "stderr",
     "output_type": "stream",
     "text": [
      "2025-06-16 19:24:31,703 - stpipe.Spec2Pipeline.extract_1d - INFO - Step extract_1d running with args (<CubeModel(288, 416, 72) from ./lrs_tso_demo_data/PID04496Obs004/stage2/jw04496004001_03103_00001-seg001_mirimage_calints.fits>,).\n"
     ]
    },
    {
     "name": "stderr",
     "output_type": "stream",
     "text": [
      "2025-06-16 19:25:22,857 - stpipe.Spec2Pipeline.extract_1d - INFO - Using EXTRACT1D reference file /home/runner/crds/references/jwst/miri/jwst_miri_extract1d_0006.json\n"
     ]
    },
    {
     "name": "stderr",
     "output_type": "stream",
     "text": [
      "2025-06-16 19:25:23,578 - stpipe.Spec2Pipeline.extract_1d - INFO - Using APCORR file /home/runner/crds/references/jwst/miri/jwst_miri_apcorr_0013.fits\n"
     ]
    },
    {
     "name": "stderr",
     "output_type": "stream",
     "text": [
      "2025-06-16 19:25:24,334 - stpipe.Spec2Pipeline.extract_1d - WARNING - spectral_order is None; using 1\n"
     ]
    },
    {
     "name": "stderr",
     "output_type": "stream",
     "text": [
      "2025-06-16 19:25:24,335 - stpipe.Spec2Pipeline.extract_1d - INFO - Processing spectral order 1\n"
     ]
    },
    {
     "name": "stderr",
     "output_type": "stream",
     "text": [
      "2025-06-16 19:25:24,392 - stpipe.Spec2Pipeline.extract_1d - INFO - Aperture start/stop: 30.00 -> 41.00 (inclusive)\n"
     ]
    },
    {
     "name": "stderr",
     "output_type": "stream",
     "text": [
      "2025-06-16 19:25:24,399 - stpipe.Spec2Pipeline.extract_1d - INFO - Creating aperture correction.\n"
     ]
    },
    {
     "name": "stderr",
     "output_type": "stream",
     "text": [
      "2025-06-16 19:25:24,404 - stpipe.Spec2Pipeline.extract_1d - INFO - Beginning loop over 288 integrations ...\n"
     ]
    },
    {
     "name": "stderr",
     "output_type": "stream",
     "text": [
      "2025-06-16 19:25:37,552 - stpipe.Spec2Pipeline.extract_1d - INFO - ... 50 integrations done\n"
     ]
    },
    {
     "name": "stderr",
     "output_type": "stream",
     "text": [
      "2025-06-16 19:25:50,706 - stpipe.Spec2Pipeline.extract_1d - INFO - ... 100 integrations done\n"
     ]
    },
    {
     "name": "stderr",
     "output_type": "stream",
     "text": [
      "2025-06-16 19:26:03,920 - stpipe.Spec2Pipeline.extract_1d - INFO - ... 150 integrations done\n"
     ]
    },
    {
     "name": "stderr",
     "output_type": "stream",
     "text": [
      "2025-06-16 19:26:16,995 - stpipe.Spec2Pipeline.extract_1d - INFO - ... 200 integrations done\n"
     ]
    },
    {
     "name": "stderr",
     "output_type": "stream",
     "text": [
      "2025-06-16 19:26:30,283 - stpipe.Spec2Pipeline.extract_1d - INFO - ... 250 integrations done\n"
     ]
    },
    {
     "name": "stderr",
     "output_type": "stream",
     "text": [
      "2025-06-16 19:26:40,411 - stpipe.Spec2Pipeline.extract_1d - INFO - All 288 integrations done\n"
     ]
    },
    {
     "name": "stderr",
     "output_type": "stream",
     "text": [
      "2025-06-16 19:26:53,392 - stpipe.Spec2Pipeline.extract_1d - INFO - Saved model in ./lrs_tso_demo_data/PID04496Obs004/stage2/jw04496004001_03103_00001-seg001_mirimage_x1dints.fits\n"
     ]
    },
    {
     "name": "stderr",
     "output_type": "stream",
     "text": [
      "2025-06-16 19:26:53,393 - stpipe.Spec2Pipeline.extract_1d - INFO - Step extract_1d done\n"
     ]
    },
    {
     "name": "stderr",
     "output_type": "stream",
     "text": [
      "2025-06-16 19:26:53,396 - stpipe.Spec2Pipeline - INFO - Finished processing product /home/runner/work/jwst-pipeline-notebooks/jwst-pipeline-notebooks/notebooks/MIRI/LRS-slitless-TSO/lrs_tso_demo_data/PID04496Obs004/stage1/jw04496004001_03103_00001-seg001_mirimage\n"
     ]
    },
    {
     "name": "stderr",
     "output_type": "stream",
     "text": [
      "2025-06-16 19:26:53,418 - stpipe.Spec2Pipeline - INFO - Ending calwebb_spec2\n"
     ]
    },
    {
     "name": "stderr",
     "output_type": "stream",
     "text": [
      "2025-06-16 19:26:53,419 - stpipe.Spec2Pipeline - INFO - Results used CRDS context: jwst_1364.pmap\n"
     ]
    },
    {
     "name": "stderr",
     "output_type": "stream",
     "text": [
      "2025-06-16 19:26:58,729 - stpipe.Spec2Pipeline - INFO - Saved model in ./lrs_tso_demo_data/PID04496Obs004/stage2/jw04496004001_03103_00001-seg001_mirimage_calints.fits\n"
     ]
    },
    {
     "name": "stderr",
     "output_type": "stream",
     "text": [
      "2025-06-16 19:26:58,730 - stpipe.Spec2Pipeline - INFO - Step Spec2Pipeline done\n"
     ]
    },
    {
     "name": "stderr",
     "output_type": "stream",
     "text": [
      "2025-06-16 19:26:58,730 - stpipe - INFO - Results used jwst version: 1.18.1\n"
     ]
    }
   ],
   "source": [
    "# Run the pipeline on the selected science rate files one by one with the custom parameter dictionary\n",
    "if do_spec2:\n",
    "    for ii, file in enumerate(sci_files):\n",
    "        if bkg_sub and bkg_data:\n",
    "            # Create association file to associate science and background observatons \n",
    "            asnfile = os.path.join(det1_dir, Path(file).stem + '_asn.json')\n",
    "            writel2asn(file, bkg_files, asnfile)\n",
    "            Spec2Pipeline.call(asnfile, steps=spec2dict, save_results=True, output_dir=spec2_dir)\n",
    "        else:\n",
    "            # For cases with only science observation in the data\n",
    "            Spec2Pipeline.call(file, steps=spec2dict, save_results=True, output_dir=spec2_dir)\n",
    "            print('Running Spec2 with no background subtraction')\n",
    "\n",
    "else:\n",
    "    print('Skipping Spec2 processing...')"
   ]
  },
  {
   "cell_type": "code",
   "execution_count": 25,
   "id": "86dce385",
   "metadata": {
    "execution": {
     "iopub.execute_input": "2025-06-16T19:26:58.734918Z",
     "iopub.status.busy": "2025-06-16T19:26:58.734749Z",
     "iopub.status.idle": "2025-06-16T19:26:58.737746Z",
     "shell.execute_reply": "2025-06-16T19:26:58.737254Z"
    }
   },
   "outputs": [
    {
     "name": "stdout",
     "output_type": "stream",
     "text": [
      "Runtime so far: 401.3782 seconds\n",
      "Runtime for Spec2: 266.711054729 seconds\n"
     ]
    }
   ],
   "source": [
    "# Print out the time benchmark\n",
    "time1 = time.perf_counter()\n",
    "print(f\"Runtime so far: {time1 - time0:0.4f} seconds\")\n",
    "print(f\"Runtime for Spec2: {time1 - time_spec2} seconds\")"
   ]
  },
  {
   "cell_type": "markdown",
   "id": "1f997012",
   "metadata": {},
   "source": [
    "<hr style=\"border:1px solid gray\"> </hr>"
   ]
  },
  {
   "cell_type": "markdown",
   "id": "5aef94ff",
   "metadata": {},
   "source": [
    "7.<font color='white'>-</font>Tso3 Pipeline<a class=\"anchor\" id=\"spec3\"></a>\n",
    "------------------\n",
    "The JWST calibration pipeline has a specialized final stage for TSOs (calwebb_tso3) that produces outlier-flagged multi-integration calibrated subarray images (`*crfints.fits` files) and corresponding 1D extracted spectra (`*x1dints.fits` files). In addition, the white-light photometric light curve is produced (`*whtlt.ecsv` file), which is computed by integrating the total flux contained within the extraction aperture in each integration.\n",
    "An association file containing the Stage 2 calibrated subarray images (`*calints.fits` files) is required for this stage.<br>\n",
    "\n",
    "Unlike for non-TSO MIRI slit mode observations, no resampling of the subarray is done. The `outlier_detection` step for TSOs has an additional functionality that uses moving median filtering across the stack of individual integrations for detecting outlier pixels, which works to prevent the pipeline from flagging points due to astrophysical variability.\n",
    "\n",
    "Note that pixel values in the composite image created by the JWST pipeline are in *surface brightness units* (MJy/sr), not flux units. If the user desires custom spectral extraction outside the context of the `extract1d` step contained within the Tso3 pipeline, the pixel values must be multiplied by the width of the extraction aperture in pixels and the pixel area in steradians in order to obtain a spectrum in the appropriate flux units. This correction is built into the pipeline's `extract1d` algorithm.\n",
    "The nominal pixel area in steradians is provided in the <code>PIXAR_SR</code> keyword and can be found in the SCI extension header of the image outputs.<br>\n",
    "\n",
    "The default pipeline extraction uses a fixed box of width 12 pixels centered on the expected spectral trace. No in-scene background subtraction is carried out by default. Users can alter the location and width of the extraction aperture and activate background subtraction strategies by providing a custom `extract1d` reference file. For details concerning the proper format and available parameter settings for such reference files, consult https://jwst-pipeline.readthedocs.io/en/latest/jwst/extract_1d/reference_files.html#extract1d-reference-file.<br>\n",
    "\n",
    "See https://jwst-docs.stsci.edu/jwst-science-calibration-pipeline/stages-of-jwst-data-processing/calwebb_tso3 for a detailed overview of the various pipeline steps that comprise TSO3.\n",
    "    \n",
    "<div class=\"alert alert-block alert-warning\">\n",
    "To override certain steps and reference files, use the examples below.\n",
    "</div>"
   ]
  },
  {
   "cell_type": "code",
   "execution_count": 26,
   "id": "f36a78b5",
   "metadata": {
    "execution": {
     "iopub.execute_input": "2025-06-16T19:26:58.739314Z",
     "iopub.status.busy": "2025-06-16T19:26:58.739156Z",
     "iopub.status.idle": "2025-06-16T19:26:58.741785Z",
     "shell.execute_reply": "2025-06-16T19:26:58.741202Z"
    }
   },
   "outputs": [],
   "source": [
    "time_tso3 = time.perf_counter()"
   ]
  },
  {
   "cell_type": "code",
   "execution_count": 27,
   "id": "0515b693",
   "metadata": {
    "execution": {
     "iopub.execute_input": "2025-06-16T19:26:58.743302Z",
     "iopub.status.busy": "2025-06-16T19:26:58.743138Z",
     "iopub.status.idle": "2025-06-16T19:26:58.746007Z",
     "shell.execute_reply": "2025-06-16T19:26:58.745558Z"
    }
   },
   "outputs": [],
   "source": [
    "# Set up a dictionary to define how the Tso3 pipeline should be configured\n",
    "\n",
    "# Boilerplate dictionary setup\n",
    "tso3dict = {}\n",
    "tso3dict['outlier_detection'], tso3dict['extract_1d'], tso3dict['white_light'] = {}, {}, {}\n",
    "\n",
    "# Overrides for whether or not certain steps should be skipped (example)\n",
    "#tso3dict['outlier_detection']['skip'] = True\n",
    "\n",
    "# Overrides for various reference files\n",
    "# Files should be in the base local directory or provide full path\n",
    "#tso3dict['extract_1d']['override_extract1d'] = 'myfile.json'  # Spectral extraction parameters (ASDF file)\n",
    "#tso3dict['extract_1d']['override_apcorr'] = 'myfile.asdf'  # Aperture correction parameters (ASDF file)\n",
    "\n",
    "# Adjust moving median outlier detection parameters \n",
    "#tso3dict['outlier_detection']['rolling_window_width'] = 31  # Default is 25"
   ]
  },
  {
   "cell_type": "markdown",
   "id": "1b1f8cf6",
   "metadata": {},
   "source": [
    "Define a function to create association files for Stage 3."
   ]
  },
  {
   "cell_type": "code",
   "execution_count": 28,
   "id": "37086d51",
   "metadata": {
    "execution": {
     "iopub.execute_input": "2025-06-16T19:26:58.747543Z",
     "iopub.status.busy": "2025-06-16T19:26:58.747385Z",
     "iopub.status.idle": "2025-06-16T19:26:58.750543Z",
     "shell.execute_reply": "2025-06-16T19:26:58.750106Z"
    }
   },
   "outputs": [],
   "source": [
    "def writel3asn(cal_files, asnfile):\n",
    "    # Define the basic association of science files\n",
    "    asn = afl.asn_from_list(cal_files, rule=DMS_Level3_Base, product_name='Stage3')\n",
    "\n",
    "    # Write the association to a json file\n",
    "    _, serialized = asn.dump()\n",
    "    with open(asnfile, 'w') as outfile:\n",
    "        outfile.write(serialized)"
   ]
  },
  {
   "cell_type": "markdown",
   "id": "9d41e073",
   "metadata": {},
   "source": [
    "Find and sort all of the Stage 2 cal files, ensuring the use of absolute paths, and create the association file."
   ]
  },
  {
   "cell_type": "code",
   "execution_count": 29,
   "id": "28aca928",
   "metadata": {
    "execution": {
     "iopub.execute_input": "2025-06-16T19:26:58.752057Z",
     "iopub.status.busy": "2025-06-16T19:26:58.751900Z",
     "iopub.status.idle": "2025-06-16T19:26:58.757941Z",
     "shell.execute_reply": "2025-06-16T19:26:58.757481Z"
    }
   },
   "outputs": [
    {
     "name": "stderr",
     "output_type": "stream",
     "text": [
      "2025-06-16 19:26:58,755 - stpipe - WARNING - /opt/hostedtoolcache/Python/3.11.13/x64/lib/python3.11/site-packages/jwst/associations/association.py:215: UserWarning: Input association file contains path information; note that this can complicate usage and/or sharing of such files.\n",
      "  warnings.warn(err_str, UserWarning)\n",
      "\n"
     ]
    }
   ],
   "source": [
    "# Get cal files from the Spec2 output folder\n",
    "cal_files = sorted(glob.glob(os.path.join(spec2_dir, '*calints.fits')))\n",
    "\n",
    "# Use the absolute file paths\n",
    "for ii in range(len(cal_files)):\n",
    "    cal_files[ii] = os.path.abspath(cal_files[ii])\n",
    "cal_files = np.array(cal_files)\n",
    "\n",
    "# Create association file\n",
    "asnfile = os.path.join(tso3_dir, 'stage3_asn.json')\n",
    "writel3asn(cal_files, asnfile)"
   ]
  },
  {
   "cell_type": "markdown",
   "id": "533d8a33",
   "metadata": {},
   "source": [
    "Run Tso3 using the call method."
   ]
  },
  {
   "cell_type": "code",
   "execution_count": 30,
   "id": "4f31676e",
   "metadata": {
    "execution": {
     "iopub.execute_input": "2025-06-16T19:26:58.759541Z",
     "iopub.status.busy": "2025-06-16T19:26:58.759380Z",
     "iopub.status.idle": "2025-06-16T19:29:44.478084Z",
     "shell.execute_reply": "2025-06-16T19:29:44.477599Z"
    },
    "tags": [
     "scroll-output"
    ]
   },
   "outputs": [
    {
     "name": "stderr",
     "output_type": "stream",
     "text": [
      "2025-06-16 19:27:52,184 - CRDS - INFO -  Fetching  /home/runner/crds/references/jwst/miri/jwst_miri_pars-outlierdetectionstep_0101.asdf    1.3 K bytes  (1 / 1 files) (0 / 1.3 K bytes)\n"
     ]
    },
    {
     "name": "stderr",
     "output_type": "stream",
     "text": [
      "2025-06-16 19:27:52,335 - stpipe - INFO - PARS-OUTLIERDETECTIONSTEP parameters found: /home/runner/crds/references/jwst/miri/jwst_miri_pars-outlierdetectionstep_0101.asdf\n"
     ]
    },
    {
     "name": "stderr",
     "output_type": "stream",
     "text": [
      "2025-06-16 19:27:54,948 - CRDS - INFO -  Fetching  /home/runner/crds/references/jwst/miri/jwst_miri_pars-whitelightstep_0001.asdf      995 bytes  (1 / 1 files) (0 / 995 bytes)\n"
     ]
    },
    {
     "name": "stderr",
     "output_type": "stream",
     "text": [
      "2025-06-16 19:27:55,037 - stpipe - INFO - PARS-WHITELIGHTSTEP parameters found: /home/runner/crds/references/jwst/miri/jwst_miri_pars-whitelightstep_0001.asdf\n"
     ]
    },
    {
     "name": "stderr",
     "output_type": "stream",
     "text": [
      "2025-06-16 19:27:55,580 - stpipe.Tso3Pipeline - INFO - Tso3Pipeline instance created.\n"
     ]
    },
    {
     "name": "stderr",
     "output_type": "stream",
     "text": [
      "2025-06-16 19:27:55,582 - stpipe.Tso3Pipeline.outlier_detection - INFO - OutlierDetectionStep instance created.\n"
     ]
    },
    {
     "name": "stderr",
     "output_type": "stream",
     "text": [
      "2025-06-16 19:27:55,583 - stpipe.Tso3Pipeline.tso_photometry - INFO - TSOPhotometryStep instance created.\n"
     ]
    },
    {
     "name": "stderr",
     "output_type": "stream",
     "text": [
      "2025-06-16 19:27:55,584 - stpipe.Tso3Pipeline.pixel_replace - INFO - PixelReplaceStep instance created.\n"
     ]
    },
    {
     "name": "stderr",
     "output_type": "stream",
     "text": [
      "2025-06-16 19:27:55,586 - stpipe.Tso3Pipeline.extract_1d - INFO - Extract1dStep instance created.\n"
     ]
    },
    {
     "name": "stderr",
     "output_type": "stream",
     "text": [
      "2025-06-16 19:27:55,587 - stpipe.Tso3Pipeline.photom - INFO - PhotomStep instance created.\n"
     ]
    },
    {
     "name": "stderr",
     "output_type": "stream",
     "text": [
      "2025-06-16 19:27:55,588 - stpipe.Tso3Pipeline.white_light - INFO - WhiteLightStep instance created.\n"
     ]
    },
    {
     "name": "stderr",
     "output_type": "stream",
     "text": [
      "2025-06-16 19:27:55,748 - stpipe.Tso3Pipeline - INFO - Step Tso3Pipeline running with args ('./lrs_tso_demo_data/PID04496Obs004/stage3/stage3_asn.json',).\n"
     ]
    },
    {
     "name": "stderr",
     "output_type": "stream",
     "text": [
      "2025-06-16 19:27:55,758 - stpipe.Tso3Pipeline - INFO - Step Tso3Pipeline parameters are:\n",
      "  pre_hooks: []\n",
      "  post_hooks: []\n",
      "  output_file: None\n",
      "  output_dir: ./lrs_tso_demo_data/PID04496Obs004/stage3\n",
      "  output_ext: .fits\n",
      "  output_use_model: False\n",
      "  output_use_index: True\n",
      "  save_results: True\n",
      "  skip: False\n",
      "  suffix: None\n",
      "  search_output_file: True\n",
      "  input_dir: ''\n",
      "  steps:\n",
      "    outlier_detection:\n",
      "      pre_hooks: []\n",
      "      post_hooks: []\n",
      "      output_file: None\n",
      "      output_dir: None\n",
      "      output_ext: .fits\n",
      "      output_use_model: False\n",
      "      output_use_index: True\n",
      "      save_results: False\n",
      "      skip: False\n",
      "      suffix: None\n",
      "      search_output_file: False\n",
      "      input_dir: ''\n",
      "      weight_type: ivm\n",
      "      pixfrac: 1.0\n",
      "      kernel: square\n",
      "      fillval: NAN\n",
      "      maskpt: 0.7\n",
      "      snr: 5.0 4.0\n",
      "      scale: 1.2 0.7\n",
      "      backg: 0.0\n",
      "      kernel_size: 7 7\n",
      "      threshold_percent: 99.8\n",
      "      rolling_window_width: 25\n",
      "      ifu_second_check: False\n",
      "      save_intermediate_results: False\n",
      "      resample_data: False\n",
      "      good_bits: ~DO_NOT_USE+NON_SCIENCE\n",
      "      in_memory: True\n",
      "    tso_photometry:\n",
      "      pre_hooks: []\n",
      "      post_hooks: []\n",
      "      output_file: None\n",
      "      output_dir: None\n",
      "      output_ext: .fits\n",
      "      output_use_model: False\n",
      "      output_use_index: True\n",
      "      save_results: False\n",
      "      skip: False\n",
      "      suffix: None\n",
      "      search_output_file: True\n",
      "      input_dir: ''\n",
      "      save_catalog: False\n",
      "    pixel_replace:\n",
      "      pre_hooks: []\n",
      "      post_hooks: []\n",
      "      output_file: None\n",
      "      output_dir: None\n",
      "      output_ext: .fits\n",
      "      output_use_model: True\n",
      "      output_use_index: True\n",
      "      save_results: False\n",
      "      skip: True\n",
      "      suffix: None\n",
      "      search_output_file: True\n",
      "      input_dir: ''\n",
      "      algorithm: fit_profile\n",
      "      n_adjacent_cols: 3\n",
      "    extract_1d:\n",
      "      pre_hooks: []\n",
      "      post_hooks: []\n",
      "      output_file: None\n",
      "      output_dir: None\n",
      "      output_ext: .fits\n",
      "      output_use_model: False\n",
      "      output_use_index: True\n",
      "      save_results: False\n",
      "      skip: False\n",
      "      suffix: None\n",
      "      search_output_file: True\n",
      "      input_dir: ''\n",
      "      subtract_background: None\n",
      "      apply_apcorr: True\n",
      "      extraction_type: box\n",
      "      use_source_posn: None\n",
      "      position_offset: 0.0\n",
      "      model_nod_pair: True\n",
      "      optimize_psf_location: True\n",
      "      smoothing_length: None\n",
      "      bkg_fit: None\n",
      "      bkg_order: None\n",
      "      log_increment: 50\n",
      "      save_profile: False\n",
      "      save_scene_model: False\n",
      "      save_residual_image: False\n",
      "      center_xy: None\n",
      "      ifu_autocen: False\n",
      "      bkg_sigma_clip: 3.0\n",
      "      ifu_rfcorr: True\n",
      "      ifu_set_srctype: None\n",
      "      ifu_rscale: None\n",
      "      ifu_covar_scale: 1.0\n",
      "      soss_atoca: True\n",
      "      soss_threshold: 0.01\n",
      "      soss_n_os: 2\n",
      "      soss_wave_grid_in: None\n",
      "      soss_wave_grid_out: None\n",
      "      soss_estimate: None\n",
      "      soss_rtol: 0.0001\n",
      "      soss_max_grid_size: 20000\n",
      "      soss_tikfac: None\n",
      "      soss_width: 40.0\n",
      "      soss_bad_pix: masking\n",
      "      soss_modelname: None\n",
      "    photom:\n",
      "      pre_hooks: []\n",
      "      post_hooks: []\n",
      "      output_file: None\n",
      "      output_dir: None\n",
      "      output_ext: .fits\n",
      "      output_use_model: False\n",
      "      output_use_index: True\n",
      "      save_results: False\n",
      "      skip: False\n",
      "      suffix: None\n",
      "      search_output_file: True\n",
      "      input_dir: ''\n",
      "      inverse: False\n",
      "      source_type: None\n",
      "      mrs_time_correction: True\n",
      "    white_light:\n",
      "      pre_hooks: []\n",
      "      post_hooks: []\n",
      "      output_file: None\n",
      "      output_dir: None\n",
      "      output_ext: .ecsv\n",
      "      output_use_model: False\n",
      "      output_use_index: True\n",
      "      save_results: False\n",
      "      skip: False\n",
      "      suffix: whtlt\n",
      "      search_output_file: True\n",
      "      input_dir: ''\n",
      "      min_wavelength: 5.0\n",
      "      max_wavelength: 12.0\n"
     ]
    },
    {
     "name": "stderr",
     "output_type": "stream",
     "text": [
      "2025-06-16 19:27:55,768 - stpipe.Tso3Pipeline - WARNING - /opt/hostedtoolcache/Python/3.11.13/x64/lib/python3.11/site-packages/jwst/associations/association.py:215: UserWarning: Input association file contains path information; note that this can complicate usage and/or sharing of such files.\n",
      "  warnings.warn(err_str, UserWarning)\n",
      "\n"
     ]
    },
    {
     "name": "stderr",
     "output_type": "stream",
     "text": [
      "2025-06-16 19:27:58,020 - stpipe.Tso3Pipeline - INFO - Prefetching reference files for dataset: 'jw04496004001_03103_00001-seg001_mirimage_calints.fits' reftypes = ['gain', 'readnoise']\n"
     ]
    },
    {
     "name": "stderr",
     "output_type": "stream",
     "text": [
      "2025-06-16 19:27:58,754 - stpipe.Tso3Pipeline - INFO - Prefetch for GAIN reference file is '/home/runner/crds/references/jwst/miri/jwst_miri_gain_0042.fits'.\n"
     ]
    },
    {
     "name": "stderr",
     "output_type": "stream",
     "text": [
      "2025-06-16 19:27:58,754 - stpipe.Tso3Pipeline - INFO - Prefetch for READNOISE reference file is '/home/runner/crds/references/jwst/miri/jwst_miri_readnoise_0085.fits'.\n"
     ]
    },
    {
     "name": "stderr",
     "output_type": "stream",
     "text": [
      "2025-06-16 19:27:58,757 - stpipe.Tso3Pipeline - INFO - Starting calwebb_tso3...\n"
     ]
    },
    {
     "name": "stderr",
     "output_type": "stream",
     "text": [
      "2025-06-16 19:27:58,766 - stpipe.Tso3Pipeline - WARNING - /opt/hostedtoolcache/Python/3.11.13/x64/lib/python3.11/site-packages/jwst/associations/association.py:215: UserWarning: Input association file contains path information; note that this can complicate usage and/or sharing of such files.\n",
      "  warnings.warn(err_str, UserWarning)\n",
      "\n"
     ]
    },
    {
     "name": "stderr",
     "output_type": "stream",
     "text": [
      "2025-06-16 19:28:00,822 - stpipe.Tso3Pipeline - INFO - Performing outlier detection on input images ...\n"
     ]
    },
    {
     "name": "stderr",
     "output_type": "stream",
     "text": [
      "2025-06-16 19:28:00,985 - stpipe.Tso3Pipeline.outlier_detection - INFO - Step outlier_detection running with args (<CubeModel(288, 416, 72) from jw04496004001_03103_00001-seg001_mirimage_calints.fits>,).\n"
     ]
    },
    {
     "name": "stderr",
     "output_type": "stream",
     "text": [
      "2025-06-16 19:28:00,986 - stpipe.Tso3Pipeline.outlier_detection - INFO - Outlier Detection mode: tso\n"
     ]
    },
    {
     "name": "stderr",
     "output_type": "stream",
     "text": [
      "2025-06-16 19:28:00,987 - stpipe.Tso3Pipeline.outlier_detection - INFO - Outlier Detection asn_id: a3001\n"
     ]
    },
    {
     "name": "stderr",
     "output_type": "stream",
     "text": [
      "2025-06-16 19:28:06,070 - stpipe.Tso3Pipeline.outlier_detection - INFO - Flagging outliers\n"
     ]
    },
    {
     "name": "stderr",
     "output_type": "stream",
     "text": [
      "2025-06-16 19:28:06,218 - stpipe.Tso3Pipeline.outlier_detection - INFO - 14093 pixels marked as outliers\n"
     ]
    },
    {
     "name": "stderr",
     "output_type": "stream",
     "text": [
      "2025-06-16 19:28:06,225 - stpipe.Tso3Pipeline.outlier_detection - INFO - Step outlier_detection done\n"
     ]
    },
    {
     "name": "stderr",
     "output_type": "stream",
     "text": [
      "2025-06-16 19:28:06,226 - stpipe.Tso3Pipeline - INFO - Saving crfints products with updated DQ arrays ...\n"
     ]
    },
    {
     "name": "stderr",
     "output_type": "stream",
     "text": [
      "2025-06-16 19:28:09,883 - stpipe.Tso3Pipeline - INFO - Saved model in ./lrs_tso_demo_data/PID04496Obs004/stage3/jw04496004001_03103_00001-seg001_mirimage_a3001_crfints.fits\n"
     ]
    },
    {
     "name": "stderr",
     "output_type": "stream",
     "text": [
      "2025-06-16 19:28:10,092 - stpipe.Tso3Pipeline.pixel_replace - INFO - Step pixel_replace running with args (<CubeModel(288, 416, 72) from jw04496004001_03103_00001-seg001_mirimage_calints.fits>,).\n"
     ]
    },
    {
     "name": "stderr",
     "output_type": "stream",
     "text": [
      "2025-06-16 19:28:10,093 - stpipe.Tso3Pipeline.pixel_replace - INFO - Step skipped.\n"
     ]
    },
    {
     "name": "stderr",
     "output_type": "stream",
     "text": [
      "2025-06-16 19:28:10,097 - stpipe.Tso3Pipeline - INFO - Extracting 1-D spectra ...\n"
     ]
    },
    {
     "name": "stderr",
     "output_type": "stream",
     "text": [
      "2025-06-16 19:28:10,288 - stpipe.Tso3Pipeline.extract_1d - INFO - Step extract_1d running with args (<CubeModel(288, 416, 72) from jw04496004001_03103_00001-seg001_mirimage_calints.fits>,).\n"
     ]
    },
    {
     "name": "stderr",
     "output_type": "stream",
     "text": [
      "2025-06-16 19:28:11,063 - stpipe.Tso3Pipeline.extract_1d - INFO - Using EXTRACT1D reference file /home/runner/crds/references/jwst/miri/jwst_miri_extract1d_0006.json\n"
     ]
    },
    {
     "name": "stderr",
     "output_type": "stream",
     "text": [
      "2025-06-16 19:28:11,813 - stpipe.Tso3Pipeline.extract_1d - INFO - Using APCORR file /home/runner/crds/references/jwst/miri/jwst_miri_apcorr_0013.fits\n"
     ]
    },
    {
     "name": "stderr",
     "output_type": "stream",
     "text": [
      "2025-06-16 19:28:12,602 - stpipe.Tso3Pipeline.extract_1d - WARNING - spectral_order is None; using 1\n"
     ]
    },
    {
     "name": "stderr",
     "output_type": "stream",
     "text": [
      "2025-06-16 19:28:12,603 - stpipe.Tso3Pipeline.extract_1d - INFO - Processing spectral order 1\n"
     ]
    },
    {
     "name": "stderr",
     "output_type": "stream",
     "text": [
      "2025-06-16 19:28:12,668 - stpipe.Tso3Pipeline.extract_1d - INFO - Aperture start/stop: 30.00 -> 41.00 (inclusive)\n"
     ]
    },
    {
     "name": "stderr",
     "output_type": "stream",
     "text": [
      "2025-06-16 19:28:12,676 - stpipe.Tso3Pipeline.extract_1d - INFO - Creating aperture correction.\n"
     ]
    },
    {
     "name": "stderr",
     "output_type": "stream",
     "text": [
      "2025-06-16 19:28:12,681 - stpipe.Tso3Pipeline.extract_1d - INFO - Beginning loop over 288 integrations ...\n"
     ]
    },
    {
     "name": "stderr",
     "output_type": "stream",
     "text": [
      "2025-06-16 19:28:25,752 - stpipe.Tso3Pipeline.extract_1d - INFO - ... 50 integrations done\n"
     ]
    },
    {
     "name": "stderr",
     "output_type": "stream",
     "text": [
      "2025-06-16 19:28:39,015 - stpipe.Tso3Pipeline.extract_1d - INFO - ... 100 integrations done\n"
     ]
    },
    {
     "name": "stderr",
     "output_type": "stream",
     "text": [
      "2025-06-16 19:28:52,387 - stpipe.Tso3Pipeline.extract_1d - INFO - ... 150 integrations done\n"
     ]
    },
    {
     "name": "stderr",
     "output_type": "stream",
     "text": [
      "2025-06-16 19:29:05,469 - stpipe.Tso3Pipeline.extract_1d - INFO - ... 200 integrations done\n"
     ]
    },
    {
     "name": "stderr",
     "output_type": "stream",
     "text": [
      "2025-06-16 19:29:18,874 - stpipe.Tso3Pipeline.extract_1d - INFO - ... 250 integrations done\n"
     ]
    },
    {
     "name": "stderr",
     "output_type": "stream",
     "text": [
      "2025-06-16 19:29:29,067 - stpipe.Tso3Pipeline.extract_1d - INFO - All 288 integrations done\n"
     ]
    },
    {
     "name": "stderr",
     "output_type": "stream",
     "text": [
      "2025-06-16 19:29:29,526 - stpipe.Tso3Pipeline.extract_1d - INFO - Step extract_1d done\n"
     ]
    },
    {
     "name": "stderr",
     "output_type": "stream",
     "text": [
      "2025-06-16 19:29:31,545 - stpipe.Tso3Pipeline - INFO - Performing white-light photometry ...\n"
     ]
    },
    {
     "name": "stderr",
     "output_type": "stream",
     "text": [
      "2025-06-16 19:29:31,793 - stpipe.Tso3Pipeline.white_light - INFO - Step white_light running with args (<MultiSpecModel from jw04496004001_03103_00001-seg001_mirimage_calints.fits>,).\n"
     ]
    },
    {
     "name": "stderr",
     "output_type": "stream",
     "text": [
      "2025-06-16 19:29:31,836 - stpipe.Tso3Pipeline.white_light - INFO - Step white_light done\n"
     ]
    },
    {
     "name": "stderr",
     "output_type": "stream",
     "text": [
      "2025-06-16 19:29:44,446 - stpipe.Tso3Pipeline - INFO - Saved model in ./lrs_tso_demo_data/PID04496Obs004/stage3/Stage3_x1dints.fits\n"
     ]
    },
    {
     "name": "stderr",
     "output_type": "stream",
     "text": [
      "2025-06-16 19:29:44,448 - stpipe.Tso3Pipeline - INFO - Writing Level 3 photometry catalog ./lrs_tso_demo_data/PID04496Obs004/stage3/Stage3_whtlt.ecsv\n"
     ]
    },
    {
     "name": "stderr",
     "output_type": "stream",
     "text": [
      "2025-06-16 19:29:44,474 - stpipe.Tso3Pipeline - INFO - Step Tso3Pipeline done\n"
     ]
    },
    {
     "name": "stderr",
     "output_type": "stream",
     "text": [
      "2025-06-16 19:29:44,475 - stpipe - INFO - Results used jwst version: 1.18.1\n"
     ]
    }
   ],
   "source": [
    "if do_tso3:\n",
    "    Tso3Pipeline.call(asnfile, steps=tso3dict, save_results=True, output_dir=tso3_dir)\n",
    "else:\n",
    "    print('Skipping Spec3 processing...')"
   ]
  },
  {
   "cell_type": "code",
   "execution_count": 31,
   "id": "0a537d31",
   "metadata": {
    "execution": {
     "iopub.execute_input": "2025-06-16T19:29:44.479728Z",
     "iopub.status.busy": "2025-06-16T19:29:44.479541Z",
     "iopub.status.idle": "2025-06-16T19:29:44.483036Z",
     "shell.execute_reply": "2025-06-16T19:29:44.482561Z"
    }
   },
   "outputs": [
    {
     "name": "stdout",
     "output_type": "stream",
     "text": [
      "Runtime so far: 567.1229 seconds\n",
      "Runtime for Tso3: 165.74067893799997 seconds\n"
     ]
    }
   ],
   "source": [
    "# Print out the time benchmark\n",
    "time1 = time.perf_counter()\n",
    "print(f\"Runtime so far: {time1 - time0:0.4f} seconds\")\n",
    "print(f\"Runtime for Tso3: {time1 - time_tso3} seconds\")"
   ]
  },
  {
   "cell_type": "markdown",
   "id": "8e9e53a7",
   "metadata": {},
   "source": [
    "<hr style=\"border:1px solid gray\"> </hr>"
   ]
  },
  {
   "cell_type": "markdown",
   "id": "3118529a",
   "metadata": {},
   "source": [
    "8.<font color='white'>-</font>Plot white-light curve<a class=\"anchor\" id=\"plots-wlc\"></a>\n",
    "------------------\n",
    "Plot the extracted white-light photometric light curve. The fluxes are in units of Jy.<br>\n",
    "\n",
    "As of September 2024, the absolute flux calibration has been reported to be accurate to within a few percent between 5 and 12 microns. Future improvements are planned to expand the wavelength range for which reliable fluxes can be extracted."
   ]
  },
  {
   "cell_type": "code",
   "execution_count": 32,
   "id": "94145d2e",
   "metadata": {
    "execution": {
     "iopub.execute_input": "2025-06-16T19:29:44.484765Z",
     "iopub.status.busy": "2025-06-16T19:29:44.484582Z",
     "iopub.status.idle": "2025-06-16T19:29:44.691058Z",
     "shell.execute_reply": "2025-06-16T19:29:44.690544Z"
    }
   },
   "outputs": [
    {
     "data": {
      "image/png": "[encoded data removed]",
      "text/plain": [
       "<Figure size 1500x450 with 1 Axes>"
      ]
     },
     "metadata": {},
     "output_type": "display_data"
    }
   ],
   "source": [
    "if do_viz:\n",
    "    # Get Stage 3 white-light photometric light curve\n",
    "    whtlt_file = os.path.join(tso3_dir, 'Stage3_whtlt.ecsv')\n",
    "    data = ascii.read(whtlt_file, comment='#', delimiter=' ')\n",
    "    mjd = data['MJD']\n",
    "    wlc = data['whitelight_flux']\n",
    "\n",
    "    # Make normal plots\n",
    "    %matplotlib inline\n",
    "    # Interactive plots\n",
    "    #%matplotlib notebook\n",
    "\n",
    "    # Plot light curve\n",
    "    rc('axes', linewidth=2)\n",
    "    fig, ax = plt.subplots(1, 1, figsize=(10, 3), dpi=150)\n",
    "    ax.plot(mjd, wlc, 'b-', lw=2)\n",
    "    plt.xlabel('MJD_UTC (d)')\n",
    "    plt.ylabel('Flux (Jy)')\n",
    "    plt.grid()\n",
    "    plt.tight_layout()\n",
    "    plt.savefig(os.path.join(tso3_dir, 'lrs_slitless_example_wlc.png'))"
   ]
  },
  {
   "cell_type": "markdown",
   "id": "606de7f1",
   "metadata": {},
   "source": [
    "<hr style=\"border:1px solid gray\"> </hr>"
   ]
  },
  {
   "cell_type": "markdown",
   "id": "1cedf9d7",
   "metadata": {},
   "source": [
    "9.<font color='white'>-</font>Plot spectroscopic light curves<a class=\"anchor\" id=\"plots-spec\"></a>\n",
    "------------------\n",
    "Plot a subset of the spectroscopic light curves contained in the `*x1dints.fits` file. The fluxes are in units of Jy.<br>\n",
    "\n"
   ]
  },
  {
   "cell_type": "code",
   "execution_count": 33,
   "id": "8469e6e5",
   "metadata": {
    "execution": {
     "iopub.execute_input": "2025-06-16T19:29:44.692798Z",
     "iopub.status.busy": "2025-06-16T19:29:44.692612Z",
     "iopub.status.idle": "2025-06-16T19:29:46.388183Z",
     "shell.execute_reply": "2025-06-16T19:29:46.387638Z"
    }
   },
   "outputs": [
    {
     "data": {
      "image/png": "[encoded data removed]",
      "text/plain": [
       "<Figure size 1500x750 with 1 Axes>"
      ]
     },
     "metadata": {},
     "output_type": "display_data"
    }
   ],
   "source": [
    "if do_viz:\n",
    "    # Get x1dints files\n",
    "    x1d_file = os.path.join(tso3_dir, 'Stage3_x1dints.fits')\n",
    "\n",
    "    # Choose arbitrary wavelength elements to extract\n",
    "    wave_idxs = [100, 200, 350]\n",
    "    colors = ['r', 'g', 'b']\n",
    "\n",
    "    # Read in file\n",
    "    hdul = fits.open(x1d_file)\n",
    "    int_times = hdul[1].data['int_mid_MJD_UTC']\n",
    "    spec_tables = hdul[2:-1]\n",
    "    wave = spec_tables[0].data['WAVELENGTH']\n",
    "\n",
    "    # Plot light curves\n",
    "    rc('axes', linewidth=2)\n",
    "    fig, ax = plt.subplots(1, 1, figsize=(10, 5), dpi=150)\n",
    "    for ii in range(len(wave_idxs)):\n",
    "        lc = np.array([spec_tables[k].data['FLUX'][wave_idxs[ii]] for k in range(len(int_times))])\n",
    "        ax.plot(int_times, lc, colors[ii] + '-', lw=2, label=\"{:.3f} um\".format(wave[wave_idxs[ii]]))\n",
    "    plt.xlabel('MJD_UTC (d)')\n",
    "    plt.ylabel('Flux (Jy)')\n",
    "    plt.grid()\n",
    "    plt.legend(loc='best')\n",
    "    plt.tight_layout()\n",
    "    plt.savefig(os.path.join(tso3_dir, 'lrs_slitless_example_speclcs.png'))\n",
    "    hdul.close()"
   ]
  },
  {
   "cell_type": "markdown",
   "id": "2061cf46",
   "metadata": {},
   "source": [
    "<hr style=\"border:1px solid gray\"> </hr>"
   ]
  },
  {
   "cell_type": "markdown",
   "id": "3c3c6862",
   "metadata": {},
   "source": [
    "<img style=\"float: center;\" src=\"https://github.com/spacetelescope/jwst-pipeline-notebooks/raw/main/_static/stsci_footer.png\" alt=\"stsci_logo\" width=\"200px\"/> "
   ]
  }
 ],
 "metadata": {
  "kernelspec": {
   "display_name": "Python 3 (ipykernel)",
   "language": "python",
   "name": "python3"
  },
  "language_info": {
   "codemirror_mode": {
    "name": "ipython",
    "version": 3
   },
   "file_extension": ".py",
   "mimetype": "text/x-python",
   "name": "python",
   "nbconvert_exporter": "python",
   "pygments_lexer": "ipython3",
   "version": "3.11.13"
  }
 },
 "nbformat": 4,
 "nbformat_minor": 5
}
