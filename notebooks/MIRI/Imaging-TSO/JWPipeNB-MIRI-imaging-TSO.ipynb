{
 "cells": [
  {
   "cell_type": "markdown",
   "id": "14a06fe9",
   "metadata": {},
   "source": [
    "<img style=\"float: center;\" src='https://github.com/spacetelescope/jwst-pipeline-notebooks/raw/main/_static/stsci_header.png' alt=\"stsci_logo\" width=\"900px\"/> "
   ]
  },
  {
   "cell_type": "markdown",
   "id": "4f640b16",
   "metadata": {},
   "source": [
    "# MIRI Imaging TSO Pipeline Notebook\n",
    "\n",
    "**Authors**: Ian Wong; MIRI branch<br>\n",
    "**Last Updated**: May 5, 2025<br>\n",
    "**Pipeline Version**: 1.18.0 (Build 11.3)"
   ]
  },
  {
   "cell_type": "markdown",
   "id": "e58e3bfd",
   "metadata": {},
   "source": [
    "**Purpose**:<br>\n",
    "This notebook provides a framework for processing generic Mid-Infrared Instrument \n",
    "(MIRI) Imaging time series observations (TSO) data through all\n",
    "three James Webb Space Telescope (JWST) pipeline stages.  The data are assumed\n",
    "to be located in the observation directory located in the path set up below.\n",
    "It should not be necessary to edit any cells other than in the\n",
    "[Configuration](#1.-Configuration) section unless modifying the standard\n",
    "pipeline processing options.\n",
    "\n",
    "A significant portion of the data processing workflow for Imaging TSOs is identical to the methods used to process (non-TSO) Imaging observations, and much of this notebook mirrors the corresponding steps shown in the general MIRI Imaging notebook.\n",
    "\n",
    "**Data**:<br>\n",
    "This example is set up to use observations of a secondary eclipse event of LHS-1478b, which were obtained as part of Cycle 1 General Observers Proposal ID (PID) 3730 Observation 13 (PI: H. Diamond-Lowe). A continuous series of 964 integrations of the target was collected with the F1500W filter. No dithering was carried out, as is standard practice for Imaging TSOs. The SUB256 subarray readout was used. The example uncalibrated data will be downloaded automatically unless disabled (i.e., to run with user-supplied local files instead).<br>\n",
    "\n",
    "Most Imaging TSO programs do not have dedicated background observations, with background flux subtraction handled using pixels near the target in the science observations. This version of the notebook does not accommodate cases where dedicated background subtraction is needed. Consult the general MIRI Imaging notebook for a detailed implementation of dedicated background exposures.\n",
    "\n",
    "**JWST pipeline version and CRDS context**:<br>\n",
    "This notebook was written for the above-specified pipeline version and associated build context for this version of the JWST Calibration Pipeline. Information about this and other contexts can be found in the JWST Calibration Reference Data System (CRDS [server](https://jwst-crds.stsci.edu/)). If you use different pipeline versions, please refer to the table [here](https://jwst-crds.stsci.edu/display_build_contexts/) to determine what context to use. To learn more about the differences for the pipeline, read the relevant [documentation](https://jwst-docs.stsci.edu/jwst-science-calibration-pipeline/jwst-operations-pipeline-build-information#references).\n",
    "\n",
    "Please note that pipeline software development is a continuous process, so results in some cases may be slightly different if a subsequent version is used. **For optimal results, users are strongly encouraged to reprocess their data using the most recent pipeline version and [associated CRDS context](https://jwst-crds.stsci.edu/display_build_contexts/), taking advantage of bug fixes and algorithm improvements.** Any [known issues](https://jwst-docs.stsci.edu/known-issues-with-jwst-data/nirspec-known-issues/nirspec-ifu-known-issues#gsc.tab=0) for this build are noted in the notebook.<br>\n",
    "\n",
    "**Updates**:<br>\n",
    "This notebook is regularly updated as improvements are made to the\n",
    "pipeline. Find the most up to date version of this notebook at:\n",
    "https://github.com/spacetelescope/jwst-pipeline-notebooks/\n",
    "\n",
    "**Recent Changes**:<br>\n",
    "Feb 2 2025: Notebook created.<br>\n",
    "May 5, 2025: Updated to jwst 1.18.0 (no significant changes)"
   ]
  },
  {
   "cell_type": "markdown",
   "id": "7945a04a",
   "metadata": {},
   "source": [
    "<hr style=\"border:1px solid gray\"> </hr>"
   ]
  },
  {
   "cell_type": "markdown",
   "id": "eec67c45",
   "metadata": {},
   "source": [
    "## Table of Contents\n",
    "1. [Configuration](#1.-Configuration)\n",
    "2. [Package Imports](#2.-Package-Imports)\n",
    "3. [Demo Mode Setup (ignore if not using demo data)](#3.-Demo-Mode-Setup-(ignore-if-not-using-demo-data))\n",
    "4. [Directory Setup](#4.-Directory-Setup)\n",
    "3. [Detector1 Pipeline](#5.-Detector1-Pipeline)\n",
    "4. [Image2 Pipeline](#6.-Image2-Pipeline)\n",
    "5. [Tso3 Pipeline](#7.-Tso3-Pipeline)\n",
    "6. [Visualize the photometric light curve](#8.-Visualize-the-photometric-light-curve)"
   ]
  },
  {
   "cell_type": "markdown",
   "id": "d5c6b230",
   "metadata": {},
   "source": [
    "<hr style=\"border:1px solid gray\"> </hr>"
   ]
  },
  {
   "cell_type": "markdown",
   "id": "b7f1533b",
   "metadata": {},
   "source": [
    "## 1. Configuration\n",
    "\n",
    "### Install dependencies\n",
    "To make sure that the pipeline version is compatabile with this notebook and the required dependencies and packages are installed,\n",
    "it is recommended that users create a new dedicated conda environment and install the provided\n",
    "`requirements.txt` file before starting this notebook: <br>\n",
    "```\n",
    "conda create -n lrs_demo python=3.11\n",
    "conda activate lrs_demo\n",
    "pip install -r requirements.txt\n",
    "```\n",
    "\n",
    "### Set run parameters\n",
    "Set basic parameters to use with the notebook. These will affect\n",
    "what observation is used, where the uncalibrated data are located (if already on disk), which\n",
    "pipeline modules to run on the data, and whether background subtraction is carried out. The list of parameters are:\n",
    "\n",
    "* demo_mode\n",
    "* directory with data\n",
    "* pipeline steps"
   ]
  },
  {
   "cell_type": "code",
   "execution_count": 1,
   "id": "70330265",
   "metadata": {
    "execution": {
     "iopub.execute_input": "2025-05-13T13:48:09.116597Z",
     "iopub.status.busy": "2025-05-13T13:48:09.116406Z",
     "iopub.status.idle": "2025-05-13T13:48:09.119041Z",
     "shell.execute_reply": "2025-05-13T13:48:09.118697Z"
    }
   },
   "outputs": [],
   "source": [
    "# Basic import necessary for configuration\n",
    "import os"
   ]
  },
  {
   "cell_type": "markdown",
   "id": "f7f95ad9",
   "metadata": {},
   "source": [
    "<div class=\"alert alert-block alert-warning\">\n",
    "Note that <code>demo_mode</code> must be set appropriately below.\n",
    "</div>\n",
    "\n",
    "Set <code>demo_mode = True </code> to run in demonstration mode. In this mode, this\n",
    "notebook will download the example data from the\n",
    "Barbara A. Mikulski Archive for Space Telescopes ([MAST](https://mast.stsci.edu/portal/Mashup/Clients/Mast/Portal.html)) and process them through the pipeline.\n",
    "All input and output data will be stored in the local directory unless modified\n",
    "in [Section 3](#3.-Demo-Mode-Setup-(ignore-if-not-using-demo-data)) below. \n",
    "\n",
    "Set <code>demo_mode = False</code> to process user-specified data that have already\n",
    "been downloaded and provide the location of the data.<br>"
   ]
  },
  {
   "cell_type": "code",
   "execution_count": 2,
   "id": "0e3af08e",
   "metadata": {
    "execution": {
     "iopub.execute_input": "2025-05-13T13:48:09.120632Z",
     "iopub.status.busy": "2025-05-13T13:48:09.120348Z",
     "iopub.status.idle": "2025-05-13T13:48:09.123894Z",
     "shell.execute_reply": "2025-05-13T13:48:09.123553Z"
    }
   },
   "outputs": [
    {
     "name": "stdout",
     "output_type": "stream",
     "text": [
      "Running in demonstration mode using online example data!\n"
     ]
    }
   ],
   "source": [
    "# Set parameters for demo_mode and processing steps.\n",
    "\n",
    "# -----------------------------Demo Mode---------------------------------\n",
    "demo_mode = True\n",
    "\n",
    "if demo_mode:\n",
    "    print('Running in demonstration mode using online example data!')\n",
    "\n",
    "# --------------------------User Mode Directories------------------------\n",
    "# If demo_mode = False, look for user data in these paths\n",
    "if not demo_mode:\n",
    "    # Set directory paths for processing specific data; these will need\n",
    "    # to be changed to your local directory setup (below are given as\n",
    "    # examples)\n",
    "    basedir = os.path.join(os.getcwd(), '')\n",
    "\n",
    "    # Point to where science observation data are stored.\n",
    "    # Assumes uncalibrated data in sci_dir/uncal/, with the results stored in stage1,\n",
    "    # stage2, stage3 directories\n",
    "    sci_dir = os.path.join(basedir, 'imaging_demo_data/PID03730Obs013/')\n",
    "\n",
    "# --------------------------Set Processing Steps--------------------------\n",
    "# Individual pipeline stages can be turned on/off here.  Note that a later\n",
    "# stage won't be able to run unless data products have already been\n",
    "# produced from the prior stage.\n",
    "\n",
    "# Science processing\n",
    "do_det1 = True  # calwebb_detector1\n",
    "do_image2 = True  # calwebb_image2\n",
    "do_tso3 = True  # calwebb_tso3\n",
    "do_viz = True  # Visualize calwebb_tso3 results"
   ]
  },
  {
   "cell_type": "markdown",
   "id": "7bc7e952",
   "metadata": {},
   "source": [
    "### Set CRDS context and server\n",
    "Before importing <code>CRDS</code> and <code>JWST</code> modules, we need\n",
    "to configure our environment. This includes defining a CRDS cache\n",
    "directory in which to keep the reference files that will be used by the\n",
    "calibration pipeline.<br>\n",
    "\n",
    "If the root directory for the local CRDS cache directory has not been set\n",
    "already, it will be set to create one in the home directory."
   ]
  },
  {
   "cell_type": "code",
   "execution_count": 3,
   "id": "ae976dc4",
   "metadata": {
    "execution": {
     "iopub.execute_input": "2025-05-13T13:48:09.125163Z",
     "iopub.status.busy": "2025-05-13T13:48:09.125028Z",
     "iopub.status.idle": "2025-05-13T13:48:09.128291Z",
     "shell.execute_reply": "2025-05-13T13:48:09.127959Z"
    }
   },
   "outputs": [
    {
     "name": "stdout",
     "output_type": "stream",
     "text": [
      "CRDS local filepath: /home/runner/crds\n",
      "CRDS file server: https://jwst-crds.stsci.edu\n"
     ]
    }
   ],
   "source": [
    "# ------------------------Set CRDS context and paths----------------------\n",
    "# Each version of the calibration pipeline is associated with a specific CRDS\n",
    "# context file. The pipeline will select the appropriate context file behind\n",
    "# the scenes while running. However, if you wish to override the default context\n",
    "# file and run the pipeline with a different context, you can set that using\n",
    "# the CRDS_CONTEXT environment variable. Here we show how this is done,\n",
    "# although we leave the line commented out in order to use the default context.\n",
    "# If you wish to specify a different context, uncomment the line below.\n",
    "#%env CRDS_CONTEXT jwst_1293.pmap\n",
    "\n",
    "# Check whether the local CRDS cache directory has been set.\n",
    "# If not, set it to the user home directory\n",
    "if (os.getenv('CRDS_PATH') is None):\n",
    "    os.environ['CRDS_PATH'] = os.path.join(os.path.expanduser('~'), 'crds')\n",
    "\n",
    "# Check whether the CRDS server URL has been set.  If not, set it.\n",
    "if (os.getenv('CRDS_SERVER_URL') is None):\n",
    "    os.environ['CRDS_SERVER_URL'] = 'https://jwst-crds.stsci.edu'\n",
    "\n",
    "# Echo CRDS path in use\n",
    "print(f\"CRDS local filepath: {os.environ['CRDS_PATH']}\")\n",
    "print(f\"CRDS file server: {os.environ['CRDS_SERVER_URL']}\")"
   ]
  },
  {
   "cell_type": "markdown",
   "id": "e4db2e8f",
   "metadata": {},
   "source": [
    "<hr style=\"border:1px solid gray\"> </hr>"
   ]
  },
  {
   "cell_type": "markdown",
   "id": "a7ae9894",
   "metadata": {},
   "source": [
    "## 2. Package Imports\n",
    "\n",
    "Automatically import necessary Python packages for use in the data processing and visualization."
   ]
  },
  {
   "cell_type": "code",
   "execution_count": 4,
   "id": "19883028",
   "metadata": {
    "execution": {
     "iopub.execute_input": "2025-05-13T13:48:09.129767Z",
     "iopub.status.busy": "2025-05-13T13:48:09.129507Z",
     "iopub.status.idle": "2025-05-13T13:48:09.133926Z",
     "shell.execute_reply": "2025-05-13T13:48:09.133591Z"
    }
   },
   "outputs": [
    {
     "data": {
      "text/html": [
       "<style>.container { width:95% !important; }</style>"
      ],
      "text/plain": [
       "<IPython.core.display.HTML object>"
      ]
     },
     "metadata": {},
     "output_type": "display_data"
    }
   ],
   "source": [
    "# Use the entire available screen width for this notebook\n",
    "from IPython.display import display, HTML\n",
    "display(HTML(\"<style>.container { width:95% !important; }</style>\"))"
   ]
  },
  {
   "cell_type": "code",
   "execution_count": 5,
   "id": "f5ad1edd",
   "metadata": {
    "execution": {
     "iopub.execute_input": "2025-05-13T13:48:09.135143Z",
     "iopub.status.busy": "2025-05-13T13:48:09.135002Z",
     "iopub.status.idle": "2025-05-13T13:48:11.592734Z",
     "shell.execute_reply": "2025-05-13T13:48:11.592257Z"
    }
   },
   "outputs": [
    {
     "name": "stdout",
     "output_type": "stream",
     "text": [
      "JWST Calibration Pipeline Version: 1.18.0\n"
     ]
    },
    {
     "name": "stderr",
     "output_type": "stream",
     "text": [
      "CRDS - INFO -  Calibration SW Found: jwst 1.18.0 (/usr/share/miniconda/lib/python3.13/site-packages/jwst-1.18.0.dist-info)\n"
     ]
    },
    {
     "name": "stdout",
     "output_type": "stream",
     "text": [
      "Using CRDS Context: jwst_1364.pmap\n"
     ]
    }
   ],
   "source": [
    "# Basic system utilities for interacting with files\n",
    "# ----------------------General Imports------------------------------------\n",
    "import glob\n",
    "import time\n",
    "from pathlib import Path\n",
    "\n",
    "# Numpy for doing calculations\n",
    "import numpy as np\n",
    "\n",
    "# -----------------------Astropy Imports-----------------------------------\n",
    "# Astropy utilities for opening FITS and ASCII files and downloading demo files\n",
    "from astropy.io import ascii\n",
    "\n",
    "# -----------------------Astrquery Imports-----------------------------------\n",
    "# Utilities to download data \n",
    "from astroquery.mast import Observations\n",
    "\n",
    "# -----------------------Plotting Imports----------------------------------\n",
    "# Matplotlib for making plots\n",
    "import matplotlib.pyplot as plt\n",
    "from matplotlib import rc\n",
    "\n",
    "# ----------------------JWST calibration pipeline--------------------------\n",
    "import jwst\n",
    "import crds\n",
    "\n",
    "from jwst.pipeline import Detector1Pipeline\n",
    "from jwst.pipeline import Image2Pipeline\n",
    "from jwst.pipeline import Tso3Pipeline\n",
    "\n",
    "# JWST pipeline utilities\n",
    "from jwst import datamodels\n",
    "#from jwst.datamodels import ImageModel\n",
    "from jwst.associations import asn_from_list as afl  # Tools for creating association files\n",
    "#from jwst.associations.lib.rules_level2_base import DMSLevel2bBase  # Definition of a Lvl2 association file\n",
    "from jwst.associations.lib.rules_level3_base import DMS_Level3_Base  # Definition of a Lvl3 association file\n",
    "\n",
    "# Echo pipeline version and CRDS context in use\n",
    "print(f\"JWST Calibration Pipeline Version: {jwst.__version__}\")\n",
    "print(f\"Using CRDS Context: {crds.get_context_name('jwst')}\")"
   ]
  },
  {
   "cell_type": "code",
   "execution_count": 6,
   "id": "36fbd441",
   "metadata": {
    "execution": {
     "iopub.execute_input": "2025-05-13T13:48:11.594544Z",
     "iopub.status.busy": "2025-05-13T13:48:11.594192Z",
     "iopub.status.idle": "2025-05-13T13:48:11.596731Z",
     "shell.execute_reply": "2025-05-13T13:48:11.596367Z"
    }
   },
   "outputs": [],
   "source": [
    "# Start a timer to keep track of runtime\n",
    "time0 = time.perf_counter()"
   ]
  },
  {
   "cell_type": "markdown",
   "id": "587f3a6e",
   "metadata": {},
   "source": [
    "<hr style=\"border:1px solid gray\"> </hr>"
   ]
  },
  {
   "cell_type": "markdown",
   "id": "e935cafe",
   "metadata": {},
   "source": [
    "## 3. Demo Mode Setup (ignore if not using demo data)\n",
    "\n",
    "If running in demonstration mode, set up the program information to\n",
    "retrieve the uncalibrated data automatically from MAST using\n",
    "[astroquery](https://astroquery.readthedocs.io/en/latest/mast/mast.html).\n",
    "MAST allows for flexibility of searching by the proposal ID and the\n",
    "observation ID instead of just filenames.<br>\n",
    "\n",
    "More information about the JWST file naming conventions can be found at:\n",
    "https://jwst-pipeline.readthedocs.io/en/latest/jwst/data_products/file_naming.html"
   ]
  },
  {
   "cell_type": "code",
   "execution_count": 7,
   "id": "2e966e2e",
   "metadata": {
    "execution": {
     "iopub.execute_input": "2025-05-13T13:48:11.598310Z",
     "iopub.status.busy": "2025-05-13T13:48:11.598046Z",
     "iopub.status.idle": "2025-05-13T13:48:11.600721Z",
     "shell.execute_reply": "2025-05-13T13:48:11.600366Z"
    }
   },
   "outputs": [],
   "source": [
    "# Set up the program information and paths for demo program\n",
    "if demo_mode:\n",
    "    program = '03730'\n",
    "    sci_obs = \"013\"\n",
    "    basedir = os.path.join('.', 'imaging_demo_data')\n",
    "    sci_dir = os.path.join(basedir, 'PID' + program + 'Obs' + sci_obs)\n",
    "    uncal_dir = os.path.join(sci_dir, 'uncal')\n",
    "\n",
    "    # Ensure filepaths for input data exists\n",
    "    os.makedirs(uncal_dir, exist_ok=True)"
   ]
  },
  {
   "cell_type": "markdown",
   "id": "017e57b3",
   "metadata": {},
   "source": [
    "Identify list of uncalibrated files associated with the observations."
   ]
  },
  {
   "cell_type": "code",
   "execution_count": 8,
   "id": "b9427aac",
   "metadata": {
    "execution": {
     "iopub.execute_input": "2025-05-13T13:48:11.602194Z",
     "iopub.status.busy": "2025-05-13T13:48:11.601921Z",
     "iopub.status.idle": "2025-05-13T13:48:12.064830Z",
     "shell.execute_reply": "2025-05-13T13:48:12.064317Z"
    }
   },
   "outputs": [],
   "source": [
    "# Obtain a list of observation IDs for the specified demo program\n",
    "if demo_mode:\n",
    "    obs_id_table = Observations.query_criteria(instrument_name=[\"MIRI/IMAGE\"], provenance_name=[\"CALJWST\"], obs_id=['jw' + program + sci_obs + '*'])"
   ]
  },
  {
   "cell_type": "code",
   "execution_count": 9,
   "id": "95e75b7a",
   "metadata": {
    "execution": {
     "iopub.execute_input": "2025-05-13T13:48:12.066745Z",
     "iopub.status.busy": "2025-05-13T13:48:12.066575Z",
     "iopub.status.idle": "2025-05-13T13:48:57.153144Z",
     "shell.execute_reply": "2025-05-13T13:48:57.152671Z"
    }
   },
   "outputs": [
    {
     "name": "stdout",
     "output_type": "stream",
     "text": [
      "Number of files selected for downloading:  5\n"
     ]
    }
   ],
   "source": [
    "# Turn the list of observations into a list of uncalibrated data files\n",
    "if demo_mode:\n",
    "    # Define types of files to select\n",
    "    file_dict = {'uncal': {'product_type': 'SCIENCE',\n",
    "                           'productSubGroupDescription': 'UNCAL',\n",
    "                           'calib_level': [1]}}\n",
    "\n",
    "    # Science files\n",
    "    files_to_download = []\n",
    "    # Loop over visits identifying uncalibrated files that are associated with them\n",
    "    for exposure in (obs_id_table):\n",
    "        products = Observations.get_product_list(exposure)\n",
    "        for filetype, query_dict in file_dict.items():\n",
    "            filtered_products = Observations.filter_products(products, productType=query_dict['product_type'],\n",
    "                                                             productSubGroupDescription=query_dict['productSubGroupDescription'],\n",
    "                                                             calib_level=query_dict['calib_level'])\n",
    "            files_to_download.extend(filtered_products['dataURI'])\n",
    "\n",
    "    print(\"Number of files selected for downloading: \", len(files_to_download))"
   ]
  },
  {
   "cell_type": "markdown",
   "id": "34aa69c8",
   "metadata": {},
   "source": [
    "Due to data file size constraints, long TSOs have their exposures broken up into multiple segment files. In this case, there should be a total of 5 segments, which together comprise the full duration of the time series observation. \n",
    "\n",
    "Now, download all the uncal files and place them into the appropriate\n",
    "directories.<br>\n",
    "\n",
    "<div class=\"alert alert-block alert-warning\">\n",
    "Warning: If this notebook is halted during this step the downloaded file\n",
    "may be incomplete, and cause crashes later on!\n",
    "</div>"
   ]
  },
  {
   "cell_type": "code",
   "execution_count": 10,
   "id": "1af46999",
   "metadata": {
    "execution": {
     "iopub.execute_input": "2025-05-13T13:48:57.154781Z",
     "iopub.status.busy": "2025-05-13T13:48:57.154621Z",
     "iopub.status.idle": "2025-05-13T13:50:10.818503Z",
     "shell.execute_reply": "2025-05-13T13:50:10.818092Z"
    },
    "tags": [
     "scroll-output"
    ]
   },
   "outputs": [
    {
     "name": "stdout",
     "output_type": "stream",
     "text": [
      "Downloading URL https://mast.stsci.edu/api/v0.1/Download/file?uri=mast:JWST/product/jw03730013001_03101_00001-seg005_mirimage_uncal.fits to ./imaging_demo_data/PID03730Obs013/uncal/jw03730013001_03101_00001-seg005_mirimage_uncal.fits ..."
     ]
    },
    {
     "name": "stdout",
     "output_type": "stream",
     "text": [
      " [Done]\n"
     ]
    },
    {
     "name": "stdout",
     "output_type": "stream",
     "text": [
      "Downloading URL https://mast.stsci.edu/api/v0.1/Download/file?uri=mast:JWST/product/jw03730013001_03101_00001-seg004_mirimage_uncal.fits to ./imaging_demo_data/PID03730Obs013/uncal/jw03730013001_03101_00001-seg004_mirimage_uncal.fits ..."
     ]
    },
    {
     "name": "stdout",
     "output_type": "stream",
     "text": [
      " [Done]\n"
     ]
    },
    {
     "name": "stdout",
     "output_type": "stream",
     "text": [
      "Downloading URL https://mast.stsci.edu/api/v0.1/Download/file?uri=mast:JWST/product/jw03730013001_03101_00001-seg002_mirimage_uncal.fits to ./imaging_demo_data/PID03730Obs013/uncal/jw03730013001_03101_00001-seg002_mirimage_uncal.fits ..."
     ]
    },
    {
     "name": "stdout",
     "output_type": "stream",
     "text": [
      " [Done]\n"
     ]
    },
    {
     "name": "stdout",
     "output_type": "stream",
     "text": [
      "Downloading URL https://mast.stsci.edu/api/v0.1/Download/file?uri=mast:JWST/product/jw03730013001_03101_00001-seg003_mirimage_uncal.fits to ./imaging_demo_data/PID03730Obs013/uncal/jw03730013001_03101_00001-seg003_mirimage_uncal.fits ..."
     ]
    },
    {
     "name": "stdout",
     "output_type": "stream",
     "text": [
      " [Done]\n"
     ]
    },
    {
     "name": "stdout",
     "output_type": "stream",
     "text": [
      "Downloading URL https://mast.stsci.edu/api/v0.1/Download/file?uri=mast:JWST/product/jw03730013001_03101_00001-seg001_mirimage_uncal.fits to ./imaging_demo_data/PID03730Obs013/uncal/jw03730013001_03101_00001-seg001_mirimage_uncal.fits ..."
     ]
    },
    {
     "name": "stdout",
     "output_type": "stream",
     "text": [
      " [Done]\n"
     ]
    }
   ],
   "source": [
    "if demo_mode:\n",
    "    for filename in files_to_download:\n",
    "        obs_manifest = Observations.download_file(filename, local_path=os.path.join(uncal_dir, Path(filename).name))"
   ]
  },
  {
   "cell_type": "markdown",
   "id": "aea7346a",
   "metadata": {},
   "source": [
    "<hr style=\"border:1px solid gray\"> </hr>"
   ]
  },
  {
   "cell_type": "markdown",
   "id": "045603da",
   "metadata": {},
   "source": [
    "## 4. Directory Setup\n",
    "\n",
    "Set up detailed paths to input/output stages here. When running this notebook outside of demo mode, the uncalibrated pipeline input files must be placed into the appropriate directories before proceeding to the JWST pipeline processing."
   ]
  },
  {
   "cell_type": "code",
   "execution_count": 11,
   "id": "dd17b0ed",
   "metadata": {
    "execution": {
     "iopub.execute_input": "2025-05-13T13:50:10.820217Z",
     "iopub.status.busy": "2025-05-13T13:50:10.820055Z",
     "iopub.status.idle": "2025-05-13T13:50:10.823230Z",
     "shell.execute_reply": "2025-05-13T13:50:10.822883Z"
    }
   },
   "outputs": [],
   "source": [
    "# Define output subdirectories to keep the data products organized\n",
    "uncal_dir = os.path.join(sci_dir, 'uncal')  # Uncalibrated pipeline inputs should be here\n",
    "det1_dir = os.path.join(sci_dir, 'stage1')  # calwebb_detector1 pipeline outputs will go here\n",
    "image2_dir = os.path.join(sci_dir, 'stage2')  # calwebb_spec2 pipeline outputs will go here\n",
    "tso3_dir = os.path.join(sci_dir, 'stage3')  # calwebb_tso3 pipeline outputs will go here\n",
    "\n",
    "# Create desired output directories, if needed\n",
    "os.makedirs(det1_dir, exist_ok=True)\n",
    "os.makedirs(image2_dir, exist_ok=True)\n",
    "os.makedirs(tso3_dir, exist_ok=True)"
   ]
  },
  {
   "cell_type": "markdown",
   "id": "adfedd6f",
   "metadata": {},
   "source": [
    "<hr style=\"border:1px solid gray\"> </hr>"
   ]
  },
  {
   "cell_type": "markdown",
   "id": "04a953f1",
   "metadata": {},
   "source": [
    "## 5. Detector1 Pipeline\n",
    "Run the datasets through the\n",
    "[Detector1](https://jwst-docs.stsci.edu/jwst-science-calibration-pipeline-overview/stages-of-jwst-data-processing/calwebb_detector1)\n",
    "stage of the pipeline to apply detector level calibrations and create a\n",
    "countrate data product where slopes are fitted to the integration ramps.\n",
    "The `*_rate.fits` products are 2D countrate images, averaged over all\n",
    "integrations within each segment. Meanwhile, 3D countrate data stacks containing an image for each integration (`*_rateints.fits` files) are also\n",
    "created, which will be used in the subsequent stage to preserve the temporal information in the exposure series.<br>\n",
    "\n",
    "When processing MIRI Imaging TSOs, the Detector1 pipeline skips a few pipeline steps by default that would otherwise be run for non-TSO data. These are `rscd` and `firstframe`, which both essentially instruct the pipeline to ignore initial frames within each ramp. The motivation behind the different settings here is that most TSOs have short ramps, and ignoring too many frames can leave too little of the ramp to adequately produce a ramp slope fit. See https://jwst-docs.stsci.edu/jwst-science-calibration-pipeline/stages-of-jwst-data-processing/calwebb_detector1 for a detailed overview of the various pipeline steps that comprise Detector1.\n",
    "\n",
    "As of CRDS context `jwst_1201.pmap` and later, the\n",
    "`jump` step\n",
    "in the Detector1 pipeline allows for the removal of residuals associated\n",
    "with [showers](https://jwst-docs.stsci.edu/known-issues-with-jwst-data/shower-and-snowball-artifacts)\n",
    "for MIRI Imaging observations, but only for data taken with filters shortward (inclusive) of F1500W.\n",
    "Setting the `find_showers` parameter to `True` in the `jump` step activates this functionality. The default parameters for this correction are specified in the `pars-jumpstep` parameter reference files. Users may wish to alter parameters to optimize removal of\n",
    "shower residuals. Available parameters are discussed in the\n",
    "[Detection and Flagging of Showers and Snowballs in JWST Technical Report (Regan 2023)](https://www.stsci.edu/files/live/sites/www/files/home/jwst/documentation/technical-documents/_documents/JWST-STScI-008545.pdf)."
   ]
  },
  {
   "cell_type": "code",
   "execution_count": 12,
   "id": "b36a649e",
   "metadata": {
    "execution": {
     "iopub.execute_input": "2025-05-13T13:50:10.824901Z",
     "iopub.status.busy": "2025-05-13T13:50:10.824552Z",
     "iopub.status.idle": "2025-05-13T13:50:10.828006Z",
     "shell.execute_reply": "2025-05-13T13:50:10.827664Z"
    }
   },
   "outputs": [],
   "source": [
    "# Set up a dictionary to define how the Detector1 pipeline should be configured\n",
    "\n",
    "# Boilerplate dictionary setup\n",
    "det1dict = {}\n",
    "det1dict['group_scale'], det1dict['dq_init'], det1dict['emicorr'] = {}, {}, {}\n",
    "det1dict['saturation'], det1dict['firstframe'], det1dict['lastframe'] = {}, {}, {}\n",
    "det1dict['reset'], det1dict['linearity'], det1dict['rscd'] = {}, {}, {}\n",
    "det1dict['dark_current'], det1dict['refpix'], det1dict['jump'] = {}, {}, {}\n",
    "det1dict['ramp_fit'], det1dict['gain_scale'], det1dict['clean_flicker_noise'] = {}, {}, {}\n",
    "\n",
    "# Overrides for whether or not certain steps should be skipped\n",
    "#det1dict['refpix']['skip'] = True\n",
    "#det1dict['jump']['find_showers'] = True  # Turn on detection of cosmic ray showers\n",
    "#det1dict['clean_flicker_noise']['skip'] = True  # Skipped by default\n",
    "\n",
    "# Overrides for various reference files\n",
    "# Files should be in the base local directory or provide full path\n",
    "#det1dict['dq_init']['override_mask'] = 'myfile.fits'  # Bad pixel mask\n",
    "#det1dict['saturation']['override_saturation'] = 'myfile.fits'  # Saturation\n",
    "#det1dict['reset']['override_reset'] = 'myfile.fits'  # Reset\n",
    "#det1dict['linearity']['override_linearity'] = 'myfile.fits'  # Linearity\n",
    "#det1dict['rscd']['override_rscd'] = 'myfile.fits'  # RSCD\n",
    "#det1dict['dark_current']['override_dark'] = 'myfile.fits'  # Dark current subtraction\n",
    "#det1dict['jump']['override_gain'] = 'myfile.fits'  # Gain used by jump step\n",
    "#det1dict['ramp_fit']['override_gain'] = 'myfile.fits'  # Gain used by ramp fitting step\n",
    "#det1dict['jump']['override_readnoise'] = 'myfile.fits'  # Read noise used by jump step\n",
    "#det1dict['ramp_fit']['override_readnoise'] = 'myfile.fits'  # Read noise used by ramp fitting step\n",
    "\n",
    "# Turn on multi-core processing (off by default).  Choose what fraction of cores to use (quarter, half, or all)\n",
    "det1dict['jump']['maximum_cores'] = 'half'\n",
    "\n",
    "# Alter parameters to optimize removal of shower residuals (example)\n",
    "#det1dict['jump']['after_jump_flag_dn1'] = X  # A floating point value in units of DN\n",
    "#det1dict['jump']['after_jump_flag_time1'] = x.x  # A floating point value in units of seconds"
   ]
  },
  {
   "cell_type": "markdown",
   "id": "805f458e",
   "metadata": {},
   "source": [
    "Grab all of the uncalibrated files, which comprise the full time series observation."
   ]
  },
  {
   "cell_type": "code",
   "execution_count": 13,
   "id": "32e65ee1",
   "metadata": {
    "execution": {
     "iopub.execute_input": "2025-05-13T13:50:10.829537Z",
     "iopub.status.busy": "2025-05-13T13:50:10.829256Z",
     "iopub.status.idle": "2025-05-13T13:50:10.832178Z",
     "shell.execute_reply": "2025-05-13T13:50:10.831825Z"
    }
   },
   "outputs": [
    {
     "name": "stdout",
     "output_type": "stream",
     "text": [
      "['./imaging_demo_data/PID03730Obs013/uncal/jw03730013001_03101_00001-seg001_mirimage_uncal.fits', './imaging_demo_data/PID03730Obs013/uncal/jw03730013001_03101_00001-seg002_mirimage_uncal.fits', './imaging_demo_data/PID03730Obs013/uncal/jw03730013001_03101_00001-seg003_mirimage_uncal.fits', './imaging_demo_data/PID03730Obs013/uncal/jw03730013001_03101_00001-seg004_mirimage_uncal.fits', './imaging_demo_data/PID03730Obs013/uncal/jw03730013001_03101_00001-seg005_mirimage_uncal.fits']\n",
      "Found 5 input uncal files\n"
     ]
    }
   ],
   "source": [
    "uncal_files = sorted(glob.glob(os.path.join(uncal_dir, '*_uncal.fits')))\n",
    "print(uncal_files)\n",
    "print('Found ' + str(len(uncal_files)) + ' input uncal files')"
   ]
  },
  {
   "cell_type": "markdown",
   "id": "3c1d3f7c",
   "metadata": {},
   "source": [
    "Run the Detector1 pipeline on the selected uncalibrated data using the call method. For long TSOs with full array readouts, this process may take more than 10 minutes per file, particularly if <code>find_showers = True</code>."
   ]
  },
  {
   "cell_type": "code",
   "execution_count": 14,
   "id": "b9664619",
   "metadata": {
    "execution": {
     "iopub.execute_input": "2025-05-13T13:50:10.833730Z",
     "iopub.status.busy": "2025-05-13T13:50:10.833405Z",
     "iopub.status.idle": "2025-05-13T14:11:07.866049Z",
     "shell.execute_reply": "2025-05-13T14:11:07.865597Z"
    },
    "scrolled": true,
    "tags": [
     "scroll-output"
    ]
   },
   "outputs": [
    {
     "name": "stderr",
     "output_type": "stream",
     "text": [
      "2025-05-13 13:50:12,407 - CRDS - INFO -  Fetching  /home/runner/crds/mappings/jwst/jwst_system_datalvl_0002.rmap      694 bytes  (1 / 204 files) (0 / 741.0 K bytes)\n"
     ]
    },
    {
     "name": "stderr",
     "output_type": "stream",
     "text": [
      "2025-05-13 13:50:12,531 - CRDS - INFO -  Fetching  /home/runner/crds/mappings/jwst/jwst_system_calver_0048.rmap    5.3 K bytes  (2 / 204 files) (694 / 741.0 K bytes)\n"
     ]
    },
    {
     "name": "stderr",
     "output_type": "stream",
     "text": [
      "2025-05-13 13:50:12,613 - CRDS - INFO -  Fetching  /home/runner/crds/mappings/jwst/jwst_system_0047.imap        385 bytes  (3 / 204 files) (6.0 K / 741.0 K bytes)\n"
     ]
    },
    {
     "name": "stderr",
     "output_type": "stream",
     "text": [
      "2025-05-13 13:50:12,696 - CRDS - INFO -  Fetching  /home/runner/crds/mappings/jwst/jwst_nirspec_wavelengthrange_0024.rmap    1.4 K bytes  (4 / 204 files) (6.4 K / 741.0 K bytes)\n"
     ]
    },
    {
     "name": "stderr",
     "output_type": "stream",
     "text": [
      "2025-05-13 13:50:12,802 - CRDS - INFO -  Fetching  /home/runner/crds/mappings/jwst/jwst_nirspec_wavecorr_0005.rmap      884 bytes  (5 / 204 files) (7.8 K / 741.0 K bytes)\n"
     ]
    },
    {
     "name": "stderr",
     "output_type": "stream",
     "text": [
      "2025-05-13 13:50:12,918 - CRDS - INFO -  Fetching  /home/runner/crds/mappings/jwst/jwst_nirspec_superbias_0079.rmap   36.0 K bytes  (6 / 204 files) (8.6 K / 741.0 K bytes)\n"
     ]
    },
    {
     "name": "stderr",
     "output_type": "stream",
     "text": [
      "2025-05-13 13:50:13,042 - CRDS - INFO -  Fetching  /home/runner/crds/mappings/jwst/jwst_nirspec_sirskernel_0001.rmap      630 bytes  (7 / 204 files) (44.6 K / 741.0 K bytes)\n"
     ]
    },
    {
     "name": "stderr",
     "output_type": "stream",
     "text": [
      "2025-05-13 13:50:13,124 - CRDS - INFO -  Fetching  /home/runner/crds/mappings/jwst/jwst_nirspec_sflat_0026.rmap   20.6 K bytes  (8 / 204 files) (45.3 K / 741.0 K bytes)\n"
     ]
    },
    {
     "name": "stderr",
     "output_type": "stream",
     "text": [
      "2025-05-13 13:50:13,229 - CRDS - INFO -  Fetching  /home/runner/crds/mappings/jwst/jwst_nirspec_saturation_0018.rmap    2.0 K bytes  (9 / 204 files) (65.9 K / 741.0 K bytes)\n"
     ]
    },
    {
     "name": "stderr",
     "output_type": "stream",
     "text": [
      "2025-05-13 13:50:13,311 - CRDS - INFO -  Fetching  /home/runner/crds/mappings/jwst/jwst_nirspec_refpix_0015.rmap    1.6 K bytes  (10 / 204 files) (67.9 K / 741.0 K bytes)\n"
     ]
    },
    {
     "name": "stderr",
     "output_type": "stream",
     "text": [
      "2025-05-13 13:50:13,395 - CRDS - INFO -  Fetching  /home/runner/crds/mappings/jwst/jwst_nirspec_readnoise_0025.rmap    2.6 K bytes  (11 / 204 files) (69.5 K / 741.0 K bytes)\n"
     ]
    },
    {
     "name": "stderr",
     "output_type": "stream",
     "text": [
      "2025-05-13 13:50:13,506 - CRDS - INFO -  Fetching  /home/runner/crds/mappings/jwst/jwst_nirspec_pictureframe_0001.rmap      675 bytes  (12 / 204 files) (72.0 K / 741.0 K bytes)\n"
     ]
    },
    {
     "name": "stderr",
     "output_type": "stream",
     "text": [
      "2025-05-13 13:50:13,588 - CRDS - INFO -  Fetching  /home/runner/crds/mappings/jwst/jwst_nirspec_photom_0013.rmap      958 bytes  (13 / 204 files) (72.7 K / 741.0 K bytes)\n"
     ]
    },
    {
     "name": "stderr",
     "output_type": "stream",
     "text": [
      "2025-05-13 13:50:13,671 - CRDS - INFO -  Fetching  /home/runner/crds/mappings/jwst/jwst_nirspec_pathloss_0008.rmap    1.2 K bytes  (14 / 204 files) (73.7 K / 741.0 K bytes)\n"
     ]
    },
    {
     "name": "stderr",
     "output_type": "stream",
     "text": [
      "2025-05-13 13:50:13,757 - CRDS - INFO -  Fetching  /home/runner/crds/mappings/jwst/jwst_nirspec_pars-whitelightstep_0001.rmap      777 bytes  (15 / 204 files) (74.9 K / 741.0 K bytes)\n"
     ]
    },
    {
     "name": "stderr",
     "output_type": "stream",
     "text": [
      "2025-05-13 13:50:13,854 - CRDS - INFO -  Fetching  /home/runner/crds/mappings/jwst/jwst_nirspec_pars-spec2pipeline_0013.rmap    2.1 K bytes  (16 / 204 files) (75.6 K / 741.0 K bytes)\n"
     ]
    },
    {
     "name": "stderr",
     "output_type": "stream",
     "text": [
      "2025-05-13 13:50:13,936 - CRDS - INFO -  Fetching  /home/runner/crds/mappings/jwst/jwst_nirspec_pars-resamplespecstep_0002.rmap      709 bytes  (17 / 204 files) (77.8 K / 741.0 K bytes)\n"
     ]
    },
    {
     "name": "stderr",
     "output_type": "stream",
     "text": [
      "2025-05-13 13:50:14,017 - CRDS - INFO -  Fetching  /home/runner/crds/mappings/jwst/jwst_nirspec_pars-outlierdetectionstep_0005.rmap    1.1 K bytes  (18 / 204 files) (78.5 K / 741.0 K bytes)\n"
     ]
    },
    {
     "name": "stderr",
     "output_type": "stream",
     "text": [
      "2025-05-13 13:50:14,099 - CRDS - INFO -  Fetching  /home/runner/crds/mappings/jwst/jwst_nirspec_pars-jumpstep_0005.rmap      810 bytes  (19 / 204 files) (79.6 K / 741.0 K bytes)\n"
     ]
    },
    {
     "name": "stderr",
     "output_type": "stream",
     "text": [
      "2025-05-13 13:50:14,208 - CRDS - INFO -  Fetching  /home/runner/crds/mappings/jwst/jwst_nirspec_pars-image2pipeline_0008.rmap    1.0 K bytes  (20 / 204 files) (80.4 K / 741.0 K bytes)\n"
     ]
    },
    {
     "name": "stderr",
     "output_type": "stream",
     "text": [
      "2025-05-13 13:50:14,293 - CRDS - INFO -  Fetching  /home/runner/crds/mappings/jwst/jwst_nirspec_pars-detector1pipeline_0003.rmap    1.1 K bytes  (21 / 204 files) (81.4 K / 741.0 K bytes)\n"
     ]
    },
    {
     "name": "stderr",
     "output_type": "stream",
     "text": [
      "2025-05-13 13:50:14,377 - CRDS - INFO -  Fetching  /home/runner/crds/mappings/jwst/jwst_nirspec_pars-darkpipeline_0003.rmap      872 bytes  (22 / 204 files) (82.5 K / 741.0 K bytes)\n"
     ]
    },
    {
     "name": "stderr",
     "output_type": "stream",
     "text": [
      "2025-05-13 13:50:14,460 - CRDS - INFO -  Fetching  /home/runner/crds/mappings/jwst/jwst_nirspec_pars-darkcurrentstep_0003.rmap    1.8 K bytes  (23 / 204 files) (83.4 K / 741.0 K bytes)\n"
     ]
    },
    {
     "name": "stderr",
     "output_type": "stream",
     "text": [
      "2025-05-13 13:50:14,546 - CRDS - INFO -  Fetching  /home/runner/crds/mappings/jwst/jwst_nirspec_ote_0030.rmap    1.3 K bytes  (24 / 204 files) (85.2 K / 741.0 K bytes)\n"
     ]
    },
    {
     "name": "stderr",
     "output_type": "stream",
     "text": [
      "2025-05-13 13:50:14,633 - CRDS - INFO -  Fetching  /home/runner/crds/mappings/jwst/jwst_nirspec_msaoper_0016.rmap    1.5 K bytes  (25 / 204 files) (86.4 K / 741.0 K bytes)\n"
     ]
    },
    {
     "name": "stderr",
     "output_type": "stream",
     "text": [
      "2025-05-13 13:50:14,714 - CRDS - INFO -  Fetching  /home/runner/crds/mappings/jwst/jwst_nirspec_msa_0027.rmap    1.3 K bytes  (26 / 204 files) (87.9 K / 741.0 K bytes)\n"
     ]
    },
    {
     "name": "stderr",
     "output_type": "stream",
     "text": [
      "2025-05-13 13:50:14,801 - CRDS - INFO -  Fetching  /home/runner/crds/mappings/jwst/jwst_nirspec_mask_0043.rmap    3.5 K bytes  (27 / 204 files) (89.2 K / 741.0 K bytes)\n"
     ]
    },
    {
     "name": "stderr",
     "output_type": "stream",
     "text": [
      "2025-05-13 13:50:14,909 - CRDS - INFO -  Fetching  /home/runner/crds/mappings/jwst/jwst_nirspec_linearity_0017.rmap    1.6 K bytes  (28 / 204 files) (92.7 K / 741.0 K bytes)\n"
     ]
    },
    {
     "name": "stderr",
     "output_type": "stream",
     "text": [
      "2025-05-13 13:50:14,990 - CRDS - INFO -  Fetching  /home/runner/crds/mappings/jwst/jwst_nirspec_ipc_0006.rmap      876 bytes  (29 / 204 files) (94.3 K / 741.0 K bytes)\n"
     ]
    },
    {
     "name": "stderr",
     "output_type": "stream",
     "text": [
      "2025-05-13 13:50:15,097 - CRDS - INFO -  Fetching  /home/runner/crds/mappings/jwst/jwst_nirspec_ifuslicer_0017.rmap    1.5 K bytes  (30 / 204 files) (95.2 K / 741.0 K bytes)\n"
     ]
    },
    {
     "name": "stderr",
     "output_type": "stream",
     "text": [
      "2025-05-13 13:50:15,180 - CRDS - INFO -  Fetching  /home/runner/crds/mappings/jwst/jwst_nirspec_ifupost_0019.rmap    1.5 K bytes  (31 / 204 files) (96.7 K / 741.0 K bytes)\n"
     ]
    },
    {
     "name": "stderr",
     "output_type": "stream",
     "text": [
      "2025-05-13 13:50:15,289 - CRDS - INFO -  Fetching  /home/runner/crds/mappings/jwst/jwst_nirspec_ifufore_0017.rmap    1.5 K bytes  (32 / 204 files) (98.2 K / 741.0 K bytes)\n"
     ]
    },
    {
     "name": "stderr",
     "output_type": "stream",
     "text": [
      "2025-05-13 13:50:15,394 - CRDS - INFO -  Fetching  /home/runner/crds/mappings/jwst/jwst_nirspec_gain_0023.rmap    1.8 K bytes  (33 / 204 files) (99.7 K / 741.0 K bytes)\n"
     ]
    },
    {
     "name": "stderr",
     "output_type": "stream",
     "text": [
      "2025-05-13 13:50:15,499 - CRDS - INFO -  Fetching  /home/runner/crds/mappings/jwst/jwst_nirspec_fpa_0028.rmap    1.3 K bytes  (34 / 204 files) (101.5 K / 741.0 K bytes)\n"
     ]
    },
    {
     "name": "stderr",
     "output_type": "stream",
     "text": [
      "2025-05-13 13:50:15,605 - CRDS - INFO -  Fetching  /home/runner/crds/mappings/jwst/jwst_nirspec_fore_0026.rmap    5.0 K bytes  (35 / 204 files) (102.7 K / 741.0 K bytes)\n"
     ]
    },
    {
     "name": "stderr",
     "output_type": "stream",
     "text": [
      "2025-05-13 13:50:15,689 - CRDS - INFO -  Fetching  /home/runner/crds/mappings/jwst/jwst_nirspec_flat_0015.rmap    3.8 K bytes  (36 / 204 files) (107.7 K / 741.0 K bytes)\n"
     ]
    },
    {
     "name": "stderr",
     "output_type": "stream",
     "text": [
      "2025-05-13 13:50:15,773 - CRDS - INFO -  Fetching  /home/runner/crds/mappings/jwst/jwst_nirspec_fflat_0026.rmap    7.2 K bytes  (37 / 204 files) (111.5 K / 741.0 K bytes)\n"
     ]
    },
    {
     "name": "stderr",
     "output_type": "stream",
     "text": [
      "2025-05-13 13:50:15,862 - CRDS - INFO -  Fetching  /home/runner/crds/mappings/jwst/jwst_nirspec_extract1d_0018.rmap    2.3 K bytes  (38 / 204 files) (118.7 K / 741.0 K bytes)\n"
     ]
    },
    {
     "name": "stderr",
     "output_type": "stream",
     "text": [
      "2025-05-13 13:50:15,970 - CRDS - INFO -  Fetching  /home/runner/crds/mappings/jwst/jwst_nirspec_disperser_0028.rmap    5.7 K bytes  (39 / 204 files) (121.0 K / 741.0 K bytes)\n"
     ]
    },
    {
     "name": "stderr",
     "output_type": "stream",
     "text": [
      "2025-05-13 13:50:16,054 - CRDS - INFO -  Fetching  /home/runner/crds/mappings/jwst/jwst_nirspec_dflat_0007.rmap    1.1 K bytes  (40 / 204 files) (126.7 K / 741.0 K bytes)\n"
     ]
    },
    {
     "name": "stderr",
     "output_type": "stream",
     "text": [
      "2025-05-13 13:50:16,137 - CRDS - INFO -  Fetching  /home/runner/crds/mappings/jwst/jwst_nirspec_dark_0074.rmap   34.2 K bytes  (41 / 204 files) (127.9 K / 741.0 K bytes)\n"
     ]
    },
    {
     "name": "stderr",
     "output_type": "stream",
     "text": [
      "2025-05-13 13:50:16,251 - CRDS - INFO -  Fetching  /home/runner/crds/mappings/jwst/jwst_nirspec_cubepar_0015.rmap      966 bytes  (42 / 204 files) (162.1 K / 741.0 K bytes)\n"
     ]
    },
    {
     "name": "stderr",
     "output_type": "stream",
     "text": [
      "2025-05-13 13:50:16,338 - CRDS - INFO -  Fetching  /home/runner/crds/mappings/jwst/jwst_nirspec_collimator_0026.rmap    1.3 K bytes  (43 / 204 files) (163.1 K / 741.0 K bytes)\n"
     ]
    },
    {
     "name": "stderr",
     "output_type": "stream",
     "text": [
      "2025-05-13 13:50:16,423 - CRDS - INFO -  Fetching  /home/runner/crds/mappings/jwst/jwst_nirspec_camera_0026.rmap    1.3 K bytes  (44 / 204 files) (164.4 K / 741.0 K bytes)\n"
     ]
    },
    {
     "name": "stderr",
     "output_type": "stream",
     "text": [
      "2025-05-13 13:50:16,506 - CRDS - INFO -  Fetching  /home/runner/crds/mappings/jwst/jwst_nirspec_barshadow_0007.rmap    1.8 K bytes  (45 / 204 files) (165.7 K / 741.0 K bytes)\n"
     ]
    },
    {
     "name": "stderr",
     "output_type": "stream",
     "text": [
      "2025-05-13 13:50:16,591 - CRDS - INFO -  Fetching  /home/runner/crds/mappings/jwst/jwst_nirspec_area_0018.rmap    6.3 K bytes  (46 / 204 files) (167.5 K / 741.0 K bytes)\n"
     ]
    },
    {
     "name": "stderr",
     "output_type": "stream",
     "text": [
      "2025-05-13 13:50:16,700 - CRDS - INFO -  Fetching  /home/runner/crds/mappings/jwst/jwst_nirspec_apcorr_0009.rmap    5.6 K bytes  (47 / 204 files) (173.8 K / 741.0 K bytes)\n"
     ]
    },
    {
     "name": "stderr",
     "output_type": "stream",
     "text": [
      "2025-05-13 13:50:16,789 - CRDS - INFO -  Fetching  /home/runner/crds/mappings/jwst/jwst_nirspec_0398.imap     5.8 K bytes  (48 / 204 files) (179.3 K / 741.0 K bytes)\n"
     ]
    },
    {
     "name": "stderr",
     "output_type": "stream",
     "text": [
      "2025-05-13 13:50:16,869 - CRDS - INFO -  Fetching  /home/runner/crds/mappings/jwst/jwst_niriss_wfssbkg_0010.rmap    3.1 K bytes  (49 / 204 files) (185.1 K / 741.0 K bytes)\n"
     ]
    },
    {
     "name": "stderr",
     "output_type": "stream",
     "text": [
      "2025-05-13 13:50:16,974 - CRDS - INFO -  Fetching  /home/runner/crds/mappings/jwst/jwst_niriss_wavelengthrange_0006.rmap      862 bytes  (50 / 204 files) (188.2 K / 741.0 K bytes)\n"
     ]
    },
    {
     "name": "stderr",
     "output_type": "stream",
     "text": [
      "2025-05-13 13:50:17,056 - CRDS - INFO -  Fetching  /home/runner/crds/mappings/jwst/jwst_niriss_trappars_0004.rmap      753 bytes  (51 / 204 files) (189.1 K / 741.0 K bytes)\n"
     ]
    },
    {
     "name": "stderr",
     "output_type": "stream",
     "text": [
      "2025-05-13 13:50:17,145 - CRDS - INFO -  Fetching  /home/runner/crds/mappings/jwst/jwst_niriss_trapdensity_0005.rmap      705 bytes  (52 / 204 files) (189.9 K / 741.0 K bytes)\n"
     ]
    },
    {
     "name": "stderr",
     "output_type": "stream",
     "text": [
      "2025-05-13 13:50:17,254 - CRDS - INFO -  Fetching  /home/runner/crds/mappings/jwst/jwst_niriss_throughput_0005.rmap    1.3 K bytes  (53 / 204 files) (190.6 K / 741.0 K bytes)\n"
     ]
    },
    {
     "name": "stderr",
     "output_type": "stream",
     "text": [
      "2025-05-13 13:50:17,337 - CRDS - INFO -  Fetching  /home/runner/crds/mappings/jwst/jwst_niriss_superbias_0030.rmap    7.4 K bytes  (54 / 204 files) (191.8 K / 741.0 K bytes)\n"
     ]
    },
    {
     "name": "stderr",
     "output_type": "stream",
     "text": [
      "2025-05-13 13:50:17,422 - CRDS - INFO -  Fetching  /home/runner/crds/mappings/jwst/jwst_niriss_specwcs_0014.rmap    3.1 K bytes  (55 / 204 files) (199.2 K / 741.0 K bytes)\n"
     ]
    },
    {
     "name": "stderr",
     "output_type": "stream",
     "text": [
      "2025-05-13 13:50:17,508 - CRDS - INFO -  Fetching  /home/runner/crds/mappings/jwst/jwst_niriss_specprofile_0008.rmap    2.4 K bytes  (56 / 204 files) (202.4 K / 741.0 K bytes)\n"
     ]
    },
    {
     "name": "stderr",
     "output_type": "stream",
     "text": [
      "2025-05-13 13:50:17,593 - CRDS - INFO -  Fetching  /home/runner/crds/mappings/jwst/jwst_niriss_speckernel_0006.rmap    1.0 K bytes  (57 / 204 files) (204.7 K / 741.0 K bytes)\n"
     ]
    },
    {
     "name": "stderr",
     "output_type": "stream",
     "text": [
      "2025-05-13 13:50:17,676 - CRDS - INFO -  Fetching  /home/runner/crds/mappings/jwst/jwst_niriss_sirskernel_0001.rmap      627 bytes  (58 / 204 files) (205.8 K / 741.0 K bytes)\n"
     ]
    },
    {
     "name": "stderr",
     "output_type": "stream",
     "text": [
      "2025-05-13 13:50:17,760 - CRDS - INFO -  Fetching  /home/runner/crds/mappings/jwst/jwst_niriss_saturation_0015.rmap      829 bytes  (59 / 204 files) (206.4 K / 741.0 K bytes)\n"
     ]
    },
    {
     "name": "stderr",
     "output_type": "stream",
     "text": [
      "2025-05-13 13:50:17,844 - CRDS - INFO -  Fetching  /home/runner/crds/mappings/jwst/jwst_niriss_readnoise_0011.rmap      987 bytes  (60 / 204 files) (207.2 K / 741.0 K bytes)\n"
     ]
    },
    {
     "name": "stderr",
     "output_type": "stream",
     "text": [
      "2025-05-13 13:50:17,927 - CRDS - INFO -  Fetching  /home/runner/crds/mappings/jwst/jwst_niriss_photom_0036.rmap    1.3 K bytes  (61 / 204 files) (208.2 K / 741.0 K bytes)\n"
     ]
    },
    {
     "name": "stderr",
     "output_type": "stream",
     "text": [
      "2025-05-13 13:50:18,009 - CRDS - INFO -  Fetching  /home/runner/crds/mappings/jwst/jwst_niriss_persat_0007.rmap      674 bytes  (62 / 204 files) (209.5 K / 741.0 K bytes)\n"
     ]
    },
    {
     "name": "stderr",
     "output_type": "stream",
     "text": [
      "2025-05-13 13:50:18,090 - CRDS - INFO -  Fetching  /home/runner/crds/mappings/jwst/jwst_niriss_pathloss_0003.rmap      758 bytes  (63 / 204 files) (210.1 K / 741.0 K bytes)\n"
     ]
    },
    {
     "name": "stderr",
     "output_type": "stream",
     "text": [
      "2025-05-13 13:50:18,172 - CRDS - INFO -  Fetching  /home/runner/crds/mappings/jwst/jwst_niriss_pastasoss_0004.rmap      818 bytes  (64 / 204 files) (210.9 K / 741.0 K bytes)\n"
     ]
    },
    {
     "name": "stderr",
     "output_type": "stream",
     "text": [
      "2025-05-13 13:50:18,253 - CRDS - INFO -  Fetching  /home/runner/crds/mappings/jwst/jwst_niriss_pars-undersamplecorrectionstep_0001.rmap      904 bytes  (65 / 204 files) (211.7 K / 741.0 K bytes)\n"
     ]
    },
    {
     "name": "stderr",
     "output_type": "stream",
     "text": [
      "2025-05-13 13:50:18,337 - CRDS - INFO -  Fetching  /home/runner/crds/mappings/jwst/jwst_niriss_pars-tweakregstep_0012.rmap    3.1 K bytes  (66 / 204 files) (212.6 K / 741.0 K bytes)\n"
     ]
    },
    {
     "name": "stderr",
     "output_type": "stream",
     "text": [
      "2025-05-13 13:50:18,440 - CRDS - INFO -  Fetching  /home/runner/crds/mappings/jwst/jwst_niriss_pars-spec2pipeline_0008.rmap      984 bytes  (67 / 204 files) (215.8 K / 741.0 K bytes)\n"
     ]
    },
    {
     "name": "stderr",
     "output_type": "stream",
     "text": [
      "2025-05-13 13:50:18,549 - CRDS - INFO -  Fetching  /home/runner/crds/mappings/jwst/jwst_niriss_pars-sourcecatalogstep_0002.rmap    2.3 K bytes  (68 / 204 files) (216.7 K / 741.0 K bytes)\n"
     ]
    },
    {
     "name": "stderr",
     "output_type": "stream",
     "text": [
      "2025-05-13 13:50:18,632 - CRDS - INFO -  Fetching  /home/runner/crds/mappings/jwst/jwst_niriss_pars-resamplestep_0002.rmap      687 bytes  (69 / 204 files) (219.1 K / 741.0 K bytes)\n"
     ]
    },
    {
     "name": "stderr",
     "output_type": "stream",
     "text": [
      "2025-05-13 13:50:18,739 - CRDS - INFO -  Fetching  /home/runner/crds/mappings/jwst/jwst_niriss_pars-outlierdetectionstep_0004.rmap    2.7 K bytes  (70 / 204 files) (219.7 K / 741.0 K bytes)\n"
     ]
    },
    {
     "name": "stderr",
     "output_type": "stream",
     "text": [
      "2025-05-13 13:50:18,823 - CRDS - INFO -  Fetching  /home/runner/crds/mappings/jwst/jwst_niriss_pars-jumpstep_0007.rmap    6.4 K bytes  (71 / 204 files) (222.4 K / 741.0 K bytes)\n"
     ]
    },
    {
     "name": "stderr",
     "output_type": "stream",
     "text": [
      "2025-05-13 13:50:18,937 - CRDS - INFO -  Fetching  /home/runner/crds/mappings/jwst/jwst_niriss_pars-image2pipeline_0005.rmap    1.0 K bytes  (72 / 204 files) (228.8 K / 741.0 K bytes)\n"
     ]
    },
    {
     "name": "stderr",
     "output_type": "stream",
     "text": [
      "2025-05-13 13:50:19,017 - CRDS - INFO -  Fetching  /home/runner/crds/mappings/jwst/jwst_niriss_pars-detector1pipeline_0002.rmap    1.0 K bytes  (73 / 204 files) (229.8 K / 741.0 K bytes)\n"
     ]
    },
    {
     "name": "stderr",
     "output_type": "stream",
     "text": [
      "2025-05-13 13:50:19,100 - CRDS - INFO -  Fetching  /home/runner/crds/mappings/jwst/jwst_niriss_pars-darkpipeline_0002.rmap      868 bytes  (74 / 204 files) (230.8 K / 741.0 K bytes)\n"
     ]
    },
    {
     "name": "stderr",
     "output_type": "stream",
     "text": [
      "2025-05-13 13:50:19,183 - CRDS - INFO -  Fetching  /home/runner/crds/mappings/jwst/jwst_niriss_pars-darkcurrentstep_0001.rmap      591 bytes  (75 / 204 files) (231.7 K / 741.0 K bytes)\n"
     ]
    },
    {
     "name": "stderr",
     "output_type": "stream",
     "text": [
      "2025-05-13 13:50:19,288 - CRDS - INFO -  Fetching  /home/runner/crds/mappings/jwst/jwst_niriss_pars-chargemigrationstep_0004.rmap    5.7 K bytes  (76 / 204 files) (232.3 K / 741.0 K bytes)\n"
     ]
    },
    {
     "name": "stderr",
     "output_type": "stream",
     "text": [
      "2025-05-13 13:50:19,373 - CRDS - INFO -  Fetching  /home/runner/crds/mappings/jwst/jwst_niriss_nrm_0005.rmap      663 bytes  (77 / 204 files) (237.9 K / 741.0 K bytes)\n"
     ]
    },
    {
     "name": "stderr",
     "output_type": "stream",
     "text": [
      "2025-05-13 13:50:19,453 - CRDS - INFO -  Fetching  /home/runner/crds/mappings/jwst/jwst_niriss_mask_0022.rmap    1.3 K bytes  (78 / 204 files) (238.6 K / 741.0 K bytes)\n"
     ]
    },
    {
     "name": "stderr",
     "output_type": "stream",
     "text": [
      "2025-05-13 13:50:19,559 - CRDS - INFO -  Fetching  /home/runner/crds/mappings/jwst/jwst_niriss_linearity_0022.rmap      961 bytes  (79 / 204 files) (239.9 K / 741.0 K bytes)\n"
     ]
    },
    {
     "name": "stderr",
     "output_type": "stream",
     "text": [
      "2025-05-13 13:50:19,641 - CRDS - INFO -  Fetching  /home/runner/crds/mappings/jwst/jwst_niriss_ipc_0007.rmap      651 bytes  (80 / 204 files) (240.9 K / 741.0 K bytes)\n"
     ]
    },
    {
     "name": "stderr",
     "output_type": "stream",
     "text": [
      "2025-05-13 13:50:19,735 - CRDS - INFO -  Fetching  /home/runner/crds/mappings/jwst/jwst_niriss_gain_0011.rmap      797 bytes  (81 / 204 files) (241.5 K / 741.0 K bytes)\n"
     ]
    },
    {
     "name": "stderr",
     "output_type": "stream",
     "text": [
      "2025-05-13 13:50:19,840 - CRDS - INFO -  Fetching  /home/runner/crds/mappings/jwst/jwst_niriss_flat_0023.rmap    5.9 K bytes  (82 / 204 files) (242.3 K / 741.0 K bytes)\n"
     ]
    },
    {
     "name": "stderr",
     "output_type": "stream",
     "text": [
      "2025-05-13 13:50:19,924 - CRDS - INFO -  Fetching  /home/runner/crds/mappings/jwst/jwst_niriss_filteroffset_0010.rmap      853 bytes  (83 / 204 files) (248.2 K / 741.0 K bytes)\n"
     ]
    },
    {
     "name": "stderr",
     "output_type": "stream",
     "text": [
      "2025-05-13 13:50:20,009 - CRDS - INFO -  Fetching  /home/runner/crds/mappings/jwst/jwst_niriss_extract1d_0007.rmap      905 bytes  (84 / 204 files) (249.0 K / 741.0 K bytes)\n"
     ]
    },
    {
     "name": "stderr",
     "output_type": "stream",
     "text": [
      "2025-05-13 13:50:20,093 - CRDS - INFO -  Fetching  /home/runner/crds/mappings/jwst/jwst_niriss_drizpars_0004.rmap      519 bytes  (85 / 204 files) (249.9 K / 741.0 K bytes)\n"
     ]
    },
    {
     "name": "stderr",
     "output_type": "stream",
     "text": [
      "2025-05-13 13:50:20,175 - CRDS - INFO -  Fetching  /home/runner/crds/mappings/jwst/jwst_niriss_distortion_0025.rmap    3.4 K bytes  (86 / 204 files) (250.4 K / 741.0 K bytes)\n"
     ]
    },
    {
     "name": "stderr",
     "output_type": "stream",
     "text": [
      "2025-05-13 13:50:20,261 - CRDS - INFO -  Fetching  /home/runner/crds/mappings/jwst/jwst_niriss_dark_0034.rmap    7.5 K bytes  (87 / 204 files) (253.9 K / 741.0 K bytes)\n"
     ]
    },
    {
     "name": "stderr",
     "output_type": "stream",
     "text": [
      "2025-05-13 13:50:20,366 - CRDS - INFO -  Fetching  /home/runner/crds/mappings/jwst/jwst_niriss_bkg_0002.rmap    2.9 K bytes  (88 / 204 files) (261.4 K / 741.0 K bytes)\n"
     ]
    },
    {
     "name": "stderr",
     "output_type": "stream",
     "text": [
      "2025-05-13 13:50:20,449 - CRDS - INFO -  Fetching  /home/runner/crds/mappings/jwst/jwst_niriss_area_0014.rmap    2.7 K bytes  (89 / 204 files) (264.3 K / 741.0 K bytes)\n"
     ]
    },
    {
     "name": "stderr",
     "output_type": "stream",
     "text": [
      "2025-05-13 13:50:20,554 - CRDS - INFO -  Fetching  /home/runner/crds/mappings/jwst/jwst_niriss_apcorr_0010.rmap    4.3 K bytes  (90 / 204 files) (267.0 K / 741.0 K bytes)\n"
     ]
    },
    {
     "name": "stderr",
     "output_type": "stream",
     "text": [
      "2025-05-13 13:50:20,651 - CRDS - INFO -  Fetching  /home/runner/crds/mappings/jwst/jwst_niriss_abvegaoffset_0004.rmap    1.4 K bytes  (91 / 204 files) (271.3 K / 741.0 K bytes)\n"
     ]
    },
    {
     "name": "stderr",
     "output_type": "stream",
     "text": [
      "2025-05-13 13:50:20,734 - CRDS - INFO -  Fetching  /home/runner/crds/mappings/jwst/jwst_niriss_0272.imap      5.8 K bytes  (92 / 204 files) (272.7 K / 741.0 K bytes)\n"
     ]
    },
    {
     "name": "stderr",
     "output_type": "stream",
     "text": [
      "2025-05-13 13:50:20,818 - CRDS - INFO -  Fetching  /home/runner/crds/mappings/jwst/jwst_nircam_wfssbkg_0004.rmap    7.2 K bytes  (93 / 204 files) (278.5 K / 741.0 K bytes)\n"
     ]
    },
    {
     "name": "stderr",
     "output_type": "stream",
     "text": [
      "2025-05-13 13:50:20,903 - CRDS - INFO -  Fetching  /home/runner/crds/mappings/jwst/jwst_nircam_wavelengthrange_0010.rmap      996 bytes  (94 / 204 files) (285.7 K / 741.0 K bytes)\n"
     ]
    },
    {
     "name": "stderr",
     "output_type": "stream",
     "text": [
      "2025-05-13 13:50:20,986 - CRDS - INFO -  Fetching  /home/runner/crds/mappings/jwst/jwst_nircam_tsophot_0003.rmap      896 bytes  (95 / 204 files) (286.7 K / 741.0 K bytes)\n"
     ]
    },
    {
     "name": "stderr",
     "output_type": "stream",
     "text": [
      "2025-05-13 13:50:21,067 - CRDS - INFO -  Fetching  /home/runner/crds/mappings/jwst/jwst_nircam_trappars_0003.rmap    1.6 K bytes  (96 / 204 files) (287.6 K / 741.0 K bytes)\n"
     ]
    },
    {
     "name": "stderr",
     "output_type": "stream",
     "text": [
      "2025-05-13 13:50:21,151 - CRDS - INFO -  Fetching  /home/runner/crds/mappings/jwst/jwst_nircam_trapdensity_0003.rmap    1.6 K bytes  (97 / 204 files) (289.2 K / 741.0 K bytes)\n"
     ]
    },
    {
     "name": "stderr",
     "output_type": "stream",
     "text": [
      "2025-05-13 13:50:21,270 - CRDS - INFO -  Fetching  /home/runner/crds/mappings/jwst/jwst_nircam_superbias_0019.rmap   18.9 K bytes  (98 / 204 files) (290.8 K / 741.0 K bytes)\n"
     ]
    },
    {
     "name": "stderr",
     "output_type": "stream",
     "text": [
      "2025-05-13 13:50:21,402 - CRDS - INFO -  Fetching  /home/runner/crds/mappings/jwst/jwst_nircam_specwcs_0022.rmap    7.1 K bytes  (99 / 204 files) (309.7 K / 741.0 K bytes)\n"
     ]
    },
    {
     "name": "stderr",
     "output_type": "stream",
     "text": [
      "2025-05-13 13:50:21,488 - CRDS - INFO -  Fetching  /home/runner/crds/mappings/jwst/jwst_nircam_sirskernel_0002.rmap      671 bytes  (100 / 204 files) (316.8 K / 741.0 K bytes)\n"
     ]
    },
    {
     "name": "stderr",
     "output_type": "stream",
     "text": [
      "2025-05-13 13:50:21,573 - CRDS - INFO -  Fetching  /home/runner/crds/mappings/jwst/jwst_nircam_saturation_0011.rmap    2.8 K bytes  (101 / 204 files) (317.5 K / 741.0 K bytes)\n"
     ]
    },
    {
     "name": "stderr",
     "output_type": "stream",
     "text": [
      "2025-05-13 13:50:21,657 - CRDS - INFO -  Fetching  /home/runner/crds/mappings/jwst/jwst_nircam_readnoise_0026.rmap   25.9 K bytes  (102 / 204 files) (320.3 K / 741.0 K bytes)\n"
     ]
    },
    {
     "name": "stderr",
     "output_type": "stream",
     "text": [
      "2025-05-13 13:50:21,792 - CRDS - INFO -  Fetching  /home/runner/crds/mappings/jwst/jwst_nircam_psfmask_0008.rmap   28.4 K bytes  (103 / 204 files) (346.2 K / 741.0 K bytes)\n"
     ]
    },
    {
     "name": "stderr",
     "output_type": "stream",
     "text": [
      "2025-05-13 13:50:21,928 - CRDS - INFO -  Fetching  /home/runner/crds/mappings/jwst/jwst_nircam_photom_0028.rmap    3.4 K bytes  (104 / 204 files) (374.6 K / 741.0 K bytes)\n"
     ]
    },
    {
     "name": "stderr",
     "output_type": "stream",
     "text": [
      "2025-05-13 13:50:22,010 - CRDS - INFO -  Fetching  /home/runner/crds/mappings/jwst/jwst_nircam_persat_0005.rmap    1.6 K bytes  (105 / 204 files) (377.9 K / 741.0 K bytes)\n"
     ]
    },
    {
     "name": "stderr",
     "output_type": "stream",
     "text": [
      "2025-05-13 13:50:22,095 - CRDS - INFO -  Fetching  /home/runner/crds/mappings/jwst/jwst_nircam_pars-whitelightstep_0004.rmap    2.0 K bytes  (106 / 204 files) (379.5 K / 741.0 K bytes)\n"
     ]
    },
    {
     "name": "stderr",
     "output_type": "stream",
     "text": [
      "2025-05-13 13:50:22,205 - CRDS - INFO -  Fetching  /home/runner/crds/mappings/jwst/jwst_nircam_pars-tweakregstep_0003.rmap    4.5 K bytes  (107 / 204 files) (381.5 K / 741.0 K bytes)\n"
     ]
    },
    {
     "name": "stderr",
     "output_type": "stream",
     "text": [
      "2025-05-13 13:50:22,313 - CRDS - INFO -  Fetching  /home/runner/crds/mappings/jwst/jwst_nircam_pars-spec2pipeline_0008.rmap      984 bytes  (108 / 204 files) (386.0 K / 741.0 K bytes)\n"
     ]
    },
    {
     "name": "stderr",
     "output_type": "stream",
     "text": [
      "2025-05-13 13:50:22,396 - CRDS - INFO -  Fetching  /home/runner/crds/mappings/jwst/jwst_nircam_pars-sourcecatalogstep_0002.rmap    4.6 K bytes  (109 / 204 files) (387.0 K / 741.0 K bytes)\n"
     ]
    },
    {
     "name": "stderr",
     "output_type": "stream",
     "text": [
      "2025-05-13 13:50:22,480 - CRDS - INFO -  Fetching  /home/runner/crds/mappings/jwst/jwst_nircam_pars-resamplestep_0002.rmap      687 bytes  (110 / 204 files) (391.6 K / 741.0 K bytes)\n"
     ]
    },
    {
     "name": "stderr",
     "output_type": "stream",
     "text": [
      "2025-05-13 13:50:22,562 - CRDS - INFO -  Fetching  /home/runner/crds/mappings/jwst/jwst_nircam_pars-outlierdetectionstep_0003.rmap      940 bytes  (111 / 204 files) (392.3 K / 741.0 K bytes)\n"
     ]
    },
    {
     "name": "stderr",
     "output_type": "stream",
     "text": [
      "2025-05-13 13:50:22,653 - CRDS - INFO -  Fetching  /home/runner/crds/mappings/jwst/jwst_nircam_pars-jumpstep_0005.rmap      806 bytes  (112 / 204 files) (393.2 K / 741.0 K bytes)\n"
     ]
    },
    {
     "name": "stderr",
     "output_type": "stream",
     "text": [
      "2025-05-13 13:50:22,740 - CRDS - INFO -  Fetching  /home/runner/crds/mappings/jwst/jwst_nircam_pars-image2pipeline_0004.rmap    1.1 K bytes  (113 / 204 files) (394.0 K / 741.0 K bytes)\n"
     ]
    },
    {
     "name": "stderr",
     "output_type": "stream",
     "text": [
      "2025-05-13 13:50:22,849 - CRDS - INFO -  Fetching  /home/runner/crds/mappings/jwst/jwst_nircam_pars-detector1pipeline_0005.rmap    1.3 K bytes  (114 / 204 files) (395.2 K / 741.0 K bytes)\n"
     ]
    },
    {
     "name": "stderr",
     "output_type": "stream",
     "text": [
      "2025-05-13 13:50:22,953 - CRDS - INFO -  Fetching  /home/runner/crds/mappings/jwst/jwst_nircam_pars-darkpipeline_0002.rmap      868 bytes  (115 / 204 files) (396.4 K / 741.0 K bytes)\n"
     ]
    },
    {
     "name": "stderr",
     "output_type": "stream",
     "text": [
      "2025-05-13 13:50:23,036 - CRDS - INFO -  Fetching  /home/runner/crds/mappings/jwst/jwst_nircam_pars-darkcurrentstep_0001.rmap      618 bytes  (116 / 204 files) (397.3 K / 741.0 K bytes)\n"
     ]
    },
    {
     "name": "stderr",
     "output_type": "stream",
     "text": [
      "2025-05-13 13:50:23,116 - CRDS - INFO -  Fetching  /home/runner/crds/mappings/jwst/jwst_nircam_mask_0012.rmap    4.1 K bytes  (117 / 204 files) (397.9 K / 741.0 K bytes)\n"
     ]
    },
    {
     "name": "stderr",
     "output_type": "stream",
     "text": [
      "2025-05-13 13:50:23,201 - CRDS - INFO -  Fetching  /home/runner/crds/mappings/jwst/jwst_nircam_linearity_0011.rmap    2.4 K bytes  (118 / 204 files) (402.1 K / 741.0 K bytes)\n"
     ]
    },
    {
     "name": "stderr",
     "output_type": "stream",
     "text": [
      "2025-05-13 13:50:23,286 - CRDS - INFO -  Fetching  /home/runner/crds/mappings/jwst/jwst_nircam_ipc_0003.rmap    2.0 K bytes  (119 / 204 files) (404.5 K / 741.0 K bytes)\n"
     ]
    },
    {
     "name": "stderr",
     "output_type": "stream",
     "text": [
      "2025-05-13 13:50:23,371 - CRDS - INFO -  Fetching  /home/runner/crds/mappings/jwst/jwst_nircam_gain_0016.rmap    2.1 K bytes  (120 / 204 files) (406.4 K / 741.0 K bytes)\n"
     ]
    },
    {
     "name": "stderr",
     "output_type": "stream",
     "text": [
      "2025-05-13 13:50:23,457 - CRDS - INFO -  Fetching  /home/runner/crds/mappings/jwst/jwst_nircam_flat_0028.rmap   51.7 K bytes  (121 / 204 files) (408.6 K / 741.0 K bytes)\n"
     ]
    },
    {
     "name": "stderr",
     "output_type": "stream",
     "text": [
      "2025-05-13 13:50:23,576 - CRDS - INFO -  Fetching  /home/runner/crds/mappings/jwst/jwst_nircam_filteroffset_0004.rmap    1.4 K bytes  (122 / 204 files) (460.2 K / 741.0 K bytes)\n"
     ]
    },
    {
     "name": "stderr",
     "output_type": "stream",
     "text": [
      "2025-05-13 13:50:23,657 - CRDS - INFO -  Fetching  /home/runner/crds/mappings/jwst/jwst_nircam_extract1d_0005.rmap    1.2 K bytes  (123 / 204 files) (461.7 K / 741.0 K bytes)\n"
     ]
    },
    {
     "name": "stderr",
     "output_type": "stream",
     "text": [
      "2025-05-13 13:50:23,742 - CRDS - INFO -  Fetching  /home/runner/crds/mappings/jwst/jwst_nircam_drizpars_0001.rmap      519 bytes  (124 / 204 files) (462.9 K / 741.0 K bytes)\n"
     ]
    },
    {
     "name": "stderr",
     "output_type": "stream",
     "text": [
      "2025-05-13 13:50:23,831 - CRDS - INFO -  Fetching  /home/runner/crds/mappings/jwst/jwst_nircam_distortion_0033.rmap   53.4 K bytes  (125 / 204 files) (463.4 K / 741.0 K bytes)\n"
     ]
    },
    {
     "name": "stderr",
     "output_type": "stream",
     "text": [
      "2025-05-13 13:50:23,963 - CRDS - INFO -  Fetching  /home/runner/crds/mappings/jwst/jwst_nircam_dark_0047.rmap   29.0 K bytes  (126 / 204 files) (516.7 K / 741.0 K bytes)\n"
     ]
    },
    {
     "name": "stderr",
     "output_type": "stream",
     "text": [
      "2025-05-13 13:50:24,068 - CRDS - INFO -  Fetching  /home/runner/crds/mappings/jwst/jwst_nircam_area_0012.rmap   33.5 K bytes  (127 / 204 files) (545.7 K / 741.0 K bytes)\n"
     ]
    },
    {
     "name": "stderr",
     "output_type": "stream",
     "text": [
      "2025-05-13 13:50:24,174 - CRDS - INFO -  Fetching  /home/runner/crds/mappings/jwst/jwst_nircam_apcorr_0008.rmap    4.3 K bytes  (128 / 204 files) (579.2 K / 741.0 K bytes)\n"
     ]
    },
    {
     "name": "stderr",
     "output_type": "stream",
     "text": [
      "2025-05-13 13:50:24,260 - CRDS - INFO -  Fetching  /home/runner/crds/mappings/jwst/jwst_nircam_abvegaoffset_0003.rmap    1.3 K bytes  (129 / 204 files) (583.5 K / 741.0 K bytes)\n"
     ]
    },
    {
     "name": "stderr",
     "output_type": "stream",
     "text": [
      "2025-05-13 13:50:24,340 - CRDS - INFO -  Fetching  /home/runner/crds/mappings/jwst/jwst_nircam_0314.imap      5.6 K bytes  (130 / 204 files) (584.8 K / 741.0 K bytes)\n"
     ]
    },
    {
     "name": "stderr",
     "output_type": "stream",
     "text": [
      "2025-05-13 13:50:24,429 - CRDS - INFO -  Fetching  /home/runner/crds/mappings/jwst/jwst_miri_wavelengthrange_0027.rmap      929 bytes  (131 / 204 files) (590.4 K / 741.0 K bytes)\n"
     ]
    },
    {
     "name": "stderr",
     "output_type": "stream",
     "text": [
      "2025-05-13 13:50:24,512 - CRDS - INFO -  Fetching  /home/runner/crds/mappings/jwst/jwst_miri_tsophot_0004.rmap      882 bytes  (132 / 204 files) (591.3 K / 741.0 K bytes)\n"
     ]
    },
    {
     "name": "stderr",
     "output_type": "stream",
     "text": [
      "2025-05-13 13:50:24,596 - CRDS - INFO -  Fetching  /home/runner/crds/mappings/jwst/jwst_miri_straymask_0009.rmap      987 bytes  (133 / 204 files) (592.2 K / 741.0 K bytes)\n"
     ]
    },
    {
     "name": "stderr",
     "output_type": "stream",
     "text": [
      "2025-05-13 13:50:24,682 - CRDS - INFO -  Fetching  /home/runner/crds/mappings/jwst/jwst_miri_specwcs_0043.rmap    5.8 K bytes  (134 / 204 files) (593.2 K / 741.0 K bytes)\n"
     ]
    },
    {
     "name": "stderr",
     "output_type": "stream",
     "text": [
      "2025-05-13 13:50:24,766 - CRDS - INFO -  Fetching  /home/runner/crds/mappings/jwst/jwst_miri_saturation_0015.rmap    1.2 K bytes  (135 / 204 files) (599.0 K / 741.0 K bytes)\n"
     ]
    },
    {
     "name": "stderr",
     "output_type": "stream",
     "text": [
      "2025-05-13 13:50:24,848 - CRDS - INFO -  Fetching  /home/runner/crds/mappings/jwst/jwst_miri_rscd_0008.rmap    1.0 K bytes  (136 / 204 files) (600.1 K / 741.0 K bytes)\n"
     ]
    },
    {
     "name": "stderr",
     "output_type": "stream",
     "text": [
      "2025-05-13 13:50:24,933 - CRDS - INFO -  Fetching  /home/runner/crds/mappings/jwst/jwst_miri_resol_0006.rmap      790 bytes  (137 / 204 files) (601.2 K / 741.0 K bytes)\n"
     ]
    },
    {
     "name": "stderr",
     "output_type": "stream",
     "text": [
      "2025-05-13 13:50:25,015 - CRDS - INFO -  Fetching  /home/runner/crds/mappings/jwst/jwst_miri_reset_0026.rmap    3.9 K bytes  (138 / 204 files) (602.0 K / 741.0 K bytes)\n"
     ]
    },
    {
     "name": "stderr",
     "output_type": "stream",
     "text": [
      "2025-05-13 13:50:25,100 - CRDS - INFO -  Fetching  /home/runner/crds/mappings/jwst/jwst_miri_regions_0034.rmap    5.2 K bytes  (139 / 204 files) (605.8 K / 741.0 K bytes)\n"
     ]
    },
    {
     "name": "stderr",
     "output_type": "stream",
     "text": [
      "2025-05-13 13:50:25,181 - CRDS - INFO -  Fetching  /home/runner/crds/mappings/jwst/jwst_miri_readnoise_0023.rmap    1.6 K bytes  (140 / 204 files) (611.0 K / 741.0 K bytes)\n"
     ]
    },
    {
     "name": "stderr",
     "output_type": "stream",
     "text": [
      "2025-05-13 13:50:25,286 - CRDS - INFO -  Fetching  /home/runner/crds/mappings/jwst/jwst_miri_psfmask_0009.rmap    2.1 K bytes  (141 / 204 files) (612.7 K / 741.0 K bytes)\n"
     ]
    },
    {
     "name": "stderr",
     "output_type": "stream",
     "text": [
      "2025-05-13 13:50:25,368 - CRDS - INFO -  Fetching  /home/runner/crds/mappings/jwst/jwst_miri_psf_0003.rmap      839 bytes  (142 / 204 files) (614.8 K / 741.0 K bytes)\n"
     ]
    },
    {
     "name": "stderr",
     "output_type": "stream",
     "text": [
      "2025-05-13 13:50:25,455 - CRDS - INFO -  Fetching  /home/runner/crds/mappings/jwst/jwst_miri_photom_0056.rmap    3.7 K bytes  (143 / 204 files) (615.6 K / 741.0 K bytes)\n"
     ]
    },
    {
     "name": "stderr",
     "output_type": "stream",
     "text": [
      "2025-05-13 13:50:25,539 - CRDS - INFO -  Fetching  /home/runner/crds/mappings/jwst/jwst_miri_pathloss_0005.rmap      866 bytes  (144 / 204 files) (619.4 K / 741.0 K bytes)\n"
     ]
    },
    {
     "name": "stderr",
     "output_type": "stream",
     "text": [
      "2025-05-13 13:50:25,629 - CRDS - INFO -  Fetching  /home/runner/crds/mappings/jwst/jwst_miri_pars-whitelightstep_0003.rmap      912 bytes  (145 / 204 files) (620.2 K / 741.0 K bytes)\n"
     ]
    },
    {
     "name": "stderr",
     "output_type": "stream",
     "text": [
      "2025-05-13 13:50:25,737 - CRDS - INFO -  Fetching  /home/runner/crds/mappings/jwst/jwst_miri_pars-tweakregstep_0003.rmap    1.8 K bytes  (146 / 204 files) (621.2 K / 741.0 K bytes)\n"
     ]
    },
    {
     "name": "stderr",
     "output_type": "stream",
     "text": [
      "2025-05-13 13:50:25,821 - CRDS - INFO -  Fetching  /home/runner/crds/mappings/jwst/jwst_miri_pars-spec3pipeline_0009.rmap      816 bytes  (147 / 204 files) (623.0 K / 741.0 K bytes)\n"
     ]
    },
    {
     "name": "stderr",
     "output_type": "stream",
     "text": [
      "2025-05-13 13:50:25,929 - CRDS - INFO -  Fetching  /home/runner/crds/mappings/jwst/jwst_miri_pars-spec2pipeline_0012.rmap    1.3 K bytes  (148 / 204 files) (623.8 K / 741.0 K bytes)\n"
     ]
    },
    {
     "name": "stderr",
     "output_type": "stream",
     "text": [
      "2025-05-13 13:50:26,018 - CRDS - INFO -  Fetching  /home/runner/crds/mappings/jwst/jwst_miri_pars-sourcecatalogstep_0003.rmap    1.9 K bytes  (149 / 204 files) (625.1 K / 741.0 K bytes)\n"
     ]
    },
    {
     "name": "stderr",
     "output_type": "stream",
     "text": [
      "2025-05-13 13:50:26,102 - CRDS - INFO -  Fetching  /home/runner/crds/mappings/jwst/jwst_miri_pars-resamplestep_0002.rmap      677 bytes  (150 / 204 files) (627.0 K / 741.0 K bytes)\n"
     ]
    },
    {
     "name": "stderr",
     "output_type": "stream",
     "text": [
      "2025-05-13 13:50:26,188 - CRDS - INFO -  Fetching  /home/runner/crds/mappings/jwst/jwst_miri_pars-resamplespecstep_0002.rmap      706 bytes  (151 / 204 files) (627.7 K / 741.0 K bytes)\n"
     ]
    },
    {
     "name": "stderr",
     "output_type": "stream",
     "text": [
      "2025-05-13 13:50:26,272 - CRDS - INFO -  Fetching  /home/runner/crds/mappings/jwst/jwst_miri_pars-outlierdetectionstep_0020.rmap    3.4 K bytes  (152 / 204 files) (628.4 K / 741.0 K bytes)\n"
     ]
    },
    {
     "name": "stderr",
     "output_type": "stream",
     "text": [
      "2025-05-13 13:50:26,354 - CRDS - INFO -  Fetching  /home/runner/crds/mappings/jwst/jwst_miri_pars-jumpstep_0011.rmap    1.6 K bytes  (153 / 204 files) (631.8 K / 741.0 K bytes)\n"
     ]
    },
    {
     "name": "stderr",
     "output_type": "stream",
     "text": [
      "2025-05-13 13:50:26,438 - CRDS - INFO -  Fetching  /home/runner/crds/mappings/jwst/jwst_miri_pars-image2pipeline_0010.rmap    1.1 K bytes  (154 / 204 files) (633.4 K / 741.0 K bytes)\n"
     ]
    },
    {
     "name": "stderr",
     "output_type": "stream",
     "text": [
      "2025-05-13 13:50:26,519 - CRDS - INFO -  Fetching  /home/runner/crds/mappings/jwst/jwst_miri_pars-extract1dstep_0003.rmap      807 bytes  (155 / 204 files) (634.5 K / 741.0 K bytes)\n"
     ]
    },
    {
     "name": "stderr",
     "output_type": "stream",
     "text": [
      "2025-05-13 13:50:26,624 - CRDS - INFO -  Fetching  /home/runner/crds/mappings/jwst/jwst_miri_pars-emicorrstep_0003.rmap      796 bytes  (156 / 204 files) (635.3 K / 741.0 K bytes)\n"
     ]
    },
    {
     "name": "stderr",
     "output_type": "stream",
     "text": [
      "2025-05-13 13:50:26,705 - CRDS - INFO -  Fetching  /home/runner/crds/mappings/jwst/jwst_miri_pars-detector1pipeline_0010.rmap    1.6 K bytes  (157 / 204 files) (636.1 K / 741.0 K bytes)\n"
     ]
    },
    {
     "name": "stderr",
     "output_type": "stream",
     "text": [
      "2025-05-13 13:50:26,812 - CRDS - INFO -  Fetching  /home/runner/crds/mappings/jwst/jwst_miri_pars-darkpipeline_0002.rmap      860 bytes  (158 / 204 files) (637.7 K / 741.0 K bytes)\n"
     ]
    },
    {
     "name": "stderr",
     "output_type": "stream",
     "text": [
      "2025-05-13 13:50:26,897 - CRDS - INFO -  Fetching  /home/runner/crds/mappings/jwst/jwst_miri_pars-darkcurrentstep_0002.rmap      683 bytes  (159 / 204 files) (638.5 K / 741.0 K bytes)\n"
     ]
    },
    {
     "name": "stderr",
     "output_type": "stream",
     "text": [
      "2025-05-13 13:50:27,003 - CRDS - INFO -  Fetching  /home/runner/crds/mappings/jwst/jwst_miri_mrsxartcorr_0002.rmap    2.2 K bytes  (160 / 204 files) (639.2 K / 741.0 K bytes)\n"
     ]
    },
    {
     "name": "stderr",
     "output_type": "stream",
     "text": [
      "2025-05-13 13:50:27,085 - CRDS - INFO -  Fetching  /home/runner/crds/mappings/jwst/jwst_miri_mrsptcorr_0005.rmap    2.0 K bytes  (161 / 204 files) (641.4 K / 741.0 K bytes)\n"
     ]
    },
    {
     "name": "stderr",
     "output_type": "stream",
     "text": [
      "2025-05-13 13:50:27,166 - CRDS - INFO -  Fetching  /home/runner/crds/mappings/jwst/jwst_miri_mask_0026.rmap    4.3 K bytes  (162 / 204 files) (643.3 K / 741.0 K bytes)\n"
     ]
    },
    {
     "name": "stderr",
     "output_type": "stream",
     "text": [
      "2025-05-13 13:50:27,248 - CRDS - INFO -  Fetching  /home/runner/crds/mappings/jwst/jwst_miri_linearity_0018.rmap    2.8 K bytes  (163 / 204 files) (647.6 K / 741.0 K bytes)\n"
     ]
    },
    {
     "name": "stderr",
     "output_type": "stream",
     "text": [
      "2025-05-13 13:50:27,330 - CRDS - INFO -  Fetching  /home/runner/crds/mappings/jwst/jwst_miri_ipc_0008.rmap      700 bytes  (164 / 204 files) (650.4 K / 741.0 K bytes)\n"
     ]
    },
    {
     "name": "stderr",
     "output_type": "stream",
     "text": [
      "2025-05-13 13:50:27,411 - CRDS - INFO -  Fetching  /home/runner/crds/mappings/jwst/jwst_miri_gain_0013.rmap    3.9 K bytes  (165 / 204 files) (651.1 K / 741.0 K bytes)\n"
     ]
    },
    {
     "name": "stderr",
     "output_type": "stream",
     "text": [
      "2025-05-13 13:50:27,515 - CRDS - INFO -  Fetching  /home/runner/crds/mappings/jwst/jwst_miri_fringefreq_0003.rmap    1.4 K bytes  (166 / 204 files) (655.0 K / 741.0 K bytes)\n"
     ]
    },
    {
     "name": "stderr",
     "output_type": "stream",
     "text": [
      "2025-05-13 13:50:27,609 - CRDS - INFO -  Fetching  /home/runner/crds/mappings/jwst/jwst_miri_fringe_0019.rmap    3.9 K bytes  (167 / 204 files) (656.5 K / 741.0 K bytes)\n"
     ]
    },
    {
     "name": "stderr",
     "output_type": "stream",
     "text": [
      "2025-05-13 13:50:27,691 - CRDS - INFO -  Fetching  /home/runner/crds/mappings/jwst/jwst_miri_flat_0066.rmap   15.7 K bytes  (168 / 204 files) (660.4 K / 741.0 K bytes)\n"
     ]
    },
    {
     "name": "stderr",
     "output_type": "stream",
     "text": [
      "2025-05-13 13:50:27,828 - CRDS - INFO -  Fetching  /home/runner/crds/mappings/jwst/jwst_miri_filteroffset_0025.rmap    2.5 K bytes  (169 / 204 files) (676.1 K / 741.0 K bytes)\n"
     ]
    },
    {
     "name": "stderr",
     "output_type": "stream",
     "text": [
      "2025-05-13 13:50:27,911 - CRDS - INFO -  Fetching  /home/runner/crds/mappings/jwst/jwst_miri_extract1d_0020.rmap    1.4 K bytes  (170 / 204 files) (678.6 K / 741.0 K bytes)\n"
     ]
    },
    {
     "name": "stderr",
     "output_type": "stream",
     "text": [
      "2025-05-13 13:50:27,993 - CRDS - INFO -  Fetching  /home/runner/crds/mappings/jwst/jwst_miri_emicorr_0003.rmap      663 bytes  (171 / 204 files) (679.9 K / 741.0 K bytes)\n"
     ]
    },
    {
     "name": "stderr",
     "output_type": "stream",
     "text": [
      "2025-05-13 13:50:28,075 - CRDS - INFO -  Fetching  /home/runner/crds/mappings/jwst/jwst_miri_drizpars_0002.rmap      511 bytes  (172 / 204 files) (680.6 K / 741.0 K bytes)\n"
     ]
    },
    {
     "name": "stderr",
     "output_type": "stream",
     "text": [
      "2025-05-13 13:50:28,162 - CRDS - INFO -  Fetching  /home/runner/crds/mappings/jwst/jwst_miri_distortion_0040.rmap    4.9 K bytes  (173 / 204 files) (681.1 K / 741.0 K bytes)\n"
     ]
    },
    {
     "name": "stderr",
     "output_type": "stream",
     "text": [
      "2025-05-13 13:50:28,245 - CRDS - INFO -  Fetching  /home/runner/crds/mappings/jwst/jwst_miri_dark_0036.rmap    4.4 K bytes  (174 / 204 files) (686.0 K / 741.0 K bytes)\n"
     ]
    },
    {
     "name": "stderr",
     "output_type": "stream",
     "text": [
      "2025-05-13 13:50:28,324 - CRDS - INFO -  Fetching  /home/runner/crds/mappings/jwst/jwst_miri_cubepar_0017.rmap      800 bytes  (175 / 204 files) (690.4 K / 741.0 K bytes)\n"
     ]
    },
    {
     "name": "stderr",
     "output_type": "stream",
     "text": [
      "2025-05-13 13:50:28,403 - CRDS - INFO -  Fetching  /home/runner/crds/mappings/jwst/jwst_miri_area_0015.rmap      866 bytes  (176 / 204 files) (691.2 K / 741.0 K bytes)\n"
     ]
    },
    {
     "name": "stderr",
     "output_type": "stream",
     "text": [
      "2025-05-13 13:50:28,484 - CRDS - INFO -  Fetching  /home/runner/crds/mappings/jwst/jwst_miri_apcorr_0019.rmap    5.0 K bytes  (177 / 204 files) (692.0 K / 741.0 K bytes)\n"
     ]
    },
    {
     "name": "stderr",
     "output_type": "stream",
     "text": [
      "2025-05-13 13:50:28,566 - CRDS - INFO -  Fetching  /home/runner/crds/mappings/jwst/jwst_miri_abvegaoffset_0003.rmap    1.3 K bytes  (178 / 204 files) (697.0 K / 741.0 K bytes)\n"
     ]
    },
    {
     "name": "stderr",
     "output_type": "stream",
     "text": [
      "2025-05-13 13:50:28,647 - CRDS - INFO -  Fetching  /home/runner/crds/mappings/jwst/jwst_miri_0437.imap        5.8 K bytes  (179 / 204 files) (698.3 K / 741.0 K bytes)\n"
     ]
    },
    {
     "name": "stderr",
     "output_type": "stream",
     "text": [
      "2025-05-13 13:50:28,735 - CRDS - INFO -  Fetching  /home/runner/crds/mappings/jwst/jwst_fgs_trappars_0004.rmap      903 bytes  (180 / 204 files) (704.1 K / 741.0 K bytes)\n"
     ]
    },
    {
     "name": "stderr",
     "output_type": "stream",
     "text": [
      "2025-05-13 13:50:28,815 - CRDS - INFO -  Fetching  /home/runner/crds/mappings/jwst/jwst_fgs_trapdensity_0006.rmap      930 bytes  (181 / 204 files) (705.0 K / 741.0 K bytes)\n"
     ]
    },
    {
     "name": "stderr",
     "output_type": "stream",
     "text": [
      "2025-05-13 13:50:28,899 - CRDS - INFO -  Fetching  /home/runner/crds/mappings/jwst/jwst_fgs_superbias_0017.rmap    3.8 K bytes  (182 / 204 files) (706.0 K / 741.0 K bytes)\n"
     ]
    },
    {
     "name": "stderr",
     "output_type": "stream",
     "text": [
      "2025-05-13 13:50:28,984 - CRDS - INFO -  Fetching  /home/runner/crds/mappings/jwst/jwst_fgs_saturation_0009.rmap      779 bytes  (183 / 204 files) (709.7 K / 741.0 K bytes)\n"
     ]
    },
    {
     "name": "stderr",
     "output_type": "stream",
     "text": [
      "2025-05-13 13:50:29,067 - CRDS - INFO -  Fetching  /home/runner/crds/mappings/jwst/jwst_fgs_readnoise_0014.rmap    1.3 K bytes  (184 / 204 files) (710.5 K / 741.0 K bytes)\n"
     ]
    },
    {
     "name": "stderr",
     "output_type": "stream",
     "text": [
      "2025-05-13 13:50:29,156 - CRDS - INFO -  Fetching  /home/runner/crds/mappings/jwst/jwst_fgs_photom_0014.rmap    1.1 K bytes  (185 / 204 files) (711.8 K / 741.0 K bytes)\n"
     ]
    },
    {
     "name": "stderr",
     "output_type": "stream",
     "text": [
      "2025-05-13 13:50:29,239 - CRDS - INFO -  Fetching  /home/runner/crds/mappings/jwst/jwst_fgs_persat_0006.rmap      884 bytes  (186 / 204 files) (712.9 K / 741.0 K bytes)\n"
     ]
    },
    {
     "name": "stderr",
     "output_type": "stream",
     "text": [
      "2025-05-13 13:50:29,320 - CRDS - INFO -  Fetching  /home/runner/crds/mappings/jwst/jwst_fgs_pars-tweakregstep_0002.rmap      850 bytes  (187 / 204 files) (713.8 K / 741.0 K bytes)\n"
     ]
    },
    {
     "name": "stderr",
     "output_type": "stream",
     "text": [
      "2025-05-13 13:50:29,407 - CRDS - INFO -  Fetching  /home/runner/crds/mappings/jwst/jwst_fgs_pars-sourcecatalogstep_0001.rmap      636 bytes  (188 / 204 files) (714.6 K / 741.0 K bytes)\n"
     ]
    },
    {
     "name": "stderr",
     "output_type": "stream",
     "text": [
      "2025-05-13 13:50:29,487 - CRDS - INFO -  Fetching  /home/runner/crds/mappings/jwst/jwst_fgs_pars-outlierdetectionstep_0001.rmap      654 bytes  (189 / 204 files) (715.3 K / 741.0 K bytes)\n"
     ]
    },
    {
     "name": "stderr",
     "output_type": "stream",
     "text": [
      "2025-05-13 13:50:29,570 - CRDS - INFO -  Fetching  /home/runner/crds/mappings/jwst/jwst_fgs_pars-image2pipeline_0005.rmap      974 bytes  (190 / 204 files) (715.9 K / 741.0 K bytes)\n"
     ]
    },
    {
     "name": "stderr",
     "output_type": "stream",
     "text": [
      "2025-05-13 13:50:29,658 - CRDS - INFO -  Fetching  /home/runner/crds/mappings/jwst/jwst_fgs_pars-detector1pipeline_0002.rmap    1.0 K bytes  (191 / 204 files) (716.9 K / 741.0 K bytes)\n"
     ]
    },
    {
     "name": "stderr",
     "output_type": "stream",
     "text": [
      "2025-05-13 13:50:29,764 - CRDS - INFO -  Fetching  /home/runner/crds/mappings/jwst/jwst_fgs_pars-darkpipeline_0002.rmap      856 bytes  (192 / 204 files) (717.9 K / 741.0 K bytes)\n"
     ]
    },
    {
     "name": "stderr",
     "output_type": "stream",
     "text": [
      "2025-05-13 13:50:29,867 - CRDS - INFO -  Fetching  /home/runner/crds/mappings/jwst/jwst_fgs_mask_0023.rmap    1.1 K bytes  (193 / 204 files) (718.8 K / 741.0 K bytes)\n"
     ]
    },
    {
     "name": "stderr",
     "output_type": "stream",
     "text": [
      "2025-05-13 13:50:29,970 - CRDS - INFO -  Fetching  /home/runner/crds/mappings/jwst/jwst_fgs_linearity_0015.rmap      925 bytes  (194 / 204 files) (719.8 K / 741.0 K bytes)\n"
     ]
    },
    {
     "name": "stderr",
     "output_type": "stream",
     "text": [
      "2025-05-13 13:50:30,075 - CRDS - INFO -  Fetching  /home/runner/crds/mappings/jwst/jwst_fgs_ipc_0003.rmap       614 bytes  (195 / 204 files) (720.8 K / 741.0 K bytes)\n"
     ]
    },
    {
     "name": "stderr",
     "output_type": "stream",
     "text": [
      "2025-05-13 13:50:30,156 - CRDS - INFO -  Fetching  /home/runner/crds/mappings/jwst/jwst_fgs_gain_0010.rmap      890 bytes  (196 / 204 files) (721.4 K / 741.0 K bytes)\n"
     ]
    },
    {
     "name": "stderr",
     "output_type": "stream",
     "text": [
      "2025-05-13 13:50:30,246 - CRDS - INFO -  Fetching  /home/runner/crds/mappings/jwst/jwst_fgs_flat_0009.rmap    1.1 K bytes  (197 / 204 files) (722.3 K / 741.0 K bytes)\n"
     ]
    },
    {
     "name": "stderr",
     "output_type": "stream",
     "text": [
      "2025-05-13 13:50:30,328 - CRDS - INFO -  Fetching  /home/runner/crds/mappings/jwst/jwst_fgs_distortion_0011.rmap    1.2 K bytes  (198 / 204 files) (723.4 K / 741.0 K bytes)\n"
     ]
    },
    {
     "name": "stderr",
     "output_type": "stream",
     "text": [
      "2025-05-13 13:50:30,424 - CRDS - INFO -  Fetching  /home/runner/crds/mappings/jwst/jwst_fgs_dark_0017.rmap    4.3 K bytes  (199 / 204 files) (724.6 K / 741.0 K bytes)\n"
     ]
    },
    {
     "name": "stderr",
     "output_type": "stream",
     "text": [
      "2025-05-13 13:50:30,513 - CRDS - INFO -  Fetching  /home/runner/crds/mappings/jwst/jwst_fgs_area_0010.rmap    1.2 K bytes  (200 / 204 files) (728.9 K / 741.0 K bytes)\n"
     ]
    },
    {
     "name": "stderr",
     "output_type": "stream",
     "text": [
      "2025-05-13 13:50:30,593 - CRDS - INFO -  Fetching  /home/runner/crds/mappings/jwst/jwst_fgs_apcorr_0004.rmap    4.0 K bytes  (201 / 204 files) (730.1 K / 741.0 K bytes)\n"
     ]
    },
    {
     "name": "stderr",
     "output_type": "stream",
     "text": [
      "2025-05-13 13:50:30,677 - CRDS - INFO -  Fetching  /home/runner/crds/mappings/jwst/jwst_fgs_abvegaoffset_0002.rmap    1.3 K bytes  (202 / 204 files) (734.0 K / 741.0 K bytes)\n"
     ]
    },
    {
     "name": "stderr",
     "output_type": "stream",
     "text": [
      "2025-05-13 13:50:30,759 - CRDS - INFO -  Fetching  /home/runner/crds/mappings/jwst/jwst_fgs_0123.imap         5.1 K bytes  (203 / 204 files) (735.3 K / 741.0 K bytes)\n"
     ]
    },
    {
     "name": "stderr",
     "output_type": "stream",
     "text": [
      "2025-05-13 13:50:30,840 - CRDS - INFO -  Fetching  /home/runner/crds/mappings/jwst/jwst_1364.pmap               580 bytes  (204 / 204 files) (740.4 K / 741.0 K bytes)\n"
     ]
    },
    {
     "name": "stderr",
     "output_type": "stream",
     "text": [
      "2025-05-13 13:50:31,081 - CRDS - INFO -  Fetching  /home/runner/crds/references/jwst/miri/jwst_miri_pars-emicorrstep_0003.asdf    1.0 K bytes  (1 / 1 files) (0 / 1.0 K bytes)\n"
     ]
    },
    {
     "name": "stderr",
     "output_type": "stream",
     "text": [
      "2025-05-13 13:50:31,185 - stpipe - INFO - PARS-EMICORRSTEP parameters found: /home/runner/crds/references/jwst/miri/jwst_miri_pars-emicorrstep_0003.asdf\n"
     ]
    },
    {
     "name": "stderr",
     "output_type": "stream",
     "text": [
      "2025-05-13 13:50:31,200 - CRDS - INFO -  Fetching  /home/runner/crds/references/jwst/miri/jwst_miri_pars-darkcurrentstep_0001.asdf      936 bytes  (1 / 1 files) (0 / 936 bytes)\n"
     ]
    },
    {
     "name": "stderr",
     "output_type": "stream",
     "text": [
      "2025-05-13 13:50:31,283 - stpipe - INFO - PARS-DARKCURRENTSTEP parameters found: /home/runner/crds/references/jwst/miri/jwst_miri_pars-darkcurrentstep_0001.asdf\n"
     ]
    },
    {
     "name": "stderr",
     "output_type": "stream",
     "text": [
      "2025-05-13 13:50:31,293 - CRDS - INFO -  Fetching  /home/runner/crds/references/jwst/miri/jwst_miri_pars-jumpstep_0005.asdf    1.9 K bytes  (1 / 1 files) (0 / 1.9 K bytes)\n"
     ]
    },
    {
     "name": "stderr",
     "output_type": "stream",
     "text": [
      "2025-05-13 13:50:31,379 - stpipe - INFO - PARS-JUMPSTEP parameters found: /home/runner/crds/references/jwst/miri/jwst_miri_pars-jumpstep_0005.asdf\n"
     ]
    },
    {
     "name": "stderr",
     "output_type": "stream",
     "text": [
      "2025-05-13 13:50:31,390 - CRDS - INFO -  Fetching  /home/runner/crds/references/jwst/miri/jwst_miri_pars-detector1pipeline_0006.asdf    2.0 K bytes  (1 / 1 files) (0 / 2.0 K bytes)\n"
     ]
    },
    {
     "name": "stderr",
     "output_type": "stream",
     "text": [
      "2025-05-13 13:50:31,474 - stpipe - INFO - PARS-DETECTOR1PIPELINE parameters found: /home/runner/crds/references/jwst/miri/jwst_miri_pars-detector1pipeline_0006.asdf\n"
     ]
    },
    {
     "name": "stderr",
     "output_type": "stream",
     "text": [
      "2025-05-13 13:50:31,508 - stpipe.Detector1Pipeline - INFO - Detector1Pipeline instance created.\n"
     ]
    },
    {
     "name": "stderr",
     "output_type": "stream",
     "text": [
      "2025-05-13 13:50:31,509 - stpipe.Detector1Pipeline.group_scale - INFO - GroupScaleStep instance created.\n"
     ]
    },
    {
     "name": "stderr",
     "output_type": "stream",
     "text": [
      "2025-05-13 13:50:31,509 - stpipe.Detector1Pipeline.dq_init - INFO - DQInitStep instance created.\n"
     ]
    },
    {
     "name": "stderr",
     "output_type": "stream",
     "text": [
      "2025-05-13 13:50:31,510 - stpipe.Detector1Pipeline.emicorr - INFO - EmiCorrStep instance created.\n"
     ]
    },
    {
     "name": "stderr",
     "output_type": "stream",
     "text": [
      "2025-05-13 13:50:31,511 - stpipe.Detector1Pipeline.saturation - INFO - SaturationStep instance created.\n"
     ]
    },
    {
     "name": "stderr",
     "output_type": "stream",
     "text": [
      "2025-05-13 13:50:31,512 - stpipe.Detector1Pipeline.ipc - INFO - IPCStep instance created.\n"
     ]
    },
    {
     "name": "stderr",
     "output_type": "stream",
     "text": [
      "2025-05-13 13:50:31,513 - stpipe.Detector1Pipeline.superbias - INFO - SuperBiasStep instance created.\n"
     ]
    },
    {
     "name": "stderr",
     "output_type": "stream",
     "text": [
      "2025-05-13 13:50:31,514 - stpipe.Detector1Pipeline.refpix - INFO - RefPixStep instance created.\n"
     ]
    },
    {
     "name": "stderr",
     "output_type": "stream",
     "text": [
      "2025-05-13 13:50:31,515 - stpipe.Detector1Pipeline.rscd - INFO - RscdStep instance created.\n"
     ]
    },
    {
     "name": "stderr",
     "output_type": "stream",
     "text": [
      "2025-05-13 13:50:31,516 - stpipe.Detector1Pipeline.firstframe - INFO - FirstFrameStep instance created.\n"
     ]
    },
    {
     "name": "stderr",
     "output_type": "stream",
     "text": [
      "2025-05-13 13:50:31,516 - stpipe.Detector1Pipeline.lastframe - INFO - LastFrameStep instance created.\n"
     ]
    },
    {
     "name": "stderr",
     "output_type": "stream",
     "text": [
      "2025-05-13 13:50:31,517 - stpipe.Detector1Pipeline.linearity - INFO - LinearityStep instance created.\n"
     ]
    },
    {
     "name": "stderr",
     "output_type": "stream",
     "text": [
      "2025-05-13 13:50:31,518 - stpipe.Detector1Pipeline.dark_current - INFO - DarkCurrentStep instance created.\n"
     ]
    },
    {
     "name": "stderr",
     "output_type": "stream",
     "text": [
      "2025-05-13 13:50:31,518 - stpipe.Detector1Pipeline.reset - INFO - ResetStep instance created.\n"
     ]
    },
    {
     "name": "stderr",
     "output_type": "stream",
     "text": [
      "2025-05-13 13:50:31,519 - stpipe.Detector1Pipeline.persistence - INFO - PersistenceStep instance created.\n"
     ]
    },
    {
     "name": "stderr",
     "output_type": "stream",
     "text": [
      "2025-05-13 13:50:31,521 - stpipe.Detector1Pipeline.charge_migration - INFO - ChargeMigrationStep instance created.\n"
     ]
    },
    {
     "name": "stderr",
     "output_type": "stream",
     "text": [
      "2025-05-13 13:50:31,523 - stpipe.Detector1Pipeline.jump - INFO - JumpStep instance created.\n"
     ]
    },
    {
     "name": "stderr",
     "output_type": "stream",
     "text": [
      "2025-05-13 13:50:31,524 - stpipe.Detector1Pipeline.clean_flicker_noise - INFO - CleanFlickerNoiseStep instance created.\n"
     ]
    },
    {
     "name": "stderr",
     "output_type": "stream",
     "text": [
      "2025-05-13 13:50:31,525 - stpipe.Detector1Pipeline.ramp_fit - INFO - RampFitStep instance created.\n"
     ]
    },
    {
     "name": "stderr",
     "output_type": "stream",
     "text": [
      "2025-05-13 13:50:31,526 - stpipe.Detector1Pipeline.gain_scale - INFO - GainScaleStep instance created.\n"
     ]
    },
    {
     "name": "stderr",
     "output_type": "stream",
     "text": [
      "2025-05-13 13:50:31,653 - stpipe.Detector1Pipeline - INFO - Step Detector1Pipeline running with args ('./imaging_demo_data/PID03730Obs013/uncal/jw03730013001_03101_00001-seg001_mirimage_uncal.fits',).\n"
     ]
    },
    {
     "name": "stderr",
     "output_type": "stream",
     "text": [
      "2025-05-13 13:50:31,673 - stpipe.Detector1Pipeline - INFO - Step Detector1Pipeline parameters are:\n",
      "  pre_hooks: []\n",
      "  post_hooks: []\n",
      "  output_file: None\n",
      "  output_dir: ./imaging_demo_data/PID03730Obs013/stage1\n",
      "  output_ext: .fits\n",
      "  output_use_model: False\n",
      "  output_use_index: True\n",
      "  save_results: True\n",
      "  skip: False\n",
      "  suffix: None\n",
      "  search_output_file: True\n",
      "  input_dir: ''\n",
      "  save_calibrated_ramp: True\n",
      "  steps:\n",
      "    group_scale:\n",
      "      pre_hooks: []\n",
      "      post_hooks: []\n",
      "      output_file: None\n",
      "      output_dir: None\n",
      "      output_ext: .fits\n",
      "      output_use_model: False\n",
      "      output_use_index: True\n",
      "      save_results: False\n",
      "      skip: False\n",
      "      suffix: None\n",
      "      search_output_file: True\n",
      "      input_dir: ''\n",
      "    dq_init:\n",
      "      pre_hooks: []\n",
      "      post_hooks: []\n",
      "      output_file: None\n",
      "      output_dir: None\n",
      "      output_ext: .fits\n",
      "      output_use_model: False\n",
      "      output_use_index: True\n",
      "      save_results: False\n",
      "      skip: False\n",
      "      suffix: None\n",
      "      search_output_file: True\n",
      "      input_dir: ''\n",
      "    emicorr:\n",
      "      pre_hooks: []\n",
      "      post_hooks: []\n",
      "      output_file: None\n",
      "      output_dir: None\n",
      "      output_ext: .fits\n",
      "      output_use_model: False\n",
      "      output_use_index: True\n",
      "      save_results: False\n",
      "      skip: False\n",
      "      suffix: None\n",
      "      search_output_file: True\n",
      "      input_dir: ''\n",
      "      algorithm: sequential\n",
      "      nints_to_phase: None\n",
      "      nbins: None\n",
      "      scale_reference: True\n",
      "      onthefly_corr_freq: None\n",
      "      use_n_cycles: 3\n",
      "      fit_ints_separately: False\n",
      "      user_supplied_reffile: None\n",
      "      save_intermediate_results: False\n",
      "    saturation:\n",
      "      pre_hooks: []\n",
      "      post_hooks: []\n",
      "      output_file: None\n",
      "      output_dir: None\n",
      "      output_ext: .fits\n",
      "      output_use_model: False\n",
      "      output_use_index: True\n",
      "      save_results: False\n",
      "      skip: False\n",
      "      suffix: None\n",
      "      search_output_file: True\n",
      "      input_dir: ''\n",
      "      n_pix_grow_sat: 1\n",
      "      use_readpatt: True\n",
      "    ipc:\n",
      "      pre_hooks: []\n",
      "      post_hooks: []\n",
      "      output_file: None\n",
      "      output_dir: None\n",
      "      output_ext: .fits\n",
      "      output_use_model: False\n",
      "      output_use_index: True\n",
      "      save_results: False\n",
      "      skip: True\n",
      "      suffix: None\n",
      "      search_output_file: True\n",
      "      input_dir: ''\n",
      "    superbias:\n",
      "      pre_hooks: []\n",
      "      post_hooks: []\n",
      "      output_file: None\n",
      "      output_dir: None\n",
      "      output_ext: .fits\n",
      "      output_use_model: False\n",
      "      output_use_index: True\n",
      "      save_results: False\n",
      "      skip: False\n",
      "      suffix: None\n",
      "      search_output_file: True\n",
      "      input_dir: ''\n",
      "    refpix:\n",
      "      pre_hooks: []\n",
      "      post_hooks: []\n",
      "      output_file: None\n",
      "      output_dir: None\n",
      "      output_ext: .fits\n",
      "      output_use_model: False\n",
      "      output_use_index: True\n",
      "      save_results: False\n",
      "      skip: False\n",
      "      suffix: None\n",
      "      search_output_file: True\n",
      "      input_dir: ''\n",
      "      odd_even_columns: True\n",
      "      use_side_ref_pixels: True\n",
      "      side_smoothing_length: 11\n",
      "      side_gain: 1.0\n",
      "      odd_even_rows: True\n",
      "      ovr_corr_mitigation_ftr: 3.0\n",
      "      preserve_irs2_refpix: False\n",
      "      irs2_mean_subtraction: False\n",
      "      refpix_algorithm: median\n",
      "      sigreject: 4.0\n",
      "      gaussmooth: 1.0\n",
      "      halfwidth: 30\n",
      "    rscd:\n",
      "      pre_hooks: []\n",
      "      post_hooks: []\n",
      "      output_file: None\n",
      "      output_dir: None\n",
      "      output_ext: .fits\n",
      "      output_use_model: False\n",
      "      output_use_index: True\n",
      "      save_results: False\n",
      "      skip: True\n",
      "      suffix: None\n",
      "      search_output_file: True\n",
      "      input_dir: ''\n",
      "      type: baseline\n",
      "    firstframe:\n",
      "      pre_hooks: []\n",
      "      post_hooks: []\n",
      "      output_file: None\n",
      "      output_dir: None\n",
      "      output_ext: .fits\n",
      "      output_use_model: False\n",
      "      output_use_index: True\n",
      "      save_results: False\n",
      "      skip: True\n",
      "      suffix: None\n",
      "      search_output_file: True\n",
      "      input_dir: ''\n",
      "      bright_use_group1: False\n",
      "    lastframe:\n",
      "      pre_hooks: []\n",
      "      post_hooks: []\n",
      "      output_file: None\n",
      "      output_dir: None\n",
      "      output_ext: .fits\n",
      "      output_use_model: False\n",
      "      output_use_index: True\n",
      "      save_results: False\n",
      "      skip: False\n",
      "      suffix: None\n",
      "      search_output_file: True\n",
      "      input_dir: ''\n",
      "    linearity:\n",
      "      pre_hooks: []\n",
      "      post_hooks: []\n",
      "      output_file: None\n",
      "      output_dir: None\n",
      "      output_ext: .fits\n",
      "      output_use_model: False\n",
      "      output_use_index: True\n",
      "      save_results: False\n",
      "      skip: False\n",
      "      suffix: None\n",
      "      search_output_file: True\n",
      "      input_dir: ''\n",
      "    dark_current:\n",
      "      pre_hooks: []\n",
      "      post_hooks: []\n",
      "      output_file: None\n",
      "      output_dir: None\n",
      "      output_ext: .fits\n",
      "      output_use_model: False\n",
      "      output_use_index: True\n",
      "      save_results: False\n",
      "      skip: False\n",
      "      suffix: None\n",
      "      search_output_file: True\n",
      "      input_dir: ''\n",
      "      dark_output: None\n",
      "      average_dark_current: 1.0\n",
      "    reset:\n",
      "      pre_hooks: []\n",
      "      post_hooks: []\n",
      "      output_file: None\n",
      "      output_dir: None\n",
      "      output_ext: .fits\n",
      "      output_use_model: False\n",
      "      output_use_index: True\n",
      "      save_results: False\n",
      "      skip: False\n",
      "      suffix: None\n",
      "      search_output_file: True\n",
      "      input_dir: ''\n",
      "    persistence:\n",
      "      pre_hooks: []\n",
      "      post_hooks: []\n",
      "      output_file: None\n",
      "      output_dir: None\n",
      "      output_ext: .fits\n",
      "      output_use_model: False\n",
      "      output_use_index: True\n",
      "      save_results: False\n",
      "      skip: True\n",
      "      suffix: None\n",
      "      search_output_file: True\n",
      "      input_dir: ''\n",
      "      input_trapsfilled: ''\n",
      "      flag_pers_cutoff: 40.0\n",
      "      save_persistence: False\n",
      "      save_trapsfilled: True\n",
      "      modify_input: False\n",
      "    charge_migration:\n",
      "      pre_hooks: []\n",
      "      post_hooks: []\n",
      "      output_file: None\n",
      "      output_dir: None\n",
      "      output_ext: .fits\n",
      "      output_use_model: False\n",
      "      output_use_index: True\n",
      "      save_results: False\n",
      "      skip: True\n",
      "      suffix: None\n",
      "      search_output_file: True\n",
      "      input_dir: ''\n",
      "      signal_threshold: 25000.0\n",
      "    jump:\n",
      "      pre_hooks: []\n",
      "      post_hooks: []\n",
      "      output_file: None\n",
      "      output_dir: None\n",
      "      output_ext: .fits\n",
      "      output_use_model: False\n",
      "      output_use_index: True\n",
      "      save_results: False\n",
      "      skip: False\n",
      "      suffix: None\n",
      "      search_output_file: True\n",
      "      input_dir: ''\n",
      "      rejection_threshold: 4.0\n",
      "      three_group_rejection_threshold: 6.0\n",
      "      four_group_rejection_threshold: 5.0\n",
      "      maximum_cores: half\n",
      "      flag_4_neighbors: True\n",
      "      max_jump_to_flag_neighbors: 1000\n",
      "      min_jump_to_flag_neighbors: 30\n",
      "      after_jump_flag_dn1: 500\n",
      "      after_jump_flag_time1: 15\n",
      "      after_jump_flag_dn2: 1000\n",
      "      after_jump_flag_time2: 3000\n",
      "      expand_large_events: False\n",
      "      min_sat_area: 1\n",
      "      min_jump_area: 0\n",
      "      expand_factor: 0\n",
      "      use_ellipses: False\n",
      "      sat_required_snowball: False\n",
      "      min_sat_radius_extend: 0.0\n",
      "      sat_expand: 0\n",
      "      edge_size: 0\n",
      "      mask_snowball_core_next_int: True\n",
      "      snowball_time_masked_next_int: 4000\n",
      "      find_showers: True\n",
      "      max_shower_amplitude: 4.0\n",
      "      extend_snr_threshold: 3.0\n",
      "      extend_min_area: 50\n",
      "      extend_inner_radius: 1\n",
      "      extend_outer_radius: 2.6\n",
      "      extend_ellipse_expand_ratio: 1.1\n",
      "      time_masked_after_shower: 30\n",
      "      min_diffs_single_pass: 10\n",
      "      max_extended_radius: 200\n",
      "      minimum_groups: 3\n",
      "      minimum_sigclip_groups: 100\n",
      "      only_use_ints: True\n",
      "    clean_flicker_noise:\n",
      "      pre_hooks: []\n",
      "      post_hooks: []\n",
      "      output_file: None\n",
      "      output_dir: None\n",
      "      output_ext: .fits\n",
      "      output_use_model: False\n",
      "      output_use_index: True\n",
      "      save_results: False\n",
      "      skip: True\n",
      "      suffix: None\n",
      "      search_output_file: True\n",
      "      input_dir: ''\n",
      "      fit_method: median\n",
      "      fit_by_channel: False\n",
      "      background_method: median\n",
      "      background_box_size: None\n",
      "      mask_science_regions: False\n",
      "      apply_flat_field: False\n",
      "      n_sigma: 2.0\n",
      "      fit_histogram: False\n",
      "      single_mask: True\n",
      "      user_mask: None\n",
      "      save_mask: False\n",
      "      save_background: False\n",
      "      save_noise: False\n",
      "    ramp_fit:\n",
      "      pre_hooks: []\n",
      "      post_hooks: []\n",
      "      output_file: None\n",
      "      output_dir: None\n",
      "      output_ext: .fits\n",
      "      output_use_model: False\n",
      "      output_use_index: True\n",
      "      save_results: False\n",
      "      skip: False\n",
      "      suffix: None\n",
      "      search_output_file: True\n",
      "      input_dir: ''\n",
      "      algorithm: OLS_C\n",
      "      int_name: ''\n",
      "      save_opt: False\n",
      "      opt_name: ''\n",
      "      suppress_one_group: True\n",
      "      firstgroup: None\n",
      "      lastgroup: None\n",
      "      maximum_cores: '1'\n",
      "    gain_scale:\n",
      "      pre_hooks: []\n",
      "      post_hooks: []\n",
      "      output_file: None\n",
      "      output_dir: None\n",
      "      output_ext: .fits\n",
      "      output_use_model: False\n",
      "      output_use_index: True\n",
      "      save_results: False\n",
      "      skip: False\n",
      "      suffix: None\n",
      "      search_output_file: True\n",
      "      input_dir: ''\n"
     ]
    },
    {
     "name": "stderr",
     "output_type": "stream",
     "text": [
      "2025-05-13 13:50:32,716 - stpipe.Detector1Pipeline - INFO - Prefetching reference files for dataset: 'jw03730013001_03101_00001-seg001_mirimage_uncal.fits' reftypes = ['dark', 'emicorr', 'gain', 'linearity', 'mask', 'readnoise', 'refpix', 'reset', 'saturation', 'sirskernel', 'superbias']\n"
     ]
    },
    {
     "name": "stderr",
     "output_type": "stream",
     "text": [
      "2025-05-13 13:50:32,719 - CRDS - INFO -  Fetching  /home/runner/crds/references/jwst/miri/jwst_miri_dark_0104.fits  210.3 M bytes  (1 / 8 files) (0 / 281.4 M bytes)\n"
     ]
    },
    {
     "name": "stderr",
     "output_type": "stream",
     "text": [
      "2025-05-13 13:50:47,385 - CRDS - INFO -  Fetching  /home/runner/crds/references/jwst/miri/jwst_miri_emicorr_0002.asdf   16.9 K bytes  (2 / 8 files) (210.3 M / 281.4 M bytes)\n"
     ]
    },
    {
     "name": "stderr",
     "output_type": "stream",
     "text": [
      "2025-05-13 13:50:47,483 - CRDS - INFO -  Fetching  /home/runner/crds/references/jwst/miri/jwst_miri_gain_0048.fits   12.7 M bytes  (3 / 8 files) (210.3 M / 281.4 M bytes)\n"
     ]
    },
    {
     "name": "stderr",
     "output_type": "stream",
     "text": [
      "2025-05-13 13:50:47,813 - CRDS - INFO -  Fetching  /home/runner/crds/references/jwst/miri/jwst_miri_linearity_0039.fits   25.4 M bytes  (4 / 8 files) (223.0 M / 281.4 M bytes)\n"
     ]
    },
    {
     "name": "stderr",
     "output_type": "stream",
     "text": [
      "2025-05-13 13:50:48,294 - CRDS - INFO -  Fetching  /home/runner/crds/references/jwst/miri/jwst_miri_mask_0036.fits    4.3 M bytes  (5 / 8 files) (248.4 M / 281.4 M bytes)\n"
     ]
    },
    {
     "name": "stderr",
     "output_type": "stream",
     "text": [
      "2025-05-13 13:50:48,556 - CRDS - INFO -  Fetching  /home/runner/crds/references/jwst/miri/jwst_miri_readnoise_0085.fits    4.2 M bytes  (6 / 8 files) (252.6 M / 281.4 M bytes)\n"
     ]
    },
    {
     "name": "stderr",
     "output_type": "stream",
     "text": [
      "2025-05-13 13:50:48,850 - CRDS - INFO -  Fetching  /home/runner/crds/references/jwst/miri/jwst_miri_reset_0055.fits   16.0 M bytes  (7 / 8 files) (256.9 M / 281.4 M bytes)\n"
     ]
    },
    {
     "name": "stderr",
     "output_type": "stream",
     "text": [
      "2025-05-13 13:50:49,255 - CRDS - INFO -  Fetching  /home/runner/crds/references/jwst/miri/jwst_miri_saturation_0034.fits    8.5 M bytes  (8 / 8 files) (272.9 M / 281.4 M bytes)\n"
     ]
    },
    {
     "name": "stderr",
     "output_type": "stream",
     "text": [
      "2025-05-13 13:50:49,575 - stpipe.Detector1Pipeline - INFO - Prefetch for DARK reference file is '/home/runner/crds/references/jwst/miri/jwst_miri_dark_0104.fits'.\n"
     ]
    },
    {
     "name": "stderr",
     "output_type": "stream",
     "text": [
      "2025-05-13 13:50:49,575 - stpipe.Detector1Pipeline - INFO - Prefetch for EMICORR reference file is '/home/runner/crds/references/jwst/miri/jwst_miri_emicorr_0002.asdf'.\n"
     ]
    },
    {
     "name": "stderr",
     "output_type": "stream",
     "text": [
      "2025-05-13 13:50:49,576 - stpipe.Detector1Pipeline - INFO - Prefetch for GAIN reference file is '/home/runner/crds/references/jwst/miri/jwst_miri_gain_0048.fits'.\n"
     ]
    },
    {
     "name": "stderr",
     "output_type": "stream",
     "text": [
      "2025-05-13 13:50:49,576 - stpipe.Detector1Pipeline - INFO - Prefetch for LINEARITY reference file is '/home/runner/crds/references/jwst/miri/jwst_miri_linearity_0039.fits'.\n"
     ]
    },
    {
     "name": "stderr",
     "output_type": "stream",
     "text": [
      "2025-05-13 13:50:49,577 - stpipe.Detector1Pipeline - INFO - Prefetch for MASK reference file is '/home/runner/crds/references/jwst/miri/jwst_miri_mask_0036.fits'.\n"
     ]
    },
    {
     "name": "stderr",
     "output_type": "stream",
     "text": [
      "2025-05-13 13:50:49,577 - stpipe.Detector1Pipeline - INFO - Prefetch for READNOISE reference file is '/home/runner/crds/references/jwst/miri/jwst_miri_readnoise_0085.fits'.\n"
     ]
    },
    {
     "name": "stderr",
     "output_type": "stream",
     "text": [
      "2025-05-13 13:50:49,577 - stpipe.Detector1Pipeline - INFO - Prefetch for REFPIX reference file is 'N/A'.\n"
     ]
    },
    {
     "name": "stderr",
     "output_type": "stream",
     "text": [
      "2025-05-13 13:50:49,578 - stpipe.Detector1Pipeline - INFO - Prefetch for RESET reference file is '/home/runner/crds/references/jwst/miri/jwst_miri_reset_0055.fits'.\n"
     ]
    },
    {
     "name": "stderr",
     "output_type": "stream",
     "text": [
      "2025-05-13 13:50:49,578 - stpipe.Detector1Pipeline - INFO - Prefetch for SATURATION reference file is '/home/runner/crds/references/jwst/miri/jwst_miri_saturation_0034.fits'.\n"
     ]
    },
    {
     "name": "stderr",
     "output_type": "stream",
     "text": [
      "2025-05-13 13:50:49,578 - stpipe.Detector1Pipeline - INFO - Prefetch for SIRSKERNEL reference file is 'N/A'.\n"
     ]
    },
    {
     "name": "stderr",
     "output_type": "stream",
     "text": [
      "2025-05-13 13:50:49,579 - stpipe.Detector1Pipeline - INFO - Prefetch for SUPERBIAS reference file is 'N/A'.\n"
     ]
    },
    {
     "name": "stderr",
     "output_type": "stream",
     "text": [
      "2025-05-13 13:50:49,586 - stpipe.Detector1Pipeline - INFO - Starting calwebb_detector1 ...\n"
     ]
    },
    {
     "name": "stderr",
     "output_type": "stream",
     "text": [
      "2025-05-13 13:50:51,065 - stpipe.Detector1Pipeline.group_scale - INFO - Step group_scale running with args (<RampModel(234, 39, 256, 256) from jw03730013001_03101_00001-seg001_mirimage_uncal.fits>,).\n"
     ]
    },
    {
     "name": "stderr",
     "output_type": "stream",
     "text": [
      "2025-05-13 13:50:51,073 - stpipe.Detector1Pipeline.group_scale - INFO - NFRAMES and FRMDIVSR are equal; correction not needed\n"
     ]
    },
    {
     "name": "stderr",
     "output_type": "stream",
     "text": [
      "2025-05-13 13:50:51,074 - stpipe.Detector1Pipeline.group_scale - INFO - Step will be skipped\n"
     ]
    },
    {
     "name": "stderr",
     "output_type": "stream",
     "text": [
      "2025-05-13 13:50:51,075 - stpipe.Detector1Pipeline.group_scale - INFO - Step group_scale done\n"
     ]
    },
    {
     "name": "stderr",
     "output_type": "stream",
     "text": [
      "2025-05-13 13:50:51,189 - stpipe.Detector1Pipeline.dq_init - INFO - Step dq_init running with args (<RampModel(234, 39, 256, 256) from jw03730013001_03101_00001-seg001_mirimage_uncal.fits>,).\n"
     ]
    },
    {
     "name": "stderr",
     "output_type": "stream",
     "text": [
      "2025-05-13 13:50:51,206 - stpipe.Detector1Pipeline.dq_init - INFO - Using MASK reference file /home/runner/crds/references/jwst/miri/jwst_miri_mask_0036.fits\n"
     ]
    },
    {
     "name": "stderr",
     "output_type": "stream",
     "text": [
      "2025-05-13 13:50:51,723 - stpipe.Detector1Pipeline.dq_init - WARNING - Keyword RESERVED_4 does not correspond to an existing DQ mnemonic, so will be ignored\n"
     ]
    },
    {
     "name": "stderr",
     "output_type": "stream",
     "text": [
      "2025-05-13 13:50:51,734 - stpipe.Detector1Pipeline.dq_init - WARNING - Keyword UNRELIABLE_RESET does not correspond to an existing DQ mnemonic, so will be ignored\n"
     ]
    },
    {
     "name": "stderr",
     "output_type": "stream",
     "text": [
      "2025-05-13 13:50:51,737 - stpipe.Detector1Pipeline.dq_init - INFO - Extracting mask subarray to match science data\n"
     ]
    },
    {
     "name": "stderr",
     "output_type": "stream",
     "text": [
      "2025-05-13 13:50:52,259 - CRDS - INFO -  Calibration SW Found: jwst 1.18.0 (/usr/share/miniconda/lib/python3.13/site-packages/jwst-1.18.0.dist-info)\n"
     ]
    },
    {
     "name": "stderr",
     "output_type": "stream",
     "text": [
      "2025-05-13 13:50:52,351 - stpipe.Detector1Pipeline.dq_init - INFO - Step dq_init done\n"
     ]
    },
    {
     "name": "stderr",
     "output_type": "stream",
     "text": [
      "2025-05-13 13:50:52,461 - stpipe.Detector1Pipeline.emicorr - INFO - Step emicorr running with args (<RampModel(234, 39, 256, 256) from jw03730013001_03101_00001-seg001_mirimage_uncal.fits>,).\n"
     ]
    },
    {
     "name": "stderr",
     "output_type": "stream",
     "text": [
      "2025-05-13 13:50:53,023 - stpipe.Detector1Pipeline.emicorr - INFO - Using CRDS reference file: /home/runner/crds/references/jwst/miri/jwst_miri_emicorr_0002.asdf\n"
     ]
    },
    {
     "name": "stderr",
     "output_type": "stream",
     "text": [
      "2025-05-13 13:50:53,040 - stpipe.Detector1Pipeline.emicorr - INFO - Using reference file to get subarray case.\n"
     ]
    },
    {
     "name": "stderr",
     "output_type": "stream",
     "text": [
      "2025-05-13 13:50:53,041 - stpipe.Detector1Pipeline.emicorr - INFO - With configuration: Subarray=SUB256, Read_pattern=FASTR1, Detector=MIRIMAGE\n"
     ]
    },
    {
     "name": "stderr",
     "output_type": "stream",
     "text": [
      "2025-05-13 13:50:53,041 - stpipe.Detector1Pipeline.emicorr - INFO - Will correct data for the following 1 frequencies: \n"
     ]
    },
    {
     "name": "stderr",
     "output_type": "stream",
     "text": [
      "2025-05-13 13:50:53,042 - stpipe.Detector1Pipeline.emicorr - INFO -    ['Hz10']\n"
     ]
    },
    {
     "name": "stderr",
     "output_type": "stream",
     "text": [
      "2025-05-13 13:50:53,042 - stpipe.Detector1Pipeline.emicorr - INFO - Running EMI fit with algorithm = 'sequential'.\n"
     ]
    },
    {
     "name": "stderr",
     "output_type": "stream",
     "text": [
      "2025-05-13 13:50:53,042 - stpipe.Detector1Pipeline.emicorr - INFO - Correcting for frequency: 10.039216 Hz  (1 out of 1)\n"
     ]
    },
    {
     "name": "stderr",
     "output_type": "stream",
     "text": [
      "2025-05-13 13:50:53,043 - stpipe.Detector1Pipeline.emicorr - INFO - Subtracting self-superbias from each group of each integration\n"
     ]
    },
    {
     "name": "stderr",
     "output_type": "stream",
     "text": [
      "2025-05-13 13:50:53,044 - stpipe.Detector1Pipeline.emicorr - INFO - Doing phase calculation per integration\n"
     ]
    },
    {
     "name": "stderr",
     "output_type": "stream",
     "text": [
      "2025-05-13 13:51:29,572 - stpipe.Detector1Pipeline.emicorr - INFO - Calculating the phase amplitude for 500 bins\n"
     ]
    },
    {
     "name": "stderr",
     "output_type": "stream",
     "text": [
      "2025-05-13 13:51:30,077 - stpipe.Detector1Pipeline.emicorr - INFO - Using reference file to measure phase shift\n"
     ]
    },
    {
     "name": "stderr",
     "output_type": "stream",
     "text": [
      "2025-05-13 13:51:30,115 - stpipe.Detector1Pipeline.emicorr - INFO - Creating phased-matched noise model to subtract from data\n"
     ]
    },
    {
     "name": "stderr",
     "output_type": "stream",
     "text": [
      "2025-05-13 13:51:30,807 - stpipe.Detector1Pipeline.emicorr - INFO - Subtracting EMI noise from data\n"
     ]
    },
    {
     "name": "stderr",
     "output_type": "stream",
     "text": [
      "2025-05-13 13:51:31,846 - stpipe.Detector1Pipeline.emicorr - INFO - Step emicorr done\n"
     ]
    },
    {
     "name": "stderr",
     "output_type": "stream",
     "text": [
      "2025-05-13 13:51:31,971 - stpipe.Detector1Pipeline.saturation - INFO - Step saturation running with args (<RampModel(234, 39, 256, 256) from jw03730013001_03101_00001-seg001_mirimage_uncal.fits>,).\n"
     ]
    },
    {
     "name": "stderr",
     "output_type": "stream",
     "text": [
      "2025-05-13 13:51:32,088 - stpipe.Detector1Pipeline.saturation - INFO - Using SATURATION reference file /home/runner/crds/references/jwst/miri/jwst_miri_saturation_0034.fits\n"
     ]
    },
    {
     "name": "stderr",
     "output_type": "stream",
     "text": [
      "2025-05-13 13:51:32,114 - stpipe.Detector1Pipeline.saturation - WARNING - Keyword RESERVED_4 does not correspond to an existing DQ mnemonic, so will be ignored\n"
     ]
    },
    {
     "name": "stderr",
     "output_type": "stream",
     "text": [
      "2025-05-13 13:51:32,124 - stpipe.Detector1Pipeline.saturation - WARNING - Keyword UNRELIABLE_RESET does not correspond to an existing DQ mnemonic, so will be ignored\n"
     ]
    },
    {
     "name": "stderr",
     "output_type": "stream",
     "text": [
      "2025-05-13 13:51:32,644 - stpipe.Detector1Pipeline.saturation - INFO - Extracting reference file subarray to match science data\n"
     ]
    },
    {
     "name": "stderr",
     "output_type": "stream",
     "text": [
      "2025-05-13 13:51:32,651 - stpipe.Detector1Pipeline.saturation - INFO - Using read_pattern with nframes 1\n"
     ]
    },
    {
     "name": "stderr",
     "output_type": "stream",
     "text": [
      "2025-05-13 13:51:37,116 - stpipe.Detector1Pipeline.saturation - INFO - Detected 0 saturated pixels\n"
     ]
    },
    {
     "name": "stderr",
     "output_type": "stream",
     "text": [
      "2025-05-13 13:51:37,256 - stpipe.Detector1Pipeline.saturation - INFO - Detected 1 A/D floor pixels\n"
     ]
    },
    {
     "name": "stderr",
     "output_type": "stream",
     "text": [
      "2025-05-13 13:51:37,260 - stpipe.Detector1Pipeline.saturation - INFO - Step saturation done\n"
     ]
    },
    {
     "name": "stderr",
     "output_type": "stream",
     "text": [
      "2025-05-13 13:51:37,373 - stpipe.Detector1Pipeline.ipc - INFO - Step ipc running with args (<RampModel(234, 39, 256, 256) from jw03730013001_03101_00001-seg001_mirimage_uncal.fits>,).\n"
     ]
    },
    {
     "name": "stderr",
     "output_type": "stream",
     "text": [
      "2025-05-13 13:51:37,373 - stpipe.Detector1Pipeline.ipc - INFO - Step skipped.\n"
     ]
    },
    {
     "name": "stderr",
     "output_type": "stream",
     "text": [
      "2025-05-13 13:51:37,465 - stpipe.Detector1Pipeline.firstframe - INFO - Step firstframe running with args (<RampModel(234, 39, 256, 256) from jw03730013001_03101_00001-seg001_mirimage_uncal.fits>,).\n"
     ]
    },
    {
     "name": "stderr",
     "output_type": "stream",
     "text": [
      "2025-05-13 13:51:37,465 - stpipe.Detector1Pipeline.firstframe - INFO - Step skipped.\n"
     ]
    },
    {
     "name": "stderr",
     "output_type": "stream",
     "text": [
      "2025-05-13 13:51:37,553 - stpipe.Detector1Pipeline.lastframe - INFO - Step lastframe running with args (<RampModel(234, 39, 256, 256) from jw03730013001_03101_00001-seg001_mirimage_uncal.fits>,).\n"
     ]
    },
    {
     "name": "stderr",
     "output_type": "stream",
     "text": [
      "2025-05-13 13:51:38,058 - stpipe.Detector1Pipeline.lastframe - INFO - Step lastframe done\n"
     ]
    },
    {
     "name": "stderr",
     "output_type": "stream",
     "text": [
      "2025-05-13 13:51:38,166 - stpipe.Detector1Pipeline.reset - INFO - Step reset running with args (<RampModel(234, 39, 256, 256) from jw03730013001_03101_00001-seg001_mirimage_uncal.fits>,).\n"
     ]
    },
    {
     "name": "stderr",
     "output_type": "stream",
     "text": [
      "2025-05-13 13:51:38,190 - stpipe.Detector1Pipeline.reset - INFO - Using RESET reference file /home/runner/crds/references/jwst/miri/jwst_miri_reset_0055.fits\n"
     ]
    },
    {
     "name": "stderr",
     "output_type": "stream",
     "text": [
      "2025-05-13 13:51:38,212 - stpipe.Detector1Pipeline.reset - WARNING - Keyword RESERVED_4 does not correspond to an existing DQ mnemonic, so will be ignored\n"
     ]
    },
    {
     "name": "stderr",
     "output_type": "stream",
     "text": [
      "2025-05-13 13:51:38,214 - stpipe.Detector1Pipeline.reset - WARNING - Keyword UNRELIABLE_RESET does not correspond to an existing DQ mnemonic, so will be ignored\n"
     ]
    },
    {
     "name": "stderr",
     "output_type": "stream",
     "text": [
      "2025-05-13 13:51:39,014 - stpipe.Detector1Pipeline.reset - INFO - Step reset done\n"
     ]
    },
    {
     "name": "stderr",
     "output_type": "stream",
     "text": [
      "2025-05-13 13:51:39,141 - stpipe.Detector1Pipeline.linearity - INFO - Step linearity running with args (<RampModel(234, 39, 256, 256) from jw03730013001_03101_00001-seg001_mirimage_uncal.fits>,).\n"
     ]
    },
    {
     "name": "stderr",
     "output_type": "stream",
     "text": [
      "2025-05-13 13:51:39,160 - stpipe.Detector1Pipeline.linearity - INFO - Using Linearity reference file /home/runner/crds/references/jwst/miri/jwst_miri_linearity_0039.fits\n"
     ]
    },
    {
     "name": "stderr",
     "output_type": "stream",
     "text": [
      "2025-05-13 13:51:39,189 - stpipe.Detector1Pipeline.linearity - WARNING - Keyword RESERVED_4 does not correspond to an existing DQ mnemonic, so will be ignored\n"
     ]
    },
    {
     "name": "stderr",
     "output_type": "stream",
     "text": [
      "2025-05-13 13:51:39,199 - stpipe.Detector1Pipeline.linearity - WARNING - Keyword UNRELIABLE_RESET does not correspond to an existing DQ mnemonic, so will be ignored\n"
     ]
    },
    {
     "name": "stderr",
     "output_type": "stream",
     "text": [
      "2025-05-13 13:51:43,163 - stpipe.Detector1Pipeline.linearity - INFO - Step linearity done\n"
     ]
    },
    {
     "name": "stderr",
     "output_type": "stream",
     "text": [
      "2025-05-13 13:51:43,288 - stpipe.Detector1Pipeline.rscd - INFO - Step rscd running with args (<RampModel(234, 39, 256, 256) from jw03730013001_03101_00001-seg001_mirimage_uncal.fits>,).\n"
     ]
    },
    {
     "name": "stderr",
     "output_type": "stream",
     "text": [
      "2025-05-13 13:51:43,288 - stpipe.Detector1Pipeline.rscd - INFO - Step skipped.\n"
     ]
    },
    {
     "name": "stderr",
     "output_type": "stream",
     "text": [
      "2025-05-13 13:51:43,387 - stpipe.Detector1Pipeline.dark_current - INFO - Step dark_current running with args (<RampModel(234, 39, 256, 256) from jw03730013001_03101_00001-seg001_mirimage_uncal.fits>,).\n"
     ]
    },
    {
     "name": "stderr",
     "output_type": "stream",
     "text": [
      "2025-05-13 13:51:43,408 - stpipe.Detector1Pipeline.dark_current - INFO - Using DARK reference file /home/runner/crds/references/jwst/miri/jwst_miri_dark_0104.fits\n"
     ]
    },
    {
     "name": "stderr",
     "output_type": "stream",
     "text": [
      "2025-05-13 13:51:43,966 - stpipe.Detector1Pipeline.dark_current - INFO - Using Poisson noise from average dark current 1.0 e-/sec\n"
     ]
    },
    {
     "name": "stderr",
     "output_type": "stream",
     "text": [
      "2025-05-13 13:51:43,966 - stpipe.Detector1Pipeline.dark_current - INFO - Science data nints=234, ngroups=39, nframes=1, groupgap=0\n"
     ]
    },
    {
     "name": "stderr",
     "output_type": "stream",
     "text": [
      "2025-05-13 13:51:43,967 - stpipe.Detector1Pipeline.dark_current - INFO - Dark data nints=2, ngroups=200, nframes=1, groupgap=0\n"
     ]
    },
    {
     "name": "stderr",
     "output_type": "stream",
     "text": [
      "2025-05-13 13:51:44,926 - stpipe.Detector1Pipeline.dark_current - INFO - Step dark_current done\n"
     ]
    },
    {
     "name": "stderr",
     "output_type": "stream",
     "text": [
      "2025-05-13 13:51:45,047 - stpipe.Detector1Pipeline.refpix - INFO - Step refpix running with args (<RampModel(234, 39, 256, 256) from jw03730013001_03101_00001-seg001_mirimage_uncal.fits>,).\n"
     ]
    },
    {
     "name": "stderr",
     "output_type": "stream",
     "text": [
      "2025-05-13 13:51:45,546 - stpipe.Detector1Pipeline.refpix - WARNING - Refpix correction skipped for MIRI subarrays\n"
     ]
    },
    {
     "name": "stderr",
     "output_type": "stream",
     "text": [
      "2025-05-13 13:51:45,548 - stpipe.Detector1Pipeline.refpix - INFO - Step refpix done\n"
     ]
    },
    {
     "name": "stderr",
     "output_type": "stream",
     "text": [
      "2025-05-13 13:51:45,660 - stpipe.Detector1Pipeline.charge_migration - INFO - Step charge_migration running with args (<RampModel(234, 39, 256, 256) from jw03730013001_03101_00001-seg001_mirimage_uncal.fits>,).\n"
     ]
    },
    {
     "name": "stderr",
     "output_type": "stream",
     "text": [
      "2025-05-13 13:51:45,661 - stpipe.Detector1Pipeline.charge_migration - INFO - Step skipped.\n"
     ]
    },
    {
     "name": "stderr",
     "output_type": "stream",
     "text": [
      "2025-05-13 13:51:45,765 - stpipe.Detector1Pipeline.jump - INFO - Step jump running with args (<RampModel(234, 39, 256, 256) from jw03730013001_03101_00001-seg001_mirimage_uncal.fits>,).\n"
     ]
    },
    {
     "name": "stderr",
     "output_type": "stream",
     "text": [
      "2025-05-13 13:51:45,773 - stpipe.Detector1Pipeline.jump - INFO - CR rejection threshold = 4 sigma\n"
     ]
    },
    {
     "name": "stderr",
     "output_type": "stream",
     "text": [
      "2025-05-13 13:51:45,774 - stpipe.Detector1Pipeline.jump - INFO - Maximum cores to use = half\n"
     ]
    },
    {
     "name": "stderr",
     "output_type": "stream",
     "text": [
      "2025-05-13 13:51:46,293 - stpipe.Detector1Pipeline.jump - INFO - Using GAIN reference file: /home/runner/crds/references/jwst/miri/jwst_miri_gain_0048.fits\n"
     ]
    },
    {
     "name": "stderr",
     "output_type": "stream",
     "text": [
      "2025-05-13 13:51:46,303 - stpipe.Detector1Pipeline.jump - INFO - Using READNOISE reference file: /home/runner/crds/references/jwst/miri/jwst_miri_readnoise_0085.fits\n"
     ]
    },
    {
     "name": "stderr",
     "output_type": "stream",
     "text": [
      "2025-05-13 13:51:46,328 - stpipe.Detector1Pipeline.jump - INFO - Extracting gain subarray to match science data\n"
     ]
    },
    {
     "name": "stderr",
     "output_type": "stream",
     "text": [
      "2025-05-13 13:51:46,333 - stpipe.Detector1Pipeline.jump - INFO - Extracting readnoise subarray to match science data\n"
     ]
    },
    {
     "name": "stderr",
     "output_type": "stream",
     "text": [
      "2025-05-13 13:51:47,092 - stpipe.Detector1Pipeline.jump - INFO - Executing two-point difference method\n"
     ]
    },
    {
     "name": "stderr",
     "output_type": "stream",
     "text": [
      "2025-05-13 13:51:47,093 - stpipe.Detector1Pipeline.jump - INFO - Creating 4 processes for jump detection \n"
     ]
    },
    {
     "name": "stderr",
     "output_type": "stream",
     "text": [
      "2025-05-13 13:52:26,447 - stpipe.Detector1Pipeline.jump - INFO - Flagging Showers\n"
     ]
    },
    {
     "name": "stderr",
     "output_type": "stream",
     "text": [
      "2025-05-13 13:54:40,940 - stpipe.Detector1Pipeline.jump - INFO - Total showers= 0\n"
     ]
    },
    {
     "name": "stderr",
     "output_type": "stream",
     "text": [
      "2025-05-13 13:54:40,940 - stpipe.Detector1Pipeline.jump - INFO - Total elapsed time = 173.847 sec\n"
     ]
    },
    {
     "name": "stderr",
     "output_type": "stream",
     "text": [
      "2025-05-13 13:54:41,605 - stpipe.Detector1Pipeline.jump - INFO - The execution time in seconds: 175.832107\n"
     ]
    },
    {
     "name": "stderr",
     "output_type": "stream",
     "text": [
      "2025-05-13 13:54:41,610 - stpipe.Detector1Pipeline.jump - INFO - Step jump done\n"
     ]
    },
    {
     "name": "stderr",
     "output_type": "stream",
     "text": [
      "2025-05-13 13:54:41,718 - stpipe.Detector1Pipeline.clean_flicker_noise - INFO - Step clean_flicker_noise running with args (<RampModel(234, 39, 256, 256) from jw03730013001_03101_00001-seg001_mirimage_uncal.fits>,).\n"
     ]
    },
    {
     "name": "stderr",
     "output_type": "stream",
     "text": [
      "2025-05-13 13:54:41,719 - stpipe.Detector1Pipeline.clean_flicker_noise - INFO - Step skipped.\n"
     ]
    },
    {
     "name": "stderr",
     "output_type": "stream",
     "text": [
      "2025-05-13 13:54:44,196 - stpipe.Detector1Pipeline - INFO - Saved model in ./imaging_demo_data/PID03730Obs013/stage1/jw03730013001_03101_00001-seg001_mirimage_ramp.fits\n"
     ]
    },
    {
     "name": "stderr",
     "output_type": "stream",
     "text": [
      "2025-05-13 13:54:44,304 - stpipe.Detector1Pipeline.ramp_fit - INFO - Step ramp_fit running with args (<RampModel(234, 39, 256, 256) from jw03730013001_03101_00001-seg001_mirimage_ramp.fits>,).\n"
     ]
    },
    {
     "name": "stderr",
     "output_type": "stream",
     "text": [
      "2025-05-13 13:54:44,833 - stpipe.Detector1Pipeline.ramp_fit - INFO - Using READNOISE reference file: /home/runner/crds/references/jwst/miri/jwst_miri_readnoise_0085.fits\n"
     ]
    },
    {
     "name": "stderr",
     "output_type": "stream",
     "text": [
      "2025-05-13 13:54:44,833 - stpipe.Detector1Pipeline.ramp_fit - INFO - Using GAIN reference file: /home/runner/crds/references/jwst/miri/jwst_miri_gain_0048.fits\n"
     ]
    },
    {
     "name": "stderr",
     "output_type": "stream",
     "text": [
      "2025-05-13 13:54:44,857 - stpipe.Detector1Pipeline.ramp_fit - INFO - Extracting gain subarray to match science data\n"
     ]
    },
    {
     "name": "stderr",
     "output_type": "stream",
     "text": [
      "2025-05-13 13:54:44,862 - stpipe.Detector1Pipeline.ramp_fit - INFO - Extracting readnoise subarray to match science data\n"
     ]
    },
    {
     "name": "stderr",
     "output_type": "stream",
     "text": [
      "2025-05-13 13:54:44,867 - stpipe.Detector1Pipeline.ramp_fit - INFO - Using algorithm = OLS_C\n"
     ]
    },
    {
     "name": "stderr",
     "output_type": "stream",
     "text": [
      "2025-05-13 13:54:44,868 - stpipe.Detector1Pipeline.ramp_fit - INFO - Using weighting = optimal\n"
     ]
    },
    {
     "name": "stderr",
     "output_type": "stream",
     "text": [
      "2025-05-13 13:54:49,295 - stpipe.Detector1Pipeline.ramp_fit - INFO - Number of multiprocessing slices: 1\n"
     ]
    },
    {
     "name": "stderr",
     "output_type": "stream",
     "text": [
      "2025-05-13 13:54:49,298 - stpipe.Detector1Pipeline.ramp_fit - INFO - Number of leading groups that are flagged as DO_NOT_USE: 0\n"
     ]
    },
    {
     "name": "stderr",
     "output_type": "stream",
     "text": [
      "2025-05-13 13:54:49,301 - stpipe.Detector1Pipeline.ramp_fit - INFO - MIRI dataset has all pixels in the final group flagged as DO_NOT_USE.\n"
     ]
    },
    {
     "name": "stderr",
     "output_type": "stream",
     "text": [
      "2025-05-13 13:55:43,999 - stpipe.Detector1Pipeline.ramp_fit - INFO - Ramp Fitting C Time: 54.69596195220947\n"
     ]
    },
    {
     "name": "stderr",
     "output_type": "stream",
     "text": [
      "2025-05-13 13:55:44,073 - stpipe.Detector1Pipeline.ramp_fit - INFO - Step ramp_fit done\n"
     ]
    },
    {
     "name": "stderr",
     "output_type": "stream",
     "text": [
      "2025-05-13 13:55:44,193 - stpipe.Detector1Pipeline.gain_scale - INFO - Step gain_scale running with args (<ImageModel(256, 256) from jw03730013001_03101_00001-seg001_mirimage_ramp.fits>,).\n"
     ]
    },
    {
     "name": "stderr",
     "output_type": "stream",
     "text": [
      "2025-05-13 13:55:44,228 - stpipe.Detector1Pipeline.gain_scale - INFO - GAINFACT not found in gain reference file\n"
     ]
    },
    {
     "name": "stderr",
     "output_type": "stream",
     "text": [
      "2025-05-13 13:55:44,229 - stpipe.Detector1Pipeline.gain_scale - INFO - Step will be skipped\n"
     ]
    },
    {
     "name": "stderr",
     "output_type": "stream",
     "text": [
      "2025-05-13 13:55:44,231 - stpipe.Detector1Pipeline.gain_scale - INFO - Step gain_scale done\n"
     ]
    },
    {
     "name": "stderr",
     "output_type": "stream",
     "text": [
      "2025-05-13 13:55:44,340 - stpipe.Detector1Pipeline.gain_scale - INFO - Step gain_scale running with args (<CubeModel(234, 256, 256) from jw03730013001_03101_00001-seg001_mirimage_ramp.fits>,).\n"
     ]
    },
    {
     "name": "stderr",
     "output_type": "stream",
     "text": [
      "2025-05-13 13:55:44,366 - stpipe.Detector1Pipeline.gain_scale - INFO - GAINFACT not found in gain reference file\n"
     ]
    },
    {
     "name": "stderr",
     "output_type": "stream",
     "text": [
      "2025-05-13 13:55:44,367 - stpipe.Detector1Pipeline.gain_scale - INFO - Step will be skipped\n"
     ]
    },
    {
     "name": "stderr",
     "output_type": "stream",
     "text": [
      "2025-05-13 13:55:44,369 - stpipe.Detector1Pipeline.gain_scale - INFO - Step gain_scale done\n"
     ]
    },
    {
     "name": "stderr",
     "output_type": "stream",
     "text": [
      "2025-05-13 13:55:44,645 - stpipe.Detector1Pipeline - INFO - Saved model in ./imaging_demo_data/PID03730Obs013/stage1/jw03730013001_03101_00001-seg001_mirimage_rateints.fits\n"
     ]
    },
    {
     "name": "stderr",
     "output_type": "stream",
     "text": [
      "2025-05-13 13:55:44,646 - stpipe.Detector1Pipeline - INFO - ... ending calwebb_detector1\n"
     ]
    },
    {
     "name": "stderr",
     "output_type": "stream",
     "text": [
      "2025-05-13 13:55:44,648 - stpipe.Detector1Pipeline - INFO - Results used CRDS context: jwst_1364.pmap\n"
     ]
    },
    {
     "name": "stderr",
     "output_type": "stream",
     "text": [
      "2025-05-13 13:55:44,707 - stpipe.Detector1Pipeline - INFO - Saved model in ./imaging_demo_data/PID03730Obs013/stage1/jw03730013001_03101_00001-seg001_mirimage_rate.fits\n"
     ]
    },
    {
     "name": "stderr",
     "output_type": "stream",
     "text": [
      "2025-05-13 13:55:44,708 - stpipe.Detector1Pipeline - INFO - Step Detector1Pipeline done\n"
     ]
    },
    {
     "name": "stderr",
     "output_type": "stream",
     "text": [
      "2025-05-13 13:55:44,708 - stpipe - INFO - Results used jwst version: 1.18.0\n"
     ]
    },
    {
     "name": "stderr",
     "output_type": "stream",
     "text": [
      "2025-05-13 13:55:45,622 - stpipe - INFO - PARS-EMICORRSTEP parameters found: /home/runner/crds/references/jwst/miri/jwst_miri_pars-emicorrstep_0003.asdf\n"
     ]
    },
    {
     "name": "stderr",
     "output_type": "stream",
     "text": [
      "2025-05-13 13:55:45,635 - stpipe - INFO - PARS-DARKCURRENTSTEP parameters found: /home/runner/crds/references/jwst/miri/jwst_miri_pars-darkcurrentstep_0001.asdf\n"
     ]
    },
    {
     "name": "stderr",
     "output_type": "stream",
     "text": [
      "2025-05-13 13:55:45,645 - stpipe - INFO - PARS-JUMPSTEP parameters found: /home/runner/crds/references/jwst/miri/jwst_miri_pars-jumpstep_0005.asdf\n"
     ]
    },
    {
     "name": "stderr",
     "output_type": "stream",
     "text": [
      "2025-05-13 13:55:45,656 - stpipe - INFO - PARS-DETECTOR1PIPELINE parameters found: /home/runner/crds/references/jwst/miri/jwst_miri_pars-detector1pipeline_0006.asdf\n"
     ]
    },
    {
     "name": "stderr",
     "output_type": "stream",
     "text": [
      "2025-05-13 13:55:45,680 - stpipe.Detector1Pipeline - INFO - Detector1Pipeline instance created.\n"
     ]
    },
    {
     "name": "stderr",
     "output_type": "stream",
     "text": [
      "2025-05-13 13:55:45,681 - stpipe.Detector1Pipeline.group_scale - INFO - GroupScaleStep instance created.\n"
     ]
    },
    {
     "name": "stderr",
     "output_type": "stream",
     "text": [
      "2025-05-13 13:55:45,681 - stpipe.Detector1Pipeline.dq_init - INFO - DQInitStep instance created.\n"
     ]
    },
    {
     "name": "stderr",
     "output_type": "stream",
     "text": [
      "2025-05-13 13:55:45,682 - stpipe.Detector1Pipeline.emicorr - INFO - EmiCorrStep instance created.\n"
     ]
    },
    {
     "name": "stderr",
     "output_type": "stream",
     "text": [
      "2025-05-13 13:55:45,683 - stpipe.Detector1Pipeline.saturation - INFO - SaturationStep instance created.\n"
     ]
    },
    {
     "name": "stderr",
     "output_type": "stream",
     "text": [
      "2025-05-13 13:55:45,684 - stpipe.Detector1Pipeline.ipc - INFO - IPCStep instance created.\n"
     ]
    },
    {
     "name": "stderr",
     "output_type": "stream",
     "text": [
      "2025-05-13 13:55:45,685 - stpipe.Detector1Pipeline.superbias - INFO - SuperBiasStep instance created.\n"
     ]
    },
    {
     "name": "stderr",
     "output_type": "stream",
     "text": [
      "2025-05-13 13:55:45,686 - stpipe.Detector1Pipeline.refpix - INFO - RefPixStep instance created.\n"
     ]
    },
    {
     "name": "stderr",
     "output_type": "stream",
     "text": [
      "2025-05-13 13:55:45,687 - stpipe.Detector1Pipeline.rscd - INFO - RscdStep instance created.\n"
     ]
    },
    {
     "name": "stderr",
     "output_type": "stream",
     "text": [
      "2025-05-13 13:55:45,687 - stpipe.Detector1Pipeline.firstframe - INFO - FirstFrameStep instance created.\n"
     ]
    },
    {
     "name": "stderr",
     "output_type": "stream",
     "text": [
      "2025-05-13 13:55:45,688 - stpipe.Detector1Pipeline.lastframe - INFO - LastFrameStep instance created.\n"
     ]
    },
    {
     "name": "stderr",
     "output_type": "stream",
     "text": [
      "2025-05-13 13:55:45,689 - stpipe.Detector1Pipeline.linearity - INFO - LinearityStep instance created.\n"
     ]
    },
    {
     "name": "stderr",
     "output_type": "stream",
     "text": [
      "2025-05-13 13:55:45,689 - stpipe.Detector1Pipeline.dark_current - INFO - DarkCurrentStep instance created.\n"
     ]
    },
    {
     "name": "stderr",
     "output_type": "stream",
     "text": [
      "2025-05-13 13:55:45,690 - stpipe.Detector1Pipeline.reset - INFO - ResetStep instance created.\n"
     ]
    },
    {
     "name": "stderr",
     "output_type": "stream",
     "text": [
      "2025-05-13 13:55:45,691 - stpipe.Detector1Pipeline.persistence - INFO - PersistenceStep instance created.\n"
     ]
    },
    {
     "name": "stderr",
     "output_type": "stream",
     "text": [
      "2025-05-13 13:55:45,691 - stpipe.Detector1Pipeline.charge_migration - INFO - ChargeMigrationStep instance created.\n"
     ]
    },
    {
     "name": "stderr",
     "output_type": "stream",
     "text": [
      "2025-05-13 13:55:45,693 - stpipe.Detector1Pipeline.jump - INFO - JumpStep instance created.\n"
     ]
    },
    {
     "name": "stderr",
     "output_type": "stream",
     "text": [
      "2025-05-13 13:55:45,694 - stpipe.Detector1Pipeline.clean_flicker_noise - INFO - CleanFlickerNoiseStep instance created.\n"
     ]
    },
    {
     "name": "stderr",
     "output_type": "stream",
     "text": [
      "2025-05-13 13:55:45,695 - stpipe.Detector1Pipeline.ramp_fit - INFO - RampFitStep instance created.\n"
     ]
    },
    {
     "name": "stderr",
     "output_type": "stream",
     "text": [
      "2025-05-13 13:55:45,695 - stpipe.Detector1Pipeline.gain_scale - INFO - GainScaleStep instance created.\n"
     ]
    },
    {
     "name": "stderr",
     "output_type": "stream",
     "text": [
      "2025-05-13 13:55:45,805 - stpipe.Detector1Pipeline - INFO - Step Detector1Pipeline running with args ('./imaging_demo_data/PID03730Obs013/uncal/jw03730013001_03101_00001-seg002_mirimage_uncal.fits',).\n"
     ]
    },
    {
     "name": "stderr",
     "output_type": "stream",
     "text": [
      "2025-05-13 13:55:45,825 - stpipe.Detector1Pipeline - INFO - Step Detector1Pipeline parameters are:\n",
      "  pre_hooks: []\n",
      "  post_hooks: []\n",
      "  output_file: None\n",
      "  output_dir: ./imaging_demo_data/PID03730Obs013/stage1\n",
      "  output_ext: .fits\n",
      "  output_use_model: False\n",
      "  output_use_index: True\n",
      "  save_results: True\n",
      "  skip: False\n",
      "  suffix: None\n",
      "  search_output_file: True\n",
      "  input_dir: ''\n",
      "  save_calibrated_ramp: True\n",
      "  steps:\n",
      "    group_scale:\n",
      "      pre_hooks: []\n",
      "      post_hooks: []\n",
      "      output_file: None\n",
      "      output_dir: None\n",
      "      output_ext: .fits\n",
      "      output_use_model: False\n",
      "      output_use_index: True\n",
      "      save_results: False\n",
      "      skip: False\n",
      "      suffix: None\n",
      "      search_output_file: True\n",
      "      input_dir: ''\n",
      "    dq_init:\n",
      "      pre_hooks: []\n",
      "      post_hooks: []\n",
      "      output_file: None\n",
      "      output_dir: None\n",
      "      output_ext: .fits\n",
      "      output_use_model: False\n",
      "      output_use_index: True\n",
      "      save_results: False\n",
      "      skip: False\n",
      "      suffix: None\n",
      "      search_output_file: True\n",
      "      input_dir: ''\n",
      "    emicorr:\n",
      "      pre_hooks: []\n",
      "      post_hooks: []\n",
      "      output_file: None\n",
      "      output_dir: None\n",
      "      output_ext: .fits\n",
      "      output_use_model: False\n",
      "      output_use_index: True\n",
      "      save_results: False\n",
      "      skip: False\n",
      "      suffix: None\n",
      "      search_output_file: True\n",
      "      input_dir: ''\n",
      "      algorithm: sequential\n",
      "      nints_to_phase: None\n",
      "      nbins: None\n",
      "      scale_reference: True\n",
      "      onthefly_corr_freq: None\n",
      "      use_n_cycles: 3\n",
      "      fit_ints_separately: False\n",
      "      user_supplied_reffile: None\n",
      "      save_intermediate_results: False\n",
      "    saturation:\n",
      "      pre_hooks: []\n",
      "      post_hooks: []\n",
      "      output_file: None\n",
      "      output_dir: None\n",
      "      output_ext: .fits\n",
      "      output_use_model: False\n",
      "      output_use_index: True\n",
      "      save_results: False\n",
      "      skip: False\n",
      "      suffix: None\n",
      "      search_output_file: True\n",
      "      input_dir: ''\n",
      "      n_pix_grow_sat: 1\n",
      "      use_readpatt: True\n",
      "    ipc:\n",
      "      pre_hooks: []\n",
      "      post_hooks: []\n",
      "      output_file: None\n",
      "      output_dir: None\n",
      "      output_ext: .fits\n",
      "      output_use_model: False\n",
      "      output_use_index: True\n",
      "      save_results: False\n",
      "      skip: True\n",
      "      suffix: None\n",
      "      search_output_file: True\n",
      "      input_dir: ''\n",
      "    superbias:\n",
      "      pre_hooks: []\n",
      "      post_hooks: []\n",
      "      output_file: None\n",
      "      output_dir: None\n",
      "      output_ext: .fits\n",
      "      output_use_model: False\n",
      "      output_use_index: True\n",
      "      save_results: False\n",
      "      skip: False\n",
      "      suffix: None\n",
      "      search_output_file: True\n",
      "      input_dir: ''\n",
      "    refpix:\n",
      "      pre_hooks: []\n",
      "      post_hooks: []\n",
      "      output_file: None\n",
      "      output_dir: None\n",
      "      output_ext: .fits\n",
      "      output_use_model: False\n",
      "      output_use_index: True\n",
      "      save_results: False\n",
      "      skip: False\n",
      "      suffix: None\n",
      "      search_output_file: True\n",
      "      input_dir: ''\n",
      "      odd_even_columns: True\n",
      "      use_side_ref_pixels: True\n",
      "      side_smoothing_length: 11\n",
      "      side_gain: 1.0\n",
      "      odd_even_rows: True\n",
      "      ovr_corr_mitigation_ftr: 3.0\n",
      "      preserve_irs2_refpix: False\n",
      "      irs2_mean_subtraction: False\n",
      "      refpix_algorithm: median\n",
      "      sigreject: 4.0\n",
      "      gaussmooth: 1.0\n",
      "      halfwidth: 30\n",
      "    rscd:\n",
      "      pre_hooks: []\n",
      "      post_hooks: []\n",
      "      output_file: None\n",
      "      output_dir: None\n",
      "      output_ext: .fits\n",
      "      output_use_model: False\n",
      "      output_use_index: True\n",
      "      save_results: False\n",
      "      skip: True\n",
      "      suffix: None\n",
      "      search_output_file: True\n",
      "      input_dir: ''\n",
      "      type: baseline\n",
      "    firstframe:\n",
      "      pre_hooks: []\n",
      "      post_hooks: []\n",
      "      output_file: None\n",
      "      output_dir: None\n",
      "      output_ext: .fits\n",
      "      output_use_model: False\n",
      "      output_use_index: True\n",
      "      save_results: False\n",
      "      skip: True\n",
      "      suffix: None\n",
      "      search_output_file: True\n",
      "      input_dir: ''\n",
      "      bright_use_group1: False\n",
      "    lastframe:\n",
      "      pre_hooks: []\n",
      "      post_hooks: []\n",
      "      output_file: None\n",
      "      output_dir: None\n",
      "      output_ext: .fits\n",
      "      output_use_model: False\n",
      "      output_use_index: True\n",
      "      save_results: False\n",
      "      skip: False\n",
      "      suffix: None\n",
      "      search_output_file: True\n",
      "      input_dir: ''\n",
      "    linearity:\n",
      "      pre_hooks: []\n",
      "      post_hooks: []\n",
      "      output_file: None\n",
      "      output_dir: None\n",
      "      output_ext: .fits\n",
      "      output_use_model: False\n",
      "      output_use_index: True\n",
      "      save_results: False\n",
      "      skip: False\n",
      "      suffix: None\n",
      "      search_output_file: True\n",
      "      input_dir: ''\n",
      "    dark_current:\n",
      "      pre_hooks: []\n",
      "      post_hooks: []\n",
      "      output_file: None\n",
      "      output_dir: None\n",
      "      output_ext: .fits\n",
      "      output_use_model: False\n",
      "      output_use_index: True\n",
      "      save_results: False\n",
      "      skip: False\n",
      "      suffix: None\n",
      "      search_output_file: True\n",
      "      input_dir: ''\n",
      "      dark_output: None\n",
      "      average_dark_current: 1.0\n",
      "    reset:\n",
      "      pre_hooks: []\n",
      "      post_hooks: []\n",
      "      output_file: None\n",
      "      output_dir: None\n",
      "      output_ext: .fits\n",
      "      output_use_model: False\n",
      "      output_use_index: True\n",
      "      save_results: False\n",
      "      skip: False\n",
      "      suffix: None\n",
      "      search_output_file: True\n",
      "      input_dir: ''\n",
      "    persistence:\n",
      "      pre_hooks: []\n",
      "      post_hooks: []\n",
      "      output_file: None\n",
      "      output_dir: None\n",
      "      output_ext: .fits\n",
      "      output_use_model: False\n",
      "      output_use_index: True\n",
      "      save_results: False\n",
      "      skip: True\n",
      "      suffix: None\n",
      "      search_output_file: True\n",
      "      input_dir: ''\n",
      "      input_trapsfilled: ''\n",
      "      flag_pers_cutoff: 40.0\n",
      "      save_persistence: False\n",
      "      save_trapsfilled: True\n",
      "      modify_input: False\n",
      "    charge_migration:\n",
      "      pre_hooks: []\n",
      "      post_hooks: []\n",
      "      output_file: None\n",
      "      output_dir: None\n",
      "      output_ext: .fits\n",
      "      output_use_model: False\n",
      "      output_use_index: True\n",
      "      save_results: False\n",
      "      skip: True\n",
      "      suffix: None\n",
      "      search_output_file: True\n",
      "      input_dir: ''\n",
      "      signal_threshold: 25000.0\n",
      "    jump:\n",
      "      pre_hooks: []\n",
      "      post_hooks: []\n",
      "      output_file: None\n",
      "      output_dir: None\n",
      "      output_ext: .fits\n",
      "      output_use_model: False\n",
      "      output_use_index: True\n",
      "      save_results: False\n",
      "      skip: False\n",
      "      suffix: None\n",
      "      search_output_file: True\n",
      "      input_dir: ''\n",
      "      rejection_threshold: 4.0\n",
      "      three_group_rejection_threshold: 6.0\n",
      "      four_group_rejection_threshold: 5.0\n",
      "      maximum_cores: half\n",
      "      flag_4_neighbors: True\n",
      "      max_jump_to_flag_neighbors: 1000\n",
      "      min_jump_to_flag_neighbors: 30\n",
      "      after_jump_flag_dn1: 500\n",
      "      after_jump_flag_time1: 15\n",
      "      after_jump_flag_dn2: 1000\n",
      "      after_jump_flag_time2: 3000\n",
      "      expand_large_events: False\n",
      "      min_sat_area: 1\n",
      "      min_jump_area: 0\n",
      "      expand_factor: 0\n",
      "      use_ellipses: False\n",
      "      sat_required_snowball: False\n",
      "      min_sat_radius_extend: 0.0\n",
      "      sat_expand: 0\n",
      "      edge_size: 0\n",
      "      mask_snowball_core_next_int: True\n",
      "      snowball_time_masked_next_int: 4000\n",
      "      find_showers: True\n",
      "      max_shower_amplitude: 4.0\n",
      "      extend_snr_threshold: 3.0\n",
      "      extend_min_area: 50\n",
      "      extend_inner_radius: 1\n",
      "      extend_outer_radius: 2.6\n",
      "      extend_ellipse_expand_ratio: 1.1\n",
      "      time_masked_after_shower: 30\n",
      "      min_diffs_single_pass: 10\n",
      "      max_extended_radius: 200\n",
      "      minimum_groups: 3\n",
      "      minimum_sigclip_groups: 100\n",
      "      only_use_ints: True\n",
      "    clean_flicker_noise:\n",
      "      pre_hooks: []\n",
      "      post_hooks: []\n",
      "      output_file: None\n",
      "      output_dir: None\n",
      "      output_ext: .fits\n",
      "      output_use_model: False\n",
      "      output_use_index: True\n",
      "      save_results: False\n",
      "      skip: True\n",
      "      suffix: None\n",
      "      search_output_file: True\n",
      "      input_dir: ''\n",
      "      fit_method: median\n",
      "      fit_by_channel: False\n",
      "      background_method: median\n",
      "      background_box_size: None\n",
      "      mask_science_regions: False\n",
      "      apply_flat_field: False\n",
      "      n_sigma: 2.0\n",
      "      fit_histogram: False\n",
      "      single_mask: True\n",
      "      user_mask: None\n",
      "      save_mask: False\n",
      "      save_background: False\n",
      "      save_noise: False\n",
      "    ramp_fit:\n",
      "      pre_hooks: []\n",
      "      post_hooks: []\n",
      "      output_file: None\n",
      "      output_dir: None\n",
      "      output_ext: .fits\n",
      "      output_use_model: False\n",
      "      output_use_index: True\n",
      "      save_results: False\n",
      "      skip: False\n",
      "      suffix: None\n",
      "      search_output_file: True\n",
      "      input_dir: ''\n",
      "      algorithm: OLS_C\n",
      "      int_name: ''\n",
      "      save_opt: False\n",
      "      opt_name: ''\n",
      "      suppress_one_group: True\n",
      "      firstgroup: None\n",
      "      lastgroup: None\n",
      "      maximum_cores: '1'\n",
      "    gain_scale:\n",
      "      pre_hooks: []\n",
      "      post_hooks: []\n",
      "      output_file: None\n",
      "      output_dir: None\n",
      "      output_ext: .fits\n",
      "      output_use_model: False\n",
      "      output_use_index: True\n",
      "      save_results: False\n",
      "      skip: False\n",
      "      suffix: None\n",
      "      search_output_file: True\n",
      "      input_dir: ''\n"
     ]
    },
    {
     "name": "stderr",
     "output_type": "stream",
     "text": [
      "2025-05-13 13:55:46,701 - stpipe.Detector1Pipeline - INFO - Prefetching reference files for dataset: 'jw03730013001_03101_00001-seg002_mirimage_uncal.fits' reftypes = ['dark', 'emicorr', 'gain', 'linearity', 'mask', 'readnoise', 'refpix', 'reset', 'saturation', 'sirskernel', 'superbias']\n"
     ]
    },
    {
     "name": "stderr",
     "output_type": "stream",
     "text": [
      "2025-05-13 13:55:46,704 - stpipe.Detector1Pipeline - INFO - Prefetch for DARK reference file is '/home/runner/crds/references/jwst/miri/jwst_miri_dark_0104.fits'.\n"
     ]
    },
    {
     "name": "stderr",
     "output_type": "stream",
     "text": [
      "2025-05-13 13:55:46,705 - stpipe.Detector1Pipeline - INFO - Prefetch for EMICORR reference file is '/home/runner/crds/references/jwst/miri/jwst_miri_emicorr_0002.asdf'.\n"
     ]
    },
    {
     "name": "stderr",
     "output_type": "stream",
     "text": [
      "2025-05-13 13:55:46,706 - stpipe.Detector1Pipeline - INFO - Prefetch for GAIN reference file is '/home/runner/crds/references/jwst/miri/jwst_miri_gain_0048.fits'.\n"
     ]
    },
    {
     "name": "stderr",
     "output_type": "stream",
     "text": [
      "2025-05-13 13:55:46,706 - stpipe.Detector1Pipeline - INFO - Prefetch for LINEARITY reference file is '/home/runner/crds/references/jwst/miri/jwst_miri_linearity_0039.fits'.\n"
     ]
    },
    {
     "name": "stderr",
     "output_type": "stream",
     "text": [
      "2025-05-13 13:55:46,707 - stpipe.Detector1Pipeline - INFO - Prefetch for MASK reference file is '/home/runner/crds/references/jwst/miri/jwst_miri_mask_0036.fits'.\n"
     ]
    },
    {
     "name": "stderr",
     "output_type": "stream",
     "text": [
      "2025-05-13 13:55:46,707 - stpipe.Detector1Pipeline - INFO - Prefetch for READNOISE reference file is '/home/runner/crds/references/jwst/miri/jwst_miri_readnoise_0085.fits'.\n"
     ]
    },
    {
     "name": "stderr",
     "output_type": "stream",
     "text": [
      "2025-05-13 13:55:46,708 - stpipe.Detector1Pipeline - INFO - Prefetch for REFPIX reference file is 'N/A'.\n"
     ]
    },
    {
     "name": "stderr",
     "output_type": "stream",
     "text": [
      "2025-05-13 13:55:46,708 - stpipe.Detector1Pipeline - INFO - Prefetch for RESET reference file is '/home/runner/crds/references/jwst/miri/jwst_miri_reset_0055.fits'.\n"
     ]
    },
    {
     "name": "stderr",
     "output_type": "stream",
     "text": [
      "2025-05-13 13:55:46,709 - stpipe.Detector1Pipeline - INFO - Prefetch for SATURATION reference file is '/home/runner/crds/references/jwst/miri/jwst_miri_saturation_0034.fits'.\n"
     ]
    },
    {
     "name": "stderr",
     "output_type": "stream",
     "text": [
      "2025-05-13 13:55:46,709 - stpipe.Detector1Pipeline - INFO - Prefetch for SIRSKERNEL reference file is 'N/A'.\n"
     ]
    },
    {
     "name": "stderr",
     "output_type": "stream",
     "text": [
      "2025-05-13 13:55:46,710 - stpipe.Detector1Pipeline - INFO - Prefetch for SUPERBIAS reference file is 'N/A'.\n"
     ]
    },
    {
     "name": "stderr",
     "output_type": "stream",
     "text": [
      "2025-05-13 13:55:46,717 - stpipe.Detector1Pipeline - INFO - Starting calwebb_detector1 ...\n"
     ]
    },
    {
     "name": "stderr",
     "output_type": "stream",
     "text": [
      "2025-05-13 13:55:48,120 - stpipe.Detector1Pipeline.group_scale - INFO - Step group_scale running with args (<RampModel(234, 39, 256, 256) from jw03730013001_03101_00001-seg002_mirimage_uncal.fits>,).\n"
     ]
    },
    {
     "name": "stderr",
     "output_type": "stream",
     "text": [
      "2025-05-13 13:55:48,127 - stpipe.Detector1Pipeline.group_scale - INFO - NFRAMES and FRMDIVSR are equal; correction not needed\n"
     ]
    },
    {
     "name": "stderr",
     "output_type": "stream",
     "text": [
      "2025-05-13 13:55:48,127 - stpipe.Detector1Pipeline.group_scale - INFO - Step will be skipped\n"
     ]
    },
    {
     "name": "stderr",
     "output_type": "stream",
     "text": [
      "2025-05-13 13:55:48,129 - stpipe.Detector1Pipeline.group_scale - INFO - Step group_scale done\n"
     ]
    },
    {
     "name": "stderr",
     "output_type": "stream",
     "text": [
      "2025-05-13 13:55:48,237 - stpipe.Detector1Pipeline.dq_init - INFO - Step dq_init running with args (<RampModel(234, 39, 256, 256) from jw03730013001_03101_00001-seg002_mirimage_uncal.fits>,).\n"
     ]
    },
    {
     "name": "stderr",
     "output_type": "stream",
     "text": [
      "2025-05-13 13:55:48,252 - stpipe.Detector1Pipeline.dq_init - INFO - Using MASK reference file /home/runner/crds/references/jwst/miri/jwst_miri_mask_0036.fits\n"
     ]
    },
    {
     "name": "stderr",
     "output_type": "stream",
     "text": [
      "2025-05-13 13:55:48,735 - stpipe.Detector1Pipeline.dq_init - WARNING - Keyword RESERVED_4 does not correspond to an existing DQ mnemonic, so will be ignored\n"
     ]
    },
    {
     "name": "stderr",
     "output_type": "stream",
     "text": [
      "2025-05-13 13:55:48,746 - stpipe.Detector1Pipeline.dq_init - WARNING - Keyword UNRELIABLE_RESET does not correspond to an existing DQ mnemonic, so will be ignored\n"
     ]
    },
    {
     "name": "stderr",
     "output_type": "stream",
     "text": [
      "2025-05-13 13:55:48,749 - stpipe.Detector1Pipeline.dq_init - INFO - Extracting mask subarray to match science data\n"
     ]
    },
    {
     "name": "stderr",
     "output_type": "stream",
     "text": [
      "2025-05-13 13:55:49,249 - stpipe.Detector1Pipeline.dq_init - INFO - Step dq_init done\n"
     ]
    },
    {
     "name": "stderr",
     "output_type": "stream",
     "text": [
      "2025-05-13 13:55:49,373 - stpipe.Detector1Pipeline.emicorr - INFO - Step emicorr running with args (<RampModel(234, 39, 256, 256) from jw03730013001_03101_00001-seg002_mirimage_uncal.fits>,).\n"
     ]
    },
    {
     "name": "stderr",
     "output_type": "stream",
     "text": [
      "2025-05-13 13:55:49,843 - stpipe.Detector1Pipeline.emicorr - INFO - Using CRDS reference file: /home/runner/crds/references/jwst/miri/jwst_miri_emicorr_0002.asdf\n"
     ]
    },
    {
     "name": "stderr",
     "output_type": "stream",
     "text": [
      "2025-05-13 13:55:49,860 - stpipe.Detector1Pipeline.emicorr - INFO - Using reference file to get subarray case.\n"
     ]
    },
    {
     "name": "stderr",
     "output_type": "stream",
     "text": [
      "2025-05-13 13:55:49,860 - stpipe.Detector1Pipeline.emicorr - INFO - With configuration: Subarray=SUB256, Read_pattern=FASTR1, Detector=MIRIMAGE\n"
     ]
    },
    {
     "name": "stderr",
     "output_type": "stream",
     "text": [
      "2025-05-13 13:55:49,861 - stpipe.Detector1Pipeline.emicorr - INFO - Will correct data for the following 1 frequencies: \n"
     ]
    },
    {
     "name": "stderr",
     "output_type": "stream",
     "text": [
      "2025-05-13 13:55:49,861 - stpipe.Detector1Pipeline.emicorr - INFO -    ['Hz10']\n"
     ]
    },
    {
     "name": "stderr",
     "output_type": "stream",
     "text": [
      "2025-05-13 13:55:49,861 - stpipe.Detector1Pipeline.emicorr - INFO - Running EMI fit with algorithm = 'sequential'.\n"
     ]
    },
    {
     "name": "stderr",
     "output_type": "stream",
     "text": [
      "2025-05-13 13:55:49,862 - stpipe.Detector1Pipeline.emicorr - INFO - Correcting for frequency: 10.039216 Hz  (1 out of 1)\n"
     ]
    },
    {
     "name": "stderr",
     "output_type": "stream",
     "text": [
      "2025-05-13 13:55:49,862 - stpipe.Detector1Pipeline.emicorr - INFO - Subtracting self-superbias from each group of each integration\n"
     ]
    },
    {
     "name": "stderr",
     "output_type": "stream",
     "text": [
      "2025-05-13 13:55:49,863 - stpipe.Detector1Pipeline.emicorr - INFO - Doing phase calculation per integration\n"
     ]
    },
    {
     "name": "stderr",
     "output_type": "stream",
     "text": [
      "2025-05-13 13:56:27,496 - stpipe.Detector1Pipeline.emicorr - INFO - Calculating the phase amplitude for 500 bins\n"
     ]
    },
    {
     "name": "stderr",
     "output_type": "stream",
     "text": [
      "2025-05-13 13:56:28,000 - stpipe.Detector1Pipeline.emicorr - INFO - Using reference file to measure phase shift\n"
     ]
    },
    {
     "name": "stderr",
     "output_type": "stream",
     "text": [
      "2025-05-13 13:56:28,036 - stpipe.Detector1Pipeline.emicorr - INFO - Creating phased-matched noise model to subtract from data\n"
     ]
    },
    {
     "name": "stderr",
     "output_type": "stream",
     "text": [
      "2025-05-13 13:56:28,702 - stpipe.Detector1Pipeline.emicorr - INFO - Subtracting EMI noise from data\n"
     ]
    },
    {
     "name": "stderr",
     "output_type": "stream",
     "text": [
      "2025-05-13 13:56:29,692 - stpipe.Detector1Pipeline.emicorr - INFO - Step emicorr done\n"
     ]
    },
    {
     "name": "stderr",
     "output_type": "stream",
     "text": [
      "2025-05-13 13:56:29,819 - stpipe.Detector1Pipeline.saturation - INFO - Step saturation running with args (<RampModel(234, 39, 256, 256) from jw03730013001_03101_00001-seg002_mirimage_uncal.fits>,).\n"
     ]
    },
    {
     "name": "stderr",
     "output_type": "stream",
     "text": [
      "2025-05-13 13:56:29,835 - stpipe.Detector1Pipeline.saturation - INFO - Using SATURATION reference file /home/runner/crds/references/jwst/miri/jwst_miri_saturation_0034.fits\n"
     ]
    },
    {
     "name": "stderr",
     "output_type": "stream",
     "text": [
      "2025-05-13 13:56:29,857 - stpipe.Detector1Pipeline.saturation - WARNING - Keyword RESERVED_4 does not correspond to an existing DQ mnemonic, so will be ignored\n"
     ]
    },
    {
     "name": "stderr",
     "output_type": "stream",
     "text": [
      "2025-05-13 13:56:29,867 - stpipe.Detector1Pipeline.saturation - WARNING - Keyword UNRELIABLE_RESET does not correspond to an existing DQ mnemonic, so will be ignored\n"
     ]
    },
    {
     "name": "stderr",
     "output_type": "stream",
     "text": [
      "2025-05-13 13:56:30,335 - stpipe.Detector1Pipeline.saturation - INFO - Extracting reference file subarray to match science data\n"
     ]
    },
    {
     "name": "stderr",
     "output_type": "stream",
     "text": [
      "2025-05-13 13:56:30,343 - stpipe.Detector1Pipeline.saturation - INFO - Using read_pattern with nframes 1\n"
     ]
    },
    {
     "name": "stderr",
     "output_type": "stream",
     "text": [
      "2025-05-13 13:56:34,824 - stpipe.Detector1Pipeline.saturation - INFO - Detected 9 saturated pixels\n"
     ]
    },
    {
     "name": "stderr",
     "output_type": "stream",
     "text": [
      "2025-05-13 13:56:34,954 - stpipe.Detector1Pipeline.saturation - INFO - Detected 2 A/D floor pixels\n"
     ]
    },
    {
     "name": "stderr",
     "output_type": "stream",
     "text": [
      "2025-05-13 13:56:34,958 - stpipe.Detector1Pipeline.saturation - INFO - Step saturation done\n"
     ]
    },
    {
     "name": "stderr",
     "output_type": "stream",
     "text": [
      "2025-05-13 13:56:35,083 - stpipe.Detector1Pipeline.ipc - INFO - Step ipc running with args (<RampModel(234, 39, 256, 256) from jw03730013001_03101_00001-seg002_mirimage_uncal.fits>,).\n"
     ]
    },
    {
     "name": "stderr",
     "output_type": "stream",
     "text": [
      "2025-05-13 13:56:35,083 - stpipe.Detector1Pipeline.ipc - INFO - Step skipped.\n"
     ]
    },
    {
     "name": "stderr",
     "output_type": "stream",
     "text": [
      "2025-05-13 13:56:35,187 - stpipe.Detector1Pipeline.firstframe - INFO - Step firstframe running with args (<RampModel(234, 39, 256, 256) from jw03730013001_03101_00001-seg002_mirimage_uncal.fits>,).\n"
     ]
    },
    {
     "name": "stderr",
     "output_type": "stream",
     "text": [
      "2025-05-13 13:56:35,188 - stpipe.Detector1Pipeline.firstframe - INFO - Step skipped.\n"
     ]
    },
    {
     "name": "stderr",
     "output_type": "stream",
     "text": [
      "2025-05-13 13:56:35,280 - stpipe.Detector1Pipeline.lastframe - INFO - Step lastframe running with args (<RampModel(234, 39, 256, 256) from jw03730013001_03101_00001-seg002_mirimage_uncal.fits>,).\n"
     ]
    },
    {
     "name": "stderr",
     "output_type": "stream",
     "text": [
      "2025-05-13 13:56:35,756 - stpipe.Detector1Pipeline.lastframe - INFO - Step lastframe done\n"
     ]
    },
    {
     "name": "stderr",
     "output_type": "stream",
     "text": [
      "2025-05-13 13:56:35,868 - stpipe.Detector1Pipeline.reset - INFO - Step reset running with args (<RampModel(234, 39, 256, 256) from jw03730013001_03101_00001-seg002_mirimage_uncal.fits>,).\n"
     ]
    },
    {
     "name": "stderr",
     "output_type": "stream",
     "text": [
      "2025-05-13 13:56:35,884 - stpipe.Detector1Pipeline.reset - INFO - Using RESET reference file /home/runner/crds/references/jwst/miri/jwst_miri_reset_0055.fits\n"
     ]
    },
    {
     "name": "stderr",
     "output_type": "stream",
     "text": [
      "2025-05-13 13:56:35,904 - stpipe.Detector1Pipeline.reset - WARNING - Keyword RESERVED_4 does not correspond to an existing DQ mnemonic, so will be ignored\n"
     ]
    },
    {
     "name": "stderr",
     "output_type": "stream",
     "text": [
      "2025-05-13 13:56:35,906 - stpipe.Detector1Pipeline.reset - WARNING - Keyword UNRELIABLE_RESET does not correspond to an existing DQ mnemonic, so will be ignored\n"
     ]
    },
    {
     "name": "stderr",
     "output_type": "stream",
     "text": [
      "2025-05-13 13:56:36,675 - stpipe.Detector1Pipeline.reset - INFO - Step reset done\n"
     ]
    },
    {
     "name": "stderr",
     "output_type": "stream",
     "text": [
      "2025-05-13 13:56:36,783 - stpipe.Detector1Pipeline.linearity - INFO - Step linearity running with args (<RampModel(234, 39, 256, 256) from jw03730013001_03101_00001-seg002_mirimage_uncal.fits>,).\n"
     ]
    },
    {
     "name": "stderr",
     "output_type": "stream",
     "text": [
      "2025-05-13 13:56:36,799 - stpipe.Detector1Pipeline.linearity - INFO - Using Linearity reference file /home/runner/crds/references/jwst/miri/jwst_miri_linearity_0039.fits\n"
     ]
    },
    {
     "name": "stderr",
     "output_type": "stream",
     "text": [
      "2025-05-13 13:56:36,824 - stpipe.Detector1Pipeline.linearity - WARNING - Keyword RESERVED_4 does not correspond to an existing DQ mnemonic, so will be ignored\n"
     ]
    },
    {
     "name": "stderr",
     "output_type": "stream",
     "text": [
      "2025-05-13 13:56:36,833 - stpipe.Detector1Pipeline.linearity - WARNING - Keyword UNRELIABLE_RESET does not correspond to an existing DQ mnemonic, so will be ignored\n"
     ]
    },
    {
     "name": "stderr",
     "output_type": "stream",
     "text": [
      "2025-05-13 13:56:40,764 - stpipe.Detector1Pipeline.linearity - INFO - Step linearity done\n"
     ]
    },
    {
     "name": "stderr",
     "output_type": "stream",
     "text": [
      "2025-05-13 13:56:40,874 - stpipe.Detector1Pipeline.rscd - INFO - Step rscd running with args (<RampModel(234, 39, 256, 256) from jw03730013001_03101_00001-seg002_mirimage_uncal.fits>,).\n"
     ]
    },
    {
     "name": "stderr",
     "output_type": "stream",
     "text": [
      "2025-05-13 13:56:40,875 - stpipe.Detector1Pipeline.rscd - INFO - Step skipped.\n"
     ]
    },
    {
     "name": "stderr",
     "output_type": "stream",
     "text": [
      "2025-05-13 13:56:40,962 - stpipe.Detector1Pipeline.dark_current - INFO - Step dark_current running with args (<RampModel(234, 39, 256, 256) from jw03730013001_03101_00001-seg002_mirimage_uncal.fits>,).\n"
     ]
    },
    {
     "name": "stderr",
     "output_type": "stream",
     "text": [
      "2025-05-13 13:56:40,979 - stpipe.Detector1Pipeline.dark_current - INFO - Using DARK reference file /home/runner/crds/references/jwst/miri/jwst_miri_dark_0104.fits\n"
     ]
    },
    {
     "name": "stderr",
     "output_type": "stream",
     "text": [
      "2025-05-13 13:56:41,504 - stpipe.Detector1Pipeline.dark_current - INFO - Using Poisson noise from average dark current 1.0 e-/sec\n"
     ]
    },
    {
     "name": "stderr",
     "output_type": "stream",
     "text": [
      "2025-05-13 13:56:41,505 - stpipe.Detector1Pipeline.dark_current - INFO - Science data nints=234, ngroups=39, nframes=1, groupgap=0\n"
     ]
    },
    {
     "name": "stderr",
     "output_type": "stream",
     "text": [
      "2025-05-13 13:56:41,505 - stpipe.Detector1Pipeline.dark_current - INFO - Dark data nints=2, ngroups=200, nframes=1, groupgap=0\n"
     ]
    },
    {
     "name": "stderr",
     "output_type": "stream",
     "text": [
      "2025-05-13 13:56:42,431 - stpipe.Detector1Pipeline.dark_current - INFO - Step dark_current done\n"
     ]
    },
    {
     "name": "stderr",
     "output_type": "stream",
     "text": [
      "2025-05-13 13:56:42,540 - stpipe.Detector1Pipeline.refpix - INFO - Step refpix running with args (<RampModel(234, 39, 256, 256) from jw03730013001_03101_00001-seg002_mirimage_uncal.fits>,).\n"
     ]
    },
    {
     "name": "stderr",
     "output_type": "stream",
     "text": [
      "2025-05-13 13:56:43,008 - stpipe.Detector1Pipeline.refpix - WARNING - Refpix correction skipped for MIRI subarrays\n"
     ]
    },
    {
     "name": "stderr",
     "output_type": "stream",
     "text": [
      "2025-05-13 13:56:43,010 - stpipe.Detector1Pipeline.refpix - INFO - Step refpix done\n"
     ]
    },
    {
     "name": "stderr",
     "output_type": "stream",
     "text": [
      "2025-05-13 13:56:43,121 - stpipe.Detector1Pipeline.charge_migration - INFO - Step charge_migration running with args (<RampModel(234, 39, 256, 256) from jw03730013001_03101_00001-seg002_mirimage_uncal.fits>,).\n"
     ]
    },
    {
     "name": "stderr",
     "output_type": "stream",
     "text": [
      "2025-05-13 13:56:43,122 - stpipe.Detector1Pipeline.charge_migration - INFO - Step skipped.\n"
     ]
    },
    {
     "name": "stderr",
     "output_type": "stream",
     "text": [
      "2025-05-13 13:56:43,217 - stpipe.Detector1Pipeline.jump - INFO - Step jump running with args (<RampModel(234, 39, 256, 256) from jw03730013001_03101_00001-seg002_mirimage_uncal.fits>,).\n"
     ]
    },
    {
     "name": "stderr",
     "output_type": "stream",
     "text": [
      "2025-05-13 13:56:43,224 - stpipe.Detector1Pipeline.jump - INFO - CR rejection threshold = 4 sigma\n"
     ]
    },
    {
     "name": "stderr",
     "output_type": "stream",
     "text": [
      "2025-05-13 13:56:43,224 - stpipe.Detector1Pipeline.jump - INFO - Maximum cores to use = half\n"
     ]
    },
    {
     "name": "stderr",
     "output_type": "stream",
     "text": [
      "2025-05-13 13:56:43,691 - stpipe.Detector1Pipeline.jump - INFO - Using GAIN reference file: /home/runner/crds/references/jwst/miri/jwst_miri_gain_0048.fits\n"
     ]
    },
    {
     "name": "stderr",
     "output_type": "stream",
     "text": [
      "2025-05-13 13:56:43,700 - stpipe.Detector1Pipeline.jump - INFO - Using READNOISE reference file: /home/runner/crds/references/jwst/miri/jwst_miri_readnoise_0085.fits\n"
     ]
    },
    {
     "name": "stderr",
     "output_type": "stream",
     "text": [
      "2025-05-13 13:56:43,724 - stpipe.Detector1Pipeline.jump - INFO - Extracting gain subarray to match science data\n"
     ]
    },
    {
     "name": "stderr",
     "output_type": "stream",
     "text": [
      "2025-05-13 13:56:43,729 - stpipe.Detector1Pipeline.jump - INFO - Extracting readnoise subarray to match science data\n"
     ]
    },
    {
     "name": "stderr",
     "output_type": "stream",
     "text": [
      "2025-05-13 13:56:44,463 - stpipe.Detector1Pipeline.jump - INFO - Executing two-point difference method\n"
     ]
    },
    {
     "name": "stderr",
     "output_type": "stream",
     "text": [
      "2025-05-13 13:56:44,464 - stpipe.Detector1Pipeline.jump - INFO - Creating 4 processes for jump detection \n"
     ]
    },
    {
     "name": "stderr",
     "output_type": "stream",
     "text": [
      "2025-05-13 13:57:23,670 - stpipe.Detector1Pipeline.jump - INFO - Flagging Showers\n"
     ]
    },
    {
     "name": "stderr",
     "output_type": "stream",
     "text": [
      "2025-05-13 13:59:37,389 - stpipe.Detector1Pipeline.jump - INFO - Total showers= 0\n"
     ]
    },
    {
     "name": "stderr",
     "output_type": "stream",
     "text": [
      "2025-05-13 13:59:37,390 - stpipe.Detector1Pipeline.jump - INFO - Total elapsed time = 172.926 sec\n"
     ]
    },
    {
     "name": "stderr",
     "output_type": "stream",
     "text": [
      "2025-05-13 13:59:38,057 - stpipe.Detector1Pipeline.jump - INFO - The execution time in seconds: 174.833441\n"
     ]
    },
    {
     "name": "stderr",
     "output_type": "stream",
     "text": [
      "2025-05-13 13:59:38,062 - stpipe.Detector1Pipeline.jump - INFO - Step jump done\n"
     ]
    },
    {
     "name": "stderr",
     "output_type": "stream",
     "text": [
      "2025-05-13 13:59:38,185 - stpipe.Detector1Pipeline.clean_flicker_noise - INFO - Step clean_flicker_noise running with args (<RampModel(234, 39, 256, 256) from jw03730013001_03101_00001-seg002_mirimage_uncal.fits>,).\n"
     ]
    },
    {
     "name": "stderr",
     "output_type": "stream",
     "text": [
      "2025-05-13 13:59:38,186 - stpipe.Detector1Pipeline.clean_flicker_noise - INFO - Step skipped.\n"
     ]
    },
    {
     "name": "stderr",
     "output_type": "stream",
     "text": [
      "2025-05-13 13:59:40,609 - stpipe.Detector1Pipeline - INFO - Saved model in ./imaging_demo_data/PID03730Obs013/stage1/jw03730013001_03101_00001-seg002_mirimage_ramp.fits\n"
     ]
    },
    {
     "name": "stderr",
     "output_type": "stream",
     "text": [
      "2025-05-13 13:59:40,709 - stpipe.Detector1Pipeline.ramp_fit - INFO - Step ramp_fit running with args (<RampModel(234, 39, 256, 256) from jw03730013001_03101_00001-seg002_mirimage_ramp.fits>,).\n"
     ]
    },
    {
     "name": "stderr",
     "output_type": "stream",
     "text": [
      "2025-05-13 13:59:41,225 - stpipe.Detector1Pipeline.ramp_fit - INFO - Using READNOISE reference file: /home/runner/crds/references/jwst/miri/jwst_miri_readnoise_0085.fits\n"
     ]
    },
    {
     "name": "stderr",
     "output_type": "stream",
     "text": [
      "2025-05-13 13:59:41,225 - stpipe.Detector1Pipeline.ramp_fit - INFO - Using GAIN reference file: /home/runner/crds/references/jwst/miri/jwst_miri_gain_0048.fits\n"
     ]
    },
    {
     "name": "stderr",
     "output_type": "stream",
     "text": [
      "2025-05-13 13:59:41,249 - stpipe.Detector1Pipeline.ramp_fit - INFO - Extracting gain subarray to match science data\n"
     ]
    },
    {
     "name": "stderr",
     "output_type": "stream",
     "text": [
      "2025-05-13 13:59:41,254 - stpipe.Detector1Pipeline.ramp_fit - INFO - Extracting readnoise subarray to match science data\n"
     ]
    },
    {
     "name": "stderr",
     "output_type": "stream",
     "text": [
      "2025-05-13 13:59:41,259 - stpipe.Detector1Pipeline.ramp_fit - INFO - Using algorithm = OLS_C\n"
     ]
    },
    {
     "name": "stderr",
     "output_type": "stream",
     "text": [
      "2025-05-13 13:59:41,260 - stpipe.Detector1Pipeline.ramp_fit - INFO - Using weighting = optimal\n"
     ]
    },
    {
     "name": "stderr",
     "output_type": "stream",
     "text": [
      "2025-05-13 13:59:45,698 - stpipe.Detector1Pipeline.ramp_fit - INFO - Number of multiprocessing slices: 1\n"
     ]
    },
    {
     "name": "stderr",
     "output_type": "stream",
     "text": [
      "2025-05-13 13:59:45,701 - stpipe.Detector1Pipeline.ramp_fit - INFO - Number of leading groups that are flagged as DO_NOT_USE: 0\n"
     ]
    },
    {
     "name": "stderr",
     "output_type": "stream",
     "text": [
      "2025-05-13 13:59:45,703 - stpipe.Detector1Pipeline.ramp_fit - INFO - MIRI dataset has all pixels in the final group flagged as DO_NOT_USE.\n"
     ]
    },
    {
     "name": "stderr",
     "output_type": "stream",
     "text": [
      "2025-05-13 14:00:40,350 - stpipe.Detector1Pipeline.ramp_fit - INFO - Ramp Fitting C Time: 54.64521861076355\n"
     ]
    },
    {
     "name": "stderr",
     "output_type": "stream",
     "text": [
      "2025-05-13 14:00:40,418 - stpipe.Detector1Pipeline.ramp_fit - INFO - Step ramp_fit done\n"
     ]
    },
    {
     "name": "stderr",
     "output_type": "stream",
     "text": [
      "2025-05-13 14:00:40,531 - stpipe.Detector1Pipeline.gain_scale - INFO - Step gain_scale running with args (<ImageModel(256, 256) from jw03730013001_03101_00001-seg002_mirimage_ramp.fits>,).\n"
     ]
    },
    {
     "name": "stderr",
     "output_type": "stream",
     "text": [
      "2025-05-13 14:00:40,559 - stpipe.Detector1Pipeline.gain_scale - INFO - GAINFACT not found in gain reference file\n"
     ]
    },
    {
     "name": "stderr",
     "output_type": "stream",
     "text": [
      "2025-05-13 14:00:40,560 - stpipe.Detector1Pipeline.gain_scale - INFO - Step will be skipped\n"
     ]
    },
    {
     "name": "stderr",
     "output_type": "stream",
     "text": [
      "2025-05-13 14:00:40,562 - stpipe.Detector1Pipeline.gain_scale - INFO - Step gain_scale done\n"
     ]
    },
    {
     "name": "stderr",
     "output_type": "stream",
     "text": [
      "2025-05-13 14:00:40,655 - stpipe.Detector1Pipeline.gain_scale - INFO - Step gain_scale running with args (<CubeModel(234, 256, 256) from jw03730013001_03101_00001-seg002_mirimage_ramp.fits>,).\n"
     ]
    },
    {
     "name": "stderr",
     "output_type": "stream",
     "text": [
      "2025-05-13 14:00:40,681 - stpipe.Detector1Pipeline.gain_scale - INFO - GAINFACT not found in gain reference file\n"
     ]
    },
    {
     "name": "stderr",
     "output_type": "stream",
     "text": [
      "2025-05-13 14:00:40,682 - stpipe.Detector1Pipeline.gain_scale - INFO - Step will be skipped\n"
     ]
    },
    {
     "name": "stderr",
     "output_type": "stream",
     "text": [
      "2025-05-13 14:00:40,684 - stpipe.Detector1Pipeline.gain_scale - INFO - Step gain_scale done\n"
     ]
    },
    {
     "name": "stderr",
     "output_type": "stream",
     "text": [
      "2025-05-13 14:00:40,960 - stpipe.Detector1Pipeline - INFO - Saved model in ./imaging_demo_data/PID03730Obs013/stage1/jw03730013001_03101_00001-seg002_mirimage_rateints.fits\n"
     ]
    },
    {
     "name": "stderr",
     "output_type": "stream",
     "text": [
      "2025-05-13 14:00:40,960 - stpipe.Detector1Pipeline - INFO - ... ending calwebb_detector1\n"
     ]
    },
    {
     "name": "stderr",
     "output_type": "stream",
     "text": [
      "2025-05-13 14:00:40,963 - stpipe.Detector1Pipeline - INFO - Results used CRDS context: jwst_1364.pmap\n"
     ]
    },
    {
     "name": "stderr",
     "output_type": "stream",
     "text": [
      "2025-05-13 14:00:41,022 - stpipe.Detector1Pipeline - INFO - Saved model in ./imaging_demo_data/PID03730Obs013/stage1/jw03730013001_03101_00001-seg002_mirimage_rate.fits\n"
     ]
    },
    {
     "name": "stderr",
     "output_type": "stream",
     "text": [
      "2025-05-13 14:00:41,022 - stpipe.Detector1Pipeline - INFO - Step Detector1Pipeline done\n"
     ]
    },
    {
     "name": "stderr",
     "output_type": "stream",
     "text": [
      "2025-05-13 14:00:41,023 - stpipe - INFO - Results used jwst version: 1.18.0\n"
     ]
    },
    {
     "name": "stderr",
     "output_type": "stream",
     "text": [
      "2025-05-13 14:00:43,021 - stpipe - INFO - PARS-EMICORRSTEP parameters found: /home/runner/crds/references/jwst/miri/jwst_miri_pars-emicorrstep_0003.asdf\n"
     ]
    },
    {
     "name": "stderr",
     "output_type": "stream",
     "text": [
      "2025-05-13 14:00:43,034 - stpipe - INFO - PARS-DARKCURRENTSTEP parameters found: /home/runner/crds/references/jwst/miri/jwst_miri_pars-darkcurrentstep_0001.asdf\n"
     ]
    },
    {
     "name": "stderr",
     "output_type": "stream",
     "text": [
      "2025-05-13 14:00:43,044 - stpipe - INFO - PARS-JUMPSTEP parameters found: /home/runner/crds/references/jwst/miri/jwst_miri_pars-jumpstep_0005.asdf\n"
     ]
    },
    {
     "name": "stderr",
     "output_type": "stream",
     "text": [
      "2025-05-13 14:00:43,055 - stpipe - INFO - PARS-DETECTOR1PIPELINE parameters found: /home/runner/crds/references/jwst/miri/jwst_miri_pars-detector1pipeline_0006.asdf\n"
     ]
    },
    {
     "name": "stderr",
     "output_type": "stream",
     "text": [
      "2025-05-13 14:00:43,077 - stpipe.Detector1Pipeline - INFO - Detector1Pipeline instance created.\n"
     ]
    },
    {
     "name": "stderr",
     "output_type": "stream",
     "text": [
      "2025-05-13 14:00:43,078 - stpipe.Detector1Pipeline.group_scale - INFO - GroupScaleStep instance created.\n"
     ]
    },
    {
     "name": "stderr",
     "output_type": "stream",
     "text": [
      "2025-05-13 14:00:43,079 - stpipe.Detector1Pipeline.dq_init - INFO - DQInitStep instance created.\n"
     ]
    },
    {
     "name": "stderr",
     "output_type": "stream",
     "text": [
      "2025-05-13 14:00:43,080 - stpipe.Detector1Pipeline.emicorr - INFO - EmiCorrStep instance created.\n"
     ]
    },
    {
     "name": "stderr",
     "output_type": "stream",
     "text": [
      "2025-05-13 14:00:43,081 - stpipe.Detector1Pipeline.saturation - INFO - SaturationStep instance created.\n"
     ]
    },
    {
     "name": "stderr",
     "output_type": "stream",
     "text": [
      "2025-05-13 14:00:43,082 - stpipe.Detector1Pipeline.ipc - INFO - IPCStep instance created.\n"
     ]
    },
    {
     "name": "stderr",
     "output_type": "stream",
     "text": [
      "2025-05-13 14:00:43,083 - stpipe.Detector1Pipeline.superbias - INFO - SuperBiasStep instance created.\n"
     ]
    },
    {
     "name": "stderr",
     "output_type": "stream",
     "text": [
      "2025-05-13 14:00:43,084 - stpipe.Detector1Pipeline.refpix - INFO - RefPixStep instance created.\n"
     ]
    },
    {
     "name": "stderr",
     "output_type": "stream",
     "text": [
      "2025-05-13 14:00:43,085 - stpipe.Detector1Pipeline.rscd - INFO - RscdStep instance created.\n"
     ]
    },
    {
     "name": "stderr",
     "output_type": "stream",
     "text": [
      "2025-05-13 14:00:43,086 - stpipe.Detector1Pipeline.firstframe - INFO - FirstFrameStep instance created.\n"
     ]
    },
    {
     "name": "stderr",
     "output_type": "stream",
     "text": [
      "2025-05-13 14:00:43,086 - stpipe.Detector1Pipeline.lastframe - INFO - LastFrameStep instance created.\n"
     ]
    },
    {
     "name": "stderr",
     "output_type": "stream",
     "text": [
      "2025-05-13 14:00:43,087 - stpipe.Detector1Pipeline.linearity - INFO - LinearityStep instance created.\n"
     ]
    },
    {
     "name": "stderr",
     "output_type": "stream",
     "text": [
      "2025-05-13 14:00:43,088 - stpipe.Detector1Pipeline.dark_current - INFO - DarkCurrentStep instance created.\n"
     ]
    },
    {
     "name": "stderr",
     "output_type": "stream",
     "text": [
      "2025-05-13 14:00:43,089 - stpipe.Detector1Pipeline.reset - INFO - ResetStep instance created.\n"
     ]
    },
    {
     "name": "stderr",
     "output_type": "stream",
     "text": [
      "2025-05-13 14:00:43,090 - stpipe.Detector1Pipeline.persistence - INFO - PersistenceStep instance created.\n"
     ]
    },
    {
     "name": "stderr",
     "output_type": "stream",
     "text": [
      "2025-05-13 14:00:43,090 - stpipe.Detector1Pipeline.charge_migration - INFO - ChargeMigrationStep instance created.\n"
     ]
    },
    {
     "name": "stderr",
     "output_type": "stream",
     "text": [
      "2025-05-13 14:00:43,092 - stpipe.Detector1Pipeline.jump - INFO - JumpStep instance created.\n"
     ]
    },
    {
     "name": "stderr",
     "output_type": "stream",
     "text": [
      "2025-05-13 14:00:43,093 - stpipe.Detector1Pipeline.clean_flicker_noise - INFO - CleanFlickerNoiseStep instance created.\n"
     ]
    },
    {
     "name": "stderr",
     "output_type": "stream",
     "text": [
      "2025-05-13 14:00:43,094 - stpipe.Detector1Pipeline.ramp_fit - INFO - RampFitStep instance created.\n"
     ]
    },
    {
     "name": "stderr",
     "output_type": "stream",
     "text": [
      "2025-05-13 14:00:43,095 - stpipe.Detector1Pipeline.gain_scale - INFO - GainScaleStep instance created.\n"
     ]
    },
    {
     "name": "stderr",
     "output_type": "stream",
     "text": [
      "2025-05-13 14:00:43,211 - stpipe.Detector1Pipeline - INFO - Step Detector1Pipeline running with args ('./imaging_demo_data/PID03730Obs013/uncal/jw03730013001_03101_00001-seg003_mirimage_uncal.fits',).\n"
     ]
    },
    {
     "name": "stderr",
     "output_type": "stream",
     "text": [
      "2025-05-13 14:00:43,233 - stpipe.Detector1Pipeline - INFO - Step Detector1Pipeline parameters are:\n",
      "  pre_hooks: []\n",
      "  post_hooks: []\n",
      "  output_file: None\n",
      "  output_dir: ./imaging_demo_data/PID03730Obs013/stage1\n",
      "  output_ext: .fits\n",
      "  output_use_model: False\n",
      "  output_use_index: True\n",
      "  save_results: True\n",
      "  skip: False\n",
      "  suffix: None\n",
      "  search_output_file: True\n",
      "  input_dir: ''\n",
      "  save_calibrated_ramp: True\n",
      "  steps:\n",
      "    group_scale:\n",
      "      pre_hooks: []\n",
      "      post_hooks: []\n",
      "      output_file: None\n",
      "      output_dir: None\n",
      "      output_ext: .fits\n",
      "      output_use_model: False\n",
      "      output_use_index: True\n",
      "      save_results: False\n",
      "      skip: False\n",
      "      suffix: None\n",
      "      search_output_file: True\n",
      "      input_dir: ''\n",
      "    dq_init:\n",
      "      pre_hooks: []\n",
      "      post_hooks: []\n",
      "      output_file: None\n",
      "      output_dir: None\n",
      "      output_ext: .fits\n",
      "      output_use_model: False\n",
      "      output_use_index: True\n",
      "      save_results: False\n",
      "      skip: False\n",
      "      suffix: None\n",
      "      search_output_file: True\n",
      "      input_dir: ''\n",
      "    emicorr:\n",
      "      pre_hooks: []\n",
      "      post_hooks: []\n",
      "      output_file: None\n",
      "      output_dir: None\n",
      "      output_ext: .fits\n",
      "      output_use_model: False\n",
      "      output_use_index: True\n",
      "      save_results: False\n",
      "      skip: False\n",
      "      suffix: None\n",
      "      search_output_file: True\n",
      "      input_dir: ''\n",
      "      algorithm: sequential\n",
      "      nints_to_phase: None\n",
      "      nbins: None\n",
      "      scale_reference: True\n",
      "      onthefly_corr_freq: None\n",
      "      use_n_cycles: 3\n",
      "      fit_ints_separately: False\n",
      "      user_supplied_reffile: None\n",
      "      save_intermediate_results: False\n",
      "    saturation:\n",
      "      pre_hooks: []\n",
      "      post_hooks: []\n",
      "      output_file: None\n",
      "      output_dir: None\n",
      "      output_ext: .fits\n",
      "      output_use_model: False\n",
      "      output_use_index: True\n",
      "      save_results: False\n",
      "      skip: False\n",
      "      suffix: None\n",
      "      search_output_file: True\n",
      "      input_dir: ''\n",
      "      n_pix_grow_sat: 1\n",
      "      use_readpatt: True\n",
      "    ipc:\n",
      "      pre_hooks: []\n",
      "      post_hooks: []\n",
      "      output_file: None\n",
      "      output_dir: None\n",
      "      output_ext: .fits\n",
      "      output_use_model: False\n",
      "      output_use_index: True\n",
      "      save_results: False\n",
      "      skip: True\n",
      "      suffix: None\n",
      "      search_output_file: True\n",
      "      input_dir: ''\n",
      "    superbias:\n",
      "      pre_hooks: []\n",
      "      post_hooks: []\n",
      "      output_file: None\n",
      "      output_dir: None\n",
      "      output_ext: .fits\n",
      "      output_use_model: False\n",
      "      output_use_index: True\n",
      "      save_results: False\n",
      "      skip: False\n",
      "      suffix: None\n",
      "      search_output_file: True\n",
      "      input_dir: ''\n",
      "    refpix:\n",
      "      pre_hooks: []\n",
      "      post_hooks: []\n",
      "      output_file: None\n",
      "      output_dir: None\n",
      "      output_ext: .fits\n",
      "      output_use_model: False\n",
      "      output_use_index: True\n",
      "      save_results: False\n",
      "      skip: False\n",
      "      suffix: None\n",
      "      search_output_file: True\n",
      "      input_dir: ''\n",
      "      odd_even_columns: True\n",
      "      use_side_ref_pixels: True\n",
      "      side_smoothing_length: 11\n",
      "      side_gain: 1.0\n",
      "      odd_even_rows: True\n",
      "      ovr_corr_mitigation_ftr: 3.0\n",
      "      preserve_irs2_refpix: False\n",
      "      irs2_mean_subtraction: False\n",
      "      refpix_algorithm: median\n",
      "      sigreject: 4.0\n",
      "      gaussmooth: 1.0\n",
      "      halfwidth: 30\n",
      "    rscd:\n",
      "      pre_hooks: []\n",
      "      post_hooks: []\n",
      "      output_file: None\n",
      "      output_dir: None\n",
      "      output_ext: .fits\n",
      "      output_use_model: False\n",
      "      output_use_index: True\n",
      "      save_results: False\n",
      "      skip: True\n",
      "      suffix: None\n",
      "      search_output_file: True\n",
      "      input_dir: ''\n",
      "      type: baseline\n",
      "    firstframe:\n",
      "      pre_hooks: []\n",
      "      post_hooks: []\n",
      "      output_file: None\n",
      "      output_dir: None\n",
      "      output_ext: .fits\n",
      "      output_use_model: False\n",
      "      output_use_index: True\n",
      "      save_results: False\n",
      "      skip: True\n",
      "      suffix: None\n",
      "      search_output_file: True\n",
      "      input_dir: ''\n",
      "      bright_use_group1: False\n",
      "    lastframe:\n",
      "      pre_hooks: []\n",
      "      post_hooks: []\n",
      "      output_file: None\n",
      "      output_dir: None\n",
      "      output_ext: .fits\n",
      "      output_use_model: False\n",
      "      output_use_index: True\n",
      "      save_results: False\n",
      "      skip: False\n",
      "      suffix: None\n",
      "      search_output_file: True\n",
      "      input_dir: ''\n",
      "    linearity:\n",
      "      pre_hooks: []\n",
      "      post_hooks: []\n",
      "      output_file: None\n",
      "      output_dir: None\n",
      "      output_ext: .fits\n",
      "      output_use_model: False\n",
      "      output_use_index: True\n",
      "      save_results: False\n",
      "      skip: False\n",
      "      suffix: None\n",
      "      search_output_file: True\n",
      "      input_dir: ''\n",
      "    dark_current:\n",
      "      pre_hooks: []\n",
      "      post_hooks: []\n",
      "      output_file: None\n",
      "      output_dir: None\n",
      "      output_ext: .fits\n",
      "      output_use_model: False\n",
      "      output_use_index: True\n",
      "      save_results: False\n",
      "      skip: False\n",
      "      suffix: None\n",
      "      search_output_file: True\n",
      "      input_dir: ''\n",
      "      dark_output: None\n",
      "      average_dark_current: 1.0\n",
      "    reset:\n",
      "      pre_hooks: []\n",
      "      post_hooks: []\n",
      "      output_file: None\n",
      "      output_dir: None\n",
      "      output_ext: .fits\n",
      "      output_use_model: False\n",
      "      output_use_index: True\n",
      "      save_results: False\n",
      "      skip: False\n",
      "      suffix: None\n",
      "      search_output_file: True\n",
      "      input_dir: ''\n",
      "    persistence:\n",
      "      pre_hooks: []\n",
      "      post_hooks: []\n",
      "      output_file: None\n",
      "      output_dir: None\n",
      "      output_ext: .fits\n",
      "      output_use_model: False\n",
      "      output_use_index: True\n",
      "      save_results: False\n",
      "      skip: True\n",
      "      suffix: None\n",
      "      search_output_file: True\n",
      "      input_dir: ''\n",
      "      input_trapsfilled: ''\n",
      "      flag_pers_cutoff: 40.0\n",
      "      save_persistence: False\n",
      "      save_trapsfilled: True\n",
      "      modify_input: False\n",
      "    charge_migration:\n",
      "      pre_hooks: []\n",
      "      post_hooks: []\n",
      "      output_file: None\n",
      "      output_dir: None\n",
      "      output_ext: .fits\n",
      "      output_use_model: False\n",
      "      output_use_index: True\n",
      "      save_results: False\n",
      "      skip: True\n",
      "      suffix: None\n",
      "      search_output_file: True\n",
      "      input_dir: ''\n",
      "      signal_threshold: 25000.0\n",
      "    jump:\n",
      "      pre_hooks: []\n",
      "      post_hooks: []\n",
      "      output_file: None\n",
      "      output_dir: None\n",
      "      output_ext: .fits\n",
      "      output_use_model: False\n",
      "      output_use_index: True\n",
      "      save_results: False\n",
      "      skip: False\n",
      "      suffix: None\n",
      "      search_output_file: True\n",
      "      input_dir: ''\n",
      "      rejection_threshold: 4.0\n",
      "      three_group_rejection_threshold: 6.0\n",
      "      four_group_rejection_threshold: 5.0\n",
      "      maximum_cores: half\n",
      "      flag_4_neighbors: True\n",
      "      max_jump_to_flag_neighbors: 1000\n",
      "      min_jump_to_flag_neighbors: 30\n",
      "      after_jump_flag_dn1: 500\n",
      "      after_jump_flag_time1: 15\n",
      "      after_jump_flag_dn2: 1000\n",
      "      after_jump_flag_time2: 3000\n",
      "      expand_large_events: False\n",
      "      min_sat_area: 1\n",
      "      min_jump_area: 0\n",
      "      expand_factor: 0\n",
      "      use_ellipses: False\n",
      "      sat_required_snowball: False\n",
      "      min_sat_radius_extend: 0.0\n",
      "      sat_expand: 0\n",
      "      edge_size: 0\n",
      "      mask_snowball_core_next_int: True\n",
      "      snowball_time_masked_next_int: 4000\n",
      "      find_showers: True\n",
      "      max_shower_amplitude: 4.0\n",
      "      extend_snr_threshold: 3.0\n",
      "      extend_min_area: 50\n",
      "      extend_inner_radius: 1\n",
      "      extend_outer_radius: 2.6\n",
      "      extend_ellipse_expand_ratio: 1.1\n",
      "      time_masked_after_shower: 30\n",
      "      min_diffs_single_pass: 10\n",
      "      max_extended_radius: 200\n",
      "      minimum_groups: 3\n",
      "      minimum_sigclip_groups: 100\n",
      "      only_use_ints: True\n",
      "    clean_flicker_noise:\n",
      "      pre_hooks: []\n",
      "      post_hooks: []\n",
      "      output_file: None\n",
      "      output_dir: None\n",
      "      output_ext: .fits\n",
      "      output_use_model: False\n",
      "      output_use_index: True\n",
      "      save_results: False\n",
      "      skip: True\n",
      "      suffix: None\n",
      "      search_output_file: True\n",
      "      input_dir: ''\n",
      "      fit_method: median\n",
      "      fit_by_channel: False\n",
      "      background_method: median\n",
      "      background_box_size: None\n",
      "      mask_science_regions: False\n",
      "      apply_flat_field: False\n",
      "      n_sigma: 2.0\n",
      "      fit_histogram: False\n",
      "      single_mask: True\n",
      "      user_mask: None\n",
      "      save_mask: False\n",
      "      save_background: False\n",
      "      save_noise: False\n",
      "    ramp_fit:\n",
      "      pre_hooks: []\n",
      "      post_hooks: []\n",
      "      output_file: None\n",
      "      output_dir: None\n",
      "      output_ext: .fits\n",
      "      output_use_model: False\n",
      "      output_use_index: True\n",
      "      save_results: False\n",
      "      skip: False\n",
      "      suffix: None\n",
      "      search_output_file: True\n",
      "      input_dir: ''\n",
      "      algorithm: OLS_C\n",
      "      int_name: ''\n",
      "      save_opt: False\n",
      "      opt_name: ''\n",
      "      suppress_one_group: True\n",
      "      firstgroup: None\n",
      "      lastgroup: None\n",
      "      maximum_cores: '1'\n",
      "    gain_scale:\n",
      "      pre_hooks: []\n",
      "      post_hooks: []\n",
      "      output_file: None\n",
      "      output_dir: None\n",
      "      output_ext: .fits\n",
      "      output_use_model: False\n",
      "      output_use_index: True\n",
      "      save_results: False\n",
      "      skip: False\n",
      "      suffix: None\n",
      "      search_output_file: True\n",
      "      input_dir: ''\n"
     ]
    },
    {
     "name": "stderr",
     "output_type": "stream",
     "text": [
      "2025-05-13 14:00:44,121 - stpipe.Detector1Pipeline - INFO - Prefetching reference files for dataset: 'jw03730013001_03101_00001-seg003_mirimage_uncal.fits' reftypes = ['dark', 'emicorr', 'gain', 'linearity', 'mask', 'readnoise', 'refpix', 'reset', 'saturation', 'sirskernel', 'superbias']\n"
     ]
    },
    {
     "name": "stderr",
     "output_type": "stream",
     "text": [
      "2025-05-13 14:00:44,124 - stpipe.Detector1Pipeline - INFO - Prefetch for DARK reference file is '/home/runner/crds/references/jwst/miri/jwst_miri_dark_0104.fits'.\n"
     ]
    },
    {
     "name": "stderr",
     "output_type": "stream",
     "text": [
      "2025-05-13 14:00:44,125 - stpipe.Detector1Pipeline - INFO - Prefetch for EMICORR reference file is '/home/runner/crds/references/jwst/miri/jwst_miri_emicorr_0002.asdf'.\n"
     ]
    },
    {
     "name": "stderr",
     "output_type": "stream",
     "text": [
      "2025-05-13 14:00:44,125 - stpipe.Detector1Pipeline - INFO - Prefetch for GAIN reference file is '/home/runner/crds/references/jwst/miri/jwst_miri_gain_0048.fits'.\n"
     ]
    },
    {
     "name": "stderr",
     "output_type": "stream",
     "text": [
      "2025-05-13 14:00:44,125 - stpipe.Detector1Pipeline - INFO - Prefetch for LINEARITY reference file is '/home/runner/crds/references/jwst/miri/jwst_miri_linearity_0039.fits'.\n"
     ]
    },
    {
     "name": "stderr",
     "output_type": "stream",
     "text": [
      "2025-05-13 14:00:44,126 - stpipe.Detector1Pipeline - INFO - Prefetch for MASK reference file is '/home/runner/crds/references/jwst/miri/jwst_miri_mask_0036.fits'.\n"
     ]
    },
    {
     "name": "stderr",
     "output_type": "stream",
     "text": [
      "2025-05-13 14:00:44,126 - stpipe.Detector1Pipeline - INFO - Prefetch for READNOISE reference file is '/home/runner/crds/references/jwst/miri/jwst_miri_readnoise_0085.fits'.\n"
     ]
    },
    {
     "name": "stderr",
     "output_type": "stream",
     "text": [
      "2025-05-13 14:00:44,127 - stpipe.Detector1Pipeline - INFO - Prefetch for REFPIX reference file is 'N/A'.\n"
     ]
    },
    {
     "name": "stderr",
     "output_type": "stream",
     "text": [
      "2025-05-13 14:00:44,127 - stpipe.Detector1Pipeline - INFO - Prefetch for RESET reference file is '/home/runner/crds/references/jwst/miri/jwst_miri_reset_0055.fits'.\n"
     ]
    },
    {
     "name": "stderr",
     "output_type": "stream",
     "text": [
      "2025-05-13 14:00:44,128 - stpipe.Detector1Pipeline - INFO - Prefetch for SATURATION reference file is '/home/runner/crds/references/jwst/miri/jwst_miri_saturation_0034.fits'.\n"
     ]
    },
    {
     "name": "stderr",
     "output_type": "stream",
     "text": [
      "2025-05-13 14:00:44,128 - stpipe.Detector1Pipeline - INFO - Prefetch for SIRSKERNEL reference file is 'N/A'.\n"
     ]
    },
    {
     "name": "stderr",
     "output_type": "stream",
     "text": [
      "2025-05-13 14:00:44,128 - stpipe.Detector1Pipeline - INFO - Prefetch for SUPERBIAS reference file is 'N/A'.\n"
     ]
    },
    {
     "name": "stderr",
     "output_type": "stream",
     "text": [
      "2025-05-13 14:00:44,135 - stpipe.Detector1Pipeline - INFO - Starting calwebb_detector1 ...\n"
     ]
    },
    {
     "name": "stderr",
     "output_type": "stream",
     "text": [
      "2025-05-13 14:00:45,550 - stpipe.Detector1Pipeline.group_scale - INFO - Step group_scale running with args (<RampModel(234, 39, 256, 256) from jw03730013001_03101_00001-seg003_mirimage_uncal.fits>,).\n"
     ]
    },
    {
     "name": "stderr",
     "output_type": "stream",
     "text": [
      "2025-05-13 14:00:45,558 - stpipe.Detector1Pipeline.group_scale - INFO - NFRAMES and FRMDIVSR are equal; correction not needed\n"
     ]
    },
    {
     "name": "stderr",
     "output_type": "stream",
     "text": [
      "2025-05-13 14:00:45,558 - stpipe.Detector1Pipeline.group_scale - INFO - Step will be skipped\n"
     ]
    },
    {
     "name": "stderr",
     "output_type": "stream",
     "text": [
      "2025-05-13 14:00:45,560 - stpipe.Detector1Pipeline.group_scale - INFO - Step group_scale done\n"
     ]
    },
    {
     "name": "stderr",
     "output_type": "stream",
     "text": [
      "2025-05-13 14:00:45,652 - stpipe.Detector1Pipeline.dq_init - INFO - Step dq_init running with args (<RampModel(234, 39, 256, 256) from jw03730013001_03101_00001-seg003_mirimage_uncal.fits>,).\n"
     ]
    },
    {
     "name": "stderr",
     "output_type": "stream",
     "text": [
      "2025-05-13 14:00:45,667 - stpipe.Detector1Pipeline.dq_init - INFO - Using MASK reference file /home/runner/crds/references/jwst/miri/jwst_miri_mask_0036.fits\n"
     ]
    },
    {
     "name": "stderr",
     "output_type": "stream",
     "text": [
      "2025-05-13 14:00:46,154 - stpipe.Detector1Pipeline.dq_init - WARNING - Keyword RESERVED_4 does not correspond to an existing DQ mnemonic, so will be ignored\n"
     ]
    },
    {
     "name": "stderr",
     "output_type": "stream",
     "text": [
      "2025-05-13 14:00:46,166 - stpipe.Detector1Pipeline.dq_init - WARNING - Keyword UNRELIABLE_RESET does not correspond to an existing DQ mnemonic, so will be ignored\n"
     ]
    },
    {
     "name": "stderr",
     "output_type": "stream",
     "text": [
      "2025-05-13 14:00:46,169 - stpipe.Detector1Pipeline.dq_init - INFO - Extracting mask subarray to match science data\n"
     ]
    },
    {
     "name": "stderr",
     "output_type": "stream",
     "text": [
      "2025-05-13 14:00:46,681 - stpipe.Detector1Pipeline.dq_init - INFO - Step dq_init done\n"
     ]
    },
    {
     "name": "stderr",
     "output_type": "stream",
     "text": [
      "2025-05-13 14:00:46,797 - stpipe.Detector1Pipeline.emicorr - INFO - Step emicorr running with args (<RampModel(234, 39, 256, 256) from jw03730013001_03101_00001-seg003_mirimage_uncal.fits>,).\n"
     ]
    },
    {
     "name": "stderr",
     "output_type": "stream",
     "text": [
      "2025-05-13 14:00:47,281 - stpipe.Detector1Pipeline.emicorr - INFO - Using CRDS reference file: /home/runner/crds/references/jwst/miri/jwst_miri_emicorr_0002.asdf\n"
     ]
    },
    {
     "name": "stderr",
     "output_type": "stream",
     "text": [
      "2025-05-13 14:00:47,298 - stpipe.Detector1Pipeline.emicorr - INFO - Using reference file to get subarray case.\n"
     ]
    },
    {
     "name": "stderr",
     "output_type": "stream",
     "text": [
      "2025-05-13 14:00:47,298 - stpipe.Detector1Pipeline.emicorr - INFO - With configuration: Subarray=SUB256, Read_pattern=FASTR1, Detector=MIRIMAGE\n"
     ]
    },
    {
     "name": "stderr",
     "output_type": "stream",
     "text": [
      "2025-05-13 14:00:47,299 - stpipe.Detector1Pipeline.emicorr - INFO - Will correct data for the following 1 frequencies: \n"
     ]
    },
    {
     "name": "stderr",
     "output_type": "stream",
     "text": [
      "2025-05-13 14:00:47,299 - stpipe.Detector1Pipeline.emicorr - INFO -    ['Hz10']\n"
     ]
    },
    {
     "name": "stderr",
     "output_type": "stream",
     "text": [
      "2025-05-13 14:00:47,299 - stpipe.Detector1Pipeline.emicorr - INFO - Running EMI fit with algorithm = 'sequential'.\n"
     ]
    },
    {
     "name": "stderr",
     "output_type": "stream",
     "text": [
      "2025-05-13 14:00:47,300 - stpipe.Detector1Pipeline.emicorr - INFO - Correcting for frequency: 10.039216 Hz  (1 out of 1)\n"
     ]
    },
    {
     "name": "stderr",
     "output_type": "stream",
     "text": [
      "2025-05-13 14:00:47,301 - stpipe.Detector1Pipeline.emicorr - INFO - Subtracting self-superbias from each group of each integration\n"
     ]
    },
    {
     "name": "stderr",
     "output_type": "stream",
     "text": [
      "2025-05-13 14:00:47,301 - stpipe.Detector1Pipeline.emicorr - INFO - Doing phase calculation per integration\n"
     ]
    },
    {
     "name": "stderr",
     "output_type": "stream",
     "text": [
      "2025-05-13 14:01:22,533 - stpipe.Detector1Pipeline.emicorr - INFO - Calculating the phase amplitude for 500 bins\n"
     ]
    },
    {
     "name": "stderr",
     "output_type": "stream",
     "text": [
      "2025-05-13 14:01:23,037 - stpipe.Detector1Pipeline.emicorr - INFO - Using reference file to measure phase shift\n"
     ]
    },
    {
     "name": "stderr",
     "output_type": "stream",
     "text": [
      "2025-05-13 14:01:23,073 - stpipe.Detector1Pipeline.emicorr - INFO - Creating phased-matched noise model to subtract from data\n"
     ]
    },
    {
     "name": "stderr",
     "output_type": "stream",
     "text": [
      "2025-05-13 14:01:23,743 - stpipe.Detector1Pipeline.emicorr - INFO - Subtracting EMI noise from data\n"
     ]
    },
    {
     "name": "stderr",
     "output_type": "stream",
     "text": [
      "2025-05-13 14:01:24,715 - stpipe.Detector1Pipeline.emicorr - INFO - Step emicorr done\n"
     ]
    },
    {
     "name": "stderr",
     "output_type": "stream",
     "text": [
      "2025-05-13 14:01:24,828 - stpipe.Detector1Pipeline.saturation - INFO - Step saturation running with args (<RampModel(234, 39, 256, 256) from jw03730013001_03101_00001-seg003_mirimage_uncal.fits>,).\n"
     ]
    },
    {
     "name": "stderr",
     "output_type": "stream",
     "text": [
      "2025-05-13 14:01:24,844 - stpipe.Detector1Pipeline.saturation - INFO - Using SATURATION reference file /home/runner/crds/references/jwst/miri/jwst_miri_saturation_0034.fits\n"
     ]
    },
    {
     "name": "stderr",
     "output_type": "stream",
     "text": [
      "2025-05-13 14:01:24,866 - stpipe.Detector1Pipeline.saturation - WARNING - Keyword RESERVED_4 does not correspond to an existing DQ mnemonic, so will be ignored\n"
     ]
    },
    {
     "name": "stderr",
     "output_type": "stream",
     "text": [
      "2025-05-13 14:01:24,875 - stpipe.Detector1Pipeline.saturation - WARNING - Keyword UNRELIABLE_RESET does not correspond to an existing DQ mnemonic, so will be ignored\n"
     ]
    },
    {
     "name": "stderr",
     "output_type": "stream",
     "text": [
      "2025-05-13 14:01:25,353 - stpipe.Detector1Pipeline.saturation - INFO - Extracting reference file subarray to match science data\n"
     ]
    },
    {
     "name": "stderr",
     "output_type": "stream",
     "text": [
      "2025-05-13 14:01:25,360 - stpipe.Detector1Pipeline.saturation - INFO - Using read_pattern with nframes 1\n"
     ]
    },
    {
     "name": "stderr",
     "output_type": "stream",
     "text": [
      "2025-05-13 14:01:29,832 - stpipe.Detector1Pipeline.saturation - INFO - Detected 0 saturated pixels\n"
     ]
    },
    {
     "name": "stderr",
     "output_type": "stream",
     "text": [
      "2025-05-13 14:01:29,970 - stpipe.Detector1Pipeline.saturation - INFO - Detected 3 A/D floor pixels\n"
     ]
    },
    {
     "name": "stderr",
     "output_type": "stream",
     "text": [
      "2025-05-13 14:01:29,973 - stpipe.Detector1Pipeline.saturation - INFO - Step saturation done\n"
     ]
    },
    {
     "name": "stderr",
     "output_type": "stream",
     "text": [
      "2025-05-13 14:01:30,107 - stpipe.Detector1Pipeline.ipc - INFO - Step ipc running with args (<RampModel(234, 39, 256, 256) from jw03730013001_03101_00001-seg003_mirimage_uncal.fits>,).\n"
     ]
    },
    {
     "name": "stderr",
     "output_type": "stream",
     "text": [
      "2025-05-13 14:01:30,107 - stpipe.Detector1Pipeline.ipc - INFO - Step skipped.\n"
     ]
    },
    {
     "name": "stderr",
     "output_type": "stream",
     "text": [
      "2025-05-13 14:01:30,213 - stpipe.Detector1Pipeline.firstframe - INFO - Step firstframe running with args (<RampModel(234, 39, 256, 256) from jw03730013001_03101_00001-seg003_mirimage_uncal.fits>,).\n"
     ]
    },
    {
     "name": "stderr",
     "output_type": "stream",
     "text": [
      "2025-05-13 14:01:30,214 - stpipe.Detector1Pipeline.firstframe - INFO - Step skipped.\n"
     ]
    },
    {
     "name": "stderr",
     "output_type": "stream",
     "text": [
      "2025-05-13 14:01:30,303 - stpipe.Detector1Pipeline.lastframe - INFO - Step lastframe running with args (<RampModel(234, 39, 256, 256) from jw03730013001_03101_00001-seg003_mirimage_uncal.fits>,).\n"
     ]
    },
    {
     "name": "stderr",
     "output_type": "stream",
     "text": [
      "2025-05-13 14:01:30,792 - stpipe.Detector1Pipeline.lastframe - INFO - Step lastframe done\n"
     ]
    },
    {
     "name": "stderr",
     "output_type": "stream",
     "text": [
      "2025-05-13 14:01:30,902 - stpipe.Detector1Pipeline.reset - INFO - Step reset running with args (<RampModel(234, 39, 256, 256) from jw03730013001_03101_00001-seg003_mirimage_uncal.fits>,).\n"
     ]
    },
    {
     "name": "stderr",
     "output_type": "stream",
     "text": [
      "2025-05-13 14:01:30,918 - stpipe.Detector1Pipeline.reset - INFO - Using RESET reference file /home/runner/crds/references/jwst/miri/jwst_miri_reset_0055.fits\n"
     ]
    },
    {
     "name": "stderr",
     "output_type": "stream",
     "text": [
      "2025-05-13 14:01:30,938 - stpipe.Detector1Pipeline.reset - WARNING - Keyword RESERVED_4 does not correspond to an existing DQ mnemonic, so will be ignored\n"
     ]
    },
    {
     "name": "stderr",
     "output_type": "stream",
     "text": [
      "2025-05-13 14:01:30,940 - stpipe.Detector1Pipeline.reset - WARNING - Keyword UNRELIABLE_RESET does not correspond to an existing DQ mnemonic, so will be ignored\n"
     ]
    },
    {
     "name": "stderr",
     "output_type": "stream",
     "text": [
      "2025-05-13 14:01:31,714 - stpipe.Detector1Pipeline.reset - INFO - Step reset done\n"
     ]
    },
    {
     "name": "stderr",
     "output_type": "stream",
     "text": [
      "2025-05-13 14:01:31,830 - stpipe.Detector1Pipeline.linearity - INFO - Step linearity running with args (<RampModel(234, 39, 256, 256) from jw03730013001_03101_00001-seg003_mirimage_uncal.fits>,).\n"
     ]
    },
    {
     "name": "stderr",
     "output_type": "stream",
     "text": [
      "2025-05-13 14:01:31,846 - stpipe.Detector1Pipeline.linearity - INFO - Using Linearity reference file /home/runner/crds/references/jwst/miri/jwst_miri_linearity_0039.fits\n"
     ]
    },
    {
     "name": "stderr",
     "output_type": "stream",
     "text": [
      "2025-05-13 14:01:31,871 - stpipe.Detector1Pipeline.linearity - WARNING - Keyword RESERVED_4 does not correspond to an existing DQ mnemonic, so will be ignored\n"
     ]
    },
    {
     "name": "stderr",
     "output_type": "stream",
     "text": [
      "2025-05-13 14:01:31,881 - stpipe.Detector1Pipeline.linearity - WARNING - Keyword UNRELIABLE_RESET does not correspond to an existing DQ mnemonic, so will be ignored\n"
     ]
    },
    {
     "name": "stderr",
     "output_type": "stream",
     "text": [
      "2025-05-13 14:01:35,811 - stpipe.Detector1Pipeline.linearity - INFO - Step linearity done\n"
     ]
    },
    {
     "name": "stderr",
     "output_type": "stream",
     "text": [
      "2025-05-13 14:01:35,928 - stpipe.Detector1Pipeline.rscd - INFO - Step rscd running with args (<RampModel(234, 39, 256, 256) from jw03730013001_03101_00001-seg003_mirimage_uncal.fits>,).\n"
     ]
    },
    {
     "name": "stderr",
     "output_type": "stream",
     "text": [
      "2025-05-13 14:01:35,928 - stpipe.Detector1Pipeline.rscd - INFO - Step skipped.\n"
     ]
    },
    {
     "name": "stderr",
     "output_type": "stream",
     "text": [
      "2025-05-13 14:01:36,016 - stpipe.Detector1Pipeline.dark_current - INFO - Step dark_current running with args (<RampModel(234, 39, 256, 256) from jw03730013001_03101_00001-seg003_mirimage_uncal.fits>,).\n"
     ]
    },
    {
     "name": "stderr",
     "output_type": "stream",
     "text": [
      "2025-05-13 14:01:36,033 - stpipe.Detector1Pipeline.dark_current - INFO - Using DARK reference file /home/runner/crds/references/jwst/miri/jwst_miri_dark_0104.fits\n"
     ]
    },
    {
     "name": "stderr",
     "output_type": "stream",
     "text": [
      "2025-05-13 14:01:36,566 - stpipe.Detector1Pipeline.dark_current - INFO - Using Poisson noise from average dark current 1.0 e-/sec\n"
     ]
    },
    {
     "name": "stderr",
     "output_type": "stream",
     "text": [
      "2025-05-13 14:01:36,567 - stpipe.Detector1Pipeline.dark_current - INFO - Science data nints=234, ngroups=39, nframes=1, groupgap=0\n"
     ]
    },
    {
     "name": "stderr",
     "output_type": "stream",
     "text": [
      "2025-05-13 14:01:36,567 - stpipe.Detector1Pipeline.dark_current - INFO - Dark data nints=2, ngroups=200, nframes=1, groupgap=0\n"
     ]
    },
    {
     "name": "stderr",
     "output_type": "stream",
     "text": [
      "2025-05-13 14:01:37,518 - stpipe.Detector1Pipeline.dark_current - INFO - Step dark_current done\n"
     ]
    },
    {
     "name": "stderr",
     "output_type": "stream",
     "text": [
      "2025-05-13 14:01:37,632 - stpipe.Detector1Pipeline.refpix - INFO - Step refpix running with args (<RampModel(234, 39, 256, 256) from jw03730013001_03101_00001-seg003_mirimage_uncal.fits>,).\n"
     ]
    },
    {
     "name": "stderr",
     "output_type": "stream",
     "text": [
      "2025-05-13 14:01:38,115 - stpipe.Detector1Pipeline.refpix - WARNING - Refpix correction skipped for MIRI subarrays\n"
     ]
    },
    {
     "name": "stderr",
     "output_type": "stream",
     "text": [
      "2025-05-13 14:01:38,116 - stpipe.Detector1Pipeline.refpix - INFO - Step refpix done\n"
     ]
    },
    {
     "name": "stderr",
     "output_type": "stream",
     "text": [
      "2025-05-13 14:01:38,234 - stpipe.Detector1Pipeline.charge_migration - INFO - Step charge_migration running with args (<RampModel(234, 39, 256, 256) from jw03730013001_03101_00001-seg003_mirimage_uncal.fits>,).\n"
     ]
    },
    {
     "name": "stderr",
     "output_type": "stream",
     "text": [
      "2025-05-13 14:01:38,235 - stpipe.Detector1Pipeline.charge_migration - INFO - Step skipped.\n"
     ]
    },
    {
     "name": "stderr",
     "output_type": "stream",
     "text": [
      "2025-05-13 14:01:38,323 - stpipe.Detector1Pipeline.jump - INFO - Step jump running with args (<RampModel(234, 39, 256, 256) from jw03730013001_03101_00001-seg003_mirimage_uncal.fits>,).\n"
     ]
    },
    {
     "name": "stderr",
     "output_type": "stream",
     "text": [
      "2025-05-13 14:01:38,331 - stpipe.Detector1Pipeline.jump - INFO - CR rejection threshold = 4 sigma\n"
     ]
    },
    {
     "name": "stderr",
     "output_type": "stream",
     "text": [
      "2025-05-13 14:01:38,332 - stpipe.Detector1Pipeline.jump - INFO - Maximum cores to use = half\n"
     ]
    },
    {
     "name": "stderr",
     "output_type": "stream",
     "text": [
      "2025-05-13 14:01:38,814 - stpipe.Detector1Pipeline.jump - INFO - Using GAIN reference file: /home/runner/crds/references/jwst/miri/jwst_miri_gain_0048.fits\n"
     ]
    },
    {
     "name": "stderr",
     "output_type": "stream",
     "text": [
      "2025-05-13 14:01:38,824 - stpipe.Detector1Pipeline.jump - INFO - Using READNOISE reference file: /home/runner/crds/references/jwst/miri/jwst_miri_readnoise_0085.fits\n"
     ]
    },
    {
     "name": "stderr",
     "output_type": "stream",
     "text": [
      "2025-05-13 14:01:38,848 - stpipe.Detector1Pipeline.jump - INFO - Extracting gain subarray to match science data\n"
     ]
    },
    {
     "name": "stderr",
     "output_type": "stream",
     "text": [
      "2025-05-13 14:01:38,853 - stpipe.Detector1Pipeline.jump - INFO - Extracting readnoise subarray to match science data\n"
     ]
    },
    {
     "name": "stderr",
     "output_type": "stream",
     "text": [
      "2025-05-13 14:01:39,607 - stpipe.Detector1Pipeline.jump - INFO - Executing two-point difference method\n"
     ]
    },
    {
     "name": "stderr",
     "output_type": "stream",
     "text": [
      "2025-05-13 14:01:39,608 - stpipe.Detector1Pipeline.jump - INFO - Creating 4 processes for jump detection \n"
     ]
    },
    {
     "name": "stderr",
     "output_type": "stream",
     "text": [
      "2025-05-13 14:02:19,169 - stpipe.Detector1Pipeline.jump - INFO - Flagging Showers\n"
     ]
    },
    {
     "name": "stderr",
     "output_type": "stream",
     "text": [
      "2025-05-13 14:04:36,005 - stpipe.Detector1Pipeline.jump - INFO - Total showers= 0\n"
     ]
    },
    {
     "name": "stderr",
     "output_type": "stream",
     "text": [
      "2025-05-13 14:04:36,005 - stpipe.Detector1Pipeline.jump - INFO - Total elapsed time = 176.397 sec\n"
     ]
    },
    {
     "name": "stderr",
     "output_type": "stream",
     "text": [
      "2025-05-13 14:04:36,684 - stpipe.Detector1Pipeline.jump - INFO - The execution time in seconds: 178.352535\n"
     ]
    },
    {
     "name": "stderr",
     "output_type": "stream",
     "text": [
      "2025-05-13 14:04:36,689 - stpipe.Detector1Pipeline.jump - INFO - Step jump done\n"
     ]
    },
    {
     "name": "stderr",
     "output_type": "stream",
     "text": [
      "2025-05-13 14:04:36,825 - stpipe.Detector1Pipeline.clean_flicker_noise - INFO - Step clean_flicker_noise running with args (<RampModel(234, 39, 256, 256) from jw03730013001_03101_00001-seg003_mirimage_uncal.fits>,).\n"
     ]
    },
    {
     "name": "stderr",
     "output_type": "stream",
     "text": [
      "2025-05-13 14:04:36,826 - stpipe.Detector1Pipeline.clean_flicker_noise - INFO - Step skipped.\n"
     ]
    },
    {
     "name": "stderr",
     "output_type": "stream",
     "text": [
      "2025-05-13 14:04:39,259 - stpipe.Detector1Pipeline - INFO - Saved model in ./imaging_demo_data/PID03730Obs013/stage1/jw03730013001_03101_00001-seg003_mirimage_ramp.fits\n"
     ]
    },
    {
     "name": "stderr",
     "output_type": "stream",
     "text": [
      "2025-05-13 14:04:39,374 - stpipe.Detector1Pipeline.ramp_fit - INFO - Step ramp_fit running with args (<RampModel(234, 39, 256, 256) from jw03730013001_03101_00001-seg003_mirimage_ramp.fits>,).\n"
     ]
    },
    {
     "name": "stderr",
     "output_type": "stream",
     "text": [
      "2025-05-13 14:04:39,868 - stpipe.Detector1Pipeline.ramp_fit - INFO - Using READNOISE reference file: /home/runner/crds/references/jwst/miri/jwst_miri_readnoise_0085.fits\n"
     ]
    },
    {
     "name": "stderr",
     "output_type": "stream",
     "text": [
      "2025-05-13 14:04:39,869 - stpipe.Detector1Pipeline.ramp_fit - INFO - Using GAIN reference file: /home/runner/crds/references/jwst/miri/jwst_miri_gain_0048.fits\n"
     ]
    },
    {
     "name": "stderr",
     "output_type": "stream",
     "text": [
      "2025-05-13 14:04:39,893 - stpipe.Detector1Pipeline.ramp_fit - INFO - Extracting gain subarray to match science data\n"
     ]
    },
    {
     "name": "stderr",
     "output_type": "stream",
     "text": [
      "2025-05-13 14:04:39,898 - stpipe.Detector1Pipeline.ramp_fit - INFO - Extracting readnoise subarray to match science data\n"
     ]
    },
    {
     "name": "stderr",
     "output_type": "stream",
     "text": [
      "2025-05-13 14:04:39,905 - stpipe.Detector1Pipeline.ramp_fit - INFO - Using algorithm = OLS_C\n"
     ]
    },
    {
     "name": "stderr",
     "output_type": "stream",
     "text": [
      "2025-05-13 14:04:39,905 - stpipe.Detector1Pipeline.ramp_fit - INFO - Using weighting = optimal\n"
     ]
    },
    {
     "name": "stderr",
     "output_type": "stream",
     "text": [
      "2025-05-13 14:04:44,366 - stpipe.Detector1Pipeline.ramp_fit - INFO - Number of multiprocessing slices: 1\n"
     ]
    },
    {
     "name": "stderr",
     "output_type": "stream",
     "text": [
      "2025-05-13 14:04:44,369 - stpipe.Detector1Pipeline.ramp_fit - INFO - Number of leading groups that are flagged as DO_NOT_USE: 0\n"
     ]
    },
    {
     "name": "stderr",
     "output_type": "stream",
     "text": [
      "2025-05-13 14:04:44,372 - stpipe.Detector1Pipeline.ramp_fit - INFO - MIRI dataset has all pixels in the final group flagged as DO_NOT_USE.\n"
     ]
    },
    {
     "name": "stderr",
     "output_type": "stream",
     "text": [
      "2025-05-13 14:05:38,791 - stpipe.Detector1Pipeline.ramp_fit - INFO - Ramp Fitting C Time: 54.4172477722168\n"
     ]
    },
    {
     "name": "stderr",
     "output_type": "stream",
     "text": [
      "2025-05-13 14:05:38,858 - stpipe.Detector1Pipeline.ramp_fit - INFO - Step ramp_fit done\n"
     ]
    },
    {
     "name": "stderr",
     "output_type": "stream",
     "text": [
      "2025-05-13 14:05:38,970 - stpipe.Detector1Pipeline.gain_scale - INFO - Step gain_scale running with args (<ImageModel(256, 256) from jw03730013001_03101_00001-seg003_mirimage_ramp.fits>,).\n"
     ]
    },
    {
     "name": "stderr",
     "output_type": "stream",
     "text": [
      "2025-05-13 14:05:38,997 - stpipe.Detector1Pipeline.gain_scale - INFO - GAINFACT not found in gain reference file\n"
     ]
    },
    {
     "name": "stderr",
     "output_type": "stream",
     "text": [
      "2025-05-13 14:05:38,998 - stpipe.Detector1Pipeline.gain_scale - INFO - Step will be skipped\n"
     ]
    },
    {
     "name": "stderr",
     "output_type": "stream",
     "text": [
      "2025-05-13 14:05:39,000 - stpipe.Detector1Pipeline.gain_scale - INFO - Step gain_scale done\n"
     ]
    },
    {
     "name": "stderr",
     "output_type": "stream",
     "text": [
      "2025-05-13 14:05:39,092 - stpipe.Detector1Pipeline.gain_scale - INFO - Step gain_scale running with args (<CubeModel(234, 256, 256) from jw03730013001_03101_00001-seg003_mirimage_ramp.fits>,).\n"
     ]
    },
    {
     "name": "stderr",
     "output_type": "stream",
     "text": [
      "2025-05-13 14:05:39,120 - stpipe.Detector1Pipeline.gain_scale - INFO - GAINFACT not found in gain reference file\n"
     ]
    },
    {
     "name": "stderr",
     "output_type": "stream",
     "text": [
      "2025-05-13 14:05:39,120 - stpipe.Detector1Pipeline.gain_scale - INFO - Step will be skipped\n"
     ]
    },
    {
     "name": "stderr",
     "output_type": "stream",
     "text": [
      "2025-05-13 14:05:39,122 - stpipe.Detector1Pipeline.gain_scale - INFO - Step gain_scale done\n"
     ]
    },
    {
     "name": "stderr",
     "output_type": "stream",
     "text": [
      "2025-05-13 14:05:39,397 - stpipe.Detector1Pipeline - INFO - Saved model in ./imaging_demo_data/PID03730Obs013/stage1/jw03730013001_03101_00001-seg003_mirimage_rateints.fits\n"
     ]
    },
    {
     "name": "stderr",
     "output_type": "stream",
     "text": [
      "2025-05-13 14:05:39,398 - stpipe.Detector1Pipeline - INFO - ... ending calwebb_detector1\n"
     ]
    },
    {
     "name": "stderr",
     "output_type": "stream",
     "text": [
      "2025-05-13 14:05:39,400 - stpipe.Detector1Pipeline - INFO - Results used CRDS context: jwst_1364.pmap\n"
     ]
    },
    {
     "name": "stderr",
     "output_type": "stream",
     "text": [
      "2025-05-13 14:05:39,459 - stpipe.Detector1Pipeline - INFO - Saved model in ./imaging_demo_data/PID03730Obs013/stage1/jw03730013001_03101_00001-seg003_mirimage_rate.fits\n"
     ]
    },
    {
     "name": "stderr",
     "output_type": "stream",
     "text": [
      "2025-05-13 14:05:39,459 - stpipe.Detector1Pipeline - INFO - Step Detector1Pipeline done\n"
     ]
    },
    {
     "name": "stderr",
     "output_type": "stream",
     "text": [
      "2025-05-13 14:05:39,460 - stpipe - INFO - Results used jwst version: 1.18.0\n"
     ]
    },
    {
     "name": "stderr",
     "output_type": "stream",
     "text": [
      "2025-05-13 14:05:41,452 - stpipe - INFO - PARS-EMICORRSTEP parameters found: /home/runner/crds/references/jwst/miri/jwst_miri_pars-emicorrstep_0003.asdf\n"
     ]
    },
    {
     "name": "stderr",
     "output_type": "stream",
     "text": [
      "2025-05-13 14:05:41,465 - stpipe - INFO - PARS-DARKCURRENTSTEP parameters found: /home/runner/crds/references/jwst/miri/jwst_miri_pars-darkcurrentstep_0001.asdf\n"
     ]
    },
    {
     "name": "stderr",
     "output_type": "stream",
     "text": [
      "2025-05-13 14:05:41,475 - stpipe - INFO - PARS-JUMPSTEP parameters found: /home/runner/crds/references/jwst/miri/jwst_miri_pars-jumpstep_0005.asdf\n"
     ]
    },
    {
     "name": "stderr",
     "output_type": "stream",
     "text": [
      "2025-05-13 14:05:41,485 - stpipe - INFO - PARS-DETECTOR1PIPELINE parameters found: /home/runner/crds/references/jwst/miri/jwst_miri_pars-detector1pipeline_0006.asdf\n"
     ]
    },
    {
     "name": "stderr",
     "output_type": "stream",
     "text": [
      "2025-05-13 14:05:41,508 - stpipe.Detector1Pipeline - INFO - Detector1Pipeline instance created.\n"
     ]
    },
    {
     "name": "stderr",
     "output_type": "stream",
     "text": [
      "2025-05-13 14:05:41,509 - stpipe.Detector1Pipeline.group_scale - INFO - GroupScaleStep instance created.\n"
     ]
    },
    {
     "name": "stderr",
     "output_type": "stream",
     "text": [
      "2025-05-13 14:05:41,510 - stpipe.Detector1Pipeline.dq_init - INFO - DQInitStep instance created.\n"
     ]
    },
    {
     "name": "stderr",
     "output_type": "stream",
     "text": [
      "2025-05-13 14:05:41,511 - stpipe.Detector1Pipeline.emicorr - INFO - EmiCorrStep instance created.\n"
     ]
    },
    {
     "name": "stderr",
     "output_type": "stream",
     "text": [
      "2025-05-13 14:05:41,512 - stpipe.Detector1Pipeline.saturation - INFO - SaturationStep instance created.\n"
     ]
    },
    {
     "name": "stderr",
     "output_type": "stream",
     "text": [
      "2025-05-13 14:05:41,513 - stpipe.Detector1Pipeline.ipc - INFO - IPCStep instance created.\n"
     ]
    },
    {
     "name": "stderr",
     "output_type": "stream",
     "text": [
      "2025-05-13 14:05:41,514 - stpipe.Detector1Pipeline.superbias - INFO - SuperBiasStep instance created.\n"
     ]
    },
    {
     "name": "stderr",
     "output_type": "stream",
     "text": [
      "2025-05-13 14:05:41,515 - stpipe.Detector1Pipeline.refpix - INFO - RefPixStep instance created.\n"
     ]
    },
    {
     "name": "stderr",
     "output_type": "stream",
     "text": [
      "2025-05-13 14:05:41,515 - stpipe.Detector1Pipeline.rscd - INFO - RscdStep instance created.\n"
     ]
    },
    {
     "name": "stderr",
     "output_type": "stream",
     "text": [
      "2025-05-13 14:05:41,516 - stpipe.Detector1Pipeline.firstframe - INFO - FirstFrameStep instance created.\n"
     ]
    },
    {
     "name": "stderr",
     "output_type": "stream",
     "text": [
      "2025-05-13 14:05:41,517 - stpipe.Detector1Pipeline.lastframe - INFO - LastFrameStep instance created.\n"
     ]
    },
    {
     "name": "stderr",
     "output_type": "stream",
     "text": [
      "2025-05-13 14:05:41,517 - stpipe.Detector1Pipeline.linearity - INFO - LinearityStep instance created.\n"
     ]
    },
    {
     "name": "stderr",
     "output_type": "stream",
     "text": [
      "2025-05-13 14:05:41,518 - stpipe.Detector1Pipeline.dark_current - INFO - DarkCurrentStep instance created.\n"
     ]
    },
    {
     "name": "stderr",
     "output_type": "stream",
     "text": [
      "2025-05-13 14:05:41,519 - stpipe.Detector1Pipeline.reset - INFO - ResetStep instance created.\n"
     ]
    },
    {
     "name": "stderr",
     "output_type": "stream",
     "text": [
      "2025-05-13 14:05:41,520 - stpipe.Detector1Pipeline.persistence - INFO - PersistenceStep instance created.\n"
     ]
    },
    {
     "name": "stderr",
     "output_type": "stream",
     "text": [
      "2025-05-13 14:05:41,520 - stpipe.Detector1Pipeline.charge_migration - INFO - ChargeMigrationStep instance created.\n"
     ]
    },
    {
     "name": "stderr",
     "output_type": "stream",
     "text": [
      "2025-05-13 14:05:41,522 - stpipe.Detector1Pipeline.jump - INFO - JumpStep instance created.\n"
     ]
    },
    {
     "name": "stderr",
     "output_type": "stream",
     "text": [
      "2025-05-13 14:05:41,523 - stpipe.Detector1Pipeline.clean_flicker_noise - INFO - CleanFlickerNoiseStep instance created.\n"
     ]
    },
    {
     "name": "stderr",
     "output_type": "stream",
     "text": [
      "2025-05-13 14:05:41,524 - stpipe.Detector1Pipeline.ramp_fit - INFO - RampFitStep instance created.\n"
     ]
    },
    {
     "name": "stderr",
     "output_type": "stream",
     "text": [
      "2025-05-13 14:05:41,524 - stpipe.Detector1Pipeline.gain_scale - INFO - GainScaleStep instance created.\n"
     ]
    },
    {
     "name": "stderr",
     "output_type": "stream",
     "text": [
      "2025-05-13 14:05:41,626 - stpipe.Detector1Pipeline - INFO - Step Detector1Pipeline running with args ('./imaging_demo_data/PID03730Obs013/uncal/jw03730013001_03101_00001-seg004_mirimage_uncal.fits',).\n"
     ]
    },
    {
     "name": "stderr",
     "output_type": "stream",
     "text": [
      "2025-05-13 14:05:41,647 - stpipe.Detector1Pipeline - INFO - Step Detector1Pipeline parameters are:\n",
      "  pre_hooks: []\n",
      "  post_hooks: []\n",
      "  output_file: None\n",
      "  output_dir: ./imaging_demo_data/PID03730Obs013/stage1\n",
      "  output_ext: .fits\n",
      "  output_use_model: False\n",
      "  output_use_index: True\n",
      "  save_results: True\n",
      "  skip: False\n",
      "  suffix: None\n",
      "  search_output_file: True\n",
      "  input_dir: ''\n",
      "  save_calibrated_ramp: True\n",
      "  steps:\n",
      "    group_scale:\n",
      "      pre_hooks: []\n",
      "      post_hooks: []\n",
      "      output_file: None\n",
      "      output_dir: None\n",
      "      output_ext: .fits\n",
      "      output_use_model: False\n",
      "      output_use_index: True\n",
      "      save_results: False\n",
      "      skip: False\n",
      "      suffix: None\n",
      "      search_output_file: True\n",
      "      input_dir: ''\n",
      "    dq_init:\n",
      "      pre_hooks: []\n",
      "      post_hooks: []\n",
      "      output_file: None\n",
      "      output_dir: None\n",
      "      output_ext: .fits\n",
      "      output_use_model: False\n",
      "      output_use_index: True\n",
      "      save_results: False\n",
      "      skip: False\n",
      "      suffix: None\n",
      "      search_output_file: True\n",
      "      input_dir: ''\n",
      "    emicorr:\n",
      "      pre_hooks: []\n",
      "      post_hooks: []\n",
      "      output_file: None\n",
      "      output_dir: None\n",
      "      output_ext: .fits\n",
      "      output_use_model: False\n",
      "      output_use_index: True\n",
      "      save_results: False\n",
      "      skip: False\n",
      "      suffix: None\n",
      "      search_output_file: True\n",
      "      input_dir: ''\n",
      "      algorithm: sequential\n",
      "      nints_to_phase: None\n",
      "      nbins: None\n",
      "      scale_reference: True\n",
      "      onthefly_corr_freq: None\n",
      "      use_n_cycles: 3\n",
      "      fit_ints_separately: False\n",
      "      user_supplied_reffile: None\n",
      "      save_intermediate_results: False\n",
      "    saturation:\n",
      "      pre_hooks: []\n",
      "      post_hooks: []\n",
      "      output_file: None\n",
      "      output_dir: None\n",
      "      output_ext: .fits\n",
      "      output_use_model: False\n",
      "      output_use_index: True\n",
      "      save_results: False\n",
      "      skip: False\n",
      "      suffix: None\n",
      "      search_output_file: True\n",
      "      input_dir: ''\n",
      "      n_pix_grow_sat: 1\n",
      "      use_readpatt: True\n",
      "    ipc:\n",
      "      pre_hooks: []\n",
      "      post_hooks: []\n",
      "      output_file: None\n",
      "      output_dir: None\n",
      "      output_ext: .fits\n",
      "      output_use_model: False\n",
      "      output_use_index: True\n",
      "      save_results: False\n",
      "      skip: True\n",
      "      suffix: None\n",
      "      search_output_file: True\n",
      "      input_dir: ''\n",
      "    superbias:\n",
      "      pre_hooks: []\n",
      "      post_hooks: []\n",
      "      output_file: None\n",
      "      output_dir: None\n",
      "      output_ext: .fits\n",
      "      output_use_model: False\n",
      "      output_use_index: True\n",
      "      save_results: False\n",
      "      skip: False\n",
      "      suffix: None\n",
      "      search_output_file: True\n",
      "      input_dir: ''\n",
      "    refpix:\n",
      "      pre_hooks: []\n",
      "      post_hooks: []\n",
      "      output_file: None\n",
      "      output_dir: None\n",
      "      output_ext: .fits\n",
      "      output_use_model: False\n",
      "      output_use_index: True\n",
      "      save_results: False\n",
      "      skip: False\n",
      "      suffix: None\n",
      "      search_output_file: True\n",
      "      input_dir: ''\n",
      "      odd_even_columns: True\n",
      "      use_side_ref_pixels: True\n",
      "      side_smoothing_length: 11\n",
      "      side_gain: 1.0\n",
      "      odd_even_rows: True\n",
      "      ovr_corr_mitigation_ftr: 3.0\n",
      "      preserve_irs2_refpix: False\n",
      "      irs2_mean_subtraction: False\n",
      "      refpix_algorithm: median\n",
      "      sigreject: 4.0\n",
      "      gaussmooth: 1.0\n",
      "      halfwidth: 30\n",
      "    rscd:\n",
      "      pre_hooks: []\n",
      "      post_hooks: []\n",
      "      output_file: None\n",
      "      output_dir: None\n",
      "      output_ext: .fits\n",
      "      output_use_model: False\n",
      "      output_use_index: True\n",
      "      save_results: False\n",
      "      skip: True\n",
      "      suffix: None\n",
      "      search_output_file: True\n",
      "      input_dir: ''\n",
      "      type: baseline\n",
      "    firstframe:\n",
      "      pre_hooks: []\n",
      "      post_hooks: []\n",
      "      output_file: None\n",
      "      output_dir: None\n",
      "      output_ext: .fits\n",
      "      output_use_model: False\n",
      "      output_use_index: True\n",
      "      save_results: False\n",
      "      skip: True\n",
      "      suffix: None\n",
      "      search_output_file: True\n",
      "      input_dir: ''\n",
      "      bright_use_group1: False\n",
      "    lastframe:\n",
      "      pre_hooks: []\n",
      "      post_hooks: []\n",
      "      output_file: None\n",
      "      output_dir: None\n",
      "      output_ext: .fits\n",
      "      output_use_model: False\n",
      "      output_use_index: True\n",
      "      save_results: False\n",
      "      skip: False\n",
      "      suffix: None\n",
      "      search_output_file: True\n",
      "      input_dir: ''\n",
      "    linearity:\n",
      "      pre_hooks: []\n",
      "      post_hooks: []\n",
      "      output_file: None\n",
      "      output_dir: None\n",
      "      output_ext: .fits\n",
      "      output_use_model: False\n",
      "      output_use_index: True\n",
      "      save_results: False\n",
      "      skip: False\n",
      "      suffix: None\n",
      "      search_output_file: True\n",
      "      input_dir: ''\n",
      "    dark_current:\n",
      "      pre_hooks: []\n",
      "      post_hooks: []\n",
      "      output_file: None\n",
      "      output_dir: None\n",
      "      output_ext: .fits\n",
      "      output_use_model: False\n",
      "      output_use_index: True\n",
      "      save_results: False\n",
      "      skip: False\n",
      "      suffix: None\n",
      "      search_output_file: True\n",
      "      input_dir: ''\n",
      "      dark_output: None\n",
      "      average_dark_current: 1.0\n",
      "    reset:\n",
      "      pre_hooks: []\n",
      "      post_hooks: []\n",
      "      output_file: None\n",
      "      output_dir: None\n",
      "      output_ext: .fits\n",
      "      output_use_model: False\n",
      "      output_use_index: True\n",
      "      save_results: False\n",
      "      skip: False\n",
      "      suffix: None\n",
      "      search_output_file: True\n",
      "      input_dir: ''\n",
      "    persistence:\n",
      "      pre_hooks: []\n",
      "      post_hooks: []\n",
      "      output_file: None\n",
      "      output_dir: None\n",
      "      output_ext: .fits\n",
      "      output_use_model: False\n",
      "      output_use_index: True\n",
      "      save_results: False\n",
      "      skip: True\n",
      "      suffix: None\n",
      "      search_output_file: True\n",
      "      input_dir: ''\n",
      "      input_trapsfilled: ''\n",
      "      flag_pers_cutoff: 40.0\n",
      "      save_persistence: False\n",
      "      save_trapsfilled: True\n",
      "      modify_input: False\n",
      "    charge_migration:\n",
      "      pre_hooks: []\n",
      "      post_hooks: []\n",
      "      output_file: None\n",
      "      output_dir: None\n",
      "      output_ext: .fits\n",
      "      output_use_model: False\n",
      "      output_use_index: True\n",
      "      save_results: False\n",
      "      skip: True\n",
      "      suffix: None\n",
      "      search_output_file: True\n",
      "      input_dir: ''\n",
      "      signal_threshold: 25000.0\n",
      "    jump:\n",
      "      pre_hooks: []\n",
      "      post_hooks: []\n",
      "      output_file: None\n",
      "      output_dir: None\n",
      "      output_ext: .fits\n",
      "      output_use_model: False\n",
      "      output_use_index: True\n",
      "      save_results: False\n",
      "      skip: False\n",
      "      suffix: None\n",
      "      search_output_file: True\n",
      "      input_dir: ''\n",
      "      rejection_threshold: 4.0\n",
      "      three_group_rejection_threshold: 6.0\n",
      "      four_group_rejection_threshold: 5.0\n",
      "      maximum_cores: half\n",
      "      flag_4_neighbors: True\n",
      "      max_jump_to_flag_neighbors: 1000\n",
      "      min_jump_to_flag_neighbors: 30\n",
      "      after_jump_flag_dn1: 500\n",
      "      after_jump_flag_time1: 15\n",
      "      after_jump_flag_dn2: 1000\n",
      "      after_jump_flag_time2: 3000\n",
      "      expand_large_events: False\n",
      "      min_sat_area: 1\n",
      "      min_jump_area: 0\n",
      "      expand_factor: 0\n",
      "      use_ellipses: False\n",
      "      sat_required_snowball: False\n",
      "      min_sat_radius_extend: 0.0\n",
      "      sat_expand: 0\n",
      "      edge_size: 0\n",
      "      mask_snowball_core_next_int: True\n",
      "      snowball_time_masked_next_int: 4000\n",
      "      find_showers: True\n",
      "      max_shower_amplitude: 4.0\n",
      "      extend_snr_threshold: 3.0\n",
      "      extend_min_area: 50\n",
      "      extend_inner_radius: 1\n",
      "      extend_outer_radius: 2.6\n",
      "      extend_ellipse_expand_ratio: 1.1\n",
      "      time_masked_after_shower: 30\n",
      "      min_diffs_single_pass: 10\n",
      "      max_extended_radius: 200\n",
      "      minimum_groups: 3\n",
      "      minimum_sigclip_groups: 100\n",
      "      only_use_ints: True\n",
      "    clean_flicker_noise:\n",
      "      pre_hooks: []\n",
      "      post_hooks: []\n",
      "      output_file: None\n",
      "      output_dir: None\n",
      "      output_ext: .fits\n",
      "      output_use_model: False\n",
      "      output_use_index: True\n",
      "      save_results: False\n",
      "      skip: True\n",
      "      suffix: None\n",
      "      search_output_file: True\n",
      "      input_dir: ''\n",
      "      fit_method: median\n",
      "      fit_by_channel: False\n",
      "      background_method: median\n",
      "      background_box_size: None\n",
      "      mask_science_regions: False\n",
      "      apply_flat_field: False\n",
      "      n_sigma: 2.0\n",
      "      fit_histogram: False\n",
      "      single_mask: True\n",
      "      user_mask: None\n",
      "      save_mask: False\n",
      "      save_background: False\n",
      "      save_noise: False\n",
      "    ramp_fit:\n",
      "      pre_hooks: []\n",
      "      post_hooks: []\n",
      "      output_file: None\n",
      "      output_dir: None\n",
      "      output_ext: .fits\n",
      "      output_use_model: False\n",
      "      output_use_index: True\n",
      "      save_results: False\n",
      "      skip: False\n",
      "      suffix: None\n",
      "      search_output_file: True\n",
      "      input_dir: ''\n",
      "      algorithm: OLS_C\n",
      "      int_name: ''\n",
      "      save_opt: False\n",
      "      opt_name: ''\n",
      "      suppress_one_group: True\n",
      "      firstgroup: None\n",
      "      lastgroup: None\n",
      "      maximum_cores: '1'\n",
      "    gain_scale:\n",
      "      pre_hooks: []\n",
      "      post_hooks: []\n",
      "      output_file: None\n",
      "      output_dir: None\n",
      "      output_ext: .fits\n",
      "      output_use_model: False\n",
      "      output_use_index: True\n",
      "      save_results: False\n",
      "      skip: False\n",
      "      suffix: None\n",
      "      search_output_file: True\n",
      "      input_dir: ''\n"
     ]
    },
    {
     "name": "stderr",
     "output_type": "stream",
     "text": [
      "2025-05-13 14:05:42,539 - stpipe.Detector1Pipeline - INFO - Prefetching reference files for dataset: 'jw03730013001_03101_00001-seg004_mirimage_uncal.fits' reftypes = ['dark', 'emicorr', 'gain', 'linearity', 'mask', 'readnoise', 'refpix', 'reset', 'saturation', 'sirskernel', 'superbias']\n"
     ]
    },
    {
     "name": "stderr",
     "output_type": "stream",
     "text": [
      "2025-05-13 14:05:42,542 - stpipe.Detector1Pipeline - INFO - Prefetch for DARK reference file is '/home/runner/crds/references/jwst/miri/jwst_miri_dark_0104.fits'.\n"
     ]
    },
    {
     "name": "stderr",
     "output_type": "stream",
     "text": [
      "2025-05-13 14:05:42,543 - stpipe.Detector1Pipeline - INFO - Prefetch for EMICORR reference file is '/home/runner/crds/references/jwst/miri/jwst_miri_emicorr_0002.asdf'.\n"
     ]
    },
    {
     "name": "stderr",
     "output_type": "stream",
     "text": [
      "2025-05-13 14:05:42,543 - stpipe.Detector1Pipeline - INFO - Prefetch for GAIN reference file is '/home/runner/crds/references/jwst/miri/jwst_miri_gain_0048.fits'.\n"
     ]
    },
    {
     "name": "stderr",
     "output_type": "stream",
     "text": [
      "2025-05-13 14:05:42,544 - stpipe.Detector1Pipeline - INFO - Prefetch for LINEARITY reference file is '/home/runner/crds/references/jwst/miri/jwst_miri_linearity_0039.fits'.\n"
     ]
    },
    {
     "name": "stderr",
     "output_type": "stream",
     "text": [
      "2025-05-13 14:05:42,544 - stpipe.Detector1Pipeline - INFO - Prefetch for MASK reference file is '/home/runner/crds/references/jwst/miri/jwst_miri_mask_0036.fits'.\n"
     ]
    },
    {
     "name": "stderr",
     "output_type": "stream",
     "text": [
      "2025-05-13 14:05:42,544 - stpipe.Detector1Pipeline - INFO - Prefetch for READNOISE reference file is '/home/runner/crds/references/jwst/miri/jwst_miri_readnoise_0085.fits'.\n"
     ]
    },
    {
     "name": "stderr",
     "output_type": "stream",
     "text": [
      "2025-05-13 14:05:42,545 - stpipe.Detector1Pipeline - INFO - Prefetch for REFPIX reference file is 'N/A'.\n"
     ]
    },
    {
     "name": "stderr",
     "output_type": "stream",
     "text": [
      "2025-05-13 14:05:42,545 - stpipe.Detector1Pipeline - INFO - Prefetch for RESET reference file is '/home/runner/crds/references/jwst/miri/jwst_miri_reset_0055.fits'.\n"
     ]
    },
    {
     "name": "stderr",
     "output_type": "stream",
     "text": [
      "2025-05-13 14:05:42,546 - stpipe.Detector1Pipeline - INFO - Prefetch for SATURATION reference file is '/home/runner/crds/references/jwst/miri/jwst_miri_saturation_0034.fits'.\n"
     ]
    },
    {
     "name": "stderr",
     "output_type": "stream",
     "text": [
      "2025-05-13 14:05:42,546 - stpipe.Detector1Pipeline - INFO - Prefetch for SIRSKERNEL reference file is 'N/A'.\n"
     ]
    },
    {
     "name": "stderr",
     "output_type": "stream",
     "text": [
      "2025-05-13 14:05:42,546 - stpipe.Detector1Pipeline - INFO - Prefetch for SUPERBIAS reference file is 'N/A'.\n"
     ]
    },
    {
     "name": "stderr",
     "output_type": "stream",
     "text": [
      "2025-05-13 14:05:42,553 - stpipe.Detector1Pipeline - INFO - Starting calwebb_detector1 ...\n"
     ]
    },
    {
     "name": "stderr",
     "output_type": "stream",
     "text": [
      "2025-05-13 14:05:43,985 - stpipe.Detector1Pipeline.group_scale - INFO - Step group_scale running with args (<RampModel(234, 39, 256, 256) from jw03730013001_03101_00001-seg004_mirimage_uncal.fits>,).\n"
     ]
    },
    {
     "name": "stderr",
     "output_type": "stream",
     "text": [
      "2025-05-13 14:05:43,992 - stpipe.Detector1Pipeline.group_scale - INFO - NFRAMES and FRMDIVSR are equal; correction not needed\n"
     ]
    },
    {
     "name": "stderr",
     "output_type": "stream",
     "text": [
      "2025-05-13 14:05:43,992 - stpipe.Detector1Pipeline.group_scale - INFO - Step will be skipped\n"
     ]
    },
    {
     "name": "stderr",
     "output_type": "stream",
     "text": [
      "2025-05-13 14:05:43,994 - stpipe.Detector1Pipeline.group_scale - INFO - Step group_scale done\n"
     ]
    },
    {
     "name": "stderr",
     "output_type": "stream",
     "text": [
      "2025-05-13 14:05:44,106 - stpipe.Detector1Pipeline.dq_init - INFO - Step dq_init running with args (<RampModel(234, 39, 256, 256) from jw03730013001_03101_00001-seg004_mirimage_uncal.fits>,).\n"
     ]
    },
    {
     "name": "stderr",
     "output_type": "stream",
     "text": [
      "2025-05-13 14:05:44,120 - stpipe.Detector1Pipeline.dq_init - INFO - Using MASK reference file /home/runner/crds/references/jwst/miri/jwst_miri_mask_0036.fits\n"
     ]
    },
    {
     "name": "stderr",
     "output_type": "stream",
     "text": [
      "2025-05-13 14:05:44,617 - stpipe.Detector1Pipeline.dq_init - WARNING - Keyword RESERVED_4 does not correspond to an existing DQ mnemonic, so will be ignored\n"
     ]
    },
    {
     "name": "stderr",
     "output_type": "stream",
     "text": [
      "2025-05-13 14:05:44,628 - stpipe.Detector1Pipeline.dq_init - WARNING - Keyword UNRELIABLE_RESET does not correspond to an existing DQ mnemonic, so will be ignored\n"
     ]
    },
    {
     "name": "stderr",
     "output_type": "stream",
     "text": [
      "2025-05-13 14:05:44,632 - stpipe.Detector1Pipeline.dq_init - INFO - Extracting mask subarray to match science data\n"
     ]
    },
    {
     "name": "stderr",
     "output_type": "stream",
     "text": [
      "2025-05-13 14:05:45,141 - stpipe.Detector1Pipeline.dq_init - INFO - Step dq_init done\n"
     ]
    },
    {
     "name": "stderr",
     "output_type": "stream",
     "text": [
      "2025-05-13 14:05:45,257 - stpipe.Detector1Pipeline.emicorr - INFO - Step emicorr running with args (<RampModel(234, 39, 256, 256) from jw03730013001_03101_00001-seg004_mirimage_uncal.fits>,).\n"
     ]
    },
    {
     "name": "stderr",
     "output_type": "stream",
     "text": [
      "2025-05-13 14:05:45,741 - stpipe.Detector1Pipeline.emicorr - INFO - Using CRDS reference file: /home/runner/crds/references/jwst/miri/jwst_miri_emicorr_0002.asdf\n"
     ]
    },
    {
     "name": "stderr",
     "output_type": "stream",
     "text": [
      "2025-05-13 14:05:45,758 - stpipe.Detector1Pipeline.emicorr - INFO - Using reference file to get subarray case.\n"
     ]
    },
    {
     "name": "stderr",
     "output_type": "stream",
     "text": [
      "2025-05-13 14:05:45,758 - stpipe.Detector1Pipeline.emicorr - INFO - With configuration: Subarray=SUB256, Read_pattern=FASTR1, Detector=MIRIMAGE\n"
     ]
    },
    {
     "name": "stderr",
     "output_type": "stream",
     "text": [
      "2025-05-13 14:05:45,759 - stpipe.Detector1Pipeline.emicorr - INFO - Will correct data for the following 1 frequencies: \n"
     ]
    },
    {
     "name": "stderr",
     "output_type": "stream",
     "text": [
      "2025-05-13 14:05:45,759 - stpipe.Detector1Pipeline.emicorr - INFO -    ['Hz10']\n"
     ]
    },
    {
     "name": "stderr",
     "output_type": "stream",
     "text": [
      "2025-05-13 14:05:45,760 - stpipe.Detector1Pipeline.emicorr - INFO - Running EMI fit with algorithm = 'sequential'.\n"
     ]
    },
    {
     "name": "stderr",
     "output_type": "stream",
     "text": [
      "2025-05-13 14:05:45,760 - stpipe.Detector1Pipeline.emicorr - INFO - Correcting for frequency: 10.039216 Hz  (1 out of 1)\n"
     ]
    },
    {
     "name": "stderr",
     "output_type": "stream",
     "text": [
      "2025-05-13 14:05:45,761 - stpipe.Detector1Pipeline.emicorr - INFO - Subtracting self-superbias from each group of each integration\n"
     ]
    },
    {
     "name": "stderr",
     "output_type": "stream",
     "text": [
      "2025-05-13 14:05:45,761 - stpipe.Detector1Pipeline.emicorr - INFO - Doing phase calculation per integration\n"
     ]
    },
    {
     "name": "stderr",
     "output_type": "stream",
     "text": [
      "2025-05-13 14:06:21,080 - stpipe.Detector1Pipeline.emicorr - INFO - Calculating the phase amplitude for 500 bins\n"
     ]
    },
    {
     "name": "stderr",
     "output_type": "stream",
     "text": [
      "2025-05-13 14:06:21,580 - stpipe.Detector1Pipeline.emicorr - INFO - Using reference file to measure phase shift\n"
     ]
    },
    {
     "name": "stderr",
     "output_type": "stream",
     "text": [
      "2025-05-13 14:06:21,616 - stpipe.Detector1Pipeline.emicorr - INFO - Creating phased-matched noise model to subtract from data\n"
     ]
    },
    {
     "name": "stderr",
     "output_type": "stream",
     "text": [
      "2025-05-13 14:06:22,300 - stpipe.Detector1Pipeline.emicorr - INFO - Subtracting EMI noise from data\n"
     ]
    },
    {
     "name": "stderr",
     "output_type": "stream",
     "text": [
      "2025-05-13 14:06:23,261 - stpipe.Detector1Pipeline.emicorr - INFO - Step emicorr done\n"
     ]
    },
    {
     "name": "stderr",
     "output_type": "stream",
     "text": [
      "2025-05-13 14:06:23,378 - stpipe.Detector1Pipeline.saturation - INFO - Step saturation running with args (<RampModel(234, 39, 256, 256) from jw03730013001_03101_00001-seg004_mirimage_uncal.fits>,).\n"
     ]
    },
    {
     "name": "stderr",
     "output_type": "stream",
     "text": [
      "2025-05-13 14:06:23,394 - stpipe.Detector1Pipeline.saturation - INFO - Using SATURATION reference file /home/runner/crds/references/jwst/miri/jwst_miri_saturation_0034.fits\n"
     ]
    },
    {
     "name": "stderr",
     "output_type": "stream",
     "text": [
      "2025-05-13 14:06:23,421 - stpipe.Detector1Pipeline.saturation - WARNING - Keyword RESERVED_4 does not correspond to an existing DQ mnemonic, so will be ignored\n"
     ]
    },
    {
     "name": "stderr",
     "output_type": "stream",
     "text": [
      "2025-05-13 14:06:23,430 - stpipe.Detector1Pipeline.saturation - WARNING - Keyword UNRELIABLE_RESET does not correspond to an existing DQ mnemonic, so will be ignored\n"
     ]
    },
    {
     "name": "stderr",
     "output_type": "stream",
     "text": [
      "2025-05-13 14:06:23,931 - stpipe.Detector1Pipeline.saturation - INFO - Extracting reference file subarray to match science data\n"
     ]
    },
    {
     "name": "stderr",
     "output_type": "stream",
     "text": [
      "2025-05-13 14:06:23,938 - stpipe.Detector1Pipeline.saturation - INFO - Using read_pattern with nframes 1\n"
     ]
    },
    {
     "name": "stderr",
     "output_type": "stream",
     "text": [
      "2025-05-13 14:06:28,391 - stpipe.Detector1Pipeline.saturation - INFO - Detected 0 saturated pixels\n"
     ]
    },
    {
     "name": "stderr",
     "output_type": "stream",
     "text": [
      "2025-05-13 14:06:28,527 - stpipe.Detector1Pipeline.saturation - INFO - Detected 2 A/D floor pixels\n"
     ]
    },
    {
     "name": "stderr",
     "output_type": "stream",
     "text": [
      "2025-05-13 14:06:28,530 - stpipe.Detector1Pipeline.saturation - INFO - Step saturation done\n"
     ]
    },
    {
     "name": "stderr",
     "output_type": "stream",
     "text": [
      "2025-05-13 14:06:28,650 - stpipe.Detector1Pipeline.ipc - INFO - Step ipc running with args (<RampModel(234, 39, 256, 256) from jw03730013001_03101_00001-seg004_mirimage_uncal.fits>,).\n"
     ]
    },
    {
     "name": "stderr",
     "output_type": "stream",
     "text": [
      "2025-05-13 14:06:28,651 - stpipe.Detector1Pipeline.ipc - INFO - Step skipped.\n"
     ]
    },
    {
     "name": "stderr",
     "output_type": "stream",
     "text": [
      "2025-05-13 14:06:28,749 - stpipe.Detector1Pipeline.firstframe - INFO - Step firstframe running with args (<RampModel(234, 39, 256, 256) from jw03730013001_03101_00001-seg004_mirimage_uncal.fits>,).\n"
     ]
    },
    {
     "name": "stderr",
     "output_type": "stream",
     "text": [
      "2025-05-13 14:06:28,750 - stpipe.Detector1Pipeline.firstframe - INFO - Step skipped.\n"
     ]
    },
    {
     "name": "stderr",
     "output_type": "stream",
     "text": [
      "2025-05-13 14:06:28,841 - stpipe.Detector1Pipeline.lastframe - INFO - Step lastframe running with args (<RampModel(234, 39, 256, 256) from jw03730013001_03101_00001-seg004_mirimage_uncal.fits>,).\n"
     ]
    },
    {
     "name": "stderr",
     "output_type": "stream",
     "text": [
      "2025-05-13 14:06:29,344 - stpipe.Detector1Pipeline.lastframe - INFO - Step lastframe done\n"
     ]
    },
    {
     "name": "stderr",
     "output_type": "stream",
     "text": [
      "2025-05-13 14:06:29,458 - stpipe.Detector1Pipeline.reset - INFO - Step reset running with args (<RampModel(234, 39, 256, 256) from jw03730013001_03101_00001-seg004_mirimage_uncal.fits>,).\n"
     ]
    },
    {
     "name": "stderr",
     "output_type": "stream",
     "text": [
      "2025-05-13 14:06:29,475 - stpipe.Detector1Pipeline.reset - INFO - Using RESET reference file /home/runner/crds/references/jwst/miri/jwst_miri_reset_0055.fits\n"
     ]
    },
    {
     "name": "stderr",
     "output_type": "stream",
     "text": [
      "2025-05-13 14:06:29,501 - stpipe.Detector1Pipeline.reset - WARNING - Keyword RESERVED_4 does not correspond to an existing DQ mnemonic, so will be ignored\n"
     ]
    },
    {
     "name": "stderr",
     "output_type": "stream",
     "text": [
      "2025-05-13 14:06:29,503 - stpipe.Detector1Pipeline.reset - WARNING - Keyword UNRELIABLE_RESET does not correspond to an existing DQ mnemonic, so will be ignored\n"
     ]
    },
    {
     "name": "stderr",
     "output_type": "stream",
     "text": [
      "2025-05-13 14:06:30,299 - stpipe.Detector1Pipeline.reset - INFO - Step reset done\n"
     ]
    },
    {
     "name": "stderr",
     "output_type": "stream",
     "text": [
      "2025-05-13 14:06:30,425 - stpipe.Detector1Pipeline.linearity - INFO - Step linearity running with args (<RampModel(234, 39, 256, 256) from jw03730013001_03101_00001-seg004_mirimage_uncal.fits>,).\n"
     ]
    },
    {
     "name": "stderr",
     "output_type": "stream",
     "text": [
      "2025-05-13 14:06:30,441 - stpipe.Detector1Pipeline.linearity - INFO - Using Linearity reference file /home/runner/crds/references/jwst/miri/jwst_miri_linearity_0039.fits\n"
     ]
    },
    {
     "name": "stderr",
     "output_type": "stream",
     "text": [
      "2025-05-13 14:06:30,480 - stpipe.Detector1Pipeline.linearity - WARNING - Keyword RESERVED_4 does not correspond to an existing DQ mnemonic, so will be ignored\n"
     ]
    },
    {
     "name": "stderr",
     "output_type": "stream",
     "text": [
      "2025-05-13 14:06:30,489 - stpipe.Detector1Pipeline.linearity - WARNING - Keyword UNRELIABLE_RESET does not correspond to an existing DQ mnemonic, so will be ignored\n"
     ]
    },
    {
     "name": "stderr",
     "output_type": "stream",
     "text": [
      "2025-05-13 14:06:34,450 - stpipe.Detector1Pipeline.linearity - INFO - Step linearity done\n"
     ]
    },
    {
     "name": "stderr",
     "output_type": "stream",
     "text": [
      "2025-05-13 14:06:34,577 - stpipe.Detector1Pipeline.rscd - INFO - Step rscd running with args (<RampModel(234, 39, 256, 256) from jw03730013001_03101_00001-seg004_mirimage_uncal.fits>,).\n"
     ]
    },
    {
     "name": "stderr",
     "output_type": "stream",
     "text": [
      "2025-05-13 14:06:34,577 - stpipe.Detector1Pipeline.rscd - INFO - Step skipped.\n"
     ]
    },
    {
     "name": "stderr",
     "output_type": "stream",
     "text": [
      "2025-05-13 14:06:34,690 - stpipe.Detector1Pipeline.dark_current - INFO - Step dark_current running with args (<RampModel(234, 39, 256, 256) from jw03730013001_03101_00001-seg004_mirimage_uncal.fits>,).\n"
     ]
    },
    {
     "name": "stderr",
     "output_type": "stream",
     "text": [
      "2025-05-13 14:06:34,708 - stpipe.Detector1Pipeline.dark_current - INFO - Using DARK reference file /home/runner/crds/references/jwst/miri/jwst_miri_dark_0104.fits\n"
     ]
    },
    {
     "name": "stderr",
     "output_type": "stream",
     "text": [
      "2025-05-13 14:06:35,342 - stpipe.Detector1Pipeline.dark_current - INFO - Using Poisson noise from average dark current 1.0 e-/sec\n"
     ]
    },
    {
     "name": "stderr",
     "output_type": "stream",
     "text": [
      "2025-05-13 14:06:35,343 - stpipe.Detector1Pipeline.dark_current - INFO - Science data nints=234, ngroups=39, nframes=1, groupgap=0\n"
     ]
    },
    {
     "name": "stderr",
     "output_type": "stream",
     "text": [
      "2025-05-13 14:06:35,343 - stpipe.Detector1Pipeline.dark_current - INFO - Dark data nints=2, ngroups=200, nframes=1, groupgap=0\n"
     ]
    },
    {
     "name": "stderr",
     "output_type": "stream",
     "text": [
      "2025-05-13 14:06:36,338 - stpipe.Detector1Pipeline.dark_current - INFO - Step dark_current done\n"
     ]
    },
    {
     "name": "stderr",
     "output_type": "stream",
     "text": [
      "2025-05-13 14:06:36,457 - stpipe.Detector1Pipeline.refpix - INFO - Step refpix running with args (<RampModel(234, 39, 256, 256) from jw03730013001_03101_00001-seg004_mirimage_uncal.fits>,).\n"
     ]
    },
    {
     "name": "stderr",
     "output_type": "stream",
     "text": [
      "2025-05-13 14:06:36,968 - stpipe.Detector1Pipeline.refpix - WARNING - Refpix correction skipped for MIRI subarrays\n"
     ]
    },
    {
     "name": "stderr",
     "output_type": "stream",
     "text": [
      "2025-05-13 14:06:36,970 - stpipe.Detector1Pipeline.refpix - INFO - Step refpix done\n"
     ]
    },
    {
     "name": "stderr",
     "output_type": "stream",
     "text": [
      "2025-05-13 14:06:37,096 - stpipe.Detector1Pipeline.charge_migration - INFO - Step charge_migration running with args (<RampModel(234, 39, 256, 256) from jw03730013001_03101_00001-seg004_mirimage_uncal.fits>,).\n"
     ]
    },
    {
     "name": "stderr",
     "output_type": "stream",
     "text": [
      "2025-05-13 14:06:37,097 - stpipe.Detector1Pipeline.charge_migration - INFO - Step skipped.\n"
     ]
    },
    {
     "name": "stderr",
     "output_type": "stream",
     "text": [
      "2025-05-13 14:06:37,195 - stpipe.Detector1Pipeline.jump - INFO - Step jump running with args (<RampModel(234, 39, 256, 256) from jw03730013001_03101_00001-seg004_mirimage_uncal.fits>,).\n"
     ]
    },
    {
     "name": "stderr",
     "output_type": "stream",
     "text": [
      "2025-05-13 14:06:37,206 - stpipe.Detector1Pipeline.jump - INFO - CR rejection threshold = 4 sigma\n"
     ]
    },
    {
     "name": "stderr",
     "output_type": "stream",
     "text": [
      "2025-05-13 14:06:37,206 - stpipe.Detector1Pipeline.jump - INFO - Maximum cores to use = half\n"
     ]
    },
    {
     "name": "stderr",
     "output_type": "stream",
     "text": [
      "2025-05-13 14:06:37,741 - stpipe.Detector1Pipeline.jump - INFO - Using GAIN reference file: /home/runner/crds/references/jwst/miri/jwst_miri_gain_0048.fits\n"
     ]
    },
    {
     "name": "stderr",
     "output_type": "stream",
     "text": [
      "2025-05-13 14:06:37,751 - stpipe.Detector1Pipeline.jump - INFO - Using READNOISE reference file: /home/runner/crds/references/jwst/miri/jwst_miri_readnoise_0085.fits\n"
     ]
    },
    {
     "name": "stderr",
     "output_type": "stream",
     "text": [
      "2025-05-13 14:06:37,775 - stpipe.Detector1Pipeline.jump - INFO - Extracting gain subarray to match science data\n"
     ]
    },
    {
     "name": "stderr",
     "output_type": "stream",
     "text": [
      "2025-05-13 14:06:37,780 - stpipe.Detector1Pipeline.jump - INFO - Extracting readnoise subarray to match science data\n"
     ]
    },
    {
     "name": "stderr",
     "output_type": "stream",
     "text": [
      "2025-05-13 14:06:38,542 - stpipe.Detector1Pipeline.jump - INFO - Executing two-point difference method\n"
     ]
    },
    {
     "name": "stderr",
     "output_type": "stream",
     "text": [
      "2025-05-13 14:06:38,542 - stpipe.Detector1Pipeline.jump - INFO - Creating 4 processes for jump detection \n"
     ]
    },
    {
     "name": "stderr",
     "output_type": "stream",
     "text": [
      "2025-05-13 14:07:18,080 - stpipe.Detector1Pipeline.jump - INFO - Flagging Showers\n"
     ]
    },
    {
     "name": "stderr",
     "output_type": "stream",
     "text": [
      "2025-05-13 14:09:32,625 - stpipe.Detector1Pipeline.jump - INFO - Total showers= 0\n"
     ]
    },
    {
     "name": "stderr",
     "output_type": "stream",
     "text": [
      "2025-05-13 14:09:32,626 - stpipe.Detector1Pipeline.jump - INFO - Total elapsed time = 174.084 sec\n"
     ]
    },
    {
     "name": "stderr",
     "output_type": "stream",
     "text": [
      "2025-05-13 14:09:33,298 - stpipe.Detector1Pipeline.jump - INFO - The execution time in seconds: 176.092490\n"
     ]
    },
    {
     "name": "stderr",
     "output_type": "stream",
     "text": [
      "2025-05-13 14:09:33,303 - stpipe.Detector1Pipeline.jump - INFO - Step jump done\n"
     ]
    },
    {
     "name": "stderr",
     "output_type": "stream",
     "text": [
      "2025-05-13 14:09:33,421 - stpipe.Detector1Pipeline.clean_flicker_noise - INFO - Step clean_flicker_noise running with args (<RampModel(234, 39, 256, 256) from jw03730013001_03101_00001-seg004_mirimage_uncal.fits>,).\n"
     ]
    },
    {
     "name": "stderr",
     "output_type": "stream",
     "text": [
      "2025-05-13 14:09:33,422 - stpipe.Detector1Pipeline.clean_flicker_noise - INFO - Step skipped.\n"
     ]
    },
    {
     "name": "stderr",
     "output_type": "stream",
     "text": [
      "2025-05-13 14:09:35,842 - stpipe.Detector1Pipeline - INFO - Saved model in ./imaging_demo_data/PID03730Obs013/stage1/jw03730013001_03101_00001-seg004_mirimage_ramp.fits\n"
     ]
    },
    {
     "name": "stderr",
     "output_type": "stream",
     "text": [
      "2025-05-13 14:09:35,959 - stpipe.Detector1Pipeline.ramp_fit - INFO - Step ramp_fit running with args (<RampModel(234, 39, 256, 256) from jw03730013001_03101_00001-seg004_mirimage_ramp.fits>,).\n"
     ]
    },
    {
     "name": "stderr",
     "output_type": "stream",
     "text": [
      "2025-05-13 14:09:36,455 - stpipe.Detector1Pipeline.ramp_fit - INFO - Using READNOISE reference file: /home/runner/crds/references/jwst/miri/jwst_miri_readnoise_0085.fits\n"
     ]
    },
    {
     "name": "stderr",
     "output_type": "stream",
     "text": [
      "2025-05-13 14:09:36,455 - stpipe.Detector1Pipeline.ramp_fit - INFO - Using GAIN reference file: /home/runner/crds/references/jwst/miri/jwst_miri_gain_0048.fits\n"
     ]
    },
    {
     "name": "stderr",
     "output_type": "stream",
     "text": [
      "2025-05-13 14:09:36,487 - stpipe.Detector1Pipeline.ramp_fit - INFO - Extracting gain subarray to match science data\n"
     ]
    },
    {
     "name": "stderr",
     "output_type": "stream",
     "text": [
      "2025-05-13 14:09:36,492 - stpipe.Detector1Pipeline.ramp_fit - INFO - Extracting readnoise subarray to match science data\n"
     ]
    },
    {
     "name": "stderr",
     "output_type": "stream",
     "text": [
      "2025-05-13 14:09:36,497 - stpipe.Detector1Pipeline.ramp_fit - INFO - Using algorithm = OLS_C\n"
     ]
    },
    {
     "name": "stderr",
     "output_type": "stream",
     "text": [
      "2025-05-13 14:09:36,497 - stpipe.Detector1Pipeline.ramp_fit - INFO - Using weighting = optimal\n"
     ]
    },
    {
     "name": "stderr",
     "output_type": "stream",
     "text": [
      "2025-05-13 14:09:40,902 - stpipe.Detector1Pipeline.ramp_fit - INFO - Number of multiprocessing slices: 1\n"
     ]
    },
    {
     "name": "stderr",
     "output_type": "stream",
     "text": [
      "2025-05-13 14:09:40,905 - stpipe.Detector1Pipeline.ramp_fit - INFO - Number of leading groups that are flagged as DO_NOT_USE: 0\n"
     ]
    },
    {
     "name": "stderr",
     "output_type": "stream",
     "text": [
      "2025-05-13 14:09:40,907 - stpipe.Detector1Pipeline.ramp_fit - INFO - MIRI dataset has all pixels in the final group flagged as DO_NOT_USE.\n"
     ]
    },
    {
     "name": "stderr",
     "output_type": "stream",
     "text": [
      "2025-05-13 14:10:35,451 - stpipe.Detector1Pipeline.ramp_fit - INFO - Ramp Fitting C Time: 54.54133677482605\n"
     ]
    },
    {
     "name": "stderr",
     "output_type": "stream",
     "text": [
      "2025-05-13 14:10:35,517 - stpipe.Detector1Pipeline.ramp_fit - INFO - Step ramp_fit done\n"
     ]
    },
    {
     "name": "stderr",
     "output_type": "stream",
     "text": [
      "2025-05-13 14:10:35,636 - stpipe.Detector1Pipeline.gain_scale - INFO - Step gain_scale running with args (<ImageModel(256, 256) from jw03730013001_03101_00001-seg004_mirimage_ramp.fits>,).\n"
     ]
    },
    {
     "name": "stderr",
     "output_type": "stream",
     "text": [
      "2025-05-13 14:10:35,664 - stpipe.Detector1Pipeline.gain_scale - INFO - GAINFACT not found in gain reference file\n"
     ]
    },
    {
     "name": "stderr",
     "output_type": "stream",
     "text": [
      "2025-05-13 14:10:35,664 - stpipe.Detector1Pipeline.gain_scale - INFO - Step will be skipped\n"
     ]
    },
    {
     "name": "stderr",
     "output_type": "stream",
     "text": [
      "2025-05-13 14:10:35,667 - stpipe.Detector1Pipeline.gain_scale - INFO - Step gain_scale done\n"
     ]
    },
    {
     "name": "stderr",
     "output_type": "stream",
     "text": [
      "2025-05-13 14:10:35,777 - stpipe.Detector1Pipeline.gain_scale - INFO - Step gain_scale running with args (<CubeModel(234, 256, 256) from jw03730013001_03101_00001-seg004_mirimage_ramp.fits>,).\n"
     ]
    },
    {
     "name": "stderr",
     "output_type": "stream",
     "text": [
      "2025-05-13 14:10:35,805 - stpipe.Detector1Pipeline.gain_scale - INFO - GAINFACT not found in gain reference file\n"
     ]
    },
    {
     "name": "stderr",
     "output_type": "stream",
     "text": [
      "2025-05-13 14:10:35,805 - stpipe.Detector1Pipeline.gain_scale - INFO - Step will be skipped\n"
     ]
    },
    {
     "name": "stderr",
     "output_type": "stream",
     "text": [
      "2025-05-13 14:10:35,807 - stpipe.Detector1Pipeline.gain_scale - INFO - Step gain_scale done\n"
     ]
    },
    {
     "name": "stderr",
     "output_type": "stream",
     "text": [
      "2025-05-13 14:10:36,085 - stpipe.Detector1Pipeline - INFO - Saved model in ./imaging_demo_data/PID03730Obs013/stage1/jw03730013001_03101_00001-seg004_mirimage_rateints.fits\n"
     ]
    },
    {
     "name": "stderr",
     "output_type": "stream",
     "text": [
      "2025-05-13 14:10:36,086 - stpipe.Detector1Pipeline - INFO - ... ending calwebb_detector1\n"
     ]
    },
    {
     "name": "stderr",
     "output_type": "stream",
     "text": [
      "2025-05-13 14:10:36,089 - stpipe.Detector1Pipeline - INFO - Results used CRDS context: jwst_1364.pmap\n"
     ]
    },
    {
     "name": "stderr",
     "output_type": "stream",
     "text": [
      "2025-05-13 14:10:36,148 - stpipe.Detector1Pipeline - INFO - Saved model in ./imaging_demo_data/PID03730Obs013/stage1/jw03730013001_03101_00001-seg004_mirimage_rate.fits\n"
     ]
    },
    {
     "name": "stderr",
     "output_type": "stream",
     "text": [
      "2025-05-13 14:10:36,149 - stpipe.Detector1Pipeline - INFO - Step Detector1Pipeline done\n"
     ]
    },
    {
     "name": "stderr",
     "output_type": "stream",
     "text": [
      "2025-05-13 14:10:36,149 - stpipe - INFO - Results used jwst version: 1.18.0\n"
     ]
    },
    {
     "name": "stderr",
     "output_type": "stream",
     "text": [
      "2025-05-13 14:10:36,361 - stpipe - INFO - PARS-EMICORRSTEP parameters found: /home/runner/crds/references/jwst/miri/jwst_miri_pars-emicorrstep_0003.asdf\n"
     ]
    },
    {
     "name": "stderr",
     "output_type": "stream",
     "text": [
      "2025-05-13 14:10:36,374 - stpipe - INFO - PARS-DARKCURRENTSTEP parameters found: /home/runner/crds/references/jwst/miri/jwst_miri_pars-darkcurrentstep_0001.asdf\n"
     ]
    },
    {
     "name": "stderr",
     "output_type": "stream",
     "text": [
      "2025-05-13 14:10:36,383 - stpipe - INFO - PARS-JUMPSTEP parameters found: /home/runner/crds/references/jwst/miri/jwst_miri_pars-jumpstep_0005.asdf\n"
     ]
    },
    {
     "name": "stderr",
     "output_type": "stream",
     "text": [
      "2025-05-13 14:10:36,393 - stpipe - INFO - PARS-DETECTOR1PIPELINE parameters found: /home/runner/crds/references/jwst/miri/jwst_miri_pars-detector1pipeline_0006.asdf\n"
     ]
    },
    {
     "name": "stderr",
     "output_type": "stream",
     "text": [
      "2025-05-13 14:10:36,411 - stpipe.Detector1Pipeline - INFO - Detector1Pipeline instance created.\n"
     ]
    },
    {
     "name": "stderr",
     "output_type": "stream",
     "text": [
      "2025-05-13 14:10:36,412 - stpipe.Detector1Pipeline.group_scale - INFO - GroupScaleStep instance created.\n"
     ]
    },
    {
     "name": "stderr",
     "output_type": "stream",
     "text": [
      "2025-05-13 14:10:36,413 - stpipe.Detector1Pipeline.dq_init - INFO - DQInitStep instance created.\n"
     ]
    },
    {
     "name": "stderr",
     "output_type": "stream",
     "text": [
      "2025-05-13 14:10:36,414 - stpipe.Detector1Pipeline.emicorr - INFO - EmiCorrStep instance created.\n"
     ]
    },
    {
     "name": "stderr",
     "output_type": "stream",
     "text": [
      "2025-05-13 14:10:36,415 - stpipe.Detector1Pipeline.saturation - INFO - SaturationStep instance created.\n"
     ]
    },
    {
     "name": "stderr",
     "output_type": "stream",
     "text": [
      "2025-05-13 14:10:36,415 - stpipe.Detector1Pipeline.ipc - INFO - IPCStep instance created.\n"
     ]
    },
    {
     "name": "stderr",
     "output_type": "stream",
     "text": [
      "2025-05-13 14:10:36,416 - stpipe.Detector1Pipeline.superbias - INFO - SuperBiasStep instance created.\n"
     ]
    },
    {
     "name": "stderr",
     "output_type": "stream",
     "text": [
      "2025-05-13 14:10:36,417 - stpipe.Detector1Pipeline.refpix - INFO - RefPixStep instance created.\n"
     ]
    },
    {
     "name": "stderr",
     "output_type": "stream",
     "text": [
      "2025-05-13 14:10:36,418 - stpipe.Detector1Pipeline.rscd - INFO - RscdStep instance created.\n"
     ]
    },
    {
     "name": "stderr",
     "output_type": "stream",
     "text": [
      "2025-05-13 14:10:36,419 - stpipe.Detector1Pipeline.firstframe - INFO - FirstFrameStep instance created.\n"
     ]
    },
    {
     "name": "stderr",
     "output_type": "stream",
     "text": [
      "2025-05-13 14:10:36,419 - stpipe.Detector1Pipeline.lastframe - INFO - LastFrameStep instance created.\n"
     ]
    },
    {
     "name": "stderr",
     "output_type": "stream",
     "text": [
      "2025-05-13 14:10:36,420 - stpipe.Detector1Pipeline.linearity - INFO - LinearityStep instance created.\n"
     ]
    },
    {
     "name": "stderr",
     "output_type": "stream",
     "text": [
      "2025-05-13 14:10:36,421 - stpipe.Detector1Pipeline.dark_current - INFO - DarkCurrentStep instance created.\n"
     ]
    },
    {
     "name": "stderr",
     "output_type": "stream",
     "text": [
      "2025-05-13 14:10:36,421 - stpipe.Detector1Pipeline.reset - INFO - ResetStep instance created.\n"
     ]
    },
    {
     "name": "stderr",
     "output_type": "stream",
     "text": [
      "2025-05-13 14:10:36,422 - stpipe.Detector1Pipeline.persistence - INFO - PersistenceStep instance created.\n"
     ]
    },
    {
     "name": "stderr",
     "output_type": "stream",
     "text": [
      "2025-05-13 14:10:36,423 - stpipe.Detector1Pipeline.charge_migration - INFO - ChargeMigrationStep instance created.\n"
     ]
    },
    {
     "name": "stderr",
     "output_type": "stream",
     "text": [
      "2025-05-13 14:10:36,425 - stpipe.Detector1Pipeline.jump - INFO - JumpStep instance created.\n"
     ]
    },
    {
     "name": "stderr",
     "output_type": "stream",
     "text": [
      "2025-05-13 14:10:36,426 - stpipe.Detector1Pipeline.clean_flicker_noise - INFO - CleanFlickerNoiseStep instance created.\n"
     ]
    },
    {
     "name": "stderr",
     "output_type": "stream",
     "text": [
      "2025-05-13 14:10:36,427 - stpipe.Detector1Pipeline.ramp_fit - INFO - RampFitStep instance created.\n"
     ]
    },
    {
     "name": "stderr",
     "output_type": "stream",
     "text": [
      "2025-05-13 14:10:36,428 - stpipe.Detector1Pipeline.gain_scale - INFO - GainScaleStep instance created.\n"
     ]
    },
    {
     "name": "stderr",
     "output_type": "stream",
     "text": [
      "2025-05-13 14:10:36,536 - stpipe.Detector1Pipeline - INFO - Step Detector1Pipeline running with args ('./imaging_demo_data/PID03730Obs013/uncal/jw03730013001_03101_00001-seg005_mirimage_uncal.fits',).\n"
     ]
    },
    {
     "name": "stderr",
     "output_type": "stream",
     "text": [
      "2025-05-13 14:10:36,557 - stpipe.Detector1Pipeline - INFO - Step Detector1Pipeline parameters are:\n",
      "  pre_hooks: []\n",
      "  post_hooks: []\n",
      "  output_file: None\n",
      "  output_dir: ./imaging_demo_data/PID03730Obs013/stage1\n",
      "  output_ext: .fits\n",
      "  output_use_model: False\n",
      "  output_use_index: True\n",
      "  save_results: True\n",
      "  skip: False\n",
      "  suffix: None\n",
      "  search_output_file: True\n",
      "  input_dir: ''\n",
      "  save_calibrated_ramp: True\n",
      "  steps:\n",
      "    group_scale:\n",
      "      pre_hooks: []\n",
      "      post_hooks: []\n",
      "      output_file: None\n",
      "      output_dir: None\n",
      "      output_ext: .fits\n",
      "      output_use_model: False\n",
      "      output_use_index: True\n",
      "      save_results: False\n",
      "      skip: False\n",
      "      suffix: None\n",
      "      search_output_file: True\n",
      "      input_dir: ''\n",
      "    dq_init:\n",
      "      pre_hooks: []\n",
      "      post_hooks: []\n",
      "      output_file: None\n",
      "      output_dir: None\n",
      "      output_ext: .fits\n",
      "      output_use_model: False\n",
      "      output_use_index: True\n",
      "      save_results: False\n",
      "      skip: False\n",
      "      suffix: None\n",
      "      search_output_file: True\n",
      "      input_dir: ''\n",
      "    emicorr:\n",
      "      pre_hooks: []\n",
      "      post_hooks: []\n",
      "      output_file: None\n",
      "      output_dir: None\n",
      "      output_ext: .fits\n",
      "      output_use_model: False\n",
      "      output_use_index: True\n",
      "      save_results: False\n",
      "      skip: False\n",
      "      suffix: None\n",
      "      search_output_file: True\n",
      "      input_dir: ''\n",
      "      algorithm: sequential\n",
      "      nints_to_phase: None\n",
      "      nbins: None\n",
      "      scale_reference: True\n",
      "      onthefly_corr_freq: None\n",
      "      use_n_cycles: 3\n",
      "      fit_ints_separately: False\n",
      "      user_supplied_reffile: None\n",
      "      save_intermediate_results: False\n",
      "    saturation:\n",
      "      pre_hooks: []\n",
      "      post_hooks: []\n",
      "      output_file: None\n",
      "      output_dir: None\n",
      "      output_ext: .fits\n",
      "      output_use_model: False\n",
      "      output_use_index: True\n",
      "      save_results: False\n",
      "      skip: False\n",
      "      suffix: None\n",
      "      search_output_file: True\n",
      "      input_dir: ''\n",
      "      n_pix_grow_sat: 1\n",
      "      use_readpatt: True\n",
      "    ipc:\n",
      "      pre_hooks: []\n",
      "      post_hooks: []\n",
      "      output_file: None\n",
      "      output_dir: None\n",
      "      output_ext: .fits\n",
      "      output_use_model: False\n",
      "      output_use_index: True\n",
      "      save_results: False\n",
      "      skip: True\n",
      "      suffix: None\n",
      "      search_output_file: True\n",
      "      input_dir: ''\n",
      "    superbias:\n",
      "      pre_hooks: []\n",
      "      post_hooks: []\n",
      "      output_file: None\n",
      "      output_dir: None\n",
      "      output_ext: .fits\n",
      "      output_use_model: False\n",
      "      output_use_index: True\n",
      "      save_results: False\n",
      "      skip: False\n",
      "      suffix: None\n",
      "      search_output_file: True\n",
      "      input_dir: ''\n",
      "    refpix:\n",
      "      pre_hooks: []\n",
      "      post_hooks: []\n",
      "      output_file: None\n",
      "      output_dir: None\n",
      "      output_ext: .fits\n",
      "      output_use_model: False\n",
      "      output_use_index: True\n",
      "      save_results: False\n",
      "      skip: False\n",
      "      suffix: None\n",
      "      search_output_file: True\n",
      "      input_dir: ''\n",
      "      odd_even_columns: True\n",
      "      use_side_ref_pixels: True\n",
      "      side_smoothing_length: 11\n",
      "      side_gain: 1.0\n",
      "      odd_even_rows: True\n",
      "      ovr_corr_mitigation_ftr: 3.0\n",
      "      preserve_irs2_refpix: False\n",
      "      irs2_mean_subtraction: False\n",
      "      refpix_algorithm: median\n",
      "      sigreject: 4.0\n",
      "      gaussmooth: 1.0\n",
      "      halfwidth: 30\n",
      "    rscd:\n",
      "      pre_hooks: []\n",
      "      post_hooks: []\n",
      "      output_file: None\n",
      "      output_dir: None\n",
      "      output_ext: .fits\n",
      "      output_use_model: False\n",
      "      output_use_index: True\n",
      "      save_results: False\n",
      "      skip: True\n",
      "      suffix: None\n",
      "      search_output_file: True\n",
      "      input_dir: ''\n",
      "      type: baseline\n",
      "    firstframe:\n",
      "      pre_hooks: []\n",
      "      post_hooks: []\n",
      "      output_file: None\n",
      "      output_dir: None\n",
      "      output_ext: .fits\n",
      "      output_use_model: False\n",
      "      output_use_index: True\n",
      "      save_results: False\n",
      "      skip: True\n",
      "      suffix: None\n",
      "      search_output_file: True\n",
      "      input_dir: ''\n",
      "      bright_use_group1: False\n",
      "    lastframe:\n",
      "      pre_hooks: []\n",
      "      post_hooks: []\n",
      "      output_file: None\n",
      "      output_dir: None\n",
      "      output_ext: .fits\n",
      "      output_use_model: False\n",
      "      output_use_index: True\n",
      "      save_results: False\n",
      "      skip: False\n",
      "      suffix: None\n",
      "      search_output_file: True\n",
      "      input_dir: ''\n",
      "    linearity:\n",
      "      pre_hooks: []\n",
      "      post_hooks: []\n",
      "      output_file: None\n",
      "      output_dir: None\n",
      "      output_ext: .fits\n",
      "      output_use_model: False\n",
      "      output_use_index: True\n",
      "      save_results: False\n",
      "      skip: False\n",
      "      suffix: None\n",
      "      search_output_file: True\n",
      "      input_dir: ''\n",
      "    dark_current:\n",
      "      pre_hooks: []\n",
      "      post_hooks: []\n",
      "      output_file: None\n",
      "      output_dir: None\n",
      "      output_ext: .fits\n",
      "      output_use_model: False\n",
      "      output_use_index: True\n",
      "      save_results: False\n",
      "      skip: False\n",
      "      suffix: None\n",
      "      search_output_file: True\n",
      "      input_dir: ''\n",
      "      dark_output: None\n",
      "      average_dark_current: 1.0\n",
      "    reset:\n",
      "      pre_hooks: []\n",
      "      post_hooks: []\n",
      "      output_file: None\n",
      "      output_dir: None\n",
      "      output_ext: .fits\n",
      "      output_use_model: False\n",
      "      output_use_index: True\n",
      "      save_results: False\n",
      "      skip: False\n",
      "      suffix: None\n",
      "      search_output_file: True\n",
      "      input_dir: ''\n",
      "    persistence:\n",
      "      pre_hooks: []\n",
      "      post_hooks: []\n",
      "      output_file: None\n",
      "      output_dir: None\n",
      "      output_ext: .fits\n",
      "      output_use_model: False\n",
      "      output_use_index: True\n",
      "      save_results: False\n",
      "      skip: True\n",
      "      suffix: None\n",
      "      search_output_file: True\n",
      "      input_dir: ''\n",
      "      input_trapsfilled: ''\n",
      "      flag_pers_cutoff: 40.0\n",
      "      save_persistence: False\n",
      "      save_trapsfilled: True\n",
      "      modify_input: False\n",
      "    charge_migration:\n",
      "      pre_hooks: []\n",
      "      post_hooks: []\n",
      "      output_file: None\n",
      "      output_dir: None\n",
      "      output_ext: .fits\n",
      "      output_use_model: False\n",
      "      output_use_index: True\n",
      "      save_results: False\n",
      "      skip: True\n",
      "      suffix: None\n",
      "      search_output_file: True\n",
      "      input_dir: ''\n",
      "      signal_threshold: 25000.0\n",
      "    jump:\n",
      "      pre_hooks: []\n",
      "      post_hooks: []\n",
      "      output_file: None\n",
      "      output_dir: None\n",
      "      output_ext: .fits\n",
      "      output_use_model: False\n",
      "      output_use_index: True\n",
      "      save_results: False\n",
      "      skip: False\n",
      "      suffix: None\n",
      "      search_output_file: True\n",
      "      input_dir: ''\n",
      "      rejection_threshold: 4.0\n",
      "      three_group_rejection_threshold: 6.0\n",
      "      four_group_rejection_threshold: 5.0\n",
      "      maximum_cores: half\n",
      "      flag_4_neighbors: True\n",
      "      max_jump_to_flag_neighbors: 1000\n",
      "      min_jump_to_flag_neighbors: 30\n",
      "      after_jump_flag_dn1: 500\n",
      "      after_jump_flag_time1: 15\n",
      "      after_jump_flag_dn2: 1000\n",
      "      after_jump_flag_time2: 3000\n",
      "      expand_large_events: False\n",
      "      min_sat_area: 1\n",
      "      min_jump_area: 0\n",
      "      expand_factor: 0\n",
      "      use_ellipses: False\n",
      "      sat_required_snowball: False\n",
      "      min_sat_radius_extend: 0.0\n",
      "      sat_expand: 0\n",
      "      edge_size: 0\n",
      "      mask_snowball_core_next_int: True\n",
      "      snowball_time_masked_next_int: 4000\n",
      "      find_showers: True\n",
      "      max_shower_amplitude: 4.0\n",
      "      extend_snr_threshold: 3.0\n",
      "      extend_min_area: 50\n",
      "      extend_inner_radius: 1\n",
      "      extend_outer_radius: 2.6\n",
      "      extend_ellipse_expand_ratio: 1.1\n",
      "      time_masked_after_shower: 30\n",
      "      min_diffs_single_pass: 10\n",
      "      max_extended_radius: 200\n",
      "      minimum_groups: 3\n",
      "      minimum_sigclip_groups: 100\n",
      "      only_use_ints: True\n",
      "    clean_flicker_noise:\n",
      "      pre_hooks: []\n",
      "      post_hooks: []\n",
      "      output_file: None\n",
      "      output_dir: None\n",
      "      output_ext: .fits\n",
      "      output_use_model: False\n",
      "      output_use_index: True\n",
      "      save_results: False\n",
      "      skip: True\n",
      "      suffix: None\n",
      "      search_output_file: True\n",
      "      input_dir: ''\n",
      "      fit_method: median\n",
      "      fit_by_channel: False\n",
      "      background_method: median\n",
      "      background_box_size: None\n",
      "      mask_science_regions: False\n",
      "      apply_flat_field: False\n",
      "      n_sigma: 2.0\n",
      "      fit_histogram: False\n",
      "      single_mask: True\n",
      "      user_mask: None\n",
      "      save_mask: False\n",
      "      save_background: False\n",
      "      save_noise: False\n",
      "    ramp_fit:\n",
      "      pre_hooks: []\n",
      "      post_hooks: []\n",
      "      output_file: None\n",
      "      output_dir: None\n",
      "      output_ext: .fits\n",
      "      output_use_model: False\n",
      "      output_use_index: True\n",
      "      save_results: False\n",
      "      skip: False\n",
      "      suffix: None\n",
      "      search_output_file: True\n",
      "      input_dir: ''\n",
      "      algorithm: OLS_C\n",
      "      int_name: ''\n",
      "      save_opt: False\n",
      "      opt_name: ''\n",
      "      suppress_one_group: True\n",
      "      firstgroup: None\n",
      "      lastgroup: None\n",
      "      maximum_cores: '1'\n",
      "    gain_scale:\n",
      "      pre_hooks: []\n",
      "      post_hooks: []\n",
      "      output_file: None\n",
      "      output_dir: None\n",
      "      output_ext: .fits\n",
      "      output_use_model: False\n",
      "      output_use_index: True\n",
      "      save_results: False\n",
      "      skip: False\n",
      "      suffix: None\n",
      "      search_output_file: True\n",
      "      input_dir: ''\n"
     ]
    },
    {
     "name": "stderr",
     "output_type": "stream",
     "text": [
      "2025-05-13 14:10:36,709 - stpipe.Detector1Pipeline - INFO - Prefetching reference files for dataset: 'jw03730013001_03101_00001-seg005_mirimage_uncal.fits' reftypes = ['dark', 'emicorr', 'gain', 'linearity', 'mask', 'readnoise', 'refpix', 'reset', 'saturation', 'sirskernel', 'superbias']\n"
     ]
    },
    {
     "name": "stderr",
     "output_type": "stream",
     "text": [
      "2025-05-13 14:10:36,713 - stpipe.Detector1Pipeline - INFO - Prefetch for DARK reference file is '/home/runner/crds/references/jwst/miri/jwst_miri_dark_0104.fits'.\n"
     ]
    },
    {
     "name": "stderr",
     "output_type": "stream",
     "text": [
      "2025-05-13 14:10:36,713 - stpipe.Detector1Pipeline - INFO - Prefetch for EMICORR reference file is '/home/runner/crds/references/jwst/miri/jwst_miri_emicorr_0002.asdf'.\n"
     ]
    },
    {
     "name": "stderr",
     "output_type": "stream",
     "text": [
      "2025-05-13 14:10:36,713 - stpipe.Detector1Pipeline - INFO - Prefetch for GAIN reference file is '/home/runner/crds/references/jwst/miri/jwst_miri_gain_0048.fits'.\n"
     ]
    },
    {
     "name": "stderr",
     "output_type": "stream",
     "text": [
      "2025-05-13 14:10:36,714 - stpipe.Detector1Pipeline - INFO - Prefetch for LINEARITY reference file is '/home/runner/crds/references/jwst/miri/jwst_miri_linearity_0039.fits'.\n"
     ]
    },
    {
     "name": "stderr",
     "output_type": "stream",
     "text": [
      "2025-05-13 14:10:36,714 - stpipe.Detector1Pipeline - INFO - Prefetch for MASK reference file is '/home/runner/crds/references/jwst/miri/jwst_miri_mask_0036.fits'.\n"
     ]
    },
    {
     "name": "stderr",
     "output_type": "stream",
     "text": [
      "2025-05-13 14:10:36,715 - stpipe.Detector1Pipeline - INFO - Prefetch for READNOISE reference file is '/home/runner/crds/references/jwst/miri/jwst_miri_readnoise_0085.fits'.\n"
     ]
    },
    {
     "name": "stderr",
     "output_type": "stream",
     "text": [
      "2025-05-13 14:10:36,715 - stpipe.Detector1Pipeline - INFO - Prefetch for REFPIX reference file is 'N/A'.\n"
     ]
    },
    {
     "name": "stderr",
     "output_type": "stream",
     "text": [
      "2025-05-13 14:10:36,715 - stpipe.Detector1Pipeline - INFO - Prefetch for RESET reference file is '/home/runner/crds/references/jwst/miri/jwst_miri_reset_0055.fits'.\n"
     ]
    },
    {
     "name": "stderr",
     "output_type": "stream",
     "text": [
      "2025-05-13 14:10:36,716 - stpipe.Detector1Pipeline - INFO - Prefetch for SATURATION reference file is '/home/runner/crds/references/jwst/miri/jwst_miri_saturation_0034.fits'.\n"
     ]
    },
    {
     "name": "stderr",
     "output_type": "stream",
     "text": [
      "2025-05-13 14:10:36,716 - stpipe.Detector1Pipeline - INFO - Prefetch for SIRSKERNEL reference file is 'N/A'.\n"
     ]
    },
    {
     "name": "stderr",
     "output_type": "stream",
     "text": [
      "2025-05-13 14:10:36,716 - stpipe.Detector1Pipeline - INFO - Prefetch for SUPERBIAS reference file is 'N/A'.\n"
     ]
    },
    {
     "name": "stderr",
     "output_type": "stream",
     "text": [
      "2025-05-13 14:10:36,718 - stpipe.Detector1Pipeline - INFO - Starting calwebb_detector1 ...\n"
     ]
    },
    {
     "name": "stderr",
     "output_type": "stream",
     "text": [
      "2025-05-13 14:10:37,067 - stpipe.Detector1Pipeline.group_scale - INFO - Step group_scale running with args (<RampModel(28, 39, 256, 256) from jw03730013001_03101_00001-seg005_mirimage_uncal.fits>,).\n"
     ]
    },
    {
     "name": "stderr",
     "output_type": "stream",
     "text": [
      "2025-05-13 14:10:37,075 - stpipe.Detector1Pipeline.group_scale - INFO - NFRAMES and FRMDIVSR are equal; correction not needed\n"
     ]
    },
    {
     "name": "stderr",
     "output_type": "stream",
     "text": [
      "2025-05-13 14:10:37,075 - stpipe.Detector1Pipeline.group_scale - INFO - Step will be skipped\n"
     ]
    },
    {
     "name": "stderr",
     "output_type": "stream",
     "text": [
      "2025-05-13 14:10:37,077 - stpipe.Detector1Pipeline.group_scale - INFO - Step group_scale done\n"
     ]
    },
    {
     "name": "stderr",
     "output_type": "stream",
     "text": [
      "2025-05-13 14:10:37,187 - stpipe.Detector1Pipeline.dq_init - INFO - Step dq_init running with args (<RampModel(28, 39, 256, 256) from jw03730013001_03101_00001-seg005_mirimage_uncal.fits>,).\n"
     ]
    },
    {
     "name": "stderr",
     "output_type": "stream",
     "text": [
      "2025-05-13 14:10:37,202 - stpipe.Detector1Pipeline.dq_init - INFO - Using MASK reference file /home/runner/crds/references/jwst/miri/jwst_miri_mask_0036.fits\n"
     ]
    },
    {
     "name": "stderr",
     "output_type": "stream",
     "text": [
      "2025-05-13 14:10:37,291 - stpipe.Detector1Pipeline.dq_init - WARNING - Keyword RESERVED_4 does not correspond to an existing DQ mnemonic, so will be ignored\n"
     ]
    },
    {
     "name": "stderr",
     "output_type": "stream",
     "text": [
      "2025-05-13 14:10:37,301 - stpipe.Detector1Pipeline.dq_init - WARNING - Keyword UNRELIABLE_RESET does not correspond to an existing DQ mnemonic, so will be ignored\n"
     ]
    },
    {
     "name": "stderr",
     "output_type": "stream",
     "text": [
      "2025-05-13 14:10:37,304 - stpipe.Detector1Pipeline.dq_init - INFO - Extracting mask subarray to match science data\n"
     ]
    },
    {
     "name": "stderr",
     "output_type": "stream",
     "text": [
      "2025-05-13 14:10:37,377 - stpipe.Detector1Pipeline.dq_init - INFO - Step dq_init done\n"
     ]
    },
    {
     "name": "stderr",
     "output_type": "stream",
     "text": [
      "2025-05-13 14:10:37,484 - stpipe.Detector1Pipeline.emicorr - INFO - Step emicorr running with args (<RampModel(28, 39, 256, 256) from jw03730013001_03101_00001-seg005_mirimage_uncal.fits>,).\n"
     ]
    },
    {
     "name": "stderr",
     "output_type": "stream",
     "text": [
      "2025-05-13 14:10:37,566 - stpipe.Detector1Pipeline.emicorr - INFO - Using CRDS reference file: /home/runner/crds/references/jwst/miri/jwst_miri_emicorr_0002.asdf\n"
     ]
    },
    {
     "name": "stderr",
     "output_type": "stream",
     "text": [
      "2025-05-13 14:10:37,583 - stpipe.Detector1Pipeline.emicorr - INFO - Using reference file to get subarray case.\n"
     ]
    },
    {
     "name": "stderr",
     "output_type": "stream",
     "text": [
      "2025-05-13 14:10:37,583 - stpipe.Detector1Pipeline.emicorr - INFO - With configuration: Subarray=SUB256, Read_pattern=FASTR1, Detector=MIRIMAGE\n"
     ]
    },
    {
     "name": "stderr",
     "output_type": "stream",
     "text": [
      "2025-05-13 14:10:37,583 - stpipe.Detector1Pipeline.emicorr - INFO - Will correct data for the following 1 frequencies: \n"
     ]
    },
    {
     "name": "stderr",
     "output_type": "stream",
     "text": [
      "2025-05-13 14:10:37,584 - stpipe.Detector1Pipeline.emicorr - INFO -    ['Hz10']\n"
     ]
    },
    {
     "name": "stderr",
     "output_type": "stream",
     "text": [
      "2025-05-13 14:10:37,584 - stpipe.Detector1Pipeline.emicorr - INFO - Running EMI fit with algorithm = 'sequential'.\n"
     ]
    },
    {
     "name": "stderr",
     "output_type": "stream",
     "text": [
      "2025-05-13 14:10:37,585 - stpipe.Detector1Pipeline.emicorr - INFO - Correcting for frequency: 10.039216 Hz  (1 out of 1)\n"
     ]
    },
    {
     "name": "stderr",
     "output_type": "stream",
     "text": [
      "2025-05-13 14:10:37,585 - stpipe.Detector1Pipeline.emicorr - INFO - Subtracting self-superbias from each group of each integration\n"
     ]
    },
    {
     "name": "stderr",
     "output_type": "stream",
     "text": [
      "2025-05-13 14:10:37,586 - stpipe.Detector1Pipeline.emicorr - INFO - Doing phase calculation per integration\n"
     ]
    },
    {
     "name": "stderr",
     "output_type": "stream",
     "text": [
      "2025-05-13 14:10:41,885 - stpipe.Detector1Pipeline.emicorr - INFO - Calculating the phase amplitude for 500 bins\n"
     ]
    },
    {
     "name": "stderr",
     "output_type": "stream",
     "text": [
      "2025-05-13 14:10:42,373 - stpipe.Detector1Pipeline.emicorr - INFO - Using reference file to measure phase shift\n"
     ]
    },
    {
     "name": "stderr",
     "output_type": "stream",
     "text": [
      "2025-05-13 14:10:42,410 - stpipe.Detector1Pipeline.emicorr - INFO - Creating phased-matched noise model to subtract from data\n"
     ]
    },
    {
     "name": "stderr",
     "output_type": "stream",
     "text": [
      "2025-05-13 14:10:42,491 - stpipe.Detector1Pipeline.emicorr - INFO - Subtracting EMI noise from data\n"
     ]
    },
    {
     "name": "stderr",
     "output_type": "stream",
     "text": [
      "2025-05-13 14:10:42,614 - stpipe.Detector1Pipeline.emicorr - INFO - Step emicorr done\n"
     ]
    },
    {
     "name": "stderr",
     "output_type": "stream",
     "text": [
      "2025-05-13 14:10:42,720 - stpipe.Detector1Pipeline.saturation - INFO - Step saturation running with args (<RampModel(28, 39, 256, 256) from jw03730013001_03101_00001-seg005_mirimage_uncal.fits>,).\n"
     ]
    },
    {
     "name": "stderr",
     "output_type": "stream",
     "text": [
      "2025-05-13 14:10:42,735 - stpipe.Detector1Pipeline.saturation - INFO - Using SATURATION reference file /home/runner/crds/references/jwst/miri/jwst_miri_saturation_0034.fits\n"
     ]
    },
    {
     "name": "stderr",
     "output_type": "stream",
     "text": [
      "2025-05-13 14:10:42,758 - stpipe.Detector1Pipeline.saturation - WARNING - Keyword RESERVED_4 does not correspond to an existing DQ mnemonic, so will be ignored\n"
     ]
    },
    {
     "name": "stderr",
     "output_type": "stream",
     "text": [
      "2025-05-13 14:10:42,767 - stpipe.Detector1Pipeline.saturation - WARNING - Keyword UNRELIABLE_RESET does not correspond to an existing DQ mnemonic, so will be ignored\n"
     ]
    },
    {
     "name": "stderr",
     "output_type": "stream",
     "text": [
      "2025-05-13 14:10:42,833 - stpipe.Detector1Pipeline.saturation - INFO - Extracting reference file subarray to match science data\n"
     ]
    },
    {
     "name": "stderr",
     "output_type": "stream",
     "text": [
      "2025-05-13 14:10:42,840 - stpipe.Detector1Pipeline.saturation - INFO - Using read_pattern with nframes 1\n"
     ]
    },
    {
     "name": "stderr",
     "output_type": "stream",
     "text": [
      "2025-05-13 14:10:43,379 - stpipe.Detector1Pipeline.saturation - INFO - Detected 0 saturated pixels\n"
     ]
    },
    {
     "name": "stderr",
     "output_type": "stream",
     "text": [
      "2025-05-13 14:10:43,398 - stpipe.Detector1Pipeline.saturation - INFO - Detected 0 A/D floor pixels\n"
     ]
    },
    {
     "name": "stderr",
     "output_type": "stream",
     "text": [
      "2025-05-13 14:10:43,401 - stpipe.Detector1Pipeline.saturation - INFO - Step saturation done\n"
     ]
    },
    {
     "name": "stderr",
     "output_type": "stream",
     "text": [
      "2025-05-13 14:10:43,506 - stpipe.Detector1Pipeline.ipc - INFO - Step ipc running with args (<RampModel(28, 39, 256, 256) from jw03730013001_03101_00001-seg005_mirimage_uncal.fits>,).\n"
     ]
    },
    {
     "name": "stderr",
     "output_type": "stream",
     "text": [
      "2025-05-13 14:10:43,507 - stpipe.Detector1Pipeline.ipc - INFO - Step skipped.\n"
     ]
    },
    {
     "name": "stderr",
     "output_type": "stream",
     "text": [
      "2025-05-13 14:10:43,605 - stpipe.Detector1Pipeline.firstframe - INFO - Step firstframe running with args (<RampModel(28, 39, 256, 256) from jw03730013001_03101_00001-seg005_mirimage_uncal.fits>,).\n"
     ]
    },
    {
     "name": "stderr",
     "output_type": "stream",
     "text": [
      "2025-05-13 14:10:43,606 - stpipe.Detector1Pipeline.firstframe - INFO - Step skipped.\n"
     ]
    },
    {
     "name": "stderr",
     "output_type": "stream",
     "text": [
      "2025-05-13 14:10:43,704 - stpipe.Detector1Pipeline.lastframe - INFO - Step lastframe running with args (<RampModel(28, 39, 256, 256) from jw03730013001_03101_00001-seg005_mirimage_uncal.fits>,).\n"
     ]
    },
    {
     "name": "stderr",
     "output_type": "stream",
     "text": [
      "2025-05-13 14:10:43,781 - stpipe.Detector1Pipeline.lastframe - INFO - Step lastframe done\n"
     ]
    },
    {
     "name": "stderr",
     "output_type": "stream",
     "text": [
      "2025-05-13 14:10:43,890 - stpipe.Detector1Pipeline.reset - INFO - Step reset running with args (<RampModel(28, 39, 256, 256) from jw03730013001_03101_00001-seg005_mirimage_uncal.fits>,).\n"
     ]
    },
    {
     "name": "stderr",
     "output_type": "stream",
     "text": [
      "2025-05-13 14:10:43,906 - stpipe.Detector1Pipeline.reset - INFO - Using RESET reference file /home/runner/crds/references/jwst/miri/jwst_miri_reset_0055.fits\n"
     ]
    },
    {
     "name": "stderr",
     "output_type": "stream",
     "text": [
      "2025-05-13 14:10:43,926 - stpipe.Detector1Pipeline.reset - WARNING - Keyword RESERVED_4 does not correspond to an existing DQ mnemonic, so will be ignored\n"
     ]
    },
    {
     "name": "stderr",
     "output_type": "stream",
     "text": [
      "2025-05-13 14:10:43,929 - stpipe.Detector1Pipeline.reset - WARNING - Keyword UNRELIABLE_RESET does not correspond to an existing DQ mnemonic, so will be ignored\n"
     ]
    },
    {
     "name": "stderr",
     "output_type": "stream",
     "text": [
      "2025-05-13 14:10:44,034 - stpipe.Detector1Pipeline.reset - INFO - Step reset done\n"
     ]
    },
    {
     "name": "stderr",
     "output_type": "stream",
     "text": [
      "2025-05-13 14:10:44,145 - stpipe.Detector1Pipeline.linearity - INFO - Step linearity running with args (<RampModel(28, 39, 256, 256) from jw03730013001_03101_00001-seg005_mirimage_uncal.fits>,).\n"
     ]
    },
    {
     "name": "stderr",
     "output_type": "stream",
     "text": [
      "2025-05-13 14:10:44,162 - stpipe.Detector1Pipeline.linearity - INFO - Using Linearity reference file /home/runner/crds/references/jwst/miri/jwst_miri_linearity_0039.fits\n"
     ]
    },
    {
     "name": "stderr",
     "output_type": "stream",
     "text": [
      "2025-05-13 14:10:44,187 - stpipe.Detector1Pipeline.linearity - WARNING - Keyword RESERVED_4 does not correspond to an existing DQ mnemonic, so will be ignored\n"
     ]
    },
    {
     "name": "stderr",
     "output_type": "stream",
     "text": [
      "2025-05-13 14:10:44,197 - stpipe.Detector1Pipeline.linearity - WARNING - Keyword UNRELIABLE_RESET does not correspond to an existing DQ mnemonic, so will be ignored\n"
     ]
    },
    {
     "name": "stderr",
     "output_type": "stream",
     "text": [
      "2025-05-13 14:10:44,691 - stpipe.Detector1Pipeline.linearity - INFO - Step linearity done\n"
     ]
    },
    {
     "name": "stderr",
     "output_type": "stream",
     "text": [
      "2025-05-13 14:10:44,802 - stpipe.Detector1Pipeline.rscd - INFO - Step rscd running with args (<RampModel(28, 39, 256, 256) from jw03730013001_03101_00001-seg005_mirimage_uncal.fits>,).\n"
     ]
    },
    {
     "name": "stderr",
     "output_type": "stream",
     "text": [
      "2025-05-13 14:10:44,803 - stpipe.Detector1Pipeline.rscd - INFO - Step skipped.\n"
     ]
    },
    {
     "name": "stderr",
     "output_type": "stream",
     "text": [
      "2025-05-13 14:10:44,905 - stpipe.Detector1Pipeline.dark_current - INFO - Step dark_current running with args (<RampModel(28, 39, 256, 256) from jw03730013001_03101_00001-seg005_mirimage_uncal.fits>,).\n"
     ]
    },
    {
     "name": "stderr",
     "output_type": "stream",
     "text": [
      "2025-05-13 14:10:44,922 - stpipe.Detector1Pipeline.dark_current - INFO - Using DARK reference file /home/runner/crds/references/jwst/miri/jwst_miri_dark_0104.fits\n"
     ]
    },
    {
     "name": "stderr",
     "output_type": "stream",
     "text": [
      "2025-05-13 14:10:45,050 - stpipe.Detector1Pipeline.dark_current - INFO - Using Poisson noise from average dark current 1.0 e-/sec\n"
     ]
    },
    {
     "name": "stderr",
     "output_type": "stream",
     "text": [
      "2025-05-13 14:10:45,051 - stpipe.Detector1Pipeline.dark_current - INFO - Science data nints=28, ngroups=39, nframes=1, groupgap=0\n"
     ]
    },
    {
     "name": "stderr",
     "output_type": "stream",
     "text": [
      "2025-05-13 14:10:45,051 - stpipe.Detector1Pipeline.dark_current - INFO - Dark data nints=2, ngroups=200, nframes=1, groupgap=0\n"
     ]
    },
    {
     "name": "stderr",
     "output_type": "stream",
     "text": [
      "2025-05-13 14:10:45,187 - stpipe.Detector1Pipeline.dark_current - INFO - Step dark_current done\n"
     ]
    },
    {
     "name": "stderr",
     "output_type": "stream",
     "text": [
      "2025-05-13 14:10:45,296 - stpipe.Detector1Pipeline.refpix - INFO - Step refpix running with args (<RampModel(28, 39, 256, 256) from jw03730013001_03101_00001-seg005_mirimage_uncal.fits>,).\n"
     ]
    },
    {
     "name": "stderr",
     "output_type": "stream",
     "text": [
      "2025-05-13 14:10:45,368 - stpipe.Detector1Pipeline.refpix - WARNING - Refpix correction skipped for MIRI subarrays\n"
     ]
    },
    {
     "name": "stderr",
     "output_type": "stream",
     "text": [
      "2025-05-13 14:10:45,370 - stpipe.Detector1Pipeline.refpix - INFO - Step refpix done\n"
     ]
    },
    {
     "name": "stderr",
     "output_type": "stream",
     "text": [
      "2025-05-13 14:10:45,487 - stpipe.Detector1Pipeline.charge_migration - INFO - Step charge_migration running with args (<RampModel(28, 39, 256, 256) from jw03730013001_03101_00001-seg005_mirimage_uncal.fits>,).\n"
     ]
    },
    {
     "name": "stderr",
     "output_type": "stream",
     "text": [
      "2025-05-13 14:10:45,487 - stpipe.Detector1Pipeline.charge_migration - INFO - Step skipped.\n"
     ]
    },
    {
     "name": "stderr",
     "output_type": "stream",
     "text": [
      "2025-05-13 14:10:45,588 - stpipe.Detector1Pipeline.jump - INFO - Step jump running with args (<RampModel(28, 39, 256, 256) from jw03730013001_03101_00001-seg005_mirimage_uncal.fits>,).\n"
     ]
    },
    {
     "name": "stderr",
     "output_type": "stream",
     "text": [
      "2025-05-13 14:10:45,596 - stpipe.Detector1Pipeline.jump - INFO - CR rejection threshold = 4 sigma\n"
     ]
    },
    {
     "name": "stderr",
     "output_type": "stream",
     "text": [
      "2025-05-13 14:10:45,596 - stpipe.Detector1Pipeline.jump - INFO - Maximum cores to use = half\n"
     ]
    },
    {
     "name": "stderr",
     "output_type": "stream",
     "text": [
      "2025-05-13 14:10:45,671 - stpipe.Detector1Pipeline.jump - INFO - Using GAIN reference file: /home/runner/crds/references/jwst/miri/jwst_miri_gain_0048.fits\n"
     ]
    },
    {
     "name": "stderr",
     "output_type": "stream",
     "text": [
      "2025-05-13 14:10:45,679 - stpipe.Detector1Pipeline.jump - INFO - Using READNOISE reference file: /home/runner/crds/references/jwst/miri/jwst_miri_readnoise_0085.fits\n"
     ]
    },
    {
     "name": "stderr",
     "output_type": "stream",
     "text": [
      "2025-05-13 14:10:45,703 - stpipe.Detector1Pipeline.jump - INFO - Extracting gain subarray to match science data\n"
     ]
    },
    {
     "name": "stderr",
     "output_type": "stream",
     "text": [
      "2025-05-13 14:10:45,708 - stpipe.Detector1Pipeline.jump - INFO - Extracting readnoise subarray to match science data\n"
     ]
    },
    {
     "name": "stderr",
     "output_type": "stream",
     "text": [
      "2025-05-13 14:10:45,805 - stpipe.Detector1Pipeline.jump - INFO - Executing two-point difference method\n"
     ]
    },
    {
     "name": "stderr",
     "output_type": "stream",
     "text": [
      "2025-05-13 14:10:45,805 - stpipe.Detector1Pipeline.jump - INFO - Creating 4 processes for jump detection \n"
     ]
    },
    {
     "name": "stderr",
     "output_type": "stream",
     "text": [
      "2025-05-13 14:10:50,912 - stpipe.Detector1Pipeline.jump - INFO - Flagging Showers\n"
     ]
    },
    {
     "name": "stderr",
     "output_type": "stream",
     "text": [
      "2025-05-13 14:10:59,612 - stpipe.Detector1Pipeline.jump - INFO - Total showers= 0\n"
     ]
    },
    {
     "name": "stderr",
     "output_type": "stream",
     "text": [
      "2025-05-13 14:10:59,613 - stpipe.Detector1Pipeline.jump - INFO - Total elapsed time = 13.8078 sec\n"
     ]
    },
    {
     "name": "stderr",
     "output_type": "stream",
     "text": [
      "2025-05-13 14:10:59,697 - stpipe.Detector1Pipeline.jump - INFO - The execution time in seconds: 14.100971\n"
     ]
    },
    {
     "name": "stderr",
     "output_type": "stream",
     "text": [
      "2025-05-13 14:10:59,701 - stpipe.Detector1Pipeline.jump - INFO - Step jump done\n"
     ]
    },
    {
     "name": "stderr",
     "output_type": "stream",
     "text": [
      "2025-05-13 14:10:59,811 - stpipe.Detector1Pipeline.clean_flicker_noise - INFO - Step clean_flicker_noise running with args (<RampModel(28, 39, 256, 256) from jw03730013001_03101_00001-seg005_mirimage_uncal.fits>,).\n"
     ]
    },
    {
     "name": "stderr",
     "output_type": "stream",
     "text": [
      "2025-05-13 14:10:59,812 - stpipe.Detector1Pipeline.clean_flicker_noise - INFO - Step skipped.\n"
     ]
    },
    {
     "name": "stderr",
     "output_type": "stream",
     "text": [
      "2025-05-13 14:11:00,161 - stpipe.Detector1Pipeline - INFO - Saved model in ./imaging_demo_data/PID03730Obs013/stage1/jw03730013001_03101_00001-seg005_mirimage_ramp.fits\n"
     ]
    },
    {
     "name": "stderr",
     "output_type": "stream",
     "text": [
      "2025-05-13 14:11:00,267 - stpipe.Detector1Pipeline.ramp_fit - INFO - Step ramp_fit running with args (<RampModel(28, 39, 256, 256) from jw03730013001_03101_00001-seg005_mirimage_ramp.fits>,).\n"
     ]
    },
    {
     "name": "stderr",
     "output_type": "stream",
     "text": [
      "2025-05-13 14:11:00,360 - stpipe.Detector1Pipeline.ramp_fit - INFO - Using READNOISE reference file: /home/runner/crds/references/jwst/miri/jwst_miri_readnoise_0085.fits\n"
     ]
    },
    {
     "name": "stderr",
     "output_type": "stream",
     "text": [
      "2025-05-13 14:11:00,361 - stpipe.Detector1Pipeline.ramp_fit - INFO - Using GAIN reference file: /home/runner/crds/references/jwst/miri/jwst_miri_gain_0048.fits\n"
     ]
    },
    {
     "name": "stderr",
     "output_type": "stream",
     "text": [
      "2025-05-13 14:11:00,387 - stpipe.Detector1Pipeline.ramp_fit - INFO - Extracting gain subarray to match science data\n"
     ]
    },
    {
     "name": "stderr",
     "output_type": "stream",
     "text": [
      "2025-05-13 14:11:00,393 - stpipe.Detector1Pipeline.ramp_fit - INFO - Extracting readnoise subarray to match science data\n"
     ]
    },
    {
     "name": "stderr",
     "output_type": "stream",
     "text": [
      "2025-05-13 14:11:00,398 - stpipe.Detector1Pipeline.ramp_fit - INFO - Using algorithm = OLS_C\n"
     ]
    },
    {
     "name": "stderr",
     "output_type": "stream",
     "text": [
      "2025-05-13 14:11:00,398 - stpipe.Detector1Pipeline.ramp_fit - INFO - Using weighting = optimal\n"
     ]
    },
    {
     "name": "stderr",
     "output_type": "stream",
     "text": [
      "2025-05-13 14:11:00,950 - stpipe.Detector1Pipeline.ramp_fit - INFO - Number of multiprocessing slices: 1\n"
     ]
    },
    {
     "name": "stderr",
     "output_type": "stream",
     "text": [
      "2025-05-13 14:11:00,951 - stpipe.Detector1Pipeline.ramp_fit - INFO - Number of leading groups that are flagged as DO_NOT_USE: 0\n"
     ]
    },
    {
     "name": "stderr",
     "output_type": "stream",
     "text": [
      "2025-05-13 14:11:00,952 - stpipe.Detector1Pipeline.ramp_fit - INFO - MIRI dataset has all pixels in the final group flagged as DO_NOT_USE.\n"
     ]
    },
    {
     "name": "stderr",
     "output_type": "stream",
     "text": [
      "2025-05-13 14:11:07,432 - stpipe.Detector1Pipeline.ramp_fit - INFO - Ramp Fitting C Time: 6.479647874832153\n"
     ]
    },
    {
     "name": "stderr",
     "output_type": "stream",
     "text": [
      "2025-05-13 14:11:07,477 - stpipe.Detector1Pipeline.ramp_fit - INFO - Step ramp_fit done\n"
     ]
    },
    {
     "name": "stderr",
     "output_type": "stream",
     "text": [
      "2025-05-13 14:11:07,581 - stpipe.Detector1Pipeline.gain_scale - INFO - Step gain_scale running with args (<ImageModel(256, 256) from jw03730013001_03101_00001-seg005_mirimage_ramp.fits>,).\n"
     ]
    },
    {
     "name": "stderr",
     "output_type": "stream",
     "text": [
      "2025-05-13 14:11:07,607 - stpipe.Detector1Pipeline.gain_scale - INFO - GAINFACT not found in gain reference file\n"
     ]
    },
    {
     "name": "stderr",
     "output_type": "stream",
     "text": [
      "2025-05-13 14:11:07,608 - stpipe.Detector1Pipeline.gain_scale - INFO - Step will be skipped\n"
     ]
    },
    {
     "name": "stderr",
     "output_type": "stream",
     "text": [
      "2025-05-13 14:11:07,610 - stpipe.Detector1Pipeline.gain_scale - INFO - Step gain_scale done\n"
     ]
    },
    {
     "name": "stderr",
     "output_type": "stream",
     "text": [
      "2025-05-13 14:11:07,702 - stpipe.Detector1Pipeline.gain_scale - INFO - Step gain_scale running with args (<CubeModel(28, 256, 256) from jw03730013001_03101_00001-seg005_mirimage_ramp.fits>,).\n"
     ]
    },
    {
     "name": "stderr",
     "output_type": "stream",
     "text": [
      "2025-05-13 14:11:07,730 - stpipe.Detector1Pipeline.gain_scale - INFO - GAINFACT not found in gain reference file\n"
     ]
    },
    {
     "name": "stderr",
     "output_type": "stream",
     "text": [
      "2025-05-13 14:11:07,730 - stpipe.Detector1Pipeline.gain_scale - INFO - Step will be skipped\n"
     ]
    },
    {
     "name": "stderr",
     "output_type": "stream",
     "text": [
      "2025-05-13 14:11:07,732 - stpipe.Detector1Pipeline.gain_scale - INFO - Step gain_scale done\n"
     ]
    },
    {
     "name": "stderr",
     "output_type": "stream",
     "text": [
      "2025-05-13 14:11:07,810 - stpipe.Detector1Pipeline - INFO - Saved model in ./imaging_demo_data/PID03730Obs013/stage1/jw03730013001_03101_00001-seg005_mirimage_rateints.fits\n"
     ]
    },
    {
     "name": "stderr",
     "output_type": "stream",
     "text": [
      "2025-05-13 14:11:07,811 - stpipe.Detector1Pipeline - INFO - ... ending calwebb_detector1\n"
     ]
    },
    {
     "name": "stderr",
     "output_type": "stream",
     "text": [
      "2025-05-13 14:11:07,812 - stpipe.Detector1Pipeline - INFO - Results used CRDS context: jwst_1364.pmap\n"
     ]
    },
    {
     "name": "stderr",
     "output_type": "stream",
     "text": [
      "2025-05-13 14:11:07,863 - stpipe.Detector1Pipeline - INFO - Saved model in ./imaging_demo_data/PID03730Obs013/stage1/jw03730013001_03101_00001-seg005_mirimage_rate.fits\n"
     ]
    },
    {
     "name": "stderr",
     "output_type": "stream",
     "text": [
      "2025-05-13 14:11:07,863 - stpipe.Detector1Pipeline - INFO - Step Detector1Pipeline done\n"
     ]
    },
    {
     "name": "stderr",
     "output_type": "stream",
     "text": [
      "2025-05-13 14:11:07,864 - stpipe - INFO - Results used jwst version: 1.18.0\n"
     ]
    }
   ],
   "source": [
    "# Run the pipeline on the selected uncal files one by one with the custom parameter dictionary \n",
    "if do_det1:\n",
    "    for file in uncal_files:\n",
    "        Detector1Pipeline.call(file, steps=det1dict, save_results=True, output_dir=det1_dir)\n",
    "else:\n",
    "    print('Skipping Detector1 processing...')"
   ]
  },
  {
   "cell_type": "code",
   "execution_count": 15,
   "id": "499d50d5",
   "metadata": {
    "execution": {
     "iopub.execute_input": "2025-05-13T14:11:07.869851Z",
     "iopub.status.busy": "2025-05-13T14:11:07.869430Z",
     "iopub.status.idle": "2025-05-13T14:11:07.872243Z",
     "shell.execute_reply": "2025-05-13T14:11:07.871894Z"
    }
   },
   "outputs": [
    {
     "name": "stdout",
     "output_type": "stream",
     "text": [
      "Runtime for Detector1: 1376 seconds\n"
     ]
    }
   ],
   "source": [
    "# Print out the time benchmark\n",
    "time1 = time.perf_counter()\n",
    "print(f\"Runtime for Detector1: {time1 - time0:0.0f} seconds\")"
   ]
  },
  {
   "cell_type": "markdown",
   "id": "34385329",
   "metadata": {},
   "source": [
    "### Exploring the data\n",
    "\n",
    "Identify the `*_rateints.fits` files and verify which pipeline steps were run and\n",
    "which calibration reference files were applied.<br>\n",
    "\n",
    "The header contains information about which calibration steps were\n",
    "completed and skipped and which reference files were used to process the\n",
    "data.<br>"
   ]
  },
  {
   "cell_type": "code",
   "execution_count": 16,
   "id": "348fc406",
   "metadata": {
    "execution": {
     "iopub.execute_input": "2025-05-13T14:11:07.873777Z",
     "iopub.status.busy": "2025-05-13T14:11:07.873406Z",
     "iopub.status.idle": "2025-05-13T14:11:08.094534Z",
     "shell.execute_reply": "2025-05-13T14:11:08.094037Z"
    }
   },
   "outputs": [],
   "source": [
    "if do_det1:\n",
    "    # Find rate files\n",
    "    rate_files = sorted(glob.glob(os.path.join(det1_dir, '*_rateints.fits')))\n",
    "\n",
    "    # Read in file as datamodel\n",
    "    rate_f = datamodels.open(rate_files[0])\n",
    "\n",
    "    # Check which steps were run\n",
    "    rate_f.meta.cal_step.instance\n",
    "\n",
    "    # Check which reference files were used to calibrate the dataset:\n",
    "    rate_f.meta.ref_file.instance"
   ]
  },
  {
   "cell_type": "markdown",
   "id": "618af2a5",
   "metadata": {},
   "source": [
    "<hr style=\"border:1px solid gray\"> </hr>"
   ]
  },
  {
   "cell_type": "markdown",
   "id": "36b7cc2e",
   "metadata": {},
   "source": [
    "## 6. Image2 Pipeline \n",
    "\n",
    "In the [Image2](https://jwst-pipeline.readthedocs.io/en/latest/jwst/pipeline/calwebb_image2.html) stage of the pipeline,\n",
    "flat-fielded and flux-calibrated data products (`*_calints.fits` files) are created from the `*_rateints.fits` files produced by Detector1.\n",
    "\n",
    "See https://jwst-docs.stsci.edu/jwst-science-calibration-pipeline/stages-of-jwst-data-processing/calwebb_image2 for a detailed overview of the various pipeline steps that comprise Image2.\n",
    "\n",
    "<div class=\"alert alert-block alert-warning\">\n",
    "To override certain steps and reference files, use the examples below.\n",
    "</div>"
   ]
  },
  {
   "cell_type": "code",
   "execution_count": 17,
   "id": "4b5d2142",
   "metadata": {
    "execution": {
     "iopub.execute_input": "2025-05-13T14:11:08.096538Z",
     "iopub.status.busy": "2025-05-13T14:11:08.096359Z",
     "iopub.status.idle": "2025-05-13T14:11:08.098663Z",
     "shell.execute_reply": "2025-05-13T14:11:08.098308Z"
    }
   },
   "outputs": [],
   "source": [
    "time_image2 = time.perf_counter()"
   ]
  },
  {
   "cell_type": "code",
   "execution_count": 18,
   "id": "308e094a",
   "metadata": {
    "execution": {
     "iopub.execute_input": "2025-05-13T14:11:08.100081Z",
     "iopub.status.busy": "2025-05-13T14:11:08.099750Z",
     "iopub.status.idle": "2025-05-13T14:11:08.102256Z",
     "shell.execute_reply": "2025-05-13T14:11:08.101922Z"
    }
   },
   "outputs": [],
   "source": [
    "# Set up a dictionary to define how the Image2 pipeline should be configured.\n",
    "\n",
    "# Boilerplate dictionary setup\n",
    "image2dict = {}\n",
    "image2dict['assign_wcs'], image2dict['flat_field'] = {}, {}\n",
    "image2dict['photom'] = {}\n",
    "\n",
    "# Overrides for whether or not certain steps should be skipped (example)\n",
    "#image2dict['photom']['skip'] = True \n",
    "\n",
    "# Overrides for various reference files\n",
    "# Files should be in the base local directory or provide full path\n",
    "#image2dict['assign_wcs']['override_distortion'] = 'myfile.asdf'  # Spatial distortion (ASDF file)\n",
    "#image2dict['assign_wcs']['override_filteroffset'] = 'myfile.asdf'  # Imager filter offsets (ASDF file)\n",
    "#image2dict['assign_wcs']['override_specwcs'] = 'myfile.asdf'  # Spectral distortion (ASDF file)\n",
    "#image2dict['assign_wcs']['override_wavelengthrange'] = 'myfile.asdf'  # Wavelength channel mapping (ASDF file)\n",
    "#image2dict['flat_field']['override_flat'] = 'myfile.fits'  # Pixel flatfield\n",
    "#image2dict['photom']['override_photom'] = 'myfile.fits'  # Photometric calibration array"
   ]
  },
  {
   "cell_type": "markdown",
   "id": "5768b56e",
   "metadata": {},
   "source": [
    "Grab the `*rateints.fits` files, ensuring the use of absolute paths."
   ]
  },
  {
   "cell_type": "code",
   "execution_count": 19,
   "id": "2dec6938",
   "metadata": {
    "execution": {
     "iopub.execute_input": "2025-05-13T14:11:08.103494Z",
     "iopub.status.busy": "2025-05-13T14:11:08.103336Z",
     "iopub.status.idle": "2025-05-13T14:11:08.106144Z",
     "shell.execute_reply": "2025-05-13T14:11:08.105790Z"
    }
   },
   "outputs": [],
   "source": [
    "# Get rate files from the Detector1 output folder\n",
    "rate_files = sorted(glob.glob(os.path.join(det1_dir, '*rateints.fits')))\n",
    "\n",
    "# Use the absolute file paths\n",
    "for ii in range(len(rate_files)):\n",
    "    rate_files[ii] = os.path.abspath(rate_files[ii])\n",
    "rate_files = np.array(rate_files)"
   ]
  },
  {
   "cell_type": "markdown",
   "id": "d6280e7d",
   "metadata": {},
   "source": [
    "Run the files through the Image2 pipeline."
   ]
  },
  {
   "cell_type": "code",
   "execution_count": 20,
   "id": "04a3d113",
   "metadata": {
    "execution": {
     "iopub.execute_input": "2025-05-13T14:11:08.107634Z",
     "iopub.status.busy": "2025-05-13T14:11:08.107306Z",
     "iopub.status.idle": "2025-05-13T14:11:19.522171Z",
     "shell.execute_reply": "2025-05-13T14:11:19.521719Z"
    },
    "scrolled": true,
    "tags": [
     "scroll-output"
    ]
   },
   "outputs": [
    {
     "name": "stderr",
     "output_type": "stream",
     "text": [
      "2025-05-13 14:11:08,230 - CRDS - INFO -  Fetching  /home/runner/crds/references/jwst/miri/jwst_miri_pars-resamplestep_0001.asdf    1.0 K bytes  (1 / 1 files) (0 / 1.0 K bytes)\n"
     ]
    },
    {
     "name": "stderr",
     "output_type": "stream",
     "text": [
      "2025-05-13 14:11:08,366 - stpipe - INFO - PARS-RESAMPLESTEP parameters found: /home/runner/crds/references/jwst/miri/jwst_miri_pars-resamplestep_0001.asdf\n"
     ]
    },
    {
     "name": "stderr",
     "output_type": "stream",
     "text": [
      "2025-05-13 14:11:08,374 - CRDS - INFO -  Fetching  /home/runner/crds/references/jwst/miri/jwst_miri_pars-image2pipeline_0001.asdf    1.2 K bytes  (1 / 1 files) (0 / 1.2 K bytes)\n"
     ]
    },
    {
     "name": "stderr",
     "output_type": "stream",
     "text": [
      "2025-05-13 14:11:08,463 - stpipe - INFO - PARS-IMAGE2PIPELINE parameters found: /home/runner/crds/references/jwst/miri/jwst_miri_pars-image2pipeline_0001.asdf\n"
     ]
    },
    {
     "name": "stderr",
     "output_type": "stream",
     "text": [
      "2025-05-13 14:11:08,477 - stpipe.Image2Pipeline - INFO - Image2Pipeline instance created.\n"
     ]
    },
    {
     "name": "stderr",
     "output_type": "stream",
     "text": [
      "2025-05-13 14:11:08,478 - stpipe.Image2Pipeline.bkg_subtract - INFO - BackgroundStep instance created.\n"
     ]
    },
    {
     "name": "stderr",
     "output_type": "stream",
     "text": [
      "2025-05-13 14:11:08,479 - stpipe.Image2Pipeline.assign_wcs - INFO - AssignWcsStep instance created.\n"
     ]
    },
    {
     "name": "stderr",
     "output_type": "stream",
     "text": [
      "2025-05-13 14:11:08,480 - stpipe.Image2Pipeline.flat_field - INFO - FlatFieldStep instance created.\n"
     ]
    },
    {
     "name": "stderr",
     "output_type": "stream",
     "text": [
      "2025-05-13 14:11:08,481 - stpipe.Image2Pipeline.photom - INFO - PhotomStep instance created.\n"
     ]
    },
    {
     "name": "stderr",
     "output_type": "stream",
     "text": [
      "2025-05-13 14:11:08,482 - stpipe.Image2Pipeline.resample - INFO - ResampleStep instance created.\n"
     ]
    },
    {
     "name": "stderr",
     "output_type": "stream",
     "text": [
      "2025-05-13 14:11:08,582 - stpipe.Image2Pipeline - INFO - Step Image2Pipeline running with args (np.str_('/home/runner/work/jwst-pipeline-notebooks/jwst-pipeline-notebooks/notebooks/MIRI/Imaging-TSO/imaging_demo_data/PID03730Obs013/stage1/jw03730013001_03101_00001-seg001_mirimage_rateints.fits'),).\n"
     ]
    },
    {
     "name": "stderr",
     "output_type": "stream",
     "text": [
      "2025-05-13 14:11:08,590 - stpipe.Image2Pipeline - INFO - Step Image2Pipeline parameters are:\n",
      "  pre_hooks: []\n",
      "  post_hooks: []\n",
      "  output_file: None\n",
      "  output_dir: ./imaging_demo_data/PID03730Obs013/stage2\n",
      "  output_ext: .fits\n",
      "  output_use_model: False\n",
      "  output_use_index: True\n",
      "  save_results: True\n",
      "  skip: False\n",
      "  suffix: None\n",
      "  search_output_file: True\n",
      "  input_dir: ''\n",
      "  save_bsub: False\n",
      "  steps:\n",
      "    bkg_subtract:\n",
      "      pre_hooks: []\n",
      "      post_hooks: []\n",
      "      output_file: None\n",
      "      output_dir: None\n",
      "      output_ext: .fits\n",
      "      output_use_model: False\n",
      "      output_use_index: True\n",
      "      save_results: False\n",
      "      skip: True\n",
      "      suffix: None\n",
      "      search_output_file: True\n",
      "      input_dir: ''\n",
      "      save_combined_background: False\n",
      "      sigma: 3.0\n",
      "      maxiters: None\n",
      "      wfss_mmag_extract: None\n",
      "      wfss_maxiter: 5\n",
      "      wfss_rms_stop: 0.0\n",
      "      wfss_outlier_percent: 1.0\n",
      "    assign_wcs:\n",
      "      pre_hooks: []\n",
      "      post_hooks: []\n",
      "      output_file: None\n",
      "      output_dir: None\n",
      "      output_ext: .fits\n",
      "      output_use_model: False\n",
      "      output_use_index: True\n",
      "      save_results: False\n",
      "      skip: False\n",
      "      suffix: None\n",
      "      search_output_file: True\n",
      "      input_dir: ''\n",
      "      sip_approx: True\n",
      "      sip_max_pix_error: 0.01\n",
      "      sip_degree: None\n",
      "      sip_max_inv_pix_error: 0.01\n",
      "      sip_inv_degree: None\n",
      "      sip_npoints: 12\n",
      "      slit_y_low: -0.55\n",
      "      slit_y_high: 0.55\n",
      "    flat_field:\n",
      "      pre_hooks: []\n",
      "      post_hooks: []\n",
      "      output_file: None\n",
      "      output_dir: None\n",
      "      output_ext: .fits\n",
      "      output_use_model: False\n",
      "      output_use_index: True\n",
      "      save_results: False\n",
      "      skip: False\n",
      "      suffix: None\n",
      "      search_output_file: True\n",
      "      input_dir: ''\n",
      "      save_interpolated_flat: False\n",
      "      user_supplied_flat: None\n",
      "      inverse: False\n",
      "    photom:\n",
      "      pre_hooks: []\n",
      "      post_hooks: []\n",
      "      output_file: None\n",
      "      output_dir: None\n",
      "      output_ext: .fits\n",
      "      output_use_model: False\n",
      "      output_use_index: True\n",
      "      save_results: False\n",
      "      skip: False\n",
      "      suffix: None\n",
      "      search_output_file: True\n",
      "      input_dir: ''\n",
      "      inverse: False\n",
      "      source_type: None\n",
      "      mrs_time_correction: True\n",
      "    resample:\n",
      "      pre_hooks: []\n",
      "      post_hooks: []\n",
      "      output_file: None\n",
      "      output_dir: None\n",
      "      output_ext: .fits\n",
      "      output_use_model: False\n",
      "      output_use_index: True\n",
      "      save_results: False\n",
      "      skip: True\n",
      "      suffix: None\n",
      "      search_output_file: True\n",
      "      input_dir: ''\n",
      "      pixfrac: 1.0\n",
      "      kernel: square\n",
      "      fillval: NAN\n",
      "      weight_type: exptime\n",
      "      output_shape: None\n",
      "      crpix: None\n",
      "      crval: None\n",
      "      rotation: None\n",
      "      pixel_scale_ratio: 1.0\n",
      "      pixel_scale: None\n",
      "      output_wcs: ''\n",
      "      single: False\n",
      "      blendheaders: True\n",
      "      in_memory: True\n"
     ]
    },
    {
     "name": "stderr",
     "output_type": "stream",
     "text": [
      "2025-05-13 14:11:08,710 - stpipe.Image2Pipeline - INFO - Prefetching reference files for dataset: 'jw03730013001_03101_00001-seg001_mirimage_rateints.fits' reftypes = ['area', 'camera', 'collimator', 'dflat', 'disperser', 'distortion', 'fflat', 'filteroffset', 'flat', 'fore', 'fpa', 'ifufore', 'ifupost', 'ifuslicer', 'msa', 'ote', 'photom', 'regions', 'sflat', 'specwcs', 'wavelengthrange']\n"
     ]
    },
    {
     "name": "stderr",
     "output_type": "stream",
     "text": [
      "2025-05-13 14:11:08,713 - CRDS - INFO -  Fetching  /home/runner/crds/references/jwst/miri/jwst_miri_area_0006.fits    4.2 M bytes  (1 / 5 files) (0 / 17.0 M bytes)\n"
     ]
    },
    {
     "name": "stderr",
     "output_type": "stream",
     "text": [
      "2025-05-13 14:11:08,999 - CRDS - INFO -  Fetching  /home/runner/crds/references/jwst/miri/jwst_miri_distortion_0047.asdf   12.4 K bytes  (2 / 5 files) (4.2 M / 17.0 M bytes)\n"
     ]
    },
    {
     "name": "stderr",
     "output_type": "stream",
     "text": [
      "2025-05-13 14:11:09,098 - CRDS - INFO -  Fetching  /home/runner/crds/references/jwst/miri/jwst_miri_filteroffset_0006.asdf    2.4 K bytes  (3 / 5 files) (4.2 M / 17.0 M bytes)\n"
     ]
    },
    {
     "name": "stderr",
     "output_type": "stream",
     "text": [
      "2025-05-13 14:11:09,206 - CRDS - INFO -  Fetching  /home/runner/crds/references/jwst/miri/jwst_miri_flat_0828.fits   12.7 M bytes  (4 / 5 files) (4.3 M / 17.0 M bytes)\n"
     ]
    },
    {
     "name": "stderr",
     "output_type": "stream",
     "text": [
      "2025-05-13 14:11:09,561 - CRDS - INFO -  Fetching  /home/runner/crds/references/jwst/miri/jwst_miri_photom_0218.fits   14.4 K bytes  (5 / 5 files) (17.0 M / 17.0 M bytes)\n"
     ]
    },
    {
     "name": "stderr",
     "output_type": "stream",
     "text": [
      "2025-05-13 14:11:09,698 - stpipe.Image2Pipeline - INFO - Prefetch for AREA reference file is '/home/runner/crds/references/jwst/miri/jwst_miri_area_0006.fits'.\n"
     ]
    },
    {
     "name": "stderr",
     "output_type": "stream",
     "text": [
      "2025-05-13 14:11:09,698 - stpipe.Image2Pipeline - INFO - Prefetch for CAMERA reference file is 'N/A'.\n"
     ]
    },
    {
     "name": "stderr",
     "output_type": "stream",
     "text": [
      "2025-05-13 14:11:09,699 - stpipe.Image2Pipeline - INFO - Prefetch for COLLIMATOR reference file is 'N/A'.\n"
     ]
    },
    {
     "name": "stderr",
     "output_type": "stream",
     "text": [
      "2025-05-13 14:11:09,699 - stpipe.Image2Pipeline - INFO - Prefetch for DFLAT reference file is 'N/A'.\n"
     ]
    },
    {
     "name": "stderr",
     "output_type": "stream",
     "text": [
      "2025-05-13 14:11:09,699 - stpipe.Image2Pipeline - INFO - Prefetch for DISPERSER reference file is 'N/A'.\n"
     ]
    },
    {
     "name": "stderr",
     "output_type": "stream",
     "text": [
      "2025-05-13 14:11:09,700 - stpipe.Image2Pipeline - INFO - Prefetch for DISTORTION reference file is '/home/runner/crds/references/jwst/miri/jwst_miri_distortion_0047.asdf'.\n"
     ]
    },
    {
     "name": "stderr",
     "output_type": "stream",
     "text": [
      "2025-05-13 14:11:09,700 - stpipe.Image2Pipeline - INFO - Prefetch for FFLAT reference file is 'N/A'.\n"
     ]
    },
    {
     "name": "stderr",
     "output_type": "stream",
     "text": [
      "2025-05-13 14:11:09,700 - stpipe.Image2Pipeline - INFO - Prefetch for FILTEROFFSET reference file is '/home/runner/crds/references/jwst/miri/jwst_miri_filteroffset_0006.asdf'.\n"
     ]
    },
    {
     "name": "stderr",
     "output_type": "stream",
     "text": [
      "2025-05-13 14:11:09,701 - stpipe.Image2Pipeline - INFO - Prefetch for FLAT reference file is '/home/runner/crds/references/jwst/miri/jwst_miri_flat_0828.fits'.\n"
     ]
    },
    {
     "name": "stderr",
     "output_type": "stream",
     "text": [
      "2025-05-13 14:11:09,701 - stpipe.Image2Pipeline - INFO - Prefetch for FORE reference file is 'N/A'.\n"
     ]
    },
    {
     "name": "stderr",
     "output_type": "stream",
     "text": [
      "2025-05-13 14:11:09,702 - stpipe.Image2Pipeline - INFO - Prefetch for FPA reference file is 'N/A'.\n"
     ]
    },
    {
     "name": "stderr",
     "output_type": "stream",
     "text": [
      "2025-05-13 14:11:09,702 - stpipe.Image2Pipeline - INFO - Prefetch for IFUFORE reference file is 'N/A'.\n"
     ]
    },
    {
     "name": "stderr",
     "output_type": "stream",
     "text": [
      "2025-05-13 14:11:09,702 - stpipe.Image2Pipeline - INFO - Prefetch for IFUPOST reference file is 'N/A'.\n"
     ]
    },
    {
     "name": "stderr",
     "output_type": "stream",
     "text": [
      "2025-05-13 14:11:09,703 - stpipe.Image2Pipeline - INFO - Prefetch for IFUSLICER reference file is 'N/A'.\n"
     ]
    },
    {
     "name": "stderr",
     "output_type": "stream",
     "text": [
      "2025-05-13 14:11:09,703 - stpipe.Image2Pipeline - INFO - Prefetch for MSA reference file is 'N/A'.\n"
     ]
    },
    {
     "name": "stderr",
     "output_type": "stream",
     "text": [
      "2025-05-13 14:11:09,703 - stpipe.Image2Pipeline - INFO - Prefetch for OTE reference file is 'N/A'.\n"
     ]
    },
    {
     "name": "stderr",
     "output_type": "stream",
     "text": [
      "2025-05-13 14:11:09,704 - stpipe.Image2Pipeline - INFO - Prefetch for PHOTOM reference file is '/home/runner/crds/references/jwst/miri/jwst_miri_photom_0218.fits'.\n"
     ]
    },
    {
     "name": "stderr",
     "output_type": "stream",
     "text": [
      "2025-05-13 14:11:09,704 - stpipe.Image2Pipeline - INFO - Prefetch for REGIONS reference file is 'N/A'.\n"
     ]
    },
    {
     "name": "stderr",
     "output_type": "stream",
     "text": [
      "2025-05-13 14:11:09,704 - stpipe.Image2Pipeline - INFO - Prefetch for SFLAT reference file is 'N/A'.\n"
     ]
    },
    {
     "name": "stderr",
     "output_type": "stream",
     "text": [
      "2025-05-13 14:11:09,705 - stpipe.Image2Pipeline - INFO - Prefetch for SPECWCS reference file is 'N/A'.\n"
     ]
    },
    {
     "name": "stderr",
     "output_type": "stream",
     "text": [
      "2025-05-13 14:11:09,705 - stpipe.Image2Pipeline - INFO - Prefetch for WAVELENGTHRANGE reference file is 'N/A'.\n"
     ]
    },
    {
     "name": "stderr",
     "output_type": "stream",
     "text": [
      "2025-05-13 14:11:09,705 - stpipe.Image2Pipeline - INFO - Starting calwebb_image2 ...\n"
     ]
    },
    {
     "name": "stderr",
     "output_type": "stream",
     "text": [
      "2025-05-13 14:11:09,706 - stpipe.Image2Pipeline - INFO - Processing product /home/runner/work/jwst-pipeline-notebooks/jwst-pipeline-notebooks/notebooks/MIRI/Imaging-TSO/imaging_demo_data/PID03730Obs013/stage1/jw03730013001_03101_00001-seg001_mirimage\n"
     ]
    },
    {
     "name": "stderr",
     "output_type": "stream",
     "text": [
      "2025-05-13 14:11:09,706 - stpipe.Image2Pipeline - INFO - Working on input /home/runner/work/jwst-pipeline-notebooks/jwst-pipeline-notebooks/notebooks/MIRI/Imaging-TSO/imaging_demo_data/PID03730Obs013/stage1/jw03730013001_03101_00001-seg001_mirimage_rateints.fits ...\n"
     ]
    },
    {
     "name": "stderr",
     "output_type": "stream",
     "text": [
      "2025-05-13 14:11:09,939 - stpipe.Image2Pipeline.assign_wcs - INFO - Step assign_wcs running with args (<CubeModel(234, 256, 256) from ./imaging_demo_data/PID03730Obs013/stage2/jw03730013001_03101_00001-seg001_mirimage_image2pipeline.fits>,).\n"
     ]
    },
    {
     "name": "stderr",
     "output_type": "stream",
     "text": [
      "2025-05-13 14:11:10,123 - stpipe.Image2Pipeline.assign_wcs - INFO - Created a MIRI mir_image pipeline with references {'distortion': '/home/runner/crds/references/jwst/miri/jwst_miri_distortion_0047.asdf', 'filteroffset': '/home/runner/crds/references/jwst/miri/jwst_miri_filteroffset_0006.asdf', 'specwcs': None, 'regions': None, 'wavelengthrange': None, 'camera': None, 'collimator': None, 'disperser': None, 'fore': None, 'fpa': None, 'msa': None, 'ote': None, 'ifupost': None, 'ifufore': None, 'ifuslicer': None}\n"
     ]
    },
    {
     "name": "stderr",
     "output_type": "stream",
     "text": [
      "2025-05-13 14:11:10,232 - stpipe.Image2Pipeline.assign_wcs - INFO - Update S_REGION to POLYGON ICRS  44.327146143 76.553992882 44.330655321 76.546218795 44.364309447 76.547064828 44.360856810 76.554840483\n"
     ]
    },
    {
     "name": "stderr",
     "output_type": "stream",
     "text": [
      "2025-05-13 14:11:10,233 - stpipe.Image2Pipeline.assign_wcs - INFO - assign_wcs updated S_REGION to POLYGON ICRS  44.327146143 76.553992882 44.330655321 76.546218795 44.364309447 76.547064828 44.360856810 76.554840483\n"
     ]
    },
    {
     "name": "stderr",
     "output_type": "stream",
     "text": [
      "2025-05-13 14:11:10,233 - stpipe.Image2Pipeline.assign_wcs - INFO - COMPLETED assign_wcs\n"
     ]
    },
    {
     "name": "stderr",
     "output_type": "stream",
     "text": [
      "2025-05-13 14:11:10,276 - stpipe.Image2Pipeline.assign_wcs - INFO - Step assign_wcs done\n"
     ]
    },
    {
     "name": "stderr",
     "output_type": "stream",
     "text": [
      "2025-05-13 14:11:10,394 - stpipe.Image2Pipeline.flat_field - INFO - Step flat_field running with args (<CubeModel(234, 256, 256) from ./imaging_demo_data/PID03730Obs013/stage2/jw03730013001_03101_00001-seg001_mirimage_image2pipeline.fits>,).\n"
     ]
    },
    {
     "name": "stderr",
     "output_type": "stream",
     "text": [
      "2025-05-13 14:11:10,457 - stpipe.Image2Pipeline.flat_field - INFO - Using FLAT reference file: /home/runner/crds/references/jwst/miri/jwst_miri_flat_0828.fits\n"
     ]
    },
    {
     "name": "stderr",
     "output_type": "stream",
     "text": [
      "2025-05-13 14:11:10,457 - stpipe.Image2Pipeline.flat_field - INFO - No reference found for type FFLAT\n"
     ]
    },
    {
     "name": "stderr",
     "output_type": "stream",
     "text": [
      "2025-05-13 14:11:10,458 - stpipe.Image2Pipeline.flat_field - INFO - No reference found for type SFLAT\n"
     ]
    },
    {
     "name": "stderr",
     "output_type": "stream",
     "text": [
      "2025-05-13 14:11:10,458 - stpipe.Image2Pipeline.flat_field - INFO - No reference found for type DFLAT\n"
     ]
    },
    {
     "name": "stderr",
     "output_type": "stream",
     "text": [
      "2025-05-13 14:11:10,525 - stpipe.Image2Pipeline.flat_field - INFO - Extracting matching subarray from flat\n"
     ]
    },
    {
     "name": "stderr",
     "output_type": "stream",
     "text": [
      "2025-05-13 14:11:10,797 - stpipe.Image2Pipeline.flat_field - INFO - Step flat_field done\n"
     ]
    },
    {
     "name": "stderr",
     "output_type": "stream",
     "text": [
      "2025-05-13 14:11:10,912 - stpipe.Image2Pipeline.photom - INFO - Step photom running with args (<CubeModel(234, 256, 256) from ./imaging_demo_data/PID03730Obs013/stage2/jw03730013001_03101_00001-seg001_mirimage_image2pipeline.fits>,).\n"
     ]
    },
    {
     "name": "stderr",
     "output_type": "stream",
     "text": [
      "2025-05-13 14:11:10,938 - stpipe.Image2Pipeline.photom - INFO - Using photom reference file: /home/runner/crds/references/jwst/miri/jwst_miri_photom_0218.fits\n"
     ]
    },
    {
     "name": "stderr",
     "output_type": "stream",
     "text": [
      "2025-05-13 14:11:10,939 - stpipe.Image2Pipeline.photom - INFO - Using area reference file: /home/runner/crds/references/jwst/miri/jwst_miri_area_0006.fits\n"
     ]
    },
    {
     "name": "stderr",
     "output_type": "stream",
     "text": [
      "2025-05-13 14:11:11,013 - stpipe.Image2Pipeline.photom - INFO - Using instrument: MIRI\n"
     ]
    },
    {
     "name": "stderr",
     "output_type": "stream",
     "text": [
      "2025-05-13 14:11:11,014 - stpipe.Image2Pipeline.photom - INFO -  detector: MIRIMAGE\n"
     ]
    },
    {
     "name": "stderr",
     "output_type": "stream",
     "text": [
      "2025-05-13 14:11:11,014 - stpipe.Image2Pipeline.photom - INFO -  exp_type: MIR_IMAGE\n"
     ]
    },
    {
     "name": "stderr",
     "output_type": "stream",
     "text": [
      "2025-05-13 14:11:11,014 - stpipe.Image2Pipeline.photom - INFO -  filter: F1500W\n"
     ]
    },
    {
     "name": "stderr",
     "output_type": "stream",
     "text": [
      "2025-05-13 14:11:11,044 - stpipe.Image2Pipeline.photom - INFO - Pixel area map copied to output.\n"
     ]
    },
    {
     "name": "stderr",
     "output_type": "stream",
     "text": [
      "2025-05-13 14:11:11,044 - stpipe.Image2Pipeline.photom - INFO - Values for PIXAR_SR and PIXAR_A2 obtained from AREA reference file.\n"
     ]
    },
    {
     "name": "stderr",
     "output_type": "stream",
     "text": [
      "2025-05-13 14:11:11,046 - stpipe.Image2Pipeline.photom - INFO -  subarray: SUB256\n"
     ]
    },
    {
     "name": "stderr",
     "output_type": "stream",
     "text": [
      "2025-05-13 14:11:11,046 - stpipe.Image2Pipeline.photom - INFO - Applying the time-dependent correction to the PHOTOM value.\n"
     ]
    },
    {
     "name": "stderr",
     "output_type": "stream",
     "text": [
      "2025-05-13 14:11:11,051 - stpipe.Image2Pipeline.photom - INFO - PHOTMJSR value: 0.377168\n"
     ]
    },
    {
     "name": "stderr",
     "output_type": "stream",
     "text": [
      "2025-05-13 14:11:11,212 - stpipe.Image2Pipeline.photom - INFO - Step photom done\n"
     ]
    },
    {
     "name": "stderr",
     "output_type": "stream",
     "text": [
      "2025-05-13 14:11:11,215 - stpipe.Image2Pipeline - INFO - Finished processing product /home/runner/work/jwst-pipeline-notebooks/jwst-pipeline-notebooks/notebooks/MIRI/Imaging-TSO/imaging_demo_data/PID03730Obs013/stage1/jw03730013001_03101_00001-seg001_mirimage\n"
     ]
    },
    {
     "name": "stderr",
     "output_type": "stream",
     "text": [
      "2025-05-13 14:11:11,216 - stpipe.Image2Pipeline - INFO - ... ending calwebb_image2\n"
     ]
    },
    {
     "name": "stderr",
     "output_type": "stream",
     "text": [
      "2025-05-13 14:11:11,216 - stpipe.Image2Pipeline - INFO - Results used CRDS context: jwst_1364.pmap\n"
     ]
    },
    {
     "name": "stderr",
     "output_type": "stream",
     "text": [
      "2025-05-13 14:11:11,565 - stpipe.Image2Pipeline - INFO - Saved model in ./imaging_demo_data/PID03730Obs013/stage2/jw03730013001_03101_00001-seg001_mirimage_calints.fits\n"
     ]
    },
    {
     "name": "stderr",
     "output_type": "stream",
     "text": [
      "2025-05-13 14:11:11,565 - stpipe.Image2Pipeline - INFO - Step Image2Pipeline done\n"
     ]
    },
    {
     "name": "stderr",
     "output_type": "stream",
     "text": [
      "2025-05-13 14:11:11,566 - stpipe - INFO - Results used jwst version: 1.18.0\n"
     ]
    },
    {
     "name": "stderr",
     "output_type": "stream",
     "text": [
      "2025-05-13 14:11:11,784 - stpipe - INFO - PARS-RESAMPLESTEP parameters found: /home/runner/crds/references/jwst/miri/jwst_miri_pars-resamplestep_0001.asdf\n"
     ]
    },
    {
     "name": "stderr",
     "output_type": "stream",
     "text": [
      "2025-05-13 14:11:11,792 - stpipe - INFO - PARS-IMAGE2PIPELINE parameters found: /home/runner/crds/references/jwst/miri/jwst_miri_pars-image2pipeline_0001.asdf\n"
     ]
    },
    {
     "name": "stderr",
     "output_type": "stream",
     "text": [
      "2025-05-13 14:11:11,802 - stpipe.Image2Pipeline - INFO - Image2Pipeline instance created.\n"
     ]
    },
    {
     "name": "stderr",
     "output_type": "stream",
     "text": [
      "2025-05-13 14:11:11,803 - stpipe.Image2Pipeline.bkg_subtract - INFO - BackgroundStep instance created.\n"
     ]
    },
    {
     "name": "stderr",
     "output_type": "stream",
     "text": [
      "2025-05-13 14:11:11,804 - stpipe.Image2Pipeline.assign_wcs - INFO - AssignWcsStep instance created.\n"
     ]
    },
    {
     "name": "stderr",
     "output_type": "stream",
     "text": [
      "2025-05-13 14:11:11,805 - stpipe.Image2Pipeline.flat_field - INFO - FlatFieldStep instance created.\n"
     ]
    },
    {
     "name": "stderr",
     "output_type": "stream",
     "text": [
      "2025-05-13 14:11:11,805 - stpipe.Image2Pipeline.photom - INFO - PhotomStep instance created.\n"
     ]
    },
    {
     "name": "stderr",
     "output_type": "stream",
     "text": [
      "2025-05-13 14:11:11,807 - stpipe.Image2Pipeline.resample - INFO - ResampleStep instance created.\n"
     ]
    },
    {
     "name": "stderr",
     "output_type": "stream",
     "text": [
      "2025-05-13 14:11:11,920 - stpipe.Image2Pipeline - INFO - Step Image2Pipeline running with args (np.str_('/home/runner/work/jwst-pipeline-notebooks/jwst-pipeline-notebooks/notebooks/MIRI/Imaging-TSO/imaging_demo_data/PID03730Obs013/stage1/jw03730013001_03101_00001-seg002_mirimage_rateints.fits'),).\n"
     ]
    },
    {
     "name": "stderr",
     "output_type": "stream",
     "text": [
      "2025-05-13 14:11:11,927 - stpipe.Image2Pipeline - INFO - Step Image2Pipeline parameters are:\n",
      "  pre_hooks: []\n",
      "  post_hooks: []\n",
      "  output_file: None\n",
      "  output_dir: ./imaging_demo_data/PID03730Obs013/stage2\n",
      "  output_ext: .fits\n",
      "  output_use_model: False\n",
      "  output_use_index: True\n",
      "  save_results: True\n",
      "  skip: False\n",
      "  suffix: None\n",
      "  search_output_file: True\n",
      "  input_dir: ''\n",
      "  save_bsub: False\n",
      "  steps:\n",
      "    bkg_subtract:\n",
      "      pre_hooks: []\n",
      "      post_hooks: []\n",
      "      output_file: None\n",
      "      output_dir: None\n",
      "      output_ext: .fits\n",
      "      output_use_model: False\n",
      "      output_use_index: True\n",
      "      save_results: False\n",
      "      skip: True\n",
      "      suffix: None\n",
      "      search_output_file: True\n",
      "      input_dir: ''\n",
      "      save_combined_background: False\n",
      "      sigma: 3.0\n",
      "      maxiters: None\n",
      "      wfss_mmag_extract: None\n",
      "      wfss_maxiter: 5\n",
      "      wfss_rms_stop: 0.0\n",
      "      wfss_outlier_percent: 1.0\n",
      "    assign_wcs:\n",
      "      pre_hooks: []\n",
      "      post_hooks: []\n",
      "      output_file: None\n",
      "      output_dir: None\n",
      "      output_ext: .fits\n",
      "      output_use_model: False\n",
      "      output_use_index: True\n",
      "      save_results: False\n",
      "      skip: False\n",
      "      suffix: None\n",
      "      search_output_file: True\n",
      "      input_dir: ''\n",
      "      sip_approx: True\n",
      "      sip_max_pix_error: 0.01\n",
      "      sip_degree: None\n",
      "      sip_max_inv_pix_error: 0.01\n",
      "      sip_inv_degree: None\n",
      "      sip_npoints: 12\n",
      "      slit_y_low: -0.55\n",
      "      slit_y_high: 0.55\n",
      "    flat_field:\n",
      "      pre_hooks: []\n",
      "      post_hooks: []\n",
      "      output_file: None\n",
      "      output_dir: None\n",
      "      output_ext: .fits\n",
      "      output_use_model: False\n",
      "      output_use_index: True\n",
      "      save_results: False\n",
      "      skip: False\n",
      "      suffix: None\n",
      "      search_output_file: True\n",
      "      input_dir: ''\n",
      "      save_interpolated_flat: False\n",
      "      user_supplied_flat: None\n",
      "      inverse: False\n",
      "    photom:\n",
      "      pre_hooks: []\n",
      "      post_hooks: []\n",
      "      output_file: None\n",
      "      output_dir: None\n",
      "      output_ext: .fits\n",
      "      output_use_model: False\n",
      "      output_use_index: True\n",
      "      save_results: False\n",
      "      skip: False\n",
      "      suffix: None\n",
      "      search_output_file: True\n",
      "      input_dir: ''\n",
      "      inverse: False\n",
      "      source_type: None\n",
      "      mrs_time_correction: True\n",
      "    resample:\n",
      "      pre_hooks: []\n",
      "      post_hooks: []\n",
      "      output_file: None\n",
      "      output_dir: None\n",
      "      output_ext: .fits\n",
      "      output_use_model: False\n",
      "      output_use_index: True\n",
      "      save_results: False\n",
      "      skip: True\n",
      "      suffix: None\n",
      "      search_output_file: True\n",
      "      input_dir: ''\n",
      "      pixfrac: 1.0\n",
      "      kernel: square\n",
      "      fillval: NAN\n",
      "      weight_type: exptime\n",
      "      output_shape: None\n",
      "      crpix: None\n",
      "      crval: None\n",
      "      rotation: None\n",
      "      pixel_scale_ratio: 1.0\n",
      "      pixel_scale: None\n",
      "      output_wcs: ''\n",
      "      single: False\n",
      "      blendheaders: True\n",
      "      in_memory: True\n"
     ]
    },
    {
     "name": "stderr",
     "output_type": "stream",
     "text": [
      "2025-05-13 14:11:12,046 - stpipe.Image2Pipeline - INFO - Prefetching reference files for dataset: 'jw03730013001_03101_00001-seg002_mirimage_rateints.fits' reftypes = ['area', 'camera', 'collimator', 'dflat', 'disperser', 'distortion', 'fflat', 'filteroffset', 'flat', 'fore', 'fpa', 'ifufore', 'ifupost', 'ifuslicer', 'msa', 'ote', 'photom', 'regions', 'sflat', 'specwcs', 'wavelengthrange']\n"
     ]
    },
    {
     "name": "stderr",
     "output_type": "stream",
     "text": [
      "2025-05-13 14:11:12,049 - stpipe.Image2Pipeline - INFO - Prefetch for AREA reference file is '/home/runner/crds/references/jwst/miri/jwst_miri_area_0006.fits'.\n"
     ]
    },
    {
     "name": "stderr",
     "output_type": "stream",
     "text": [
      "2025-05-13 14:11:12,050 - stpipe.Image2Pipeline - INFO - Prefetch for CAMERA reference file is 'N/A'.\n"
     ]
    },
    {
     "name": "stderr",
     "output_type": "stream",
     "text": [
      "2025-05-13 14:11:12,050 - stpipe.Image2Pipeline - INFO - Prefetch for COLLIMATOR reference file is 'N/A'.\n"
     ]
    },
    {
     "name": "stderr",
     "output_type": "stream",
     "text": [
      "2025-05-13 14:11:12,050 - stpipe.Image2Pipeline - INFO - Prefetch for DFLAT reference file is 'N/A'.\n"
     ]
    },
    {
     "name": "stderr",
     "output_type": "stream",
     "text": [
      "2025-05-13 14:11:12,051 - stpipe.Image2Pipeline - INFO - Prefetch for DISPERSER reference file is 'N/A'.\n"
     ]
    },
    {
     "name": "stderr",
     "output_type": "stream",
     "text": [
      "2025-05-13 14:11:12,051 - stpipe.Image2Pipeline - INFO - Prefetch for DISTORTION reference file is '/home/runner/crds/references/jwst/miri/jwst_miri_distortion_0047.asdf'.\n"
     ]
    },
    {
     "name": "stderr",
     "output_type": "stream",
     "text": [
      "2025-05-13 14:11:12,051 - stpipe.Image2Pipeline - INFO - Prefetch for FFLAT reference file is 'N/A'.\n"
     ]
    },
    {
     "name": "stderr",
     "output_type": "stream",
     "text": [
      "2025-05-13 14:11:12,052 - stpipe.Image2Pipeline - INFO - Prefetch for FILTEROFFSET reference file is '/home/runner/crds/references/jwst/miri/jwst_miri_filteroffset_0006.asdf'.\n"
     ]
    },
    {
     "name": "stderr",
     "output_type": "stream",
     "text": [
      "2025-05-13 14:11:12,052 - stpipe.Image2Pipeline - INFO - Prefetch for FLAT reference file is '/home/runner/crds/references/jwst/miri/jwst_miri_flat_0828.fits'.\n"
     ]
    },
    {
     "name": "stderr",
     "output_type": "stream",
     "text": [
      "2025-05-13 14:11:12,052 - stpipe.Image2Pipeline - INFO - Prefetch for FORE reference file is 'N/A'.\n"
     ]
    },
    {
     "name": "stderr",
     "output_type": "stream",
     "text": [
      "2025-05-13 14:11:12,053 - stpipe.Image2Pipeline - INFO - Prefetch for FPA reference file is 'N/A'.\n"
     ]
    },
    {
     "name": "stderr",
     "output_type": "stream",
     "text": [
      "2025-05-13 14:11:12,053 - stpipe.Image2Pipeline - INFO - Prefetch for IFUFORE reference file is 'N/A'.\n"
     ]
    },
    {
     "name": "stderr",
     "output_type": "stream",
     "text": [
      "2025-05-13 14:11:12,053 - stpipe.Image2Pipeline - INFO - Prefetch for IFUPOST reference file is 'N/A'.\n"
     ]
    },
    {
     "name": "stderr",
     "output_type": "stream",
     "text": [
      "2025-05-13 14:11:12,054 - stpipe.Image2Pipeline - INFO - Prefetch for IFUSLICER reference file is 'N/A'.\n"
     ]
    },
    {
     "name": "stderr",
     "output_type": "stream",
     "text": [
      "2025-05-13 14:11:12,054 - stpipe.Image2Pipeline - INFO - Prefetch for MSA reference file is 'N/A'.\n"
     ]
    },
    {
     "name": "stderr",
     "output_type": "stream",
     "text": [
      "2025-05-13 14:11:12,054 - stpipe.Image2Pipeline - INFO - Prefetch for OTE reference file is 'N/A'.\n"
     ]
    },
    {
     "name": "stderr",
     "output_type": "stream",
     "text": [
      "2025-05-13 14:11:12,055 - stpipe.Image2Pipeline - INFO - Prefetch for PHOTOM reference file is '/home/runner/crds/references/jwst/miri/jwst_miri_photom_0218.fits'.\n"
     ]
    },
    {
     "name": "stderr",
     "output_type": "stream",
     "text": [
      "2025-05-13 14:11:12,055 - stpipe.Image2Pipeline - INFO - Prefetch for REGIONS reference file is 'N/A'.\n"
     ]
    },
    {
     "name": "stderr",
     "output_type": "stream",
     "text": [
      "2025-05-13 14:11:12,055 - stpipe.Image2Pipeline - INFO - Prefetch for SFLAT reference file is 'N/A'.\n"
     ]
    },
    {
     "name": "stderr",
     "output_type": "stream",
     "text": [
      "2025-05-13 14:11:12,056 - stpipe.Image2Pipeline - INFO - Prefetch for SPECWCS reference file is 'N/A'.\n"
     ]
    },
    {
     "name": "stderr",
     "output_type": "stream",
     "text": [
      "2025-05-13 14:11:12,056 - stpipe.Image2Pipeline - INFO - Prefetch for WAVELENGTHRANGE reference file is 'N/A'.\n"
     ]
    },
    {
     "name": "stderr",
     "output_type": "stream",
     "text": [
      "2025-05-13 14:11:12,057 - stpipe.Image2Pipeline - INFO - Starting calwebb_image2 ...\n"
     ]
    },
    {
     "name": "stderr",
     "output_type": "stream",
     "text": [
      "2025-05-13 14:11:12,057 - stpipe.Image2Pipeline - INFO - Processing product /home/runner/work/jwst-pipeline-notebooks/jwst-pipeline-notebooks/notebooks/MIRI/Imaging-TSO/imaging_demo_data/PID03730Obs013/stage1/jw03730013001_03101_00001-seg002_mirimage\n"
     ]
    },
    {
     "name": "stderr",
     "output_type": "stream",
     "text": [
      "2025-05-13 14:11:12,057 - stpipe.Image2Pipeline - INFO - Working on input /home/runner/work/jwst-pipeline-notebooks/jwst-pipeline-notebooks/notebooks/MIRI/Imaging-TSO/imaging_demo_data/PID03730Obs013/stage1/jw03730013001_03101_00001-seg002_mirimage_rateints.fits ...\n"
     ]
    },
    {
     "name": "stderr",
     "output_type": "stream",
     "text": [
      "2025-05-13 14:11:12,287 - stpipe.Image2Pipeline.assign_wcs - INFO - Step assign_wcs running with args (<CubeModel(234, 256, 256) from ./imaging_demo_data/PID03730Obs013/stage2/jw03730013001_03101_00001-seg002_mirimage_image2pipeline.fits>,).\n"
     ]
    },
    {
     "name": "stderr",
     "output_type": "stream",
     "text": [
      "2025-05-13 14:11:12,457 - stpipe.Image2Pipeline.assign_wcs - INFO - Created a MIRI mir_image pipeline with references {'distortion': '/home/runner/crds/references/jwst/miri/jwst_miri_distortion_0047.asdf', 'filteroffset': '/home/runner/crds/references/jwst/miri/jwst_miri_filteroffset_0006.asdf', 'specwcs': None, 'regions': None, 'wavelengthrange': None, 'camera': None, 'collimator': None, 'disperser': None, 'fore': None, 'fpa': None, 'msa': None, 'ote': None, 'ifupost': None, 'ifufore': None, 'ifuslicer': None}\n"
     ]
    },
    {
     "name": "stderr",
     "output_type": "stream",
     "text": [
      "2025-05-13 14:11:12,546 - stpipe.Image2Pipeline.assign_wcs - INFO - Update S_REGION to POLYGON ICRS  44.327146143 76.553992882 44.330655321 76.546218795 44.364309447 76.547064828 44.360856810 76.554840483\n"
     ]
    },
    {
     "name": "stderr",
     "output_type": "stream",
     "text": [
      "2025-05-13 14:11:12,547 - stpipe.Image2Pipeline.assign_wcs - INFO - assign_wcs updated S_REGION to POLYGON ICRS  44.327146143 76.553992882 44.330655321 76.546218795 44.364309447 76.547064828 44.360856810 76.554840483\n"
     ]
    },
    {
     "name": "stderr",
     "output_type": "stream",
     "text": [
      "2025-05-13 14:11:12,547 - stpipe.Image2Pipeline.assign_wcs - INFO - COMPLETED assign_wcs\n"
     ]
    },
    {
     "name": "stderr",
     "output_type": "stream",
     "text": [
      "2025-05-13 14:11:12,579 - stpipe.Image2Pipeline.assign_wcs - INFO - Step assign_wcs done\n"
     ]
    },
    {
     "name": "stderr",
     "output_type": "stream",
     "text": [
      "2025-05-13 14:11:12,688 - stpipe.Image2Pipeline.flat_field - INFO - Step flat_field running with args (<CubeModel(234, 256, 256) from ./imaging_demo_data/PID03730Obs013/stage2/jw03730013001_03101_00001-seg002_mirimage_image2pipeline.fits>,).\n"
     ]
    },
    {
     "name": "stderr",
     "output_type": "stream",
     "text": [
      "2025-05-13 14:11:12,745 - stpipe.Image2Pipeline.flat_field - INFO - Using FLAT reference file: /home/runner/crds/references/jwst/miri/jwst_miri_flat_0828.fits\n"
     ]
    },
    {
     "name": "stderr",
     "output_type": "stream",
     "text": [
      "2025-05-13 14:11:12,745 - stpipe.Image2Pipeline.flat_field - INFO - No reference found for type FFLAT\n"
     ]
    },
    {
     "name": "stderr",
     "output_type": "stream",
     "text": [
      "2025-05-13 14:11:12,746 - stpipe.Image2Pipeline.flat_field - INFO - No reference found for type SFLAT\n"
     ]
    },
    {
     "name": "stderr",
     "output_type": "stream",
     "text": [
      "2025-05-13 14:11:12,746 - stpipe.Image2Pipeline.flat_field - INFO - No reference found for type DFLAT\n"
     ]
    },
    {
     "name": "stderr",
     "output_type": "stream",
     "text": [
      "2025-05-13 14:11:12,811 - stpipe.Image2Pipeline.flat_field - INFO - Extracting matching subarray from flat\n"
     ]
    },
    {
     "name": "stderr",
     "output_type": "stream",
     "text": [
      "2025-05-13 14:11:13,082 - stpipe.Image2Pipeline.flat_field - INFO - Step flat_field done\n"
     ]
    },
    {
     "name": "stderr",
     "output_type": "stream",
     "text": [
      "2025-05-13 14:11:13,192 - stpipe.Image2Pipeline.photom - INFO - Step photom running with args (<CubeModel(234, 256, 256) from ./imaging_demo_data/PID03730Obs013/stage2/jw03730013001_03101_00001-seg002_mirimage_image2pipeline.fits>,).\n"
     ]
    },
    {
     "name": "stderr",
     "output_type": "stream",
     "text": [
      "2025-05-13 14:11:13,214 - stpipe.Image2Pipeline.photom - INFO - Using photom reference file: /home/runner/crds/references/jwst/miri/jwst_miri_photom_0218.fits\n"
     ]
    },
    {
     "name": "stderr",
     "output_type": "stream",
     "text": [
      "2025-05-13 14:11:13,214 - stpipe.Image2Pipeline.photom - INFO - Using area reference file: /home/runner/crds/references/jwst/miri/jwst_miri_area_0006.fits\n"
     ]
    },
    {
     "name": "stderr",
     "output_type": "stream",
     "text": [
      "2025-05-13 14:11:13,291 - stpipe.Image2Pipeline.photom - INFO - Using instrument: MIRI\n"
     ]
    },
    {
     "name": "stderr",
     "output_type": "stream",
     "text": [
      "2025-05-13 14:11:13,292 - stpipe.Image2Pipeline.photom - INFO -  detector: MIRIMAGE\n"
     ]
    },
    {
     "name": "stderr",
     "output_type": "stream",
     "text": [
      "2025-05-13 14:11:13,292 - stpipe.Image2Pipeline.photom - INFO -  exp_type: MIR_IMAGE\n"
     ]
    },
    {
     "name": "stderr",
     "output_type": "stream",
     "text": [
      "2025-05-13 14:11:13,292 - stpipe.Image2Pipeline.photom - INFO -  filter: F1500W\n"
     ]
    },
    {
     "name": "stderr",
     "output_type": "stream",
     "text": [
      "2025-05-13 14:11:13,318 - stpipe.Image2Pipeline.photom - INFO - Pixel area map copied to output.\n"
     ]
    },
    {
     "name": "stderr",
     "output_type": "stream",
     "text": [
      "2025-05-13 14:11:13,318 - stpipe.Image2Pipeline.photom - INFO - Values for PIXAR_SR and PIXAR_A2 obtained from AREA reference file.\n"
     ]
    },
    {
     "name": "stderr",
     "output_type": "stream",
     "text": [
      "2025-05-13 14:11:13,319 - stpipe.Image2Pipeline.photom - INFO -  subarray: SUB256\n"
     ]
    },
    {
     "name": "stderr",
     "output_type": "stream",
     "text": [
      "2025-05-13 14:11:13,320 - stpipe.Image2Pipeline.photom - INFO - Applying the time-dependent correction to the PHOTOM value.\n"
     ]
    },
    {
     "name": "stderr",
     "output_type": "stream",
     "text": [
      "2025-05-13 14:11:13,324 - stpipe.Image2Pipeline.photom - INFO - PHOTMJSR value: 0.377168\n"
     ]
    },
    {
     "name": "stderr",
     "output_type": "stream",
     "text": [
      "2025-05-13 14:11:13,485 - stpipe.Image2Pipeline.photom - INFO - Step photom done\n"
     ]
    },
    {
     "name": "stderr",
     "output_type": "stream",
     "text": [
      "2025-05-13 14:11:13,488 - stpipe.Image2Pipeline - INFO - Finished processing product /home/runner/work/jwst-pipeline-notebooks/jwst-pipeline-notebooks/notebooks/MIRI/Imaging-TSO/imaging_demo_data/PID03730Obs013/stage1/jw03730013001_03101_00001-seg002_mirimage\n"
     ]
    },
    {
     "name": "stderr",
     "output_type": "stream",
     "text": [
      "2025-05-13 14:11:13,489 - stpipe.Image2Pipeline - INFO - ... ending calwebb_image2\n"
     ]
    },
    {
     "name": "stderr",
     "output_type": "stream",
     "text": [
      "2025-05-13 14:11:13,489 - stpipe.Image2Pipeline - INFO - Results used CRDS context: jwst_1364.pmap\n"
     ]
    },
    {
     "name": "stderr",
     "output_type": "stream",
     "text": [
      "2025-05-13 14:11:13,832 - stpipe.Image2Pipeline - INFO - Saved model in ./imaging_demo_data/PID03730Obs013/stage2/jw03730013001_03101_00001-seg002_mirimage_calints.fits\n"
     ]
    },
    {
     "name": "stderr",
     "output_type": "stream",
     "text": [
      "2025-05-13 14:11:13,833 - stpipe.Image2Pipeline - INFO - Step Image2Pipeline done\n"
     ]
    },
    {
     "name": "stderr",
     "output_type": "stream",
     "text": [
      "2025-05-13 14:11:13,833 - stpipe - INFO - Results used jwst version: 1.18.0\n"
     ]
    },
    {
     "name": "stderr",
     "output_type": "stream",
     "text": [
      "2025-05-13 14:11:13,958 - stpipe - INFO - PARS-RESAMPLESTEP parameters found: /home/runner/crds/references/jwst/miri/jwst_miri_pars-resamplestep_0001.asdf\n"
     ]
    },
    {
     "name": "stderr",
     "output_type": "stream",
     "text": [
      "2025-05-13 14:11:13,966 - stpipe - INFO - PARS-IMAGE2PIPELINE parameters found: /home/runner/crds/references/jwst/miri/jwst_miri_pars-image2pipeline_0001.asdf\n"
     ]
    },
    {
     "name": "stderr",
     "output_type": "stream",
     "text": [
      "2025-05-13 14:11:13,976 - stpipe.Image2Pipeline - INFO - Image2Pipeline instance created.\n"
     ]
    },
    {
     "name": "stderr",
     "output_type": "stream",
     "text": [
      "2025-05-13 14:11:13,977 - stpipe.Image2Pipeline.bkg_subtract - INFO - BackgroundStep instance created.\n"
     ]
    },
    {
     "name": "stderr",
     "output_type": "stream",
     "text": [
      "2025-05-13 14:11:13,978 - stpipe.Image2Pipeline.assign_wcs - INFO - AssignWcsStep instance created.\n"
     ]
    },
    {
     "name": "stderr",
     "output_type": "stream",
     "text": [
      "2025-05-13 14:11:13,979 - stpipe.Image2Pipeline.flat_field - INFO - FlatFieldStep instance created.\n"
     ]
    },
    {
     "name": "stderr",
     "output_type": "stream",
     "text": [
      "2025-05-13 14:11:13,980 - stpipe.Image2Pipeline.photom - INFO - PhotomStep instance created.\n"
     ]
    },
    {
     "name": "stderr",
     "output_type": "stream",
     "text": [
      "2025-05-13 14:11:13,983 - stpipe.Image2Pipeline.resample - INFO - ResampleStep instance created.\n"
     ]
    },
    {
     "name": "stderr",
     "output_type": "stream",
     "text": [
      "2025-05-13 14:11:14,103 - stpipe.Image2Pipeline - INFO - Step Image2Pipeline running with args (np.str_('/home/runner/work/jwst-pipeline-notebooks/jwst-pipeline-notebooks/notebooks/MIRI/Imaging-TSO/imaging_demo_data/PID03730Obs013/stage1/jw03730013001_03101_00001-seg003_mirimage_rateints.fits'),).\n"
     ]
    },
    {
     "name": "stderr",
     "output_type": "stream",
     "text": [
      "2025-05-13 14:11:14,111 - stpipe.Image2Pipeline - INFO - Step Image2Pipeline parameters are:\n",
      "  pre_hooks: []\n",
      "  post_hooks: []\n",
      "  output_file: None\n",
      "  output_dir: ./imaging_demo_data/PID03730Obs013/stage2\n",
      "  output_ext: .fits\n",
      "  output_use_model: False\n",
      "  output_use_index: True\n",
      "  save_results: True\n",
      "  skip: False\n",
      "  suffix: None\n",
      "  search_output_file: True\n",
      "  input_dir: ''\n",
      "  save_bsub: False\n",
      "  steps:\n",
      "    bkg_subtract:\n",
      "      pre_hooks: []\n",
      "      post_hooks: []\n",
      "      output_file: None\n",
      "      output_dir: None\n",
      "      output_ext: .fits\n",
      "      output_use_model: False\n",
      "      output_use_index: True\n",
      "      save_results: False\n",
      "      skip: True\n",
      "      suffix: None\n",
      "      search_output_file: True\n",
      "      input_dir: ''\n",
      "      save_combined_background: False\n",
      "      sigma: 3.0\n",
      "      maxiters: None\n",
      "      wfss_mmag_extract: None\n",
      "      wfss_maxiter: 5\n",
      "      wfss_rms_stop: 0.0\n",
      "      wfss_outlier_percent: 1.0\n",
      "    assign_wcs:\n",
      "      pre_hooks: []\n",
      "      post_hooks: []\n",
      "      output_file: None\n",
      "      output_dir: None\n",
      "      output_ext: .fits\n",
      "      output_use_model: False\n",
      "      output_use_index: True\n",
      "      save_results: False\n",
      "      skip: False\n",
      "      suffix: None\n",
      "      search_output_file: True\n",
      "      input_dir: ''\n",
      "      sip_approx: True\n",
      "      sip_max_pix_error: 0.01\n",
      "      sip_degree: None\n",
      "      sip_max_inv_pix_error: 0.01\n",
      "      sip_inv_degree: None\n",
      "      sip_npoints: 12\n",
      "      slit_y_low: -0.55\n",
      "      slit_y_high: 0.55\n",
      "    flat_field:\n",
      "      pre_hooks: []\n",
      "      post_hooks: []\n",
      "      output_file: None\n",
      "      output_dir: None\n",
      "      output_ext: .fits\n",
      "      output_use_model: False\n",
      "      output_use_index: True\n",
      "      save_results: False\n",
      "      skip: False\n",
      "      suffix: None\n",
      "      search_output_file: True\n",
      "      input_dir: ''\n",
      "      save_interpolated_flat: False\n",
      "      user_supplied_flat: None\n",
      "      inverse: False\n",
      "    photom:\n",
      "      pre_hooks: []\n",
      "      post_hooks: []\n",
      "      output_file: None\n",
      "      output_dir: None\n",
      "      output_ext: .fits\n",
      "      output_use_model: False\n",
      "      output_use_index: True\n",
      "      save_results: False\n",
      "      skip: False\n",
      "      suffix: None\n",
      "      search_output_file: True\n",
      "      input_dir: ''\n",
      "      inverse: False\n",
      "      source_type: None\n",
      "      mrs_time_correction: True\n",
      "    resample:\n",
      "      pre_hooks: []\n",
      "      post_hooks: []\n",
      "      output_file: None\n",
      "      output_dir: None\n",
      "      output_ext: .fits\n",
      "      output_use_model: False\n",
      "      output_use_index: True\n",
      "      save_results: False\n",
      "      skip: True\n",
      "      suffix: None\n",
      "      search_output_file: True\n",
      "      input_dir: ''\n",
      "      pixfrac: 1.0\n",
      "      kernel: square\n",
      "      fillval: NAN\n",
      "      weight_type: exptime\n",
      "      output_shape: None\n",
      "      crpix: None\n",
      "      crval: None\n",
      "      rotation: None\n",
      "      pixel_scale_ratio: 1.0\n",
      "      pixel_scale: None\n",
      "      output_wcs: ''\n",
      "      single: False\n",
      "      blendheaders: True\n",
      "      in_memory: True\n"
     ]
    },
    {
     "name": "stderr",
     "output_type": "stream",
     "text": [
      "2025-05-13 14:11:14,231 - stpipe.Image2Pipeline - INFO - Prefetching reference files for dataset: 'jw03730013001_03101_00001-seg003_mirimage_rateints.fits' reftypes = ['area', 'camera', 'collimator', 'dflat', 'disperser', 'distortion', 'fflat', 'filteroffset', 'flat', 'fore', 'fpa', 'ifufore', 'ifupost', 'ifuslicer', 'msa', 'ote', 'photom', 'regions', 'sflat', 'specwcs', 'wavelengthrange']\n"
     ]
    },
    {
     "name": "stderr",
     "output_type": "stream",
     "text": [
      "2025-05-13 14:11:14,235 - stpipe.Image2Pipeline - INFO - Prefetch for AREA reference file is '/home/runner/crds/references/jwst/miri/jwst_miri_area_0006.fits'.\n"
     ]
    },
    {
     "name": "stderr",
     "output_type": "stream",
     "text": [
      "2025-05-13 14:11:14,235 - stpipe.Image2Pipeline - INFO - Prefetch for CAMERA reference file is 'N/A'.\n"
     ]
    },
    {
     "name": "stderr",
     "output_type": "stream",
     "text": [
      "2025-05-13 14:11:14,236 - stpipe.Image2Pipeline - INFO - Prefetch for COLLIMATOR reference file is 'N/A'.\n"
     ]
    },
    {
     "name": "stderr",
     "output_type": "stream",
     "text": [
      "2025-05-13 14:11:14,236 - stpipe.Image2Pipeline - INFO - Prefetch for DFLAT reference file is 'N/A'.\n"
     ]
    },
    {
     "name": "stderr",
     "output_type": "stream",
     "text": [
      "2025-05-13 14:11:14,236 - stpipe.Image2Pipeline - INFO - Prefetch for DISPERSER reference file is 'N/A'.\n"
     ]
    },
    {
     "name": "stderr",
     "output_type": "stream",
     "text": [
      "2025-05-13 14:11:14,237 - stpipe.Image2Pipeline - INFO - Prefetch for DISTORTION reference file is '/home/runner/crds/references/jwst/miri/jwst_miri_distortion_0047.asdf'.\n"
     ]
    },
    {
     "name": "stderr",
     "output_type": "stream",
     "text": [
      "2025-05-13 14:11:14,237 - stpipe.Image2Pipeline - INFO - Prefetch for FFLAT reference file is 'N/A'.\n"
     ]
    },
    {
     "name": "stderr",
     "output_type": "stream",
     "text": [
      "2025-05-13 14:11:14,237 - stpipe.Image2Pipeline - INFO - Prefetch for FILTEROFFSET reference file is '/home/runner/crds/references/jwst/miri/jwst_miri_filteroffset_0006.asdf'.\n"
     ]
    },
    {
     "name": "stderr",
     "output_type": "stream",
     "text": [
      "2025-05-13 14:11:14,238 - stpipe.Image2Pipeline - INFO - Prefetch for FLAT reference file is '/home/runner/crds/references/jwst/miri/jwst_miri_flat_0828.fits'.\n"
     ]
    },
    {
     "name": "stderr",
     "output_type": "stream",
     "text": [
      "2025-05-13 14:11:14,239 - stpipe.Image2Pipeline - INFO - Prefetch for FORE reference file is 'N/A'.\n"
     ]
    },
    {
     "name": "stderr",
     "output_type": "stream",
     "text": [
      "2025-05-13 14:11:14,239 - stpipe.Image2Pipeline - INFO - Prefetch for FPA reference file is 'N/A'.\n"
     ]
    },
    {
     "name": "stderr",
     "output_type": "stream",
     "text": [
      "2025-05-13 14:11:14,239 - stpipe.Image2Pipeline - INFO - Prefetch for IFUFORE reference file is 'N/A'.\n"
     ]
    },
    {
     "name": "stderr",
     "output_type": "stream",
     "text": [
      "2025-05-13 14:11:14,239 - stpipe.Image2Pipeline - INFO - Prefetch for IFUPOST reference file is 'N/A'.\n"
     ]
    },
    {
     "name": "stderr",
     "output_type": "stream",
     "text": [
      "2025-05-13 14:11:14,240 - stpipe.Image2Pipeline - INFO - Prefetch for IFUSLICER reference file is 'N/A'.\n"
     ]
    },
    {
     "name": "stderr",
     "output_type": "stream",
     "text": [
      "2025-05-13 14:11:14,240 - stpipe.Image2Pipeline - INFO - Prefetch for MSA reference file is 'N/A'.\n"
     ]
    },
    {
     "name": "stderr",
     "output_type": "stream",
     "text": [
      "2025-05-13 14:11:14,240 - stpipe.Image2Pipeline - INFO - Prefetch for OTE reference file is 'N/A'.\n"
     ]
    },
    {
     "name": "stderr",
     "output_type": "stream",
     "text": [
      "2025-05-13 14:11:14,241 - stpipe.Image2Pipeline - INFO - Prefetch for PHOTOM reference file is '/home/runner/crds/references/jwst/miri/jwst_miri_photom_0218.fits'.\n"
     ]
    },
    {
     "name": "stderr",
     "output_type": "stream",
     "text": [
      "2025-05-13 14:11:14,241 - stpipe.Image2Pipeline - INFO - Prefetch for REGIONS reference file is 'N/A'.\n"
     ]
    },
    {
     "name": "stderr",
     "output_type": "stream",
     "text": [
      "2025-05-13 14:11:14,242 - stpipe.Image2Pipeline - INFO - Prefetch for SFLAT reference file is 'N/A'.\n"
     ]
    },
    {
     "name": "stderr",
     "output_type": "stream",
     "text": [
      "2025-05-13 14:11:14,242 - stpipe.Image2Pipeline - INFO - Prefetch for SPECWCS reference file is 'N/A'.\n"
     ]
    },
    {
     "name": "stderr",
     "output_type": "stream",
     "text": [
      "2025-05-13 14:11:14,243 - stpipe.Image2Pipeline - INFO - Prefetch for WAVELENGTHRANGE reference file is 'N/A'.\n"
     ]
    },
    {
     "name": "stderr",
     "output_type": "stream",
     "text": [
      "2025-05-13 14:11:14,243 - stpipe.Image2Pipeline - INFO - Starting calwebb_image2 ...\n"
     ]
    },
    {
     "name": "stderr",
     "output_type": "stream",
     "text": [
      "2025-05-13 14:11:14,244 - stpipe.Image2Pipeline - INFO - Processing product /home/runner/work/jwst-pipeline-notebooks/jwst-pipeline-notebooks/notebooks/MIRI/Imaging-TSO/imaging_demo_data/PID03730Obs013/stage1/jw03730013001_03101_00001-seg003_mirimage\n"
     ]
    },
    {
     "name": "stderr",
     "output_type": "stream",
     "text": [
      "2025-05-13 14:11:14,244 - stpipe.Image2Pipeline - INFO - Working on input /home/runner/work/jwst-pipeline-notebooks/jwst-pipeline-notebooks/notebooks/MIRI/Imaging-TSO/imaging_demo_data/PID03730Obs013/stage1/jw03730013001_03101_00001-seg003_mirimage_rateints.fits ...\n"
     ]
    },
    {
     "name": "stderr",
     "output_type": "stream",
     "text": [
      "2025-05-13 14:11:14,479 - stpipe.Image2Pipeline.assign_wcs - INFO - Step assign_wcs running with args (<CubeModel(234, 256, 256) from ./imaging_demo_data/PID03730Obs013/stage2/jw03730013001_03101_00001-seg003_mirimage_image2pipeline.fits>,).\n"
     ]
    },
    {
     "name": "stderr",
     "output_type": "stream",
     "text": [
      "2025-05-13 14:11:14,648 - stpipe.Image2Pipeline.assign_wcs - INFO - Created a MIRI mir_image pipeline with references {'distortion': '/home/runner/crds/references/jwst/miri/jwst_miri_distortion_0047.asdf', 'filteroffset': '/home/runner/crds/references/jwst/miri/jwst_miri_filteroffset_0006.asdf', 'specwcs': None, 'regions': None, 'wavelengthrange': None, 'camera': None, 'collimator': None, 'disperser': None, 'fore': None, 'fpa': None, 'msa': None, 'ote': None, 'ifupost': None, 'ifufore': None, 'ifuslicer': None}\n"
     ]
    },
    {
     "name": "stderr",
     "output_type": "stream",
     "text": [
      "2025-05-13 14:11:14,737 - stpipe.Image2Pipeline.assign_wcs - INFO - Update S_REGION to POLYGON ICRS  44.327146143 76.553992882 44.330655321 76.546218795 44.364309447 76.547064828 44.360856810 76.554840483\n"
     ]
    },
    {
     "name": "stderr",
     "output_type": "stream",
     "text": [
      "2025-05-13 14:11:14,738 - stpipe.Image2Pipeline.assign_wcs - INFO - assign_wcs updated S_REGION to POLYGON ICRS  44.327146143 76.553992882 44.330655321 76.546218795 44.364309447 76.547064828 44.360856810 76.554840483\n"
     ]
    },
    {
     "name": "stderr",
     "output_type": "stream",
     "text": [
      "2025-05-13 14:11:14,738 - stpipe.Image2Pipeline.assign_wcs - INFO - COMPLETED assign_wcs\n"
     ]
    },
    {
     "name": "stderr",
     "output_type": "stream",
     "text": [
      "2025-05-13 14:11:14,769 - stpipe.Image2Pipeline.assign_wcs - INFO - Step assign_wcs done\n"
     ]
    },
    {
     "name": "stderr",
     "output_type": "stream",
     "text": [
      "2025-05-13 14:11:14,890 - stpipe.Image2Pipeline.flat_field - INFO - Step flat_field running with args (<CubeModel(234, 256, 256) from ./imaging_demo_data/PID03730Obs013/stage2/jw03730013001_03101_00001-seg003_mirimage_image2pipeline.fits>,).\n"
     ]
    },
    {
     "name": "stderr",
     "output_type": "stream",
     "text": [
      "2025-05-13 14:11:14,947 - stpipe.Image2Pipeline.flat_field - INFO - Using FLAT reference file: /home/runner/crds/references/jwst/miri/jwst_miri_flat_0828.fits\n"
     ]
    },
    {
     "name": "stderr",
     "output_type": "stream",
     "text": [
      "2025-05-13 14:11:14,947 - stpipe.Image2Pipeline.flat_field - INFO - No reference found for type FFLAT\n"
     ]
    },
    {
     "name": "stderr",
     "output_type": "stream",
     "text": [
      "2025-05-13 14:11:14,948 - stpipe.Image2Pipeline.flat_field - INFO - No reference found for type SFLAT\n"
     ]
    },
    {
     "name": "stderr",
     "output_type": "stream",
     "text": [
      "2025-05-13 14:11:14,948 - stpipe.Image2Pipeline.flat_field - INFO - No reference found for type DFLAT\n"
     ]
    },
    {
     "name": "stderr",
     "output_type": "stream",
     "text": [
      "2025-05-13 14:11:15,013 - stpipe.Image2Pipeline.flat_field - INFO - Extracting matching subarray from flat\n"
     ]
    },
    {
     "name": "stderr",
     "output_type": "stream",
     "text": [
      "2025-05-13 14:11:15,276 - stpipe.Image2Pipeline.flat_field - INFO - Step flat_field done\n"
     ]
    },
    {
     "name": "stderr",
     "output_type": "stream",
     "text": [
      "2025-05-13 14:11:15,390 - stpipe.Image2Pipeline.photom - INFO - Step photom running with args (<CubeModel(234, 256, 256) from ./imaging_demo_data/PID03730Obs013/stage2/jw03730013001_03101_00001-seg003_mirimage_image2pipeline.fits>,).\n"
     ]
    },
    {
     "name": "stderr",
     "output_type": "stream",
     "text": [
      "2025-05-13 14:11:15,413 - stpipe.Image2Pipeline.photom - INFO - Using photom reference file: /home/runner/crds/references/jwst/miri/jwst_miri_photom_0218.fits\n"
     ]
    },
    {
     "name": "stderr",
     "output_type": "stream",
     "text": [
      "2025-05-13 14:11:15,413 - stpipe.Image2Pipeline.photom - INFO - Using area reference file: /home/runner/crds/references/jwst/miri/jwst_miri_area_0006.fits\n"
     ]
    },
    {
     "name": "stderr",
     "output_type": "stream",
     "text": [
      "2025-05-13 14:11:15,489 - stpipe.Image2Pipeline.photom - INFO - Using instrument: MIRI\n"
     ]
    },
    {
     "name": "stderr",
     "output_type": "stream",
     "text": [
      "2025-05-13 14:11:15,490 - stpipe.Image2Pipeline.photom - INFO -  detector: MIRIMAGE\n"
     ]
    },
    {
     "name": "stderr",
     "output_type": "stream",
     "text": [
      "2025-05-13 14:11:15,491 - stpipe.Image2Pipeline.photom - INFO -  exp_type: MIR_IMAGE\n"
     ]
    },
    {
     "name": "stderr",
     "output_type": "stream",
     "text": [
      "2025-05-13 14:11:15,491 - stpipe.Image2Pipeline.photom - INFO -  filter: F1500W\n"
     ]
    },
    {
     "name": "stderr",
     "output_type": "stream",
     "text": [
      "2025-05-13 14:11:15,516 - stpipe.Image2Pipeline.photom - INFO - Pixel area map copied to output.\n"
     ]
    },
    {
     "name": "stderr",
     "output_type": "stream",
     "text": [
      "2025-05-13 14:11:15,517 - stpipe.Image2Pipeline.photom - INFO - Values for PIXAR_SR and PIXAR_A2 obtained from AREA reference file.\n"
     ]
    },
    {
     "name": "stderr",
     "output_type": "stream",
     "text": [
      "2025-05-13 14:11:15,518 - stpipe.Image2Pipeline.photom - INFO -  subarray: SUB256\n"
     ]
    },
    {
     "name": "stderr",
     "output_type": "stream",
     "text": [
      "2025-05-13 14:11:15,518 - stpipe.Image2Pipeline.photom - INFO - Applying the time-dependent correction to the PHOTOM value.\n"
     ]
    },
    {
     "name": "stderr",
     "output_type": "stream",
     "text": [
      "2025-05-13 14:11:15,523 - stpipe.Image2Pipeline.photom - INFO - PHOTMJSR value: 0.377168\n"
     ]
    },
    {
     "name": "stderr",
     "output_type": "stream",
     "text": [
      "2025-05-13 14:11:15,685 - stpipe.Image2Pipeline.photom - INFO - Step photom done\n"
     ]
    },
    {
     "name": "stderr",
     "output_type": "stream",
     "text": [
      "2025-05-13 14:11:15,688 - stpipe.Image2Pipeline - INFO - Finished processing product /home/runner/work/jwst-pipeline-notebooks/jwst-pipeline-notebooks/notebooks/MIRI/Imaging-TSO/imaging_demo_data/PID03730Obs013/stage1/jw03730013001_03101_00001-seg003_mirimage\n"
     ]
    },
    {
     "name": "stderr",
     "output_type": "stream",
     "text": [
      "2025-05-13 14:11:15,689 - stpipe.Image2Pipeline - INFO - ... ending calwebb_image2\n"
     ]
    },
    {
     "name": "stderr",
     "output_type": "stream",
     "text": [
      "2025-05-13 14:11:15,689 - stpipe.Image2Pipeline - INFO - Results used CRDS context: jwst_1364.pmap\n"
     ]
    },
    {
     "name": "stderr",
     "output_type": "stream",
     "text": [
      "2025-05-13 14:11:16,033 - stpipe.Image2Pipeline - INFO - Saved model in ./imaging_demo_data/PID03730Obs013/stage2/jw03730013001_03101_00001-seg003_mirimage_calints.fits\n"
     ]
    },
    {
     "name": "stderr",
     "output_type": "stream",
     "text": [
      "2025-05-13 14:11:16,034 - stpipe.Image2Pipeline - INFO - Step Image2Pipeline done\n"
     ]
    },
    {
     "name": "stderr",
     "output_type": "stream",
     "text": [
      "2025-05-13 14:11:16,034 - stpipe - INFO - Results used jwst version: 1.18.0\n"
     ]
    },
    {
     "name": "stderr",
     "output_type": "stream",
     "text": [
      "2025-05-13 14:11:16,161 - stpipe - INFO - PARS-RESAMPLESTEP parameters found: /home/runner/crds/references/jwst/miri/jwst_miri_pars-resamplestep_0001.asdf\n"
     ]
    },
    {
     "name": "stderr",
     "output_type": "stream",
     "text": [
      "2025-05-13 14:11:16,168 - stpipe - INFO - PARS-IMAGE2PIPELINE parameters found: /home/runner/crds/references/jwst/miri/jwst_miri_pars-image2pipeline_0001.asdf\n"
     ]
    },
    {
     "name": "stderr",
     "output_type": "stream",
     "text": [
      "2025-05-13 14:11:16,179 - stpipe.Image2Pipeline - INFO - Image2Pipeline instance created.\n"
     ]
    },
    {
     "name": "stderr",
     "output_type": "stream",
     "text": [
      "2025-05-13 14:11:16,180 - stpipe.Image2Pipeline.bkg_subtract - INFO - BackgroundStep instance created.\n"
     ]
    },
    {
     "name": "stderr",
     "output_type": "stream",
     "text": [
      "2025-05-13 14:11:16,181 - stpipe.Image2Pipeline.assign_wcs - INFO - AssignWcsStep instance created.\n"
     ]
    },
    {
     "name": "stderr",
     "output_type": "stream",
     "text": [
      "2025-05-13 14:11:16,181 - stpipe.Image2Pipeline.flat_field - INFO - FlatFieldStep instance created.\n"
     ]
    },
    {
     "name": "stderr",
     "output_type": "stream",
     "text": [
      "2025-05-13 14:11:16,182 - stpipe.Image2Pipeline.photom - INFO - PhotomStep instance created.\n"
     ]
    },
    {
     "name": "stderr",
     "output_type": "stream",
     "text": [
      "2025-05-13 14:11:16,183 - stpipe.Image2Pipeline.resample - INFO - ResampleStep instance created.\n"
     ]
    },
    {
     "name": "stderr",
     "output_type": "stream",
     "text": [
      "2025-05-13 14:11:16,297 - stpipe.Image2Pipeline - INFO - Step Image2Pipeline running with args (np.str_('/home/runner/work/jwst-pipeline-notebooks/jwst-pipeline-notebooks/notebooks/MIRI/Imaging-TSO/imaging_demo_data/PID03730Obs013/stage1/jw03730013001_03101_00001-seg004_mirimage_rateints.fits'),).\n"
     ]
    },
    {
     "name": "stderr",
     "output_type": "stream",
     "text": [
      "2025-05-13 14:11:16,305 - stpipe.Image2Pipeline - INFO - Step Image2Pipeline parameters are:\n",
      "  pre_hooks: []\n",
      "  post_hooks: []\n",
      "  output_file: None\n",
      "  output_dir: ./imaging_demo_data/PID03730Obs013/stage2\n",
      "  output_ext: .fits\n",
      "  output_use_model: False\n",
      "  output_use_index: True\n",
      "  save_results: True\n",
      "  skip: False\n",
      "  suffix: None\n",
      "  search_output_file: True\n",
      "  input_dir: ''\n",
      "  save_bsub: False\n",
      "  steps:\n",
      "    bkg_subtract:\n",
      "      pre_hooks: []\n",
      "      post_hooks: []\n",
      "      output_file: None\n",
      "      output_dir: None\n",
      "      output_ext: .fits\n",
      "      output_use_model: False\n",
      "      output_use_index: True\n",
      "      save_results: False\n",
      "      skip: True\n",
      "      suffix: None\n",
      "      search_output_file: True\n",
      "      input_dir: ''\n",
      "      save_combined_background: False\n",
      "      sigma: 3.0\n",
      "      maxiters: None\n",
      "      wfss_mmag_extract: None\n",
      "      wfss_maxiter: 5\n",
      "      wfss_rms_stop: 0.0\n",
      "      wfss_outlier_percent: 1.0\n",
      "    assign_wcs:\n",
      "      pre_hooks: []\n",
      "      post_hooks: []\n",
      "      output_file: None\n",
      "      output_dir: None\n",
      "      output_ext: .fits\n",
      "      output_use_model: False\n",
      "      output_use_index: True\n",
      "      save_results: False\n",
      "      skip: False\n",
      "      suffix: None\n",
      "      search_output_file: True\n",
      "      input_dir: ''\n",
      "      sip_approx: True\n",
      "      sip_max_pix_error: 0.01\n",
      "      sip_degree: None\n",
      "      sip_max_inv_pix_error: 0.01\n",
      "      sip_inv_degree: None\n",
      "      sip_npoints: 12\n",
      "      slit_y_low: -0.55\n",
      "      slit_y_high: 0.55\n",
      "    flat_field:\n",
      "      pre_hooks: []\n",
      "      post_hooks: []\n",
      "      output_file: None\n",
      "      output_dir: None\n",
      "      output_ext: .fits\n",
      "      output_use_model: False\n",
      "      output_use_index: True\n",
      "      save_results: False\n",
      "      skip: False\n",
      "      suffix: None\n",
      "      search_output_file: True\n",
      "      input_dir: ''\n",
      "      save_interpolated_flat: False\n",
      "      user_supplied_flat: None\n",
      "      inverse: False\n",
      "    photom:\n",
      "      pre_hooks: []\n",
      "      post_hooks: []\n",
      "      output_file: None\n",
      "      output_dir: None\n",
      "      output_ext: .fits\n",
      "      output_use_model: False\n",
      "      output_use_index: True\n",
      "      save_results: False\n",
      "      skip: False\n",
      "      suffix: None\n",
      "      search_output_file: True\n",
      "      input_dir: ''\n",
      "      inverse: False\n",
      "      source_type: None\n",
      "      mrs_time_correction: True\n",
      "    resample:\n",
      "      pre_hooks: []\n",
      "      post_hooks: []\n",
      "      output_file: None\n",
      "      output_dir: None\n",
      "      output_ext: .fits\n",
      "      output_use_model: False\n",
      "      output_use_index: True\n",
      "      save_results: False\n",
      "      skip: True\n",
      "      suffix: None\n",
      "      search_output_file: True\n",
      "      input_dir: ''\n",
      "      pixfrac: 1.0\n",
      "      kernel: square\n",
      "      fillval: NAN\n",
      "      weight_type: exptime\n",
      "      output_shape: None\n",
      "      crpix: None\n",
      "      crval: None\n",
      "      rotation: None\n",
      "      pixel_scale_ratio: 1.0\n",
      "      pixel_scale: None\n",
      "      output_wcs: ''\n",
      "      single: False\n",
      "      blendheaders: True\n",
      "      in_memory: True\n"
     ]
    },
    {
     "name": "stderr",
     "output_type": "stream",
     "text": [
      "2025-05-13 14:11:16,427 - stpipe.Image2Pipeline - INFO - Prefetching reference files for dataset: 'jw03730013001_03101_00001-seg004_mirimage_rateints.fits' reftypes = ['area', 'camera', 'collimator', 'dflat', 'disperser', 'distortion', 'fflat', 'filteroffset', 'flat', 'fore', 'fpa', 'ifufore', 'ifupost', 'ifuslicer', 'msa', 'ote', 'photom', 'regions', 'sflat', 'specwcs', 'wavelengthrange']\n"
     ]
    },
    {
     "name": "stderr",
     "output_type": "stream",
     "text": [
      "2025-05-13 14:11:16,430 - stpipe.Image2Pipeline - INFO - Prefetch for AREA reference file is '/home/runner/crds/references/jwst/miri/jwst_miri_area_0006.fits'.\n"
     ]
    },
    {
     "name": "stderr",
     "output_type": "stream",
     "text": [
      "2025-05-13 14:11:16,431 - stpipe.Image2Pipeline - INFO - Prefetch for CAMERA reference file is 'N/A'.\n"
     ]
    },
    {
     "name": "stderr",
     "output_type": "stream",
     "text": [
      "2025-05-13 14:11:16,431 - stpipe.Image2Pipeline - INFO - Prefetch for COLLIMATOR reference file is 'N/A'.\n"
     ]
    },
    {
     "name": "stderr",
     "output_type": "stream",
     "text": [
      "2025-05-13 14:11:16,431 - stpipe.Image2Pipeline - INFO - Prefetch for DFLAT reference file is 'N/A'.\n"
     ]
    },
    {
     "name": "stderr",
     "output_type": "stream",
     "text": [
      "2025-05-13 14:11:16,432 - stpipe.Image2Pipeline - INFO - Prefetch for DISPERSER reference file is 'N/A'.\n"
     ]
    },
    {
     "name": "stderr",
     "output_type": "stream",
     "text": [
      "2025-05-13 14:11:16,432 - stpipe.Image2Pipeline - INFO - Prefetch for DISTORTION reference file is '/home/runner/crds/references/jwst/miri/jwst_miri_distortion_0047.asdf'.\n"
     ]
    },
    {
     "name": "stderr",
     "output_type": "stream",
     "text": [
      "2025-05-13 14:11:16,432 - stpipe.Image2Pipeline - INFO - Prefetch for FFLAT reference file is 'N/A'.\n"
     ]
    },
    {
     "name": "stderr",
     "output_type": "stream",
     "text": [
      "2025-05-13 14:11:16,433 - stpipe.Image2Pipeline - INFO - Prefetch for FILTEROFFSET reference file is '/home/runner/crds/references/jwst/miri/jwst_miri_filteroffset_0006.asdf'.\n"
     ]
    },
    {
     "name": "stderr",
     "output_type": "stream",
     "text": [
      "2025-05-13 14:11:16,433 - stpipe.Image2Pipeline - INFO - Prefetch for FLAT reference file is '/home/runner/crds/references/jwst/miri/jwst_miri_flat_0828.fits'.\n"
     ]
    },
    {
     "name": "stderr",
     "output_type": "stream",
     "text": [
      "2025-05-13 14:11:16,433 - stpipe.Image2Pipeline - INFO - Prefetch for FORE reference file is 'N/A'.\n"
     ]
    },
    {
     "name": "stderr",
     "output_type": "stream",
     "text": [
      "2025-05-13 14:11:16,434 - stpipe.Image2Pipeline - INFO - Prefetch for FPA reference file is 'N/A'.\n"
     ]
    },
    {
     "name": "stderr",
     "output_type": "stream",
     "text": [
      "2025-05-13 14:11:16,434 - stpipe.Image2Pipeline - INFO - Prefetch for IFUFORE reference file is 'N/A'.\n"
     ]
    },
    {
     "name": "stderr",
     "output_type": "stream",
     "text": [
      "2025-05-13 14:11:16,434 - stpipe.Image2Pipeline - INFO - Prefetch for IFUPOST reference file is 'N/A'.\n"
     ]
    },
    {
     "name": "stderr",
     "output_type": "stream",
     "text": [
      "2025-05-13 14:11:16,435 - stpipe.Image2Pipeline - INFO - Prefetch for IFUSLICER reference file is 'N/A'.\n"
     ]
    },
    {
     "name": "stderr",
     "output_type": "stream",
     "text": [
      "2025-05-13 14:11:16,435 - stpipe.Image2Pipeline - INFO - Prefetch for MSA reference file is 'N/A'.\n"
     ]
    },
    {
     "name": "stderr",
     "output_type": "stream",
     "text": [
      "2025-05-13 14:11:16,435 - stpipe.Image2Pipeline - INFO - Prefetch for OTE reference file is 'N/A'.\n"
     ]
    },
    {
     "name": "stderr",
     "output_type": "stream",
     "text": [
      "2025-05-13 14:11:16,435 - stpipe.Image2Pipeline - INFO - Prefetch for PHOTOM reference file is '/home/runner/crds/references/jwst/miri/jwst_miri_photom_0218.fits'.\n"
     ]
    },
    {
     "name": "stderr",
     "output_type": "stream",
     "text": [
      "2025-05-13 14:11:16,436 - stpipe.Image2Pipeline - INFO - Prefetch for REGIONS reference file is 'N/A'.\n"
     ]
    },
    {
     "name": "stderr",
     "output_type": "stream",
     "text": [
      "2025-05-13 14:11:16,436 - stpipe.Image2Pipeline - INFO - Prefetch for SFLAT reference file is 'N/A'.\n"
     ]
    },
    {
     "name": "stderr",
     "output_type": "stream",
     "text": [
      "2025-05-13 14:11:16,436 - stpipe.Image2Pipeline - INFO - Prefetch for SPECWCS reference file is 'N/A'.\n"
     ]
    },
    {
     "name": "stderr",
     "output_type": "stream",
     "text": [
      "2025-05-13 14:11:16,437 - stpipe.Image2Pipeline - INFO - Prefetch for WAVELENGTHRANGE reference file is 'N/A'.\n"
     ]
    },
    {
     "name": "stderr",
     "output_type": "stream",
     "text": [
      "2025-05-13 14:11:16,437 - stpipe.Image2Pipeline - INFO - Starting calwebb_image2 ...\n"
     ]
    },
    {
     "name": "stderr",
     "output_type": "stream",
     "text": [
      "2025-05-13 14:11:16,438 - stpipe.Image2Pipeline - INFO - Processing product /home/runner/work/jwst-pipeline-notebooks/jwst-pipeline-notebooks/notebooks/MIRI/Imaging-TSO/imaging_demo_data/PID03730Obs013/stage1/jw03730013001_03101_00001-seg004_mirimage\n"
     ]
    },
    {
     "name": "stderr",
     "output_type": "stream",
     "text": [
      "2025-05-13 14:11:16,438 - stpipe.Image2Pipeline - INFO - Working on input /home/runner/work/jwst-pipeline-notebooks/jwst-pipeline-notebooks/notebooks/MIRI/Imaging-TSO/imaging_demo_data/PID03730Obs013/stage1/jw03730013001_03101_00001-seg004_mirimage_rateints.fits ...\n"
     ]
    },
    {
     "name": "stderr",
     "output_type": "stream",
     "text": [
      "2025-05-13 14:11:16,675 - stpipe.Image2Pipeline.assign_wcs - INFO - Step assign_wcs running with args (<CubeModel(234, 256, 256) from ./imaging_demo_data/PID03730Obs013/stage2/jw03730013001_03101_00001-seg004_mirimage_image2pipeline.fits>,).\n"
     ]
    },
    {
     "name": "stderr",
     "output_type": "stream",
     "text": [
      "2025-05-13 14:11:16,845 - stpipe.Image2Pipeline.assign_wcs - INFO - Created a MIRI mir_image pipeline with references {'distortion': '/home/runner/crds/references/jwst/miri/jwst_miri_distortion_0047.asdf', 'filteroffset': '/home/runner/crds/references/jwst/miri/jwst_miri_filteroffset_0006.asdf', 'specwcs': None, 'regions': None, 'wavelengthrange': None, 'camera': None, 'collimator': None, 'disperser': None, 'fore': None, 'fpa': None, 'msa': None, 'ote': None, 'ifupost': None, 'ifufore': None, 'ifuslicer': None}\n"
     ]
    },
    {
     "name": "stderr",
     "output_type": "stream",
     "text": [
      "2025-05-13 14:11:16,934 - stpipe.Image2Pipeline.assign_wcs - INFO - Update S_REGION to POLYGON ICRS  44.327146143 76.553992882 44.330655321 76.546218795 44.364309447 76.547064828 44.360856810 76.554840483\n"
     ]
    },
    {
     "name": "stderr",
     "output_type": "stream",
     "text": [
      "2025-05-13 14:11:16,935 - stpipe.Image2Pipeline.assign_wcs - INFO - assign_wcs updated S_REGION to POLYGON ICRS  44.327146143 76.553992882 44.330655321 76.546218795 44.364309447 76.547064828 44.360856810 76.554840483\n"
     ]
    },
    {
     "name": "stderr",
     "output_type": "stream",
     "text": [
      "2025-05-13 14:11:16,935 - stpipe.Image2Pipeline.assign_wcs - INFO - COMPLETED assign_wcs\n"
     ]
    },
    {
     "name": "stderr",
     "output_type": "stream",
     "text": [
      "2025-05-13 14:11:16,967 - stpipe.Image2Pipeline.assign_wcs - INFO - Step assign_wcs done\n"
     ]
    },
    {
     "name": "stderr",
     "output_type": "stream",
     "text": [
      "2025-05-13 14:11:17,091 - stpipe.Image2Pipeline.flat_field - INFO - Step flat_field running with args (<CubeModel(234, 256, 256) from ./imaging_demo_data/PID03730Obs013/stage2/jw03730013001_03101_00001-seg004_mirimage_image2pipeline.fits>,).\n"
     ]
    },
    {
     "name": "stderr",
     "output_type": "stream",
     "text": [
      "2025-05-13 14:11:17,148 - stpipe.Image2Pipeline.flat_field - INFO - Using FLAT reference file: /home/runner/crds/references/jwst/miri/jwst_miri_flat_0828.fits\n"
     ]
    },
    {
     "name": "stderr",
     "output_type": "stream",
     "text": [
      "2025-05-13 14:11:17,148 - stpipe.Image2Pipeline.flat_field - INFO - No reference found for type FFLAT\n"
     ]
    },
    {
     "name": "stderr",
     "output_type": "stream",
     "text": [
      "2025-05-13 14:11:17,149 - stpipe.Image2Pipeline.flat_field - INFO - No reference found for type SFLAT\n"
     ]
    },
    {
     "name": "stderr",
     "output_type": "stream",
     "text": [
      "2025-05-13 14:11:17,149 - stpipe.Image2Pipeline.flat_field - INFO - No reference found for type DFLAT\n"
     ]
    },
    {
     "name": "stderr",
     "output_type": "stream",
     "text": [
      "2025-05-13 14:11:17,215 - stpipe.Image2Pipeline.flat_field - INFO - Extracting matching subarray from flat\n"
     ]
    },
    {
     "name": "stderr",
     "output_type": "stream",
     "text": [
      "2025-05-13 14:11:17,478 - stpipe.Image2Pipeline.flat_field - INFO - Step flat_field done\n"
     ]
    },
    {
     "name": "stderr",
     "output_type": "stream",
     "text": [
      "2025-05-13 14:11:17,598 - stpipe.Image2Pipeline.photom - INFO - Step photom running with args (<CubeModel(234, 256, 256) from ./imaging_demo_data/PID03730Obs013/stage2/jw03730013001_03101_00001-seg004_mirimage_image2pipeline.fits>,).\n"
     ]
    },
    {
     "name": "stderr",
     "output_type": "stream",
     "text": [
      "2025-05-13 14:11:17,620 - stpipe.Image2Pipeline.photom - INFO - Using photom reference file: /home/runner/crds/references/jwst/miri/jwst_miri_photom_0218.fits\n"
     ]
    },
    {
     "name": "stderr",
     "output_type": "stream",
     "text": [
      "2025-05-13 14:11:17,620 - stpipe.Image2Pipeline.photom - INFO - Using area reference file: /home/runner/crds/references/jwst/miri/jwst_miri_area_0006.fits\n"
     ]
    },
    {
     "name": "stderr",
     "output_type": "stream",
     "text": [
      "2025-05-13 14:11:17,696 - stpipe.Image2Pipeline.photom - INFO - Using instrument: MIRI\n"
     ]
    },
    {
     "name": "stderr",
     "output_type": "stream",
     "text": [
      "2025-05-13 14:11:17,696 - stpipe.Image2Pipeline.photom - INFO -  detector: MIRIMAGE\n"
     ]
    },
    {
     "name": "stderr",
     "output_type": "stream",
     "text": [
      "2025-05-13 14:11:17,697 - stpipe.Image2Pipeline.photom - INFO -  exp_type: MIR_IMAGE\n"
     ]
    },
    {
     "name": "stderr",
     "output_type": "stream",
     "text": [
      "2025-05-13 14:11:17,697 - stpipe.Image2Pipeline.photom - INFO -  filter: F1500W\n"
     ]
    },
    {
     "name": "stderr",
     "output_type": "stream",
     "text": [
      "2025-05-13 14:11:17,722 - stpipe.Image2Pipeline.photom - INFO - Pixel area map copied to output.\n"
     ]
    },
    {
     "name": "stderr",
     "output_type": "stream",
     "text": [
      "2025-05-13 14:11:17,722 - stpipe.Image2Pipeline.photom - INFO - Values for PIXAR_SR and PIXAR_A2 obtained from AREA reference file.\n"
     ]
    },
    {
     "name": "stderr",
     "output_type": "stream",
     "text": [
      "2025-05-13 14:11:17,723 - stpipe.Image2Pipeline.photom - INFO -  subarray: SUB256\n"
     ]
    },
    {
     "name": "stderr",
     "output_type": "stream",
     "text": [
      "2025-05-13 14:11:17,724 - stpipe.Image2Pipeline.photom - INFO - Applying the time-dependent correction to the PHOTOM value.\n"
     ]
    },
    {
     "name": "stderr",
     "output_type": "stream",
     "text": [
      "2025-05-13 14:11:17,729 - stpipe.Image2Pipeline.photom - INFO - PHOTMJSR value: 0.377168\n"
     ]
    },
    {
     "name": "stderr",
     "output_type": "stream",
     "text": [
      "2025-05-13 14:11:17,889 - stpipe.Image2Pipeline.photom - INFO - Step photom done\n"
     ]
    },
    {
     "name": "stderr",
     "output_type": "stream",
     "text": [
      "2025-05-13 14:11:17,892 - stpipe.Image2Pipeline - INFO - Finished processing product /home/runner/work/jwst-pipeline-notebooks/jwst-pipeline-notebooks/notebooks/MIRI/Imaging-TSO/imaging_demo_data/PID03730Obs013/stage1/jw03730013001_03101_00001-seg004_mirimage\n"
     ]
    },
    {
     "name": "stderr",
     "output_type": "stream",
     "text": [
      "2025-05-13 14:11:17,893 - stpipe.Image2Pipeline - INFO - ... ending calwebb_image2\n"
     ]
    },
    {
     "name": "stderr",
     "output_type": "stream",
     "text": [
      "2025-05-13 14:11:17,893 - stpipe.Image2Pipeline - INFO - Results used CRDS context: jwst_1364.pmap\n"
     ]
    },
    {
     "name": "stderr",
     "output_type": "stream",
     "text": [
      "2025-05-13 14:11:18,238 - stpipe.Image2Pipeline - INFO - Saved model in ./imaging_demo_data/PID03730Obs013/stage2/jw03730013001_03101_00001-seg004_mirimage_calints.fits\n"
     ]
    },
    {
     "name": "stderr",
     "output_type": "stream",
     "text": [
      "2025-05-13 14:11:18,239 - stpipe.Image2Pipeline - INFO - Step Image2Pipeline done\n"
     ]
    },
    {
     "name": "stderr",
     "output_type": "stream",
     "text": [
      "2025-05-13 14:11:18,240 - stpipe - INFO - Results used jwst version: 1.18.0\n"
     ]
    },
    {
     "name": "stderr",
     "output_type": "stream",
     "text": [
      "2025-05-13 14:11:18,291 - stpipe - INFO - PARS-RESAMPLESTEP parameters found: /home/runner/crds/references/jwst/miri/jwst_miri_pars-resamplestep_0001.asdf\n"
     ]
    },
    {
     "name": "stderr",
     "output_type": "stream",
     "text": [
      "2025-05-13 14:11:18,298 - stpipe - INFO - PARS-IMAGE2PIPELINE parameters found: /home/runner/crds/references/jwst/miri/jwst_miri_pars-image2pipeline_0001.asdf\n"
     ]
    },
    {
     "name": "stderr",
     "output_type": "stream",
     "text": [
      "2025-05-13 14:11:18,309 - stpipe.Image2Pipeline - INFO - Image2Pipeline instance created.\n"
     ]
    },
    {
     "name": "stderr",
     "output_type": "stream",
     "text": [
      "2025-05-13 14:11:18,310 - stpipe.Image2Pipeline.bkg_subtract - INFO - BackgroundStep instance created.\n"
     ]
    },
    {
     "name": "stderr",
     "output_type": "stream",
     "text": [
      "2025-05-13 14:11:18,311 - stpipe.Image2Pipeline.assign_wcs - INFO - AssignWcsStep instance created.\n"
     ]
    },
    {
     "name": "stderr",
     "output_type": "stream",
     "text": [
      "2025-05-13 14:11:18,312 - stpipe.Image2Pipeline.flat_field - INFO - FlatFieldStep instance created.\n"
     ]
    },
    {
     "name": "stderr",
     "output_type": "stream",
     "text": [
      "2025-05-13 14:11:18,312 - stpipe.Image2Pipeline.photom - INFO - PhotomStep instance created.\n"
     ]
    },
    {
     "name": "stderr",
     "output_type": "stream",
     "text": [
      "2025-05-13 14:11:18,313 - stpipe.Image2Pipeline.resample - INFO - ResampleStep instance created.\n"
     ]
    },
    {
     "name": "stderr",
     "output_type": "stream",
     "text": [
      "2025-05-13 14:11:18,437 - stpipe.Image2Pipeline - INFO - Step Image2Pipeline running with args (np.str_('/home/runner/work/jwst-pipeline-notebooks/jwst-pipeline-notebooks/notebooks/MIRI/Imaging-TSO/imaging_demo_data/PID03730Obs013/stage1/jw03730013001_03101_00001-seg005_mirimage_rateints.fits'),).\n"
     ]
    },
    {
     "name": "stderr",
     "output_type": "stream",
     "text": [
      "2025-05-13 14:11:18,444 - stpipe.Image2Pipeline - INFO - Step Image2Pipeline parameters are:\n",
      "  pre_hooks: []\n",
      "  post_hooks: []\n",
      "  output_file: None\n",
      "  output_dir: ./imaging_demo_data/PID03730Obs013/stage2\n",
      "  output_ext: .fits\n",
      "  output_use_model: False\n",
      "  output_use_index: True\n",
      "  save_results: True\n",
      "  skip: False\n",
      "  suffix: None\n",
      "  search_output_file: True\n",
      "  input_dir: ''\n",
      "  save_bsub: False\n",
      "  steps:\n",
      "    bkg_subtract:\n",
      "      pre_hooks: []\n",
      "      post_hooks: []\n",
      "      output_file: None\n",
      "      output_dir: None\n",
      "      output_ext: .fits\n",
      "      output_use_model: False\n",
      "      output_use_index: True\n",
      "      save_results: False\n",
      "      skip: True\n",
      "      suffix: None\n",
      "      search_output_file: True\n",
      "      input_dir: ''\n",
      "      save_combined_background: False\n",
      "      sigma: 3.0\n",
      "      maxiters: None\n",
      "      wfss_mmag_extract: None\n",
      "      wfss_maxiter: 5\n",
      "      wfss_rms_stop: 0.0\n",
      "      wfss_outlier_percent: 1.0\n",
      "    assign_wcs:\n",
      "      pre_hooks: []\n",
      "      post_hooks: []\n",
      "      output_file: None\n",
      "      output_dir: None\n",
      "      output_ext: .fits\n",
      "      output_use_model: False\n",
      "      output_use_index: True\n",
      "      save_results: False\n",
      "      skip: False\n",
      "      suffix: None\n",
      "      search_output_file: True\n",
      "      input_dir: ''\n",
      "      sip_approx: True\n",
      "      sip_max_pix_error: 0.01\n",
      "      sip_degree: None\n",
      "      sip_max_inv_pix_error: 0.01\n",
      "      sip_inv_degree: None\n",
      "      sip_npoints: 12\n",
      "      slit_y_low: -0.55\n",
      "      slit_y_high: 0.55\n",
      "    flat_field:\n",
      "      pre_hooks: []\n",
      "      post_hooks: []\n",
      "      output_file: None\n",
      "      output_dir: None\n",
      "      output_ext: .fits\n",
      "      output_use_model: False\n",
      "      output_use_index: True\n",
      "      save_results: False\n",
      "      skip: False\n",
      "      suffix: None\n",
      "      search_output_file: True\n",
      "      input_dir: ''\n",
      "      save_interpolated_flat: False\n",
      "      user_supplied_flat: None\n",
      "      inverse: False\n",
      "    photom:\n",
      "      pre_hooks: []\n",
      "      post_hooks: []\n",
      "      output_file: None\n",
      "      output_dir: None\n",
      "      output_ext: .fits\n",
      "      output_use_model: False\n",
      "      output_use_index: True\n",
      "      save_results: False\n",
      "      skip: False\n",
      "      suffix: None\n",
      "      search_output_file: True\n",
      "      input_dir: ''\n",
      "      inverse: False\n",
      "      source_type: None\n",
      "      mrs_time_correction: True\n",
      "    resample:\n",
      "      pre_hooks: []\n",
      "      post_hooks: []\n",
      "      output_file: None\n",
      "      output_dir: None\n",
      "      output_ext: .fits\n",
      "      output_use_model: False\n",
      "      output_use_index: True\n",
      "      save_results: False\n",
      "      skip: True\n",
      "      suffix: None\n",
      "      search_output_file: True\n",
      "      input_dir: ''\n",
      "      pixfrac: 1.0\n",
      "      kernel: square\n",
      "      fillval: NAN\n",
      "      weight_type: exptime\n",
      "      output_shape: None\n",
      "      crpix: None\n",
      "      crval: None\n",
      "      rotation: None\n",
      "      pixel_scale_ratio: 1.0\n",
      "      pixel_scale: None\n",
      "      output_wcs: ''\n",
      "      single: False\n",
      "      blendheaders: True\n",
      "      in_memory: True\n"
     ]
    },
    {
     "name": "stderr",
     "output_type": "stream",
     "text": [
      "2025-05-13 14:11:18,491 - stpipe.Image2Pipeline - INFO - Prefetching reference files for dataset: 'jw03730013001_03101_00001-seg005_mirimage_rateints.fits' reftypes = ['area', 'camera', 'collimator', 'dflat', 'disperser', 'distortion', 'fflat', 'filteroffset', 'flat', 'fore', 'fpa', 'ifufore', 'ifupost', 'ifuslicer', 'msa', 'ote', 'photom', 'regions', 'sflat', 'specwcs', 'wavelengthrange']\n"
     ]
    },
    {
     "name": "stderr",
     "output_type": "stream",
     "text": [
      "2025-05-13 14:11:18,494 - stpipe.Image2Pipeline - INFO - Prefetch for AREA reference file is '/home/runner/crds/references/jwst/miri/jwst_miri_area_0006.fits'.\n"
     ]
    },
    {
     "name": "stderr",
     "output_type": "stream",
     "text": [
      "2025-05-13 14:11:18,495 - stpipe.Image2Pipeline - INFO - Prefetch for CAMERA reference file is 'N/A'.\n"
     ]
    },
    {
     "name": "stderr",
     "output_type": "stream",
     "text": [
      "2025-05-13 14:11:18,495 - stpipe.Image2Pipeline - INFO - Prefetch for COLLIMATOR reference file is 'N/A'.\n"
     ]
    },
    {
     "name": "stderr",
     "output_type": "stream",
     "text": [
      "2025-05-13 14:11:18,495 - stpipe.Image2Pipeline - INFO - Prefetch for DFLAT reference file is 'N/A'.\n"
     ]
    },
    {
     "name": "stderr",
     "output_type": "stream",
     "text": [
      "2025-05-13 14:11:18,496 - stpipe.Image2Pipeline - INFO - Prefetch for DISPERSER reference file is 'N/A'.\n"
     ]
    },
    {
     "name": "stderr",
     "output_type": "stream",
     "text": [
      "2025-05-13 14:11:18,496 - stpipe.Image2Pipeline - INFO - Prefetch for DISTORTION reference file is '/home/runner/crds/references/jwst/miri/jwst_miri_distortion_0047.asdf'.\n"
     ]
    },
    {
     "name": "stderr",
     "output_type": "stream",
     "text": [
      "2025-05-13 14:11:18,497 - stpipe.Image2Pipeline - INFO - Prefetch for FFLAT reference file is 'N/A'.\n"
     ]
    },
    {
     "name": "stderr",
     "output_type": "stream",
     "text": [
      "2025-05-13 14:11:18,497 - stpipe.Image2Pipeline - INFO - Prefetch for FILTEROFFSET reference file is '/home/runner/crds/references/jwst/miri/jwst_miri_filteroffset_0006.asdf'.\n"
     ]
    },
    {
     "name": "stderr",
     "output_type": "stream",
     "text": [
      "2025-05-13 14:11:18,497 - stpipe.Image2Pipeline - INFO - Prefetch for FLAT reference file is '/home/runner/crds/references/jwst/miri/jwst_miri_flat_0828.fits'.\n"
     ]
    },
    {
     "name": "stderr",
     "output_type": "stream",
     "text": [
      "2025-05-13 14:11:18,498 - stpipe.Image2Pipeline - INFO - Prefetch for FORE reference file is 'N/A'.\n"
     ]
    },
    {
     "name": "stderr",
     "output_type": "stream",
     "text": [
      "2025-05-13 14:11:18,498 - stpipe.Image2Pipeline - INFO - Prefetch for FPA reference file is 'N/A'.\n"
     ]
    },
    {
     "name": "stderr",
     "output_type": "stream",
     "text": [
      "2025-05-13 14:11:18,498 - stpipe.Image2Pipeline - INFO - Prefetch for IFUFORE reference file is 'N/A'.\n"
     ]
    },
    {
     "name": "stderr",
     "output_type": "stream",
     "text": [
      "2025-05-13 14:11:18,499 - stpipe.Image2Pipeline - INFO - Prefetch for IFUPOST reference file is 'N/A'.\n"
     ]
    },
    {
     "name": "stderr",
     "output_type": "stream",
     "text": [
      "2025-05-13 14:11:18,499 - stpipe.Image2Pipeline - INFO - Prefetch for IFUSLICER reference file is 'N/A'.\n"
     ]
    },
    {
     "name": "stderr",
     "output_type": "stream",
     "text": [
      "2025-05-13 14:11:18,499 - stpipe.Image2Pipeline - INFO - Prefetch for MSA reference file is 'N/A'.\n"
     ]
    },
    {
     "name": "stderr",
     "output_type": "stream",
     "text": [
      "2025-05-13 14:11:18,500 - stpipe.Image2Pipeline - INFO - Prefetch for OTE reference file is 'N/A'.\n"
     ]
    },
    {
     "name": "stderr",
     "output_type": "stream",
     "text": [
      "2025-05-13 14:11:18,500 - stpipe.Image2Pipeline - INFO - Prefetch for PHOTOM reference file is '/home/runner/crds/references/jwst/miri/jwst_miri_photom_0218.fits'.\n"
     ]
    },
    {
     "name": "stderr",
     "output_type": "stream",
     "text": [
      "2025-05-13 14:11:18,500 - stpipe.Image2Pipeline - INFO - Prefetch for REGIONS reference file is 'N/A'.\n"
     ]
    },
    {
     "name": "stderr",
     "output_type": "stream",
     "text": [
      "2025-05-13 14:11:18,501 - stpipe.Image2Pipeline - INFO - Prefetch for SFLAT reference file is 'N/A'.\n"
     ]
    },
    {
     "name": "stderr",
     "output_type": "stream",
     "text": [
      "2025-05-13 14:11:18,501 - stpipe.Image2Pipeline - INFO - Prefetch for SPECWCS reference file is 'N/A'.\n"
     ]
    },
    {
     "name": "stderr",
     "output_type": "stream",
     "text": [
      "2025-05-13 14:11:18,501 - stpipe.Image2Pipeline - INFO - Prefetch for WAVELENGTHRANGE reference file is 'N/A'.\n"
     ]
    },
    {
     "name": "stderr",
     "output_type": "stream",
     "text": [
      "2025-05-13 14:11:18,502 - stpipe.Image2Pipeline - INFO - Starting calwebb_image2 ...\n"
     ]
    },
    {
     "name": "stderr",
     "output_type": "stream",
     "text": [
      "2025-05-13 14:11:18,502 - stpipe.Image2Pipeline - INFO - Processing product /home/runner/work/jwst-pipeline-notebooks/jwst-pipeline-notebooks/notebooks/MIRI/Imaging-TSO/imaging_demo_data/PID03730Obs013/stage1/jw03730013001_03101_00001-seg005_mirimage\n"
     ]
    },
    {
     "name": "stderr",
     "output_type": "stream",
     "text": [
      "2025-05-13 14:11:18,502 - stpipe.Image2Pipeline - INFO - Working on input /home/runner/work/jwst-pipeline-notebooks/jwst-pipeline-notebooks/notebooks/MIRI/Imaging-TSO/imaging_demo_data/PID03730Obs013/stage1/jw03730013001_03101_00001-seg005_mirimage_rateints.fits ...\n"
     ]
    },
    {
     "name": "stderr",
     "output_type": "stream",
     "text": [
      "2025-05-13 14:11:18,664 - stpipe.Image2Pipeline.assign_wcs - INFO - Step assign_wcs running with args (<CubeModel(28, 256, 256) from ./imaging_demo_data/PID03730Obs013/stage2/jw03730013001_03101_00001-seg005_mirimage_image2pipeline.fits>,).\n"
     ]
    },
    {
     "name": "stderr",
     "output_type": "stream",
     "text": [
      "2025-05-13 14:11:18,834 - stpipe.Image2Pipeline.assign_wcs - INFO - Created a MIRI mir_image pipeline with references {'distortion': '/home/runner/crds/references/jwst/miri/jwst_miri_distortion_0047.asdf', 'filteroffset': '/home/runner/crds/references/jwst/miri/jwst_miri_filteroffset_0006.asdf', 'specwcs': None, 'regions': None, 'wavelengthrange': None, 'camera': None, 'collimator': None, 'disperser': None, 'fore': None, 'fpa': None, 'msa': None, 'ote': None, 'ifupost': None, 'ifufore': None, 'ifuslicer': None}\n"
     ]
    },
    {
     "name": "stderr",
     "output_type": "stream",
     "text": [
      "2025-05-13 14:11:18,888 - stpipe.Image2Pipeline.assign_wcs - INFO - Update S_REGION to POLYGON ICRS  44.327146143 76.553992882 44.330655321 76.546218795 44.364309447 76.547064828 44.360856810 76.554840483\n"
     ]
    },
    {
     "name": "stderr",
     "output_type": "stream",
     "text": [
      "2025-05-13 14:11:18,889 - stpipe.Image2Pipeline.assign_wcs - INFO - assign_wcs updated S_REGION to POLYGON ICRS  44.327146143 76.553992882 44.330655321 76.546218795 44.364309447 76.547064828 44.360856810 76.554840483\n"
     ]
    },
    {
     "name": "stderr",
     "output_type": "stream",
     "text": [
      "2025-05-13 14:11:18,890 - stpipe.Image2Pipeline.assign_wcs - INFO - COMPLETED assign_wcs\n"
     ]
    },
    {
     "name": "stderr",
     "output_type": "stream",
     "text": [
      "2025-05-13 14:11:18,921 - stpipe.Image2Pipeline.assign_wcs - INFO - Step assign_wcs done\n"
     ]
    },
    {
     "name": "stderr",
     "output_type": "stream",
     "text": [
      "2025-05-13 14:11:19,033 - stpipe.Image2Pipeline.flat_field - INFO - Step flat_field running with args (<CubeModel(28, 256, 256) from ./imaging_demo_data/PID03730Obs013/stage2/jw03730013001_03101_00001-seg005_mirimage_image2pipeline.fits>,).\n"
     ]
    },
    {
     "name": "stderr",
     "output_type": "stream",
     "text": [
      "2025-05-13 14:11:19,090 - stpipe.Image2Pipeline.flat_field - INFO - Using FLAT reference file: /home/runner/crds/references/jwst/miri/jwst_miri_flat_0828.fits\n"
     ]
    },
    {
     "name": "stderr",
     "output_type": "stream",
     "text": [
      "2025-05-13 14:11:19,091 - stpipe.Image2Pipeline.flat_field - INFO - No reference found for type FFLAT\n"
     ]
    },
    {
     "name": "stderr",
     "output_type": "stream",
     "text": [
      "2025-05-13 14:11:19,091 - stpipe.Image2Pipeline.flat_field - INFO - No reference found for type SFLAT\n"
     ]
    },
    {
     "name": "stderr",
     "output_type": "stream",
     "text": [
      "2025-05-13 14:11:19,091 - stpipe.Image2Pipeline.flat_field - INFO - No reference found for type DFLAT\n"
     ]
    },
    {
     "name": "stderr",
     "output_type": "stream",
     "text": [
      "2025-05-13 14:11:19,118 - stpipe.Image2Pipeline.flat_field - INFO - Extracting matching subarray from flat\n"
     ]
    },
    {
     "name": "stderr",
     "output_type": "stream",
     "text": [
      "2025-05-13 14:11:19,160 - stpipe.Image2Pipeline.flat_field - INFO - Step flat_field done\n"
     ]
    },
    {
     "name": "stderr",
     "output_type": "stream",
     "text": [
      "2025-05-13 14:11:19,278 - stpipe.Image2Pipeline.photom - INFO - Step photom running with args (<CubeModel(28, 256, 256) from ./imaging_demo_data/PID03730Obs013/stage2/jw03730013001_03101_00001-seg005_mirimage_image2pipeline.fits>,).\n"
     ]
    },
    {
     "name": "stderr",
     "output_type": "stream",
     "text": [
      "2025-05-13 14:11:19,300 - stpipe.Image2Pipeline.photom - INFO - Using photom reference file: /home/runner/crds/references/jwst/miri/jwst_miri_photom_0218.fits\n"
     ]
    },
    {
     "name": "stderr",
     "output_type": "stream",
     "text": [
      "2025-05-13 14:11:19,300 - stpipe.Image2Pipeline.photom - INFO - Using area reference file: /home/runner/crds/references/jwst/miri/jwst_miri_area_0006.fits\n"
     ]
    },
    {
     "name": "stderr",
     "output_type": "stream",
     "text": [
      "2025-05-13 14:11:19,327 - stpipe.Image2Pipeline.photom - INFO - Using instrument: MIRI\n"
     ]
    },
    {
     "name": "stderr",
     "output_type": "stream",
     "text": [
      "2025-05-13 14:11:19,328 - stpipe.Image2Pipeline.photom - INFO -  detector: MIRIMAGE\n"
     ]
    },
    {
     "name": "stderr",
     "output_type": "stream",
     "text": [
      "2025-05-13 14:11:19,328 - stpipe.Image2Pipeline.photom - INFO -  exp_type: MIR_IMAGE\n"
     ]
    },
    {
     "name": "stderr",
     "output_type": "stream",
     "text": [
      "2025-05-13 14:11:19,328 - stpipe.Image2Pipeline.photom - INFO -  filter: F1500W\n"
     ]
    },
    {
     "name": "stderr",
     "output_type": "stream",
     "text": [
      "2025-05-13 14:11:19,354 - stpipe.Image2Pipeline.photom - INFO - Pixel area map copied to output.\n"
     ]
    },
    {
     "name": "stderr",
     "output_type": "stream",
     "text": [
      "2025-05-13 14:11:19,354 - stpipe.Image2Pipeline.photom - INFO - Values for PIXAR_SR and PIXAR_A2 obtained from AREA reference file.\n"
     ]
    },
    {
     "name": "stderr",
     "output_type": "stream",
     "text": [
      "2025-05-13 14:11:19,355 - stpipe.Image2Pipeline.photom - INFO -  subarray: SUB256\n"
     ]
    },
    {
     "name": "stderr",
     "output_type": "stream",
     "text": [
      "2025-05-13 14:11:19,356 - stpipe.Image2Pipeline.photom - INFO - Applying the time-dependent correction to the PHOTOM value.\n"
     ]
    },
    {
     "name": "stderr",
     "output_type": "stream",
     "text": [
      "2025-05-13 14:11:19,361 - stpipe.Image2Pipeline.photom - INFO - PHOTMJSR value: 0.377168\n"
     ]
    },
    {
     "name": "stderr",
     "output_type": "stream",
     "text": [
      "2025-05-13 14:11:19,384 - stpipe.Image2Pipeline.photom - INFO - Step photom done\n"
     ]
    },
    {
     "name": "stderr",
     "output_type": "stream",
     "text": [
      "2025-05-13 14:11:19,385 - stpipe.Image2Pipeline - INFO - Finished processing product /home/runner/work/jwst-pipeline-notebooks/jwst-pipeline-notebooks/notebooks/MIRI/Imaging-TSO/imaging_demo_data/PID03730Obs013/stage1/jw03730013001_03101_00001-seg005_mirimage\n"
     ]
    },
    {
     "name": "stderr",
     "output_type": "stream",
     "text": [
      "2025-05-13 14:11:19,386 - stpipe.Image2Pipeline - INFO - ... ending calwebb_image2\n"
     ]
    },
    {
     "name": "stderr",
     "output_type": "stream",
     "text": [
      "2025-05-13 14:11:19,386 - stpipe.Image2Pipeline - INFO - Results used CRDS context: jwst_1364.pmap\n"
     ]
    },
    {
     "name": "stderr",
     "output_type": "stream",
     "text": [
      "2025-05-13 14:11:19,519 - stpipe.Image2Pipeline - INFO - Saved model in ./imaging_demo_data/PID03730Obs013/stage2/jw03730013001_03101_00001-seg005_mirimage_calints.fits\n"
     ]
    },
    {
     "name": "stderr",
     "output_type": "stream",
     "text": [
      "2025-05-13 14:11:19,519 - stpipe.Image2Pipeline - INFO - Step Image2Pipeline done\n"
     ]
    },
    {
     "name": "stderr",
     "output_type": "stream",
     "text": [
      "2025-05-13 14:11:19,520 - stpipe - INFO - Results used jwst version: 1.18.0\n"
     ]
    }
   ],
   "source": [
    "# Run the pipeline on the selected rate files one by one with the custom parameter dictionary\n",
    "if do_image2:\n",
    "    for ii, file in enumerate(rate_files):\n",
    "        Image2Pipeline.call(file, steps=image2dict, save_results=True, output_dir=image2_dir)\n",
    "\n",
    "else:\n",
    "    print('Skipping Image2 processing...')"
   ]
  },
  {
   "cell_type": "code",
   "execution_count": 21,
   "id": "ea0fe607",
   "metadata": {
    "execution": {
     "iopub.execute_input": "2025-05-13T14:11:19.523893Z",
     "iopub.status.busy": "2025-05-13T14:11:19.523672Z",
     "iopub.status.idle": "2025-05-13T14:11:19.526401Z",
     "shell.execute_reply": "2025-05-13T14:11:19.526036Z"
    }
   },
   "outputs": [
    {
     "name": "stdout",
     "output_type": "stream",
     "text": [
      "Runtime so far: 1388 seconds\n",
      "Runtime for Image2: 11 seconds\n"
     ]
    }
   ],
   "source": [
    "# Print out the time benchmark\n",
    "time1 = time.perf_counter()\n",
    "print(f\"Runtime so far: {time1 - time0:0.0f} seconds\")\n",
    "print(f\"Runtime for Image2: {time1 - time_image2:0.0f} seconds\")"
   ]
  },
  {
   "cell_type": "markdown",
   "id": "c5bd2ce3",
   "metadata": {},
   "source": [
    "<hr style=\"border:1px solid gray\"> </hr>"
   ]
  },
  {
   "cell_type": "markdown",
   "id": "c7fc24ef",
   "metadata": {},
   "source": [
    "## 7. Tso3 Pipeline\n",
    "\n",
    "The Stage 3 pipeline for TSOs, [Tso3](https://jwst-pipeline.readthedocs.io/en/latest/jwst/pipeline/calwebb_tso3.html), is significantly simpler than the analogous processing stage for non-TSO data sets. First, an \n",
    "[association file](https://jwst-pipeline.readthedocs.io/en/latest/jwst/associations/overview.html)\n",
    "needs to be created that contains all of the `*_calints.fits` files produced from Stage 2.<br>\n",
    "\n",
    "By default, the Tso3 pipeline performs the following steps on MIRI Imaging TSO data sets:<br>\n",
    "* `outlier_detection` flags any remaining cosmic rays, bad pixels, or other artifacts not already flagged during the Detector1 stage of the pipeline. For TSOs, a moving median filtering process is carried out that searches for outlier pixel values along the time axis. This method is designed to guard against the spurious flagging of true astrophysical variability in the target. The default rolling window width is 25 integrations, but that parameter can be adjusted in the user-specified dictionary below.<br>\n",
    "* `tso_photometry` does aperture photometry using a circular aperture centered on the target. The sky background is computed as the mean within a circular annulus. The output is a table (ASCII ecsv format) containing the time at the midpoint of each integration and the photometry values. The default extraction aperture and background annulus sizes are stored in the `tsophot` [reference file](https://jwst-crds.stsci.edu/browse/jwst_miri_tsophot_0001.asdf). <br>\n",
    "\n",
    "<div class=\"alert alert-block alert-warning\">\n",
    "IMPORTANT NOTE: the position of the photometric aperture is determined by the world coordinate solution (WCS) in the header, which can be offset from the true position of the target due to pointing and/or target coordinate inaccuracies. It is recommended that users carry out their own photometric extraction using a computed centroid position for the target aperture.\n",
    "</div>\n",
    "\n",
    "<div class=\"alert alert-block alert-warning\">\n",
    "To override certain steps and reference files, use the examples below.\n",
    "</div>"
   ]
  },
  {
   "cell_type": "code",
   "execution_count": 22,
   "id": "4e69aa98",
   "metadata": {
    "execution": {
     "iopub.execute_input": "2025-05-13T14:11:19.527947Z",
     "iopub.status.busy": "2025-05-13T14:11:19.527686Z",
     "iopub.status.idle": "2025-05-13T14:11:19.529774Z",
     "shell.execute_reply": "2025-05-13T14:11:19.529400Z"
    }
   },
   "outputs": [],
   "source": [
    "time_tso3 = time.perf_counter()"
   ]
  },
  {
   "cell_type": "code",
   "execution_count": 23,
   "id": "6e5cdb29",
   "metadata": {
    "execution": {
     "iopub.execute_input": "2025-05-13T14:11:19.531131Z",
     "iopub.status.busy": "2025-05-13T14:11:19.530990Z",
     "iopub.status.idle": "2025-05-13T14:11:19.533218Z",
     "shell.execute_reply": "2025-05-13T14:11:19.532873Z"
    }
   },
   "outputs": [],
   "source": [
    "# Set up a dictionary to define how the Tso3 pipeline should be configured\n",
    "\n",
    "# Boilerplate dictionary setup\n",
    "tso3dict = {}\n",
    "tso3dict['outlier_detection'], tso3dict['tso_photometry'] = {}, {}\n",
    "\n",
    "# Overrides for whether or not certain steps should be skipped (example)\n",
    "#tso3dict['outlier_detection']['skip'] = True\n",
    "\n",
    "# Overrides for specific parameters in the step (examples)\n",
    "#tso3dict['outlier_detection']['rolling_window_width'] = 35"
   ]
  },
  {
   "cell_type": "markdown",
   "id": "41efcdce",
   "metadata": {},
   "source": [
    "Collect all of the Stage 2 `*calints.fits` files, ensuring the use of absolute paths."
   ]
  },
  {
   "cell_type": "code",
   "execution_count": 24,
   "id": "f30b5e88",
   "metadata": {
    "execution": {
     "iopub.execute_input": "2025-05-13T14:11:19.534738Z",
     "iopub.status.busy": "2025-05-13T14:11:19.534392Z",
     "iopub.status.idle": "2025-05-13T14:11:19.537140Z",
     "shell.execute_reply": "2025-05-13T14:11:19.536805Z"
    }
   },
   "outputs": [],
   "source": [
    "# Grab all the calints.fits files\n",
    "cal_files = sorted(glob.glob(os.path.join(image2_dir, '*calints.fits')))\n",
    "for ii in range(0, len(cal_files)):\n",
    "    cal_files[ii] = os.path.abspath(cal_files[ii])\n",
    "calfiles = np.array(cal_files)"
   ]
  },
  {
   "cell_type": "markdown",
   "id": "6addb7ae",
   "metadata": {},
   "source": [
    "### Create Association File\n",
    "\n",
    "An association file lists the exposures to be calibrated together in Stage 3\n",
    "of the JWST pipeline. The code below creates an\n",
    "association file from the `*calints.fits` files."
   ]
  },
  {
   "cell_type": "code",
   "execution_count": 25,
   "id": "0d16fb1c",
   "metadata": {
    "execution": {
     "iopub.execute_input": "2025-05-13T14:11:19.538397Z",
     "iopub.status.busy": "2025-05-13T14:11:19.538253Z",
     "iopub.status.idle": "2025-05-13T14:11:19.545685Z",
     "shell.execute_reply": "2025-05-13T14:11:19.545316Z"
    },
    "scrolled": true
   },
   "outputs": [
    {
     "name": "stderr",
     "output_type": "stream",
     "text": [
      "2025-05-13 14:11:19,543 - stpipe - WARNING - /usr/share/miniconda/lib/python3.13/site-packages/jwst/associations/association.py:215: UserWarning: Input association file contains path information; note that this can complicate usage and/or sharing of such files.\n",
      "  warnings.warn(err_str, UserWarning)\n",
      "\n"
     ]
    }
   ],
   "source": [
    "# Create a Level 3 Association\n",
    "if do_tso3:\n",
    "    # Define the basic association of science files\n",
    "    asn = afl.asn_from_list(cal_files, rule=DMS_Level3_Base, product_name='Stage3')\n",
    "\n",
    "    # Write the association to a json file\n",
    "    asnfile = os.path.join(tso3_dir, 'stage3_asn.json')\n",
    "    _, serialized = asn.dump()\n",
    "    with open(asnfile, 'w') as outfile:\n",
    "        outfile.write(serialized)"
   ]
  },
  {
   "cell_type": "markdown",
   "id": "9448c7e6",
   "metadata": {},
   "source": [
    "### Run the Tso3 pipeline\n",
    "\n",
    "In addition to the photometry file `Stage3_phot.ecsv`, the Tso3 pipeline produces outlier-masked calibrated image stacks `*crfints.fits` for each segment of integrations."
   ]
  },
  {
   "cell_type": "code",
   "execution_count": 26,
   "id": "914964ac",
   "metadata": {
    "execution": {
     "iopub.execute_input": "2025-05-13T14:11:19.547109Z",
     "iopub.status.busy": "2025-05-13T14:11:19.546780Z",
     "iopub.status.idle": "2025-05-13T14:12:17.328569Z",
     "shell.execute_reply": "2025-05-13T14:12:17.328161Z"
    },
    "scrolled": true,
    "tags": [
     "scroll-output"
    ]
   },
   "outputs": [
    {
     "name": "stderr",
     "output_type": "stream",
     "text": [
      "2025-05-13 14:11:19,784 - CRDS - INFO -  Fetching  /home/runner/crds/references/jwst/miri/jwst_miri_pars-outlierdetectionstep_0101.asdf    1.3 K bytes  (1 / 1 files) (0 / 1.3 K bytes)\n"
     ]
    },
    {
     "name": "stderr",
     "output_type": "stream",
     "text": [
      "2025-05-13 14:11:19,906 - stpipe - INFO - PARS-OUTLIERDETECTIONSTEP parameters found: /home/runner/crds/references/jwst/miri/jwst_miri_pars-outlierdetectionstep_0101.asdf\n"
     ]
    },
    {
     "name": "stderr",
     "output_type": "stream",
     "text": [
      "2025-05-13 14:11:19,925 - stpipe.Tso3Pipeline - INFO - Tso3Pipeline instance created.\n"
     ]
    },
    {
     "name": "stderr",
     "output_type": "stream",
     "text": [
      "2025-05-13 14:11:19,926 - stpipe.Tso3Pipeline.outlier_detection - INFO - OutlierDetectionStep instance created.\n"
     ]
    },
    {
     "name": "stderr",
     "output_type": "stream",
     "text": [
      "2025-05-13 14:11:19,927 - stpipe.Tso3Pipeline.tso_photometry - INFO - TSOPhotometryStep instance created.\n"
     ]
    },
    {
     "name": "stderr",
     "output_type": "stream",
     "text": [
      "2025-05-13 14:11:19,928 - stpipe.Tso3Pipeline.pixel_replace - INFO - PixelReplaceStep instance created.\n"
     ]
    },
    {
     "name": "stderr",
     "output_type": "stream",
     "text": [
      "2025-05-13 14:11:19,933 - stpipe.Tso3Pipeline.extract_1d - INFO - Extract1dStep instance created.\n"
     ]
    },
    {
     "name": "stderr",
     "output_type": "stream",
     "text": [
      "2025-05-13 14:11:19,934 - stpipe.Tso3Pipeline.photom - INFO - PhotomStep instance created.\n"
     ]
    },
    {
     "name": "stderr",
     "output_type": "stream",
     "text": [
      "2025-05-13 14:11:19,934 - stpipe.Tso3Pipeline.white_light - INFO - WhiteLightStep instance created.\n"
     ]
    },
    {
     "name": "stderr",
     "output_type": "stream",
     "text": [
      "2025-05-13 14:11:20,050 - stpipe.Tso3Pipeline - INFO - Step Tso3Pipeline running with args ('./imaging_demo_data/PID03730Obs013/stage3/stage3_asn.json',).\n"
     ]
    },
    {
     "name": "stderr",
     "output_type": "stream",
     "text": [
      "2025-05-13 14:11:20,060 - stpipe.Tso3Pipeline - INFO - Step Tso3Pipeline parameters are:\n",
      "  pre_hooks: []\n",
      "  post_hooks: []\n",
      "  output_file: None\n",
      "  output_dir: ./imaging_demo_data/PID03730Obs013/stage3\n",
      "  output_ext: .fits\n",
      "  output_use_model: False\n",
      "  output_use_index: True\n",
      "  save_results: True\n",
      "  skip: False\n",
      "  suffix: None\n",
      "  search_output_file: True\n",
      "  input_dir: ''\n",
      "  steps:\n",
      "    outlier_detection:\n",
      "      pre_hooks: []\n",
      "      post_hooks: []\n",
      "      output_file: None\n",
      "      output_dir: None\n",
      "      output_ext: .fits\n",
      "      output_use_model: False\n",
      "      output_use_index: True\n",
      "      save_results: False\n",
      "      skip: False\n",
      "      suffix: None\n",
      "      search_output_file: False\n",
      "      input_dir: ''\n",
      "      weight_type: ivm\n",
      "      pixfrac: 1.0\n",
      "      kernel: square\n",
      "      fillval: NAN\n",
      "      maskpt: 0.7\n",
      "      snr: 5.0 4.0\n",
      "      scale: 1.2 0.7\n",
      "      backg: 0.0\n",
      "      kernel_size: 7 7\n",
      "      threshold_percent: 99.8\n",
      "      rolling_window_width: 25\n",
      "      ifu_second_check: False\n",
      "      save_intermediate_results: False\n",
      "      resample_data: False\n",
      "      good_bits: ~DO_NOT_USE+NON_SCIENCE\n",
      "      in_memory: True\n",
      "    tso_photometry:\n",
      "      pre_hooks: []\n",
      "      post_hooks: []\n",
      "      output_file: None\n",
      "      output_dir: None\n",
      "      output_ext: .fits\n",
      "      output_use_model: False\n",
      "      output_use_index: True\n",
      "      save_results: False\n",
      "      skip: False\n",
      "      suffix: None\n",
      "      search_output_file: True\n",
      "      input_dir: ''\n",
      "      save_catalog: False\n",
      "    pixel_replace:\n",
      "      pre_hooks: []\n",
      "      post_hooks: []\n",
      "      output_file: None\n",
      "      output_dir: None\n",
      "      output_ext: .fits\n",
      "      output_use_model: True\n",
      "      output_use_index: True\n",
      "      save_results: False\n",
      "      skip: True\n",
      "      suffix: None\n",
      "      search_output_file: True\n",
      "      input_dir: ''\n",
      "      algorithm: fit_profile\n",
      "      n_adjacent_cols: 3\n",
      "    extract_1d:\n",
      "      pre_hooks: []\n",
      "      post_hooks: []\n",
      "      output_file: None\n",
      "      output_dir: None\n",
      "      output_ext: .fits\n",
      "      output_use_model: False\n",
      "      output_use_index: True\n",
      "      save_results: False\n",
      "      skip: False\n",
      "      suffix: None\n",
      "      search_output_file: True\n",
      "      input_dir: ''\n",
      "      subtract_background: None\n",
      "      apply_apcorr: True\n",
      "      extraction_type: box\n",
      "      use_source_posn: None\n",
      "      position_offset: 0.0\n",
      "      model_nod_pair: True\n",
      "      optimize_psf_location: True\n",
      "      smoothing_length: None\n",
      "      bkg_fit: None\n",
      "      bkg_order: None\n",
      "      log_increment: 50\n",
      "      save_profile: False\n",
      "      save_scene_model: False\n",
      "      save_residual_image: False\n",
      "      center_xy: None\n",
      "      ifu_autocen: False\n",
      "      bkg_sigma_clip: 3.0\n",
      "      ifu_rfcorr: True\n",
      "      ifu_set_srctype: None\n",
      "      ifu_rscale: None\n",
      "      ifu_covar_scale: 1.0\n",
      "      soss_atoca: True\n",
      "      soss_threshold: 0.01\n",
      "      soss_n_os: 2\n",
      "      soss_wave_grid_in: None\n",
      "      soss_wave_grid_out: None\n",
      "      soss_estimate: None\n",
      "      soss_rtol: 0.0001\n",
      "      soss_max_grid_size: 20000\n",
      "      soss_tikfac: None\n",
      "      soss_width: 40.0\n",
      "      soss_bad_pix: masking\n",
      "      soss_modelname: None\n",
      "    photom:\n",
      "      pre_hooks: []\n",
      "      post_hooks: []\n",
      "      output_file: None\n",
      "      output_dir: None\n",
      "      output_ext: .fits\n",
      "      output_use_model: False\n",
      "      output_use_index: True\n",
      "      save_results: False\n",
      "      skip: False\n",
      "      suffix: None\n",
      "      search_output_file: True\n",
      "      input_dir: ''\n",
      "      inverse: False\n",
      "      source_type: None\n",
      "      mrs_time_correction: True\n",
      "    white_light:\n",
      "      pre_hooks: []\n",
      "      post_hooks: []\n",
      "      output_file: None\n",
      "      output_dir: None\n",
      "      output_ext: .ecsv\n",
      "      output_use_model: False\n",
      "      output_use_index: True\n",
      "      save_results: False\n",
      "      skip: False\n",
      "      suffix: whtlt\n",
      "      search_output_file: True\n",
      "      input_dir: ''\n",
      "      min_wavelength: None\n",
      "      max_wavelength: None\n"
     ]
    },
    {
     "name": "stderr",
     "output_type": "stream",
     "text": [
      "2025-05-13 14:11:20,069 - stpipe.Tso3Pipeline - WARNING - /usr/share/miniconda/lib/python3.13/site-packages/jwst/associations/association.py:215: UserWarning: Input association file contains path information; note that this can complicate usage and/or sharing of such files.\n",
      "  warnings.warn(err_str, UserWarning)\n",
      "\n"
     ]
    },
    {
     "name": "stderr",
     "output_type": "stream",
     "text": [
      "2025-05-13 14:11:20,256 - stpipe.Tso3Pipeline - INFO - Prefetching reference files for dataset: 'jw03730013001_03101_00001-seg001_mirimage_calints.fits' reftypes = ['gain', 'readnoise']\n"
     ]
    },
    {
     "name": "stderr",
     "output_type": "stream",
     "text": [
      "2025-05-13 14:11:20,260 - stpipe.Tso3Pipeline - INFO - Prefetch for GAIN reference file is '/home/runner/crds/references/jwst/miri/jwst_miri_gain_0048.fits'.\n"
     ]
    },
    {
     "name": "stderr",
     "output_type": "stream",
     "text": [
      "2025-05-13 14:11:20,260 - stpipe.Tso3Pipeline - INFO - Prefetch for READNOISE reference file is '/home/runner/crds/references/jwst/miri/jwst_miri_readnoise_0085.fits'.\n"
     ]
    },
    {
     "name": "stderr",
     "output_type": "stream",
     "text": [
      "2025-05-13 14:11:20,261 - stpipe.Tso3Pipeline - INFO - Starting calwebb_tso3...\n"
     ]
    },
    {
     "name": "stderr",
     "output_type": "stream",
     "text": [
      "2025-05-13 14:11:20,269 - stpipe.Tso3Pipeline - WARNING - /usr/share/miniconda/lib/python3.13/site-packages/jwst/associations/association.py:215: UserWarning: Input association file contains path information; note that this can complicate usage and/or sharing of such files.\n",
      "  warnings.warn(err_str, UserWarning)\n",
      "\n"
     ]
    },
    {
     "name": "stderr",
     "output_type": "stream",
     "text": [
      "2025-05-13 14:11:21,102 - stpipe.Tso3Pipeline - INFO - Performing outlier detection on input images ...\n"
     ]
    },
    {
     "name": "stderr",
     "output_type": "stream",
     "text": [
      "2025-05-13 14:11:21,227 - stpipe.Tso3Pipeline.outlier_detection - INFO - Step outlier_detection running with args (<CubeModel(234, 256, 256) from jw03730013001_03101_00001-seg001_mirimage_calints.fits>,).\n"
     ]
    },
    {
     "name": "stderr",
     "output_type": "stream",
     "text": [
      "2025-05-13 14:11:21,228 - stpipe.Tso3Pipeline.outlier_detection - INFO - Outlier Detection mode: tso\n"
     ]
    },
    {
     "name": "stderr",
     "output_type": "stream",
     "text": [
      "2025-05-13 14:11:21,229 - stpipe.Tso3Pipeline.outlier_detection - INFO - Outlier Detection asn_id: a3001\n"
     ]
    },
    {
     "name": "stderr",
     "output_type": "stream",
     "text": [
      "2025-05-13 14:11:33,365 - stpipe.Tso3Pipeline.outlier_detection - INFO - Flagging outliers\n"
     ]
    },
    {
     "name": "stderr",
     "output_type": "stream",
     "text": [
      "2025-05-13 14:11:33,637 - stpipe.Tso3Pipeline.outlier_detection - INFO - 380 pixels marked as outliers\n"
     ]
    },
    {
     "name": "stderr",
     "output_type": "stream",
     "text": [
      "2025-05-13 14:11:33,644 - stpipe.Tso3Pipeline.outlier_detection - INFO - Step outlier_detection done\n"
     ]
    },
    {
     "name": "stderr",
     "output_type": "stream",
     "text": [
      "2025-05-13 14:11:33,644 - stpipe.Tso3Pipeline - INFO - Saving crfints products with updated DQ arrays ...\n"
     ]
    },
    {
     "name": "stderr",
     "output_type": "stream",
     "text": [
      "2025-05-13 14:11:33,961 - stpipe.Tso3Pipeline - INFO - Saved model in ./imaging_demo_data/PID03730Obs013/stage3/jw03730013001_03101_00001-seg001_mirimage_a3001_crfints.fits\n"
     ]
    },
    {
     "name": "stderr",
     "output_type": "stream",
     "text": [
      "2025-05-13 14:11:33,962 - stpipe.Tso3Pipeline - INFO - Performing outlier detection on input images ...\n"
     ]
    },
    {
     "name": "stderr",
     "output_type": "stream",
     "text": [
      "2025-05-13 14:11:34,092 - stpipe.Tso3Pipeline.outlier_detection - INFO - Step outlier_detection running with args (<CubeModel(234, 256, 256) from jw03730013001_03101_00001-seg002_mirimage_calints.fits>,).\n"
     ]
    },
    {
     "name": "stderr",
     "output_type": "stream",
     "text": [
      "2025-05-13 14:11:34,093 - stpipe.Tso3Pipeline.outlier_detection - INFO - Outlier Detection mode: tso\n"
     ]
    },
    {
     "name": "stderr",
     "output_type": "stream",
     "text": [
      "2025-05-13 14:11:34,093 - stpipe.Tso3Pipeline.outlier_detection - INFO - Outlier Detection asn_id: a3001\n"
     ]
    },
    {
     "name": "stderr",
     "output_type": "stream",
     "text": [
      "2025-05-13 14:11:46,299 - stpipe.Tso3Pipeline.outlier_detection - INFO - Flagging outliers\n"
     ]
    },
    {
     "name": "stderr",
     "output_type": "stream",
     "text": [
      "2025-05-13 14:11:46,570 - stpipe.Tso3Pipeline.outlier_detection - INFO - 128 pixels marked as outliers\n"
     ]
    },
    {
     "name": "stderr",
     "output_type": "stream",
     "text": [
      "2025-05-13 14:11:46,577 - stpipe.Tso3Pipeline.outlier_detection - INFO - Step outlier_detection done\n"
     ]
    },
    {
     "name": "stderr",
     "output_type": "stream",
     "text": [
      "2025-05-13 14:11:46,577 - stpipe.Tso3Pipeline - INFO - Saving crfints products with updated DQ arrays ...\n"
     ]
    },
    {
     "name": "stderr",
     "output_type": "stream",
     "text": [
      "2025-05-13 14:11:46,894 - stpipe.Tso3Pipeline - INFO - Saved model in ./imaging_demo_data/PID03730Obs013/stage3/jw03730013001_03101_00001-seg002_mirimage_a3001_crfints.fits\n"
     ]
    },
    {
     "name": "stderr",
     "output_type": "stream",
     "text": [
      "2025-05-13 14:11:46,895 - stpipe.Tso3Pipeline - INFO - Performing outlier detection on input images ...\n"
     ]
    },
    {
     "name": "stderr",
     "output_type": "stream",
     "text": [
      "2025-05-13 14:11:47,026 - stpipe.Tso3Pipeline.outlier_detection - INFO - Step outlier_detection running with args (<CubeModel(234, 256, 256) from jw03730013001_03101_00001-seg003_mirimage_calints.fits>,).\n"
     ]
    },
    {
     "name": "stderr",
     "output_type": "stream",
     "text": [
      "2025-05-13 14:11:47,026 - stpipe.Tso3Pipeline.outlier_detection - INFO - Outlier Detection mode: tso\n"
     ]
    },
    {
     "name": "stderr",
     "output_type": "stream",
     "text": [
      "2025-05-13 14:11:47,027 - stpipe.Tso3Pipeline.outlier_detection - INFO - Outlier Detection asn_id: a3001\n"
     ]
    },
    {
     "name": "stderr",
     "output_type": "stream",
     "text": [
      "2025-05-13 14:11:59,236 - stpipe.Tso3Pipeline.outlier_detection - INFO - Flagging outliers\n"
     ]
    },
    {
     "name": "stderr",
     "output_type": "stream",
     "text": [
      "2025-05-13 14:11:59,509 - stpipe.Tso3Pipeline.outlier_detection - INFO - 145 pixels marked as outliers\n"
     ]
    },
    {
     "name": "stderr",
     "output_type": "stream",
     "text": [
      "2025-05-13 14:11:59,515 - stpipe.Tso3Pipeline.outlier_detection - INFO - Step outlier_detection done\n"
     ]
    },
    {
     "name": "stderr",
     "output_type": "stream",
     "text": [
      "2025-05-13 14:11:59,516 - stpipe.Tso3Pipeline - INFO - Saving crfints products with updated DQ arrays ...\n"
     ]
    },
    {
     "name": "stderr",
     "output_type": "stream",
     "text": [
      "2025-05-13 14:11:59,833 - stpipe.Tso3Pipeline - INFO - Saved model in ./imaging_demo_data/PID03730Obs013/stage3/jw03730013001_03101_00001-seg003_mirimage_a3001_crfints.fits\n"
     ]
    },
    {
     "name": "stderr",
     "output_type": "stream",
     "text": [
      "2025-05-13 14:11:59,834 - stpipe.Tso3Pipeline - INFO - Performing outlier detection on input images ...\n"
     ]
    },
    {
     "name": "stderr",
     "output_type": "stream",
     "text": [
      "2025-05-13 14:11:59,960 - stpipe.Tso3Pipeline.outlier_detection - INFO - Step outlier_detection running with args (<CubeModel(234, 256, 256) from jw03730013001_03101_00001-seg004_mirimage_calints.fits>,).\n"
     ]
    },
    {
     "name": "stderr",
     "output_type": "stream",
     "text": [
      "2025-05-13 14:11:59,961 - stpipe.Tso3Pipeline.outlier_detection - INFO - Outlier Detection mode: tso\n"
     ]
    },
    {
     "name": "stderr",
     "output_type": "stream",
     "text": [
      "2025-05-13 14:11:59,961 - stpipe.Tso3Pipeline.outlier_detection - INFO - Outlier Detection asn_id: a3001\n"
     ]
    },
    {
     "name": "stderr",
     "output_type": "stream",
     "text": [
      "2025-05-13 14:12:12,405 - stpipe.Tso3Pipeline.outlier_detection - INFO - Flagging outliers\n"
     ]
    },
    {
     "name": "stderr",
     "output_type": "stream",
     "text": [
      "2025-05-13 14:12:12,678 - stpipe.Tso3Pipeline.outlier_detection - INFO - 109 pixels marked as outliers\n"
     ]
    },
    {
     "name": "stderr",
     "output_type": "stream",
     "text": [
      "2025-05-13 14:12:12,684 - stpipe.Tso3Pipeline.outlier_detection - INFO - Step outlier_detection done\n"
     ]
    },
    {
     "name": "stderr",
     "output_type": "stream",
     "text": [
      "2025-05-13 14:12:12,685 - stpipe.Tso3Pipeline - INFO - Saving crfints products with updated DQ arrays ...\n"
     ]
    },
    {
     "name": "stderr",
     "output_type": "stream",
     "text": [
      "2025-05-13 14:12:13,002 - stpipe.Tso3Pipeline - INFO - Saved model in ./imaging_demo_data/PID03730Obs013/stage3/jw03730013001_03101_00001-seg004_mirimage_a3001_crfints.fits\n"
     ]
    },
    {
     "name": "stderr",
     "output_type": "stream",
     "text": [
      "2025-05-13 14:12:13,003 - stpipe.Tso3Pipeline - INFO - Performing outlier detection on input images ...\n"
     ]
    },
    {
     "name": "stderr",
     "output_type": "stream",
     "text": [
      "2025-05-13 14:12:13,136 - stpipe.Tso3Pipeline.outlier_detection - INFO - Step outlier_detection running with args (<CubeModel(28, 256, 256) from jw03730013001_03101_00001-seg005_mirimage_calints.fits>,).\n"
     ]
    },
    {
     "name": "stderr",
     "output_type": "stream",
     "text": [
      "2025-05-13 14:12:13,136 - stpipe.Tso3Pipeline.outlier_detection - INFO - Outlier Detection mode: tso\n"
     ]
    },
    {
     "name": "stderr",
     "output_type": "stream",
     "text": [
      "2025-05-13 14:12:13,137 - stpipe.Tso3Pipeline.outlier_detection - INFO - Outlier Detection asn_id: a3001\n"
     ]
    },
    {
     "name": "stderr",
     "output_type": "stream",
     "text": [
      "2025-05-13 14:12:15,449 - stpipe.Tso3Pipeline.outlier_detection - INFO - Flagging outliers\n"
     ]
    },
    {
     "name": "stderr",
     "output_type": "stream",
     "text": [
      "2025-05-13 14:12:15,480 - stpipe.Tso3Pipeline.outlier_detection - INFO - 17 pixels marked as outliers\n"
     ]
    },
    {
     "name": "stderr",
     "output_type": "stream",
     "text": [
      "2025-05-13 14:12:15,485 - stpipe.Tso3Pipeline.outlier_detection - INFO - Step outlier_detection done\n"
     ]
    },
    {
     "name": "stderr",
     "output_type": "stream",
     "text": [
      "2025-05-13 14:12:15,485 - stpipe.Tso3Pipeline - INFO - Saving crfints products with updated DQ arrays ...\n"
     ]
    },
    {
     "name": "stderr",
     "output_type": "stream",
     "text": [
      "2025-05-13 14:12:15,615 - stpipe.Tso3Pipeline - INFO - Saved model in ./imaging_demo_data/PID03730Obs013/stage3/jw03730013001_03101_00001-seg005_mirimage_a3001_crfints.fits\n"
     ]
    },
    {
     "name": "stderr",
     "output_type": "stream",
     "text": [
      "2025-05-13 14:12:15,757 - stpipe.Tso3Pipeline.tso_photometry - INFO - Step tso_photometry running with args (<CubeModel(234, 256, 256) from jw03730013001_03101_00001-seg001_mirimage_calints.fits>,).\n"
     ]
    },
    {
     "name": "stderr",
     "output_type": "stream",
     "text": [
      "2025-05-13 14:12:15,776 - CRDS - INFO -  Fetching  /home/runner/crds/references/jwst/miri/jwst_miri_tsophot_0001.asdf    1.1 K bytes  (1 / 1 files) (0 / 1.1 K bytes)\n"
     ]
    },
    {
     "name": "stderr",
     "output_type": "stream",
     "text": [
      "2025-05-13 14:12:16,079 - stpipe.Tso3Pipeline.tso_photometry - INFO - Step tso_photometry done\n"
     ]
    },
    {
     "name": "stderr",
     "output_type": "stream",
     "text": [
      "2025-05-13 14:12:16,217 - stpipe.Tso3Pipeline.tso_photometry - INFO - Step tso_photometry running with args (<CubeModel(234, 256, 256) from jw03730013001_03101_00001-seg002_mirimage_calints.fits>,).\n"
     ]
    },
    {
     "name": "stderr",
     "output_type": "stream",
     "text": [
      "2025-05-13 14:12:16,434 - stpipe.Tso3Pipeline.tso_photometry - INFO - Step tso_photometry done\n"
     ]
    },
    {
     "name": "stderr",
     "output_type": "stream",
     "text": [
      "2025-05-13 14:12:16,556 - stpipe.Tso3Pipeline.tso_photometry - INFO - Step tso_photometry running with args (<CubeModel(234, 256, 256) from jw03730013001_03101_00001-seg003_mirimage_calints.fits>,).\n"
     ]
    },
    {
     "name": "stderr",
     "output_type": "stream",
     "text": [
      "2025-05-13 14:12:16,772 - stpipe.Tso3Pipeline.tso_photometry - INFO - Step tso_photometry done\n"
     ]
    },
    {
     "name": "stderr",
     "output_type": "stream",
     "text": [
      "2025-05-13 14:12:16,894 - stpipe.Tso3Pipeline.tso_photometry - INFO - Step tso_photometry running with args (<CubeModel(234, 256, 256) from jw03730013001_03101_00001-seg004_mirimage_calints.fits>,).\n"
     ]
    },
    {
     "name": "stderr",
     "output_type": "stream",
     "text": [
      "2025-05-13 14:12:17,111 - stpipe.Tso3Pipeline.tso_photometry - INFO - Step tso_photometry done\n"
     ]
    },
    {
     "name": "stderr",
     "output_type": "stream",
     "text": [
      "2025-05-13 14:12:17,233 - stpipe.Tso3Pipeline.tso_photometry - INFO - Step tso_photometry running with args (<CubeModel(28, 256, 256) from jw03730013001_03101_00001-seg005_mirimage_calints.fits>,).\n"
     ]
    },
    {
     "name": "stderr",
     "output_type": "stream",
     "text": [
      "2025-05-13 14:12:17,285 - stpipe.Tso3Pipeline.tso_photometry - INFO - Step tso_photometry done\n"
     ]
    },
    {
     "name": "stderr",
     "output_type": "stream",
     "text": [
      "2025-05-13 14:12:17,289 - stpipe.Tso3Pipeline - INFO - Writing Level 3 photometry catalog ./imaging_demo_data/PID03730Obs013/stage3/Stage3_phot.ecsv\n"
     ]
    },
    {
     "name": "stderr",
     "output_type": "stream",
     "text": [
      "2025-05-13 14:12:17,326 - stpipe.Tso3Pipeline - INFO - Step Tso3Pipeline done\n"
     ]
    },
    {
     "name": "stderr",
     "output_type": "stream",
     "text": [
      "2025-05-13 14:12:17,326 - stpipe - INFO - Results used jwst version: 1.18.0\n"
     ]
    }
   ],
   "source": [
    "if do_tso3:\n",
    "    Tso3Pipeline.call(asnfile, output_dir=tso3_dir, steps=tso3dict, save_results=True)\n",
    "else:\n",
    "    print('Skipping Tso3 processing...')"
   ]
  },
  {
   "cell_type": "code",
   "execution_count": 27,
   "id": "ce569423",
   "metadata": {
    "execution": {
     "iopub.execute_input": "2025-05-13T14:12:17.330188Z",
     "iopub.status.busy": "2025-05-13T14:12:17.330030Z",
     "iopub.status.idle": "2025-05-13T14:12:17.332832Z",
     "shell.execute_reply": "2025-05-13T14:12:17.332472Z"
    }
   },
   "outputs": [
    {
     "name": "stdout",
     "output_type": "stream",
     "text": [
      "Runtime so far: 1446 seconds\n",
      "Runtime for Image3: 58 seconds\n"
     ]
    }
   ],
   "source": [
    "# Print out the time benchmark\n",
    "time1 = time.perf_counter()\n",
    "print(f\"Runtime so far: {time1 - time0:0.0f} seconds\")\n",
    "print(f\"Runtime for Image3: {time1 - time_tso3:0.0f} seconds\")"
   ]
  },
  {
   "cell_type": "markdown",
   "id": "cc4cb848",
   "metadata": {},
   "source": [
    "<hr style=\"border:1px solid gray\"> </hr>"
   ]
  },
  {
   "cell_type": "markdown",
   "id": "55dbedda",
   "metadata": {},
   "source": [
    "## 8. Visualize the photometric light curve\n",
    "\n",
    "Plot the extracted photometric light curve produced by the pipeline. For the demo mode example, note the handful of outliers that were not addressed by the Tso3 pipeline, as well as the systematic offset in flux level in the last segment of integrations."
   ]
  },
  {
   "cell_type": "code",
   "execution_count": 28,
   "id": "d0185e66",
   "metadata": {
    "execution": {
     "iopub.execute_input": "2025-05-13T14:12:17.334383Z",
     "iopub.status.busy": "2025-05-13T14:12:17.334114Z",
     "iopub.status.idle": "2025-05-13T14:12:17.636473Z",
     "shell.execute_reply": "2025-05-13T14:12:17.636090Z"
    }
   },
   "outputs": [
    {
     "data": {
      "image/png": "[encoded data removed]",
      "text/plain": [
       "<Figure size 1500x750 with 1 Axes>"
      ]
     },
     "metadata": {},
     "output_type": "display_data"
    }
   ],
   "source": [
    "if do_viz:\n",
    "    # Read in photometry file\n",
    "    phot_file = os.path.join(tso3_dir, 'Stage3_phot.ecsv')\n",
    "    data = ascii.read(phot_file, comment='#', delimiter=' ')\n",
    "\n",
    "    # Make normal plots\n",
    "    %matplotlib inline\n",
    "    # Interactive plots\n",
    "    #%matplotlib notebook\n",
    "\n",
    "    # Plot result\n",
    "    rc('axes', linewidth=2)\n",
    "    fig, ax = plt.subplots(1, 1, figsize=(10, 5), dpi=150)\n",
    "    ax.plot(data['MJD'], data['aperture_sum'], 'b.', ms=6)\n",
    "    plt.xlabel('MJD_UTC (d)')\n",
    "    plt.ylabel('Flux (Jy)')\n",
    "    plt.grid()\n",
    "    plt.tight_layout()\n",
    "    plt.savefig(os.path.join(tso3_dir, 'imaging_tso_example_lc.png'))"
   ]
  },
  {
   "cell_type": "markdown",
   "id": "42a59584",
   "metadata": {},
   "source": [
    "<hr style=\"border:1px solid gray\"> </hr>"
   ]
  },
  {
   "cell_type": "markdown",
   "id": "65b042aa",
   "metadata": {},
   "source": [
    "<img style=\"float: center;\" src=\"https://github.com/spacetelescope/jwst-pipeline-notebooks/raw/main/_static/stsci_footer.png\" alt=\"stsci_logo\" width=\"200px\"/> "
   ]
  }
 ],
 "metadata": {
  "kernelspec": {
   "display_name": "Python 3 (ipykernel)",
   "language": "python",
   "name": "python3"
  },
  "language_info": {
   "codemirror_mode": {
    "name": "ipython",
    "version": 3
   },
   "file_extension": ".py",
   "mimetype": "text/x-python",
   "name": "python",
   "nbconvert_exporter": "python",
   "pygments_lexer": "ipython3",
   "version": "3.13.2"
  }
 },
 "nbformat": 4,
 "nbformat_minor": 5
}
