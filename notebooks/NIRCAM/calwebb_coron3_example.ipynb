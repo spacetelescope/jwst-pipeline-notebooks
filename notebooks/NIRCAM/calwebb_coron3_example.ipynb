{
 "cells": [
  {
   "cell_type": "markdown",
   "id": "d4692de1-3064-48e4-a065-bcf92e30af45",
   "metadata": {},
   "source": [
    "# Running the JWST coronagraphic pipeline (coron3)\n",
    "---\n",
    "**Author**: Ben Sunnquist (bsunnquist@stsci.edu)| **Latest Update**: 10 April 2024"
   ]
  },
  {
   "cell_type": "markdown",
   "id": "85c44ee7-a25d-41e4-8667-feae73a1aea2",
   "metadata": {},
   "source": [
    "<a id='top'></a>\n",
    "## Table of Contents\n",
    "* [Introduction](#intro)\n",
    "* [Pipeline Resources and Documentation](#resources)\n",
    "* [Imports](#imports)\n",
    "* [Data](#data)\n",
    "* [Run the coron3 pipeline](#default_pipeline)\n",
    "    * [Generate association file](#asn)\n",
    "    * [Run the pipeline](#pipeline)\n",
    "* [Run the coron3 pipeline using custom processing](#custom_pipeline)\n",
    "    * [Correct bad pixels](#image_custom)\n",
    "    * [Generate association file](#asn_custom)\n",
    "    * [Run the pipeline with custom settings](#pipeline_custom)"
   ]
  },
  {
   "cell_type": "markdown",
   "id": "cab2a8e7-c46b-4a3b-9ef0-38d30cf86a26",
   "metadata": {},
   "source": [
    "<a id='intro'></a>\n",
    "## Introduction"
   ]
  },
  {
   "cell_type": "markdown",
   "id": "ea84f5e8-96a6-48a3-8722-46f41afc6f7d",
   "metadata": {},
   "source": [
    "This notebook will show how to run the JWST stage 3 coronagraphic pipeline (coron3) on NIRCam data. The pipeline consists of the following 5 steps:\n",
    "1. `outlier_detection` flags outlier pixels in all input images\n",
    "2. `stack_refs` stacks all of the reference psf images together into a single product\n",
    "3. `align_refs` aligns all of the reference psf images to the science target images\n",
    "4. `klip` fits and subtracts a psf from each science target image\n",
    "5. `resample` combines all of the psf-subtracted science images into a single product"
   ]
  },
  {
   "cell_type": "markdown",
   "id": "4ddb9226-b69b-40bc-9b7f-277e53143749",
   "metadata": {},
   "source": [
    "<a id='resources'></a>\n",
    "## Pipeline Resources and Documentation"
   ]
  },
  {
   "cell_type": "markdown",
   "id": "2fc6b06e-d33c-4eb4-b419-9d6bc9f8c022",
   "metadata": {},
   "source": [
    "* [JWST Coronagraphic Pipeline Documentation](https://jwst-pipeline.readthedocs.io/en/latest/jwst/pipeline/calwebb_coron3.html) includes descriptions and parameters for all of the coronagraphic pipeline (coron3) steps.\n",
    "\n",
    "* [JWST Pipeline Github](https://github.com/spacetelescope/jwst) contains the source code and installation instructions for the pipeline.\n",
    "\n",
    "* [CRDS Reference Files](https://jwst-crds.stsci.edu/) is where all JWST reference files used by the pipeline are located.\n",
    "\n",
    "* Submit a ticket to the [Help Desk](https://stsci.service-now.com/jwst?id=sc_cat_item&sys_id=27a8af2fdbf2220033b55dd5ce9619cd&sysparm_category=e15706fc0a0a0aa7007fc21e1ab70c2f) if you have any questions or problems regarding the pipeline."
   ]
  },
  {
   "cell_type": "markdown",
   "id": "7695bd23-da57-4a6e-925c-5dc094fc43c8",
   "metadata": {},
   "source": [
    "<a id='imports'></a>\n",
    "## Imports"
   ]
  },
  {
   "cell_type": "code",
   "execution_count": null,
   "id": "4dfed8fa-97d1-4427-ba04-e7c07f8aef8a",
   "metadata": {},
   "outputs": [],
   "source": [
    "# How I made this environment:\n",
    "# conda create -n jwst1125 python=3.11 notebook\n",
    "# source activate jwst1125\n",
    "# pip install jwst==1.12.5\n",
    "# pip install astroquery\n",
    "\n",
    "import os\n",
    "os.environ['CRDS_PATH'] = './crds_cache/jwst_ops'  # set environment variables for reference files\n",
    "os.environ['CRDS_SERVER_URL'] = 'https://jwst-crds.stsci.edu'\n",
    "\n",
    "from astropy.convolution import convolve, Gaussian2DKernel\n",
    "from astropy.io import fits\n",
    "from astropy.stats import sigma_clipped_stats\n",
    "from astroquery.mast import Mast\n",
    "from astroquery.mast import Observations\n",
    "import glob\n",
    "import matplotlib.pyplot as plt\n",
    "from scipy.ndimage import binary_dilation\n",
    "\n",
    "import jwst\n",
    "from jwst.associations import asn_from_list\n",
    "from jwst.associations.lib.rules_level3 import Asn_Lv3NRCCoron\n",
    "from jwst.datamodels import dqflags\n",
    "from jwst.pipeline import Coron3Pipeline\n",
    "print('Using JWST Pipeline v{}'.format(jwst.__version__))"
   ]
  },
  {
   "cell_type": "markdown",
   "id": "c6fb858f-646d-4f22-9a04-7f112472fed7",
   "metadata": {},
   "source": [
    "<a id='data'></a>\n",
    "## Data"
   ]
  },
  {
   "cell_type": "markdown",
   "id": "26ac86eb-50ae-484e-bdef-8d2b16d3ced3",
   "metadata": {},
   "source": [
    "We'll use the NIRCam coronagraphic data from Early Release Science program 1386. The science target is HIP-65426 which is taken using 2 different roll angles in observations 2 and 3. These observations use the DEEP8 readout pattern with 2 integrations per exposure and 15 groups per intergration. The reference psf is HIP-68245 taken in observation 1 using a 9-POINT-CIRCLE dither pattern. This observation uses the MEDIUM8 readout pattern with 2 integrations per exposure and 4 groups per integration. All data is observed on the NRCALONG detector with the SUB320A335R subarray and uses the F444W filter and MASK335R round coronagraphic mask. We'll download the level 2b files, i.e. the _calints.fits files, as these are the necessary inputs into the coron3 pipeline."
   ]
  },
  {
   "cell_type": "code",
   "execution_count": null,
   "id": "c54fc787-320e-4a7f-8fdc-d02083966422",
   "metadata": {},
   "outputs": [],
   "source": [
    "# Download the relevant data from MAST\n",
    "\n",
    "params = {\"columns\": \"dataURI, filename\",\n",
    "          \"filters\": [{\"paramName\": \"program\", \"values\": ['1386']},\n",
    "                      {\"paramName\": \"observtn\", \"values\": ['1', '2', '3']},\n",
    "                      {\"paramName\": \"exp_type\", \"values\": ['NRC_CORON']},\n",
    "                      {\"paramName\": \"filter\", \"values\": ['F444W']},\n",
    "                      {\"paramName\": \"productLevel\", \"values\": ['2b']}]}\n",
    "t = Mast().service_request('Mast.Jwst.Filtered.Nircam', params)\n",
    "for row in t:\n",
    "    result = Observations().download_file(row['dataURI'], cache=False)"
   ]
  },
  {
   "cell_type": "markdown",
   "id": "7af92c47-1538-4c3e-a964-3b651f03a5fe",
   "metadata": {},
   "source": [
    "<a id='default_pipeline'></a>\n",
    "## Run the coron3 pipeline"
   ]
  },
  {
   "cell_type": "markdown",
   "id": "ceb8295c-7fa5-4645-8a3d-53e8aabcaba7",
   "metadata": {},
   "source": [
    "This section shows how to run the coron3 pipeline on NIRCam data using all of the default pipeline settings."
   ]
  },
  {
   "cell_type": "markdown",
   "id": "977c9985-b8d0-4e74-b23d-8384af2d4ed2",
   "metadata": {},
   "source": [
    "<a id='asn'></a>\n",
    "### Generate association file"
   ]
  },
  {
   "cell_type": "markdown",
   "id": "cf102537-0fe5-4b54-b091-807970f102d1",
   "metadata": {},
   "source": [
    "The input to the coron3 pipeline is an association file listing all of the relevant target and reference psfs, so we have to generate that first before running the pipeline."
   ]
  },
  {
   "cell_type": "code",
   "execution_count": null,
   "id": "94a8af56-27c4-4902-8dd5-1980d7fb92ac",
   "metadata": {},
   "outputs": [],
   "source": [
    "# Create an association file for the coron3 pipeline\n",
    "\n",
    "cal_files = sorted(glob.glob('*calints.fits'))\n",
    "asn = asn_from_list.asn_from_list(cal_files, rule=Asn_Lv3NRCCoron, product_name='HIP-65426_F444W')\n",
    "for member in asn['products'][0]['members']:  # observations 2 and 3 are the science targets, observation 1 is the reference psf\n",
    "    if fits.getheader(member['expname'])['IS_PSF']:\n",
    "        member['exptype'] = 'psf'\n",
    "    else:\n",
    "        member['exptype'] = 'science'\n",
    "asn.validity['has_psf']['validated'] = True  # set to True since psfs were added to the asn above\n",
    "asn['asn_type'] = 'coron3'\n",
    "with open('HIP-65426_F444W.json', 'w') as outfile:\n",
    "    outfile.write(asn.dump()[1])\n",
    "asn"
   ]
  },
  {
   "cell_type": "markdown",
   "id": "407e1801-a74e-4e81-9a63-b9a50ee790ff",
   "metadata": {},
   "source": [
    "<a id='pipeline'></a>\n",
    "### Run the pipeline"
   ]
  },
  {
   "cell_type": "markdown",
   "id": "3c2e7494-7867-43f1-8244-84c4b08a4f5f",
   "metadata": {},
   "source": [
    "Now, we can run the coron3 pipeline on the NIRCam data using the association file created above."
   ]
  },
  {
   "cell_type": "code",
   "execution_count": null,
   "id": "634c13b5-d5a3-4289-9f9a-600ed85f9703",
   "metadata": {
    "scrolled": true
   },
   "outputs": [],
   "source": [
    "# Run the coron3 pipeline\n",
    "\n",
    "result = Coron3Pipeline.call('HIP-65426_F444W.json', save_results=True)"
   ]
  },
  {
   "cell_type": "code",
   "execution_count": null,
   "id": "f45c163a-4188-4cc7-8e1b-daf61b9fd6b1",
   "metadata": {},
   "outputs": [],
   "source": [
    "# Inspect the psf-subtracted images generated in the coron3 pipeline run\n",
    "\n",
    "files = sorted(glob.glob('*_nrcalong_a3001_psfsub.fits'))\n",
    "grid = plt.GridSpec(2, 4, hspace=0.3, wspace=0.3)\n",
    "fig = plt.figure(figsize=(14, 7))\n",
    "\n",
    "# Plot the psf-subtracted science images for each roll and integration\n",
    "for roll in range(len(files)):\n",
    "    data = fits.getdata(files[roll])\n",
    "    for integ in range(data.shape[0]):\n",
    "        data_int = data[integ]\n",
    "        ax = fig.add_subplot(grid[roll, integ])\n",
    "        ax.imshow(data_int, vmin=-2, vmax=2, origin='lower', cmap='coolwarm')\n",
    "        ax.set_title('Roll {} Int {}'.format(roll+1, integ+1))\n",
    "\n",
    "# Plot the combined psf-subtracted science image\n",
    "ax = fig.add_subplot(grid[0:2, 2:4])\n",
    "data = fits.getdata('HIP-65426_F444W_i2d.fits')\n",
    "ax.imshow(data, vmin=-2, vmax=2, origin='lower', cmap='coolwarm')\n",
    "ax.set_title('Combined')"
   ]
  },
  {
   "cell_type": "markdown",
   "id": "a97312a7-da44-4acc-abb4-618888644387",
   "metadata": {},
   "source": [
    "<a id='custom_pipeline'></a>\n",
    "## Run the coron3 pipeline using custom processing"
   ]
  },
  {
   "cell_type": "markdown",
   "id": "29ab2f61-6443-4218-86b8-7ae13b27e9f3",
   "metadata": {},
   "source": [
    "This section shows an example on how to incorporate custom processing and pipeline settings to improve the final coron3 pipeline products."
   ]
  },
  {
   "cell_type": "markdown",
   "id": "901dbc99-a291-4c08-8838-9a7f9f5c054a",
   "metadata": {},
   "source": [
    "<a id='image_custom'></a>\n",
    "### Correct bad pixels"
   ]
  },
  {
   "cell_type": "markdown",
   "id": "3f75b469-360d-43b9-b168-d4c810d7f7b7",
   "metadata": {},
   "source": [
    "The quality of the psf alignments, fittings, and subtractions can be negatively impacted by bad pixels. The coron3 pipeline uses the information in each images' data quality arrays to smooth these bad pixels' values to minimize their impact during processing; however, if any bad pixels are not flagged in the data quality arrays they will not be accounted for in this processing and can still negatively impact the coron3 pipeline results. In this section, we'll search for bad pixels in each image and flag any that aren't already flagged in the images' data quality arrays to ensure their impacts are minimized in the coron3 pipeline run. More details on the various data quality flags can be found [here](https://jwst-pipeline.readthedocs.io/en/latest/jwst/references_general/references_general.html#data-quality-flags)."
   ]
  },
  {
   "cell_type": "code",
   "execution_count": null,
   "id": "cd8a9f91-5748-4c52-898b-e74204223eb7",
   "metadata": {
    "scrolled": true
   },
   "outputs": [],
   "source": [
    "# Find new bad pixels in each image and flag them as OTHER_BAD_PIXEL in the data quality arrays. These bad pixels\n",
    "# will be those with large differences between their original values and gaussian-smoothed values.\n",
    "\n",
    "files = sorted(glob.glob('*_calints.fits'))\n",
    "for file in files:\n",
    "    h = fits.open(file)\n",
    "    data = h['SCI'].data\n",
    "    dq = h['DQ'].data\n",
    "    for integ in range(data.shape[0]): \n",
    "        # Get the science and data quality arrays for this integration.\n",
    "        data_int = data[integ]\n",
    "        dq_int = dq[integ]\n",
    "        \n",
    "        # Gaussian-smooth the data. Known bad pixels not included in gaussian-fit; dq flags dilated to catch e.g. ipc.\n",
    "        mean, med, stddev = sigma_clipped_stats(data_int, sigma=3, maxiters=5)\n",
    "        data_int_bkgsub = data_int - med\n",
    "        data_conv = convolve(data_int_bkgsub, Gaussian2DKernel(x_stddev=2), mask=binary_dilation(dq_int, iterations=1) != 0)\n",
    "\n",
    "        # Flag pixels with large differences between original and gaussian-smoothed values. Also require their original\n",
    "        # values to be 3 sigma from background to avoid flagging pixels with very small absolute values, and only flag \n",
    "        # those that are not already flagged as OTHER_BAD_PIXEL.\n",
    "        diff = (data_int_bkgsub - data_conv) / data_conv\n",
    "        diff_mean, diff_med, diff_stddev = sigma_clipped_stats(diff, sigma=3, maxiters=5)\n",
    "        dq_int[(abs(diff) > 3*diff_stddev) & (abs(data_int_bkgsub) > 3*stddev) & (dq_int & dqflags.pixel['OTHER_BAD_PIXEL'] == 0)] += dqflags.pixel['OTHER_BAD_PIXEL']\n",
    "        \n",
    "        # Update the data quality array with the new bad pixels\n",
    "        h['DQ'].data[integ] = dq_int\n",
    "\n",
    "    # Write out the updated file\n",
    "    h.writeto(file.replace('.fits', '_mod.fits'), overwrite=True)\n",
    "    h.close()"
   ]
  },
  {
   "cell_type": "markdown",
   "id": "4c14c4e3-4a8f-4b32-bdf1-312c2f706f26",
   "metadata": {},
   "source": [
    "<a id='asn_custom'></a>\n",
    "### Generate association file"
   ]
  },
  {
   "cell_type": "markdown",
   "id": "4b3f54ba-7574-4252-b889-c2b217a2b99d",
   "metadata": {},
   "source": [
    "Now, we'll create an association file using these modified files for input into the coron3 pipeline."
   ]
  },
  {
   "cell_type": "code",
   "execution_count": null,
   "id": "b45ded66-1641-40c4-b30b-f9d01f42fefd",
   "metadata": {},
   "outputs": [],
   "source": [
    "# Create an association file for the coron3 pipeline\n",
    "\n",
    "cal_files = sorted(glob.glob('*calints_mod.fits'))\n",
    "asn = asn_from_list.asn_from_list(cal_files, rule=Asn_Lv3NRCCoron, product_name='HIP-65426_F444W_mod')\n",
    "for member in asn['products'][0]['members']:  # observations 2 and 3 are the science targets, observation 1 is the reference psf\n",
    "    if fits.getheader(member['expname'])['IS_PSF']:\n",
    "        member['exptype'] = 'psf'\n",
    "    else:\n",
    "        member['exptype'] = 'science'\n",
    "asn.validity['has_psf']['validated'] = True  # set to True since psfs were added to the asn above\n",
    "asn['asn_type'] = 'coron3'\n",
    "with open('HIP-65426_F444W_mod.json', 'w') as outfile:\n",
    "    outfile.write(asn.dump()[1])\n",
    "asn"
   ]
  },
  {
   "cell_type": "markdown",
   "id": "97ae1b09-e07f-4eba-b6a3-e8ad209925f5",
   "metadata": {},
   "source": [
    "<a id='pipeline_custom'></a>\n",
    "### Run the pipeline using custom settings"
   ]
  },
  {
   "cell_type": "markdown",
   "id": "e9cabfc8-01f3-45fc-a4a9-3d41364089c6",
   "metadata": {},
   "source": [
    "Finally, we'll run the coron3 pipeline. To ensure the pipeline treats the new bad pixels we flagged above as bad, we include the mnemonic we used to identify them (i.e. OTHER_BAD_PIXEL) in the bad_bits argument in the align_refs step because, by default, only pixels flagged DO_NOT_USE  are treated as bad. To further help catch any remaining bad pixels, we also reduce the SNR threshold in the outlier_detection step. All of the optional coron3 arguments and their descriptions can be found by clicking on the individual steps listed on the [JWST Coronagraphic Pipeline Documentation](https://jwst-pipeline.readthedocs.io/en/latest/jwst/pipeline/calwebb_coron3.html) page and then clicking on the Arguments section."
   ]
  },
  {
   "cell_type": "code",
   "execution_count": null,
   "id": "8128c7d9-8828-4f61-86a1-74180050a077",
   "metadata": {
    "scrolled": true
   },
   "outputs": [],
   "source": [
    "# Run the coron3 pipeline with custom pipeline settings\n",
    "\n",
    "result = Coron3Pipeline.call('HIP-65426_F444W_mod.json', save_results=True, \n",
    "                             steps={'outlier_detection': {'snr': '4.5 3.5'},\n",
    "                                    'align_refs': {'bad_bits': 'DO_NOT_USE, OTHER_BAD_PIXEL'}})"
   ]
  },
  {
   "cell_type": "code",
   "execution_count": null,
   "id": "e1a25430-ccd8-4629-9b7d-437819ca70b0",
   "metadata": {},
   "outputs": [],
   "source": [
    "# Inspect the psf-subtracted images generated in the custom coron3 pipeline run\n",
    "\n",
    "files = sorted(glob.glob('*_nrcalong_calints_mod_a3001_psfsub.fits'))\n",
    "grid = plt.GridSpec(2, 4, hspace=0.3, wspace=0.3)\n",
    "fig = plt.figure(figsize=(14, 7))\n",
    "\n",
    "# Plot the psf-subtracted science images for each roll and integration\n",
    "for roll in range(len(files)):\n",
    "    data = fits.getdata(files[roll])\n",
    "    for integ in range(data.shape[0]):\n",
    "        data_int = data[integ]\n",
    "        ax = fig.add_subplot(grid[roll, integ])\n",
    "        ax.imshow(data_int, vmin=-2, vmax=2, origin='lower', cmap='coolwarm')\n",
    "        ax.set_title('Roll {} Int {}'.format(roll+1, integ+1))\n",
    "\n",
    "# Plot the combined psf-subtracted science image\n",
    "ax = fig.add_subplot(grid[0:2, 2:4])\n",
    "data = fits.getdata('HIP-65426_F444W_mod_i2d.fits')\n",
    "ax.imshow(data, vmin=-2, vmax=2, origin='lower', cmap='coolwarm')\n",
    "ax.set_title('Combined')"
   ]
  },
  {
   "cell_type": "markdown",
   "id": "cdf53340-0f3f-499f-88ca-4d811968df16",
   "metadata": {},
   "source": [
    "[Top of Page](#top)\n",
    "<img style=\"float: right;\" src=\"https://raw.githubusercontent.com/spacetelescope/notebooks/master/assets/stsci_pri_combo_mark_horizonal_white_bkgd.png\" alt=\"Space Telescope Logo\" width=\"200px\"/> "
   ]
  }
 ],
 "metadata": {
  "kernelspec": {
   "display_name": "Python 3 (ipykernel)",
   "language": "python",
   "name": "python3"
  },
  "language_info": {
   "codemirror_mode": {
    "name": "ipython",
    "version": 3
   },
   "file_extension": ".py",
   "mimetype": "text/x-python",
   "name": "python",
   "nbconvert_exporter": "python",
   "pygments_lexer": "ipython3",
   "version": "3.11.5"
  }
 },
 "nbformat": 4,
 "nbformat_minor": 5
}
